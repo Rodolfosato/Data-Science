{
  "nbformat": 4,
  "nbformat_minor": 0,
  "metadata": {
    "kernelspec": {
      "display_name": "Python 3",
      "language": "python",
      "name": "python3"
    },
    "language_info": {
      "codemirror_mode": {
        "name": "ipython",
        "version": 3
      },
      "file_extension": ".py",
      "mimetype": "text/x-python",
      "name": "python",
      "nbconvert_exporter": "python",
      "pygments_lexer": "ipython3",
      "version": "3.7.3"
    },
    "colab": {
      "name": "Copia_de_Trabalho_Pratico_Final.ipynb",
      "provenance": [],
      "collapsed_sections": []
    }
  },
  "cells": [
    {
      "cell_type": "markdown",
      "metadata": {
        "id": "9cKOL6tBFd_R"
      },
      "source": [
        "# Trabalho Prático Final\n",
        "\n",
        "#### Valor: 30 pontos"
      ]
    },
    {
      "cell_type": "markdown",
      "metadata": {
        "id": "hX2F78TbFd_T"
      },
      "source": [
        "Fazer a importação do arquivo disponível em https://raw.githubusercontent.com/ironhack-datalabs/datalis0819/master/module-2/lab-tableau-data-visualization/data/countries-of-the-world.csv. A base de dados traz informações sobre os países do mundo."
      ]
    },
    {
      "cell_type": "code",
      "metadata": {
        "id": "3vEmTl3DFyXI"
      },
      "source": [
        "import pandas as pd\n",
        "import numpy as np\n",
        "import matplotlib.pyplot as plt\n",
        "pd.options.display.max_columns = None\n",
        "pd.options.display.max_rows = None\n",
        "dfpaises = pd.read_csv(\"https://raw.githubusercontent.com/ironhack-datalabs/datalis0819/master/module-2/lab-tableau-data-visualization/data/countries-of-the-world.csv\" , sep=\",\", comment=\"#\")\n",
        "dfpaises"
      ],
      "execution_count": null,
      "outputs": []
    },
    {
      "cell_type": "markdown",
      "metadata": {
        "id": "8PRj7bRfcaXu"
      },
      "source": [
        "1)Determinar a quantidade de países por região (Region).\n",
        "\n",
        "\n",
        "\n"
      ]
    },
    {
      "cell_type": "code",
      "metadata": {
        "id": "Me4Jv5HMdxD1"
      },
      "source": [
        "dfpaises[\"Region\"].value_counts(dropna=False)"
      ],
      "execution_count": null,
      "outputs": []
    },
    {
      "cell_type": "markdown",
      "metadata": {
        "id": "VEqNDxEIca9N"
      },
      "source": [
        "2) Determinar quantos países possuem mais de 100 milhoẽs de habitantes."
      ]
    },
    {
      "cell_type": "code",
      "metadata": {
        "id": "u8d1uuMncbK6"
      },
      "source": [
        "dfpaises[dfpaises[\"Population\"] > 100000000]\n",
        "#dfpaises[dfpaises[\"Population\"] > 100000000].count()"
      ],
      "execution_count": null,
      "outputs": []
    },
    {
      "cell_type": "markdown",
      "metadata": {
        "id": "KeAs6hMwcb8c"
      },
      "source": [
        "3) Apresentar a mediana da mortalidade infantil."
      ]
    },
    {
      "cell_type": "code",
      "metadata": {
        "id": "f9N5acg8ccIE"
      },
      "source": [
        "media = dfpaises[\"Infant mortality (per 1000 births)\"].str.replace(',','.').astype(float)\n",
        "media.dropna()\n",
        "media.median()\n",
        "media"
      ],
      "execution_count": null,
      "outputs": []
    },
    {
      "cell_type": "markdown",
      "metadata": {
        "id": "rWQdxezccmNm"
      },
      "source": [
        "4) A mediana do percentual de área costeira."
      ]
    },
    {
      "cell_type": "code",
      "metadata": {
        "id": "sXV8TGpRcmWA"
      },
      "source": [
        "media = dfpaises[\"Coastline (coast/area ratio)\"].str.replace(',','.').astype(float)\n",
        "media.dropna()\n",
        "media.median()\n",
        "media"
      ],
      "execution_count": null,
      "outputs": []
    },
    {
      "cell_type": "markdown",
      "metadata": {
        "id": "iI0hqVG7abR7"
      },
      "source": [
        "5) Os percentis de 10 e 90% da taxa de mortalidade (Deathrate)."
      ]
    },
    {
      "cell_type": "code",
      "metadata": {
        "id": "LyzNQSzPabR7"
      },
      "source": [
        "dfmort = dfpaises[dfpaises[\"Deathrate\"].str.replace(',','.').astype(float) > 10]\n",
        "dfmort = dfmort[dfmort[\"Deathrate\"].str.replace(',','.').astype(float) < 90]\n",
        "#dfmort = dfpaises[dfpaises[\"Deathrate\"].str.replace(',','.').astype(float) == 10]\n",
        "#dfmort = dfmort[dfmort[\"Deathrate\"].str.replace(',','.').astype(float) == 90]\n",
        "#não entendi muito bem se era entre ou sendo igual 10 e 90\n",
        "dfmort"
      ],
      "execution_count": null,
      "outputs": []
    },
    {
      "cell_type": "markdown",
      "metadata": {
        "id": "l6PlQ7r2abR7"
      },
      "source": [
        "6) Obter a correlação entre mortalidade infantil e renda per capita.\n",
        "\n"
      ]
    },
    {
      "cell_type": "code",
      "metadata": {
        "id": "x0O1WqvAabR7"
      },
      "source": [
        "dfmortrenda = dfpaises.iloc[:,7:9]\n",
        "dfmortrenda.corr()"
      ],
      "execution_count": null,
      "outputs": []
    },
    {
      "cell_type": "markdown",
      "metadata": {
        "id": "lRvL1_chabR7"
      },
      "source": [
        "7) A linha do país com a maior área.\n"
      ]
    },
    {
      "cell_type": "code",
      "metadata": {
        "id": "U3Usa9cYabR7"
      },
      "source": [
        "dfpaises[dfpaises[\"Area (sq. mi.)\"] == dfpaises[\"Area (sq. mi.)\"].max()]"
      ],
      "execution_count": null,
      "outputs": []
    },
    {
      "cell_type": "markdown",
      "metadata": {
        "id": "rc34Yh3dabR7"
      },
      "source": [
        "8) A linha do país com mais telefones.\n"
      ]
    },
    {
      "cell_type": "code",
      "metadata": {
        "id": "RDQyl7htabR7"
      },
      "source": [
        "dftel = dfpaises[\"Phones (per 1000)\"].str.replace(',','.').astype(float)\n",
        "dfpaises[dftel == dftel.max()]"
      ],
      "execution_count": null,
      "outputs": []
    },
    {
      "cell_type": "markdown",
      "metadata": {
        "id": "oL2B4cnNabR7"
      },
      "source": [
        "9) Os 5 países mais alfabetizados."
      ]
    },
    {
      "cell_type": "code",
      "metadata": {
        "id": "mjJ6JuOsabR8"
      },
      "source": [
        "dfalfabetizacao = dfpaises.sort_values(by=\"Literacy (%)\",ascending=True)\n",
        "dfalfabetizacao.head(5)"
      ],
      "execution_count": null,
      "outputs": []
    },
    {
      "cell_type": "markdown",
      "metadata": {
        "id": "VirLYQ1ibMFo"
      },
      "source": [
        "10) Os 10 países menos industrializados."
      ]
    },
    {
      "cell_type": "code",
      "metadata": {
        "id": "Z33aaNXQaZz8"
      },
      "source": [
        "dfind = dfpaises.sort_values(by=\"Industry\",ascending=False)\n",
        "dfind.head(10)"
      ],
      "execution_count": null,
      "outputs": []
    },
    {
      "cell_type": "markdown",
      "metadata": {
        "id": "3oY7Bj5KbTyN"
      },
      "source": [
        "11) Filtrar os países que possuem clima igual a 3"
      ]
    },
    {
      "cell_type": "code",
      "metadata": {
        "id": "gi4JrAD7bvTm"
      },
      "source": [
        "dfpaises[dfpaises[\"Climate\"] == '3']"
      ],
      "execution_count": null,
      "outputs": []
    },
    {
      "cell_type": "markdown",
      "metadata": {
        "id": "HH1sGemrbUeH"
      },
      "source": [
        "12) Imputar o valor 0 nos campos faltantes (missings) para as colunas: Agriculture, Industry e Service"
      ]
    },
    {
      "cell_type": "code",
      "metadata": {
        "id": "JKmGDS4EbwiJ"
      },
      "source": [
        "dfpaises.update(dfpaises['Agriculture'].fillna(0))\n",
        "dfpaises.update(dfpaises['Industry'].fillna(0))\n",
        "dfpaises.update(dfpaises['Service'].fillna(0))"
      ],
      "execution_count": null,
      "outputs": []
    },
    {
      "cell_type": "markdown",
      "metadata": {
        "id": "38cIy6MgbVFx"
      },
      "source": [
        "13) Altera o clima para \n",
        "  * [0, 2[ -> \"Tropical Seco\"\n",
        "  * [2, 3[ -> \"Tropical Úmido\"\n",
        "  * [3, 4[ -> \"Temperado Úmido\"\n",
        "  * 4 -> \"Verões Quentes\""
      ]
    },
    {
      "cell_type": "code",
      "metadata": {
        "id": "Lmldwo7NbxQS"
      },
      "source": [
        "dfpaises[\"Climate\"] = dfpaises[\"Climate\"].replace([\"1\",\"1,5\",\"2\",\"2,5\",\"3\",\"4\"],['Tropical Seco','Tropical Seco','Tropical Úmido','Tropical Úmido', \"Temperado Úmido\",\"Verões Quentes\"])\n",
        "dfpaises"
      ],
      "execution_count": null,
      "outputs": []
    },
    {
      "cell_type": "markdown",
      "metadata": {
        "id": "RVcFc3NXbVlr"
      },
      "source": [
        "14) Criar um variável com faixa alfabetização (Literacy) em grupos de 10%"
      ]
    },
    {
      "cell_type": "code",
      "metadata": {
        "id": "p21jYFifbxp5"
      },
      "source": [
        "dfalf = dfpaises[\"Literacy (%)\"].str.replace(',','.').astype(float)\n",
        "bin_labels = labels = ['0 to 10', '11 to 20','21 to 30','31 to 40','41 to 50','51 to 60','61 to 70','71 to 80','81 to 90','91 to 100']\n",
        "dfpaises[\"Faixa_Alfabetizacao\"] = pd.cut(x=dfalf, bins=[0,10,20,30,40,50,60,70,80,90,100], labels=bin_labels)"
      ],
      "execution_count": 4,
      "outputs": []
    },
    {
      "cell_type": "markdown",
      "metadata": {
        "id": "Me0DPU45aZz8"
      },
      "source": [
        "15) Determinar a quantidade de países em cada grupo criado no exercício acima\n"
      ]
    },
    {
      "cell_type": "code",
      "metadata": {
        "id": "85BHmX7NbySP"
      },
      "source": [
        "dfalfa = dfpaises.loc[:, [\"Faixa_Alfabetizacao\"]]\n",
        "dfalfa = dfalfa.value_counts()\n",
        "dfalfa"
      ],
      "execution_count": null,
      "outputs": []
    },
    {
      "cell_type": "markdown",
      "metadata": {
        "id": "6AkyX768hhBy"
      },
      "source": [
        "Exercício Extra (2 pontos): Plotar um gráfico de barras apresentando a quantidade de países em cada grupo criado no exercício 14"
      ]
    },
    {
      "cell_type": "code",
      "metadata": {
        "id": "oS-099qfhedi"
      },
      "source": [
        ""
      ],
      "execution_count": 43,
      "outputs": []
    }
  ]
}