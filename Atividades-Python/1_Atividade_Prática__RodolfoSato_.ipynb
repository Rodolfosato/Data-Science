{
  "nbformat": 4,
  "nbformat_minor": 0,
  "metadata": {
    "kernelspec": {
      "display_name": "Python 3",
      "language": "python",
      "name": "python3"
    },
    "language_info": {
      "codemirror_mode": {
        "name": "ipython",
        "version": 3
      },
      "file_extension": ".py",
      "mimetype": "text/x-python",
      "name": "python",
      "nbconvert_exporter": "python",
      "pygments_lexer": "ipython3",
      "version": "3.7.3"
    },
    "colab": {
      "name": "Cópia de Aula 01 - Atividade Prática - <Seu nome>.ipynb",
      "provenance": [],
      "collapsed_sections": []
    }
  },
  "cells": [
    {
      "cell_type": "markdown",
      "metadata": {
        "id": "8kih40y9pksj"
      },
      "source": [
        "# Atividade Prática - Aula 1\n",
        "#### Valor : 10 pontos"
      ]
    },
    {
      "cell_type": "markdown",
      "metadata": {
        "id": "nSqOopEApksl"
      },
      "source": [
        "### Faça os exercícios considerando a seguinte lista:"
      ]
    },
    {
      "cell_type": "code",
      "metadata": {
        "id": "8ZA2_XTzpksm"
      },
      "source": [
        "lista = [2, 29, 8, 98, 10, 3, -4, 9, 10]"
      ],
      "execution_count": 4,
      "outputs": []
    },
    {
      "cell_type": "markdown",
      "metadata": {
        "id": "bGv0VS7tpksr"
      },
      "source": [
        "#### Usando as funções apresentadas, faça de maneira dinâmica os seguintes exercícios:\n",
        "\n",
        "1) Imprima a soma do maior e o menor elemento da lista:"
      ]
    },
    {
      "cell_type": "code",
      "metadata": {
        "id": "jLlwCCF-pkss",
        "colab": {
          "base_uri": "https://localhost:8080/"
        },
        "outputId": "26ca69c7-2ea5-4259-88fe-bd5c140ec1b1"
      },
      "source": [
        "max(lista, key=int)"
      ],
      "execution_count": 5,
      "outputs": [
        {
          "output_type": "execute_result",
          "data": {
            "text/plain": [
              "98"
            ]
          },
          "metadata": {
            "tags": []
          },
          "execution_count": 5
        }
      ]
    },
    {
      "cell_type": "markdown",
      "metadata": {
        "id": "PuArl5-0pksw"
      },
      "source": [
        "2) Imprima o número de ocorrências do maior elemento da lista:"
      ]
    },
    {
      "cell_type": "code",
      "metadata": {
        "id": "4JNGQDOzpksx",
        "colab": {
          "base_uri": "https://localhost:8080/"
        },
        "outputId": "504bfdc8-95fe-42f4-a980-911b99a9be2c"
      },
      "source": [
        "lista.count(max(lista, key=int))"
      ],
      "execution_count": 6,
      "outputs": [
        {
          "output_type": "execute_result",
          "data": {
            "text/plain": [
              "1"
            ]
          },
          "metadata": {
            "tags": []
          },
          "execution_count": 6
        }
      ]
    },
    {
      "cell_type": "markdown",
      "metadata": {
        "id": "tv1uvGmmpks1"
      },
      "source": [
        "3) Imprima o elemento no meio da lista:"
      ]
    },
    {
      "cell_type": "code",
      "metadata": {
        "id": "813Zv_NRpks2",
        "colab": {
          "base_uri": "https://localhost:8080/"
        },
        "outputId": "adf6b01e-1362-45c1-fb0e-2f8407265735"
      },
      "source": [
        "meiolista = len(lista)\n",
        "x = meiolista //2\n",
        "s = lista[x]\n",
        "print(s)"
      ],
      "execution_count": 7,
      "outputs": [
        {
          "output_type": "stream",
          "text": [
            "10\n"
          ],
          "name": "stdout"
        }
      ]
    },
    {
      "cell_type": "markdown",
      "metadata": {
        "id": "8PBchreRpks6"
      },
      "source": [
        "4) Imprima o maior elemento da lista elevado ao quadrado:"
      ]
    },
    {
      "cell_type": "code",
      "metadata": {
        "id": "fVonma4Ypks6",
        "colab": {
          "base_uri": "https://localhost:8080/"
        },
        "outputId": "43acb6b1-b6fe-4ca5-b4b5-fe2bc42c10a9"
      },
      "source": [
        "maiornumero = max(lista, key=int)\n",
        "maiornumero = maiornumero * maiornumero\n",
        "print(maiornumero)"
      ],
      "execution_count": null,
      "outputs": [
        {
          "output_type": "stream",
          "text": [
            "9604\n"
          ],
          "name": "stdout"
        }
      ]
    },
    {
      "cell_type": "markdown",
      "metadata": {
        "id": "P8viaLzmpks-"
      },
      "source": [
        "5) Crie uma lista com todos os números pares de 0 até 1000."
      ]
    },
    {
      "cell_type": "code",
      "metadata": {
        "id": "shBICn7ipks-"
      },
      "source": [
        "x = 0\n",
        "lista = []\n",
        "\n",
        "while x <= 1000:\n",
        "     if x % 2 == 0:\n",
        "         lista.append(x)\n",
        "     x = x + 1"
      ],
      "execution_count": null,
      "outputs": []
    },
    {
      "cell_type": "markdown",
      "metadata": {
        "id": "i4B06benpktC"
      },
      "source": [
        "6) Crie uma lista com todos os números ímpares de 0 até 10.000."
      ]
    },
    {
      "cell_type": "code",
      "metadata": {
        "id": "Y_jdoNpxpktD"
      },
      "source": [
        "x = 0\n",
        "lista = []\n",
        "\n",
        "while x <= 10000:\n",
        "     if x % 2 == 1:\n",
        "         lista.append(x)\n",
        "     x = x + 1"
      ],
      "execution_count": null,
      "outputs": []
    },
    {
      "cell_type": "markdown",
      "metadata": {
        "id": "XFAJxyGopktG"
      },
      "source": [
        "7) Imprima o valor da média de todos os elementos da lista."
      ]
    },
    {
      "cell_type": "code",
      "metadata": {
        "id": "ygtDxX0FpktG",
        "colab": {
          "base_uri": "https://localhost:8080/"
        },
        "outputId": "2a2f52cc-b7d2-4919-e5d3-a3517c23e9f4"
      },
      "source": [
        "media = 0\n",
        "media = sum(lista) / len(lista)\n",
        "print(media)"
      ],
      "execution_count": null,
      "outputs": [
        {
          "output_type": "stream",
          "text": [
            "500.0\n"
          ],
          "name": "stdout"
        }
      ]
    },
    {
      "cell_type": "markdown",
      "metadata": {
        "id": "VpLxhb4JpktK"
      },
      "source": [
        "8) Crie 3 tuplas para representar as informações de alunos em uma disciplina, cada tupla deverá conter o nome do aluno seguido de suas duas notas."
      ]
    },
    {
      "cell_type": "code",
      "metadata": {
        "id": "2aYufowapktK"
      },
      "source": [
        "aluno1 = ('Portugues', 'Rodolfo', 10, 9)\n",
        "aluno2 = ('Programação', 'Akilles', 3, 1)\n",
        "aluno3 = ('Educação Fisica', 'Lucas', 8, 6)"
      ],
      "execution_count": 16,
      "outputs": []
    },
    {
      "cell_type": "markdown",
      "metadata": {
        "id": "OkuOWXPGpktP"
      },
      "source": [
        "9) Imprima a soma das notas de cada aluno do exercício 8, use as variáveis criadas por você:"
      ]
    },
    {
      "cell_type": "code",
      "metadata": {
        "id": "6f87MTkFKf2Y",
        "colab": {
          "base_uri": "https://localhost:8080/"
        },
        "outputId": "bbf4120a-1b5b-4e90-9674-7aa41198afce"
      },
      "source": [
        "soma1 = aluno1[2] + aluno1[3]\n",
        "soma2 = aluno2[2] + aluno2[3]\n",
        "soma3 = aluno3[2] + aluno3[3] \n",
        "\n",
        "print(soma1, soma2, soma3)"
      ],
      "execution_count": 17,
      "outputs": [
        {
          "output_type": "stream",
          "text": [
            "19 4 14\n"
          ],
          "name": "stdout"
        }
      ]
    },
    {
      "cell_type": "markdown",
      "metadata": {
        "id": "dL5CJjvZpktT"
      },
      "source": [
        "10) Imprima o nome e a maior nota de cada aluno do exercício 8, use as variáveis criadas por você:"
      ]
    },
    {
      "cell_type": "code",
      "metadata": {
        "id": "tsNqK5wnpktU",
        "colab": {
          "base_uri": "https://localhost:8080/"
        },
        "outputId": "035c9cbe-e9d2-445e-e5a6-e8ead058bf2c"
      },
      "source": [
        "maiornota1 = 0\n",
        "maiornota2 = 0\n",
        "maiornota3 = 0\n",
        "\n",
        "if aluno1[2] > aluno1[3] :\n",
        "  maiornota1 = aluno1[2]\n",
        "  print('Nome: ' + str(aluno1[1]) + '\\nMaior nota: ' + str(maiornota1))\n",
        "else :\n",
        "  maiornota1 = aluno1[3]\n",
        "  print('Nome: ' + str(aluno1[1]) + '\\nMaior nota: ' + str(maiornota1))\n",
        "if aluno2[2] > aluno2[3] :\n",
        "  maiornota2 = aluno2[2]\n",
        "  print('\\nNome: ' + str(aluno2[1]) + '\\nMaior nota: ' + str(maiornota2))\n",
        "else :\n",
        "  maiornota2 = aluno2[3]\n",
        "  print('Nome: ' + str(aluno2[1]) + '\\nMaior nota: ' + str(maiornota2))\n",
        "if aluno3[2] > aluno3[3] :\n",
        "  maiornota3 = aluno3[2]\n",
        "  print('\\nNome: ' + str(aluno3[1]) + '\\nMaior nota: ' + str(maiornota3))\n",
        "else :\n",
        "  maiornota3 = aluno3[3]\n",
        "  print('Nome: ' + str(aluno3[1]) + '\\nMaior nota: ' + str(maiornota3))"
      ],
      "execution_count": 31,
      "outputs": [
        {
          "output_type": "stream",
          "text": [
            "Nome: Rodolfo\n",
            "Maior nota: 10\n",
            "\n",
            "Nome: Akilles\n",
            "Maior nota: 3\n",
            "\n",
            "Nome: Lucas\n",
            "Maior nota: 8\n"
          ],
          "name": "stdout"
        }
      ]
    },
    {
      "cell_type": "markdown",
      "metadata": {
        "id": "ZFvXTstUxeWI"
      },
      "source": [
        "#### **Boa sorte!**"
      ]
    }
  ]
}