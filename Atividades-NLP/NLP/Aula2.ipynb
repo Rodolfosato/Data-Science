{
  "nbformat": 4,
  "nbformat_minor": 0,
  "metadata": {
    "kernelspec": {
      "display_name": "Python 3",
      "language": "python",
      "name": "python3"
    },
    "language_info": {
      "codemirror_mode": {
        "name": "ipython",
        "version": 3
      },
      "file_extension": ".py",
      "mimetype": "text/x-python",
      "name": "python",
      "nbconvert_exporter": "python",
      "pygments_lexer": "ipython3",
      "version": "3.6.5"
    },
    "colab": {
      "name": "Aula2.ipynb",
      "provenance": [],
      "collapsed_sections": []
    }
  },
  "cells": [
    {
      "cell_type": "code",
      "metadata": {
        "collapsed": true,
        "id": "TfMtJgRJAC2s",
        "colab": {
          "base_uri": "https://localhost:8080/"
        },
        "outputId": "f655b3d0-f03e-4195-f28c-a6e71c895729"
      },
      "source": [
        "!pip install nltk==3.5\n",
        "!pip install gensim\n",
        "!pip install umap-learn\n",
        "!pip install wikipedia\n",
        "!pip install unidecode"
      ],
      "execution_count": 1,
      "outputs": [
        {
          "output_type": "stream",
          "name": "stdout",
          "text": [
            "Requirement already satisfied: nltk==3.5 in /usr/local/lib/python3.7/dist-packages (3.5)\n",
            "Requirement already satisfied: regex in /usr/local/lib/python3.7/dist-packages (from nltk==3.5) (2019.12.20)\n",
            "Requirement already satisfied: joblib in /usr/local/lib/python3.7/dist-packages (from nltk==3.5) (1.1.0)\n",
            "Requirement already satisfied: click in /usr/local/lib/python3.7/dist-packages (from nltk==3.5) (7.1.2)\n",
            "Requirement already satisfied: tqdm in /usr/local/lib/python3.7/dist-packages (from nltk==3.5) (4.62.3)\n",
            "Requirement already satisfied: gensim in /usr/local/lib/python3.7/dist-packages (3.6.0)\n",
            "Requirement already satisfied: smart-open>=1.2.1 in /usr/local/lib/python3.7/dist-packages (from gensim) (5.2.1)\n",
            "Requirement already satisfied: six>=1.5.0 in /usr/local/lib/python3.7/dist-packages (from gensim) (1.15.0)\n",
            "Requirement already satisfied: scipy>=0.18.1 in /usr/local/lib/python3.7/dist-packages (from gensim) (1.4.1)\n",
            "Requirement already satisfied: numpy>=1.11.3 in /usr/local/lib/python3.7/dist-packages (from gensim) (1.21.5)\n",
            "Requirement already satisfied: umap-learn in /usr/local/lib/python3.7/dist-packages (0.5.2)\n",
            "Requirement already satisfied: numba>=0.49 in /usr/local/lib/python3.7/dist-packages (from umap-learn) (0.51.2)\n",
            "Requirement already satisfied: numpy>=1.17 in /usr/local/lib/python3.7/dist-packages (from umap-learn) (1.21.5)\n",
            "Requirement already satisfied: tqdm in /usr/local/lib/python3.7/dist-packages (from umap-learn) (4.62.3)\n",
            "Requirement already satisfied: pynndescent>=0.5 in /usr/local/lib/python3.7/dist-packages (from umap-learn) (0.5.6)\n",
            "Requirement already satisfied: scikit-learn>=0.22 in /usr/local/lib/python3.7/dist-packages (from umap-learn) (1.0.2)\n",
            "Requirement already satisfied: scipy>=1.0 in /usr/local/lib/python3.7/dist-packages (from umap-learn) (1.4.1)\n",
            "Requirement already satisfied: llvmlite<0.35,>=0.34.0.dev0 in /usr/local/lib/python3.7/dist-packages (from numba>=0.49->umap-learn) (0.34.0)\n",
            "Requirement already satisfied: setuptools in /usr/local/lib/python3.7/dist-packages (from numba>=0.49->umap-learn) (57.4.0)\n",
            "Requirement already satisfied: joblib>=0.11 in /usr/local/lib/python3.7/dist-packages (from pynndescent>=0.5->umap-learn) (1.1.0)\n",
            "Requirement already satisfied: threadpoolctl>=2.0.0 in /usr/local/lib/python3.7/dist-packages (from scikit-learn>=0.22->umap-learn) (3.1.0)\n",
            "Requirement already satisfied: wikipedia in /usr/local/lib/python3.7/dist-packages (1.4.0)\n",
            "Requirement already satisfied: beautifulsoup4 in /usr/local/lib/python3.7/dist-packages (from wikipedia) (4.6.3)\n",
            "Requirement already satisfied: requests<3.0.0,>=2.0.0 in /usr/local/lib/python3.7/dist-packages (from wikipedia) (2.23.0)\n",
            "Requirement already satisfied: idna<3,>=2.5 in /usr/local/lib/python3.7/dist-packages (from requests<3.0.0,>=2.0.0->wikipedia) (2.10)\n",
            "Requirement already satisfied: certifi>=2017.4.17 in /usr/local/lib/python3.7/dist-packages (from requests<3.0.0,>=2.0.0->wikipedia) (2021.10.8)\n",
            "Requirement already satisfied: urllib3!=1.25.0,!=1.25.1,<1.26,>=1.21.1 in /usr/local/lib/python3.7/dist-packages (from requests<3.0.0,>=2.0.0->wikipedia) (1.24.3)\n",
            "Requirement already satisfied: chardet<4,>=3.0.2 in /usr/local/lib/python3.7/dist-packages (from requests<3.0.0,>=2.0.0->wikipedia) (3.0.4)\n",
            "Requirement already satisfied: unidecode in /usr/local/lib/python3.7/dist-packages (1.3.3)\n"
          ]
        }
      ]
    },
    {
      "cell_type": "code",
      "metadata": {
        "id": "A6V8u14WAC26"
      },
      "source": [
        "import re\n",
        "import nltk\n",
        "from nltk.util import ngrams\n",
        "from nltk.corpus import stopwords\n",
        "import wikipedia\n",
        "import string\n",
        "from unidecode import unidecode\n",
        "from nltk.tokenize import sent_tokenize\n",
        "from sklearn.feature_extraction.text import TfidfVectorizer\n",
        "from sklearn.feature_extraction.text import CountVectorizer\n",
        "import pandas as pd\n",
        "import urllib.request\n",
        "import bz2\n",
        "import gensim\n",
        "import warnings\n",
        "import numpy as np\n",
        "from gensim.models import word2vec\n",
        "from sklearn.manifold import TSNE\n",
        "from sklearn.decomposition import PCA\n",
        "import umap\n",
        "warnings.filterwarnings('ignore')\n",
        "\n",
        "import matplotlib.pyplot as plt\n",
        "%matplotlib inline"
      ],
      "execution_count": 2,
      "outputs": []
    },
    {
      "cell_type": "markdown",
      "metadata": {
        "id": "X2ZMw4zfAC3A"
      },
      "source": [
        "# Definição do Corpus"
      ]
    },
    {
      "cell_type": "markdown",
      "metadata": {
        "id": "Fumti3IlAC3B"
      },
      "source": [
        "## Base"
      ]
    },
    {
      "cell_type": "code",
      "metadata": {
        "id": "JhMedbmMAC3C"
      },
      "source": [
        "wikipedia.set_lang(\"pt\")\n",
        "bh = wikipedia.page(\"Belo Horizonte\")"
      ],
      "execution_count": 61,
      "outputs": []
    },
    {
      "cell_type": "code",
      "metadata": {
        "id": "eJ1WHOADAC3G"
      },
      "source": [
        "corpus = bh.content"
      ],
      "execution_count": 62,
      "outputs": []
    },
    {
      "cell_type": "markdown",
      "metadata": {
        "id": "TxnmUk2NAC3M"
      },
      "source": [
        "Selecionamos algumas frases do corpus de BH da wikipedia.\n",
        "\n",
        "Conside a lista abaixo como nosso corpus de documentos. Cada elemento da lista, considere como um único documento."
      ]
    },
    {
      "cell_type": "code",
      "metadata": {
        "id": "Pd4pTiK0AC3M"
      },
      "source": [
        "documentos = \\\n",
        "[\"Belo Horizonte é um município brasileiro e a capital do estado de Minas Gerais\",\n",
        "\"A populacao de Belo Horizonte é estimada em 2 501 576 habitantes, conforme estimativas do Instituto Brasileiro de Geografia e Estatística\",\n",
        "\"Belo Horizonte já foi indicada pelo Population Crisis Commitee, da ONU, como a metrópole com melhor qualidade de vida na América Latina\",\n",
        "\"Belo Horizonte é mundialmente conhecida e exerce significativa influência nacional e até internacional, seja do ponto de vista cultural, econômico ou político\",\n",
        "\"Belo Horizonte é a capital do segundo estado mais populoso do Brasil, Minas Gerais\"]"
      ],
      "execution_count": 63,
      "outputs": []
    },
    {
      "cell_type": "markdown",
      "metadata": {
        "id": "G1vjVVoYAC3T"
      },
      "source": [
        "## Preprocessamento"
      ]
    },
    {
      "cell_type": "markdown",
      "metadata": {
        "id": "V_MuzVllAC3U"
      },
      "source": [
        "<b> Atividade </b>\n",
        "\n",
        "1) Escreva uma método que realiza o pré-processamento da lista de <b>documentos</b>.\n",
        "\n",
        "O método deve, para cada documento:\n",
        "- tokenizar cada palavra\n",
        "- remover stopwords\n",
        "- remover números\n",
        "- remover pontuções\n",
        "- remover acentos"
      ]
    },
    {
      "cell_type": "code",
      "source": [
        "def pre_processamento(corpus):\n",
        "  print('tokenização')\n",
        "  corpus_new = re.findall(r\"\\w+(?:'\\w+)?|[^\\w\\s]\", corpus)\n",
        "  print('lowcase')\n",
        "  corpus_new = [t.lower() for t in corpus_new]\n",
        "  print('remover stopwords')\n",
        "  corpus_pt_stopworld = stopwords.words('portuguese')\n",
        "  corpus_new = [t for t in corpus_new if t not in corpus_pt_stopworld]\n",
        "  print('remover números')\n",
        "  corpus_new = [re.sub(r'\\d', '', t) for t in corpus_new]\n",
        "  print('remover pontuações')\n",
        "  corpus_new = [t for t in corpus_new if t not in string.punctuation]\n",
        "  print('remover acentos')\n",
        "  corpus_new = [unidecode(t) for t in corpus_new]\n",
        "\n",
        "  return corpus_new"
      ],
      "metadata": {
        "id": "aF8lRuIKrK1e"
      },
      "execution_count": 6,
      "outputs": []
    },
    {
      "cell_type": "code",
      "source": [
        "nltk.download('stopwords')"
      ],
      "metadata": {
        "id": "j26u7LoGHiH-",
        "colab": {
          "base_uri": "https://localhost:8080/"
        },
        "outputId": "e331fce7-d391-4c9e-f4fa-128d3bca4695"
      },
      "execution_count": 7,
      "outputs": [
        {
          "output_type": "stream",
          "name": "stderr",
          "text": [
            "[nltk_data] Downloading package stopwords to /root/nltk_data...\n",
            "[nltk_data]   Package stopwords is already up-to-date!\n"
          ]
        },
        {
          "output_type": "execute_result",
          "data": {
            "text/plain": [
              "True"
            ]
          },
          "metadata": {},
          "execution_count": 7
        }
      ]
    },
    {
      "cell_type": "code",
      "source": [
        "corpus_processado = [pre_processamento(frase) for frase in documentos]\n",
        "print(corpus_processado)"
      ],
      "metadata": {
        "colab": {
          "base_uri": "https://localhost:8080/"
        },
        "id": "bH7CmMEWHJN7",
        "outputId": "b51728ca-7fc2-42e2-fdf1-487f4e2831bc"
      },
      "execution_count": 8,
      "outputs": [
        {
          "output_type": "stream",
          "name": "stdout",
          "text": [
            "tokenização\n",
            "lowcase\n",
            "remover stopwords\n",
            "remover números\n",
            "remover pontuações\n",
            "remover acentos\n",
            "tokenização\n",
            "lowcase\n",
            "remover stopwords\n",
            "remover números\n",
            "remover pontuações\n",
            "remover acentos\n",
            "tokenização\n",
            "lowcase\n",
            "remover stopwords\n",
            "remover números\n",
            "remover pontuações\n",
            "remover acentos\n",
            "tokenização\n",
            "lowcase\n",
            "remover stopwords\n",
            "remover números\n",
            "remover pontuações\n",
            "remover acentos\n",
            "tokenização\n",
            "lowcase\n",
            "remover stopwords\n",
            "remover números\n",
            "remover pontuações\n",
            "remover acentos\n",
            "[['belo', 'horizonte', 'municipio', 'brasileiro', 'capital', 'estado', 'minas', 'gerais'], ['populacao', 'belo', 'horizonte', 'estimada', 'habitantes', 'conforme', 'estimativas', 'instituto', 'brasileiro', 'geografia', 'estatistica'], ['belo', 'horizonte', 'indicada', 'population', 'crisis', 'commitee', 'onu', 'metropole', 'melhor', 'qualidade', 'vida', 'america', 'latina'], ['belo', 'horizonte', 'mundialmente', 'conhecida', 'exerce', 'significativa', 'influencia', 'nacional', 'internacional', 'ponto', 'vista', 'cultural', 'economico', 'politico'], ['belo', 'horizonte', 'capital', 'segundo', 'estado', 'populoso', 'brasil', 'minas', 'gerais']]\n"
          ]
        }
      ]
    },
    {
      "cell_type": "markdown",
      "metadata": {
        "id": "O9fbyAieAC3j"
      },
      "source": [
        "# Representação Textual"
      ]
    },
    {
      "cell_type": "markdown",
      "metadata": {
        "id": "Bxy--9uzAC3x"
      },
      "source": [
        "### Phrases - Gensim\n",
        "\n",
        "Forma mais inteligente de calcular os bigrams. Ela calcula os bigramas levando em consideração a frequência do par das palavaras em todos os documentos.\n",
        "Para isso ele treina um modelo e depois aplica no corpus.\n",
        "\n",
        "```python\n",
        "#treinamento bigrams\n",
        "model_corpus_phrases = gensim.models.Phrases(corpus_processado, min_count=1)\n",
        "#calulando os bigrams do corpus processado\n",
        "bigram_corpus = model_corpus_phrases[corpus_processado]\n",
        "```\n",
        "\n",
        "<b> Atividade </b>\n",
        "\n",
        "2) Faça um código que treine os bigrams, sendo que o <b>min_count = 1</b>. \n",
        "O <b>min_count</b> é a contagem mínima que aquele par de palavras deve aparecer junto para considerarmos com um token. Teste também com outros valores de mim_count. Depois imprima os bigramas de cada documento.\n",
        "Use o corpus_processado."
      ]
    },
    {
      "cell_type": "code",
      "metadata": {
        "id": "JArQt0OPa_8J"
      },
      "source": [
        "model_corpus_phrases = gensim.models.Phrases(corpus_processado, min_count=1)\n",
        "bigram_corpus = model_corpus_phrases[corpus_processado]"
      ],
      "execution_count": 9,
      "outputs": []
    },
    {
      "cell_type": "code",
      "source": [
        "for i in range(0, len(bigram_corpus)):\n",
        "  print(\"Doc\", i)\n",
        "  print(bigram_corpus[i])\n",
        "  print(\" \")"
      ],
      "metadata": {
        "colab": {
          "base_uri": "https://localhost:8080/"
        },
        "id": "MMq1DIx8JN65",
        "outputId": "3f9a4f5e-6512-4b96-e780-f3dd142209f2"
      },
      "execution_count": 10,
      "outputs": [
        {
          "output_type": "stream",
          "name": "stdout",
          "text": [
            "Doc 0\n",
            "['belo_horizonte', 'municipio', 'brasileiro', 'capital', 'estado', 'minas_gerais']\n",
            " \n",
            "Doc 1\n",
            "['populacao', 'belo_horizonte', 'estimada', 'habitantes', 'conforme', 'estimativas', 'instituto', 'brasileiro', 'geografia', 'estatistica']\n",
            " \n",
            "Doc 2\n",
            "['belo_horizonte', 'indicada', 'population', 'crisis', 'commitee', 'onu', 'metropole', 'melhor', 'qualidade', 'vida', 'america', 'latina']\n",
            " \n",
            "Doc 3\n",
            "['belo_horizonte', 'mundialmente', 'conhecida', 'exerce', 'significativa', 'influencia', 'nacional', 'internacional', 'ponto', 'vista', 'cultural', 'economico', 'politico']\n",
            " \n",
            "Doc 4\n",
            "['belo_horizonte', 'capital', 'segundo', 'estado', 'populoso', 'brasil', 'minas_gerais']\n",
            " \n"
          ]
        }
      ]
    },
    {
      "cell_type": "markdown",
      "metadata": {
        "id": "jFHut-GWAC4L"
      },
      "source": [
        "## TD-IDF\n",
        "\n",
        "Dica de leitura: https://kavita-ganesan.com/tfidftransformer-tfidfvectorizer-usage-differences/#.XklQxnVKj7c\n",
        "\n",
        "Para representar o texto com TF-IDF utilizamos o TfidfVectorizer. A seguir apresentamos instruções sobre como utilizá-lo.\n",
        "\n",
        "```python\n",
        "#primeiro criamos o objeto\n",
        "vect = TfidfVectorizer()\n",
        "vect #aqui você pode observa todos os parâmetros que o objeto possui\n",
        "## Existem alguns parâmetros, opcionais, que podemos informar para uma possível melhora do nosso modelo. Por exemplo:\n",
        "### inclui 1-grams e 2-grams\n",
        "vect.set_params(ngram_range=(1, 2))\n",
        "### ignora termos que a aparecem em mais de 50% dos documentoss\n",
        "vect.set_params(max_df=0.5)\n",
        "### só considero termos que aparecem em ao menos 2 documentos\n",
        "vect.set_params(min_df=2)\n",
        "\n",
        "#depois aplicamos fit_transform para transformar o texto em números\n",
        "docs_tdidf = vect.fit_transform(docs)\n",
        "\n",
        "#o docs_tdidf é uma matriz com os números que representam cada um dos textos. \n",
        "## Conseguimos verificar a dimensão desta matriz:\n",
        "print(docs_tdidf.shape)\n",
        "\n",
        "#Para visualizar as features capturadas pelo TF-IDF utilize:\n",
        "print(vect.get_feature_names())\n",
        "#Para visualizar os vetores correspondentes a cada palavara utilize:\n",
        "df = pd.DataFrame(docs_tdidf.T.todense(), index=vect.get_feature_names(), columns=[\"doc\"+str(i+1) for i in range(0,len(docs))])\n",
        "df\n",
        "```"
      ]
    },
    {
      "cell_type": "markdown",
      "metadata": {
        "id": "jZD0n75gAC4M"
      },
      "source": [
        "<b> Atividade: </b>\n",
        "\n",
        "3) Faça o TDIFTVectorizer nos documentos da variável <b>documentos</b> sem alterar nenhum parâmetro. "
      ]
    },
    {
      "cell_type": "code",
      "metadata": {
        "id": "d6WMh8XBbClS"
      },
      "source": [
        "vect = TfidfVectorizer()\n",
        "vect\n",
        "docs_tdidf = vect.fit_transform(documentos)"
      ],
      "execution_count": 11,
      "outputs": []
    },
    {
      "cell_type": "markdown",
      "metadata": {
        "id": "AbTCuJzIAC4o"
      },
      "source": [
        "<b> Atividade </b>\n",
        "\n",
        "4) Imprima o shape do resultado da atividade 4"
      ]
    },
    {
      "cell_type": "code",
      "metadata": {
        "id": "mOL6Ajq9bD_C",
        "colab": {
          "base_uri": "https://localhost:8080/"
        },
        "outputId": "d023c723-8cdb-4ed5-89d4-a676fb3e3584"
      },
      "source": [
        "#Não entendi a pergunta direito, coloquei das duas formas\n",
        "print(docs_tdidf[4].shape)"
      ],
      "execution_count": 12,
      "outputs": [
        {
          "output_type": "stream",
          "name": "stdout",
          "text": [
            "(1, 59)\n"
          ]
        }
      ]
    },
    {
      "cell_type": "code",
      "source": [
        "print(docs_tdidf.shape)"
      ],
      "metadata": {
        "colab": {
          "base_uri": "https://localhost:8080/"
        },
        "id": "iuxYVih3Nkcl",
        "outputId": "76531807-535a-4769-99c7-ecfea34815c2"
      },
      "execution_count": 13,
      "outputs": [
        {
          "output_type": "stream",
          "name": "stdout",
          "text": [
            "(5, 59)\n"
          ]
        }
      ]
    },
    {
      "cell_type": "markdown",
      "metadata": {
        "id": "vQfYws4lAC4t"
      },
      "source": [
        "<b> Atividade </b>\n",
        "\n",
        "5) Imprima as features capturadas em 4."
      ]
    },
    {
      "cell_type": "code",
      "metadata": {
        "id": "eDrMtITzbEw2",
        "colab": {
          "base_uri": "https://localhost:8080/"
        },
        "outputId": "4b659cfc-b559-4222-ed51-afb6798eed11"
      },
      "source": [
        "print(vect.get_feature_names())"
      ],
      "execution_count": 117,
      "outputs": [
        {
          "output_type": "stream",
          "name": "stdout",
          "text": [
            "['501', '576', 'américa', 'até', 'belo', 'brasil', 'brasileiro', 'capital', 'com', 'commitee', 'como', 'conforme', 'conhecida', 'crisis', 'cultural', 'da', 'de', 'do', 'econômico', 'em', 'estado', 'estatística', 'estimada', 'estimativas', 'exerce', 'foi', 'geografia', 'gerais', 'habitantes', 'horizonte', 'indicada', 'influência', 'instituto', 'internacional', 'já', 'latina', 'mais', 'melhor', 'metrópole', 'minas', 'mundialmente', 'município', 'na', 'nacional', 'onu', 'ou', 'pelo', 'político', 'ponto', 'populacao', 'population', 'populoso', 'qualidade', 'segundo', 'seja', 'significativa', 'um', 'vida', 'vista']\n"
          ]
        }
      ]
    },
    {
      "cell_type": "markdown",
      "metadata": {
        "id": "6kcdd6_IAC4x"
      },
      "source": [
        "6) Imprima os vetores correspondentes a cada palavra de cada documento."
      ]
    },
    {
      "cell_type": "code",
      "metadata": {
        "id": "Oa9LfGTsbLoO",
        "colab": {
          "base_uri": "https://localhost:8080/",
          "height": 1000
        },
        "outputId": "df4d62e1-be52-4a27-ff21-a85d973dd407"
      },
      "source": [
        "df = pd.DataFrame(docs_tdidf.T.todense(), index=vect.get_feature_names(), columns=[\"doc\"+str(i+1) for i in range(0,len(documentos))])\n",
        "df"
      ],
      "execution_count": 15,
      "outputs": [
        {
          "output_type": "execute_result",
          "data": {
            "text/html": [
              "\n",
              "  <div id=\"df-d5261ca9-ca31-4ee8-af32-6d60c4cf2f8f\">\n",
              "    <div class=\"colab-df-container\">\n",
              "      <div>\n",
              "<style scoped>\n",
              "    .dataframe tbody tr th:only-of-type {\n",
              "        vertical-align: middle;\n",
              "    }\n",
              "\n",
              "    .dataframe tbody tr th {\n",
              "        vertical-align: top;\n",
              "    }\n",
              "\n",
              "    .dataframe thead th {\n",
              "        text-align: right;\n",
              "    }\n",
              "</style>\n",
              "<table border=\"1\" class=\"dataframe\">\n",
              "  <thead>\n",
              "    <tr style=\"text-align: right;\">\n",
              "      <th></th>\n",
              "      <th>doc1</th>\n",
              "      <th>doc2</th>\n",
              "      <th>doc3</th>\n",
              "      <th>doc4</th>\n",
              "      <th>doc5</th>\n",
              "    </tr>\n",
              "  </thead>\n",
              "  <tbody>\n",
              "    <tr>\n",
              "      <th>501</th>\n",
              "      <td>0.000000</td>\n",
              "      <td>0.270250</td>\n",
              "      <td>0.000000</td>\n",
              "      <td>0.000000</td>\n",
              "      <td>0.000000</td>\n",
              "    </tr>\n",
              "    <tr>\n",
              "      <th>576</th>\n",
              "      <td>0.000000</td>\n",
              "      <td>0.270250</td>\n",
              "      <td>0.000000</td>\n",
              "      <td>0.000000</td>\n",
              "      <td>0.000000</td>\n",
              "    </tr>\n",
              "    <tr>\n",
              "      <th>américa</th>\n",
              "      <td>0.000000</td>\n",
              "      <td>0.000000</td>\n",
              "      <td>0.230808</td>\n",
              "      <td>0.000000</td>\n",
              "      <td>0.000000</td>\n",
              "    </tr>\n",
              "    <tr>\n",
              "      <th>até</th>\n",
              "      <td>0.000000</td>\n",
              "      <td>0.000000</td>\n",
              "      <td>0.000000</td>\n",
              "      <td>0.249308</td>\n",
              "      <td>0.000000</td>\n",
              "    </tr>\n",
              "    <tr>\n",
              "      <th>belo</th>\n",
              "      <td>0.189192</td>\n",
              "      <td>0.128776</td>\n",
              "      <td>0.109981</td>\n",
              "      <td>0.118797</td>\n",
              "      <td>0.165125</td>\n",
              "    </tr>\n",
              "    <tr>\n",
              "      <th>brasil</th>\n",
              "      <td>0.000000</td>\n",
              "      <td>0.000000</td>\n",
              "      <td>0.000000</td>\n",
              "      <td>0.000000</td>\n",
              "      <td>0.346534</td>\n",
              "    </tr>\n",
              "    <tr>\n",
              "      <th>brasileiro</th>\n",
              "      <td>0.320330</td>\n",
              "      <td>0.218036</td>\n",
              "      <td>0.000000</td>\n",
              "      <td>0.000000</td>\n",
              "      <td>0.000000</td>\n",
              "    </tr>\n",
              "    <tr>\n",
              "      <th>capital</th>\n",
              "      <td>0.320330</td>\n",
              "      <td>0.000000</td>\n",
              "      <td>0.000000</td>\n",
              "      <td>0.000000</td>\n",
              "      <td>0.279581</td>\n",
              "    </tr>\n",
              "    <tr>\n",
              "      <th>com</th>\n",
              "      <td>0.000000</td>\n",
              "      <td>0.000000</td>\n",
              "      <td>0.230808</td>\n",
              "      <td>0.000000</td>\n",
              "      <td>0.000000</td>\n",
              "    </tr>\n",
              "    <tr>\n",
              "      <th>commitee</th>\n",
              "      <td>0.000000</td>\n",
              "      <td>0.000000</td>\n",
              "      <td>0.230808</td>\n",
              "      <td>0.000000</td>\n",
              "      <td>0.000000</td>\n",
              "    </tr>\n",
              "    <tr>\n",
              "      <th>como</th>\n",
              "      <td>0.000000</td>\n",
              "      <td>0.000000</td>\n",
              "      <td>0.230808</td>\n",
              "      <td>0.000000</td>\n",
              "      <td>0.000000</td>\n",
              "    </tr>\n",
              "    <tr>\n",
              "      <th>conforme</th>\n",
              "      <td>0.000000</td>\n",
              "      <td>0.270250</td>\n",
              "      <td>0.000000</td>\n",
              "      <td>0.000000</td>\n",
              "      <td>0.000000</td>\n",
              "    </tr>\n",
              "    <tr>\n",
              "      <th>conhecida</th>\n",
              "      <td>0.000000</td>\n",
              "      <td>0.000000</td>\n",
              "      <td>0.000000</td>\n",
              "      <td>0.249308</td>\n",
              "      <td>0.000000</td>\n",
              "    </tr>\n",
              "    <tr>\n",
              "      <th>crisis</th>\n",
              "      <td>0.000000</td>\n",
              "      <td>0.000000</td>\n",
              "      <td>0.230808</td>\n",
              "      <td>0.000000</td>\n",
              "      <td>0.000000</td>\n",
              "    </tr>\n",
              "    <tr>\n",
              "      <th>cultural</th>\n",
              "      <td>0.000000</td>\n",
              "      <td>0.000000</td>\n",
              "      <td>0.000000</td>\n",
              "      <td>0.249308</td>\n",
              "      <td>0.000000</td>\n",
              "    </tr>\n",
              "    <tr>\n",
              "      <th>da</th>\n",
              "      <td>0.000000</td>\n",
              "      <td>0.000000</td>\n",
              "      <td>0.230808</td>\n",
              "      <td>0.000000</td>\n",
              "      <td>0.000000</td>\n",
              "    </tr>\n",
              "    <tr>\n",
              "      <th>de</th>\n",
              "      <td>0.223686</td>\n",
              "      <td>0.304509</td>\n",
              "      <td>0.130033</td>\n",
              "      <td>0.140456</td>\n",
              "      <td>0.000000</td>\n",
              "    </tr>\n",
              "    <tr>\n",
              "      <th>do</th>\n",
              "      <td>0.223686</td>\n",
              "      <td>0.152254</td>\n",
              "      <td>0.000000</td>\n",
              "      <td>0.140456</td>\n",
              "      <td>0.390462</td>\n",
              "    </tr>\n",
              "    <tr>\n",
              "      <th>econômico</th>\n",
              "      <td>0.000000</td>\n",
              "      <td>0.000000</td>\n",
              "      <td>0.000000</td>\n",
              "      <td>0.249308</td>\n",
              "      <td>0.000000</td>\n",
              "    </tr>\n",
              "    <tr>\n",
              "      <th>em</th>\n",
              "      <td>0.000000</td>\n",
              "      <td>0.270250</td>\n",
              "      <td>0.000000</td>\n",
              "      <td>0.000000</td>\n",
              "      <td>0.000000</td>\n",
              "    </tr>\n",
              "    <tr>\n",
              "      <th>estado</th>\n",
              "      <td>0.320330</td>\n",
              "      <td>0.000000</td>\n",
              "      <td>0.000000</td>\n",
              "      <td>0.000000</td>\n",
              "      <td>0.279581</td>\n",
              "    </tr>\n",
              "    <tr>\n",
              "      <th>estatística</th>\n",
              "      <td>0.000000</td>\n",
              "      <td>0.270250</td>\n",
              "      <td>0.000000</td>\n",
              "      <td>0.000000</td>\n",
              "      <td>0.000000</td>\n",
              "    </tr>\n",
              "    <tr>\n",
              "      <th>estimada</th>\n",
              "      <td>0.000000</td>\n",
              "      <td>0.270250</td>\n",
              "      <td>0.000000</td>\n",
              "      <td>0.000000</td>\n",
              "      <td>0.000000</td>\n",
              "    </tr>\n",
              "    <tr>\n",
              "      <th>estimativas</th>\n",
              "      <td>0.000000</td>\n",
              "      <td>0.270250</td>\n",
              "      <td>0.000000</td>\n",
              "      <td>0.000000</td>\n",
              "      <td>0.000000</td>\n",
              "    </tr>\n",
              "    <tr>\n",
              "      <th>exerce</th>\n",
              "      <td>0.000000</td>\n",
              "      <td>0.000000</td>\n",
              "      <td>0.000000</td>\n",
              "      <td>0.249308</td>\n",
              "      <td>0.000000</td>\n",
              "    </tr>\n",
              "    <tr>\n",
              "      <th>foi</th>\n",
              "      <td>0.000000</td>\n",
              "      <td>0.000000</td>\n",
              "      <td>0.230808</td>\n",
              "      <td>0.000000</td>\n",
              "      <td>0.000000</td>\n",
              "    </tr>\n",
              "    <tr>\n",
              "      <th>geografia</th>\n",
              "      <td>0.000000</td>\n",
              "      <td>0.270250</td>\n",
              "      <td>0.000000</td>\n",
              "      <td>0.000000</td>\n",
              "      <td>0.000000</td>\n",
              "    </tr>\n",
              "    <tr>\n",
              "      <th>gerais</th>\n",
              "      <td>0.320330</td>\n",
              "      <td>0.000000</td>\n",
              "      <td>0.000000</td>\n",
              "      <td>0.000000</td>\n",
              "      <td>0.279581</td>\n",
              "    </tr>\n",
              "    <tr>\n",
              "      <th>habitantes</th>\n",
              "      <td>0.000000</td>\n",
              "      <td>0.270250</td>\n",
              "      <td>0.000000</td>\n",
              "      <td>0.000000</td>\n",
              "      <td>0.000000</td>\n",
              "    </tr>\n",
              "    <tr>\n",
              "      <th>horizonte</th>\n",
              "      <td>0.189192</td>\n",
              "      <td>0.128776</td>\n",
              "      <td>0.109981</td>\n",
              "      <td>0.118797</td>\n",
              "      <td>0.165125</td>\n",
              "    </tr>\n",
              "    <tr>\n",
              "      <th>indicada</th>\n",
              "      <td>0.000000</td>\n",
              "      <td>0.000000</td>\n",
              "      <td>0.230808</td>\n",
              "      <td>0.000000</td>\n",
              "      <td>0.000000</td>\n",
              "    </tr>\n",
              "    <tr>\n",
              "      <th>influência</th>\n",
              "      <td>0.000000</td>\n",
              "      <td>0.000000</td>\n",
              "      <td>0.000000</td>\n",
              "      <td>0.249308</td>\n",
              "      <td>0.000000</td>\n",
              "    </tr>\n",
              "    <tr>\n",
              "      <th>instituto</th>\n",
              "      <td>0.000000</td>\n",
              "      <td>0.270250</td>\n",
              "      <td>0.000000</td>\n",
              "      <td>0.000000</td>\n",
              "      <td>0.000000</td>\n",
              "    </tr>\n",
              "    <tr>\n",
              "      <th>internacional</th>\n",
              "      <td>0.000000</td>\n",
              "      <td>0.000000</td>\n",
              "      <td>0.000000</td>\n",
              "      <td>0.249308</td>\n",
              "      <td>0.000000</td>\n",
              "    </tr>\n",
              "    <tr>\n",
              "      <th>já</th>\n",
              "      <td>0.000000</td>\n",
              "      <td>0.000000</td>\n",
              "      <td>0.230808</td>\n",
              "      <td>0.000000</td>\n",
              "      <td>0.000000</td>\n",
              "    </tr>\n",
              "    <tr>\n",
              "      <th>latina</th>\n",
              "      <td>0.000000</td>\n",
              "      <td>0.000000</td>\n",
              "      <td>0.230808</td>\n",
              "      <td>0.000000</td>\n",
              "      <td>0.000000</td>\n",
              "    </tr>\n",
              "    <tr>\n",
              "      <th>mais</th>\n",
              "      <td>0.000000</td>\n",
              "      <td>0.000000</td>\n",
              "      <td>0.000000</td>\n",
              "      <td>0.000000</td>\n",
              "      <td>0.346534</td>\n",
              "    </tr>\n",
              "    <tr>\n",
              "      <th>melhor</th>\n",
              "      <td>0.000000</td>\n",
              "      <td>0.000000</td>\n",
              "      <td>0.230808</td>\n",
              "      <td>0.000000</td>\n",
              "      <td>0.000000</td>\n",
              "    </tr>\n",
              "    <tr>\n",
              "      <th>metrópole</th>\n",
              "      <td>0.000000</td>\n",
              "      <td>0.000000</td>\n",
              "      <td>0.230808</td>\n",
              "      <td>0.000000</td>\n",
              "      <td>0.000000</td>\n",
              "    </tr>\n",
              "    <tr>\n",
              "      <th>minas</th>\n",
              "      <td>0.320330</td>\n",
              "      <td>0.000000</td>\n",
              "      <td>0.000000</td>\n",
              "      <td>0.000000</td>\n",
              "      <td>0.279581</td>\n",
              "    </tr>\n",
              "    <tr>\n",
              "      <th>mundialmente</th>\n",
              "      <td>0.000000</td>\n",
              "      <td>0.000000</td>\n",
              "      <td>0.000000</td>\n",
              "      <td>0.249308</td>\n",
              "      <td>0.000000</td>\n",
              "    </tr>\n",
              "    <tr>\n",
              "      <th>município</th>\n",
              "      <td>0.397041</td>\n",
              "      <td>0.000000</td>\n",
              "      <td>0.000000</td>\n",
              "      <td>0.000000</td>\n",
              "      <td>0.000000</td>\n",
              "    </tr>\n",
              "    <tr>\n",
              "      <th>na</th>\n",
              "      <td>0.000000</td>\n",
              "      <td>0.000000</td>\n",
              "      <td>0.230808</td>\n",
              "      <td>0.000000</td>\n",
              "      <td>0.000000</td>\n",
              "    </tr>\n",
              "    <tr>\n",
              "      <th>nacional</th>\n",
              "      <td>0.000000</td>\n",
              "      <td>0.000000</td>\n",
              "      <td>0.000000</td>\n",
              "      <td>0.249308</td>\n",
              "      <td>0.000000</td>\n",
              "    </tr>\n",
              "    <tr>\n",
              "      <th>onu</th>\n",
              "      <td>0.000000</td>\n",
              "      <td>0.000000</td>\n",
              "      <td>0.230808</td>\n",
              "      <td>0.000000</td>\n",
              "      <td>0.000000</td>\n",
              "    </tr>\n",
              "    <tr>\n",
              "      <th>ou</th>\n",
              "      <td>0.000000</td>\n",
              "      <td>0.000000</td>\n",
              "      <td>0.000000</td>\n",
              "      <td>0.249308</td>\n",
              "      <td>0.000000</td>\n",
              "    </tr>\n",
              "    <tr>\n",
              "      <th>pelo</th>\n",
              "      <td>0.000000</td>\n",
              "      <td>0.000000</td>\n",
              "      <td>0.230808</td>\n",
              "      <td>0.000000</td>\n",
              "      <td>0.000000</td>\n",
              "    </tr>\n",
              "    <tr>\n",
              "      <th>político</th>\n",
              "      <td>0.000000</td>\n",
              "      <td>0.000000</td>\n",
              "      <td>0.000000</td>\n",
              "      <td>0.249308</td>\n",
              "      <td>0.000000</td>\n",
              "    </tr>\n",
              "    <tr>\n",
              "      <th>ponto</th>\n",
              "      <td>0.000000</td>\n",
              "      <td>0.000000</td>\n",
              "      <td>0.000000</td>\n",
              "      <td>0.249308</td>\n",
              "      <td>0.000000</td>\n",
              "    </tr>\n",
              "    <tr>\n",
              "      <th>populacao</th>\n",
              "      <td>0.000000</td>\n",
              "      <td>0.270250</td>\n",
              "      <td>0.000000</td>\n",
              "      <td>0.000000</td>\n",
              "      <td>0.000000</td>\n",
              "    </tr>\n",
              "    <tr>\n",
              "      <th>population</th>\n",
              "      <td>0.000000</td>\n",
              "      <td>0.000000</td>\n",
              "      <td>0.230808</td>\n",
              "      <td>0.000000</td>\n",
              "      <td>0.000000</td>\n",
              "    </tr>\n",
              "    <tr>\n",
              "      <th>populoso</th>\n",
              "      <td>0.000000</td>\n",
              "      <td>0.000000</td>\n",
              "      <td>0.000000</td>\n",
              "      <td>0.000000</td>\n",
              "      <td>0.346534</td>\n",
              "    </tr>\n",
              "    <tr>\n",
              "      <th>qualidade</th>\n",
              "      <td>0.000000</td>\n",
              "      <td>0.000000</td>\n",
              "      <td>0.230808</td>\n",
              "      <td>0.000000</td>\n",
              "      <td>0.000000</td>\n",
              "    </tr>\n",
              "    <tr>\n",
              "      <th>segundo</th>\n",
              "      <td>0.000000</td>\n",
              "      <td>0.000000</td>\n",
              "      <td>0.000000</td>\n",
              "      <td>0.000000</td>\n",
              "      <td>0.346534</td>\n",
              "    </tr>\n",
              "    <tr>\n",
              "      <th>seja</th>\n",
              "      <td>0.000000</td>\n",
              "      <td>0.000000</td>\n",
              "      <td>0.000000</td>\n",
              "      <td>0.249308</td>\n",
              "      <td>0.000000</td>\n",
              "    </tr>\n",
              "    <tr>\n",
              "      <th>significativa</th>\n",
              "      <td>0.000000</td>\n",
              "      <td>0.000000</td>\n",
              "      <td>0.000000</td>\n",
              "      <td>0.249308</td>\n",
              "      <td>0.000000</td>\n",
              "    </tr>\n",
              "    <tr>\n",
              "      <th>um</th>\n",
              "      <td>0.397041</td>\n",
              "      <td>0.000000</td>\n",
              "      <td>0.000000</td>\n",
              "      <td>0.000000</td>\n",
              "      <td>0.000000</td>\n",
              "    </tr>\n",
              "    <tr>\n",
              "      <th>vida</th>\n",
              "      <td>0.000000</td>\n",
              "      <td>0.000000</td>\n",
              "      <td>0.230808</td>\n",
              "      <td>0.000000</td>\n",
              "      <td>0.000000</td>\n",
              "    </tr>\n",
              "    <tr>\n",
              "      <th>vista</th>\n",
              "      <td>0.000000</td>\n",
              "      <td>0.000000</td>\n",
              "      <td>0.000000</td>\n",
              "      <td>0.249308</td>\n",
              "      <td>0.000000</td>\n",
              "    </tr>\n",
              "  </tbody>\n",
              "</table>\n",
              "</div>\n",
              "      <button class=\"colab-df-convert\" onclick=\"convertToInteractive('df-d5261ca9-ca31-4ee8-af32-6d60c4cf2f8f')\"\n",
              "              title=\"Convert this dataframe to an interactive table.\"\n",
              "              style=\"display:none;\">\n",
              "        \n",
              "  <svg xmlns=\"http://www.w3.org/2000/svg\" height=\"24px\"viewBox=\"0 0 24 24\"\n",
              "       width=\"24px\">\n",
              "    <path d=\"M0 0h24v24H0V0z\" fill=\"none\"/>\n",
              "    <path d=\"M18.56 5.44l.94 2.06.94-2.06 2.06-.94-2.06-.94-.94-2.06-.94 2.06-2.06.94zm-11 1L8.5 8.5l.94-2.06 2.06-.94-2.06-.94L8.5 2.5l-.94 2.06-2.06.94zm10 10l.94 2.06.94-2.06 2.06-.94-2.06-.94-.94-2.06-.94 2.06-2.06.94z\"/><path d=\"M17.41 7.96l-1.37-1.37c-.4-.4-.92-.59-1.43-.59-.52 0-1.04.2-1.43.59L10.3 9.45l-7.72 7.72c-.78.78-.78 2.05 0 2.83L4 21.41c.39.39.9.59 1.41.59.51 0 1.02-.2 1.41-.59l7.78-7.78 2.81-2.81c.8-.78.8-2.07 0-2.86zM5.41 20L4 18.59l7.72-7.72 1.47 1.35L5.41 20z\"/>\n",
              "  </svg>\n",
              "      </button>\n",
              "      \n",
              "  <style>\n",
              "    .colab-df-container {\n",
              "      display:flex;\n",
              "      flex-wrap:wrap;\n",
              "      gap: 12px;\n",
              "    }\n",
              "\n",
              "    .colab-df-convert {\n",
              "      background-color: #E8F0FE;\n",
              "      border: none;\n",
              "      border-radius: 50%;\n",
              "      cursor: pointer;\n",
              "      display: none;\n",
              "      fill: #1967D2;\n",
              "      height: 32px;\n",
              "      padding: 0 0 0 0;\n",
              "      width: 32px;\n",
              "    }\n",
              "\n",
              "    .colab-df-convert:hover {\n",
              "      background-color: #E2EBFA;\n",
              "      box-shadow: 0px 1px 2px rgba(60, 64, 67, 0.3), 0px 1px 3px 1px rgba(60, 64, 67, 0.15);\n",
              "      fill: #174EA6;\n",
              "    }\n",
              "\n",
              "    [theme=dark] .colab-df-convert {\n",
              "      background-color: #3B4455;\n",
              "      fill: #D2E3FC;\n",
              "    }\n",
              "\n",
              "    [theme=dark] .colab-df-convert:hover {\n",
              "      background-color: #434B5C;\n",
              "      box-shadow: 0px 1px 3px 1px rgba(0, 0, 0, 0.15);\n",
              "      filter: drop-shadow(0px 1px 2px rgba(0, 0, 0, 0.3));\n",
              "      fill: #FFFFFF;\n",
              "    }\n",
              "  </style>\n",
              "\n",
              "      <script>\n",
              "        const buttonEl =\n",
              "          document.querySelector('#df-d5261ca9-ca31-4ee8-af32-6d60c4cf2f8f button.colab-df-convert');\n",
              "        buttonEl.style.display =\n",
              "          google.colab.kernel.accessAllowed ? 'block' : 'none';\n",
              "\n",
              "        async function convertToInteractive(key) {\n",
              "          const element = document.querySelector('#df-d5261ca9-ca31-4ee8-af32-6d60c4cf2f8f');\n",
              "          const dataTable =\n",
              "            await google.colab.kernel.invokeFunction('convertToInteractive',\n",
              "                                                     [key], {});\n",
              "          if (!dataTable) return;\n",
              "\n",
              "          const docLinkHtml = 'Like what you see? Visit the ' +\n",
              "            '<a target=\"_blank\" href=https://colab.research.google.com/notebooks/data_table.ipynb>data table notebook</a>'\n",
              "            + ' to learn more about interactive tables.';\n",
              "          element.innerHTML = '';\n",
              "          dataTable['output_type'] = 'display_data';\n",
              "          await google.colab.output.renderOutput(dataTable, element);\n",
              "          const docLink = document.createElement('div');\n",
              "          docLink.innerHTML = docLinkHtml;\n",
              "          element.appendChild(docLink);\n",
              "        }\n",
              "      </script>\n",
              "    </div>\n",
              "  </div>\n",
              "  "
            ],
            "text/plain": [
              "                   doc1      doc2      doc3      doc4      doc5\n",
              "501            0.000000  0.270250  0.000000  0.000000  0.000000\n",
              "576            0.000000  0.270250  0.000000  0.000000  0.000000\n",
              "américa        0.000000  0.000000  0.230808  0.000000  0.000000\n",
              "até            0.000000  0.000000  0.000000  0.249308  0.000000\n",
              "belo           0.189192  0.128776  0.109981  0.118797  0.165125\n",
              "brasil         0.000000  0.000000  0.000000  0.000000  0.346534\n",
              "brasileiro     0.320330  0.218036  0.000000  0.000000  0.000000\n",
              "capital        0.320330  0.000000  0.000000  0.000000  0.279581\n",
              "com            0.000000  0.000000  0.230808  0.000000  0.000000\n",
              "commitee       0.000000  0.000000  0.230808  0.000000  0.000000\n",
              "como           0.000000  0.000000  0.230808  0.000000  0.000000\n",
              "conforme       0.000000  0.270250  0.000000  0.000000  0.000000\n",
              "conhecida      0.000000  0.000000  0.000000  0.249308  0.000000\n",
              "crisis         0.000000  0.000000  0.230808  0.000000  0.000000\n",
              "cultural       0.000000  0.000000  0.000000  0.249308  0.000000\n",
              "da             0.000000  0.000000  0.230808  0.000000  0.000000\n",
              "de             0.223686  0.304509  0.130033  0.140456  0.000000\n",
              "do             0.223686  0.152254  0.000000  0.140456  0.390462\n",
              "econômico      0.000000  0.000000  0.000000  0.249308  0.000000\n",
              "em             0.000000  0.270250  0.000000  0.000000  0.000000\n",
              "estado         0.320330  0.000000  0.000000  0.000000  0.279581\n",
              "estatística    0.000000  0.270250  0.000000  0.000000  0.000000\n",
              "estimada       0.000000  0.270250  0.000000  0.000000  0.000000\n",
              "estimativas    0.000000  0.270250  0.000000  0.000000  0.000000\n",
              "exerce         0.000000  0.000000  0.000000  0.249308  0.000000\n",
              "foi            0.000000  0.000000  0.230808  0.000000  0.000000\n",
              "geografia      0.000000  0.270250  0.000000  0.000000  0.000000\n",
              "gerais         0.320330  0.000000  0.000000  0.000000  0.279581\n",
              "habitantes     0.000000  0.270250  0.000000  0.000000  0.000000\n",
              "horizonte      0.189192  0.128776  0.109981  0.118797  0.165125\n",
              "indicada       0.000000  0.000000  0.230808  0.000000  0.000000\n",
              "influência     0.000000  0.000000  0.000000  0.249308  0.000000\n",
              "instituto      0.000000  0.270250  0.000000  0.000000  0.000000\n",
              "internacional  0.000000  0.000000  0.000000  0.249308  0.000000\n",
              "já             0.000000  0.000000  0.230808  0.000000  0.000000\n",
              "latina         0.000000  0.000000  0.230808  0.000000  0.000000\n",
              "mais           0.000000  0.000000  0.000000  0.000000  0.346534\n",
              "melhor         0.000000  0.000000  0.230808  0.000000  0.000000\n",
              "metrópole      0.000000  0.000000  0.230808  0.000000  0.000000\n",
              "minas          0.320330  0.000000  0.000000  0.000000  0.279581\n",
              "mundialmente   0.000000  0.000000  0.000000  0.249308  0.000000\n",
              "município      0.397041  0.000000  0.000000  0.000000  0.000000\n",
              "na             0.000000  0.000000  0.230808  0.000000  0.000000\n",
              "nacional       0.000000  0.000000  0.000000  0.249308  0.000000\n",
              "onu            0.000000  0.000000  0.230808  0.000000  0.000000\n",
              "ou             0.000000  0.000000  0.000000  0.249308  0.000000\n",
              "pelo           0.000000  0.000000  0.230808  0.000000  0.000000\n",
              "político       0.000000  0.000000  0.000000  0.249308  0.000000\n",
              "ponto          0.000000  0.000000  0.000000  0.249308  0.000000\n",
              "populacao      0.000000  0.270250  0.000000  0.000000  0.000000\n",
              "population     0.000000  0.000000  0.230808  0.000000  0.000000\n",
              "populoso       0.000000  0.000000  0.000000  0.000000  0.346534\n",
              "qualidade      0.000000  0.000000  0.230808  0.000000  0.000000\n",
              "segundo        0.000000  0.000000  0.000000  0.000000  0.346534\n",
              "seja           0.000000  0.000000  0.000000  0.249308  0.000000\n",
              "significativa  0.000000  0.000000  0.000000  0.249308  0.000000\n",
              "um             0.397041  0.000000  0.000000  0.000000  0.000000\n",
              "vida           0.000000  0.000000  0.230808  0.000000  0.000000\n",
              "vista          0.000000  0.000000  0.000000  0.249308  0.000000"
            ]
          },
          "metadata": {},
          "execution_count": 15
        }
      ]
    },
    {
      "cell_type": "markdown",
      "metadata": {
        "id": "FF-ZevNeAC4-"
      },
      "source": [
        "## Bag of Words\n",
        "\n",
        "Para representar o bag of words utilizamos o CountVectorizer\n",
        "\n",
        "```python\n",
        "#primeiro criamos o objeto\n",
        "vect_bag = CountVectorizer(binary=True) #se binary = False -> ocorre a contagem da frequência em que a palavra aparece\n",
        "vect_bag #imprime os parâmetros\n",
        "\n",
        "```\n",
        "\n",
        "<b> Atividade </b>\n",
        "\n",
        "7) Faça o CountVectorizer nos documentos da variável <b>documentos</b> considerando binary = True"
      ]
    },
    {
      "cell_type": "code",
      "metadata": {
        "id": "2z8_t3vabNMi"
      },
      "source": [
        "vect_bag = CountVectorizer(binary=True)\n",
        "vetorb =vect_bag.fit_transform(documentos)"
      ],
      "execution_count": 16,
      "outputs": []
    },
    {
      "cell_type": "markdown",
      "metadata": {
        "id": "z0ZNTXLWAC5I"
      },
      "source": [
        "<b> Atividade </b>\n",
        "\n",
        "8) Imprima o índice correspondente a cada token da lista retornada por vect_bag.get_feature_names()"
      ]
    },
    {
      "cell_type": "code",
      "metadata": {
        "id": "2t8GJUMKbQF7",
        "colab": {
          "base_uri": "https://localhost:8080/",
          "height": 270
        },
        "outputId": "5b9d0917-4841-4bf0-afe7-eb25529aa818"
      },
      "source": [
        "vect_bag.get_feature_names()\n",
        "df = pd.DataFrame(vetorb.T.todense(), index=vect.get_feature_names(), columns=[\"doc\"+str(i+1) for i in range(0,len(documentos))]).T\n",
        "df"
      ],
      "execution_count": 17,
      "outputs": [
        {
          "output_type": "execute_result",
          "data": {
            "text/html": [
              "\n",
              "  <div id=\"df-6ec4b791-3b28-493d-8721-59a14ae59f6e\">\n",
              "    <div class=\"colab-df-container\">\n",
              "      <div>\n",
              "<style scoped>\n",
              "    .dataframe tbody tr th:only-of-type {\n",
              "        vertical-align: middle;\n",
              "    }\n",
              "\n",
              "    .dataframe tbody tr th {\n",
              "        vertical-align: top;\n",
              "    }\n",
              "\n",
              "    .dataframe thead th {\n",
              "        text-align: right;\n",
              "    }\n",
              "</style>\n",
              "<table border=\"1\" class=\"dataframe\">\n",
              "  <thead>\n",
              "    <tr style=\"text-align: right;\">\n",
              "      <th></th>\n",
              "      <th>501</th>\n",
              "      <th>576</th>\n",
              "      <th>américa</th>\n",
              "      <th>até</th>\n",
              "      <th>belo</th>\n",
              "      <th>brasil</th>\n",
              "      <th>brasileiro</th>\n",
              "      <th>capital</th>\n",
              "      <th>com</th>\n",
              "      <th>commitee</th>\n",
              "      <th>como</th>\n",
              "      <th>conforme</th>\n",
              "      <th>conhecida</th>\n",
              "      <th>crisis</th>\n",
              "      <th>cultural</th>\n",
              "      <th>da</th>\n",
              "      <th>de</th>\n",
              "      <th>do</th>\n",
              "      <th>econômico</th>\n",
              "      <th>em</th>\n",
              "      <th>estado</th>\n",
              "      <th>estatística</th>\n",
              "      <th>estimada</th>\n",
              "      <th>estimativas</th>\n",
              "      <th>exerce</th>\n",
              "      <th>foi</th>\n",
              "      <th>geografia</th>\n",
              "      <th>gerais</th>\n",
              "      <th>habitantes</th>\n",
              "      <th>horizonte</th>\n",
              "      <th>indicada</th>\n",
              "      <th>influência</th>\n",
              "      <th>instituto</th>\n",
              "      <th>internacional</th>\n",
              "      <th>já</th>\n",
              "      <th>latina</th>\n",
              "      <th>mais</th>\n",
              "      <th>melhor</th>\n",
              "      <th>metrópole</th>\n",
              "      <th>minas</th>\n",
              "      <th>mundialmente</th>\n",
              "      <th>município</th>\n",
              "      <th>na</th>\n",
              "      <th>nacional</th>\n",
              "      <th>onu</th>\n",
              "      <th>ou</th>\n",
              "      <th>pelo</th>\n",
              "      <th>político</th>\n",
              "      <th>ponto</th>\n",
              "      <th>populacao</th>\n",
              "      <th>population</th>\n",
              "      <th>populoso</th>\n",
              "      <th>qualidade</th>\n",
              "      <th>segundo</th>\n",
              "      <th>seja</th>\n",
              "      <th>significativa</th>\n",
              "      <th>um</th>\n",
              "      <th>vida</th>\n",
              "      <th>vista</th>\n",
              "    </tr>\n",
              "  </thead>\n",
              "  <tbody>\n",
              "    <tr>\n",
              "      <th>doc1</th>\n",
              "      <td>0</td>\n",
              "      <td>0</td>\n",
              "      <td>0</td>\n",
              "      <td>0</td>\n",
              "      <td>1</td>\n",
              "      <td>0</td>\n",
              "      <td>1</td>\n",
              "      <td>1</td>\n",
              "      <td>0</td>\n",
              "      <td>0</td>\n",
              "      <td>0</td>\n",
              "      <td>0</td>\n",
              "      <td>0</td>\n",
              "      <td>0</td>\n",
              "      <td>0</td>\n",
              "      <td>0</td>\n",
              "      <td>1</td>\n",
              "      <td>1</td>\n",
              "      <td>0</td>\n",
              "      <td>0</td>\n",
              "      <td>1</td>\n",
              "      <td>0</td>\n",
              "      <td>0</td>\n",
              "      <td>0</td>\n",
              "      <td>0</td>\n",
              "      <td>0</td>\n",
              "      <td>0</td>\n",
              "      <td>1</td>\n",
              "      <td>0</td>\n",
              "      <td>1</td>\n",
              "      <td>0</td>\n",
              "      <td>0</td>\n",
              "      <td>0</td>\n",
              "      <td>0</td>\n",
              "      <td>0</td>\n",
              "      <td>0</td>\n",
              "      <td>0</td>\n",
              "      <td>0</td>\n",
              "      <td>0</td>\n",
              "      <td>1</td>\n",
              "      <td>0</td>\n",
              "      <td>1</td>\n",
              "      <td>0</td>\n",
              "      <td>0</td>\n",
              "      <td>0</td>\n",
              "      <td>0</td>\n",
              "      <td>0</td>\n",
              "      <td>0</td>\n",
              "      <td>0</td>\n",
              "      <td>0</td>\n",
              "      <td>0</td>\n",
              "      <td>0</td>\n",
              "      <td>0</td>\n",
              "      <td>0</td>\n",
              "      <td>0</td>\n",
              "      <td>0</td>\n",
              "      <td>1</td>\n",
              "      <td>0</td>\n",
              "      <td>0</td>\n",
              "    </tr>\n",
              "    <tr>\n",
              "      <th>doc2</th>\n",
              "      <td>1</td>\n",
              "      <td>1</td>\n",
              "      <td>0</td>\n",
              "      <td>0</td>\n",
              "      <td>1</td>\n",
              "      <td>0</td>\n",
              "      <td>1</td>\n",
              "      <td>0</td>\n",
              "      <td>0</td>\n",
              "      <td>0</td>\n",
              "      <td>0</td>\n",
              "      <td>1</td>\n",
              "      <td>0</td>\n",
              "      <td>0</td>\n",
              "      <td>0</td>\n",
              "      <td>0</td>\n",
              "      <td>1</td>\n",
              "      <td>1</td>\n",
              "      <td>0</td>\n",
              "      <td>1</td>\n",
              "      <td>0</td>\n",
              "      <td>1</td>\n",
              "      <td>1</td>\n",
              "      <td>1</td>\n",
              "      <td>0</td>\n",
              "      <td>0</td>\n",
              "      <td>1</td>\n",
              "      <td>0</td>\n",
              "      <td>1</td>\n",
              "      <td>1</td>\n",
              "      <td>0</td>\n",
              "      <td>0</td>\n",
              "      <td>1</td>\n",
              "      <td>0</td>\n",
              "      <td>0</td>\n",
              "      <td>0</td>\n",
              "      <td>0</td>\n",
              "      <td>0</td>\n",
              "      <td>0</td>\n",
              "      <td>0</td>\n",
              "      <td>0</td>\n",
              "      <td>0</td>\n",
              "      <td>0</td>\n",
              "      <td>0</td>\n",
              "      <td>0</td>\n",
              "      <td>0</td>\n",
              "      <td>0</td>\n",
              "      <td>0</td>\n",
              "      <td>0</td>\n",
              "      <td>1</td>\n",
              "      <td>0</td>\n",
              "      <td>0</td>\n",
              "      <td>0</td>\n",
              "      <td>0</td>\n",
              "      <td>0</td>\n",
              "      <td>0</td>\n",
              "      <td>0</td>\n",
              "      <td>0</td>\n",
              "      <td>0</td>\n",
              "    </tr>\n",
              "    <tr>\n",
              "      <th>doc3</th>\n",
              "      <td>0</td>\n",
              "      <td>0</td>\n",
              "      <td>1</td>\n",
              "      <td>0</td>\n",
              "      <td>1</td>\n",
              "      <td>0</td>\n",
              "      <td>0</td>\n",
              "      <td>0</td>\n",
              "      <td>1</td>\n",
              "      <td>1</td>\n",
              "      <td>1</td>\n",
              "      <td>0</td>\n",
              "      <td>0</td>\n",
              "      <td>1</td>\n",
              "      <td>0</td>\n",
              "      <td>1</td>\n",
              "      <td>1</td>\n",
              "      <td>0</td>\n",
              "      <td>0</td>\n",
              "      <td>0</td>\n",
              "      <td>0</td>\n",
              "      <td>0</td>\n",
              "      <td>0</td>\n",
              "      <td>0</td>\n",
              "      <td>0</td>\n",
              "      <td>1</td>\n",
              "      <td>0</td>\n",
              "      <td>0</td>\n",
              "      <td>0</td>\n",
              "      <td>1</td>\n",
              "      <td>1</td>\n",
              "      <td>0</td>\n",
              "      <td>0</td>\n",
              "      <td>0</td>\n",
              "      <td>1</td>\n",
              "      <td>1</td>\n",
              "      <td>0</td>\n",
              "      <td>1</td>\n",
              "      <td>1</td>\n",
              "      <td>0</td>\n",
              "      <td>0</td>\n",
              "      <td>0</td>\n",
              "      <td>1</td>\n",
              "      <td>0</td>\n",
              "      <td>1</td>\n",
              "      <td>0</td>\n",
              "      <td>1</td>\n",
              "      <td>0</td>\n",
              "      <td>0</td>\n",
              "      <td>0</td>\n",
              "      <td>1</td>\n",
              "      <td>0</td>\n",
              "      <td>1</td>\n",
              "      <td>0</td>\n",
              "      <td>0</td>\n",
              "      <td>0</td>\n",
              "      <td>0</td>\n",
              "      <td>1</td>\n",
              "      <td>0</td>\n",
              "    </tr>\n",
              "    <tr>\n",
              "      <th>doc4</th>\n",
              "      <td>0</td>\n",
              "      <td>0</td>\n",
              "      <td>0</td>\n",
              "      <td>1</td>\n",
              "      <td>1</td>\n",
              "      <td>0</td>\n",
              "      <td>0</td>\n",
              "      <td>0</td>\n",
              "      <td>0</td>\n",
              "      <td>0</td>\n",
              "      <td>0</td>\n",
              "      <td>0</td>\n",
              "      <td>1</td>\n",
              "      <td>0</td>\n",
              "      <td>1</td>\n",
              "      <td>0</td>\n",
              "      <td>1</td>\n",
              "      <td>1</td>\n",
              "      <td>1</td>\n",
              "      <td>0</td>\n",
              "      <td>0</td>\n",
              "      <td>0</td>\n",
              "      <td>0</td>\n",
              "      <td>0</td>\n",
              "      <td>1</td>\n",
              "      <td>0</td>\n",
              "      <td>0</td>\n",
              "      <td>0</td>\n",
              "      <td>0</td>\n",
              "      <td>1</td>\n",
              "      <td>0</td>\n",
              "      <td>1</td>\n",
              "      <td>0</td>\n",
              "      <td>1</td>\n",
              "      <td>0</td>\n",
              "      <td>0</td>\n",
              "      <td>0</td>\n",
              "      <td>0</td>\n",
              "      <td>0</td>\n",
              "      <td>0</td>\n",
              "      <td>1</td>\n",
              "      <td>0</td>\n",
              "      <td>0</td>\n",
              "      <td>1</td>\n",
              "      <td>0</td>\n",
              "      <td>1</td>\n",
              "      <td>0</td>\n",
              "      <td>1</td>\n",
              "      <td>1</td>\n",
              "      <td>0</td>\n",
              "      <td>0</td>\n",
              "      <td>0</td>\n",
              "      <td>0</td>\n",
              "      <td>0</td>\n",
              "      <td>1</td>\n",
              "      <td>1</td>\n",
              "      <td>0</td>\n",
              "      <td>0</td>\n",
              "      <td>1</td>\n",
              "    </tr>\n",
              "    <tr>\n",
              "      <th>doc5</th>\n",
              "      <td>0</td>\n",
              "      <td>0</td>\n",
              "      <td>0</td>\n",
              "      <td>0</td>\n",
              "      <td>1</td>\n",
              "      <td>1</td>\n",
              "      <td>0</td>\n",
              "      <td>1</td>\n",
              "      <td>0</td>\n",
              "      <td>0</td>\n",
              "      <td>0</td>\n",
              "      <td>0</td>\n",
              "      <td>0</td>\n",
              "      <td>0</td>\n",
              "      <td>0</td>\n",
              "      <td>0</td>\n",
              "      <td>0</td>\n",
              "      <td>1</td>\n",
              "      <td>0</td>\n",
              "      <td>0</td>\n",
              "      <td>1</td>\n",
              "      <td>0</td>\n",
              "      <td>0</td>\n",
              "      <td>0</td>\n",
              "      <td>0</td>\n",
              "      <td>0</td>\n",
              "      <td>0</td>\n",
              "      <td>1</td>\n",
              "      <td>0</td>\n",
              "      <td>1</td>\n",
              "      <td>0</td>\n",
              "      <td>0</td>\n",
              "      <td>0</td>\n",
              "      <td>0</td>\n",
              "      <td>0</td>\n",
              "      <td>0</td>\n",
              "      <td>1</td>\n",
              "      <td>0</td>\n",
              "      <td>0</td>\n",
              "      <td>1</td>\n",
              "      <td>0</td>\n",
              "      <td>0</td>\n",
              "      <td>0</td>\n",
              "      <td>0</td>\n",
              "      <td>0</td>\n",
              "      <td>0</td>\n",
              "      <td>0</td>\n",
              "      <td>0</td>\n",
              "      <td>0</td>\n",
              "      <td>0</td>\n",
              "      <td>0</td>\n",
              "      <td>1</td>\n",
              "      <td>0</td>\n",
              "      <td>1</td>\n",
              "      <td>0</td>\n",
              "      <td>0</td>\n",
              "      <td>0</td>\n",
              "      <td>0</td>\n",
              "      <td>0</td>\n",
              "    </tr>\n",
              "  </tbody>\n",
              "</table>\n",
              "</div>\n",
              "      <button class=\"colab-df-convert\" onclick=\"convertToInteractive('df-6ec4b791-3b28-493d-8721-59a14ae59f6e')\"\n",
              "              title=\"Convert this dataframe to an interactive table.\"\n",
              "              style=\"display:none;\">\n",
              "        \n",
              "  <svg xmlns=\"http://www.w3.org/2000/svg\" height=\"24px\"viewBox=\"0 0 24 24\"\n",
              "       width=\"24px\">\n",
              "    <path d=\"M0 0h24v24H0V0z\" fill=\"none\"/>\n",
              "    <path d=\"M18.56 5.44l.94 2.06.94-2.06 2.06-.94-2.06-.94-.94-2.06-.94 2.06-2.06.94zm-11 1L8.5 8.5l.94-2.06 2.06-.94-2.06-.94L8.5 2.5l-.94 2.06-2.06.94zm10 10l.94 2.06.94-2.06 2.06-.94-2.06-.94-.94-2.06-.94 2.06-2.06.94z\"/><path d=\"M17.41 7.96l-1.37-1.37c-.4-.4-.92-.59-1.43-.59-.52 0-1.04.2-1.43.59L10.3 9.45l-7.72 7.72c-.78.78-.78 2.05 0 2.83L4 21.41c.39.39.9.59 1.41.59.51 0 1.02-.2 1.41-.59l7.78-7.78 2.81-2.81c.8-.78.8-2.07 0-2.86zM5.41 20L4 18.59l7.72-7.72 1.47 1.35L5.41 20z\"/>\n",
              "  </svg>\n",
              "      </button>\n",
              "      \n",
              "  <style>\n",
              "    .colab-df-container {\n",
              "      display:flex;\n",
              "      flex-wrap:wrap;\n",
              "      gap: 12px;\n",
              "    }\n",
              "\n",
              "    .colab-df-convert {\n",
              "      background-color: #E8F0FE;\n",
              "      border: none;\n",
              "      border-radius: 50%;\n",
              "      cursor: pointer;\n",
              "      display: none;\n",
              "      fill: #1967D2;\n",
              "      height: 32px;\n",
              "      padding: 0 0 0 0;\n",
              "      width: 32px;\n",
              "    }\n",
              "\n",
              "    .colab-df-convert:hover {\n",
              "      background-color: #E2EBFA;\n",
              "      box-shadow: 0px 1px 2px rgba(60, 64, 67, 0.3), 0px 1px 3px 1px rgba(60, 64, 67, 0.15);\n",
              "      fill: #174EA6;\n",
              "    }\n",
              "\n",
              "    [theme=dark] .colab-df-convert {\n",
              "      background-color: #3B4455;\n",
              "      fill: #D2E3FC;\n",
              "    }\n",
              "\n",
              "    [theme=dark] .colab-df-convert:hover {\n",
              "      background-color: #434B5C;\n",
              "      box-shadow: 0px 1px 3px 1px rgba(0, 0, 0, 0.15);\n",
              "      filter: drop-shadow(0px 1px 2px rgba(0, 0, 0, 0.3));\n",
              "      fill: #FFFFFF;\n",
              "    }\n",
              "  </style>\n",
              "\n",
              "      <script>\n",
              "        const buttonEl =\n",
              "          document.querySelector('#df-6ec4b791-3b28-493d-8721-59a14ae59f6e button.colab-df-convert');\n",
              "        buttonEl.style.display =\n",
              "          google.colab.kernel.accessAllowed ? 'block' : 'none';\n",
              "\n",
              "        async function convertToInteractive(key) {\n",
              "          const element = document.querySelector('#df-6ec4b791-3b28-493d-8721-59a14ae59f6e');\n",
              "          const dataTable =\n",
              "            await google.colab.kernel.invokeFunction('convertToInteractive',\n",
              "                                                     [key], {});\n",
              "          if (!dataTable) return;\n",
              "\n",
              "          const docLinkHtml = 'Like what you see? Visit the ' +\n",
              "            '<a target=\"_blank\" href=https://colab.research.google.com/notebooks/data_table.ipynb>data table notebook</a>'\n",
              "            + ' to learn more about interactive tables.';\n",
              "          element.innerHTML = '';\n",
              "          dataTable['output_type'] = 'display_data';\n",
              "          await google.colab.output.renderOutput(dataTable, element);\n",
              "          const docLink = document.createElement('div');\n",
              "          docLink.innerHTML = docLinkHtml;\n",
              "          element.appendChild(docLink);\n",
              "        }\n",
              "      </script>\n",
              "    </div>\n",
              "  </div>\n",
              "  "
            ],
            "text/plain": [
              "      501  576  américa  até  belo  ...  seja  significativa  um  vida  vista\n",
              "doc1    0    0        0    0     1  ...     0              0   1     0      0\n",
              "doc2    1    1        0    0     1  ...     0              0   0     0      0\n",
              "doc3    0    0        1    0     1  ...     0              0   0     1      0\n",
              "doc4    0    0        0    1     1  ...     1              1   0     0      1\n",
              "doc5    0    0        0    0     1  ...     0              0   0     0      0\n",
              "\n",
              "[5 rows x 59 columns]"
            ]
          },
          "metadata": {},
          "execution_count": 17
        }
      ]
    },
    {
      "cell_type": "markdown",
      "metadata": {
        "id": "LbLt5-LiAC5v"
      },
      "source": [
        "## Embedding"
      ]
    },
    {
      "cell_type": "markdown",
      "metadata": {
        "id": "3nmucJX2AC5v"
      },
      "source": [
        "### Utilizando um embedding treinado"
      ]
    },
    {
      "cell_type": "markdown",
      "metadata": {
        "id": "cf94ykmVAC5w"
      },
      "source": [
        "<b> Atividade </b>\n",
        "\n",
        "9) Faça download do seguinte arquivo, realize a leitura deste arquivo e carregue o modelo: \n",
        "https://drive.google.com/file/d/1f5sNZcV8LDam4zxbHnkm472r3r8D_UpX/view?usp=sharing\n",
        "\n",
        "Depois suba no seu drive e carregue,\n",
        "\n",
        "obs.: como o embedding é pesado, demora um pouco para carregar, cerca de 4 minutos."
      ]
    },
    {
      "cell_type": "code",
      "metadata": {
        "colab": {
          "base_uri": "https://localhost:8080/"
        },
        "id": "4VepWYTrPt65",
        "outputId": "630d9021-89b1-42a0-b41f-cb777f235d34"
      },
      "source": [
        "#opção 1 -> montar o drive no colab e acessar o arquivo de embedding do drive\n",
        "from google.colab import drive\n",
        "drive.mount('/content/drive')\n",
        "\n",
        "#opção 2 -> fazer download e fazer upload por aqui\n",
        "#from google.colab import files\n",
        "#uploaded = files.upload()"
      ],
      "execution_count": 18,
      "outputs": [
        {
          "output_type": "stream",
          "name": "stdout",
          "text": [
            "Drive already mounted at /content/drive; to attempt to forcibly remount, call drive.mount(\"/content/drive\", force_remount=True).\n"
          ]
        }
      ]
    },
    {
      "cell_type": "code",
      "metadata": {
        "id": "S5thOv6AAC50",
        "colab": {
          "base_uri": "https://localhost:8080/"
        },
        "outputId": "9182ea9e-f88f-4ca6-c92f-d6452c4a39cf"
      },
      "source": [
        "%%time\n",
        "# carregar\n",
        "##na variável path coloque o caminho do embedding baixado:\n",
        "path = \"/content/drive/MyDrive/Colab Notebooks/Bases/ptwiki_20180420_100d.txt\"\n",
        "word_vectors = gensim.models.KeyedVectors.load_word2vec_format(path, binary=False)"
      ],
      "execution_count": 19,
      "outputs": [
        {
          "output_type": "stream",
          "name": "stdout",
          "text": [
            "CPU times: user 1min 8s, sys: 1.59 s, total: 1min 10s\n",
            "Wall time: 1min 16s\n"
          ]
        }
      ]
    },
    {
      "cell_type": "markdown",
      "metadata": {
        "id": "y7OvGRFIAC55"
      },
      "source": [
        "<b> Atividade </b>\n",
        "\n",
        "10) Imprima os vetores das palavras \"nlp\" e \"computacao\"\n",
        "\n",
        "```python\n",
        "#exemplo de retorno do vetor\n",
        "word_vectors[__]\n",
        "```"
      ]
    },
    {
      "cell_type": "code",
      "metadata": {
        "id": "c_UyaYIUAC59",
        "colab": {
          "base_uri": "https://localhost:8080/"
        },
        "outputId": "5e87ecdc-f66c-4ed0-ea58-a07565759213"
      },
      "source": [
        "word_vectors['nlp']"
      ],
      "execution_count": 20,
      "outputs": [
        {
          "output_type": "execute_result",
          "data": {
            "text/plain": [
              "array([ 0.8528,  0.1094, -0.0296, -0.0458, -0.2029, -0.1839, -0.2012,\n",
              "       -0.111 , -0.0315,  0.1895, -0.2194, -0.3496, -0.1319, -0.1594,\n",
              "        0.1549, -0.493 ,  0.1897, -0.296 ,  0.0026,  0.2015,  0.0215,\n",
              "        0.2946, -0.2024,  0.3931,  0.143 ,  0.0667, -0.4868,  0.048 ,\n",
              "       -0.1028,  0.2372,  0.2042, -0.8025, -0.1221,  0.475 , -0.2997,\n",
              "        0.219 ,  0.1232, -0.2118,  0.5402, -0.0768,  0.2253,  0.1285,\n",
              "       -0.6157,  0.1777,  0.0306, -0.1094, -0.1649, -0.386 , -0.2692,\n",
              "        0.3149,  0.0391, -0.0821, -0.2238,  0.033 ,  0.5032,  0.0836,\n",
              "        0.1834, -0.2009, -0.0722, -0.1744,  0.3946, -0.0792, -0.0863,\n",
              "        0.3813,  0.5876, -0.4447, -0.5435,  0.1528, -0.1012, -0.0967,\n",
              "       -0.2621,  0.4737,  0.3235, -1.1013, -0.0789,  0.1945, -0.1304,\n",
              "       -0.0379,  0.899 ,  0.0398,  0.2908, -0.4276, -0.0641, -0.3841,\n",
              "        0.354 ,  0.4139,  0.1076, -0.3439, -0.1474, -0.1215,  0.4359,\n",
              "       -0.1563,  0.2577,  0.4333,  0.2003, -0.4064, -0.818 ,  0.0812,\n",
              "       -0.2554, -0.48  ], dtype=float32)"
            ]
          },
          "metadata": {},
          "execution_count": 20
        }
      ]
    },
    {
      "cell_type": "code",
      "metadata": {
        "id": "uWL_yba-bXIh",
        "colab": {
          "base_uri": "https://localhost:8080/"
        },
        "outputId": "791910cf-428f-4d64-ac65-8700c29ab538"
      },
      "source": [
        "word_vectors['computacao']"
      ],
      "execution_count": 21,
      "outputs": [
        {
          "output_type": "execute_result",
          "data": {
            "text/plain": [
              "array([ 0.5076, -0.2598,  0.0993,  0.1021, -0.2076, -0.2745,  0.0104,\n",
              "        0.0107,  0.0151,  0.2485, -0.2933,  0.1184, -0.4087, -0.0381,\n",
              "        0.0528, -0.2312,  0.1387,  0.1144,  0.0291,  0.164 , -0.0941,\n",
              "        0.1045, -0.1874,  0.0116,  0.1133, -0.11  , -0.0607,  0.047 ,\n",
              "       -0.0259,  0.4073,  0.1337, -0.3197,  0.0559,  0.2985, -0.0571,\n",
              "       -0.2967,  0.0675,  0.1016,  0.4049, -0.347 ,  0.1782, -0.2004,\n",
              "       -0.1565, -0.0758,  0.3695,  0.0918, -0.0197, -0.4832, -0.5214,\n",
              "        0.124 ,  0.3514,  0.1103,  0.0646, -0.0722,  0.2532, -0.0997,\n",
              "       -0.0581, -0.0238, -0.164 , -0.0828,  0.5997, -0.1605,  0.0169,\n",
              "        0.3451,  0.3026, -0.0841, -0.1699,  0.2674,  0.0184, -0.1471,\n",
              "       -0.218 , -0.0565, -0.1998, -0.3754, -0.1754,  0.1689, -0.2062,\n",
              "        0.2613,  0.1208, -0.217 ,  0.1932, -0.3372, -0.119 , -0.1323,\n",
              "       -0.4022,  0.0883,  0.1728, -0.2999, -0.0619,  0.3041,  0.1596,\n",
              "       -0.2037,  0.1473, -0.0561,  0.1435, -0.0683, -0.2464, -0.0562,\n",
              "        0.0109,  0.0419], dtype=float32)"
            ]
          },
          "metadata": {},
          "execution_count": 21
        }
      ]
    },
    {
      "cell_type": "markdown",
      "metadata": {
        "id": "rkeSO-BJAC6B"
      },
      "source": [
        "<b> Similaridade de Vetores </b> \n",
        "\n",
        "No gensim é possível realizar a similaridade utilizando o seguinte método:\n",
        "\n",
        "```python\n",
        "word_vectors.most_similar(___)\n",
        "```\n",
        "\n",
        "<b> Atividade </b>\n",
        "\n",
        "11) Verifique a similaridade das seguintes palavras: elizabete, raiva, segunda, dois, computação."
      ]
    },
    {
      "cell_type": "code",
      "metadata": {
        "id": "Fzy1VhXcbcee",
        "colab": {
          "base_uri": "https://localhost:8080/"
        },
        "outputId": "a222c3f1-6c10-45b1-eda7-5ce4402ad1bb"
      },
      "source": [
        "word_vectors.most_similar(\"elizabete\")"
      ],
      "execution_count": 22,
      "outputs": [
        {
          "output_type": "execute_result",
          "data": {
            "text/plain": [
              "[('joana', 0.7828384041786194),\n",
              " ('elídia', 0.7808018922805786),\n",
              " ('arcângela', 0.7692556381225586),\n",
              " ('maria', 0.7659809589385986),\n",
              " ('felisbela', 0.7649518847465515),\n",
              " ('andreza', 0.7636873722076416),\n",
              " ('thomazia', 0.7636217474937439),\n",
              " ('francisca', 0.7602137327194214),\n",
              " ('eleonora', 0.7596681118011475),\n",
              " ('deodata', 0.7594977617263794)]"
            ]
          },
          "metadata": {},
          "execution_count": 22
        }
      ]
    },
    {
      "cell_type": "code",
      "source": [
        "word_vectors.most_similar(\"raiva\")"
      ],
      "metadata": {
        "colab": {
          "base_uri": "https://localhost:8080/"
        },
        "id": "ge-juBujjR2d",
        "outputId": "1fe792e8-bb95-495f-f0fd-4f0d623ad108"
      },
      "execution_count": 23,
      "outputs": [
        {
          "output_type": "execute_result",
          "data": {
            "text/plain": [
              "[('medo', 0.8303433656692505),\n",
              " ('frustração', 0.8079831600189209),\n",
              " ('desespero', 0.8039345741271973),\n",
              " ('tristeza', 0.800615668296814),\n",
              " ('remorso', 0.7922823429107666),\n",
              " ('desgosto', 0.7901228666305542),\n",
              " ('inveja', 0.781806468963623),\n",
              " ('ciúmes', 0.7798185348510742),\n",
              " ('ódio', 0.776374101638794),\n",
              " ('repugnância', 0.7657582759857178)]"
            ]
          },
          "metadata": {},
          "execution_count": 23
        }
      ]
    },
    {
      "cell_type": "code",
      "source": [
        "word_vectors.most_similar(\"segunda\")"
      ],
      "metadata": {
        "colab": {
          "base_uri": "https://localhost:8080/"
        },
        "id": "kw3cTj45jTpB",
        "outputId": "f2523e9d-cd64-40cd-fb6c-b14716924f46"
      },
      "execution_count": 24,
      "outputs": [
        {
          "output_type": "execute_result",
          "data": {
            "text/plain": [
              "[('primeira', 0.8965903520584106),\n",
              " ('quarta', 0.8717238903045654),\n",
              " ('terceira', 0.8408156037330627),\n",
              " ('última', 0.8141331672668457),\n",
              " ('sétima', 0.807178258895874),\n",
              " ('sexta', 0.7998778820037842),\n",
              " ('décima', 0.7983245849609375),\n",
              " ('penúltima', 0.7719092965126038),\n",
              " ('nona', 0.7675511240959167),\n",
              " ('oitava', 0.7670223712921143)]"
            ]
          },
          "metadata": {},
          "execution_count": 24
        }
      ]
    },
    {
      "cell_type": "code",
      "source": [
        "word_vectors.most_similar(\"dois\")"
      ],
      "metadata": {
        "colab": {
          "base_uri": "https://localhost:8080/"
        },
        "id": "PtFoy4Y7jV79",
        "outputId": "3e4fdede-2c5c-4387-ec83-49194e937162"
      },
      "execution_count": 25,
      "outputs": [
        {
          "output_type": "execute_result",
          "data": {
            "text/plain": [
              "[('três', 0.8804982304573059),\n",
              " ('quatro', 0.8787742257118225),\n",
              " ('seis', 0.844917893409729),\n",
              " ('cinco', 0.8440984487533569),\n",
              " ('oito', 0.8346582651138306),\n",
              " ('ambos', 0.82096266746521),\n",
              " ('nove', 0.8060351014137268),\n",
              " ('vários', 0.8052262663841248),\n",
              " ('os', 0.8016588091850281),\n",
              " ('sete', 0.7854640483856201)]"
            ]
          },
          "metadata": {},
          "execution_count": 25
        }
      ]
    },
    {
      "cell_type": "code",
      "source": [
        "word_vectors.most_similar(\"computação\")"
      ],
      "metadata": {
        "colab": {
          "base_uri": "https://localhost:8080/"
        },
        "id": "CJisnGdxjZMC",
        "outputId": "28940385-0a55-4a23-da65-258c3b6cdba8"
      },
      "execution_count": 26,
      "outputs": [
        {
          "output_type": "execute_result",
          "data": {
            "text/plain": [
              "[('computacional', 0.8587305545806885),\n",
              " ('informática', 0.8066875338554382),\n",
              " ('microeletrônica', 0.7903156280517578),\n",
              " ('bioinspirada', 0.7866970300674438),\n",
              " ('computacionais', 0.7839764356613159),\n",
              " ('biomatemática', 0.7749572992324829),\n",
              " ('ubicomp', 0.7651089429855347),\n",
              " ('lamce', 0.7647029757499695),\n",
              " ('imecc', 0.7626293897628784),\n",
              " ('bioinformática', 0.7598603963851929)]"
            ]
          },
          "metadata": {},
          "execution_count": 26
        }
      ]
    },
    {
      "cell_type": "markdown",
      "metadata": {
        "id": "_Tc5XIJIAC6W"
      },
      "source": [
        "<b> Operação Vetorial</b>\n",
        "\n",
        "Na aula teórica, estudamos sobre as operação entre os vetores. \n",
        "Agora vamos ver na prática:\n",
        "\n",
        "```python\n",
        "#exemplo:\n",
        "word_vectors.wv.most_similar(positive=['mulher', 'rei'], negative=['homem'], topn=10)\n",
        "```\n",
        "\n",
        "<b>Atividade</b>\n",
        "\n",
        "12) Execute o exemplo acima em uma célula e repita para os seguintes cenários:\n",
        "\n",
        "- menino, menina, homem\n",
        "- caminhada, andar, correr\n",
        "- filho, filha, irmã\n",
        "- pai, mãe, avô\n",
        "\n",
        "<b> Reflita </b> as palavras similares fazem sentido?"
      ]
    },
    {
      "cell_type": "code",
      "metadata": {
        "id": "Upx2n9h9bhKm",
        "colab": {
          "base_uri": "https://localhost:8080/"
        },
        "outputId": "08e70d23-ba55-41cc-987c-8718b8abadbe"
      },
      "source": [
        "word_vectors.wv.most_similar(positive=['menino', 'menina'], negative=['homem'], topn=10)"
      ],
      "execution_count": 27,
      "outputs": [
        {
          "output_type": "execute_result",
          "data": {
            "text/plain": [
              "[('garotinha', 0.746025800704956),\n",
              " ('criança', 0.7124738693237305),\n",
              " ('izildinha', 0.6914386749267578),\n",
              " ('garota', 0.6765151619911194),\n",
              " ('órfã', 0.6759505271911621),\n",
              " ('filhinha', 0.6749870777130127),\n",
              " ('avó', 0.6711723804473877),\n",
              " ('babá', 0.6623851656913757),\n",
              " ('irmãzinha', 0.6621854305267334),\n",
              " ('moça', 0.6594897508621216)]"
            ]
          },
          "metadata": {},
          "execution_count": 27
        }
      ]
    },
    {
      "cell_type": "code",
      "source": [
        "word_vectors.wv.most_similar(positive=['caminhada', 'andar'], negative=['correr'], topn=10)"
      ],
      "metadata": {
        "colab": {
          "base_uri": "https://localhost:8080/"
        },
        "id": "oTTD0Hl-jjgu",
        "outputId": "6cada7d5-4cac-42a5-bc6a-e8a4f684ed5b"
      },
      "execution_count": 28,
      "outputs": [
        {
          "output_type": "execute_result",
          "data": {
            "text/plain": [
              "[('caminhadas', 0.618974506855011),\n",
              " ('pavimento', 0.606018602848053),\n",
              " ('passeio', 0.6024052500724792),\n",
              " ('piquenique', 0.598796546459198),\n",
              " ('sala', 0.5944793224334717),\n",
              " ('terraço', 0.5920617580413818),\n",
              " ('rampa', 0.5885153412818909),\n",
              " ('passarela', 0.5874667167663574),\n",
              " ('climatizada', 0.5863767862319946),\n",
              " ('calçadão', 0.5852184295654297)]"
            ]
          },
          "metadata": {},
          "execution_count": 28
        }
      ]
    },
    {
      "cell_type": "code",
      "source": [
        "word_vectors.wv.most_similar(positive=['filho', 'filha'], negative=['irmã'], topn=10)"
      ],
      "metadata": {
        "colab": {
          "base_uri": "https://localhost:8080/"
        },
        "id": "JOV8NHoXjkWE",
        "outputId": "7f2432ea-d810-46ba-f147-537a45239910"
      },
      "execution_count": 29,
      "outputs": [
        {
          "output_type": "execute_result",
          "data": {
            "text/plain": [
              "[('bisneto', 0.851236879825592),\n",
              " ('neto', 0.8316095471382141),\n",
              " ('primogênito', 0.8290099501609802),\n",
              " ('bisavô', 0.822635293006897),\n",
              " ('sobrinho', 0.8176089525222778),\n",
              " ('avô', 0.816977858543396),\n",
              " ('sogro', 0.8009151220321655),\n",
              " ('pai', 0.799014687538147),\n",
              " ('primogénito', 0.785844624042511),\n",
              " ('genro', 0.7755304574966431)]"
            ]
          },
          "metadata": {},
          "execution_count": 29
        }
      ]
    },
    {
      "cell_type": "code",
      "source": [
        "word_vectors.wv.most_similar(positive=['pai', 'mãe'], negative=['avô'], topn=10)"
      ],
      "metadata": {
        "colab": {
          "base_uri": "https://localhost:8080/"
        },
        "id": "IexNKoMwjkvU",
        "outputId": "2cdb36fe-b391-4960-a9e1-95cbd142cd6b"
      },
      "execution_count": 30,
      "outputs": [
        {
          "output_type": "execute_result",
          "data": {
            "text/plain": [
              "[('avó', 0.8150790929794312),\n",
              " ('adotiva', 0.8064451813697815),\n",
              " ('irmã', 0.7990934252738953),\n",
              " ('esposa', 0.7982308268547058),\n",
              " ('madrasta', 0.7841061353683472),\n",
              " ('tia', 0.7805376052856445),\n",
              " ('falecida', 0.7775087356567383),\n",
              " ('eutímia', 0.7673025727272034),\n",
              " ('superprotegida', 0.7659645676612854),\n",
              " ('consternada', 0.7656985521316528)]"
            ]
          },
          "metadata": {},
          "execution_count": 30
        }
      ]
    },
    {
      "cell_type": "markdown",
      "metadata": {
        "id": "bEGWYtn4AC7P"
      },
      "source": [
        "### Treinando seu embedding\n",
        "\n",
        "Aqui vamos utilizar o corpus machado. São textos/contos escritos por Machado de Assis.\n",
        "Esse corpus é diponibilizado pelo NLTK."
      ]
    },
    {
      "cell_type": "code",
      "metadata": {
        "id": "Rdmp3F3OTl0B"
      },
      "source": [
        "from nltk.corpus import machado"
      ],
      "execution_count": 31,
      "outputs": []
    },
    {
      "cell_type": "code",
      "metadata": {
        "id": "PDebqiPkLE3h",
        "colab": {
          "base_uri": "https://localhost:8080/"
        },
        "outputId": "8dc2f11e-a3b1-45b3-b840-e7f7cfe505ae"
      },
      "source": [
        "import nltk\n",
        "from nltk.corpus import machado\n",
        "nltk.download('machado')"
      ],
      "execution_count": 32,
      "outputs": [
        {
          "output_type": "stream",
          "name": "stderr",
          "text": [
            "[nltk_data] Downloading package machado to /root/nltk_data...\n",
            "[nltk_data]   Package machado is already up-to-date!\n"
          ]
        },
        {
          "output_type": "execute_result",
          "data": {
            "text/plain": [
              "True"
            ]
          },
          "metadata": {},
          "execution_count": 32
        }
      ]
    },
    {
      "cell_type": "code",
      "metadata": {
        "id": "EXFpVSHcRACL"
      },
      "source": [
        "raw_casmurro = machado.raw('contos/macn001.txt')"
      ],
      "execution_count": 33,
      "outputs": []
    },
    {
      "cell_type": "markdown",
      "metadata": {
        "id": "XHribhOLAC7m"
      },
      "source": [
        "O método ''machado_sents()'' retorna todo o texto quebrado pelas setenças e já tokenizado.\n",
        "\n",
        "As sentenças são separadas pelo \"\\n\". Dentro de cada sentença, divide os tokens separadas pelo espaço."
      ]
    },
    {
      "cell_type": "code",
      "source": [
        "nltk.download('punkt')"
      ],
      "metadata": {
        "colab": {
          "base_uri": "https://localhost:8080/"
        },
        "id": "dIWyk9QBkeWW",
        "outputId": "d0f4c041-4957-4cc4-f93c-da10d6f8fc68"
      },
      "execution_count": 34,
      "outputs": [
        {
          "output_type": "stream",
          "name": "stderr",
          "text": [
            "[nltk_data] Downloading package punkt to /root/nltk_data...\n",
            "[nltk_data]   Package punkt is already up-to-date!\n"
          ]
        },
        {
          "output_type": "execute_result",
          "data": {
            "text/plain": [
              "True"
            ]
          },
          "metadata": {},
          "execution_count": 34
        }
      ]
    },
    {
      "cell_type": "code",
      "metadata": {
        "id": "r15rrg-qAC7m",
        "colab": {
          "base_uri": "https://localhost:8080/"
        },
        "outputId": "b4fbd0fc-ef5e-4d82-c0ba-cecee08f510d"
      },
      "source": [
        "machado_sents = machado.sents()\n",
        "print(machado_sents)"
      ],
      "execution_count": 35,
      "outputs": [
        {
          "output_type": "stream",
          "name": "stdout",
          "text": [
            "[['Conto', ',', 'Contos', 'Fluminenses', ',', '1870'], ['Contos', 'Fluminenses'], ...]\n"
          ]
        }
      ]
    },
    {
      "cell_type": "markdown",
      "metadata": {
        "id": "Ek1UIrtOAC7s"
      },
      "source": [
        "Vamos relizar um pré-processamento mínimo nos dados. Lembrando que: o pré-processamento é impotatíssimo no resultado final.\n",
        "\n",
        "<b> Atividade </b>\n",
        "\n",
        "13) Aplique as técnicas abaixo no documento <b> machado_sents</b>: \n",
        "\n",
        "- lower\n",
        "- remoção pontuações"
      ]
    },
    {
      "cell_type": "code",
      "metadata": {
        "id": "m_-j4YppbonC"
      },
      "source": [
        "texto_machado_limpo = [[palavra.lower() for palavra in sentence if palavra not in string.punctuation] for sentence in machado_sents]"
      ],
      "execution_count": 36,
      "outputs": []
    },
    {
      "cell_type": "markdown",
      "metadata": {
        "id": "RhJKgQwTAC72"
      },
      "source": [
        "<b> Treinando o embedding </b> \n",
        "\n",
        "Para treinar os embeddings existem alguns parâmetros, vide exemplo abaixo:\n",
        "\n",
        "```python\n",
        "#Alguns parâmetros:\n",
        "## size -> dimensão vetor\n",
        "## min_count -> ignora todas palavras cuja frequência mínima é menor que este\n",
        "## workers -> quantas threads serão utilizadas para treinar o modelo\n",
        "## seed -> seed para geração do numero aleatório. \n",
        "## sg -> 1 para skip-gram; caso contrário CBOW.\n",
        "## window -> contexto, Distância máxima entre a palavra atual e a prevista em uma frase. O default é 5.\n",
        "model = word2vec.Word2Vec(text_preproc, min_count=10, workers=4, seed=123, sg=1, size=300, window=5)\n",
        "```\n",
        "\n",
        "<b> Atividade </b>\n",
        "\n",
        "14) Gere os embeddings com o texto processado do documento de Machado de Assis.\n"
      ]
    },
    {
      "cell_type": "code",
      "metadata": {
        "id": "-M_AZkXtbrM5"
      },
      "source": [
        "model = word2vec.Word2Vec(texto_machado_limpo, min_count=10, workers=4, seed=123, sg=1, size=300, window=5)"
      ],
      "execution_count": 37,
      "outputs": []
    },
    {
      "cell_type": "markdown",
      "metadata": {
        "id": "tvhul62-AC79"
      },
      "source": [
        "\n",
        "<b> Atividade </b>\n",
        "\n",
        "15) Faça os itens abaixo:\n",
        "\n",
        "- Verifique o vetor de embeddings da variável \"dom\"\n",
        "- Verifique a similaridade entre \"mulher\" e \"homem\"\n",
        "- Verifique a similaridade entre \"dom\" e \"casmurro\""
      ]
    },
    {
      "cell_type": "code",
      "metadata": {
        "id": "TZonLVIcbuaF",
        "colab": {
          "base_uri": "https://localhost:8080/"
        },
        "outputId": "7b8040c2-9bf2-4684-c252-249575a86d67"
      },
      "source": [
        "model[\"dom\"]"
      ],
      "execution_count": 38,
      "outputs": [
        {
          "output_type": "execute_result",
          "data": {
            "text/plain": [
              "array([ 2.46623382e-02, -1.79799497e-01, -4.55295853e-02,  9.98698249e-02,\n",
              "       -1.28638625e-01, -8.56027007e-03, -8.14282224e-02,  7.28060082e-02,\n",
              "       -2.76268899e-01, -7.74742663e-02,  3.27441394e-02, -1.32716419e-02,\n",
              "        4.53083962e-03,  1.24625318e-01,  3.54764760e-02,  4.06800546e-02,\n",
              "        8.25202763e-02,  6.16482720e-02,  6.69777468e-02, -8.48801658e-02,\n",
              "        2.33934596e-02, -2.50353366e-01, -6.43717945e-02,  1.45843029e-01,\n",
              "       -9.96185094e-03, -1.92890335e-02,  9.74601284e-02,  1.48234606e-01,\n",
              "        2.33132951e-02, -5.12143336e-02, -2.12300077e-01, -1.20087653e-01,\n",
              "        3.72971259e-02,  2.29516253e-02,  2.91521072e-01, -5.08417562e-02,\n",
              "        1.40132941e-02,  6.60813376e-02, -7.27419630e-02,  1.09807737e-01,\n",
              "        1.34004161e-01, -1.19499639e-01, -3.43735814e-01, -3.98035310e-02,\n",
              "        5.99022992e-02,  1.43913431e-02,  1.50906339e-01, -1.41865656e-01,\n",
              "        1.98086854e-02, -8.62809643e-02,  1.48854032e-01,  3.09867151e-02,\n",
              "       -1.44754425e-01,  7.90703818e-02, -1.00079454e-01,  1.11459136e-01,\n",
              "       -1.81756243e-02, -3.48356441e-02, -1.80615038e-01,  1.40125513e-01,\n",
              "       -9.72993225e-02, -1.99515656e-01, -1.03219904e-01,  1.19076021e-01,\n",
              "       -1.31558999e-01, -3.71620767e-02,  6.04570210e-02, -1.20457895e-01,\n",
              "        8.83891359e-02, -1.31945714e-01, -4.62021470e-01,  1.03049949e-02,\n",
              "       -5.25810570e-02,  7.22368881e-02, -9.21243057e-02,  8.28019977e-02,\n",
              "       -3.53038944e-02,  5.00941612e-02,  5.59013709e-02,  8.11644271e-02,\n",
              "        5.21606877e-02, -5.93030304e-02, -1.35313988e-01,  1.21627584e-01,\n",
              "       -2.98161596e-01, -1.50268257e-01, -3.52810659e-02, -5.86985722e-02,\n",
              "       -1.30835513e-03, -9.68553647e-02, -1.19394138e-01, -7.31387138e-02,\n",
              "        1.12691447e-01, -7.84907863e-02, -1.28714785e-01,  1.48639634e-01,\n",
              "       -1.34522691e-01, -1.54839665e-01, -1.27733260e-01,  1.02358818e-01,\n",
              "       -1.07746132e-01,  4.12399136e-02, -1.77161306e-01,  4.74110171e-02,\n",
              "        5.34474291e-02,  2.30683073e-01, -7.83671513e-02, -9.71072242e-02,\n",
              "       -9.12194885e-03,  1.14382468e-01, -9.49281305e-02, -4.64621074e-02,\n",
              "        2.77335495e-01, -1.09741479e-01,  1.97343439e-01, -1.40048653e-01,\n",
              "        1.42536998e-01,  6.82723150e-02, -1.22203976e-01, -2.15868413e-01,\n",
              "       -1.28866002e-01, -7.29933083e-02,  2.37841651e-01,  2.03755990e-01,\n",
              "        1.43925726e-01, -1.29250765e-01,  1.19822323e-01,  3.95961888e-02,\n",
              "       -1.26062930e-01,  1.35609852e-02, -8.68244022e-02,  8.56933038e-05,\n",
              "        1.74885839e-01, -5.52844517e-02, -2.04624385e-02, -1.27021566e-01,\n",
              "       -2.93532938e-01,  5.21257520e-02,  2.33145222e-01,  6.29737079e-02,\n",
              "       -1.18782826e-01, -1.21701397e-01, -5.13380021e-02,  2.99733388e-03,\n",
              "       -1.26403466e-01, -8.29920843e-02, -2.42772736e-02,  7.29303434e-02,\n",
              "        3.70370783e-02,  1.92765176e-01,  8.56157392e-02, -2.03027993e-01,\n",
              "        4.73727398e-02, -7.87722915e-02, -1.24623686e-01, -5.87231368e-02,\n",
              "       -1.06288567e-01, -4.65743653e-02,  3.57856341e-02,  5.35923131e-02,\n",
              "       -7.42276162e-02, -8.21217327e-05, -6.93605393e-02,  1.89911917e-01,\n",
              "       -9.86810401e-02,  4.17450722e-03,  6.78796042e-03,  8.10878277e-02,\n",
              "        1.83178917e-01,  6.83989525e-02, -4.63885367e-02, -8.15954804e-02,\n",
              "       -1.17343657e-01, -2.42480054e-03,  5.69517128e-02,  4.31644358e-02,\n",
              "        1.22018024e-01, -4.61987443e-02, -2.39151623e-02, -5.14192730e-02,\n",
              "       -1.39810190e-01,  5.63516840e-02,  1.96409971e-01, -1.00819640e-01,\n",
              "       -1.43561456e-02,  5.51338978e-02,  1.66258067e-01, -2.05924898e-01,\n",
              "       -9.42424238e-02,  3.50815654e-02, -1.38908207e-01, -7.17520192e-02,\n",
              "        2.24184677e-01,  1.26496211e-01,  2.18999788e-01, -1.16957858e-01,\n",
              "        1.30243063e-01,  2.27037430e-01, -2.00550050e-01,  4.55475338e-02,\n",
              "       -2.07464918e-01, -8.76094475e-02,  5.67798968e-03,  1.19364433e-01,\n",
              "        1.08015493e-01, -2.59360731e-01,  8.63386467e-02,  1.19998746e-01,\n",
              "        9.62132886e-02, -1.57983452e-01, -9.12196711e-02, -7.27198124e-02,\n",
              "       -7.71412253e-02, -3.03045996e-02, -2.60852486e-01, -6.85333982e-02,\n",
              "        4.79145348e-02,  2.36220714e-02,  1.50376514e-01, -2.21896474e-03,\n",
              "       -2.50812918e-01, -2.00268142e-02, -3.02878954e-02, -1.55548275e-01,\n",
              "       -1.09046511e-01,  1.54635787e-01,  5.54509349e-02,  8.31143185e-03,\n",
              "       -7.88591653e-02, -9.22126621e-02, -1.34449393e-01,  2.16398507e-01,\n",
              "       -1.26249054e-02, -1.27785400e-01, -2.16060758e-01, -2.36455142e-01,\n",
              "        5.97619899e-02,  1.58136845e-01, -1.29665397e-02,  1.45509526e-01,\n",
              "       -1.80139095e-01,  5.79445846e-02,  1.08974375e-01,  1.59518030e-02,\n",
              "       -3.00091475e-01, -7.05992803e-02, -1.62863150e-01, -1.70008205e-02,\n",
              "       -1.51788473e-01, -2.44879145e-02,  7.23419115e-02, -1.37428761e-01,\n",
              "       -1.69607550e-01, -1.78517967e-01,  7.58831576e-03,  7.63475373e-02,\n",
              "       -6.11281283e-02,  1.51109666e-01,  1.69131644e-02, -1.24935642e-01,\n",
              "        1.83116030e-02,  1.76354647e-02,  2.99126077e-02, -6.51365593e-02,\n",
              "       -4.08090763e-02,  1.57339543e-01, -1.52106080e-02,  3.17531943e-01,\n",
              "        1.43821135e-01, -6.87233359e-02,  3.27090360e-02, -6.29907325e-02,\n",
              "        1.17736263e-02,  1.40344575e-01,  2.34958589e-01, -2.32265051e-02,\n",
              "        1.01208933e-01, -1.34573892e-01, -7.42191449e-02,  8.31609592e-02,\n",
              "        2.58648805e-02, -4.17148648e-03, -8.05110782e-02,  1.24111503e-01,\n",
              "        1.16457179e-01, -1.43140569e-01,  2.00306341e-01, -1.61728516e-01,\n",
              "       -2.33361691e-01, -1.59884930e-01, -1.51479334e-01,  1.50107662e-03,\n",
              "        1.01283200e-01, -1.03668170e-02, -2.09441781e-01,  1.18568636e-01,\n",
              "        9.24233124e-02, -6.35068715e-02,  1.03431784e-01, -1.18206255e-01],\n",
              "      dtype=float32)"
            ]
          },
          "metadata": {},
          "execution_count": 38
        }
      ]
    },
    {
      "cell_type": "code",
      "source": [
        "model.wv.most_similar(positive=['mulher'], negative=['homem'], topn=10)"
      ],
      "metadata": {
        "colab": {
          "base_uri": "https://localhost:8080/"
        },
        "id": "ZnogwjZPmrqn",
        "outputId": "7e6fc9b3-7a40-4527-f63c-0ab0933ad759"
      },
      "execution_count": 39,
      "outputs": [
        {
          "output_type": "execute_result",
          "data": {
            "text/plain": [
              "[('irmã', 0.4433215260505676),\n",
              " ('amiga', 0.42843353748321533),\n",
              " ('madrinha', 0.40657585859298706),\n",
              " ('noiva', 0.39887291193008423),\n",
              " ('mãe', 0.3765908479690552),\n",
              " ('júlia', 0.3707626461982727),\n",
              " ('teresa', 0.36557620763778687),\n",
              " ('julieta', 0.3618319034576416),\n",
              " ('tia', 0.35566312074661255),\n",
              " ('prima', 0.3553912937641144)]"
            ]
          },
          "metadata": {},
          "execution_count": 39
        }
      ]
    },
    {
      "cell_type": "code",
      "source": [
        "word_vectors.wv.most_similar(positive=['mulher', 'homem'], topn=10)"
      ],
      "metadata": {
        "colab": {
          "base_uri": "https://localhost:8080/"
        },
        "id": "_fd3eX2snAfR",
        "outputId": "a4570929-2fd4-4883-a440-ac5663489894"
      },
      "execution_count": 40,
      "outputs": [
        {
          "output_type": "execute_result",
          "data": {
            "text/plain": [
              "[('rapaz', 0.772354006767273),\n",
              " ('travestia', 0.7695128917694092),\n",
              " ('moça', 0.751427412033081),\n",
              " ('cleptomaníaca', 0.7499310970306396),\n",
              " ('culpasse', 0.7490247488021851),\n",
              " ('menina', 0.7396829128265381),\n",
              " ('criança', 0.7395275831222534),\n",
              " ('pirgopolinices', 0.7394336462020874),\n",
              " ('spindella', 0.7391446828842163),\n",
              " ('inocente', 0.738737940788269)]"
            ]
          },
          "metadata": {},
          "execution_count": 40
        }
      ]
    },
    {
      "cell_type": "code",
      "source": [
        "model.wv.most_similar(positive=['dom'], negative=['casmurro'], topn=10)"
      ],
      "metadata": {
        "colab": {
          "base_uri": "https://localhost:8080/"
        },
        "id": "WG89m_rknO2X",
        "outputId": "84436e9b-e3cd-4eb9-bc92-188cff49693f"
      },
      "execution_count": 41,
      "outputs": [
        {
          "output_type": "execute_result",
          "data": {
            "text/plain": [
              "[('modelo', 0.271146297454834),\n",
              " ('eminente', 0.23938317596912384),\n",
              " ('joaquim', 0.2389635145664215),\n",
              " ('culto', 0.23701831698417664),\n",
              " ('poema', 0.23521819710731506),\n",
              " ('homero', 0.23239949345588684),\n",
              " ('elemento', 0.22509215772151947),\n",
              " ('hugo', 0.21425002813339233),\n",
              " ('gênio', 0.21298305690288544),\n",
              " ('caráter', 0.21115605533123016)]"
            ]
          },
          "metadata": {},
          "execution_count": 41
        }
      ]
    },
    {
      "cell_type": "code",
      "source": [
        "word_vectors.wv.most_similar(positive=['dom', 'casmurro'], topn=10)"
      ],
      "metadata": {
        "colab": {
          "base_uri": "https://localhost:8080/"
        },
        "id": "CYLd-_IonPA7",
        "outputId": "6e6cb645-6b59-4aaf-e7c1-31e9d745a79b"
      },
      "execution_count": 42,
      "outputs": [
        {
          "output_type": "execute_result",
          "data": {
            "text/plain": [
              "[('quixote', 0.7614538669586182),\n",
              " ('perlimplim', 0.7565604448318481),\n",
              " ('koaik', 0.7429561614990234),\n",
              " ('assis', 0.741490364074707),\n",
              " ('bergonzini', 0.7389904260635376),\n",
              " ('dalvit', 0.7323393225669861),\n",
              " ('zattera', 0.732326090335846),\n",
              " ('demettino', 0.7277851104736328),\n",
              " ('misiara', 0.7227809429168701),\n",
              " ('belvino', 0.7218409776687622)]"
            ]
          },
          "metadata": {},
          "execution_count": 42
        }
      ]
    },
    {
      "cell_type": "markdown",
      "metadata": {
        "id": "gzTUg-IaAC8K"
      },
      "source": [
        "<b> Salvando o modelo</b>"
      ]
    },
    {
      "cell_type": "code",
      "metadata": {
        "id": "VB9agjQYAC8L"
      },
      "source": [
        "model.wv.save_word2vec_format('model_TESTE.bin', binary=True)"
      ],
      "execution_count": 74,
      "outputs": []
    },
    {
      "cell_type": "markdown",
      "metadata": {
        "id": "xMjXdQ13AC8P"
      },
      "source": [
        "<b> Atividade </b>\n",
        "\n",
        "Dada as seguintes palavras:\n",
        "\n",
        "foi, relógio, amor, raiva, brasil.\n",
        "\n",
        "16) Escreva um método que retorne uma lista com as 5 palavras similares de cada uma das listadas anteriormente.\n",
        "Imprima a lista das palavras similares, incluindo a palavra origem."
      ]
    },
    {
      "cell_type": "code",
      "metadata": {
        "id": "e5d6DypjbyE9",
        "colab": {
          "base_uri": "https://localhost:8080/"
        },
        "outputId": "7fd426b7-4e33-4037-d789-5b69e948e1e6"
      },
      "source": [
        "#model = gensim.models.KeyedVectors.load(\"model_TESTE.bin\")\n",
        "foi = model.most_similar(positive=[model.wv['foi']], topn=6)\n",
        "print(foi)"
      ],
      "execution_count": 122,
      "outputs": [
        {
          "output_type": "stream",
          "name": "stdout",
          "text": [
            "[('foi', 1.0), ('fui', 0.5762040615081787), ('passou', 0.5593694448471069), ('substituiu', 0.5525878667831421), ('serviu', 0.5434169769287109), ('aventurou', 0.5229870676994324)]\n"
          ]
        }
      ]
    },
    {
      "cell_type": "code",
      "source": [
        "relogio = model.most_similar(positive=[model.wv['relógio']], topn=6)\n",
        "print(relogio)"
      ],
      "metadata": {
        "colab": {
          "base_uri": "https://localhost:8080/"
        },
        "id": "gAl3mUmcn6P9",
        "outputId": "ddd70c88-156c-48f8-e8d5-6f56151c2e88"
      },
      "execution_count": 124,
      "outputs": [
        {
          "output_type": "stream",
          "name": "stdout",
          "text": [
            "[('relógio', 0.9999999403953552), ('embrulho', 0.7144136428833008), ('cigarro', 0.7104988098144531), ('rolo', 0.7049790620803833), ('paletó', 0.7043344974517822), ('revólver', 0.6978468894958496)]\n"
          ]
        }
      ]
    },
    {
      "cell_type": "code",
      "source": [
        "amor = model.most_similar(positive=[model.wv['amor']], topn=6)\n",
        "print(amor)"
      ],
      "metadata": {
        "colab": {
          "base_uri": "https://localhost:8080/"
        },
        "id": "-81NyyXpn6gZ",
        "outputId": "15ab3eef-269d-450e-b938-949faac09a29"
      },
      "execution_count": 123,
      "outputs": [
        {
          "output_type": "stream",
          "name": "stdout",
          "text": [
            "[('amor', 0.9999998807907104), ('ciúme', 0.7007174491882324), ('afeto', 0.6624516248703003), ('arrependimento', 0.6551109552383423), ('orgulho', 0.651790976524353), ('casto', 0.6442558169364929)]\n"
          ]
        }
      ]
    },
    {
      "cell_type": "code",
      "source": [
        "raiva = model.most_similar(positive=[model.wv['raiva']], topn=6)\n",
        "print(raiva)"
      ],
      "metadata": {
        "colab": {
          "base_uri": "https://localhost:8080/"
        },
        "id": "BdpKlfNvn7BK",
        "outputId": "4303020f-90ec-4665-c9a3-d2b282a46093"
      },
      "execution_count": 125,
      "outputs": [
        {
          "output_type": "stream",
          "name": "stdout",
          "text": [
            "[('raiva', 1.0), ('assustada', 0.8181374073028564), ('enxugar', 0.8014365434646606), ('mordia', 0.7989342212677002), ('morder', 0.7957184314727783), ('brandamente', 0.7923932671546936)]\n"
          ]
        }
      ]
    },
    {
      "cell_type": "code",
      "source": [
        "brasil = model.most_similar(positive=[model.wv['brasil']], topn=6)\n",
        "print(brasil)"
      ],
      "metadata": {
        "colab": {
          "base_uri": "https://localhost:8080/"
        },
        "id": "7gr2HNpEn7SU",
        "outputId": "03777c75-5db5-4547-99cc-93ddf8ba3bca"
      },
      "execution_count": 126,
      "outputs": [
        {
          "output_type": "stream",
          "name": "stdout",
          "text": [
            "[('brasil', 1.0), ('méxico', 0.7969744205474854), ('parlamento', 0.7857391238212585), ('maranhão', 0.7796949148178101), ('município', 0.7780003547668457), ('paraguai', 0.766044020652771)]\n"
          ]
        }
      ]
    },
    {
      "cell_type": "markdown",
      "metadata": {
        "id": "sX5yNDdNAC8n"
      },
      "source": [
        "### Visualização"
      ]
    },
    {
      "cell_type": "markdown",
      "metadata": {
        "id": "q_8sL0sOAC8o"
      },
      "source": [
        "Para a visualização dos embeddings iremos  construir um array com todas as palavras retornadas anteriormente.\n",
        "\n",
        "<b> Atividade </b>\n",
        "\n",
        "17) Primeiro, gere uma única lista com todas as palavras retornadas anteriomente. O array deve ter tamanho 30."
      ]
    },
    {
      "cell_type": "code",
      "metadata": {
        "id": "V2mnmx59AC8o",
        "colab": {
          "base_uri": "https://localhost:8080/"
        },
        "outputId": "11f040fe-160b-49fb-cde2-501db49b313f"
      },
      "source": [
        "all = foi + brasil + amor + relogio + raiva\n",
        "all_words = re.findall(r\"\\w+(?:'\\w+)?|[^\\w\\s]\", str(all))\n",
        "all_words = [t.lower() for t in all_words]\n",
        "all_words = [re.sub(r'\\d', '', t) for t in all_words]\n",
        "all_words = [t for t in all_words if t not in string.punctuation]\n",
        "len(all_words)"
      ],
      "execution_count": 128,
      "outputs": [
        {
          "output_type": "execute_result",
          "data": {
            "text/plain": [
              "30"
            ]
          },
          "metadata": {},
          "execution_count": 128
        }
      ]
    },
    {
      "cell_type": "markdown",
      "metadata": {
        "id": "IhO4tuvyAC8w"
      },
      "source": [
        "18) O código abaixo gera um array com todos os embeddings das palavras anteriores. Este array terá dimensão (30,300)"
      ]
    },
    {
      "cell_type": "code",
      "metadata": {
        "id": "2T4mDJ_cAC8x",
        "colab": {
          "base_uri": "https://localhost:8080/"
        },
        "outputId": "b4e5641d-b74c-4264-fc18-6b211939ffb1"
      },
      "source": [
        "array_embeddings = np.empty((0,300), dtype='f')\n",
        "for w in all_words:\n",
        "  array_embeddings = np.append(array_embeddings, np.array([model[w]]), axis=0)\n",
        "print(array_embeddings.shape)"
      ],
      "execution_count": 129,
      "outputs": [
        {
          "output_type": "stream",
          "name": "stdout",
          "text": [
            "(30, 300)\n"
          ]
        }
      ]
    },
    {
      "cell_type": "markdown",
      "metadata": {
        "id": "2YjvhwhEAC85"
      },
      "source": [
        "<b>Dica: </b> Use a função abaixo para plotar o array 2D que será gerado com o método PCA, TSNE e UMAP"
      ]
    },
    {
      "cell_type": "code",
      "metadata": {
        "id": "stqEUCMSAC86"
      },
      "source": [
        "def plot_embedding_2d(array_2d, all_words, words_seed):\n",
        "    fig, ax = plt.subplots(1, 1, figsize=(12, 8))\n",
        "    for (x, y), w in zip(array_2d, all_words):\n",
        "        ax.scatter(x, y, c='red' if w in words_seed else 'blue')\n",
        "        ax.annotate(w,\n",
        "                     xy=(x, y),\n",
        "                     xytext=(5, 2),\n",
        "                     textcoords='offset points',\n",
        "                     ha='right',\n",
        "                     va='bottom')"
      ],
      "execution_count": 130,
      "outputs": []
    },
    {
      "cell_type": "markdown",
      "metadata": {
        "id": "dPvF4mqEAC89"
      },
      "source": [
        "#### PCA\n",
        "\n",
        "<b> É uma ténica que existe a mais de século. É rápido, determinístico e linear. Essa linearidade limita sua utilidade em domínios complexos, como linguagem natural ou imagens, onde a estrutura não linear. </b>\n",
        "\n",
        "Mais informações: https://medium.com/towards-artificial-intelligence/machine-learning-dimensionality-reduction-via-principal-component-analysis-1bdc77462831\n",
        "\n",
        "\n",
        "<b> Atividade </b>\n",
        "\n",
        "19) Gere a visualização dos embeddings anteriores utilizando o PCA para reduzir a dimensionalidade.\n",
        "\n",
        "Exemplo do PCA:\n",
        "\n",
        "```python\n",
        "#uso de PCA\n",
        "pca = PCA(n_components=2)\n",
        "pca_result = pca.fit_transform(array_embeddings)\n",
        "```"
      ]
    },
    {
      "cell_type": "code",
      "source": [
        "palavras = ['foi', 'amor', 'relógio', 'brasil', 'raiva']"
      ],
      "metadata": {
        "id": "VG_fBj3i_T-L"
      },
      "execution_count": 133,
      "outputs": []
    },
    {
      "cell_type": "code",
      "metadata": {
        "id": "Q_cir8Hjb97F"
      },
      "source": [
        "pca = PCA(n_components=2)\n",
        "pca_result = pca.fit_transform(array_embeddings)"
      ],
      "execution_count": 131,
      "outputs": []
    },
    {
      "cell_type": "code",
      "source": [
        "plot_embedding_2d(pca_result, all_words, palavras)"
      ],
      "metadata": {
        "colab": {
          "base_uri": "https://localhost:8080/",
          "height": 483
        },
        "id": "LZWYH2H439bQ",
        "outputId": "c0349cef-3eef-46ee-8fdc-f7a5fedccfff"
      },
      "execution_count": 134,
      "outputs": [
        {
          "output_type": "display_data",
          "data": {
            "image/png": "[encoded data removed]",
            "text/plain": [
              "<Figure size 864x576 with 1 Axes>"
            ]
          },
          "metadata": {
            "needs_background": "light"
          }
        }
      ]
    },
    {
      "cell_type": "markdown",
      "metadata": {
        "id": "DiydMeXhAC9G"
      },
      "source": [
        "#### TSNE\n",
        "<b> Uma técnica mais recente que captura estrutura não linear é o t-SNE, que significa distribuição estocástica de embedding viziznhos em t ( t-distributed Stochastic Neighbor Embedding). \n",
        "É uma ótima técnica para capturar a estrutura não linear em dados de alta dimensão(pelo menos em nível local). Isto é, dois pontos que são próximos no espaço de alta dimensão a probabilidade de estarem próximos em uma dimensão baixa é alta. </b>\n",
        "\n",
        "Mais informações: https://medium.com/@garora039/dimensionality-reduction-using-t-sne-effectively-cabb2cd519b\n",
        "\n",
        "<b> Atividade </b>\n",
        "\n",
        "20) Gere a visualização dos embeddings anteriores utilizando o TSNE para reduzir a dimensionalidade.\n",
        "\n",
        "Exemplo do TSNE:\n",
        "\n",
        "```python\n",
        "#uso de TSNE\n",
        "tsne = TSNE(n_components=2, random_state=0, perplexity=4)\n",
        "tsne_result =  tsne.fit_transform(array_embeddings)\n",
        "```"
      ]
    },
    {
      "cell_type": "code",
      "metadata": {
        "id": "V4AMZ2UZcDQa"
      },
      "source": [
        "tsne = TSNE(n_components=2, random_state=0, perplexity=4)\n",
        "tsne_result =  tsne.fit_transform(array_embeddings)"
      ],
      "execution_count": 112,
      "outputs": []
    },
    {
      "cell_type": "code",
      "source": [
        "plot_embedding_2d(tsne_result, all_words, palavras)"
      ],
      "metadata": {
        "colab": {
          "base_uri": "https://localhost:8080/",
          "height": 483
        },
        "id": "RAam8Z204VbN",
        "outputId": "05a8b389-0dc2-45e7-feff-73f24f819eb5"
      },
      "execution_count": 135,
      "outputs": [
        {
          "output_type": "display_data",
          "data": {
            "image/png": "[encoded data removed]",
            "text/plain": [
              "<Figure size 864x576 with 1 Axes>"
            ]
          },
          "metadata": {
            "needs_background": "light"
          }
        }
      ]
    },
    {
      "cell_type": "markdown",
      "metadata": {
        "id": "5mpCJ_VjAC9P"
      },
      "source": [
        "#### UMAP\n",
        "\n",
        "<b> Técnica super nova!! Foi lançada em 2018! Observe que o resultado do UMAP com o TSNE é semelhante. Mas existem várias vantagens do UMAP, por exemplo: é mais rápido que o t-SNE; ele captura melhor a estrutura global </b>\n",
        "\n",
        "Mais informações: https://medium.com/@dan.allison/dimensionality-reduction-with-umap-b081837354dd\n",
        "\n",
        "<b> Atividade </b>\n",
        "\n",
        "21) Gere a visualização dos embeddings anteriores utilizando o UMAP para reduzir a dimensionalidade.\n",
        "\n",
        "Exemplo do UMAP:\n",
        "\n",
        "```python\n",
        "#uso de TSNE\n",
        "umap = umap.UMAP()\n",
        "umap_result =  umap.fit_transform(array_embeddings)\n",
        "```"
      ]
    },
    {
      "cell_type": "code",
      "metadata": {
        "id": "X5L1MYnGcGHl"
      },
      "source": [
        "umap = umap.UMAP()\n",
        "umap_result =  umap.fit_transform(array_embeddings)"
      ],
      "execution_count": 114,
      "outputs": []
    },
    {
      "cell_type": "code",
      "metadata": {
        "id": "ANms6_aWbG6D",
        "colab": {
          "base_uri": "https://localhost:8080/",
          "height": 483
        },
        "outputId": "9dfd875c-dcc3-407b-e095-fba8e0d09e2a"
      },
      "source": [
        "plot_embedding_2d(umap_result, all_words, palavras)"
      ],
      "execution_count": 136,
      "outputs": [
        {
          "output_type": "display_data",
          "data": {
            "image/png": "[encoded data removed]",
            "text/plain": [
              "<Figure size 864x576 with 1 Axes>"
            ]
          },
          "metadata": {
            "needs_background": "light"
          }
        }
      ]
    }
  ]
}