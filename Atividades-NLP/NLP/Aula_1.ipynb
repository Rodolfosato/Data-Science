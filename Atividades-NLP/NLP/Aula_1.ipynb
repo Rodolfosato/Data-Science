{
  "nbformat": 4,
  "nbformat_minor": 0,
  "metadata": {
    "kernelspec": {
      "display_name": "nlp-class",
      "language": "python",
      "name": "nlp-class"
    },
    "language_info": {
      "codemirror_mode": {
        "name": "ipython",
        "version": 3
      },
      "file_extension": ".py",
      "mimetype": "text/x-python",
      "name": "python",
      "nbconvert_exporter": "python",
      "pygments_lexer": "ipython3",
      "version": "3.6.5"
    },
    "colab": {
      "name": "Pratica_Aula_1.ipynb",
      "provenance": [],
      "collapsed_sections": [
        "-XLXgdESYG-J",
        "wFER3k8KYe-F",
        "kWT1Es2jfrtz"
      ]
    }
  },
  "cells": [
    {
      "cell_type": "code",
      "metadata": {
        "id": "JlY_gfsowtDw",
        "colab": {
          "base_uri": "https://localhost:8080/"
        },
        "outputId": "ac3ba402-94f8-4f12-fab7-6b4d80072871"
      },
      "source": [
        "#Bibliotecas que precisam ser instaladas para a prática:\n",
        "!pip install unidecode==1.2.0\n",
        "!pip install wikipedia==1.4.0\n",
        "!pip install spacy==2.2.4\n",
        "!python -m spacy download en\n",
        "!python -m spacy download pt"
      ],
      "execution_count": 1,
      "outputs": [
        {
          "output_type": "stream",
          "name": "stdout",
          "text": [
            "Collecting unidecode==1.2.0\n",
            "  Downloading Unidecode-1.2.0-py2.py3-none-any.whl (241 kB)\n",
            "\u001b[?25l\r\u001b[K     |█▍                              | 10 kB 17.2 MB/s eta 0:00:01\r\u001b[K     |██▊                             | 20 kB 24.3 MB/s eta 0:00:01\r\u001b[K     |████                            | 30 kB 29.2 MB/s eta 0:00:01\r\u001b[K     |█████▍                          | 40 kB 33.4 MB/s eta 0:00:01\r\u001b[K     |██████▉                         | 51 kB 25.0 MB/s eta 0:00:01\r\u001b[K     |████████▏                       | 61 kB 21.6 MB/s eta 0:00:01\r\u001b[K     |█████████▌                      | 71 kB 19.5 MB/s eta 0:00:01\r\u001b[K     |██████████▉                     | 81 kB 20.5 MB/s eta 0:00:01\r\u001b[K     |████████████▏                   | 92 kB 22.2 MB/s eta 0:00:01\r\u001b[K     |█████████████▋                  | 102 kB 19.8 MB/s eta 0:00:01\r\u001b[K     |███████████████                 | 112 kB 19.8 MB/s eta 0:00:01\r\u001b[K     |████████████████▎               | 122 kB 19.8 MB/s eta 0:00:01\r\u001b[K     |█████████████████▋              | 133 kB 19.8 MB/s eta 0:00:01\r\u001b[K     |███████████████████             | 143 kB 19.8 MB/s eta 0:00:01\r\u001b[K     |████████████████████▍           | 153 kB 19.8 MB/s eta 0:00:01\r\u001b[K     |█████████████████████▊          | 163 kB 19.8 MB/s eta 0:00:01\r\u001b[K     |███████████████████████         | 174 kB 19.8 MB/s eta 0:00:01\r\u001b[K     |████████████████████████▍       | 184 kB 19.8 MB/s eta 0:00:01\r\u001b[K     |█████████████████████████▊      | 194 kB 19.8 MB/s eta 0:00:01\r\u001b[K     |███████████████████████████▏    | 204 kB 19.8 MB/s eta 0:00:01\r\u001b[K     |████████████████████████████▌   | 215 kB 19.8 MB/s eta 0:00:01\r\u001b[K     |█████████████████████████████▉  | 225 kB 19.8 MB/s eta 0:00:01\r\u001b[K     |███████████████████████████████▏| 235 kB 19.8 MB/s eta 0:00:01\r\u001b[K     |████████████████████████████████| 241 kB 19.8 MB/s \n",
            "\u001b[?25hInstalling collected packages: unidecode\n",
            "Successfully installed unidecode-1.2.0\n",
            "Collecting wikipedia==1.4.0\n",
            "  Downloading wikipedia-1.4.0.tar.gz (27 kB)\n",
            "Requirement already satisfied: beautifulsoup4 in /usr/local/lib/python3.7/dist-packages (from wikipedia==1.4.0) (4.6.3)\n",
            "Requirement already satisfied: requests<3.0.0,>=2.0.0 in /usr/local/lib/python3.7/dist-packages (from wikipedia==1.4.0) (2.23.0)\n",
            "Requirement already satisfied: urllib3!=1.25.0,!=1.25.1,<1.26,>=1.21.1 in /usr/local/lib/python3.7/dist-packages (from requests<3.0.0,>=2.0.0->wikipedia==1.4.0) (1.24.3)\n",
            "Requirement already satisfied: chardet<4,>=3.0.2 in /usr/local/lib/python3.7/dist-packages (from requests<3.0.0,>=2.0.0->wikipedia==1.4.0) (3.0.4)\n",
            "Requirement already satisfied: certifi>=2017.4.17 in /usr/local/lib/python3.7/dist-packages (from requests<3.0.0,>=2.0.0->wikipedia==1.4.0) (2021.10.8)\n",
            "Requirement already satisfied: idna<3,>=2.5 in /usr/local/lib/python3.7/dist-packages (from requests<3.0.0,>=2.0.0->wikipedia==1.4.0) (2.10)\n",
            "Building wheels for collected packages: wikipedia\n",
            "  Building wheel for wikipedia (setup.py) ... \u001b[?25l\u001b[?25hdone\n",
            "  Created wheel for wikipedia: filename=wikipedia-1.4.0-py3-none-any.whl size=11695 sha256=9dd3b62dd82b90063ca5cc6724f9957a338639bee9c16425a52423a9281fd6b7\n",
            "  Stored in directory: /root/.cache/pip/wheels/15/93/6d/5b2c68b8a64c7a7a04947b4ed6d89fb557dcc6bc27d1d7f3ba\n",
            "Successfully built wikipedia\n",
            "Installing collected packages: wikipedia\n",
            "Successfully installed wikipedia-1.4.0\n",
            "Requirement already satisfied: spacy==2.2.4 in /usr/local/lib/python3.7/dist-packages (2.2.4)\n",
            "Requirement already satisfied: numpy>=1.15.0 in /usr/local/lib/python3.7/dist-packages (from spacy==2.2.4) (1.21.5)\n",
            "Requirement already satisfied: cymem<2.1.0,>=2.0.2 in /usr/local/lib/python3.7/dist-packages (from spacy==2.2.4) (2.0.6)\n",
            "Requirement already satisfied: tqdm<5.0.0,>=4.38.0 in /usr/local/lib/python3.7/dist-packages (from spacy==2.2.4) (4.62.3)\n",
            "Requirement already satisfied: blis<0.5.0,>=0.4.0 in /usr/local/lib/python3.7/dist-packages (from spacy==2.2.4) (0.4.1)\n",
            "Requirement already satisfied: wasabi<1.1.0,>=0.4.0 in /usr/local/lib/python3.7/dist-packages (from spacy==2.2.4) (0.9.0)\n",
            "Requirement already satisfied: thinc==7.4.0 in /usr/local/lib/python3.7/dist-packages (from spacy==2.2.4) (7.4.0)\n",
            "Requirement already satisfied: preshed<3.1.0,>=3.0.2 in /usr/local/lib/python3.7/dist-packages (from spacy==2.2.4) (3.0.6)\n",
            "Requirement already satisfied: catalogue<1.1.0,>=0.0.7 in /usr/local/lib/python3.7/dist-packages (from spacy==2.2.4) (1.0.0)\n",
            "Requirement already satisfied: plac<1.2.0,>=0.9.6 in /usr/local/lib/python3.7/dist-packages (from spacy==2.2.4) (1.1.3)\n",
            "Requirement already satisfied: requests<3.0.0,>=2.13.0 in /usr/local/lib/python3.7/dist-packages (from spacy==2.2.4) (2.23.0)\n",
            "Requirement already satisfied: setuptools in /usr/local/lib/python3.7/dist-packages (from spacy==2.2.4) (57.4.0)\n",
            "Requirement already satisfied: murmurhash<1.1.0,>=0.28.0 in /usr/local/lib/python3.7/dist-packages (from spacy==2.2.4) (1.0.6)\n",
            "Requirement already satisfied: srsly<1.1.0,>=1.0.2 in /usr/local/lib/python3.7/dist-packages (from spacy==2.2.4) (1.0.5)\n",
            "Requirement already satisfied: importlib-metadata>=0.20 in /usr/local/lib/python3.7/dist-packages (from catalogue<1.1.0,>=0.0.7->spacy==2.2.4) (4.11.0)\n",
            "Requirement already satisfied: zipp>=0.5 in /usr/local/lib/python3.7/dist-packages (from importlib-metadata>=0.20->catalogue<1.1.0,>=0.0.7->spacy==2.2.4) (3.7.0)\n",
            "Requirement already satisfied: typing-extensions>=3.6.4 in /usr/local/lib/python3.7/dist-packages (from importlib-metadata>=0.20->catalogue<1.1.0,>=0.0.7->spacy==2.2.4) (3.10.0.2)\n",
            "Requirement already satisfied: idna<3,>=2.5 in /usr/local/lib/python3.7/dist-packages (from requests<3.0.0,>=2.13.0->spacy==2.2.4) (2.10)\n",
            "Requirement already satisfied: urllib3!=1.25.0,!=1.25.1,<1.26,>=1.21.1 in /usr/local/lib/python3.7/dist-packages (from requests<3.0.0,>=2.13.0->spacy==2.2.4) (1.24.3)\n",
            "Requirement already satisfied: chardet<4,>=3.0.2 in /usr/local/lib/python3.7/dist-packages (from requests<3.0.0,>=2.13.0->spacy==2.2.4) (3.0.4)\n",
            "Requirement already satisfied: certifi>=2017.4.17 in /usr/local/lib/python3.7/dist-packages (from requests<3.0.0,>=2.13.0->spacy==2.2.4) (2021.10.8)\n",
            "Collecting en_core_web_sm==2.2.5\n",
            "  Downloading https://github.com/explosion/spacy-models/releases/download/en_core_web_sm-2.2.5/en_core_web_sm-2.2.5.tar.gz (12.0 MB)\n",
            "\u001b[K     |████████████████████████████████| 12.0 MB 24.7 MB/s \n",
            "\u001b[?25hRequirement already satisfied: spacy>=2.2.2 in /usr/local/lib/python3.7/dist-packages (from en_core_web_sm==2.2.5) (2.2.4)\n",
            "Requirement already satisfied: cymem<2.1.0,>=2.0.2 in /usr/local/lib/python3.7/dist-packages (from spacy>=2.2.2->en_core_web_sm==2.2.5) (2.0.6)\n",
            "Requirement already satisfied: setuptools in /usr/local/lib/python3.7/dist-packages (from spacy>=2.2.2->en_core_web_sm==2.2.5) (57.4.0)\n",
            "Requirement already satisfied: thinc==7.4.0 in /usr/local/lib/python3.7/dist-packages (from spacy>=2.2.2->en_core_web_sm==2.2.5) (7.4.0)\n",
            "Requirement already satisfied: srsly<1.1.0,>=1.0.2 in /usr/local/lib/python3.7/dist-packages (from spacy>=2.2.2->en_core_web_sm==2.2.5) (1.0.5)\n",
            "Requirement already satisfied: catalogue<1.1.0,>=0.0.7 in /usr/local/lib/python3.7/dist-packages (from spacy>=2.2.2->en_core_web_sm==2.2.5) (1.0.0)\n",
            "Requirement already satisfied: preshed<3.1.0,>=3.0.2 in /usr/local/lib/python3.7/dist-packages (from spacy>=2.2.2->en_core_web_sm==2.2.5) (3.0.6)\n",
            "Requirement already satisfied: numpy>=1.15.0 in /usr/local/lib/python3.7/dist-packages (from spacy>=2.2.2->en_core_web_sm==2.2.5) (1.21.5)\n",
            "Requirement already satisfied: tqdm<5.0.0,>=4.38.0 in /usr/local/lib/python3.7/dist-packages (from spacy>=2.2.2->en_core_web_sm==2.2.5) (4.62.3)\n",
            "Requirement already satisfied: murmurhash<1.1.0,>=0.28.0 in /usr/local/lib/python3.7/dist-packages (from spacy>=2.2.2->en_core_web_sm==2.2.5) (1.0.6)\n",
            "Requirement already satisfied: requests<3.0.0,>=2.13.0 in /usr/local/lib/python3.7/dist-packages (from spacy>=2.2.2->en_core_web_sm==2.2.5) (2.23.0)\n",
            "Requirement already satisfied: plac<1.2.0,>=0.9.6 in /usr/local/lib/python3.7/dist-packages (from spacy>=2.2.2->en_core_web_sm==2.2.5) (1.1.3)\n",
            "Requirement already satisfied: blis<0.5.0,>=0.4.0 in /usr/local/lib/python3.7/dist-packages (from spacy>=2.2.2->en_core_web_sm==2.2.5) (0.4.1)\n",
            "Requirement already satisfied: wasabi<1.1.0,>=0.4.0 in /usr/local/lib/python3.7/dist-packages (from spacy>=2.2.2->en_core_web_sm==2.2.5) (0.9.0)\n",
            "Requirement already satisfied: importlib-metadata>=0.20 in /usr/local/lib/python3.7/dist-packages (from catalogue<1.1.0,>=0.0.7->spacy>=2.2.2->en_core_web_sm==2.2.5) (4.11.0)\n",
            "Requirement already satisfied: zipp>=0.5 in /usr/local/lib/python3.7/dist-packages (from importlib-metadata>=0.20->catalogue<1.1.0,>=0.0.7->spacy>=2.2.2->en_core_web_sm==2.2.5) (3.7.0)\n",
            "Requirement already satisfied: typing-extensions>=3.6.4 in /usr/local/lib/python3.7/dist-packages (from importlib-metadata>=0.20->catalogue<1.1.0,>=0.0.7->spacy>=2.2.2->en_core_web_sm==2.2.5) (3.10.0.2)\n",
            "Requirement already satisfied: idna<3,>=2.5 in /usr/local/lib/python3.7/dist-packages (from requests<3.0.0,>=2.13.0->spacy>=2.2.2->en_core_web_sm==2.2.5) (2.10)\n",
            "Requirement already satisfied: certifi>=2017.4.17 in /usr/local/lib/python3.7/dist-packages (from requests<3.0.0,>=2.13.0->spacy>=2.2.2->en_core_web_sm==2.2.5) (2021.10.8)\n",
            "Requirement already satisfied: chardet<4,>=3.0.2 in /usr/local/lib/python3.7/dist-packages (from requests<3.0.0,>=2.13.0->spacy>=2.2.2->en_core_web_sm==2.2.5) (3.0.4)\n",
            "Requirement already satisfied: urllib3!=1.25.0,!=1.25.1,<1.26,>=1.21.1 in /usr/local/lib/python3.7/dist-packages (from requests<3.0.0,>=2.13.0->spacy>=2.2.2->en_core_web_sm==2.2.5) (1.24.3)\n",
            "\u001b[38;5;2m✔ Download and installation successful\u001b[0m\n",
            "You can now load the model via spacy.load('en_core_web_sm')\n",
            "\u001b[38;5;2m✔ Linking successful\u001b[0m\n",
            "/usr/local/lib/python3.7/dist-packages/en_core_web_sm -->\n",
            "/usr/local/lib/python3.7/dist-packages/spacy/data/en\n",
            "You can now load the model via spacy.load('en')\n",
            "Collecting pt_core_news_sm==2.2.5\n",
            "  Downloading https://github.com/explosion/spacy-models/releases/download/pt_core_news_sm-2.2.5/pt_core_news_sm-2.2.5.tar.gz (21.2 MB)\n",
            "\u001b[K     |████████████████████████████████| 21.2 MB 1.3 MB/s \n",
            "\u001b[?25hRequirement already satisfied: spacy>=2.2.2 in /usr/local/lib/python3.7/dist-packages (from pt_core_news_sm==2.2.5) (2.2.4)\n",
            "Requirement already satisfied: cymem<2.1.0,>=2.0.2 in /usr/local/lib/python3.7/dist-packages (from spacy>=2.2.2->pt_core_news_sm==2.2.5) (2.0.6)\n",
            "Requirement already satisfied: numpy>=1.15.0 in /usr/local/lib/python3.7/dist-packages (from spacy>=2.2.2->pt_core_news_sm==2.2.5) (1.21.5)\n",
            "Requirement already satisfied: plac<1.2.0,>=0.9.6 in /usr/local/lib/python3.7/dist-packages (from spacy>=2.2.2->pt_core_news_sm==2.2.5) (1.1.3)\n",
            "Requirement already satisfied: preshed<3.1.0,>=3.0.2 in /usr/local/lib/python3.7/dist-packages (from spacy>=2.2.2->pt_core_news_sm==2.2.5) (3.0.6)\n",
            "Requirement already satisfied: requests<3.0.0,>=2.13.0 in /usr/local/lib/python3.7/dist-packages (from spacy>=2.2.2->pt_core_news_sm==2.2.5) (2.23.0)\n",
            "Requirement already satisfied: catalogue<1.1.0,>=0.0.7 in /usr/local/lib/python3.7/dist-packages (from spacy>=2.2.2->pt_core_news_sm==2.2.5) (1.0.0)\n",
            "Requirement already satisfied: tqdm<5.0.0,>=4.38.0 in /usr/local/lib/python3.7/dist-packages (from spacy>=2.2.2->pt_core_news_sm==2.2.5) (4.62.3)\n",
            "Requirement already satisfied: setuptools in /usr/local/lib/python3.7/dist-packages (from spacy>=2.2.2->pt_core_news_sm==2.2.5) (57.4.0)\n",
            "Requirement already satisfied: murmurhash<1.1.0,>=0.28.0 in /usr/local/lib/python3.7/dist-packages (from spacy>=2.2.2->pt_core_news_sm==2.2.5) (1.0.6)\n",
            "Requirement already satisfied: srsly<1.1.0,>=1.0.2 in /usr/local/lib/python3.7/dist-packages (from spacy>=2.2.2->pt_core_news_sm==2.2.5) (1.0.5)\n",
            "Requirement already satisfied: wasabi<1.1.0,>=0.4.0 in /usr/local/lib/python3.7/dist-packages (from spacy>=2.2.2->pt_core_news_sm==2.2.5) (0.9.0)\n",
            "Requirement already satisfied: thinc==7.4.0 in /usr/local/lib/python3.7/dist-packages (from spacy>=2.2.2->pt_core_news_sm==2.2.5) (7.4.0)\n",
            "Requirement already satisfied: blis<0.5.0,>=0.4.0 in /usr/local/lib/python3.7/dist-packages (from spacy>=2.2.2->pt_core_news_sm==2.2.5) (0.4.1)\n",
            "Requirement already satisfied: importlib-metadata>=0.20 in /usr/local/lib/python3.7/dist-packages (from catalogue<1.1.0,>=0.0.7->spacy>=2.2.2->pt_core_news_sm==2.2.5) (4.11.0)\n",
            "Requirement already satisfied: zipp>=0.5 in /usr/local/lib/python3.7/dist-packages (from importlib-metadata>=0.20->catalogue<1.1.0,>=0.0.7->spacy>=2.2.2->pt_core_news_sm==2.2.5) (3.7.0)\n",
            "Requirement already satisfied: typing-extensions>=3.6.4 in /usr/local/lib/python3.7/dist-packages (from importlib-metadata>=0.20->catalogue<1.1.0,>=0.0.7->spacy>=2.2.2->pt_core_news_sm==2.2.5) (3.10.0.2)\n",
            "Requirement already satisfied: urllib3!=1.25.0,!=1.25.1,<1.26,>=1.21.1 in /usr/local/lib/python3.7/dist-packages (from requests<3.0.0,>=2.13.0->spacy>=2.2.2->pt_core_news_sm==2.2.5) (1.24.3)\n",
            "Requirement already satisfied: idna<3,>=2.5 in /usr/local/lib/python3.7/dist-packages (from requests<3.0.0,>=2.13.0->spacy>=2.2.2->pt_core_news_sm==2.2.5) (2.10)\n",
            "Requirement already satisfied: certifi>=2017.4.17 in /usr/local/lib/python3.7/dist-packages (from requests<3.0.0,>=2.13.0->spacy>=2.2.2->pt_core_news_sm==2.2.5) (2021.10.8)\n",
            "Requirement already satisfied: chardet<4,>=3.0.2 in /usr/local/lib/python3.7/dist-packages (from requests<3.0.0,>=2.13.0->spacy>=2.2.2->pt_core_news_sm==2.2.5) (3.0.4)\n",
            "Building wheels for collected packages: pt-core-news-sm\n",
            "  Building wheel for pt-core-news-sm (setup.py) ... \u001b[?25l\u001b[?25hdone\n",
            "  Created wheel for pt-core-news-sm: filename=pt_core_news_sm-2.2.5-py3-none-any.whl size=21186281 sha256=ab4661be74519a5d66d5800907ab5ff4d775e68165c5fed17f5acedd2dd969d5\n",
            "  Stored in directory: /tmp/pip-ephem-wheel-cache-_748jrmp/wheels/c3/f9/0c/5c014a36941a00f5df5fc0756cb961d7c457a978e697a6ce3b\n",
            "Successfully built pt-core-news-sm\n",
            "Installing collected packages: pt-core-news-sm\n",
            "Successfully installed pt-core-news-sm-2.2.5\n",
            "\u001b[38;5;2m✔ Download and installation successful\u001b[0m\n",
            "You can now load the model via spacy.load('pt_core_news_sm')\n",
            "\u001b[38;5;2m✔ Linking successful\u001b[0m\n",
            "/usr/local/lib/python3.7/dist-packages/pt_core_news_sm -->\n",
            "/usr/local/lib/python3.7/dist-packages/spacy/data/pt\n",
            "You can now load the model via spacy.load('pt')\n"
          ]
        }
      ]
    },
    {
      "cell_type": "markdown",
      "metadata": {
        "id": "eTicnCB6yLNd"
      },
      "source": [
        "# Expressões Regulares"
      ]
    },
    {
      "cell_type": "markdown",
      "metadata": {
        "id": "7Oh3sCHZU2aY"
      },
      "source": [
        "- O Pacote que permite utilizar ER é <b>re</b>\n",
        "- Existem vários métodos para utilizar expressões regulares em python., alguns deles para <b>buscar</b> padrões são:\n",
        "\n",
        "|   Método   |                                      Descrição                                     |\n",
        "|:----------:|:----------------------------------------------------------------------------------:|\n",
        "| match()    | Determina se a RE combina com o início da string.                                  |\n",
        "| search()   | Varre toda a string, procurando qualquer local onde esta RE tem correspondência.   |\n",
        "| findall()  | Encontra todas as substrings onde a RE corresponde, e as retorna como uma lista.   |\n",
        "| finditer() | Encontra todas as substrings onde a RE corresponde, e as retorna como um iterador. |\n",
        "\n",
        "- Métodos para modificar strings:\n",
        "\n",
        "| Método  | Descrição                                                                                            |\n",
        "|---------|------------------------------------------------------------------------------------------------------|\n",
        "| split() | Divide a string em uma lista, dividindo-a onde quer que haja correspondência com a RE                |\n",
        "| sub()   | Encontra todas as substrings que correspondem com a RE e faz a substituição por uma string diferente |\n",
        "| subn()  |  É o mesmo que o método sub(), mas retorna a nova string e o número de substituições                 |\n",
        "\n",
        "\n",
        "Link: https://docs.python.org/pt-br/3.8/howto/regex.html\n",
        "\n",
        "Agora vamos exemplificar cada um desses métodos:"
      ]
    },
    {
      "cell_type": "code",
      "metadata": {
        "id": "VlypLoBCU2aZ"
      },
      "source": [
        "import re"
      ],
      "execution_count": 2,
      "outputs": []
    },
    {
      "cell_type": "code",
      "metadata": {
        "id": "31BIABdqU2ae"
      },
      "source": [
        "texto = \"Vamos encontrar Padrões nesta string!! \\nAgora é a nossa primeira prática de NLP!! Vamos aprender a procurar padrões!! \\nBelo Horizonte, 2000-12-01.\""
      ],
      "execution_count": 3,
      "outputs": []
    },
    {
      "cell_type": "code",
      "metadata": {
        "id": "TfETR1kbU2ai",
        "colab": {
          "base_uri": "https://localhost:8080/"
        },
        "outputId": "8f174744-1225-48bb-eb0f-2867d8e1d318"
      },
      "source": [
        "print(texto)"
      ],
      "execution_count": 4,
      "outputs": [
        {
          "output_type": "stream",
          "name": "stdout",
          "text": [
            "Vamos encontrar Padrões nesta string!! \n",
            "Agora é a nossa primeira prática de NLP!! Vamos aprender a procurar padrões!! \n",
            "Belo Horizonte, 2000-12-01.\n"
          ]
        }
      ]
    },
    {
      "cell_type": "markdown",
      "metadata": {
        "id": "JhDqvmbOU2ap"
      },
      "source": [
        "## Match\n",
        "Determina se a RE combina com o início da string"
      ]
    },
    {
      "cell_type": "code",
      "metadata": {
        "id": "g_a4wIfkU2aq",
        "colab": {
          "base_uri": "https://localhost:8080/"
        },
        "outputId": "588c264c-aafe-4c09-bbc1-ef615394b6fd"
      },
      "source": [
        "re.match(\"Vamos\", texto)"
      ],
      "execution_count": 5,
      "outputs": [
        {
          "output_type": "execute_result",
          "data": {
            "text/plain": [
              "<re.Match object; span=(0, 5), match='Vamos'>"
            ]
          },
          "metadata": {},
          "execution_count": 5
        }
      ]
    },
    {
      "cell_type": "code",
      "metadata": {
        "id": "lP71YRFKU2au"
      },
      "source": [
        "re.match(\"nesta\", texto)"
      ],
      "execution_count": 6,
      "outputs": []
    },
    {
      "cell_type": "markdown",
      "metadata": {
        "id": "_BGkJkiyU2ay"
      },
      "source": [
        "é case sensitive"
      ]
    },
    {
      "cell_type": "code",
      "metadata": {
        "id": "pbqBQJDYU2a0"
      },
      "source": [
        "re.match(r\"vamos\", texto)"
      ],
      "execution_count": 7,
      "outputs": []
    },
    {
      "cell_type": "markdown",
      "metadata": {
        "id": "0Mjq_-2UU2a4"
      },
      "source": [
        "## Search\n",
        "Varre toda a string, procurando qualquer local onde esta RE tem correspondência"
      ]
    },
    {
      "cell_type": "code",
      "metadata": {
        "id": "S6-yebBWU2a5",
        "colab": {
          "base_uri": "https://localhost:8080/"
        },
        "outputId": "a6db80d3-3434-483e-ffe3-219082c61446"
      },
      "source": [
        "re.search(\"Vamos\", texto)"
      ],
      "execution_count": 8,
      "outputs": [
        {
          "output_type": "execute_result",
          "data": {
            "text/plain": [
              "<re.Match object; span=(0, 5), match='Vamos'>"
            ]
          },
          "metadata": {},
          "execution_count": 8
        }
      ]
    },
    {
      "cell_type": "code",
      "metadata": {
        "id": "lo2a0K_6U2a_",
        "colab": {
          "base_uri": "https://localhost:8080/"
        },
        "outputId": "404387b9-662a-48bb-f14b-6e39c1fe6f50"
      },
      "source": [
        "re.search(\"encontrar\", texto)"
      ],
      "execution_count": 9,
      "outputs": [
        {
          "output_type": "execute_result",
          "data": {
            "text/plain": [
              "<re.Match object; span=(6, 15), match='encontrar'>"
            ]
          },
          "metadata": {},
          "execution_count": 9
        }
      ]
    },
    {
      "cell_type": "markdown",
      "metadata": {
        "id": "N6aIJco4U2bD"
      },
      "source": [
        "o default é case-sensitive"
      ]
    },
    {
      "cell_type": "code",
      "metadata": {
        "id": "d3sHLl4aU2bE",
        "colab": {
          "base_uri": "https://localhost:8080/"
        },
        "outputId": "ccb13c13-40f5-4c64-88be-89b083b437d0"
      },
      "source": [
        "re.search(\"padrões\", texto)"
      ],
      "execution_count": 10,
      "outputs": [
        {
          "output_type": "execute_result",
          "data": {
            "text/plain": [
              "<re.Match object; span=(108, 115), match='padrões'>"
            ]
          },
          "metadata": {},
          "execution_count": 10
        }
      ]
    },
    {
      "cell_type": "code",
      "metadata": {
        "id": "5iatywubU2bI",
        "colab": {
          "base_uri": "https://localhost:8080/"
        },
        "outputId": "4054aa52-b824-4832-8f11-d8ccae425001"
      },
      "source": [
        "re.search(\"Padrões\", texto)"
      ],
      "execution_count": 11,
      "outputs": [
        {
          "output_type": "execute_result",
          "data": {
            "text/plain": [
              "<re.Match object; span=(16, 23), match='Padrões'>"
            ]
          },
          "metadata": {},
          "execution_count": 11
        }
      ]
    },
    {
      "cell_type": "markdown",
      "metadata": {
        "id": "erFdznRUU2bN"
      },
      "source": [
        "podemos ignorar case-sensitive"
      ]
    },
    {
      "cell_type": "code",
      "metadata": {
        "id": "OgMA5jnWU2bN",
        "colab": {
          "base_uri": "https://localhost:8080/"
        },
        "outputId": "69267453-6d96-436d-9979-70ce30d499e2"
      },
      "source": [
        "re.search(\"padrões\", texto, re.IGNORECASE)"
      ],
      "execution_count": 12,
      "outputs": [
        {
          "output_type": "execute_result",
          "data": {
            "text/plain": [
              "<re.Match object; span=(16, 23), match='Padrões'>"
            ]
          },
          "metadata": {},
          "execution_count": 12
        }
      ]
    },
    {
      "cell_type": "markdown",
      "metadata": {
        "id": "6SJ-je98U2bR"
      },
      "source": [
        "## Findall\n",
        "Encontra todas as substrings onde a RE corresponde, e as retorna como uma lista"
      ]
    },
    {
      "cell_type": "code",
      "metadata": {
        "id": "gnPd007AU2bS",
        "colab": {
          "base_uri": "https://localhost:8080/"
        },
        "outputId": "3bcd7b56-eb24-4102-8ed5-d104fa862d8f"
      },
      "source": [
        "re.findall(\"Vamos\", texto)"
      ],
      "execution_count": 13,
      "outputs": [
        {
          "output_type": "execute_result",
          "data": {
            "text/plain": [
              "['Vamos', 'Vamos']"
            ]
          },
          "metadata": {},
          "execution_count": 13
        }
      ]
    },
    {
      "cell_type": "code",
      "metadata": {
        "id": "J3GLBWtAU2bW",
        "colab": {
          "base_uri": "https://localhost:8080/"
        },
        "outputId": "0e89eb49-3d6b-488b-95ed-3461e1e747d0"
      },
      "source": [
        "re.findall(\"padrões\", texto)"
      ],
      "execution_count": 14,
      "outputs": [
        {
          "output_type": "execute_result",
          "data": {
            "text/plain": [
              "['padrões']"
            ]
          },
          "metadata": {},
          "execution_count": 14
        }
      ]
    },
    {
      "cell_type": "markdown",
      "metadata": {
        "id": "-Q6Jbd8gU2bZ"
      },
      "source": [
        "re.I é igal re.IGNORECASE"
      ]
    },
    {
      "cell_type": "code",
      "metadata": {
        "id": "-wez1t9UU2ba",
        "colab": {
          "base_uri": "https://localhost:8080/"
        },
        "outputId": "38ab052f-6dde-4555-9813-c85adca005a4"
      },
      "source": [
        "re.findall(\"padrões\", texto, re.I)"
      ],
      "execution_count": 15,
      "outputs": [
        {
          "output_type": "execute_result",
          "data": {
            "text/plain": [
              "['Padrões', 'padrões']"
            ]
          },
          "metadata": {},
          "execution_count": 15
        }
      ]
    },
    {
      "cell_type": "code",
      "metadata": {
        "id": "jL17r7ThU2be",
        "colab": {
          "base_uri": "https://localhost:8080/"
        },
        "outputId": "5b3b3a22-cd4a-4d54-d084-6f18f04645a8"
      },
      "source": [
        "#quando uso o + o padrão é 1 ou mais. Assim todas string que tem a no meio de outras letras  são retornadas\n",
        "re.findall(r'\\w+a\\w+', texto)"
      ],
      "execution_count": 16,
      "outputs": [
        {
          "output_type": "execute_result",
          "data": {
            "text/plain": [
              "['Vamos', 'encontrar', 'Padrões', 'Vamos', 'procurar', 'padrões']"
            ]
          },
          "metadata": {},
          "execution_count": 16
        }
      ]
    },
    {
      "cell_type": "code",
      "metadata": {
        "id": "KeucYfPmU2bi",
        "colab": {
          "base_uri": "https://localhost:8080/"
        },
        "outputId": "2158ffa4-71ae-4453-8a10-30a8d62d4ad0"
      },
      "source": [
        "#quando uso o * o padrão é 0 ou mais. Assim todas string que tem a no meio, ou no início ou no fim são retornadas\n",
        "re.findall(r'\\w*a\\w*', texto)"
      ],
      "execution_count": 17,
      "outputs": [
        {
          "output_type": "execute_result",
          "data": {
            "text/plain": [
              "['Vamos',\n",
              " 'encontrar',\n",
              " 'Padrões',\n",
              " 'nesta',\n",
              " 'Agora',\n",
              " 'a',\n",
              " 'nossa',\n",
              " 'primeira',\n",
              " 'prática',\n",
              " 'Vamos',\n",
              " 'aprender',\n",
              " 'a',\n",
              " 'procurar',\n",
              " 'padrões']"
            ]
          },
          "metadata": {},
          "execution_count": 17
        }
      ]
    },
    {
      "cell_type": "markdown",
      "metadata": {
        "id": "yeYa3aLHU2bm"
      },
      "source": [
        "## Finditer\n",
        "Encontra todas as substrings onde a RE corresponde, e as retorna como um iterador."
      ]
    },
    {
      "cell_type": "code",
      "metadata": {
        "id": "BLqVK0iHU2bn",
        "colab": {
          "base_uri": "https://localhost:8080/"
        },
        "outputId": "ccd27d22-e604-4c5a-9648-fb034d1f11dd"
      },
      "source": [
        "re.finditer(\"Vamos\", texto)"
      ],
      "execution_count": 18,
      "outputs": [
        {
          "output_type": "execute_result",
          "data": {
            "text/plain": [
              "<callable_iterator at 0x7fdb32022c90>"
            ]
          },
          "metadata": {},
          "execution_count": 18
        }
      ]
    },
    {
      "cell_type": "code",
      "metadata": {
        "id": "uHqq1lpvU2br",
        "colab": {
          "base_uri": "https://localhost:8080/"
        },
        "outputId": "1dadb8a7-44f6-4d3c-ca27-9832fa2adedd"
      },
      "source": [
        "res = re.finditer(\"Vamos\", texto)\n",
        "[r for r in res]"
      ],
      "execution_count": 19,
      "outputs": [
        {
          "output_type": "execute_result",
          "data": {
            "text/plain": [
              "[<re.Match object; span=(0, 5), match='Vamos'>,\n",
              " <re.Match object; span=(82, 87), match='Vamos'>]"
            ]
          },
          "metadata": {},
          "execution_count": 19
        }
      ]
    },
    {
      "cell_type": "code",
      "metadata": {
        "id": "jt6QbQ74U2bu",
        "colab": {
          "base_uri": "https://localhost:8080/"
        },
        "outputId": "7f62afc5-295a-470c-94d4-e1a03daa5b6c"
      },
      "source": [
        "re.finditer(\"padrões\", texto)"
      ],
      "execution_count": 20,
      "outputs": [
        {
          "output_type": "execute_result",
          "data": {
            "text/plain": [
              "<callable_iterator at 0x7fdb2b8ba210>"
            ]
          },
          "metadata": {},
          "execution_count": 20
        }
      ]
    },
    {
      "cell_type": "code",
      "metadata": {
        "id": "lEBIbImMU2bx",
        "colab": {
          "base_uri": "https://localhost:8080/"
        },
        "outputId": "e8002031-f950-48e4-b1bf-26931bd548fe"
      },
      "source": [
        "re.finditer(\"padrões\", texto, re.I)"
      ],
      "execution_count": 21,
      "outputs": [
        {
          "output_type": "execute_result",
          "data": {
            "text/plain": [
              "<callable_iterator at 0x7fdb2b8ba8d0>"
            ]
          },
          "metadata": {},
          "execution_count": 21
        }
      ]
    },
    {
      "cell_type": "markdown",
      "metadata": {
        "id": "B9rzAL9gU2b0"
      },
      "source": [
        "## Split"
      ]
    },
    {
      "cell_type": "code",
      "metadata": {
        "id": "GKgoQoFoU2b1",
        "colab": {
          "base_uri": "https://localhost:8080/"
        },
        "outputId": "c981a0a8-8a25-475b-e16a-aeae25df50ed"
      },
      "source": [
        "re.split('\\n',texto)"
      ],
      "execution_count": 22,
      "outputs": [
        {
          "output_type": "execute_result",
          "data": {
            "text/plain": [
              "['Vamos encontrar Padrões nesta string!! ',\n",
              " 'Agora é a nossa primeira prática de NLP!! Vamos aprender a procurar padrões!! ',\n",
              " 'Belo Horizonte, 2000-12-01.']"
            ]
          },
          "metadata": {},
          "execution_count": 22
        }
      ]
    },
    {
      "cell_type": "code",
      "metadata": {
        "colab": {
          "base_uri": "https://localhost:8080/"
        },
        "id": "izaWAzUkKS5T",
        "outputId": "05014bd1-14a4-4569-dcf2-fcdf3264f6ab"
      },
      "source": [
        "type(texto)"
      ],
      "execution_count": 23,
      "outputs": [
        {
          "output_type": "execute_result",
          "data": {
            "text/plain": [
              "str"
            ]
          },
          "metadata": {},
          "execution_count": 23
        }
      ]
    },
    {
      "cell_type": "code",
      "metadata": {
        "id": "_1gB1K_8U2b6",
        "colab": {
          "base_uri": "https://localhost:8080/"
        },
        "outputId": "06479f89-fcc7-4dd9-b7a8-e3df55bb99d0"
      },
      "source": [
        "texto.split(\"\\s+\")"
      ],
      "execution_count": 24,
      "outputs": [
        {
          "output_type": "execute_result",
          "data": {
            "text/plain": [
              "['Vamos encontrar Padrões nesta string!! \\nAgora é a nossa primeira prática de NLP!! Vamos aprender a procurar padrões!! \\nBelo Horizonte, 2000-12-01.']"
            ]
          },
          "metadata": {},
          "execution_count": 24
        }
      ]
    },
    {
      "cell_type": "code",
      "metadata": {
        "id": "9J_2KEVLU2cA",
        "colab": {
          "base_uri": "https://localhost:8080/"
        },
        "outputId": "2098bd9b-6a02-40a7-beaa-5d1329cb1c6c"
      },
      "source": [
        "(re.split(r'\\s+',texto))"
      ],
      "execution_count": 25,
      "outputs": [
        {
          "output_type": "execute_result",
          "data": {
            "text/plain": [
              "['Vamos',\n",
              " 'encontrar',\n",
              " 'Padrões',\n",
              " 'nesta',\n",
              " 'string!!',\n",
              " 'Agora',\n",
              " 'é',\n",
              " 'a',\n",
              " 'nossa',\n",
              " 'primeira',\n",
              " 'prática',\n",
              " 'de',\n",
              " 'NLP!!',\n",
              " 'Vamos',\n",
              " 'aprender',\n",
              " 'a',\n",
              " 'procurar',\n",
              " 'padrões!!',\n",
              " 'Belo',\n",
              " 'Horizonte,',\n",
              " '2000-12-01.']"
            ]
          },
          "metadata": {},
          "execution_count": 25
        }
      ]
    },
    {
      "cell_type": "markdown",
      "metadata": {
        "id": "c5alQqxuU2cD"
      },
      "source": [
        "## Sub"
      ]
    },
    {
      "cell_type": "code",
      "metadata": {
        "id": "BpXFAGB5U2cE",
        "colab": {
          "base_uri": "https://localhost:8080/",
          "height": 35
        },
        "outputId": "5edda55a-a03a-4ae5-ee92-b030d93db08c"
      },
      "source": [
        "re.sub('\\w+a\\w+', 'a-word', texto)"
      ],
      "execution_count": 26,
      "outputs": [
        {
          "output_type": "execute_result",
          "data": {
            "application/vnd.google.colaboratory.intrinsic+json": {
              "type": "string"
            },
            "text/plain": [
              "'a-word a-word a-word nesta string!! \\nAgora é a nossa primeira prática de NLP!! a-word aprender a a-word a-word!! \\nBelo Horizonte, 2000-12-01.'"
            ]
          },
          "metadata": {},
          "execution_count": 26
        }
      ]
    },
    {
      "cell_type": "markdown",
      "metadata": {
        "id": "AklOXTO-U2cH"
      },
      "source": [
        "## Subn"
      ]
    },
    {
      "cell_type": "code",
      "metadata": {
        "id": "FKmANFR4U2cI",
        "colab": {
          "base_uri": "https://localhost:8080/"
        },
        "outputId": "a9477234-d64f-4ddc-a444-222cb28da79b"
      },
      "source": [
        "re.subn('\\w+a\\w+', 'a-word', texto)"
      ],
      "execution_count": 27,
      "outputs": [
        {
          "output_type": "execute_result",
          "data": {
            "text/plain": [
              "('a-word a-word a-word nesta string!! \\nAgora é a nossa primeira prática de NLP!! a-word aprender a a-word a-word!! \\nBelo Horizonte, 2000-12-01.',\n",
              " 6)"
            ]
          },
          "metadata": {},
          "execution_count": 27
        }
      ]
    },
    {
      "cell_type": "markdown",
      "metadata": {
        "id": "RxY0r2eoU2cL"
      },
      "source": [
        "## Exercícios"
      ]
    },
    {
      "cell_type": "markdown",
      "metadata": {
        "id": "6m1l9DicU2cM"
      },
      "source": [
        "1. Escreva uma expressão regular para verificar se uma string contém apenas um determinado conjunto de caracteres (neste caso, a-z, A-Z e 0-9)."
      ]
    },
    {
      "cell_type": "code",
      "metadata": {
        "id": "5PhrR9-mU2cM"
      },
      "source": [
        "string1 = \"ABCDEFabcdef123450\"\n",
        "string2 = \"*&%@#!}{\""
      ],
      "execution_count": 28,
      "outputs": []
    },
    {
      "cell_type": "code",
      "source": [
        "bool(re.search(\"[\\w]\", string1))"
      ],
      "metadata": {
        "colab": {
          "base_uri": "https://localhost:8080/"
        },
        "id": "qFBVzc5WM02S",
        "outputId": "232f1d4f-0920-4b7f-b6dc-13b8885b471c"
      },
      "execution_count": 29,
      "outputs": [
        {
          "output_type": "execute_result",
          "data": {
            "text/plain": [
              "True"
            ]
          },
          "metadata": {},
          "execution_count": 29
        }
      ]
    },
    {
      "cell_type": "code",
      "source": [
        "bool(re.search(\"[\\W]\", string2))"
      ],
      "metadata": {
        "colab": {
          "base_uri": "https://localhost:8080/"
        },
        "id": "nW3iQaL5M3Qa",
        "outputId": "57535990-14a9-4644-e494-09ddcbf00240"
      },
      "execution_count": 30,
      "outputs": [
        {
          "output_type": "execute_result",
          "data": {
            "text/plain": [
              "True"
            ]
          },
          "metadata": {},
          "execution_count": 30
        }
      ]
    },
    {
      "cell_type": "markdown",
      "metadata": {
        "id": "3Eaf2qgHU2cp"
      },
      "source": [
        "2. Escreva um expressão regular que corresponda a uma sequência que tenha um a seguido por um ou mais b's."
      ]
    },
    {
      "cell_type": "code",
      "metadata": {
        "id": "3_PSBygPU2cp"
      },
      "source": [
        "string1 = \"abc\"\n",
        "string2 = \"aacb\"\n",
        "string3 = \"abbc\"\n",
        "string4 = \"bb\""
      ],
      "execution_count": 31,
      "outputs": []
    },
    {
      "cell_type": "code",
      "source": [
        "def check_re(texto):\n",
        "  return bool (re.search(\"ab+\", texto))"
      ],
      "metadata": {
        "id": "UJixaEGFM5Pu"
      },
      "execution_count": 32,
      "outputs": []
    },
    {
      "cell_type": "code",
      "source": [
        "print(check_re(string1),\n",
        "check_re(string2),\n",
        "check_re(string3),\n",
        "check_re(string4))"
      ],
      "metadata": {
        "colab": {
          "base_uri": "https://localhost:8080/"
        },
        "id": "8atCEg91M7NR",
        "outputId": "a8604f8f-3130-43ba-960a-c862658c71a5"
      },
      "execution_count": 33,
      "outputs": [
        {
          "output_type": "stream",
          "name": "stdout",
          "text": [
            "True False True False\n"
          ]
        }
      ]
    },
    {
      "cell_type": "markdown",
      "metadata": {
        "id": "3JCnPVthU2dJ"
      },
      "source": [
        "3. Escreva uma expressão para dividir uma string em letras maiúsculas"
      ]
    },
    {
      "cell_type": "code",
      "metadata": {
        "id": "U7-WhZeTU2dK"
      },
      "source": [
        "string = \"ExercídiosExpressãoRegularAA\""
      ],
      "execution_count": 34,
      "outputs": []
    },
    {
      "cell_type": "code",
      "source": [
        "re.findall(\"[A-Z][^A-Z]*\", string)"
      ],
      "metadata": {
        "colab": {
          "base_uri": "https://localhost:8080/"
        },
        "id": "dJTSopG4M9ha",
        "outputId": "1e6ed241-7350-426a-e5e2-378ea1740459"
      },
      "execution_count": 35,
      "outputs": [
        {
          "output_type": "execute_result",
          "data": {
            "text/plain": [
              "['Exercídios', 'Expressão', 'Regular', 'A', 'A']"
            ]
          },
          "metadata": {},
          "execution_count": 35
        }
      ]
    },
    {
      "cell_type": "markdown",
      "metadata": {
        "id": "XenuPdJFU2dS"
      },
      "source": [
        "4. Escreva uma expressão regular para remover a área de parênteses em uma string\n",
        "\n",
        "\n",
        "- Amostra de Entrada: \n",
        "> * [\"example (.br)\", \"w3resource\", \"github (.com)\", \"stackoverflow (.com)\"] </br>\n",
        "* Saída Esperada: \n",
        "> * example\n",
        "> * w3resource\n",
        "> * github\n",
        "> * stackoverflow"
      ]
    },
    {
      "cell_type": "code",
      "metadata": {
        "id": "xLN0qjIqU2dT"
      },
      "source": [
        "strings = [\"example (.br)\", \"w3resource\", \"github (.com)\", \"stackoverflow (.??)\"]"
      ],
      "execution_count": 36,
      "outputs": []
    },
    {
      "cell_type": "code",
      "metadata": {
        "id": "RC44DoeLyvvQ",
        "colab": {
          "base_uri": "https://localhost:8080/"
        },
        "outputId": "ef0bae0a-b973-453b-b1f1-0ceee3a73c49"
      },
      "source": [
        "[re.sub(\"\\(.+\\)\",  ' ', palavra) for palavra in strings]"
      ],
      "execution_count": 37,
      "outputs": [
        {
          "output_type": "execute_result",
          "data": {
            "text/plain": [
              "['example  ', 'w3resource', 'github  ', 'stackoverflow  ']"
            ]
          },
          "metadata": {},
          "execution_count": 37
        }
      ]
    },
    {
      "cell_type": "markdown",
      "metadata": {
        "id": "JqGlZuiSU2dn"
      },
      "source": [
        "5. Recupere todos os \"Twitter\" da string abaixo"
      ]
    },
    {
      "cell_type": "code",
      "metadata": {
        "colab": {
          "base_uri": "https://localhost:8080/",
          "height": 52
        },
        "id": "hO2zXsOfG0w1",
        "outputId": "e419f14d-2112-4757-ed10-5dc6f17c05e8"
      },
      "source": [
        "texto_exemplo_twitter = \"\"\"This is a @test of some cool features that @mi_asd be @use-ful but @don't. look at this email@address.com. @bla! I like #nylas but I don't like to go to this apple.com?a#url. I also don't like the ### comment blocks. But #msft is cool.\"\"\"\n",
        "texto_exemplo_twitter"
      ],
      "execution_count": 38,
      "outputs": [
        {
          "output_type": "execute_result",
          "data": {
            "application/vnd.google.colaboratory.intrinsic+json": {
              "type": "string"
            },
            "text/plain": [
              "\"This is a @test of some cool features that @mi_asd be @use-ful but @don't. look at this email@address.com. @bla! I like #nylas but I don't like to go to this apple.com?a#url. I also don't like the ### comment blocks. But #msft is cool.\""
            ]
          },
          "metadata": {},
          "execution_count": 38
        }
      ]
    },
    {
      "cell_type": "code",
      "metadata": {
        "id": "R6ekA4j3yxBY",
        "colab": {
          "base_uri": "https://localhost:8080/"
        },
        "outputId": "7d4404d0-c4a5-4c87-d60c-f2665c1e620e"
      },
      "source": [
        "re.findall(r'@[\\w\\-]+', texto_exemplo_twitter)"
      ],
      "execution_count": 43,
      "outputs": [
        {
          "output_type": "execute_result",
          "data": {
            "text/plain": [
              "['@test', '@mi_asd', '@use-ful', '@don', '@address', '@bla']"
            ]
          },
          "metadata": {},
          "execution_count": 43
        }
      ]
    },
    {
      "cell_type": "markdown",
      "metadata": {
        "id": "EuRUVjfSQfVb"
      },
      "source": [
        "6. Escreva uma expressão regular para remover as urls do texto:\n",
        "\n",
        "- Para realizar pesquisas de artigos acadêmicos use o Google Scholar: https://scholar.google.com.br/\n",
        "- Sempre mantenha seu linkedin atualizado: https://www.linkedin.com/ "
      ]
    },
    {
      "cell_type": "code",
      "metadata": {
        "id": "rJxuUl9WQZ0-"
      },
      "source": [
        "texto1 = \"Para realizar pesquisas de artigos acadêmicos use o Google Scholar: https://scholar.google.com.br/\"\n",
        "texto2 = \"Sempre mantenha seu linkedin atualizado: https://www.linkedin.com/\""
      ],
      "execution_count": 46,
      "outputs": []
    },
    {
      "cell_type": "code",
      "source": [
        "def sub_re(texto):\n",
        "  return re.sub(r'http\\S+', '', texto)"
      ],
      "metadata": {
        "id": "g5_hIqloOXrO"
      },
      "execution_count": 44,
      "outputs": []
    },
    {
      "cell_type": "code",
      "metadata": {
        "id": "aY0jOs_jSK3D",
        "colab": {
          "base_uri": "https://localhost:8080/"
        },
        "outputId": "21fe4fb1-15c9-421e-ff1f-3b9d3c831afb"
      },
      "source": [
        "print(sub_re(texto1) +  \"\\n\"  + sub_re(texto2))"
      ],
      "execution_count": 48,
      "outputs": [
        {
          "output_type": "stream",
          "name": "stdout",
          "text": [
            "Para realizar pesquisas de artigos acadêmicos use o Google Scholar: \n",
            "Sempre mantenha seu linkedin atualizado: \n"
          ]
        }
      ]
    },
    {
      "cell_type": "markdown",
      "metadata": {
        "id": "waB6jhTSwhYz"
      },
      "source": [
        "# Pré-processamento"
      ]
    },
    {
      "cell_type": "code",
      "metadata": {
        "id": "NUfsnZq9U2du",
        "colab": {
          "base_uri": "https://localhost:8080/"
        },
        "outputId": "b510a885-67c4-4401-edce-e1394ba6c377"
      },
      "source": [
        "import nltk\n",
        "import wikipedia\n",
        "import re\n",
        "import spacy\n",
        "from nltk.probability import FreqDist\n",
        "nltk.download(\"stopwords\")\n",
        "nltk.download('punkt')\n",
        "nltk.download('rslp')"
      ],
      "execution_count": 49,
      "outputs": [
        {
          "output_type": "stream",
          "name": "stdout",
          "text": [
            "[nltk_data] Downloading package stopwords to /root/nltk_data...\n",
            "[nltk_data]   Unzipping corpora/stopwords.zip.\n",
            "[nltk_data] Downloading package punkt to /root/nltk_data...\n",
            "[nltk_data]   Unzipping tokenizers/punkt.zip.\n",
            "[nltk_data] Downloading package rslp to /root/nltk_data...\n",
            "[nltk_data]   Unzipping stemmers/rslp.zip.\n"
          ]
        },
        {
          "output_type": "execute_result",
          "data": {
            "text/plain": [
              "True"
            ]
          },
          "metadata": {},
          "execution_count": 49
        }
      ]
    },
    {
      "cell_type": "markdown",
      "metadata": {
        "id": "Bl3qVdoaU2dw"
      },
      "source": [
        "## Definindo o corpus\n",
        "\n",
        "Primeiramente, definimos o corpus que iremos trabalhar."
      ]
    },
    {
      "cell_type": "code",
      "metadata": {
        "id": "LObmG0e_U2dx"
      },
      "source": [
        "# Caso o pacote wikipedia não funcione:\n",
        "## Entre no link e faça downaload do arquivo https://drive.google.com/open?id=15R1jcugeM5SoGSPIPyG_6X6F3oMlxSBt\n",
        "## Depois leia com o comando abaixo\n",
        "#file = open(\"pln_wikipedia.txt\", 'r')\n",
        "#file_wiki = file.readlines()\n",
        "#file.close()\n",
        "#corpus = '\\n'.join(file_wiki)"
      ],
      "execution_count": null,
      "outputs": []
    },
    {
      "cell_type": "code",
      "metadata": {
        "id": "kN2IQNv5U2d1"
      },
      "source": [
        "wikipedia.set_lang(\"pt\")"
      ],
      "execution_count": 50,
      "outputs": []
    },
    {
      "cell_type": "code",
      "metadata": {
        "id": "EM8TiMU4U2d4"
      },
      "source": [
        "pln = wikipedia.page(\"PLN\")"
      ],
      "execution_count": 51,
      "outputs": []
    },
    {
      "cell_type": "code",
      "metadata": {
        "id": "0hGJ6HMtU2d6"
      },
      "source": [
        "corpus = pln.content"
      ],
      "execution_count": 52,
      "outputs": []
    },
    {
      "cell_type": "code",
      "metadata": {
        "id": "wEIFtGoxQv5L",
        "colab": {
          "base_uri": "https://localhost:8080/"
        },
        "outputId": "e622f175-37ab-4673-83ef-273fd2b455a7"
      },
      "source": [
        "print(corpus)"
      ],
      "execution_count": 53,
      "outputs": [
        {
          "output_type": "stream",
          "name": "stdout",
          "text": [
            "Processamento de língua natural (PLN) é uma subárea da ciência da computação, inteligência artificial e da linguística que estuda os problemas da geração e compreensão automática de línguas humanas naturais. Sistemas de geração de língua natural convertem informação de bancos de dados de computadores em linguagem compreensível ao ser humano e sistemas de compreensão de língua natural convertem ocorrências de linguagem humana em representações mais formais, mais facilmente manipuláveis por programas de computador. Alguns desafios do PLN são compreensão de língua natural, fazer com que computadores extraiam sentido de linguagem humana ou natural e geração de língua natural.\n",
            "\n",
            "\n",
            "== História ==\n",
            "A história do PLN começou na década de 1950, quando Alan Turing publicou o artigo \"Computing Machinery and Intelligence\", que propunha o que agora é chamado de teste de Turing como critério de inteligência.\n",
            "Em 1954, a experiência de Georgetown envolveu a tradução automática de mais de sessenta frases russas para o inglês. Os autores afirmaram que dentro de três ou cinco anos a tradução automática seria um problema resolvido. No entanto, os avanços reais foram muito mais lentos do que o previsto e, após o relatório ALPAC em 1966, que constatou que a pesquisa de dez anos não conseguiu satisfazer as expectativas, o financiamento para este estudo em tradução automática foi reduzido drasticamente. Poucas pesquisas em tradução automática foram conduzidas até o final dos anos 80, quando os primeiros sistemas estatísticos de tradução foram desenvolvidos.\n",
            "Alguns sistemas de PLN bem sucedidos desenvolvidos nos anos 60 foram SHRDLU, um sistema de língua natural que trabalhava em \"blocks worlds\" com vocabulário restrito e ELIZA, uma simulação de um psicoterapeuta escrita por Joseph Weizenbaum entre 1964 e 1966. Usando pouca informação sobre o pensamento ou a emoção humana, ELIZA criava, em alguns casos, interações surpreendentemente humanas. Quando o \"paciente\" excedia a base de conhecimento do programa, ELIZA fornecia uma resposta genérica, por exemplo, respondendo a \"Minha cabeça dói\" com \"Por que você diz que sua cabeça dói?\".\n",
            "Durante a década de 1970, muitos programadores começaram a escrever \"ontologias conceituais\", que estruturaram a informação do mundo real em dados compreensíveis por computadores. Exemplos são MARGIE (SCHANK, 1975), SAM (CULLINGFORD, 1978), PAM (WILENSKY, 1978), TaleSpin (MEEHAN, 1976), QUALM (LEHNERT, 1977), Politics (CARBONELL, 1979) e Plot Units (LEHNERT, 1981 ). Neste período, muitos chatterbots foram escritos, como PARRY, Racter e Jabberwacky.\n",
            "Até a década de 1980, a maioria dos sistemas de PLN se baseava em conjuntos complexos de regras manuscritas. A partir do final dos anos 1980, no entanto, houve uma revolução no PLN com a introdução de algoritmos de aprendizagem automática (aprendizado de máquina) para o processamento de linguagem. Isto foi devido tanto ao aumento constante do poder computacional (ver Lei de Moore) quanto à diminuição gradual da dominância das teorias da linguística chomskyanas (como a gramática gerativa), cujos fundamentos teóricos desestimularam o tipo de corpus linguístico que está subjacente à abordagem da aprendizagem automática ao processamento da linguagem.\n",
            "Alguns dos algoritmos de aprendizado de máquinas mais antigos, como as árvores de decisão, produziam sistemas de regras rígidas então semelhantes às regras existentes na escritas à mão. No entanto, a marcação de partes da fala (part-of-speech tagging) introduziu o uso de modelos ocultos de Markov para o PLN e, cada vez mais, a pesquisa se concentrava em modelos estatísticos, que tomam decisões suaves e probabilísticas baseadas na atribuição de pesos reais aos recursos que compõem dados de entrada. Os modelos de linguagem de cache, sobre os quais muitos sistemas de reconhecimento de fala agora dependem, são exemplos de tais modelos estatísticos. Esses modelos são geralmente mais robustos quando dados informações desconhecidas, especialmente entrada que contém erros (como é muito comum para dados do mundo real) e produzem resultados mais confiáveis quando integrados em sistemas maiores que compreendem múltiplas tarefas.\n",
            "Muitos dos sucessos iniciais notáveis ocorreram no campo da tradução automática, devido especialmente ao trabalho de pesquisa da IBM, que desenvolveu modelos estatísticos mais elaborados. Estes sistemas foram capazes de tirar proveito de corpora textuais multilíngues existentes  produzidos pelo Parlamento do Canadá e a União Europeia como resultado de leis que exigem a tradução de todos os processos governamentais em todas as línguas oficiais dos países. No entanto, a maioria dos sistemas dependia de corpora desenvolvido especificamente para tarefas implementadas por esses sistemas, o que era (e muitas vezes continua sendo) uma grande limitação no sucesso dos mesmo. Como resultado, uma grande quantidade de pesquisa passou de quantidades de dados limitadas a métodos de aprendizagem mais eficazes.\n",
            "Pesquisas recentes têm se concentrado cada vez mais em algoritmos de aprendizagem semi-supervisionados e sem supervisão. Esses algoritmos são capazes de aprender com dados que não foram anotados manualmente com as respostas desejadas ou usando uma combinação de dados anotados e não anotados. Geralmente, esta tarefa é muito mais trabalhosa do que a aprendizagem supervisionada e normalmente produz resultados menos precisos para uma quantidade específica de dados de entrada. No entanto, há uma enorme quantidade de dados não anotados disponíveis (incluindo, entre outras coisas, todo o conteúdo da World Wide Web), que muitas vezes pode compensar os resultados inferiores.\n",
            "\n",
            "\n",
            "== Usando a aprendizagem automática (aprendizado de máquina) ==\n",
            "Os algoritmos modernos de PLN baseiam-se na aprendizagem mecânica, especialmente na aprendizagem de máquinas estatísticas. O paradigma da aprendizagem mecânica é diferente do da maioria das tentativas anteriores de processamento da linguagem. Anteriormente, implementações de tarefas de processamento de linguagem envolviam a codificação direta de grandes conjuntos de regras. O paradigma da aprendizagem automática (ou aprendizagem automática) induz a aprendizagem automática de regras através de análises de corpora de exemplos típicos do mundo real ao invés de usar algoritmos gerais de aprendizagem (muitas vezes, embora nem sempre, baseados em inferência estatística). Um corpus (plural \"corpora\") é um conjunto de documentos (ou frases individuais) que foram anotados à mão com os valores corretos a serem aprendidos.\n",
            "Muitas classes diferentes de algoritmos de aprendizado de máquina foram aplicadas a tarefas de PLN. Esses algoritmos tomam como entrada um grande conjunto de \"recursos\" que são gerados a partir de dados de entrada.\n",
            "Alguns dos algoritmos mais usados, como árvores de decisão, produziam sistemas de regras rígidas semelhantes aos sistemas de regras manuscritas mais comuns. No entanto, cada vez mais, a pesquisa tem se concentrado em modelos estatísticos, que tomam decisões flexíveis e probabilísticas baseadas em agregar pesos reais a cada característica de entrada. Tais modelos têm a vantagem de poder expressar a certeza relativa de muitas respostas possíveis diferentes em vez de apenas uma, produzindo resultados mais confiáveis quando esse modelo é incluído como um componente de um sistema maior.\n",
            "Os sistemas baseados em algoritmos de aprendizagem mecânica têm muitas vantagens em relação às regras produzidas manualmente:\n",
            "\n",
            "Os procedimentos de aprendizagem usados durante a aprendizagem da máquina focam-se automaticamente nos casos mais comuns, ao passo que quando se escrevem regras à mão, não é óbvio em que sentido o esforço deve ser dirigido.\n",
            "Os procedimentos de aprendizagem automática podem fazer uso de algoritmos de inferência estatística para produzir modelos que são robustos a entradas não familiares (por exemplo, contendo palavras ou estruturas que não foram vistas antes) e a entradas errôneas (por exemplo, com palavras ou palavras incorretamente omitidas). Geralmente, lidar com essas entradas de forma com regras manuscritas ou sistemas de regras manuscritas que tomam decisões suaves é extremamente trabalhoso, propenso a erros e demorado.\n",
            "Sistemas baseados em aprender automaticamente as regras podem ser mais precisos simplesmente fornecendo mais dados de entrada. No entanto, os sistemas baseados em regras escritas à mão só podem ser tornados mais precisos aumentando a complexidade das regras, o que é uma tarefa muito mais difícil. Em particular, há um limite para a complexidade de sistemas baseados em regras artesanais, para além dos quais os sistemas se tornam cada vez mais incontroláveis. No entanto, a criação de mais dados para entrada em sistemas de aprendizado de máquina requer simplesmente um aumento correspondente no número de horas trabalhadas por humanos, geralmente sem aumentos significativos na complexidade do processo de anotação.O subcampo de PLN dedicado a abordagens de aprendizagem é conhecido como aprendizagem de língua natural (NLL) e sua conferência, a CoNLL, e orgão central, o SIGNLL, são patrocinados pela ACL, reconhecendo também as suas ligações com linguística computacional e aquisição de linguagem. Quando o objetivo da pesquisa de aprendizagem de linguagem computacional é entender mais sobre aquisição de linguagem humana, ou psicolinguística, a NLL sobrepõe-se no campo relacionado de psicolinguística computacional.\n",
            "\n",
            "\n",
            "== Aplicações principais ==\n",
            "A listagem a seguir traz alguns dos trabalhos mais pesquisadas em PLN. Note que alguns deles têm aplicações no mundo real, enquanto outras servem mais frequentemente como tarefas secundárias que são usadas para auxiliar na resolução de tarefas maiores. O que distingue essas tarefas de outras tarefas potenciais e reais de PLN não é apenas o volume de pesquisa dedicado a elas, mas o fato de que para cada uma há tipicamente uma definição de problema bem especificada, uma métrica padrão para avaliar a tarefa, corpora padrão em que a tarefa pode ser avaliada e as competições dedicadas à tarefa específica.\n",
            "Sumarização automática\n",
            "\n",
            "Produz um resumo legível de uma parte do texto. Muitas vezes usado para fornecer resumos de texto de um tipo conhecido, como artigos na seção financeira de um jornal.Resolução de correferência\n",
            "\n",
            "Dada uma frase ou um pedaço maior de texto, determina quais palavras (\"menções\") se referem aos mesmos objetos (\"entidades\"). A resolução da anáfora é um exemplo específico dessa tarefa e está especificamente preocupada em combinar os pronomes com os substantivos ou nomes aos quais eles se referem. A tarefa mais geral da resolução de correferência também inclui a identificação dos chamados \"relacionamentos de ponte\" envolvendo expressões de referência. Por exemplo, numa frase como \"Ele entrou na casa de João pela porta da frente\", \"a porta da frente\" é uma expressão de referência e a relação da ponte a ser identificada é o fato de que a porta a ser referida é a porta da frente de John's (ao invés de alguma outra estrutura que também pode ser referida).Análise do Discurso\n",
            "\n",
            "Esta rubrica inclui uma série de tarefas relacionadas. Uma tarefa é identificar a estrutura discursiva do texto conectado, isto é, a natureza das relações discursivas entre sentenças (por exemplo, elaboração, explicação, contraste). Outra possível tarefa é reconhecer e classificar os atos de fala em um pedaço de texto (por exemplo, pergunta sim-não, pergunta de conteúdo, frase, afirmação, etc).Maquina de tradução\n",
            "\n",
            "Traduzir automaticamente texto de uma linguagem humana para outra. Este é uma das tarefas mais difíceis e faz parte de um tipo de problemas conhecidos como \"AI-complete\", ou seja, exigindo todos os diferentes tipos de conhecimento que os humanos possuem (gramática, semântica, fatos sobre o mundo real, etc) para resolvê-lo adequadamente.Segmentação morfológica\n",
            "\n",
            "Separa palavras em morfemas individuais e identifica classes de morfemas. A dificuldade desta tarefa depende muito da complexidade da morfologia (isto é, da estrutura das palavras) da linguagem que está sendo considerada. O inglês possui uma morfologia bastante simples, especialmente a morfologia flexional, e portanto é possível ignorar esta tarefa inteiramente e simplesmente modelar todas as formas possíveis de uma palavra (por exemplo, \"open, opens, opened, opening\") como palavras separadas. Em línguas como o turco ou o Meitei, uma língua indiana fortemente aglutinada, no entanto, tal abordagem não é possível, uma vez que cada entrada do dicionário tem milhares de formas de palavras possíveis.Reconhecimento de entidade nomeada (NER)\n",
            "\n",
            "Dado um fluxo de texto, determina quais são itens no mapa de texto para nomes próprios, como pessoas ou locais e qual é o tipo de cada nome (por exemplo, pessoa, local, organização). Embora a capitalização possa ajudar a reconhecer entidades nomeadas em idiomas como o inglês, essas informações podem não ajudar a determinar o tipo de entidade nomeada e, em alguns casos, sãos imprecisas ou insuficientes. Por exemplo, a primeira palavra de uma frase também é capitalizada e as entidades nomeadas muitas vezes abrangem várias palavras, com apenas algumas delas são capitalizadas. Além disso, muitas outras linguagens em scripts não-ocidentais (por exemplo, chinês ou árabe) não têm nenhuma capitalização e mesmo as línguas com maiúsculas podem não distinguir nomes. Por exemplo, o alemão capitaliza todos os substantivos, independentemente de se referirem a nomes, e o francês e o espanhol não capitalizam nomes que servem como adjetivos.Geração de língua natural\n",
            "\n",
            "Converte informações de bancos de dados de computador ou intenções semânticas em linguagem humana legível.Compreensão da língua natural\n",
            "\n",
            "Converte pedaços de texto em representações mais formais, como estruturas de lógica de primeira ordem, que são mais fáceis de manipular pelos programas de computador. A compreensão da língua natural envolve a identificação da semântica pretendida a partir da múltipla semântica possível que pode ser derivada de uma expressão de língua natural que geralmente toma a forma de notação organizada de conceitos de linguagens naturais. Entretanto, introdução e criação de linguagem metamodelo e ontologia são eficientes soluções empíricas. Uma formalização explícita da semântica de línguas naturais sem confusões com suposições implícitas como closed-world assumption (CWA) versus open-world assumption ou subjetiva Sim / Não versus objetivo Verdadeiro / Falso é esperada para a construção de uma base de formalização semântica.Reconhecimento óptico de caracteres (OCR)\n",
            "\n",
            "Dada uma imagem que representa o texto impresso, determina o texto correspondente.Marcação de classe gramatical\n",
            "\n",
            "Dada uma sentença, determina a classe gramatical de cada palavra. Muitas palavras, especialmente as comuns, podem servir como múltiplas partes do discurso. Em inglês, por exemplo, \"book\" pode ser um substantivo (\"the book on the table\") ou verbo (\"book a flight\"); \"Set\" pode ser um substantivo, verbo ou adjetivo; E \"out\" pode ser qualquer um de pelo menos cinco diferentes partes da fala. Algumas línguas têm mais ambiguidade do que outras. As línguas com pouca morfologia flexional, como o inglês, são particularmente propensas a tal ambiguidade. O chinês é propenso a tal ambiguidade porque é uma língua tonal durante a verbalização. Tal inflexão não é facilmente transmitida através das entidades empregadas dentro da ortografia para transmitir o significado pretendido.Análise sintática (Parsing)\n",
            "\n",
            "Determina a árvore de análise (análise gramatical) de uma frase. A gramática para as linguagens naturais é ambígua e frases típicas têm múltiplas análises possíveis. Na verdade, surpreendentemente, para uma frase típica pode haver milhares de análises em potencial (a maioria dos quais parecerá completamente absurda para um ser humano).Respostas a perguntas\n",
            "\n",
            "Dada uma questão de linguagem humana, determina sua resposta. As perguntas típicas têm uma resposta correta específica (como \"Qual é o capital do Canadá?\"), mas às vezes perguntas abertas também são consideradas (como \"Qual é o significado da vida?\"). Trabalhos recentes têm analisado questões ainda mais complexas.Extração de relacionamento\n",
            "\n",
            "Identifica as relações entre entidades nomeadas (por exemplo, quem é casado com quem) com base em textos.Quebra de frases (sentence boundary disambiguation)\n",
            "\n",
            "Encontra os limites da frase em um pedaço de texto. Os limites de frases são normalmente marcadas por pontos ou outros sinais de pontuação, mas esses mesmos caracteres podem servir outros propósitos.Análise de subjetividade (sentiment analysis ou opinion mining)\n",
            "\n",
            "Extrai informações subjetivas geralmente de um conjunto de documentos, muitas vezes usando revisões online para determinar a \"polaridade\" sobre objetos específicos. É especialmente útil para identificar tendências da opinião pública nas mídias sociais, para fins de marketing.Reconhecimento de fala\n",
            "\n",
            "Dado um clipe de som de uma pessoa ou pessoas falando, determina a representação textual do discurso. É o oposto da síntese de fala e é uma das áreas mais difíceis, conhecida como \"AI-complete\". Na fala natural quase não há pausas entre palavras sucessivas, por isso a segmentação de fala é uma subtarefa necessária de reconhecimento de fala. Nota-se também que, na maioria das linguagens faladas, os sons que representam letras sucessivas se misturam entre si em um processo denominado coarticulação, de modo que a conversão do sinal analógico em caracteres discretos pode ser um processo muito difícil de ser realizado.Segmentação de fala\n",
            "\n",
            "Dado um clipe de som de uma pessoa ou pessoas falando, separa-o em palavras. Uma subaplicação de reconhecimento de fala e normalmente agrupada com ele.Análise morfológica e reconhecimento de tópicos\n",
            "\n",
            "Dado um pedaço de texto, separa-o em segmentos cada um dos quais é dedicado a um tópico e identifica o tópico do segmento.Análise morfológica e segmentação de palavras\n",
            "\n",
            "Separa um pedaço de texto contínuo em palavras separadas. Para uma língua como o inglês, isso é bastante trivial, uma vez que as palavras são normalmente separadas por espaços. No entanto, algumas línguas escritas como chinês, japonês e tailandês não marcam limites de palavras de tal forma, e nessas línguas segmentação de texto é uma tarefa significativa que requer conhecimento do vocabulário e morfologia das palavras na língua.Desambiguação\n",
            "\n",
            "Muitas palavras têm mais de um significado, assim temos que selecionar o significado que faz mais sentido no contexto. Para este problema, em geral é dada uma lista de palavras e sentidos de palavras associadas de um dicionário ou recurso online, como o WordNet.\n",
            "Em alguns casos, conjuntos de tarefas relacionadas são agrupados em subcampos de PLN que são frequentemente considerados separadamente da PLN como um todo, como os exemplos à seguir:Recuperação de informação (IR)\n",
            "\n",
            "Trata-se de armazenar, pesquisar e recuperar informações. É um campo separado dentro da ciência da computação (mais perto de bancos de dados), mas a IR se baseia em alguns métodos PLN (por exemplo, stemming). Algumas pesquisas e aplicações atuais procuram preencher a lacuna entre IR e PLN.Extração de informação (IE)\n",
            "\n",
            "Trata-se, em geral, da extração de informação semântica a partir do texto. Abrange tarefas como reconhecimento de entidade mencionada, resolução de correferência e de relacionamento de extração, etc.\n",
            "Processamento de voz  Abrange reconhecimento de fala, síntese de fala e tarefas relacionadas.\n",
            "Outras tarefas incluem:\n",
            "Identificação na língua materna\n",
            "Stemização\n",
            "Simplificação do texto\n",
            "Síntese de fala\n",
            "Revisão de texto\n",
            "Pesquisa em língua natural\n",
            "Expansão da consulta\n",
            "Pontuação de ensaio automatizado\n",
            "Truecasing\n",
            "\n",
            "\n",
            "== Estatística ==\n",
            "Artigo principal: Gramática estocástica\n",
            "O processamento estatístico em língua natural utiliza métodos estocásticos, probabilísticos e estatísticos para resolver algumas das dificuldades discutidas acima, especialmente aquelas que surgem porque frases mais longas são muito ambíguas quando processadas com gramáticas realistas, produzindo milhares ou milhões de análises possíveis. Métodos de desambiguação envolvem muitas vezes o uso de corpora e modelos de Markov. O projeto ESPRIT P26 (1984-1988), liderado pelo CSELT, explorou o problema do reconhecimento de fala comparando abordagem baseada em conhecimento e estatística: o resultado escolhido foi um modelo completamente estatístico. Um dos primeiros modelos de compreensão estatística da língua natural foi introduzido em 1991 por Roberto Pieraccini, Esther Levin e Chin-Hui Lee, da Bell Laboratories]. O PLN compreende todas as abordagens quantitativas para processamento automatizado de linguagem, incluindo modelagem probabilística, teoria da informação e álgebra linear. A tecnologia para o PLN estatístico vem principalmente da aprendizagem automática e da mineração de dados, que são campos de inteligência artificial que envolvem o aprendizado a partir de dados.\n",
            "\n",
            "\n",
            "== Avaliação ==\n",
            "O objetivo da avaliação do PLN é uma medida de uma ou mais qualidades de um algoritmo ou de um sistema a fim de determinar se o algoritmo atende às metas dos projetistas ou o sistema de atendimento às necessidades de seus usuários. Investigação na avaliação PLN  tem ganhado atenção, porque a definição de critérios de avaliação é uma forma de especificar precisamente problemas do PLN. Uma métrica de avaliação de PLN em um sistema algorítmico permite a integração da compreensão de linguagem e geração de linguagem. Um conjunto preciso de critérios de avaliação, que pode ser aplicado principalmente a avaliações métricas, podendo permitir que várias equipes comparem suas soluções para um determinado problema do PLN.\n",
            "\n",
            "\n",
            "== Cronologia da avaliação ==\n",
            "Em 1983, iniciou-se o Projecto Esprit P26, que avaliou as Tecnologias da Fala (incluindo tópicos gerais como Sintaxe e Semântica) comparando as abordagens baseadas em regras com as estatísticas.\n",
            "Em 1987, a primeira campanha de avaliação de textos escritos parece ser uma campanha dedicada à compreensão da mensagem (Pallet, 1998).\n",
            "O projeto Parseval / GEIG comparou gramáticas de frase-estrutura (Black 1991).\n",
            "Houve uma série de campanhas no projeto Tipster sobre tarefas como resumo, tradução e pesquisa (Hirschman 1998).\n",
            "Em 1994, na Alemanha, o Morpholympics comparou marcadores morfológicos alemães.\n",
            "As campanhas de Senseval & Romanseval foram realizadas com os objetivos de desambiguação semântica.\n",
            "Em 1996, a campanha Sparkle comparou os analisadores sintáticos em quatro idiomas diferentes (inglês, francês, alemão e italiano).\n",
            "Na França, o projeto Grace comparou um conjunto de 21 marcadores para o francês em 1997 (Adda 1999).\n",
            "Em 2004, durante o projeto Technolangue / Easy, foram comparados 13 analisadores para o francês.\n",
            "A avaliação em larga escala dos analisadores de dependência foi realizada no contexto das tarefas compartilhadas do CoNLL em 2006 e 2007.\n",
            "Na França, no âmbito do projecto ANR-Passage (final de 2007), foram comparados 10 analisadores para o francês.\n",
            "Em Itália, a campanha EVALITA foi realizada em 2007, 2009, 2011 e 2014 para comparar várias ferramentas de PLN e de voz para o site italiano - EVALITA.\n",
            "\n",
            "\n",
            "== Diferentes tipos de avaliação ==\n",
            "Avaliação intrínseca vs. extrínseca\n",
            "A avaliação intrínseca considera um sistema PNL isolado e caracteriza seu desempenho em relação a um resultado padrão-excelência, conforme definido pelos avaliadores. A avaliação extrínseca, também chamada de avaliação em uso, considera o sistema PLN em um cenário mais complexo como um sistema embutido ou uma função precisa para um usuário humano. O desempenho extrínseco do sistema é então caracterizado em termos de utilidade em relação à tarefa global do sistema estranho ou do utilizador humano. Por exemplo, considere um analisador sintático que é baseado na saída de alguma parte do tagger de fala (POS). Uma avaliação intrínseca executaria o marcador POS em dados estruturados e compararia a saída do sistema do marcador POS com a saída padrão ouro. Uma avaliação extrínseca executaria o analisador com algum outro marcador POS e, em seguida, com o marcador POS novo e compara a precisão de análise.\n",
            "Caixa preta vs. Avaliação da caixa de vidro\n",
            "A avaliação em caixa preta requer que alguém execute um sistema PLN em um conjunto de dados de amostra e para medir uma série de parâmetros relacionados com a qualidade do processo, como velocidade, confiabilidade, consumo de recursos e, principalmente, a qualidade do resultado, como a precisão da anotação de dados ou a fidelidade de uma tradução. A avaliação da caixa de vidro examina a concepção do sistema; Os algoritmos que são implementados, os recursos linguísticos que utiliza, como o tamanho do vocabulário ou a expressão definida de cardinalidade. Dada a complexidade dos problemas da PLN, muitas vezes é difícil prever o desempenho apenas com base na avaliação da caixa de vidro; Mas este tipo de avaliação é mais informativo no que diz respeito à análise de erros ou desenvolvimentos futuros de um sistema.\n",
            "Automática vs. avaliação manual\n",
            "Em muitos casos, procedimentos automáticos podem ser definidos para avaliar um sistema de PLN, comparando sua saída com o padrão de excelência. Embora o custo de reproduzir o padrão de excelência possa ser bastante elevado, avaliação automática de bootstrapping sobre os mesmos dados de entrada pode ser repetida quantas vezes for necessário sem custos adicionais desordenados. No entanto, para muitos problemas de PLN a definição precisa de um padrão de excelência é uma tarefa complexa e pode se revelar impossível quando o acordo inter-anotador é insuficiente. A avaliação manual é melhor realizada por juízes humanos instruídos para estimar a qualidade de um sistema, ou mais frequentemente de uma amostra de sua produção, com base em uma série de critérios. Embora, graças à sua competência linguística, os juízes humanos possam ser considerados como a referência para uma série de tarefas de processamento de linguagem, há também uma variação considerável em suas classificações. É por isso que a avaliação automática é, por vezes, referida como avaliação objetiva enquanto a avaliação humana é perspectiva.\n",
            "\n",
            "\n",
            "== Padronização ==\n",
            "Um subcomitê ISO está trabalhando para facilitar a interoperabilidade entre recursos lexicais e programas PLN. O subcomitê faz parte do ISO / TC37 e é chamado ISO / TC37 / SC4. Alguns padrões ISO já estão publicados, mas a maioria deles está em construção, principalmente na representação de léxico (ver LMF), anotação e registro de categoria de dados.\n",
            "\n",
            "\n",
            "== Ferramentas ==\n",
            "Expert System S.p.A.\n",
            "General Architecture for Text Engineering\n",
            "Modular Audio Recognition Framework\n",
            "Natural Language Toolkit (NLTK): uma biblioteca em Python\n",
            "OpenNLP\n",
            "\n",
            "\n",
            "== Veja também ==\n",
            "Mineração de texto biomédica\n",
            "Processo de processamento composto\n",
            "Revisão assistida por computador\n",
            "Linguagem natural controlada\n",
            "Processamento linguístico profundo\n",
            "Auxílio à leitura de línguas estrangeiras\n",
            "Auxílio à escrita em língua estrangeira\n",
            "Tecnologia da linguagem\n",
            "A alocação de Dirichlet Latente (LDA)\n",
            "Indexação semântica latente\n",
            "Lista de ferramentas de processamento de língua natural\n",
            "Mapa de LRE\n",
            "Programação em língua natural\n",
            "Reificação (linguística)\n",
            "Dobradura semântica\n",
            "Sistema de diálogo falado\n",
            "Vetor do Pensamento\n",
            "Pesquisa Transderivacional\n",
            "Word2vec\n",
            "\n",
            "\n",
            "== Referências ==\n",
            "\n",
            "\n",
            "== Leitura adicional ==\n",
            "Steven Bird, Ewan Klein, and Edward Loper (2009). Natural Language Processing with Python. O'Reilly Media. ISBN 978-0-596-51649-9.\n",
            "Daniel Jurafsky and James H. Martin (2008). Speech and Language Processing, 2nd edition. Pearson Prentice Hall. ISBN 978-0-13-187321-6.\n",
            "Christopher D. Manning, Prabhakar Raghavan, and Hinrich Schütze (2008). Introduction to Information Retrieval. Cambridge University Press. ISBN 978-0-521-86571-5. Official html and pdf versions available without charge.\n",
            "Christopher D. Manning and Hinrich Schütze (1999). Foundations of Statistical Natural Language Processing. The MIT Press. ISBN 978-0-262-13360-9.\n",
            "David M. W. Powers and Christopher C. R. Turk (1989). Machine Learning of Natural Language. Springer-Verlag. ISBN 978-0-387-19557-5.\n"
          ]
        }
      ]
    },
    {
      "cell_type": "code",
      "metadata": {
        "id": "EmSdONIGU2d_",
        "colab": {
          "base_uri": "https://localhost:8080/"
        },
        "outputId": "05ba5e19-14e9-4077-f973-0ea6c35fbc3a"
      },
      "source": [
        "print(\"O texto que estamos utilizando é da URL\",pln.url)"
      ],
      "execution_count": 55,
      "outputs": [
        {
          "output_type": "stream",
          "name": "stdout",
          "text": [
            "O texto que estamos utilizando é da URL https://pt.wikipedia.org/wiki/Processamento_de_linguagem_natural\n"
          ]
        }
      ]
    },
    {
      "cell_type": "code",
      "metadata": {
        "id": "EzO-lVIgU2eC",
        "colab": {
          "base_uri": "https://localhost:8080/"
        },
        "outputId": "5f394da4-da77-42ca-988a-90e518777f7e"
      },
      "source": [
        "print(pln.content)"
      ],
      "execution_count": 56,
      "outputs": [
        {
          "output_type": "stream",
          "name": "stdout",
          "text": [
            "Processamento de língua natural (PLN) é uma subárea da ciência da computação, inteligência artificial e da linguística que estuda os problemas da geração e compreensão automática de línguas humanas naturais. Sistemas de geração de língua natural convertem informação de bancos de dados de computadores em linguagem compreensível ao ser humano e sistemas de compreensão de língua natural convertem ocorrências de linguagem humana em representações mais formais, mais facilmente manipuláveis por programas de computador. Alguns desafios do PLN são compreensão de língua natural, fazer com que computadores extraiam sentido de linguagem humana ou natural e geração de língua natural.\n",
            "\n",
            "\n",
            "== História ==\n",
            "A história do PLN começou na década de 1950, quando Alan Turing publicou o artigo \"Computing Machinery and Intelligence\", que propunha o que agora é chamado de teste de Turing como critério de inteligência.\n",
            "Em 1954, a experiência de Georgetown envolveu a tradução automática de mais de sessenta frases russas para o inglês. Os autores afirmaram que dentro de três ou cinco anos a tradução automática seria um problema resolvido. No entanto, os avanços reais foram muito mais lentos do que o previsto e, após o relatório ALPAC em 1966, que constatou que a pesquisa de dez anos não conseguiu satisfazer as expectativas, o financiamento para este estudo em tradução automática foi reduzido drasticamente. Poucas pesquisas em tradução automática foram conduzidas até o final dos anos 80, quando os primeiros sistemas estatísticos de tradução foram desenvolvidos.\n",
            "Alguns sistemas de PLN bem sucedidos desenvolvidos nos anos 60 foram SHRDLU, um sistema de língua natural que trabalhava em \"blocks worlds\" com vocabulário restrito e ELIZA, uma simulação de um psicoterapeuta escrita por Joseph Weizenbaum entre 1964 e 1966. Usando pouca informação sobre o pensamento ou a emoção humana, ELIZA criava, em alguns casos, interações surpreendentemente humanas. Quando o \"paciente\" excedia a base de conhecimento do programa, ELIZA fornecia uma resposta genérica, por exemplo, respondendo a \"Minha cabeça dói\" com \"Por que você diz que sua cabeça dói?\".\n",
            "Durante a década de 1970, muitos programadores começaram a escrever \"ontologias conceituais\", que estruturaram a informação do mundo real em dados compreensíveis por computadores. Exemplos são MARGIE (SCHANK, 1975), SAM (CULLINGFORD, 1978), PAM (WILENSKY, 1978), TaleSpin (MEEHAN, 1976), QUALM (LEHNERT, 1977), Politics (CARBONELL, 1979) e Plot Units (LEHNERT, 1981 ). Neste período, muitos chatterbots foram escritos, como PARRY, Racter e Jabberwacky.\n",
            "Até a década de 1980, a maioria dos sistemas de PLN se baseava em conjuntos complexos de regras manuscritas. A partir do final dos anos 1980, no entanto, houve uma revolução no PLN com a introdução de algoritmos de aprendizagem automática (aprendizado de máquina) para o processamento de linguagem. Isto foi devido tanto ao aumento constante do poder computacional (ver Lei de Moore) quanto à diminuição gradual da dominância das teorias da linguística chomskyanas (como a gramática gerativa), cujos fundamentos teóricos desestimularam o tipo de corpus linguístico que está subjacente à abordagem da aprendizagem automática ao processamento da linguagem.\n",
            "Alguns dos algoritmos de aprendizado de máquinas mais antigos, como as árvores de decisão, produziam sistemas de regras rígidas então semelhantes às regras existentes na escritas à mão. No entanto, a marcação de partes da fala (part-of-speech tagging) introduziu o uso de modelos ocultos de Markov para o PLN e, cada vez mais, a pesquisa se concentrava em modelos estatísticos, que tomam decisões suaves e probabilísticas baseadas na atribuição de pesos reais aos recursos que compõem dados de entrada. Os modelos de linguagem de cache, sobre os quais muitos sistemas de reconhecimento de fala agora dependem, são exemplos de tais modelos estatísticos. Esses modelos são geralmente mais robustos quando dados informações desconhecidas, especialmente entrada que contém erros (como é muito comum para dados do mundo real) e produzem resultados mais confiáveis quando integrados em sistemas maiores que compreendem múltiplas tarefas.\n",
            "Muitos dos sucessos iniciais notáveis ocorreram no campo da tradução automática, devido especialmente ao trabalho de pesquisa da IBM, que desenvolveu modelos estatísticos mais elaborados. Estes sistemas foram capazes de tirar proveito de corpora textuais multilíngues existentes  produzidos pelo Parlamento do Canadá e a União Europeia como resultado de leis que exigem a tradução de todos os processos governamentais em todas as línguas oficiais dos países. No entanto, a maioria dos sistemas dependia de corpora desenvolvido especificamente para tarefas implementadas por esses sistemas, o que era (e muitas vezes continua sendo) uma grande limitação no sucesso dos mesmo. Como resultado, uma grande quantidade de pesquisa passou de quantidades de dados limitadas a métodos de aprendizagem mais eficazes.\n",
            "Pesquisas recentes têm se concentrado cada vez mais em algoritmos de aprendizagem semi-supervisionados e sem supervisão. Esses algoritmos são capazes de aprender com dados que não foram anotados manualmente com as respostas desejadas ou usando uma combinação de dados anotados e não anotados. Geralmente, esta tarefa é muito mais trabalhosa do que a aprendizagem supervisionada e normalmente produz resultados menos precisos para uma quantidade específica de dados de entrada. No entanto, há uma enorme quantidade de dados não anotados disponíveis (incluindo, entre outras coisas, todo o conteúdo da World Wide Web), que muitas vezes pode compensar os resultados inferiores.\n",
            "\n",
            "\n",
            "== Usando a aprendizagem automática (aprendizado de máquina) ==\n",
            "Os algoritmos modernos de PLN baseiam-se na aprendizagem mecânica, especialmente na aprendizagem de máquinas estatísticas. O paradigma da aprendizagem mecânica é diferente do da maioria das tentativas anteriores de processamento da linguagem. Anteriormente, implementações de tarefas de processamento de linguagem envolviam a codificação direta de grandes conjuntos de regras. O paradigma da aprendizagem automática (ou aprendizagem automática) induz a aprendizagem automática de regras através de análises de corpora de exemplos típicos do mundo real ao invés de usar algoritmos gerais de aprendizagem (muitas vezes, embora nem sempre, baseados em inferência estatística). Um corpus (plural \"corpora\") é um conjunto de documentos (ou frases individuais) que foram anotados à mão com os valores corretos a serem aprendidos.\n",
            "Muitas classes diferentes de algoritmos de aprendizado de máquina foram aplicadas a tarefas de PLN. Esses algoritmos tomam como entrada um grande conjunto de \"recursos\" que são gerados a partir de dados de entrada.\n",
            "Alguns dos algoritmos mais usados, como árvores de decisão, produziam sistemas de regras rígidas semelhantes aos sistemas de regras manuscritas mais comuns. No entanto, cada vez mais, a pesquisa tem se concentrado em modelos estatísticos, que tomam decisões flexíveis e probabilísticas baseadas em agregar pesos reais a cada característica de entrada. Tais modelos têm a vantagem de poder expressar a certeza relativa de muitas respostas possíveis diferentes em vez de apenas uma, produzindo resultados mais confiáveis quando esse modelo é incluído como um componente de um sistema maior.\n",
            "Os sistemas baseados em algoritmos de aprendizagem mecânica têm muitas vantagens em relação às regras produzidas manualmente:\n",
            "\n",
            "Os procedimentos de aprendizagem usados durante a aprendizagem da máquina focam-se automaticamente nos casos mais comuns, ao passo que quando se escrevem regras à mão, não é óbvio em que sentido o esforço deve ser dirigido.\n",
            "Os procedimentos de aprendizagem automática podem fazer uso de algoritmos de inferência estatística para produzir modelos que são robustos a entradas não familiares (por exemplo, contendo palavras ou estruturas que não foram vistas antes) e a entradas errôneas (por exemplo, com palavras ou palavras incorretamente omitidas). Geralmente, lidar com essas entradas de forma com regras manuscritas ou sistemas de regras manuscritas que tomam decisões suaves é extremamente trabalhoso, propenso a erros e demorado.\n",
            "Sistemas baseados em aprender automaticamente as regras podem ser mais precisos simplesmente fornecendo mais dados de entrada. No entanto, os sistemas baseados em regras escritas à mão só podem ser tornados mais precisos aumentando a complexidade das regras, o que é uma tarefa muito mais difícil. Em particular, há um limite para a complexidade de sistemas baseados em regras artesanais, para além dos quais os sistemas se tornam cada vez mais incontroláveis. No entanto, a criação de mais dados para entrada em sistemas de aprendizado de máquina requer simplesmente um aumento correspondente no número de horas trabalhadas por humanos, geralmente sem aumentos significativos na complexidade do processo de anotação.O subcampo de PLN dedicado a abordagens de aprendizagem é conhecido como aprendizagem de língua natural (NLL) e sua conferência, a CoNLL, e orgão central, o SIGNLL, são patrocinados pela ACL, reconhecendo também as suas ligações com linguística computacional e aquisição de linguagem. Quando o objetivo da pesquisa de aprendizagem de linguagem computacional é entender mais sobre aquisição de linguagem humana, ou psicolinguística, a NLL sobrepõe-se no campo relacionado de psicolinguística computacional.\n",
            "\n",
            "\n",
            "== Aplicações principais ==\n",
            "A listagem a seguir traz alguns dos trabalhos mais pesquisadas em PLN. Note que alguns deles têm aplicações no mundo real, enquanto outras servem mais frequentemente como tarefas secundárias que são usadas para auxiliar na resolução de tarefas maiores. O que distingue essas tarefas de outras tarefas potenciais e reais de PLN não é apenas o volume de pesquisa dedicado a elas, mas o fato de que para cada uma há tipicamente uma definição de problema bem especificada, uma métrica padrão para avaliar a tarefa, corpora padrão em que a tarefa pode ser avaliada e as competições dedicadas à tarefa específica.\n",
            "Sumarização automática\n",
            "\n",
            "Produz um resumo legível de uma parte do texto. Muitas vezes usado para fornecer resumos de texto de um tipo conhecido, como artigos na seção financeira de um jornal.Resolução de correferência\n",
            "\n",
            "Dada uma frase ou um pedaço maior de texto, determina quais palavras (\"menções\") se referem aos mesmos objetos (\"entidades\"). A resolução da anáfora é um exemplo específico dessa tarefa e está especificamente preocupada em combinar os pronomes com os substantivos ou nomes aos quais eles se referem. A tarefa mais geral da resolução de correferência também inclui a identificação dos chamados \"relacionamentos de ponte\" envolvendo expressões de referência. Por exemplo, numa frase como \"Ele entrou na casa de João pela porta da frente\", \"a porta da frente\" é uma expressão de referência e a relação da ponte a ser identificada é o fato de que a porta a ser referida é a porta da frente de John's (ao invés de alguma outra estrutura que também pode ser referida).Análise do Discurso\n",
            "\n",
            "Esta rubrica inclui uma série de tarefas relacionadas. Uma tarefa é identificar a estrutura discursiva do texto conectado, isto é, a natureza das relações discursivas entre sentenças (por exemplo, elaboração, explicação, contraste). Outra possível tarefa é reconhecer e classificar os atos de fala em um pedaço de texto (por exemplo, pergunta sim-não, pergunta de conteúdo, frase, afirmação, etc).Maquina de tradução\n",
            "\n",
            "Traduzir automaticamente texto de uma linguagem humana para outra. Este é uma das tarefas mais difíceis e faz parte de um tipo de problemas conhecidos como \"AI-complete\", ou seja, exigindo todos os diferentes tipos de conhecimento que os humanos possuem (gramática, semântica, fatos sobre o mundo real, etc) para resolvê-lo adequadamente.Segmentação morfológica\n",
            "\n",
            "Separa palavras em morfemas individuais e identifica classes de morfemas. A dificuldade desta tarefa depende muito da complexidade da morfologia (isto é, da estrutura das palavras) da linguagem que está sendo considerada. O inglês possui uma morfologia bastante simples, especialmente a morfologia flexional, e portanto é possível ignorar esta tarefa inteiramente e simplesmente modelar todas as formas possíveis de uma palavra (por exemplo, \"open, opens, opened, opening\") como palavras separadas. Em línguas como o turco ou o Meitei, uma língua indiana fortemente aglutinada, no entanto, tal abordagem não é possível, uma vez que cada entrada do dicionário tem milhares de formas de palavras possíveis.Reconhecimento de entidade nomeada (NER)\n",
            "\n",
            "Dado um fluxo de texto, determina quais são itens no mapa de texto para nomes próprios, como pessoas ou locais e qual é o tipo de cada nome (por exemplo, pessoa, local, organização). Embora a capitalização possa ajudar a reconhecer entidades nomeadas em idiomas como o inglês, essas informações podem não ajudar a determinar o tipo de entidade nomeada e, em alguns casos, sãos imprecisas ou insuficientes. Por exemplo, a primeira palavra de uma frase também é capitalizada e as entidades nomeadas muitas vezes abrangem várias palavras, com apenas algumas delas são capitalizadas. Além disso, muitas outras linguagens em scripts não-ocidentais (por exemplo, chinês ou árabe) não têm nenhuma capitalização e mesmo as línguas com maiúsculas podem não distinguir nomes. Por exemplo, o alemão capitaliza todos os substantivos, independentemente de se referirem a nomes, e o francês e o espanhol não capitalizam nomes que servem como adjetivos.Geração de língua natural\n",
            "\n",
            "Converte informações de bancos de dados de computador ou intenções semânticas em linguagem humana legível.Compreensão da língua natural\n",
            "\n",
            "Converte pedaços de texto em representações mais formais, como estruturas de lógica de primeira ordem, que são mais fáceis de manipular pelos programas de computador. A compreensão da língua natural envolve a identificação da semântica pretendida a partir da múltipla semântica possível que pode ser derivada de uma expressão de língua natural que geralmente toma a forma de notação organizada de conceitos de linguagens naturais. Entretanto, introdução e criação de linguagem metamodelo e ontologia são eficientes soluções empíricas. Uma formalização explícita da semântica de línguas naturais sem confusões com suposições implícitas como closed-world assumption (CWA) versus open-world assumption ou subjetiva Sim / Não versus objetivo Verdadeiro / Falso é esperada para a construção de uma base de formalização semântica.Reconhecimento óptico de caracteres (OCR)\n",
            "\n",
            "Dada uma imagem que representa o texto impresso, determina o texto correspondente.Marcação de classe gramatical\n",
            "\n",
            "Dada uma sentença, determina a classe gramatical de cada palavra. Muitas palavras, especialmente as comuns, podem servir como múltiplas partes do discurso. Em inglês, por exemplo, \"book\" pode ser um substantivo (\"the book on the table\") ou verbo (\"book a flight\"); \"Set\" pode ser um substantivo, verbo ou adjetivo; E \"out\" pode ser qualquer um de pelo menos cinco diferentes partes da fala. Algumas línguas têm mais ambiguidade do que outras. As línguas com pouca morfologia flexional, como o inglês, são particularmente propensas a tal ambiguidade. O chinês é propenso a tal ambiguidade porque é uma língua tonal durante a verbalização. Tal inflexão não é facilmente transmitida através das entidades empregadas dentro da ortografia para transmitir o significado pretendido.Análise sintática (Parsing)\n",
            "\n",
            "Determina a árvore de análise (análise gramatical) de uma frase. A gramática para as linguagens naturais é ambígua e frases típicas têm múltiplas análises possíveis. Na verdade, surpreendentemente, para uma frase típica pode haver milhares de análises em potencial (a maioria dos quais parecerá completamente absurda para um ser humano).Respostas a perguntas\n",
            "\n",
            "Dada uma questão de linguagem humana, determina sua resposta. As perguntas típicas têm uma resposta correta específica (como \"Qual é o capital do Canadá?\"), mas às vezes perguntas abertas também são consideradas (como \"Qual é o significado da vida?\"). Trabalhos recentes têm analisado questões ainda mais complexas.Extração de relacionamento\n",
            "\n",
            "Identifica as relações entre entidades nomeadas (por exemplo, quem é casado com quem) com base em textos.Quebra de frases (sentence boundary disambiguation)\n",
            "\n",
            "Encontra os limites da frase em um pedaço de texto. Os limites de frases são normalmente marcadas por pontos ou outros sinais de pontuação, mas esses mesmos caracteres podem servir outros propósitos.Análise de subjetividade (sentiment analysis ou opinion mining)\n",
            "\n",
            "Extrai informações subjetivas geralmente de um conjunto de documentos, muitas vezes usando revisões online para determinar a \"polaridade\" sobre objetos específicos. É especialmente útil para identificar tendências da opinião pública nas mídias sociais, para fins de marketing.Reconhecimento de fala\n",
            "\n",
            "Dado um clipe de som de uma pessoa ou pessoas falando, determina a representação textual do discurso. É o oposto da síntese de fala e é uma das áreas mais difíceis, conhecida como \"AI-complete\". Na fala natural quase não há pausas entre palavras sucessivas, por isso a segmentação de fala é uma subtarefa necessária de reconhecimento de fala. Nota-se também que, na maioria das linguagens faladas, os sons que representam letras sucessivas se misturam entre si em um processo denominado coarticulação, de modo que a conversão do sinal analógico em caracteres discretos pode ser um processo muito difícil de ser realizado.Segmentação de fala\n",
            "\n",
            "Dado um clipe de som de uma pessoa ou pessoas falando, separa-o em palavras. Uma subaplicação de reconhecimento de fala e normalmente agrupada com ele.Análise morfológica e reconhecimento de tópicos\n",
            "\n",
            "Dado um pedaço de texto, separa-o em segmentos cada um dos quais é dedicado a um tópico e identifica o tópico do segmento.Análise morfológica e segmentação de palavras\n",
            "\n",
            "Separa um pedaço de texto contínuo em palavras separadas. Para uma língua como o inglês, isso é bastante trivial, uma vez que as palavras são normalmente separadas por espaços. No entanto, algumas línguas escritas como chinês, japonês e tailandês não marcam limites de palavras de tal forma, e nessas línguas segmentação de texto é uma tarefa significativa que requer conhecimento do vocabulário e morfologia das palavras na língua.Desambiguação\n",
            "\n",
            "Muitas palavras têm mais de um significado, assim temos que selecionar o significado que faz mais sentido no contexto. Para este problema, em geral é dada uma lista de palavras e sentidos de palavras associadas de um dicionário ou recurso online, como o WordNet.\n",
            "Em alguns casos, conjuntos de tarefas relacionadas são agrupados em subcampos de PLN que são frequentemente considerados separadamente da PLN como um todo, como os exemplos à seguir:Recuperação de informação (IR)\n",
            "\n",
            "Trata-se de armazenar, pesquisar e recuperar informações. É um campo separado dentro da ciência da computação (mais perto de bancos de dados), mas a IR se baseia em alguns métodos PLN (por exemplo, stemming). Algumas pesquisas e aplicações atuais procuram preencher a lacuna entre IR e PLN.Extração de informação (IE)\n",
            "\n",
            "Trata-se, em geral, da extração de informação semântica a partir do texto. Abrange tarefas como reconhecimento de entidade mencionada, resolução de correferência e de relacionamento de extração, etc.\n",
            "Processamento de voz  Abrange reconhecimento de fala, síntese de fala e tarefas relacionadas.\n",
            "Outras tarefas incluem:\n",
            "Identificação na língua materna\n",
            "Stemização\n",
            "Simplificação do texto\n",
            "Síntese de fala\n",
            "Revisão de texto\n",
            "Pesquisa em língua natural\n",
            "Expansão da consulta\n",
            "Pontuação de ensaio automatizado\n",
            "Truecasing\n",
            "\n",
            "\n",
            "== Estatística ==\n",
            "Artigo principal: Gramática estocástica\n",
            "O processamento estatístico em língua natural utiliza métodos estocásticos, probabilísticos e estatísticos para resolver algumas das dificuldades discutidas acima, especialmente aquelas que surgem porque frases mais longas são muito ambíguas quando processadas com gramáticas realistas, produzindo milhares ou milhões de análises possíveis. Métodos de desambiguação envolvem muitas vezes o uso de corpora e modelos de Markov. O projeto ESPRIT P26 (1984-1988), liderado pelo CSELT, explorou o problema do reconhecimento de fala comparando abordagem baseada em conhecimento e estatística: o resultado escolhido foi um modelo completamente estatístico. Um dos primeiros modelos de compreensão estatística da língua natural foi introduzido em 1991 por Roberto Pieraccini, Esther Levin e Chin-Hui Lee, da Bell Laboratories]. O PLN compreende todas as abordagens quantitativas para processamento automatizado de linguagem, incluindo modelagem probabilística, teoria da informação e álgebra linear. A tecnologia para o PLN estatístico vem principalmente da aprendizagem automática e da mineração de dados, que são campos de inteligência artificial que envolvem o aprendizado a partir de dados.\n",
            "\n",
            "\n",
            "== Avaliação ==\n",
            "O objetivo da avaliação do PLN é uma medida de uma ou mais qualidades de um algoritmo ou de um sistema a fim de determinar se o algoritmo atende às metas dos projetistas ou o sistema de atendimento às necessidades de seus usuários. Investigação na avaliação PLN  tem ganhado atenção, porque a definição de critérios de avaliação é uma forma de especificar precisamente problemas do PLN. Uma métrica de avaliação de PLN em um sistema algorítmico permite a integração da compreensão de linguagem e geração de linguagem. Um conjunto preciso de critérios de avaliação, que pode ser aplicado principalmente a avaliações métricas, podendo permitir que várias equipes comparem suas soluções para um determinado problema do PLN.\n",
            "\n",
            "\n",
            "== Cronologia da avaliação ==\n",
            "Em 1983, iniciou-se o Projecto Esprit P26, que avaliou as Tecnologias da Fala (incluindo tópicos gerais como Sintaxe e Semântica) comparando as abordagens baseadas em regras com as estatísticas.\n",
            "Em 1987, a primeira campanha de avaliação de textos escritos parece ser uma campanha dedicada à compreensão da mensagem (Pallet, 1998).\n",
            "O projeto Parseval / GEIG comparou gramáticas de frase-estrutura (Black 1991).\n",
            "Houve uma série de campanhas no projeto Tipster sobre tarefas como resumo, tradução e pesquisa (Hirschman 1998).\n",
            "Em 1994, na Alemanha, o Morpholympics comparou marcadores morfológicos alemães.\n",
            "As campanhas de Senseval & Romanseval foram realizadas com os objetivos de desambiguação semântica.\n",
            "Em 1996, a campanha Sparkle comparou os analisadores sintáticos em quatro idiomas diferentes (inglês, francês, alemão e italiano).\n",
            "Na França, o projeto Grace comparou um conjunto de 21 marcadores para o francês em 1997 (Adda 1999).\n",
            "Em 2004, durante o projeto Technolangue / Easy, foram comparados 13 analisadores para o francês.\n",
            "A avaliação em larga escala dos analisadores de dependência foi realizada no contexto das tarefas compartilhadas do CoNLL em 2006 e 2007.\n",
            "Na França, no âmbito do projecto ANR-Passage (final de 2007), foram comparados 10 analisadores para o francês.\n",
            "Em Itália, a campanha EVALITA foi realizada em 2007, 2009, 2011 e 2014 para comparar várias ferramentas de PLN e de voz para o site italiano - EVALITA.\n",
            "\n",
            "\n",
            "== Diferentes tipos de avaliação ==\n",
            "Avaliação intrínseca vs. extrínseca\n",
            "A avaliação intrínseca considera um sistema PNL isolado e caracteriza seu desempenho em relação a um resultado padrão-excelência, conforme definido pelos avaliadores. A avaliação extrínseca, também chamada de avaliação em uso, considera o sistema PLN em um cenário mais complexo como um sistema embutido ou uma função precisa para um usuário humano. O desempenho extrínseco do sistema é então caracterizado em termos de utilidade em relação à tarefa global do sistema estranho ou do utilizador humano. Por exemplo, considere um analisador sintático que é baseado na saída de alguma parte do tagger de fala (POS). Uma avaliação intrínseca executaria o marcador POS em dados estruturados e compararia a saída do sistema do marcador POS com a saída padrão ouro. Uma avaliação extrínseca executaria o analisador com algum outro marcador POS e, em seguida, com o marcador POS novo e compara a precisão de análise.\n",
            "Caixa preta vs. Avaliação da caixa de vidro\n",
            "A avaliação em caixa preta requer que alguém execute um sistema PLN em um conjunto de dados de amostra e para medir uma série de parâmetros relacionados com a qualidade do processo, como velocidade, confiabilidade, consumo de recursos e, principalmente, a qualidade do resultado, como a precisão da anotação de dados ou a fidelidade de uma tradução. A avaliação da caixa de vidro examina a concepção do sistema; Os algoritmos que são implementados, os recursos linguísticos que utiliza, como o tamanho do vocabulário ou a expressão definida de cardinalidade. Dada a complexidade dos problemas da PLN, muitas vezes é difícil prever o desempenho apenas com base na avaliação da caixa de vidro; Mas este tipo de avaliação é mais informativo no que diz respeito à análise de erros ou desenvolvimentos futuros de um sistema.\n",
            "Automática vs. avaliação manual\n",
            "Em muitos casos, procedimentos automáticos podem ser definidos para avaliar um sistema de PLN, comparando sua saída com o padrão de excelência. Embora o custo de reproduzir o padrão de excelência possa ser bastante elevado, avaliação automática de bootstrapping sobre os mesmos dados de entrada pode ser repetida quantas vezes for necessário sem custos adicionais desordenados. No entanto, para muitos problemas de PLN a definição precisa de um padrão de excelência é uma tarefa complexa e pode se revelar impossível quando o acordo inter-anotador é insuficiente. A avaliação manual é melhor realizada por juízes humanos instruídos para estimar a qualidade de um sistema, ou mais frequentemente de uma amostra de sua produção, com base em uma série de critérios. Embora, graças à sua competência linguística, os juízes humanos possam ser considerados como a referência para uma série de tarefas de processamento de linguagem, há também uma variação considerável em suas classificações. É por isso que a avaliação automática é, por vezes, referida como avaliação objetiva enquanto a avaliação humana é perspectiva.\n",
            "\n",
            "\n",
            "== Padronização ==\n",
            "Um subcomitê ISO está trabalhando para facilitar a interoperabilidade entre recursos lexicais e programas PLN. O subcomitê faz parte do ISO / TC37 e é chamado ISO / TC37 / SC4. Alguns padrões ISO já estão publicados, mas a maioria deles está em construção, principalmente na representação de léxico (ver LMF), anotação e registro de categoria de dados.\n",
            "\n",
            "\n",
            "== Ferramentas ==\n",
            "Expert System S.p.A.\n",
            "General Architecture for Text Engineering\n",
            "Modular Audio Recognition Framework\n",
            "Natural Language Toolkit (NLTK): uma biblioteca em Python\n",
            "OpenNLP\n",
            "\n",
            "\n",
            "== Veja também ==\n",
            "Mineração de texto biomédica\n",
            "Processo de processamento composto\n",
            "Revisão assistida por computador\n",
            "Linguagem natural controlada\n",
            "Processamento linguístico profundo\n",
            "Auxílio à leitura de línguas estrangeiras\n",
            "Auxílio à escrita em língua estrangeira\n",
            "Tecnologia da linguagem\n",
            "A alocação de Dirichlet Latente (LDA)\n",
            "Indexação semântica latente\n",
            "Lista de ferramentas de processamento de língua natural\n",
            "Mapa de LRE\n",
            "Programação em língua natural\n",
            "Reificação (linguística)\n",
            "Dobradura semântica\n",
            "Sistema de diálogo falado\n",
            "Vetor do Pensamento\n",
            "Pesquisa Transderivacional\n",
            "Word2vec\n",
            "\n",
            "\n",
            "== Referências ==\n",
            "\n",
            "\n",
            "== Leitura adicional ==\n",
            "Steven Bird, Ewan Klein, and Edward Loper (2009). Natural Language Processing with Python. O'Reilly Media. ISBN 978-0-596-51649-9.\n",
            "Daniel Jurafsky and James H. Martin (2008). Speech and Language Processing, 2nd edition. Pearson Prentice Hall. ISBN 978-0-13-187321-6.\n",
            "Christopher D. Manning, Prabhakar Raghavan, and Hinrich Schütze (2008). Introduction to Information Retrieval. Cambridge University Press. ISBN 978-0-521-86571-5. Official html and pdf versions available without charge.\n",
            "Christopher D. Manning and Hinrich Schütze (1999). Foundations of Statistical Natural Language Processing. The MIT Press. ISBN 978-0-262-13360-9.\n",
            "David M. W. Powers and Christopher C. R. Turk (1989). Machine Learning of Natural Language. Springer-Verlag. ISBN 978-0-387-19557-5.\n"
          ]
        }
      ]
    },
    {
      "cell_type": "markdown",
      "metadata": {
        "id": "8QdmSASmU2eF"
      },
      "source": [
        "## Tokenização\n",
        "\n",
        "Existem várias formas de realizar tokenização. \n",
        "1. Split()\n",
        "2. Regex\n",
        "3. NLTK\n",
        "4. ..."
      ]
    },
    {
      "cell_type": "markdown",
      "metadata": {
        "id": "vpC8C-NfU2eG"
      },
      "source": [
        "### Split\n",
        "\n",
        "1. Faça utilizando o método abaixo\n",
        "<b> Não esqueça de armazenar o resultado na variável abaixo. </b>\n",
        "\n",
        "```python\n",
        "str.split()\n",
        "```"
      ]
    },
    {
      "cell_type": "code",
      "metadata": {
        "id": "CQWJf8eAU2eG",
        "colab": {
          "base_uri": "https://localhost:8080/"
        },
        "outputId": "efd693d1-e6a0-4ac4-d15d-e16d2dcefe5c"
      },
      "source": [
        "tokens_split = (re.split(r'\\s+',corpus))\n",
        "print(tokens_split)"
      ],
      "execution_count": 111,
      "outputs": [
        {
          "output_type": "stream",
          "name": "stdout",
          "text": [
            "['Processamento', 'de', 'língua', 'natural', '(PLN)', 'é', 'uma', 'subárea', 'da', 'ciência', 'da', 'computação,', 'inteligência', 'artificial', 'e', 'da', 'linguística', 'que', 'estuda', 'os', 'problemas', 'da', 'geração', 'e', 'compreensão', 'automática', 'de', 'línguas', 'humanas', 'naturais.', 'Sistemas', 'de', 'geração', 'de', 'língua', 'natural', 'convertem', 'informação', 'de', 'bancos', 'de', 'dados', 'de', 'computadores', 'em', 'linguagem', 'compreensível', 'ao', 'ser', 'humano', 'e', 'sistemas', 'de', 'compreensão', 'de', 'língua', 'natural', 'convertem', 'ocorrências', 'de', 'linguagem', 'humana', 'em', 'representações', 'mais', 'formais,', 'mais', 'facilmente', 'manipuláveis', 'por', 'programas', 'de', 'computador.', 'Alguns', 'desafios', 'do', 'PLN', 'são', 'compreensão', 'de', 'língua', 'natural,', 'fazer', 'com', 'que', 'computadores', 'extraiam', 'sentido', 'de', 'linguagem', 'humana', 'ou', 'natural', 'e', 'geração', 'de', 'língua', 'natural.', '==', 'História', '==', 'A', 'história', 'do', 'PLN', 'começou', 'na', 'década', 'de', '1950,', 'quando', 'Alan', 'Turing', 'publicou', 'o', 'artigo', '\"Computing', 'Machinery', 'and', 'Intelligence\",', 'que', 'propunha', 'o', 'que', 'agora', 'é', 'chamado', 'de', 'teste', 'de', 'Turing', 'como', 'critério', 'de', 'inteligência.', 'Em', '1954,', 'a', 'experiência', 'de', 'Georgetown', 'envolveu', 'a', 'tradução', 'automática', 'de', 'mais', 'de', 'sessenta', 'frases', 'russas', 'para', 'o', 'inglês.', 'Os', 'autores', 'afirmaram', 'que', 'dentro', 'de', 'três', 'ou', 'cinco', 'anos', 'a', 'tradução', 'automática', 'seria', 'um', 'problema', 'resolvido.', 'No', 'entanto,', 'os', 'avanços', 'reais', 'foram', 'muito', 'mais', 'lentos', 'do', 'que', 'o', 'previsto', 'e,', 'após', 'o', 'relatório', 'ALPAC', 'em', '1966,', 'que', 'constatou', 'que', 'a', 'pesquisa', 'de', 'dez', 'anos', 'não', 'conseguiu', 'satisfazer', 'as', 'expectativas,', 'o', 'financiamento', 'para', 'este', 'estudo', 'em', 'tradução', 'automática', 'foi', 'reduzido', 'drasticamente.', 'Poucas', 'pesquisas', 'em', 'tradução', 'automática', 'foram', 'conduzidas', 'até', 'o', 'final', 'dos', 'anos', '80,', 'quando', 'os', 'primeiros', 'sistemas', 'estatísticos', 'de', 'tradução', 'foram', 'desenvolvidos.', 'Alguns', 'sistemas', 'de', 'PLN', 'bem', 'sucedidos', 'desenvolvidos', 'nos', 'anos', '60', 'foram', 'SHRDLU,', 'um', 'sistema', 'de', 'língua', 'natural', 'que', 'trabalhava', 'em', '\"blocks', 'worlds\"', 'com', 'vocabulário', 'restrito', 'e', 'ELIZA,', 'uma', 'simulação', 'de', 'um', 'psicoterapeuta', 'escrita', 'por', 'Joseph', 'Weizenbaum', 'entre', '1964', 'e', '1966.', 'Usando', 'pouca', 'informação', 'sobre', 'o', 'pensamento', 'ou', 'a', 'emoção', 'humana,', 'ELIZA', 'criava,', 'em', 'alguns', 'casos,', 'interações', 'surpreendentemente', 'humanas.', 'Quando', 'o', '\"paciente\"', 'excedia', 'a', 'base', 'de', 'conhecimento', 'do', 'programa,', 'ELIZA', 'fornecia', 'uma', 'resposta', 'genérica,', 'por', 'exemplo,', 'respondendo', 'a', '\"Minha', 'cabeça', 'dói\"', 'com', '\"Por', 'que', 'você', 'diz', 'que', 'sua', 'cabeça', 'dói?\".', 'Durante', 'a', 'década', 'de', '1970,', 'muitos', 'programadores', 'começaram', 'a', 'escrever', '\"ontologias', 'conceituais\",', 'que', 'estruturaram', 'a', 'informação', 'do', 'mundo', 'real', 'em', 'dados', 'compreensíveis', 'por', 'computadores.', 'Exemplos', 'são', 'MARGIE', '(SCHANK,', '1975),', 'SAM', '(CULLINGFORD,', '1978),', 'PAM', '(WILENSKY,', '1978),', 'TaleSpin', '(MEEHAN,', '1976),', 'QUALM', '(LEHNERT,', '1977),', 'Politics', '(CARBONELL,', '1979)', 'e', 'Plot', 'Units', '(LEHNERT,', '1981', ').', 'Neste', 'período,', 'muitos', 'chatterbots', 'foram', 'escritos,', 'como', 'PARRY,', 'Racter', 'e', 'Jabberwacky.', 'Até', 'a', 'década', 'de', '1980,', 'a', 'maioria', 'dos', 'sistemas', 'de', 'PLN', 'se', 'baseava', 'em', 'conjuntos', 'complexos', 'de', 'regras', 'manuscritas.', 'A', 'partir', 'do', 'final', 'dos', 'anos', '1980,', 'no', 'entanto,', 'houve', 'uma', 'revolução', 'no', 'PLN', 'com', 'a', 'introdução', 'de', 'algoritmos', 'de', 'aprendizagem', 'automática', '(aprendizado', 'de', 'máquina)', 'para', 'o', 'processamento', 'de', 'linguagem.', 'Isto', 'foi', 'devido', 'tanto', 'ao', 'aumento', 'constante', 'do', 'poder', 'computacional', '(ver', 'Lei', 'de', 'Moore)', 'quanto', 'à', 'diminuição', 'gradual', 'da', 'dominância', 'das', 'teorias', 'da', 'linguística', 'chomskyanas', '(como', 'a', 'gramática', 'gerativa),', 'cujos', 'fundamentos', 'teóricos', 'desestimularam', 'o', 'tipo', 'de', 'corpus', 'linguístico', 'que', 'está', 'subjacente', 'à', 'abordagem', 'da', 'aprendizagem', 'automática', 'ao', 'processamento', 'da', 'linguagem.', 'Alguns', 'dos', 'algoritmos', 'de', 'aprendizado', 'de', 'máquinas', 'mais', 'antigos,', 'como', 'as', 'árvores', 'de', 'decisão,', 'produziam', 'sistemas', 'de', 'regras', 'rígidas', 'então', 'semelhantes', 'às', 'regras', 'existentes', 'na', 'escritas', 'à', 'mão.', 'No', 'entanto,', 'a', 'marcação', 'de', 'partes', 'da', 'fala', '(part-of-speech', 'tagging)', 'introduziu', 'o', 'uso', 'de', 'modelos', 'ocultos', 'de', 'Markov', 'para', 'o', 'PLN', 'e,', 'cada', 'vez', 'mais,', 'a', 'pesquisa', 'se', 'concentrava', 'em', 'modelos', 'estatísticos,', 'que', 'tomam', 'decisões', 'suaves', 'e', 'probabilísticas', 'baseadas', 'na', 'atribuição', 'de', 'pesos', 'reais', 'aos', 'recursos', 'que', 'compõem', 'dados', 'de', 'entrada.', 'Os', 'modelos', 'de', 'linguagem', 'de', 'cache,', 'sobre', 'os', 'quais', 'muitos', 'sistemas', 'de', 'reconhecimento', 'de', 'fala', 'agora', 'dependem,', 'são', 'exemplos', 'de', 'tais', 'modelos', 'estatísticos.', 'Esses', 'modelos', 'são', 'geralmente', 'mais', 'robustos', 'quando', 'dados', 'informações', 'desconhecidas,', 'especialmente', 'entrada', 'que', 'contém', 'erros', '(como', 'é', 'muito', 'comum', 'para', 'dados', 'do', 'mundo', 'real)', 'e', 'produzem', 'resultados', 'mais', 'confiáveis', 'quando', 'integrados', 'em', 'sistemas', 'maiores', 'que', 'compreendem', 'múltiplas', 'tarefas.', 'Muitos', 'dos', 'sucessos', 'iniciais', 'notáveis', 'ocorreram', 'no', 'campo', 'da', 'tradução', 'automática,', 'devido', 'especialmente', 'ao', 'trabalho', 'de', 'pesquisa', 'da', 'IBM,', 'que', 'desenvolveu', 'modelos', 'estatísticos', 'mais', 'elaborados.', 'Estes', 'sistemas', 'foram', 'capazes', 'de', 'tirar', 'proveito', 'de', 'corpora', 'textuais', 'multilíngues', 'existentes', 'produzidos', 'pelo', 'Parlamento', 'do', 'Canadá', 'e', 'a', 'União', 'Europeia', 'como', 'resultado', 'de', 'leis', 'que', 'exigem', 'a', 'tradução', 'de', 'todos', 'os', 'processos', 'governamentais', 'em', 'todas', 'as', 'línguas', 'oficiais', 'dos', 'países.', 'No', 'entanto,', 'a', 'maioria', 'dos', 'sistemas', 'dependia', 'de', 'corpora', 'desenvolvido', 'especificamente', 'para', 'tarefas', 'implementadas', 'por', 'esses', 'sistemas,', 'o', 'que', 'era', '(e', 'muitas', 'vezes', 'continua', 'sendo)', 'uma', 'grande', 'limitação', 'no', 'sucesso', 'dos', 'mesmo.', 'Como', 'resultado,', 'uma', 'grande', 'quantidade', 'de', 'pesquisa', 'passou', 'de', 'quantidades', 'de', 'dados', 'limitadas', 'a', 'métodos', 'de', 'aprendizagem', 'mais', 'eficazes.', 'Pesquisas', 'recentes', 'têm', 'se', 'concentrado', 'cada', 'vez', 'mais', 'em', 'algoritmos', 'de', 'aprendizagem', 'semi-supervisionados', 'e', 'sem', 'supervisão.', 'Esses', 'algoritmos', 'são', 'capazes', 'de', 'aprender', 'com', 'dados', 'que', 'não', 'foram', 'anotados', 'manualmente', 'com', 'as', 'respostas', 'desejadas', 'ou', 'usando', 'uma', 'combinação', 'de', 'dados', 'anotados', 'e', 'não', 'anotados.', 'Geralmente,', 'esta', 'tarefa', 'é', 'muito', 'mais', 'trabalhosa', 'do', 'que', 'a', 'aprendizagem', 'supervisionada', 'e', 'normalmente', 'produz', 'resultados', 'menos', 'precisos', 'para', 'uma', 'quantidade', 'específica', 'de', 'dados', 'de', 'entrada.', 'No', 'entanto,', 'há', 'uma', 'enorme', 'quantidade', 'de', 'dados', 'não', 'anotados', 'disponíveis', '(incluindo,', 'entre', 'outras', 'coisas,', 'todo', 'o', 'conteúdo', 'da', 'World', 'Wide', 'Web),', 'que', 'muitas', 'vezes', 'pode', 'compensar', 'os', 'resultados', 'inferiores.', '==', 'Usando', 'a', 'aprendizagem', 'automática', '(aprendizado', 'de', 'máquina)', '==', 'Os', 'algoritmos', 'modernos', 'de', 'PLN', 'baseiam-se', 'na', 'aprendizagem', 'mecânica,', 'especialmente', 'na', 'aprendizagem', 'de', 'máquinas', 'estatísticas.', 'O', 'paradigma', 'da', 'aprendizagem', 'mecânica', 'é', 'diferente', 'do', 'da', 'maioria', 'das', 'tentativas', 'anteriores', 'de', 'processamento', 'da', 'linguagem.', 'Anteriormente,', 'implementações', 'de', 'tarefas', 'de', 'processamento', 'de', 'linguagem', 'envolviam', 'a', 'codificação', 'direta', 'de', 'grandes', 'conjuntos', 'de', 'regras.', 'O', 'paradigma', 'da', 'aprendizagem', 'automática', '(ou', 'aprendizagem', 'automática)', 'induz', 'a', 'aprendizagem', 'automática', 'de', 'regras', 'através', 'de', 'análises', 'de', 'corpora', 'de', 'exemplos', 'típicos', 'do', 'mundo', 'real', 'ao', 'invés', 'de', 'usar', 'algoritmos', 'gerais', 'de', 'aprendizagem', '(muitas', 'vezes,', 'embora', 'nem', 'sempre,', 'baseados', 'em', 'inferência', 'estatística).', 'Um', 'corpus', '(plural', '\"corpora\")', 'é', 'um', 'conjunto', 'de', 'documentos', '(ou', 'frases', 'individuais)', 'que', 'foram', 'anotados', 'à', 'mão', 'com', 'os', 'valores', 'corretos', 'a', 'serem', 'aprendidos.', 'Muitas', 'classes', 'diferentes', 'de', 'algoritmos', 'de', 'aprendizado', 'de', 'máquina', 'foram', 'aplicadas', 'a', 'tarefas', 'de', 'PLN.', 'Esses', 'algoritmos', 'tomam', 'como', 'entrada', 'um', 'grande', 'conjunto', 'de', '\"recursos\"', 'que', 'são', 'gerados', 'a', 'partir', 'de', 'dados', 'de', 'entrada.', 'Alguns', 'dos', 'algoritmos', 'mais', 'usados,', 'como', 'árvores', 'de', 'decisão,', 'produziam', 'sistemas', 'de', 'regras', 'rígidas', 'semelhantes', 'aos', 'sistemas', 'de', 'regras', 'manuscritas', 'mais', 'comuns.', 'No', 'entanto,', 'cada', 'vez', 'mais,', 'a', 'pesquisa', 'tem', 'se', 'concentrado', 'em', 'modelos', 'estatísticos,', 'que', 'tomam', 'decisões', 'flexíveis', 'e', 'probabilísticas', 'baseadas', 'em', 'agregar', 'pesos', 'reais', 'a', 'cada', 'característica', 'de', 'entrada.', 'Tais', 'modelos', 'têm', 'a', 'vantagem', 'de', 'poder', 'expressar', 'a', 'certeza', 'relativa', 'de', 'muitas', 'respostas', 'possíveis', 'diferentes', 'em', 'vez', 'de', 'apenas', 'uma,', 'produzindo', 'resultados', 'mais', 'confiáveis', 'quando', 'esse', 'modelo', 'é', 'incluído', 'como', 'um', 'componente', 'de', 'um', 'sistema', 'maior.', 'Os', 'sistemas', 'baseados', 'em', 'algoritmos', 'de', 'aprendizagem', 'mecânica', 'têm', 'muitas', 'vantagens', 'em', 'relação', 'às', 'regras', 'produzidas', 'manualmente:', 'Os', 'procedimentos', 'de', 'aprendizagem', 'usados', 'durante', 'a', 'aprendizagem', 'da', 'máquina', 'focam-se', 'automaticamente', 'nos', 'casos', 'mais', 'comuns,', 'ao', 'passo', 'que', 'quando', 'se', 'escrevem', 'regras', 'à', 'mão,', 'não', 'é', 'óbvio', 'em', 'que', 'sentido', 'o', 'esforço', 'deve', 'ser', 'dirigido.', 'Os', 'procedimentos', 'de', 'aprendizagem', 'automática', 'podem', 'fazer', 'uso', 'de', 'algoritmos', 'de', 'inferência', 'estatística', 'para', 'produzir', 'modelos', 'que', 'são', 'robustos', 'a', 'entradas', 'não', 'familiares', '(por', 'exemplo,', 'contendo', 'palavras', 'ou', 'estruturas', 'que', 'não', 'foram', 'vistas', 'antes)', 'e', 'a', 'entradas', 'errôneas', '(por', 'exemplo,', 'com', 'palavras', 'ou', 'palavras', 'incorretamente', 'omitidas).', 'Geralmente,', 'lidar', 'com', 'essas', 'entradas', 'de', 'forma', 'com', 'regras', 'manuscritas', 'ou', 'sistemas', 'de', 'regras', 'manuscritas', 'que', 'tomam', 'decisões', 'suaves', 'é', 'extremamente', 'trabalhoso,', 'propenso', 'a', 'erros', 'e', 'demorado.', 'Sistemas', 'baseados', 'em', 'aprender', 'automaticamente', 'as', 'regras', 'podem', 'ser', 'mais', 'precisos', 'simplesmente', 'fornecendo', 'mais', 'dados', 'de', 'entrada.', 'No', 'entanto,', 'os', 'sistemas', 'baseados', 'em', 'regras', 'escritas', 'à', 'mão', 'só', 'podem', 'ser', 'tornados', 'mais', 'precisos', 'aumentando', 'a', 'complexidade', 'das', 'regras,', 'o', 'que', 'é', 'uma', 'tarefa', 'muito', 'mais', 'difícil.', 'Em', 'particular,', 'há', 'um', 'limite', 'para', 'a', 'complexidade', 'de', 'sistemas', 'baseados', 'em', 'regras', 'artesanais,', 'para', 'além', 'dos', 'quais', 'os', 'sistemas', 'se', 'tornam', 'cada', 'vez', 'mais', 'incontroláveis.', 'No', 'entanto,', 'a', 'criação', 'de', 'mais', 'dados', 'para', 'entrada', 'em', 'sistemas', 'de', 'aprendizado', 'de', 'máquina', 'requer', 'simplesmente', 'um', 'aumento', 'correspondente', 'no', 'número', 'de', 'horas', 'trabalhadas', 'por', 'humanos,', 'geralmente', 'sem', 'aumentos', 'significativos', 'na', 'complexidade', 'do', 'processo', 'de', 'anotação.O', 'subcampo', 'de', 'PLN', 'dedicado', 'a', 'abordagens', 'de', 'aprendizagem', 'é', 'conhecido', 'como', 'aprendizagem', 'de', 'língua', 'natural', '(NLL)', 'e', 'sua', 'conferência,', 'a', 'CoNLL,', 'e', 'orgão', 'central,', 'o', 'SIGNLL,', 'são', 'patrocinados', 'pela', 'ACL,', 'reconhecendo', 'também', 'as', 'suas', 'ligações', 'com', 'linguística', 'computacional', 'e', 'aquisição', 'de', 'linguagem.', 'Quando', 'o', 'objetivo', 'da', 'pesquisa', 'de', 'aprendizagem', 'de', 'linguagem', 'computacional', 'é', 'entender', 'mais', 'sobre', 'aquisição', 'de', 'linguagem', 'humana,', 'ou', 'psicolinguística,', 'a', 'NLL', 'sobrepõe-se', 'no', 'campo', 'relacionado', 'de', 'psicolinguística', 'computacional.', '==', 'Aplicações', 'principais', '==', 'A', 'listagem', 'a', 'seguir', 'traz', 'alguns', 'dos', 'trabalhos', 'mais', 'pesquisadas', 'em', 'PLN.', 'Note', 'que', 'alguns', 'deles', 'têm', 'aplicações', 'no', 'mundo', 'real,', 'enquanto', 'outras', 'servem', 'mais', 'frequentemente', 'como', 'tarefas', 'secundárias', 'que', 'são', 'usadas', 'para', 'auxiliar', 'na', 'resolução', 'de', 'tarefas', 'maiores.', 'O', 'que', 'distingue', 'essas', 'tarefas', 'de', 'outras', 'tarefas', 'potenciais', 'e', 'reais', 'de', 'PLN', 'não', 'é', 'apenas', 'o', 'volume', 'de', 'pesquisa', 'dedicado', 'a', 'elas,', 'mas', 'o', 'fato', 'de', 'que', 'para', 'cada', 'uma', 'há', 'tipicamente', 'uma', 'definição', 'de', 'problema', 'bem', 'especificada,', 'uma', 'métrica', 'padrão', 'para', 'avaliar', 'a', 'tarefa,', 'corpora', 'padrão', 'em', 'que', 'a', 'tarefa', 'pode', 'ser', 'avaliada', 'e', 'as', 'competições', 'dedicadas', 'à', 'tarefa', 'específica.', 'Sumarização', 'automática', 'Produz', 'um', 'resumo', 'legível', 'de', 'uma', 'parte', 'do', 'texto.', 'Muitas', 'vezes', 'usado', 'para', 'fornecer', 'resumos', 'de', 'texto', 'de', 'um', 'tipo', 'conhecido,', 'como', 'artigos', 'na', 'seção', 'financeira', 'de', 'um', 'jornal.Resolução', 'de', 'correferência', 'Dada', 'uma', 'frase', 'ou', 'um', 'pedaço', 'maior', 'de', 'texto,', 'determina', 'quais', 'palavras', '(\"menções\")', 'se', 'referem', 'aos', 'mesmos', 'objetos', '(\"entidades\").', 'A', 'resolução', 'da', 'anáfora', 'é', 'um', 'exemplo', 'específico', 'dessa', 'tarefa', 'e', 'está', 'especificamente', 'preocupada', 'em', 'combinar', 'os', 'pronomes', 'com', 'os', 'substantivos', 'ou', 'nomes', 'aos', 'quais', 'eles', 'se', 'referem.', 'A', 'tarefa', 'mais', 'geral', 'da', 'resolução', 'de', 'correferência', 'também', 'inclui', 'a', 'identificação', 'dos', 'chamados', '\"relacionamentos', 'de', 'ponte\"', 'envolvendo', 'expressões', 'de', 'referência.', 'Por', 'exemplo,', 'numa', 'frase', 'como', '\"Ele', 'entrou', 'na', 'casa', 'de', 'João', 'pela', 'porta', 'da', 'frente\",', '\"a', 'porta', 'da', 'frente\"', 'é', 'uma', 'expressão', 'de', 'referência', 'e', 'a', 'relação', 'da', 'ponte', 'a', 'ser', 'identificada', 'é', 'o', 'fato', 'de', 'que', 'a', 'porta', 'a', 'ser', 'referida', 'é', 'a', 'porta', 'da', 'frente', 'de', \"John's\", '(ao', 'invés', 'de', 'alguma', 'outra', 'estrutura', 'que', 'também', 'pode', 'ser', 'referida).Análise', 'do', 'Discurso', 'Esta', 'rubrica', 'inclui', 'uma', 'série', 'de', 'tarefas', 'relacionadas.', 'Uma', 'tarefa', 'é', 'identificar', 'a', 'estrutura', 'discursiva', 'do', 'texto', 'conectado,', 'isto', 'é,', 'a', 'natureza', 'das', 'relações', 'discursivas', 'entre', 'sentenças', '(por', 'exemplo,', 'elaboração,', 'explicação,', 'contraste).', 'Outra', 'possível', 'tarefa', 'é', 'reconhecer', 'e', 'classificar', 'os', 'atos', 'de', 'fala', 'em', 'um', 'pedaço', 'de', 'texto', '(por', 'exemplo,', 'pergunta', 'sim-não,', 'pergunta', 'de', 'conteúdo,', 'frase,', 'afirmação,', 'etc).Maquina', 'de', 'tradução', 'Traduzir', 'automaticamente', 'texto', 'de', 'uma', 'linguagem', 'humana', 'para', 'outra.', 'Este', 'é', 'uma', 'das', 'tarefas', 'mais', 'difíceis', 'e', 'faz', 'parte', 'de', 'um', 'tipo', 'de', 'problemas', 'conhecidos', 'como', '\"AI-complete\",', 'ou', 'seja,', 'exigindo', 'todos', 'os', 'diferentes', 'tipos', 'de', 'conhecimento', 'que', 'os', 'humanos', 'possuem', '(gramática,', 'semântica,', 'fatos', 'sobre', 'o', 'mundo', 'real,', 'etc)', 'para', 'resolvê-lo', 'adequadamente.Segmentação', 'morfológica', 'Separa', 'palavras', 'em', 'morfemas', 'individuais', 'e', 'identifica', 'classes', 'de', 'morfemas.', 'A', 'dificuldade', 'desta', 'tarefa', 'depende', 'muito', 'da', 'complexidade', 'da', 'morfologia', '(isto', 'é,', 'da', 'estrutura', 'das', 'palavras)', 'da', 'linguagem', 'que', 'está', 'sendo', 'considerada.', 'O', 'inglês', 'possui', 'uma', 'morfologia', 'bastante', 'simples,', 'especialmente', 'a', 'morfologia', 'flexional,', 'e', 'portanto', 'é', 'possível', 'ignorar', 'esta', 'tarefa', 'inteiramente', 'e', 'simplesmente', 'modelar', 'todas', 'as', 'formas', 'possíveis', 'de', 'uma', 'palavra', '(por', 'exemplo,', '\"open,', 'opens,', 'opened,', 'opening\")', 'como', 'palavras', 'separadas.', 'Em', 'línguas', 'como', 'o', 'turco', 'ou', 'o', 'Meitei,', 'uma', 'língua', 'indiana', 'fortemente', 'aglutinada,', 'no', 'entanto,', 'tal', 'abordagem', 'não', 'é', 'possível,', 'uma', 'vez', 'que', 'cada', 'entrada', 'do', 'dicionário', 'tem', 'milhares', 'de', 'formas', 'de', 'palavras', 'possíveis.Reconhecimento', 'de', 'entidade', 'nomeada', '(NER)', 'Dado', 'um', 'fluxo', 'de', 'texto,', 'determina', 'quais', 'são', 'itens', 'no', 'mapa', 'de', 'texto', 'para', 'nomes', 'próprios,', 'como', 'pessoas', 'ou', 'locais', 'e', 'qual', 'é', 'o', 'tipo', 'de', 'cada', 'nome', '(por', 'exemplo,', 'pessoa,', 'local,', 'organização).', 'Embora', 'a', 'capitalização', 'possa', 'ajudar', 'a', 'reconhecer', 'entidades', 'nomeadas', 'em', 'idiomas', 'como', 'o', 'inglês,', 'essas', 'informações', 'podem', 'não', 'ajudar', 'a', 'determinar', 'o', 'tipo', 'de', 'entidade', 'nomeada', 'e,', 'em', 'alguns', 'casos,', 'sãos', 'imprecisas', 'ou', 'insuficientes.', 'Por', 'exemplo,', 'a', 'primeira', 'palavra', 'de', 'uma', 'frase', 'também', 'é', 'capitalizada', 'e', 'as', 'entidades', 'nomeadas', 'muitas', 'vezes', 'abrangem', 'várias', 'palavras,', 'com', 'apenas', 'algumas', 'delas', 'são', 'capitalizadas.', 'Além', 'disso,', 'muitas', 'outras', 'linguagens', 'em', 'scripts', 'não-ocidentais', '(por', 'exemplo,', 'chinês', 'ou', 'árabe)', 'não', 'têm', 'nenhuma', 'capitalização', 'e', 'mesmo', 'as', 'línguas', 'com', 'maiúsculas', 'podem', 'não', 'distinguir', 'nomes.', 'Por', 'exemplo,', 'o', 'alemão', 'capitaliza', 'todos', 'os', 'substantivos,', 'independentemente', 'de', 'se', 'referirem', 'a', 'nomes,', 'e', 'o', 'francês', 'e', 'o', 'espanhol', 'não', 'capitalizam', 'nomes', 'que', 'servem', 'como', 'adjetivos.Geração', 'de', 'língua', 'natural', 'Converte', 'informações', 'de', 'bancos', 'de', 'dados', 'de', 'computador', 'ou', 'intenções', 'semânticas', 'em', 'linguagem', 'humana', 'legível.Compreensão', 'da', 'língua', 'natural', 'Converte', 'pedaços', 'de', 'texto', 'em', 'representações', 'mais', 'formais,', 'como', 'estruturas', 'de', 'lógica', 'de', 'primeira', 'ordem,', 'que', 'são', 'mais', 'fáceis', 'de', 'manipular', 'pelos', 'programas', 'de', 'computador.', 'A', 'compreensão', 'da', 'língua', 'natural', 'envolve', 'a', 'identificação', 'da', 'semântica', 'pretendida', 'a', 'partir', 'da', 'múltipla', 'semântica', 'possível', 'que', 'pode', 'ser', 'derivada', 'de', 'uma', 'expressão', 'de', 'língua', 'natural', 'que', 'geralmente', 'toma', 'a', 'forma', 'de', 'notação', 'organizada', 'de', 'conceitos', 'de', 'linguagens', 'naturais.', 'Entretanto,', 'introdução', 'e', 'criação', 'de', 'linguagem', 'metamodelo', 'e', 'ontologia', 'são', 'eficientes', 'soluções', 'empíricas.', 'Uma', 'formalização', 'explícita', 'da', 'semântica', 'de', 'línguas', 'naturais', 'sem', 'confusões', 'com', 'suposições', 'implícitas', 'como', 'closed-world', 'assumption', '(CWA)', 'versus', 'open-world', 'assumption', 'ou', 'subjetiva', 'Sim', '/', 'Não', 'versus', 'objetivo', 'Verdadeiro', '/', 'Falso', 'é', 'esperada', 'para', 'a', 'construção', 'de', 'uma', 'base', 'de', 'formalização', 'semântica.Reconhecimento', 'óptico', 'de', 'caracteres', '(OCR)', 'Dada', 'uma', 'imagem', 'que', 'representa', 'o', 'texto', 'impresso,', 'determina', 'o', 'texto', 'correspondente.Marcação', 'de', 'classe', 'gramatical', 'Dada', 'uma', 'sentença,', 'determina', 'a', 'classe', 'gramatical', 'de', 'cada', 'palavra.', 'Muitas', 'palavras,', 'especialmente', 'as', 'comuns,', 'podem', 'servir', 'como', 'múltiplas', 'partes', 'do', 'discurso.', 'Em', 'inglês,', 'por', 'exemplo,', '\"book\"', 'pode', 'ser', 'um', 'substantivo', '(\"the', 'book', 'on', 'the', 'table\")', 'ou', 'verbo', '(\"book', 'a', 'flight\");', '\"Set\"', 'pode', 'ser', 'um', 'substantivo,', 'verbo', 'ou', 'adjetivo;', 'E', '\"out\"', 'pode', 'ser', 'qualquer', 'um', 'de', 'pelo', 'menos', 'cinco', 'diferentes', 'partes', 'da', 'fala.', 'Algumas', 'línguas', 'têm', 'mais', 'ambiguidade', 'do', 'que', 'outras.', 'As', 'línguas', 'com', 'pouca', 'morfologia', 'flexional,', 'como', 'o', 'inglês,', 'são', 'particularmente', 'propensas', 'a', 'tal', 'ambiguidade.', 'O', 'chinês', 'é', 'propenso', 'a', 'tal', 'ambiguidade', 'porque', 'é', 'uma', 'língua', 'tonal', 'durante', 'a', 'verbalização.', 'Tal', 'inflexão', 'não', 'é', 'facilmente', 'transmitida', 'através', 'das', 'entidades', 'empregadas', 'dentro', 'da', 'ortografia', 'para', 'transmitir', 'o', 'significado', 'pretendido.Análise', 'sintática', '(Parsing)', 'Determina', 'a', 'árvore', 'de', 'análise', '(análise', 'gramatical)', 'de', 'uma', 'frase.', 'A', 'gramática', 'para', 'as', 'linguagens', 'naturais', 'é', 'ambígua', 'e', 'frases', 'típicas', 'têm', 'múltiplas', 'análises', 'possíveis.', 'Na', 'verdade,', 'surpreendentemente,', 'para', 'uma', 'frase', 'típica', 'pode', 'haver', 'milhares', 'de', 'análises', 'em', 'potencial', '(a', 'maioria', 'dos', 'quais', 'parecerá', 'completamente', 'absurda', 'para', 'um', 'ser', 'humano).Respostas', 'a', 'perguntas', 'Dada', 'uma', 'questão', 'de', 'linguagem', 'humana,', 'determina', 'sua', 'resposta.', 'As', 'perguntas', 'típicas', 'têm', 'uma', 'resposta', 'correta', 'específica', '(como', '\"Qual', 'é', 'o', 'capital', 'do', 'Canadá?\"),', 'mas', 'às', 'vezes', 'perguntas', 'abertas', 'também', 'são', 'consideradas', '(como', '\"Qual', 'é', 'o', 'significado', 'da', 'vida?\").', 'Trabalhos', 'recentes', 'têm', 'analisado', 'questões', 'ainda', 'mais', 'complexas.Extração', 'de', 'relacionamento', 'Identifica', 'as', 'relações', 'entre', 'entidades', 'nomeadas', '(por', 'exemplo,', 'quem', 'é', 'casado', 'com', 'quem)', 'com', 'base', 'em', 'textos.Quebra', 'de', 'frases', '(sentence', 'boundary', 'disambiguation)', 'Encontra', 'os', 'limites', 'da', 'frase', 'em', 'um', 'pedaço', 'de', 'texto.', 'Os', 'limites', 'de', 'frases', 'são', 'normalmente', 'marcadas', 'por', 'pontos', 'ou', 'outros', 'sinais', 'de', 'pontuação,', 'mas', 'esses', 'mesmos', 'caracteres', 'podem', 'servir', 'outros', 'propósitos.Análise', 'de', 'subjetividade', '(sentiment', 'analysis', 'ou', 'opinion', 'mining)', 'Extrai', 'informações', 'subjetivas', 'geralmente', 'de', 'um', 'conjunto', 'de', 'documentos,', 'muitas', 'vezes', 'usando', 'revisões', 'online', 'para', 'determinar', 'a', '\"polaridade\"', 'sobre', 'objetos', 'específicos.', 'É', 'especialmente', 'útil', 'para', 'identificar', 'tendências', 'da', 'opinião', 'pública', 'nas', 'mídias', 'sociais,', 'para', 'fins', 'de', 'marketing.Reconhecimento', 'de', 'fala', 'Dado', 'um', 'clipe', 'de', 'som', 'de', 'uma', 'pessoa', 'ou', 'pessoas', 'falando,', 'determina', 'a', 'representação', 'textual', 'do', 'discurso.', 'É', 'o', 'oposto', 'da', 'síntese', 'de', 'fala', 'e', 'é', 'uma', 'das', 'áreas', 'mais', 'difíceis,', 'conhecida', 'como', '\"AI-complete\".', 'Na', 'fala', 'natural', 'quase', 'não', 'há', 'pausas', 'entre', 'palavras', 'sucessivas,', 'por', 'isso', 'a', 'segmentação', 'de', 'fala', 'é', 'uma', 'subtarefa', 'necessária', 'de', 'reconhecimento', 'de', 'fala.', 'Nota-se', 'também', 'que,', 'na', 'maioria', 'das', 'linguagens', 'faladas,', 'os', 'sons', 'que', 'representam', 'letras', 'sucessivas', 'se', 'misturam', 'entre', 'si', 'em', 'um', 'processo', 'denominado', 'coarticulação,', 'de', 'modo', 'que', 'a', 'conversão', 'do', 'sinal', 'analógico', 'em', 'caracteres', 'discretos', 'pode', 'ser', 'um', 'processo', 'muito', 'difícil', 'de', 'ser', 'realizado.Segmentação', 'de', 'fala', 'Dado', 'um', 'clipe', 'de', 'som', 'de', 'uma', 'pessoa', 'ou', 'pessoas', 'falando,', 'separa-o', 'em', 'palavras.', 'Uma', 'subaplicação', 'de', 'reconhecimento', 'de', 'fala', 'e', 'normalmente', 'agrupada', 'com', 'ele.Análise', 'morfológica', 'e', 'reconhecimento', 'de', 'tópicos', 'Dado', 'um', 'pedaço', 'de', 'texto,', 'separa-o', 'em', 'segmentos', 'cada', 'um', 'dos', 'quais', 'é', 'dedicado', 'a', 'um', 'tópico', 'e', 'identifica', 'o', 'tópico', 'do', 'segmento.Análise', 'morfológica', 'e', 'segmentação', 'de', 'palavras', 'Separa', 'um', 'pedaço', 'de', 'texto', 'contínuo', 'em', 'palavras', 'separadas.', 'Para', 'uma', 'língua', 'como', 'o', 'inglês,', 'isso', 'é', 'bastante', 'trivial,', 'uma', 'vez', 'que', 'as', 'palavras', 'são', 'normalmente', 'separadas', 'por', 'espaços.', 'No', 'entanto,', 'algumas', 'línguas', 'escritas', 'como', 'chinês,', 'japonês', 'e', 'tailandês', 'não', 'marcam', 'limites', 'de', 'palavras', 'de', 'tal', 'forma,', 'e', 'nessas', 'línguas', 'segmentação', 'de', 'texto', 'é', 'uma', 'tarefa', 'significativa', 'que', 'requer', 'conhecimento', 'do', 'vocabulário', 'e', 'morfologia', 'das', 'palavras', 'na', 'língua.Desambiguação', 'Muitas', 'palavras', 'têm', 'mais', 'de', 'um', 'significado,', 'assim', 'temos', 'que', 'selecionar', 'o', 'significado', 'que', 'faz', 'mais', 'sentido', 'no', 'contexto.', 'Para', 'este', 'problema,', 'em', 'geral', 'é', 'dada', 'uma', 'lista', 'de', 'palavras', 'e', 'sentidos', 'de', 'palavras', 'associadas', 'de', 'um', 'dicionário', 'ou', 'recurso', 'online,', 'como', 'o', 'WordNet.', 'Em', 'alguns', 'casos,', 'conjuntos', 'de', 'tarefas', 'relacionadas', 'são', 'agrupados', 'em', 'subcampos', 'de', 'PLN', 'que', 'são', 'frequentemente', 'considerados', 'separadamente', 'da', 'PLN', 'como', 'um', 'todo,', 'como', 'os', 'exemplos', 'à', 'seguir:Recuperação', 'de', 'informação', '(IR)', 'Trata-se', 'de', 'armazenar,', 'pesquisar', 'e', 'recuperar', 'informações.', 'É', 'um', 'campo', 'separado', 'dentro', 'da', 'ciência', 'da', 'computação', '(mais', 'perto', 'de', 'bancos', 'de', 'dados),', 'mas', 'a', 'IR', 'se', 'baseia', 'em', 'alguns', 'métodos', 'PLN', '(por', 'exemplo,', 'stemming).', 'Algumas', 'pesquisas', 'e', 'aplicações', 'atuais', 'procuram', 'preencher', 'a', 'lacuna', 'entre', 'IR', 'e', 'PLN.Extração', 'de', 'informação', '(IE)', 'Trata-se,', 'em', 'geral,', 'da', 'extração', 'de', 'informação', 'semântica', 'a', 'partir', 'do', 'texto.', 'Abrange', 'tarefas', 'como', 'reconhecimento', 'de', 'entidade', 'mencionada,', 'resolução', 'de', 'correferência', 'e', 'de', 'relacionamento', 'de', 'extração,', 'etc.', 'Processamento', 'de', 'voz', 'Abrange', 'reconhecimento', 'de', 'fala,', 'síntese', 'de', 'fala', 'e', 'tarefas', 'relacionadas.', 'Outras', 'tarefas', 'incluem:', 'Identificação', 'na', 'língua', 'materna', 'Stemização', 'Simplificação', 'do', 'texto', 'Síntese', 'de', 'fala', 'Revisão', 'de', 'texto', 'Pesquisa', 'em', 'língua', 'natural', 'Expansão', 'da', 'consulta', 'Pontuação', 'de', 'ensaio', 'automatizado', 'Truecasing', '==', 'Estatística', '==', 'Artigo', 'principal:', 'Gramática', 'estocástica', 'O', 'processamento', 'estatístico', 'em', 'língua', 'natural', 'utiliza', 'métodos', 'estocásticos,', 'probabilísticos', 'e', 'estatísticos', 'para', 'resolver', 'algumas', 'das', 'dificuldades', 'discutidas', 'acima,', 'especialmente', 'aquelas', 'que', 'surgem', 'porque', 'frases', 'mais', 'longas', 'são', 'muito', 'ambíguas', 'quando', 'processadas', 'com', 'gramáticas', 'realistas,', 'produzindo', 'milhares', 'ou', 'milhões', 'de', 'análises', 'possíveis.', 'Métodos', 'de', 'desambiguação', 'envolvem', 'muitas', 'vezes', 'o', 'uso', 'de', 'corpora', 'e', 'modelos', 'de', 'Markov.', 'O', 'projeto', 'ESPRIT', 'P26', '(1984-1988),', 'liderado', 'pelo', 'CSELT,', 'explorou', 'o', 'problema', 'do', 'reconhecimento', 'de', 'fala', 'comparando', 'abordagem', 'baseada', 'em', 'conhecimento', 'e', 'estatística:', 'o', 'resultado', 'escolhido', 'foi', 'um', 'modelo', 'completamente', 'estatístico.', 'Um', 'dos', 'primeiros', 'modelos', 'de', 'compreensão', 'estatística', 'da', 'língua', 'natural', 'foi', 'introduzido', 'em', '1991', 'por', 'Roberto', 'Pieraccini,', 'Esther', 'Levin', 'e', 'Chin-Hui', 'Lee,', 'da', 'Bell', 'Laboratories].', 'O', 'PLN', 'compreende', 'todas', 'as', 'abordagens', 'quantitativas', 'para', 'processamento', 'automatizado', 'de', 'linguagem,', 'incluindo', 'modelagem', 'probabilística,', 'teoria', 'da', 'informação', 'e', 'álgebra', 'linear.', 'A', 'tecnologia', 'para', 'o', 'PLN', 'estatístico', 'vem', 'principalmente', 'da', 'aprendizagem', 'automática', 'e', 'da', 'mineração', 'de', 'dados,', 'que', 'são', 'campos', 'de', 'inteligência', 'artificial', 'que', 'envolvem', 'o', 'aprendizado', 'a', 'partir', 'de', 'dados.', '==', 'Avaliação', '==', 'O', 'objetivo', 'da', 'avaliação', 'do', 'PLN', 'é', 'uma', 'medida', 'de', 'uma', 'ou', 'mais', 'qualidades', 'de', 'um', 'algoritmo', 'ou', 'de', 'um', 'sistema', 'a', 'fim', 'de', 'determinar', 'se', 'o', 'algoritmo', 'atende', 'às', 'metas', 'dos', 'projetistas', 'ou', 'o', 'sistema', 'de', 'atendimento', 'às', 'necessidades', 'de', 'seus', 'usuários.', 'Investigação', 'na', 'avaliação', 'PLN', 'tem', 'ganhado', 'atenção,', 'porque', 'a', 'definição', 'de', 'critérios', 'de', 'avaliação', 'é', 'uma', 'forma', 'de', 'especificar', 'precisamente', 'problemas', 'do', 'PLN.', 'Uma', 'métrica', 'de', 'avaliação', 'de', 'PLN', 'em', 'um', 'sistema', 'algorítmico', 'permite', 'a', 'integração', 'da', 'compreensão', 'de', 'linguagem', 'e', 'geração', 'de', 'linguagem.', 'Um', 'conjunto', 'preciso', 'de', 'critérios', 'de', 'avaliação,', 'que', 'pode', 'ser', 'aplicado', 'principalmente', 'a', 'avaliações', 'métricas,', 'podendo', 'permitir', 'que', 'várias', 'equipes', 'comparem', 'suas', 'soluções', 'para', 'um', 'determinado', 'problema', 'do', 'PLN.', '==', 'Cronologia', 'da', 'avaliação', '==', 'Em', '1983,', 'iniciou-se', 'o', 'Projecto', 'Esprit', 'P26,', 'que', 'avaliou', 'as', 'Tecnologias', 'da', 'Fala', '(incluindo', 'tópicos', 'gerais', 'como', 'Sintaxe', 'e', 'Semântica)', 'comparando', 'as', 'abordagens', 'baseadas', 'em', 'regras', 'com', 'as', 'estatísticas.', 'Em', '1987,', 'a', 'primeira', 'campanha', 'de', 'avaliação', 'de', 'textos', 'escritos', 'parece', 'ser', 'uma', 'campanha', 'dedicada', 'à', 'compreensão', 'da', 'mensagem', '(Pallet,', '1998).', 'O', 'projeto', 'Parseval', '/', 'GEIG', 'comparou', 'gramáticas', 'de', 'frase-estrutura', '(Black', '1991).', 'Houve', 'uma', 'série', 'de', 'campanhas', 'no', 'projeto', 'Tipster', 'sobre', 'tarefas', 'como', 'resumo,', 'tradução', 'e', 'pesquisa', '(Hirschman', '1998).', 'Em', '1994,', 'na', 'Alemanha,', 'o', 'Morpholympics', 'comparou', 'marcadores', 'morfológicos', 'alemães.', 'As', 'campanhas', 'de', 'Senseval', '&', 'Romanseval', 'foram', 'realizadas', 'com', 'os', 'objetivos', 'de', 'desambiguação', 'semântica.', 'Em', '1996,', 'a', 'campanha', 'Sparkle', 'comparou', 'os', 'analisadores', 'sintáticos', 'em', 'quatro', 'idiomas', 'diferentes', '(inglês,', 'francês,', 'alemão', 'e', 'italiano).', 'Na', 'França,', 'o', 'projeto', 'Grace', 'comparou', 'um', 'conjunto', 'de', '21', 'marcadores', 'para', 'o', 'francês', 'em', '1997', '(Adda', '1999).', 'Em', '2004,', 'durante', 'o', 'projeto', 'Technolangue', '/', 'Easy,', 'foram', 'comparados', '13', 'analisadores', 'para', 'o', 'francês.', 'A', 'avaliação', 'em', 'larga', 'escala', 'dos', 'analisadores', 'de', 'dependência', 'foi', 'realizada', 'no', 'contexto', 'das', 'tarefas', 'compartilhadas', 'do', 'CoNLL', 'em', '2006', 'e', '2007.', 'Na', 'França,', 'no', 'âmbito', 'do', 'projecto', 'ANR-Passage', '(final', 'de', '2007),', 'foram', 'comparados', '10', 'analisadores', 'para', 'o', 'francês.', 'Em', 'Itália,', 'a', 'campanha', 'EVALITA', 'foi', 'realizada', 'em', '2007,', '2009,', '2011', 'e', '2014', 'para', 'comparar', 'várias', 'ferramentas', 'de', 'PLN', 'e', 'de', 'voz', 'para', 'o', 'site', 'italiano', '-', 'EVALITA.', '==', 'Diferentes', 'tipos', 'de', 'avaliação', '==', 'Avaliação', 'intrínseca', 'vs.', 'extrínseca', 'A', 'avaliação', 'intrínseca', 'considera', 'um', 'sistema', 'PNL', 'isolado', 'e', 'caracteriza', 'seu', 'desempenho', 'em', 'relação', 'a', 'um', 'resultado', 'padrão-excelência,', 'conforme', 'definido', 'pelos', 'avaliadores.', 'A', 'avaliação', 'extrínseca,', 'também', 'chamada', 'de', 'avaliação', 'em', 'uso,', 'considera', 'o', 'sistema', 'PLN', 'em', 'um', 'cenário', 'mais', 'complexo', 'como', 'um', 'sistema', 'embutido', 'ou', 'uma', 'função', 'precisa', 'para', 'um', 'usuário', 'humano.', 'O', 'desempenho', 'extrínseco', 'do', 'sistema', 'é', 'então', 'caracterizado', 'em', 'termos', 'de', 'utilidade', 'em', 'relação', 'à', 'tarefa', 'global', 'do', 'sistema', 'estranho', 'ou', 'do', 'utilizador', 'humano.', 'Por', 'exemplo,', 'considere', 'um', 'analisador', 'sintático', 'que', 'é', 'baseado', 'na', 'saída', 'de', 'alguma', 'parte', 'do', 'tagger', 'de', 'fala', '(POS).', 'Uma', 'avaliação', 'intrínseca', 'executaria', 'o', 'marcador', 'POS', 'em', 'dados', 'estruturados', 'e', 'compararia', 'a', 'saída', 'do', 'sistema', 'do', 'marcador', 'POS', 'com', 'a', 'saída', 'padrão', 'ouro.', 'Uma', 'avaliação', 'extrínseca', 'executaria', 'o', 'analisador', 'com', 'algum', 'outro', 'marcador', 'POS', 'e,', 'em', 'seguida,', 'com', 'o', 'marcador', 'POS', 'novo', 'e', 'compara', 'a', 'precisão', 'de', 'análise.', 'Caixa', 'preta', 'vs.', 'Avaliação', 'da', 'caixa', 'de', 'vidro', 'A', 'avaliação', 'em', 'caixa', 'preta', 'requer', 'que', 'alguém', 'execute', 'um', 'sistema', 'PLN', 'em', 'um', 'conjunto', 'de', 'dados', 'de', 'amostra', 'e', 'para', 'medir', 'uma', 'série', 'de', 'parâmetros', 'relacionados', 'com', 'a', 'qualidade', 'do', 'processo,', 'como', 'velocidade,', 'confiabilidade,', 'consumo', 'de', 'recursos', 'e,', 'principalmente,', 'a', 'qualidade', 'do', 'resultado,', 'como', 'a', 'precisão', 'da', 'anotação', 'de', 'dados', 'ou', 'a', 'fidelidade', 'de', 'uma', 'tradução.', 'A', 'avaliação', 'da', 'caixa', 'de', 'vidro', 'examina', 'a', 'concepção', 'do', 'sistema;', 'Os', 'algoritmos', 'que', 'são', 'implementados,', 'os', 'recursos', 'linguísticos', 'que', 'utiliza,', 'como', 'o', 'tamanho', 'do', 'vocabulário', 'ou', 'a', 'expressão', 'definida', 'de', 'cardinalidade.', 'Dada', 'a', 'complexidade', 'dos', 'problemas', 'da', 'PLN,', 'muitas', 'vezes', 'é', 'difícil', 'prever', 'o', 'desempenho', 'apenas', 'com', 'base', 'na', 'avaliação', 'da', 'caixa', 'de', 'vidro;', 'Mas', 'este', 'tipo', 'de', 'avaliação', 'é', 'mais', 'informativo', 'no', 'que', 'diz', 'respeito', 'à', 'análise', 'de', 'erros', 'ou', 'desenvolvimentos', 'futuros', 'de', 'um', 'sistema.', 'Automática', 'vs.', 'avaliação', 'manual', 'Em', 'muitos', 'casos,', 'procedimentos', 'automáticos', 'podem', 'ser', 'definidos', 'para', 'avaliar', 'um', 'sistema', 'de', 'PLN,', 'comparando', 'sua', 'saída', 'com', 'o', 'padrão', 'de', 'excelência.', 'Embora', 'o', 'custo', 'de', 'reproduzir', 'o', 'padrão', 'de', 'excelência', 'possa', 'ser', 'bastante', 'elevado,', 'avaliação', 'automática', 'de', 'bootstrapping', 'sobre', 'os', 'mesmos', 'dados', 'de', 'entrada', 'pode', 'ser', 'repetida', 'quantas', 'vezes', 'for', 'necessário', 'sem', 'custos', 'adicionais', 'desordenados.', 'No', 'entanto,', 'para', 'muitos', 'problemas', 'de', 'PLN', 'a', 'definição', 'precisa', 'de', 'um', 'padrão', 'de', 'excelência', 'é', 'uma', 'tarefa', 'complexa', 'e', 'pode', 'se', 'revelar', 'impossível', 'quando', 'o', 'acordo', 'inter-anotador', 'é', 'insuficiente.', 'A', 'avaliação', 'manual', 'é', 'melhor', 'realizada', 'por', 'juízes', 'humanos', 'instruídos', 'para', 'estimar', 'a', 'qualidade', 'de', 'um', 'sistema,', 'ou', 'mais', 'frequentemente', 'de', 'uma', 'amostra', 'de', 'sua', 'produção,', 'com', 'base', 'em', 'uma', 'série', 'de', 'critérios.', 'Embora,', 'graças', 'à', 'sua', 'competência', 'linguística,', 'os', 'juízes', 'humanos', 'possam', 'ser', 'considerados', 'como', 'a', 'referência', 'para', 'uma', 'série', 'de', 'tarefas', 'de', 'processamento', 'de', 'linguagem,', 'há', 'também', 'uma', 'variação', 'considerável', 'em', 'suas', 'classificações.', 'É', 'por', 'isso', 'que', 'a', 'avaliação', 'automática', 'é,', 'por', 'vezes,', 'referida', 'como', 'avaliação', 'objetiva', 'enquanto', 'a', 'avaliação', 'humana', 'é', 'perspectiva.', '==', 'Padronização', '==', 'Um', 'subcomitê', 'ISO', 'está', 'trabalhando', 'para', 'facilitar', 'a', 'interoperabilidade', 'entre', 'recursos', 'lexicais', 'e', 'programas', 'PLN.', 'O', 'subcomitê', 'faz', 'parte', 'do', 'ISO', '/', 'TC37', 'e', 'é', 'chamado', 'ISO', '/', 'TC37', '/', 'SC4.', 'Alguns', 'padrões', 'ISO', 'já', 'estão', 'publicados,', 'mas', 'a', 'maioria', 'deles', 'está', 'em', 'construção,', 'principalmente', 'na', 'representação', 'de', 'léxico', '(ver', 'LMF),', 'anotação', 'e', 'registro', 'de', 'categoria', 'de', 'dados.', '==', 'Ferramentas', '==', 'Expert', 'System', 'S.p.A.', 'General', 'Architecture', 'for', 'Text', 'Engineering', 'Modular', 'Audio', 'Recognition', 'Framework', 'Natural', 'Language', 'Toolkit', '(NLTK):', 'uma', 'biblioteca', 'em', 'Python', 'OpenNLP', '==', 'Veja', 'também', '==', 'Mineração', 'de', 'texto', 'biomédica', 'Processo', 'de', 'processamento', 'composto', 'Revisão', 'assistida', 'por', 'computador', 'Linguagem', 'natural', 'controlada', 'Processamento', 'linguístico', 'profundo', 'Auxílio', 'à', 'leitura', 'de', 'línguas', 'estrangeiras', 'Auxílio', 'à', 'escrita', 'em', 'língua', 'estrangeira', 'Tecnologia', 'da', 'linguagem', 'A', 'alocação', 'de', 'Dirichlet', 'Latente', '(LDA)', 'Indexação', 'semântica', 'latente', 'Lista', 'de', 'ferramentas', 'de', 'processamento', 'de', 'língua', 'natural', 'Mapa', 'de', 'LRE', 'Programação', 'em', 'língua', 'natural', 'Reificação', '(linguística)', 'Dobradura', 'semântica', 'Sistema', 'de', 'diálogo', 'falado', 'Vetor', 'do', 'Pensamento', 'Pesquisa', 'Transderivacional', 'Word2vec', '==', 'Referências', '==', '==', 'Leitura', 'adicional', '==', 'Steven', 'Bird,', 'Ewan', 'Klein,', 'and', 'Edward', 'Loper', '(2009).', 'Natural', 'Language', 'Processing', 'with', 'Python.', \"O'Reilly\", 'Media.', 'ISBN', '978-0-596-51649-9.', 'Daniel', 'Jurafsky', 'and', 'James', 'H.', 'Martin', '(2008).', 'Speech', 'and', 'Language', 'Processing,', '2nd', 'edition.', 'Pearson', 'Prentice', 'Hall.', 'ISBN', '978-0-13-187321-6.', 'Christopher', 'D.', 'Manning,', 'Prabhakar', 'Raghavan,', 'and', 'Hinrich', 'Schütze', '(2008).', 'Introduction', 'to', 'Information', 'Retrieval.', 'Cambridge', 'University', 'Press.', 'ISBN', '978-0-521-86571-5.', 'Official', 'html', 'and', 'pdf', 'versions', 'available', 'without', 'charge.', 'Christopher', 'D.', 'Manning', 'and', 'Hinrich', 'Schütze', '(1999).', 'Foundations', 'of', 'Statistical', 'Natural', 'Language', 'Processing.', 'The', 'MIT', 'Press.', 'ISBN', '978-0-262-13360-9.', 'David', 'M.', 'W.', 'Powers', 'and', 'Christopher', 'C.', 'R.', 'Turk', '(1989).', 'Machine', 'Learning', 'of', 'Natural', 'Language.', 'Springer-Verlag.', 'ISBN', '978-0-387-19557-5.']\n"
          ]
        }
      ]
    },
    {
      "cell_type": "markdown",
      "metadata": {
        "id": "Evq4lIQNU2eM"
      },
      "source": [
        "### Regex\n",
        "\n",
        "2. Faça utilizando o método abaixo\n",
        "<b> Não esqueça de armazenar o resultado na variável abaixo. </b>\n",
        "\n",
        "```python\n",
        "re.findall(r\"\\w+(?:'\\w+)?|[^\\w\\s]\", corpus)\n",
        "```"
      ]
    },
    {
      "cell_type": "code",
      "metadata": {
        "id": "gJOBqy-DU2eM",
        "colab": {
          "base_uri": "https://localhost:8080/"
        },
        "outputId": "d171575d-d855-47e8-c09b-43d6caf9a446"
      },
      "source": [
        "import re\n",
        "tokens_regex = re.findall(r\"\\w+(?:'\\w+)?|[^\\w\\s]\", corpus)\n",
        "print(tokens_regex)"
      ],
      "execution_count": 112,
      "outputs": [
        {
          "output_type": "stream",
          "name": "stdout",
          "text": [
            "['Processamento', 'de', 'língua', 'natural', '(', 'PLN', ')', 'é', 'uma', 'subárea', 'da', 'ciência', 'da', 'computação', ',', 'inteligência', 'artificial', 'e', 'da', 'linguística', 'que', 'estuda', 'os', 'problemas', 'da', 'geração', 'e', 'compreensão', 'automática', 'de', 'línguas', 'humanas', 'naturais', '.', 'Sistemas', 'de', 'geração', 'de', 'língua', 'natural', 'convertem', 'informação', 'de', 'bancos', 'de', 'dados', 'de', 'computadores', 'em', 'linguagem', 'compreensível', 'ao', 'ser', 'humano', 'e', 'sistemas', 'de', 'compreensão', 'de', 'língua', 'natural', 'convertem', 'ocorrências', 'de', 'linguagem', 'humana', 'em', 'representações', 'mais', 'formais', ',', 'mais', 'facilmente', 'manipuláveis', 'por', 'programas', 'de', 'computador', '.', 'Alguns', 'desafios', 'do', 'PLN', 'são', 'compreensão', 'de', 'língua', 'natural', ',', 'fazer', 'com', 'que', 'computadores', 'extraiam', 'sentido', 'de', 'linguagem', 'humana', 'ou', 'natural', 'e', 'geração', 'de', 'língua', 'natural', '.', '=', '=', 'História', '=', '=', 'A', 'história', 'do', 'PLN', 'começou', 'na', 'década', 'de', '1950', ',', 'quando', 'Alan', 'Turing', 'publicou', 'o', 'artigo', '\"', 'Computing', 'Machinery', 'and', 'Intelligence', '\"', ',', 'que', 'propunha', 'o', 'que', 'agora', 'é', 'chamado', 'de', 'teste', 'de', 'Turing', 'como', 'critério', 'de', 'inteligência', '.', 'Em', '1954', ',', 'a', 'experiência', 'de', 'Georgetown', 'envolveu', 'a', 'tradução', 'automática', 'de', 'mais', 'de', 'sessenta', 'frases', 'russas', 'para', 'o', 'inglês', '.', 'Os', 'autores', 'afirmaram', 'que', 'dentro', 'de', 'três', 'ou', 'cinco', 'anos', 'a', 'tradução', 'automática', 'seria', 'um', 'problema', 'resolvido', '.', 'No', 'entanto', ',', 'os', 'avanços', 'reais', 'foram', 'muito', 'mais', 'lentos', 'do', 'que', 'o', 'previsto', 'e', ',', 'após', 'o', 'relatório', 'ALPAC', 'em', '1966', ',', 'que', 'constatou', 'que', 'a', 'pesquisa', 'de', 'dez', 'anos', 'não', 'conseguiu', 'satisfazer', 'as', 'expectativas', ',', 'o', 'financiamento', 'para', 'este', 'estudo', 'em', 'tradução', 'automática', 'foi', 'reduzido', 'drasticamente', '.', 'Poucas', 'pesquisas', 'em', 'tradução', 'automática', 'foram', 'conduzidas', 'até', 'o', 'final', 'dos', 'anos', '80', ',', 'quando', 'os', 'primeiros', 'sistemas', 'estatísticos', 'de', 'tradução', 'foram', 'desenvolvidos', '.', 'Alguns', 'sistemas', 'de', 'PLN', 'bem', 'sucedidos', 'desenvolvidos', 'nos', 'anos', '60', 'foram', 'SHRDLU', ',', 'um', 'sistema', 'de', 'língua', 'natural', 'que', 'trabalhava', 'em', '\"', 'blocks', 'worlds', '\"', 'com', 'vocabulário', 'restrito', 'e', 'ELIZA', ',', 'uma', 'simulação', 'de', 'um', 'psicoterapeuta', 'escrita', 'por', 'Joseph', 'Weizenbaum', 'entre', '1964', 'e', '1966', '.', 'Usando', 'pouca', 'informação', 'sobre', 'o', 'pensamento', 'ou', 'a', 'emoção', 'humana', ',', 'ELIZA', 'criava', ',', 'em', 'alguns', 'casos', ',', 'interações', 'surpreendentemente', 'humanas', '.', 'Quando', 'o', '\"', 'paciente', '\"', 'excedia', 'a', 'base', 'de', 'conhecimento', 'do', 'programa', ',', 'ELIZA', 'fornecia', 'uma', 'resposta', 'genérica', ',', 'por', 'exemplo', ',', 'respondendo', 'a', '\"', 'Minha', 'cabeça', 'dói', '\"', 'com', '\"', 'Por', 'que', 'você', 'diz', 'que', 'sua', 'cabeça', 'dói', '?', '\"', '.', 'Durante', 'a', 'década', 'de', '1970', ',', 'muitos', 'programadores', 'começaram', 'a', 'escrever', '\"', 'ontologias', 'conceituais', '\"', ',', 'que', 'estruturaram', 'a', 'informação', 'do', 'mundo', 'real', 'em', 'dados', 'compreensíveis', 'por', 'computadores', '.', 'Exemplos', 'são', 'MARGIE', '(', 'SCHANK', ',', '1975', ')', ',', 'SAM', '(', 'CULLINGFORD', ',', '1978', ')', ',', 'PAM', '(', 'WILENSKY', ',', '1978', ')', ',', 'TaleSpin', '(', 'MEEHAN', ',', '1976', ')', ',', 'QUALM', '(', 'LEHNERT', ',', '1977', ')', ',', 'Politics', '(', 'CARBONELL', ',', '1979', ')', 'e', 'Plot', 'Units', '(', 'LEHNERT', ',', '1981', ')', '.', 'Neste', 'período', ',', 'muitos', 'chatterbots', 'foram', 'escritos', ',', 'como', 'PARRY', ',', 'Racter', 'e', 'Jabberwacky', '.', 'Até', 'a', 'década', 'de', '1980', ',', 'a', 'maioria', 'dos', 'sistemas', 'de', 'PLN', 'se', 'baseava', 'em', 'conjuntos', 'complexos', 'de', 'regras', 'manuscritas', '.', 'A', 'partir', 'do', 'final', 'dos', 'anos', '1980', ',', 'no', 'entanto', ',', 'houve', 'uma', 'revolução', 'no', 'PLN', 'com', 'a', 'introdução', 'de', 'algoritmos', 'de', 'aprendizagem', 'automática', '(', 'aprendizado', 'de', 'máquina', ')', 'para', 'o', 'processamento', 'de', 'linguagem', '.', 'Isto', 'foi', 'devido', 'tanto', 'ao', 'aumento', 'constante', 'do', 'poder', 'computacional', '(', 'ver', 'Lei', 'de', 'Moore', ')', 'quanto', 'à', 'diminuição', 'gradual', 'da', 'dominância', 'das', 'teorias', 'da', 'linguística', 'chomskyanas', '(', 'como', 'a', 'gramática', 'gerativa', ')', ',', 'cujos', 'fundamentos', 'teóricos', 'desestimularam', 'o', 'tipo', 'de', 'corpus', 'linguístico', 'que', 'está', 'subjacente', 'à', 'abordagem', 'da', 'aprendizagem', 'automática', 'ao', 'processamento', 'da', 'linguagem', '.', 'Alguns', 'dos', 'algoritmos', 'de', 'aprendizado', 'de', 'máquinas', 'mais', 'antigos', ',', 'como', 'as', 'árvores', 'de', 'decisão', ',', 'produziam', 'sistemas', 'de', 'regras', 'rígidas', 'então', 'semelhantes', 'às', 'regras', 'existentes', 'na', 'escritas', 'à', 'mão', '.', 'No', 'entanto', ',', 'a', 'marcação', 'de', 'partes', 'da', 'fala', '(', 'part', '-', 'of', '-', 'speech', 'tagging', ')', 'introduziu', 'o', 'uso', 'de', 'modelos', 'ocultos', 'de', 'Markov', 'para', 'o', 'PLN', 'e', ',', 'cada', 'vez', 'mais', ',', 'a', 'pesquisa', 'se', 'concentrava', 'em', 'modelos', 'estatísticos', ',', 'que', 'tomam', 'decisões', 'suaves', 'e', 'probabilísticas', 'baseadas', 'na', 'atribuição', 'de', 'pesos', 'reais', 'aos', 'recursos', 'que', 'compõem', 'dados', 'de', 'entrada', '.', 'Os', 'modelos', 'de', 'linguagem', 'de', 'cache', ',', 'sobre', 'os', 'quais', 'muitos', 'sistemas', 'de', 'reconhecimento', 'de', 'fala', 'agora', 'dependem', ',', 'são', 'exemplos', 'de', 'tais', 'modelos', 'estatísticos', '.', 'Esses', 'modelos', 'são', 'geralmente', 'mais', 'robustos', 'quando', 'dados', 'informações', 'desconhecidas', ',', 'especialmente', 'entrada', 'que', 'contém', 'erros', '(', 'como', 'é', 'muito', 'comum', 'para', 'dados', 'do', 'mundo', 'real', ')', 'e', 'produzem', 'resultados', 'mais', 'confiáveis', 'quando', 'integrados', 'em', 'sistemas', 'maiores', 'que', 'compreendem', 'múltiplas', 'tarefas', '.', 'Muitos', 'dos', 'sucessos', 'iniciais', 'notáveis', 'ocorreram', 'no', 'campo', 'da', 'tradução', 'automática', ',', 'devido', 'especialmente', 'ao', 'trabalho', 'de', 'pesquisa', 'da', 'IBM', ',', 'que', 'desenvolveu', 'modelos', 'estatísticos', 'mais', 'elaborados', '.', 'Estes', 'sistemas', 'foram', 'capazes', 'de', 'tirar', 'proveito', 'de', 'corpora', 'textuais', 'multilíngues', 'existentes', 'produzidos', 'pelo', 'Parlamento', 'do', 'Canadá', 'e', 'a', 'União', 'Europeia', 'como', 'resultado', 'de', 'leis', 'que', 'exigem', 'a', 'tradução', 'de', 'todos', 'os', 'processos', 'governamentais', 'em', 'todas', 'as', 'línguas', 'oficiais', 'dos', 'países', '.', 'No', 'entanto', ',', 'a', 'maioria', 'dos', 'sistemas', 'dependia', 'de', 'corpora', 'desenvolvido', 'especificamente', 'para', 'tarefas', 'implementadas', 'por', 'esses', 'sistemas', ',', 'o', 'que', 'era', '(', 'e', 'muitas', 'vezes', 'continua', 'sendo', ')', 'uma', 'grande', 'limitação', 'no', 'sucesso', 'dos', 'mesmo', '.', 'Como', 'resultado', ',', 'uma', 'grande', 'quantidade', 'de', 'pesquisa', 'passou', 'de', 'quantidades', 'de', 'dados', 'limitadas', 'a', 'métodos', 'de', 'aprendizagem', 'mais', 'eficazes', '.', 'Pesquisas', 'recentes', 'têm', 'se', 'concentrado', 'cada', 'vez', 'mais', 'em', 'algoritmos', 'de', 'aprendizagem', 'semi', '-', 'supervisionados', 'e', 'sem', 'supervisão', '.', 'Esses', 'algoritmos', 'são', 'capazes', 'de', 'aprender', 'com', 'dados', 'que', 'não', 'foram', 'anotados', 'manualmente', 'com', 'as', 'respostas', 'desejadas', 'ou', 'usando', 'uma', 'combinação', 'de', 'dados', 'anotados', 'e', 'não', 'anotados', '.', 'Geralmente', ',', 'esta', 'tarefa', 'é', 'muito', 'mais', 'trabalhosa', 'do', 'que', 'a', 'aprendizagem', 'supervisionada', 'e', 'normalmente', 'produz', 'resultados', 'menos', 'precisos', 'para', 'uma', 'quantidade', 'específica', 'de', 'dados', 'de', 'entrada', '.', 'No', 'entanto', ',', 'há', 'uma', 'enorme', 'quantidade', 'de', 'dados', 'não', 'anotados', 'disponíveis', '(', 'incluindo', ',', 'entre', 'outras', 'coisas', ',', 'todo', 'o', 'conteúdo', 'da', 'World', 'Wide', 'Web', ')', ',', 'que', 'muitas', 'vezes', 'pode', 'compensar', 'os', 'resultados', 'inferiores', '.', '=', '=', 'Usando', 'a', 'aprendizagem', 'automática', '(', 'aprendizado', 'de', 'máquina', ')', '=', '=', 'Os', 'algoritmos', 'modernos', 'de', 'PLN', 'baseiam', '-', 'se', 'na', 'aprendizagem', 'mecânica', ',', 'especialmente', 'na', 'aprendizagem', 'de', 'máquinas', 'estatísticas', '.', 'O', 'paradigma', 'da', 'aprendizagem', 'mecânica', 'é', 'diferente', 'do', 'da', 'maioria', 'das', 'tentativas', 'anteriores', 'de', 'processamento', 'da', 'linguagem', '.', 'Anteriormente', ',', 'implementações', 'de', 'tarefas', 'de', 'processamento', 'de', 'linguagem', 'envolviam', 'a', 'codificação', 'direta', 'de', 'grandes', 'conjuntos', 'de', 'regras', '.', 'O', 'paradigma', 'da', 'aprendizagem', 'automática', '(', 'ou', 'aprendizagem', 'automática', ')', 'induz', 'a', 'aprendizagem', 'automática', 'de', 'regras', 'através', 'de', 'análises', 'de', 'corpora', 'de', 'exemplos', 'típicos', 'do', 'mundo', 'real', 'ao', 'invés', 'de', 'usar', 'algoritmos', 'gerais', 'de', 'aprendizagem', '(', 'muitas', 'vezes', ',', 'embora', 'nem', 'sempre', ',', 'baseados', 'em', 'inferência', 'estatística', ')', '.', 'Um', 'corpus', '(', 'plural', '\"', 'corpora', '\"', ')', 'é', 'um', 'conjunto', 'de', 'documentos', '(', 'ou', 'frases', 'individuais', ')', 'que', 'foram', 'anotados', 'à', 'mão', 'com', 'os', 'valores', 'corretos', 'a', 'serem', 'aprendidos', '.', 'Muitas', 'classes', 'diferentes', 'de', 'algoritmos', 'de', 'aprendizado', 'de', 'máquina', 'foram', 'aplicadas', 'a', 'tarefas', 'de', 'PLN', '.', 'Esses', 'algoritmos', 'tomam', 'como', 'entrada', 'um', 'grande', 'conjunto', 'de', '\"', 'recursos', '\"', 'que', 'são', 'gerados', 'a', 'partir', 'de', 'dados', 'de', 'entrada', '.', 'Alguns', 'dos', 'algoritmos', 'mais', 'usados', ',', 'como', 'árvores', 'de', 'decisão', ',', 'produziam', 'sistemas', 'de', 'regras', 'rígidas', 'semelhantes', 'aos', 'sistemas', 'de', 'regras', 'manuscritas', 'mais', 'comuns', '.', 'No', 'entanto', ',', 'cada', 'vez', 'mais', ',', 'a', 'pesquisa', 'tem', 'se', 'concentrado', 'em', 'modelos', 'estatísticos', ',', 'que', 'tomam', 'decisões', 'flexíveis', 'e', 'probabilísticas', 'baseadas', 'em', 'agregar', 'pesos', 'reais', 'a', 'cada', 'característica', 'de', 'entrada', '.', 'Tais', 'modelos', 'têm', 'a', 'vantagem', 'de', 'poder', 'expressar', 'a', 'certeza', 'relativa', 'de', 'muitas', 'respostas', 'possíveis', 'diferentes', 'em', 'vez', 'de', 'apenas', 'uma', ',', 'produzindo', 'resultados', 'mais', 'confiáveis', 'quando', 'esse', 'modelo', 'é', 'incluído', 'como', 'um', 'componente', 'de', 'um', 'sistema', 'maior', '.', 'Os', 'sistemas', 'baseados', 'em', 'algoritmos', 'de', 'aprendizagem', 'mecânica', 'têm', 'muitas', 'vantagens', 'em', 'relação', 'às', 'regras', 'produzidas', 'manualmente', ':', 'Os', 'procedimentos', 'de', 'aprendizagem', 'usados', 'durante', 'a', 'aprendizagem', 'da', 'máquina', 'focam', '-', 'se', 'automaticamente', 'nos', 'casos', 'mais', 'comuns', ',', 'ao', 'passo', 'que', 'quando', 'se', 'escrevem', 'regras', 'à', 'mão', ',', 'não', 'é', 'óbvio', 'em', 'que', 'sentido', 'o', 'esforço', 'deve', 'ser', 'dirigido', '.', 'Os', 'procedimentos', 'de', 'aprendizagem', 'automática', 'podem', 'fazer', 'uso', 'de', 'algoritmos', 'de', 'inferência', 'estatística', 'para', 'produzir', 'modelos', 'que', 'são', 'robustos', 'a', 'entradas', 'não', 'familiares', '(', 'por', 'exemplo', ',', 'contendo', 'palavras', 'ou', 'estruturas', 'que', 'não', 'foram', 'vistas', 'antes', ')', 'e', 'a', 'entradas', 'errôneas', '(', 'por', 'exemplo', ',', 'com', 'palavras', 'ou', 'palavras', 'incorretamente', 'omitidas', ')', '.', 'Geralmente', ',', 'lidar', 'com', 'essas', 'entradas', 'de', 'forma', 'com', 'regras', 'manuscritas', 'ou', 'sistemas', 'de', 'regras', 'manuscritas', 'que', 'tomam', 'decisões', 'suaves', 'é', 'extremamente', 'trabalhoso', ',', 'propenso', 'a', 'erros', 'e', 'demorado', '.', 'Sistemas', 'baseados', 'em', 'aprender', 'automaticamente', 'as', 'regras', 'podem', 'ser', 'mais', 'precisos', 'simplesmente', 'fornecendo', 'mais', 'dados', 'de', 'entrada', '.', 'No', 'entanto', ',', 'os', 'sistemas', 'baseados', 'em', 'regras', 'escritas', 'à', 'mão', 'só', 'podem', 'ser', 'tornados', 'mais', 'precisos', 'aumentando', 'a', 'complexidade', 'das', 'regras', ',', 'o', 'que', 'é', 'uma', 'tarefa', 'muito', 'mais', 'difícil', '.', 'Em', 'particular', ',', 'há', 'um', 'limite', 'para', 'a', 'complexidade', 'de', 'sistemas', 'baseados', 'em', 'regras', 'artesanais', ',', 'para', 'além', 'dos', 'quais', 'os', 'sistemas', 'se', 'tornam', 'cada', 'vez', 'mais', 'incontroláveis', '.', 'No', 'entanto', ',', 'a', 'criação', 'de', 'mais', 'dados', 'para', 'entrada', 'em', 'sistemas', 'de', 'aprendizado', 'de', 'máquina', 'requer', 'simplesmente', 'um', 'aumento', 'correspondente', 'no', 'número', 'de', 'horas', 'trabalhadas', 'por', 'humanos', ',', 'geralmente', 'sem', 'aumentos', 'significativos', 'na', 'complexidade', 'do', 'processo', 'de', 'anotação', '.', 'O', 'subcampo', 'de', 'PLN', 'dedicado', 'a', 'abordagens', 'de', 'aprendizagem', 'é', 'conhecido', 'como', 'aprendizagem', 'de', 'língua', 'natural', '(', 'NLL', ')', 'e', 'sua', 'conferência', ',', 'a', 'CoNLL', ',', 'e', 'orgão', 'central', ',', 'o', 'SIGNLL', ',', 'são', 'patrocinados', 'pela', 'ACL', ',', 'reconhecendo', 'também', 'as', 'suas', 'ligações', 'com', 'linguística', 'computacional', 'e', 'aquisição', 'de', 'linguagem', '.', 'Quando', 'o', 'objetivo', 'da', 'pesquisa', 'de', 'aprendizagem', 'de', 'linguagem', 'computacional', 'é', 'entender', 'mais', 'sobre', 'aquisição', 'de', 'linguagem', 'humana', ',', 'ou', 'psicolinguística', ',', 'a', 'NLL', 'sobrepõe', '-', 'se', 'no', 'campo', 'relacionado', 'de', 'psicolinguística', 'computacional', '.', '=', '=', 'Aplicações', 'principais', '=', '=', 'A', 'listagem', 'a', 'seguir', 'traz', 'alguns', 'dos', 'trabalhos', 'mais', 'pesquisadas', 'em', 'PLN', '.', 'Note', 'que', 'alguns', 'deles', 'têm', 'aplicações', 'no', 'mundo', 'real', ',', 'enquanto', 'outras', 'servem', 'mais', 'frequentemente', 'como', 'tarefas', 'secundárias', 'que', 'são', 'usadas', 'para', 'auxiliar', 'na', 'resolução', 'de', 'tarefas', 'maiores', '.', 'O', 'que', 'distingue', 'essas', 'tarefas', 'de', 'outras', 'tarefas', 'potenciais', 'e', 'reais', 'de', 'PLN', 'não', 'é', 'apenas', 'o', 'volume', 'de', 'pesquisa', 'dedicado', 'a', 'elas', ',', 'mas', 'o', 'fato', 'de', 'que', 'para', 'cada', 'uma', 'há', 'tipicamente', 'uma', 'definição', 'de', 'problema', 'bem', 'especificada', ',', 'uma', 'métrica', 'padrão', 'para', 'avaliar', 'a', 'tarefa', ',', 'corpora', 'padrão', 'em', 'que', 'a', 'tarefa', 'pode', 'ser', 'avaliada', 'e', 'as', 'competições', 'dedicadas', 'à', 'tarefa', 'específica', '.', 'Sumarização', 'automática', 'Produz', 'um', 'resumo', 'legível', 'de', 'uma', 'parte', 'do', 'texto', '.', 'Muitas', 'vezes', 'usado', 'para', 'fornecer', 'resumos', 'de', 'texto', 'de', 'um', 'tipo', 'conhecido', ',', 'como', 'artigos', 'na', 'seção', 'financeira', 'de', 'um', 'jornal', '.', 'Resolução', 'de', 'correferência', 'Dada', 'uma', 'frase', 'ou', 'um', 'pedaço', 'maior', 'de', 'texto', ',', 'determina', 'quais', 'palavras', '(', '\"', 'menções', '\"', ')', 'se', 'referem', 'aos', 'mesmos', 'objetos', '(', '\"', 'entidades', '\"', ')', '.', 'A', 'resolução', 'da', 'anáfora', 'é', 'um', 'exemplo', 'específico', 'dessa', 'tarefa', 'e', 'está', 'especificamente', 'preocupada', 'em', 'combinar', 'os', 'pronomes', 'com', 'os', 'substantivos', 'ou', 'nomes', 'aos', 'quais', 'eles', 'se', 'referem', '.', 'A', 'tarefa', 'mais', 'geral', 'da', 'resolução', 'de', 'correferência', 'também', 'inclui', 'a', 'identificação', 'dos', 'chamados', '\"', 'relacionamentos', 'de', 'ponte', '\"', 'envolvendo', 'expressões', 'de', 'referência', '.', 'Por', 'exemplo', ',', 'numa', 'frase', 'como', '\"', 'Ele', 'entrou', 'na', 'casa', 'de', 'João', 'pela', 'porta', 'da', 'frente', '\"', ',', '\"', 'a', 'porta', 'da', 'frente', '\"', 'é', 'uma', 'expressão', 'de', 'referência', 'e', 'a', 'relação', 'da', 'ponte', 'a', 'ser', 'identificada', 'é', 'o', 'fato', 'de', 'que', 'a', 'porta', 'a', 'ser', 'referida', 'é', 'a', 'porta', 'da', 'frente', 'de', \"John's\", '(', 'ao', 'invés', 'de', 'alguma', 'outra', 'estrutura', 'que', 'também', 'pode', 'ser', 'referida', ')', '.', 'Análise', 'do', 'Discurso', 'Esta', 'rubrica', 'inclui', 'uma', 'série', 'de', 'tarefas', 'relacionadas', '.', 'Uma', 'tarefa', 'é', 'identificar', 'a', 'estrutura', 'discursiva', 'do', 'texto', 'conectado', ',', 'isto', 'é', ',', 'a', 'natureza', 'das', 'relações', 'discursivas', 'entre', 'sentenças', '(', 'por', 'exemplo', ',', 'elaboração', ',', 'explicação', ',', 'contraste', ')', '.', 'Outra', 'possível', 'tarefa', 'é', 'reconhecer', 'e', 'classificar', 'os', 'atos', 'de', 'fala', 'em', 'um', 'pedaço', 'de', 'texto', '(', 'por', 'exemplo', ',', 'pergunta', 'sim', '-', 'não', ',', 'pergunta', 'de', 'conteúdo', ',', 'frase', ',', 'afirmação', ',', 'etc', ')', '.', 'Maquina', 'de', 'tradução', 'Traduzir', 'automaticamente', 'texto', 'de', 'uma', 'linguagem', 'humana', 'para', 'outra', '.', 'Este', 'é', 'uma', 'das', 'tarefas', 'mais', 'difíceis', 'e', 'faz', 'parte', 'de', 'um', 'tipo', 'de', 'problemas', 'conhecidos', 'como', '\"', 'AI', '-', 'complete', '\"', ',', 'ou', 'seja', ',', 'exigindo', 'todos', 'os', 'diferentes', 'tipos', 'de', 'conhecimento', 'que', 'os', 'humanos', 'possuem', '(', 'gramática', ',', 'semântica', ',', 'fatos', 'sobre', 'o', 'mundo', 'real', ',', 'etc', ')', 'para', 'resolvê', '-', 'lo', 'adequadamente', '.', 'Segmentação', 'morfológica', 'Separa', 'palavras', 'em', 'morfemas', 'individuais', 'e', 'identifica', 'classes', 'de', 'morfemas', '.', 'A', 'dificuldade', 'desta', 'tarefa', 'depende', 'muito', 'da', 'complexidade', 'da', 'morfologia', '(', 'isto', 'é', ',', 'da', 'estrutura', 'das', 'palavras', ')', 'da', 'linguagem', 'que', 'está', 'sendo', 'considerada', '.', 'O', 'inglês', 'possui', 'uma', 'morfologia', 'bastante', 'simples', ',', 'especialmente', 'a', 'morfologia', 'flexional', ',', 'e', 'portanto', 'é', 'possível', 'ignorar', 'esta', 'tarefa', 'inteiramente', 'e', 'simplesmente', 'modelar', 'todas', 'as', 'formas', 'possíveis', 'de', 'uma', 'palavra', '(', 'por', 'exemplo', ',', '\"', 'open', ',', 'opens', ',', 'opened', ',', 'opening', '\"', ')', 'como', 'palavras', 'separadas', '.', 'Em', 'línguas', 'como', 'o', 'turco', 'ou', 'o', 'Meitei', ',', 'uma', 'língua', 'indiana', 'fortemente', 'aglutinada', ',', 'no', 'entanto', ',', 'tal', 'abordagem', 'não', 'é', 'possível', ',', 'uma', 'vez', 'que', 'cada', 'entrada', 'do', 'dicionário', 'tem', 'milhares', 'de', 'formas', 'de', 'palavras', 'possíveis', '.', 'Reconhecimento', 'de', 'entidade', 'nomeada', '(', 'NER', ')', 'Dado', 'um', 'fluxo', 'de', 'texto', ',', 'determina', 'quais', 'são', 'itens', 'no', 'mapa', 'de', 'texto', 'para', 'nomes', 'próprios', ',', 'como', 'pessoas', 'ou', 'locais', 'e', 'qual', 'é', 'o', 'tipo', 'de', 'cada', 'nome', '(', 'por', 'exemplo', ',', 'pessoa', ',', 'local', ',', 'organização', ')', '.', 'Embora', 'a', 'capitalização', 'possa', 'ajudar', 'a', 'reconhecer', 'entidades', 'nomeadas', 'em', 'idiomas', 'como', 'o', 'inglês', ',', 'essas', 'informações', 'podem', 'não', 'ajudar', 'a', 'determinar', 'o', 'tipo', 'de', 'entidade', 'nomeada', 'e', ',', 'em', 'alguns', 'casos', ',', 'sãos', 'imprecisas', 'ou', 'insuficientes', '.', 'Por', 'exemplo', ',', 'a', 'primeira', 'palavra', 'de', 'uma', 'frase', 'também', 'é', 'capitalizada', 'e', 'as', 'entidades', 'nomeadas', 'muitas', 'vezes', 'abrangem', 'várias', 'palavras', ',', 'com', 'apenas', 'algumas', 'delas', 'são', 'capitalizadas', '.', 'Além', 'disso', ',', 'muitas', 'outras', 'linguagens', 'em', 'scripts', 'não', '-', 'ocidentais', '(', 'por', 'exemplo', ',', 'chinês', 'ou', 'árabe', ')', 'não', 'têm', 'nenhuma', 'capitalização', 'e', 'mesmo', 'as', 'línguas', 'com', 'maiúsculas', 'podem', 'não', 'distinguir', 'nomes', '.', 'Por', 'exemplo', ',', 'o', 'alemão', 'capitaliza', 'todos', 'os', 'substantivos', ',', 'independentemente', 'de', 'se', 'referirem', 'a', 'nomes', ',', 'e', 'o', 'francês', 'e', 'o', 'espanhol', 'não', 'capitalizam', 'nomes', 'que', 'servem', 'como', 'adjetivos', '.', 'Geração', 'de', 'língua', 'natural', 'Converte', 'informações', 'de', 'bancos', 'de', 'dados', 'de', 'computador', 'ou', 'intenções', 'semânticas', 'em', 'linguagem', 'humana', 'legível', '.', 'Compreensão', 'da', 'língua', 'natural', 'Converte', 'pedaços', 'de', 'texto', 'em', 'representações', 'mais', 'formais', ',', 'como', 'estruturas', 'de', 'lógica', 'de', 'primeira', 'ordem', ',', 'que', 'são', 'mais', 'fáceis', 'de', 'manipular', 'pelos', 'programas', 'de', 'computador', '.', 'A', 'compreensão', 'da', 'língua', 'natural', 'envolve', 'a', 'identificação', 'da', 'semântica', 'pretendida', 'a', 'partir', 'da', 'múltipla', 'semântica', 'possível', 'que', 'pode', 'ser', 'derivada', 'de', 'uma', 'expressão', 'de', 'língua', 'natural', 'que', 'geralmente', 'toma', 'a', 'forma', 'de', 'notação', 'organizada', 'de', 'conceitos', 'de', 'linguagens', 'naturais', '.', 'Entretanto', ',', 'introdução', 'e', 'criação', 'de', 'linguagem', 'metamodelo', 'e', 'ontologia', 'são', 'eficientes', 'soluções', 'empíricas', '.', 'Uma', 'formalização', 'explícita', 'da', 'semântica', 'de', 'línguas', 'naturais', 'sem', 'confusões', 'com', 'suposições', 'implícitas', 'como', 'closed', '-', 'world', 'assumption', '(', 'CWA', ')', 'versus', 'open', '-', 'world', 'assumption', 'ou', 'subjetiva', 'Sim', '/', 'Não', 'versus', 'objetivo', 'Verdadeiro', '/', 'Falso', 'é', 'esperada', 'para', 'a', 'construção', 'de', 'uma', 'base', 'de', 'formalização', 'semântica', '.', 'Reconhecimento', 'óptico', 'de', 'caracteres', '(', 'OCR', ')', 'Dada', 'uma', 'imagem', 'que', 'representa', 'o', 'texto', 'impresso', ',', 'determina', 'o', 'texto', 'correspondente', '.', 'Marcação', 'de', 'classe', 'gramatical', 'Dada', 'uma', 'sentença', ',', 'determina', 'a', 'classe', 'gramatical', 'de', 'cada', 'palavra', '.', 'Muitas', 'palavras', ',', 'especialmente', 'as', 'comuns', ',', 'podem', 'servir', 'como', 'múltiplas', 'partes', 'do', 'discurso', '.', 'Em', 'inglês', ',', 'por', 'exemplo', ',', '\"', 'book', '\"', 'pode', 'ser', 'um', 'substantivo', '(', '\"', 'the', 'book', 'on', 'the', 'table', '\"', ')', 'ou', 'verbo', '(', '\"', 'book', 'a', 'flight', '\"', ')', ';', '\"', 'Set', '\"', 'pode', 'ser', 'um', 'substantivo', ',', 'verbo', 'ou', 'adjetivo', ';', 'E', '\"', 'out', '\"', 'pode', 'ser', 'qualquer', 'um', 'de', 'pelo', 'menos', 'cinco', 'diferentes', 'partes', 'da', 'fala', '.', 'Algumas', 'línguas', 'têm', 'mais', 'ambiguidade', 'do', 'que', 'outras', '.', 'As', 'línguas', 'com', 'pouca', 'morfologia', 'flexional', ',', 'como', 'o', 'inglês', ',', 'são', 'particularmente', 'propensas', 'a', 'tal', 'ambiguidade', '.', 'O', 'chinês', 'é', 'propenso', 'a', 'tal', 'ambiguidade', 'porque', 'é', 'uma', 'língua', 'tonal', 'durante', 'a', 'verbalização', '.', 'Tal', 'inflexão', 'não', 'é', 'facilmente', 'transmitida', 'através', 'das', 'entidades', 'empregadas', 'dentro', 'da', 'ortografia', 'para', 'transmitir', 'o', 'significado', 'pretendido', '.', 'Análise', 'sintática', '(', 'Parsing', ')', 'Determina', 'a', 'árvore', 'de', 'análise', '(', 'análise', 'gramatical', ')', 'de', 'uma', 'frase', '.', 'A', 'gramática', 'para', 'as', 'linguagens', 'naturais', 'é', 'ambígua', 'e', 'frases', 'típicas', 'têm', 'múltiplas', 'análises', 'possíveis', '.', 'Na', 'verdade', ',', 'surpreendentemente', ',', 'para', 'uma', 'frase', 'típica', 'pode', 'haver', 'milhares', 'de', 'análises', 'em', 'potencial', '(', 'a', 'maioria', 'dos', 'quais', 'parecerá', 'completamente', 'absurda', 'para', 'um', 'ser', 'humano', ')', '.', 'Respostas', 'a', 'perguntas', 'Dada', 'uma', 'questão', 'de', 'linguagem', 'humana', ',', 'determina', 'sua', 'resposta', '.', 'As', 'perguntas', 'típicas', 'têm', 'uma', 'resposta', 'correta', 'específica', '(', 'como', '\"', 'Qual', 'é', 'o', 'capital', 'do', 'Canadá', '?', '\"', ')', ',', 'mas', 'às', 'vezes', 'perguntas', 'abertas', 'também', 'são', 'consideradas', '(', 'como', '\"', 'Qual', 'é', 'o', 'significado', 'da', 'vida', '?', '\"', ')', '.', 'Trabalhos', 'recentes', 'têm', 'analisado', 'questões', 'ainda', 'mais', 'complexas', '.', 'Extração', 'de', 'relacionamento', 'Identifica', 'as', 'relações', 'entre', 'entidades', 'nomeadas', '(', 'por', 'exemplo', ',', 'quem', 'é', 'casado', 'com', 'quem', ')', 'com', 'base', 'em', 'textos', '.', 'Quebra', 'de', 'frases', '(', 'sentence', 'boundary', 'disambiguation', ')', 'Encontra', 'os', 'limites', 'da', 'frase', 'em', 'um', 'pedaço', 'de', 'texto', '.', 'Os', 'limites', 'de', 'frases', 'são', 'normalmente', 'marcadas', 'por', 'pontos', 'ou', 'outros', 'sinais', 'de', 'pontuação', ',', 'mas', 'esses', 'mesmos', 'caracteres', 'podem', 'servir', 'outros', 'propósitos', '.', 'Análise', 'de', 'subjetividade', '(', 'sentiment', 'analysis', 'ou', 'opinion', 'mining', ')', 'Extrai', 'informações', 'subjetivas', 'geralmente', 'de', 'um', 'conjunto', 'de', 'documentos', ',', 'muitas', 'vezes', 'usando', 'revisões', 'online', 'para', 'determinar', 'a', '\"', 'polaridade', '\"', 'sobre', 'objetos', 'específicos', '.', 'É', 'especialmente', 'útil', 'para', 'identificar', 'tendências', 'da', 'opinião', 'pública', 'nas', 'mídias', 'sociais', ',', 'para', 'fins', 'de', 'marketing', '.', 'Reconhecimento', 'de', 'fala', 'Dado', 'um', 'clipe', 'de', 'som', 'de', 'uma', 'pessoa', 'ou', 'pessoas', 'falando', ',', 'determina', 'a', 'representação', 'textual', 'do', 'discurso', '.', 'É', 'o', 'oposto', 'da', 'síntese', 'de', 'fala', 'e', 'é', 'uma', 'das', 'áreas', 'mais', 'difíceis', ',', 'conhecida', 'como', '\"', 'AI', '-', 'complete', '\"', '.', 'Na', 'fala', 'natural', 'quase', 'não', 'há', 'pausas', 'entre', 'palavras', 'sucessivas', ',', 'por', 'isso', 'a', 'segmentação', 'de', 'fala', 'é', 'uma', 'subtarefa', 'necessária', 'de', 'reconhecimento', 'de', 'fala', '.', 'Nota', '-', 'se', 'também', 'que', ',', 'na', 'maioria', 'das', 'linguagens', 'faladas', ',', 'os', 'sons', 'que', 'representam', 'letras', 'sucessivas', 'se', 'misturam', 'entre', 'si', 'em', 'um', 'processo', 'denominado', 'coarticulação', ',', 'de', 'modo', 'que', 'a', 'conversão', 'do', 'sinal', 'analógico', 'em', 'caracteres', 'discretos', 'pode', 'ser', 'um', 'processo', 'muito', 'difícil', 'de', 'ser', 'realizado', '.', 'Segmentação', 'de', 'fala', 'Dado', 'um', 'clipe', 'de', 'som', 'de', 'uma', 'pessoa', 'ou', 'pessoas', 'falando', ',', 'separa', '-', 'o', 'em', 'palavras', '.', 'Uma', 'subaplicação', 'de', 'reconhecimento', 'de', 'fala', 'e', 'normalmente', 'agrupada', 'com', 'ele', '.', 'Análise', 'morfológica', 'e', 'reconhecimento', 'de', 'tópicos', 'Dado', 'um', 'pedaço', 'de', 'texto', ',', 'separa', '-', 'o', 'em', 'segmentos', 'cada', 'um', 'dos', 'quais', 'é', 'dedicado', 'a', 'um', 'tópico', 'e', 'identifica', 'o', 'tópico', 'do', 'segmento', '.', 'Análise', 'morfológica', 'e', 'segmentação', 'de', 'palavras', 'Separa', 'um', 'pedaço', 'de', 'texto', 'contínuo', 'em', 'palavras', 'separadas', '.', 'Para', 'uma', 'língua', 'como', 'o', 'inglês', ',', 'isso', 'é', 'bastante', 'trivial', ',', 'uma', 'vez', 'que', 'as', 'palavras', 'são', 'normalmente', 'separadas', 'por', 'espaços', '.', 'No', 'entanto', ',', 'algumas', 'línguas', 'escritas', 'como', 'chinês', ',', 'japonês', 'e', 'tailandês', 'não', 'marcam', 'limites', 'de', 'palavras', 'de', 'tal', 'forma', ',', 'e', 'nessas', 'línguas', 'segmentação', 'de', 'texto', 'é', 'uma', 'tarefa', 'significativa', 'que', 'requer', 'conhecimento', 'do', 'vocabulário', 'e', 'morfologia', 'das', 'palavras', 'na', 'língua', '.', 'Desambiguação', 'Muitas', 'palavras', 'têm', 'mais', 'de', 'um', 'significado', ',', 'assim', 'temos', 'que', 'selecionar', 'o', 'significado', 'que', 'faz', 'mais', 'sentido', 'no', 'contexto', '.', 'Para', 'este', 'problema', ',', 'em', 'geral', 'é', 'dada', 'uma', 'lista', 'de', 'palavras', 'e', 'sentidos', 'de', 'palavras', 'associadas', 'de', 'um', 'dicionário', 'ou', 'recurso', 'online', ',', 'como', 'o', 'WordNet', '.', 'Em', 'alguns', 'casos', ',', 'conjuntos', 'de', 'tarefas', 'relacionadas', 'são', 'agrupados', 'em', 'subcampos', 'de', 'PLN', 'que', 'são', 'frequentemente', 'considerados', 'separadamente', 'da', 'PLN', 'como', 'um', 'todo', ',', 'como', 'os', 'exemplos', 'à', 'seguir', ':', 'Recuperação', 'de', 'informação', '(', 'IR', ')', 'Trata', '-', 'se', 'de', 'armazenar', ',', 'pesquisar', 'e', 'recuperar', 'informações', '.', 'É', 'um', 'campo', 'separado', 'dentro', 'da', 'ciência', 'da', 'computação', '(', 'mais', 'perto', 'de', 'bancos', 'de', 'dados', ')', ',', 'mas', 'a', 'IR', 'se', 'baseia', 'em', 'alguns', 'métodos', 'PLN', '(', 'por', 'exemplo', ',', 'stemming', ')', '.', 'Algumas', 'pesquisas', 'e', 'aplicações', 'atuais', 'procuram', 'preencher', 'a', 'lacuna', 'entre', 'IR', 'e', 'PLN', '.', 'Extração', 'de', 'informação', '(', 'IE', ')', 'Trata', '-', 'se', ',', 'em', 'geral', ',', 'da', 'extração', 'de', 'informação', 'semântica', 'a', 'partir', 'do', 'texto', '.', 'Abrange', 'tarefas', 'como', 'reconhecimento', 'de', 'entidade', 'mencionada', ',', 'resolução', 'de', 'correferência', 'e', 'de', 'relacionamento', 'de', 'extração', ',', 'etc', '.', 'Processamento', 'de', 'voz', 'Abrange', 'reconhecimento', 'de', 'fala', ',', 'síntese', 'de', 'fala', 'e', 'tarefas', 'relacionadas', '.', 'Outras', 'tarefas', 'incluem', ':', 'Identificação', 'na', 'língua', 'materna', 'Stemização', 'Simplificação', 'do', 'texto', 'Síntese', 'de', 'fala', 'Revisão', 'de', 'texto', 'Pesquisa', 'em', 'língua', 'natural', 'Expansão', 'da', 'consulta', 'Pontuação', 'de', 'ensaio', 'automatizado', 'Truecasing', '=', '=', 'Estatística', '=', '=', 'Artigo', 'principal', ':', 'Gramática', 'estocástica', 'O', 'processamento', 'estatístico', 'em', 'língua', 'natural', 'utiliza', 'métodos', 'estocásticos', ',', 'probabilísticos', 'e', 'estatísticos', 'para', 'resolver', 'algumas', 'das', 'dificuldades', 'discutidas', 'acima', ',', 'especialmente', 'aquelas', 'que', 'surgem', 'porque', 'frases', 'mais', 'longas', 'são', 'muito', 'ambíguas', 'quando', 'processadas', 'com', 'gramáticas', 'realistas', ',', 'produzindo', 'milhares', 'ou', 'milhões', 'de', 'análises', 'possíveis', '.', 'Métodos', 'de', 'desambiguação', 'envolvem', 'muitas', 'vezes', 'o', 'uso', 'de', 'corpora', 'e', 'modelos', 'de', 'Markov', '.', 'O', 'projeto', 'ESPRIT', 'P26', '(', '1984', '-', '1988', ')', ',', 'liderado', 'pelo', 'CSELT', ',', 'explorou', 'o', 'problema', 'do', 'reconhecimento', 'de', 'fala', 'comparando', 'abordagem', 'baseada', 'em', 'conhecimento', 'e', 'estatística', ':', 'o', 'resultado', 'escolhido', 'foi', 'um', 'modelo', 'completamente', 'estatístico', '.', 'Um', 'dos', 'primeiros', 'modelos', 'de', 'compreensão', 'estatística', 'da', 'língua', 'natural', 'foi', 'introduzido', 'em', '1991', 'por', 'Roberto', 'Pieraccini', ',', 'Esther', 'Levin', 'e', 'Chin', '-', 'Hui', 'Lee', ',', 'da', 'Bell', 'Laboratories', ']', '.', 'O', 'PLN', 'compreende', 'todas', 'as', 'abordagens', 'quantitativas', 'para', 'processamento', 'automatizado', 'de', 'linguagem', ',', 'incluindo', 'modelagem', 'probabilística', ',', 'teoria', 'da', 'informação', 'e', 'álgebra', 'linear', '.', 'A', 'tecnologia', 'para', 'o', 'PLN', 'estatístico', 'vem', 'principalmente', 'da', 'aprendizagem', 'automática', 'e', 'da', 'mineração', 'de', 'dados', ',', 'que', 'são', 'campos', 'de', 'inteligência', 'artificial', 'que', 'envolvem', 'o', 'aprendizado', 'a', 'partir', 'de', 'dados', '.', '=', '=', 'Avaliação', '=', '=', 'O', 'objetivo', 'da', 'avaliação', 'do', 'PLN', 'é', 'uma', 'medida', 'de', 'uma', 'ou', 'mais', 'qualidades', 'de', 'um', 'algoritmo', 'ou', 'de', 'um', 'sistema', 'a', 'fim', 'de', 'determinar', 'se', 'o', 'algoritmo', 'atende', 'às', 'metas', 'dos', 'projetistas', 'ou', 'o', 'sistema', 'de', 'atendimento', 'às', 'necessidades', 'de', 'seus', 'usuários', '.', 'Investigação', 'na', 'avaliação', 'PLN', 'tem', 'ganhado', 'atenção', ',', 'porque', 'a', 'definição', 'de', 'critérios', 'de', 'avaliação', 'é', 'uma', 'forma', 'de', 'especificar', 'precisamente', 'problemas', 'do', 'PLN', '.', 'Uma', 'métrica', 'de', 'avaliação', 'de', 'PLN', 'em', 'um', 'sistema', 'algorítmico', 'permite', 'a', 'integração', 'da', 'compreensão', 'de', 'linguagem', 'e', 'geração', 'de', 'linguagem', '.', 'Um', 'conjunto', 'preciso', 'de', 'critérios', 'de', 'avaliação', ',', 'que', 'pode', 'ser', 'aplicado', 'principalmente', 'a', 'avaliações', 'métricas', ',', 'podendo', 'permitir', 'que', 'várias', 'equipes', 'comparem', 'suas', 'soluções', 'para', 'um', 'determinado', 'problema', 'do', 'PLN', '.', '=', '=', 'Cronologia', 'da', 'avaliação', '=', '=', 'Em', '1983', ',', 'iniciou', '-', 'se', 'o', 'Projecto', 'Esprit', 'P26', ',', 'que', 'avaliou', 'as', 'Tecnologias', 'da', 'Fala', '(', 'incluindo', 'tópicos', 'gerais', 'como', 'Sintaxe', 'e', 'Semântica', ')', 'comparando', 'as', 'abordagens', 'baseadas', 'em', 'regras', 'com', 'as', 'estatísticas', '.', 'Em', '1987', ',', 'a', 'primeira', 'campanha', 'de', 'avaliação', 'de', 'textos', 'escritos', 'parece', 'ser', 'uma', 'campanha', 'dedicada', 'à', 'compreensão', 'da', 'mensagem', '(', 'Pallet', ',', '1998', ')', '.', 'O', 'projeto', 'Parseval', '/', 'GEIG', 'comparou', 'gramáticas', 'de', 'frase', '-', 'estrutura', '(', 'Black', '1991', ')', '.', 'Houve', 'uma', 'série', 'de', 'campanhas', 'no', 'projeto', 'Tipster', 'sobre', 'tarefas', 'como', 'resumo', ',', 'tradução', 'e', 'pesquisa', '(', 'Hirschman', '1998', ')', '.', 'Em', '1994', ',', 'na', 'Alemanha', ',', 'o', 'Morpholympics', 'comparou', 'marcadores', 'morfológicos', 'alemães', '.', 'As', 'campanhas', 'de', 'Senseval', '&', 'Romanseval', 'foram', 'realizadas', 'com', 'os', 'objetivos', 'de', 'desambiguação', 'semântica', '.', 'Em', '1996', ',', 'a', 'campanha', 'Sparkle', 'comparou', 'os', 'analisadores', 'sintáticos', 'em', 'quatro', 'idiomas', 'diferentes', '(', 'inglês', ',', 'francês', ',', 'alemão', 'e', 'italiano', ')', '.', 'Na', 'França', ',', 'o', 'projeto', 'Grace', 'comparou', 'um', 'conjunto', 'de', '21', 'marcadores', 'para', 'o', 'francês', 'em', '1997', '(', 'Adda', '1999', ')', '.', 'Em', '2004', ',', 'durante', 'o', 'projeto', 'Technolangue', '/', 'Easy', ',', 'foram', 'comparados', '13', 'analisadores', 'para', 'o', 'francês', '.', 'A', 'avaliação', 'em', 'larga', 'escala', 'dos', 'analisadores', 'de', 'dependência', 'foi', 'realizada', 'no', 'contexto', 'das', 'tarefas', 'compartilhadas', 'do', 'CoNLL', 'em', '2006', 'e', '2007', '.', 'Na', 'França', ',', 'no', 'âmbito', 'do', 'projecto', 'ANR', '-', 'Passage', '(', 'final', 'de', '2007', ')', ',', 'foram', 'comparados', '10', 'analisadores', 'para', 'o', 'francês', '.', 'Em', 'Itália', ',', 'a', 'campanha', 'EVALITA', 'foi', 'realizada', 'em', '2007', ',', '2009', ',', '2011', 'e', '2014', 'para', 'comparar', 'várias', 'ferramentas', 'de', 'PLN', 'e', 'de', 'voz', 'para', 'o', 'site', 'italiano', '-', 'EVALITA', '.', '=', '=', 'Diferentes', 'tipos', 'de', 'avaliação', '=', '=', 'Avaliação', 'intrínseca', 'vs', '.', 'extrínseca', 'A', 'avaliação', 'intrínseca', 'considera', 'um', 'sistema', 'PNL', 'isolado', 'e', 'caracteriza', 'seu', 'desempenho', 'em', 'relação', 'a', 'um', 'resultado', 'padrão', '-', 'excelência', ',', 'conforme', 'definido', 'pelos', 'avaliadores', '.', 'A', 'avaliação', 'extrínseca', ',', 'também', 'chamada', 'de', 'avaliação', 'em', 'uso', ',', 'considera', 'o', 'sistema', 'PLN', 'em', 'um', 'cenário', 'mais', 'complexo', 'como', 'um', 'sistema', 'embutido', 'ou', 'uma', 'função', 'precisa', 'para', 'um', 'usuário', 'humano', '.', 'O', 'desempenho', 'extrínseco', 'do', 'sistema', 'é', 'então', 'caracterizado', 'em', 'termos', 'de', 'utilidade', 'em', 'relação', 'à', 'tarefa', 'global', 'do', 'sistema', 'estranho', 'ou', 'do', 'utilizador', 'humano', '.', 'Por', 'exemplo', ',', 'considere', 'um', 'analisador', 'sintático', 'que', 'é', 'baseado', 'na', 'saída', 'de', 'alguma', 'parte', 'do', 'tagger', 'de', 'fala', '(', 'POS', ')', '.', 'Uma', 'avaliação', 'intrínseca', 'executaria', 'o', 'marcador', 'POS', 'em', 'dados', 'estruturados', 'e', 'compararia', 'a', 'saída', 'do', 'sistema', 'do', 'marcador', 'POS', 'com', 'a', 'saída', 'padrão', 'ouro', '.', 'Uma', 'avaliação', 'extrínseca', 'executaria', 'o', 'analisador', 'com', 'algum', 'outro', 'marcador', 'POS', 'e', ',', 'em', 'seguida', ',', 'com', 'o', 'marcador', 'POS', 'novo', 'e', 'compara', 'a', 'precisão', 'de', 'análise', '.', 'Caixa', 'preta', 'vs', '.', 'Avaliação', 'da', 'caixa', 'de', 'vidro', 'A', 'avaliação', 'em', 'caixa', 'preta', 'requer', 'que', 'alguém', 'execute', 'um', 'sistema', 'PLN', 'em', 'um', 'conjunto', 'de', 'dados', 'de', 'amostra', 'e', 'para', 'medir', 'uma', 'série', 'de', 'parâmetros', 'relacionados', 'com', 'a', 'qualidade', 'do', 'processo', ',', 'como', 'velocidade', ',', 'confiabilidade', ',', 'consumo', 'de', 'recursos', 'e', ',', 'principalmente', ',', 'a', 'qualidade', 'do', 'resultado', ',', 'como', 'a', 'precisão', 'da', 'anotação', 'de', 'dados', 'ou', 'a', 'fidelidade', 'de', 'uma', 'tradução', '.', 'A', 'avaliação', 'da', 'caixa', 'de', 'vidro', 'examina', 'a', 'concepção', 'do', 'sistema', ';', 'Os', 'algoritmos', 'que', 'são', 'implementados', ',', 'os', 'recursos', 'linguísticos', 'que', 'utiliza', ',', 'como', 'o', 'tamanho', 'do', 'vocabulário', 'ou', 'a', 'expressão', 'definida', 'de', 'cardinalidade', '.', 'Dada', 'a', 'complexidade', 'dos', 'problemas', 'da', 'PLN', ',', 'muitas', 'vezes', 'é', 'difícil', 'prever', 'o', 'desempenho', 'apenas', 'com', 'base', 'na', 'avaliação', 'da', 'caixa', 'de', 'vidro', ';', 'Mas', 'este', 'tipo', 'de', 'avaliação', 'é', 'mais', 'informativo', 'no', 'que', 'diz', 'respeito', 'à', 'análise', 'de', 'erros', 'ou', 'desenvolvimentos', 'futuros', 'de', 'um', 'sistema', '.', 'Automática', 'vs', '.', 'avaliação', 'manual', 'Em', 'muitos', 'casos', ',', 'procedimentos', 'automáticos', 'podem', 'ser', 'definidos', 'para', 'avaliar', 'um', 'sistema', 'de', 'PLN', ',', 'comparando', 'sua', 'saída', 'com', 'o', 'padrão', 'de', 'excelência', '.', 'Embora', 'o', 'custo', 'de', 'reproduzir', 'o', 'padrão', 'de', 'excelência', 'possa', 'ser', 'bastante', 'elevado', ',', 'avaliação', 'automática', 'de', 'bootstrapping', 'sobre', 'os', 'mesmos', 'dados', 'de', 'entrada', 'pode', 'ser', 'repetida', 'quantas', 'vezes', 'for', 'necessário', 'sem', 'custos', 'adicionais', 'desordenados', '.', 'No', 'entanto', ',', 'para', 'muitos', 'problemas', 'de', 'PLN', 'a', 'definição', 'precisa', 'de', 'um', 'padrão', 'de', 'excelência', 'é', 'uma', 'tarefa', 'complexa', 'e', 'pode', 'se', 'revelar', 'impossível', 'quando', 'o', 'acordo', 'inter', '-', 'anotador', 'é', 'insuficiente', '.', 'A', 'avaliação', 'manual', 'é', 'melhor', 'realizada', 'por', 'juízes', 'humanos', 'instruídos', 'para', 'estimar', 'a', 'qualidade', 'de', 'um', 'sistema', ',', 'ou', 'mais', 'frequentemente', 'de', 'uma', 'amostra', 'de', 'sua', 'produção', ',', 'com', 'base', 'em', 'uma', 'série', 'de', 'critérios', '.', 'Embora', ',', 'graças', 'à', 'sua', 'competência', 'linguística', ',', 'os', 'juízes', 'humanos', 'possam', 'ser', 'considerados', 'como', 'a', 'referência', 'para', 'uma', 'série', 'de', 'tarefas', 'de', 'processamento', 'de', 'linguagem', ',', 'há', 'também', 'uma', 'variação', 'considerável', 'em', 'suas', 'classificações', '.', 'É', 'por', 'isso', 'que', 'a', 'avaliação', 'automática', 'é', ',', 'por', 'vezes', ',', 'referida', 'como', 'avaliação', 'objetiva', 'enquanto', 'a', 'avaliação', 'humana', 'é', 'perspectiva', '.', '=', '=', 'Padronização', '=', '=', 'Um', 'subcomitê', 'ISO', 'está', 'trabalhando', 'para', 'facilitar', 'a', 'interoperabilidade', 'entre', 'recursos', 'lexicais', 'e', 'programas', 'PLN', '.', 'O', 'subcomitê', 'faz', 'parte', 'do', 'ISO', '/', 'TC37', 'e', 'é', 'chamado', 'ISO', '/', 'TC37', '/', 'SC4', '.', 'Alguns', 'padrões', 'ISO', 'já', 'estão', 'publicados', ',', 'mas', 'a', 'maioria', 'deles', 'está', 'em', 'construção', ',', 'principalmente', 'na', 'representação', 'de', 'léxico', '(', 'ver', 'LMF', ')', ',', 'anotação', 'e', 'registro', 'de', 'categoria', 'de', 'dados', '.', '=', '=', 'Ferramentas', '=', '=', 'Expert', 'System', 'S', '.', 'p', '.', 'A', '.', 'General', 'Architecture', 'for', 'Text', 'Engineering', 'Modular', 'Audio', 'Recognition', 'Framework', 'Natural', 'Language', 'Toolkit', '(', 'NLTK', ')', ':', 'uma', 'biblioteca', 'em', 'Python', 'OpenNLP', '=', '=', 'Veja', 'também', '=', '=', 'Mineração', 'de', 'texto', 'biomédica', 'Processo', 'de', 'processamento', 'composto', 'Revisão', 'assistida', 'por', 'computador', 'Linguagem', 'natural', 'controlada', 'Processamento', 'linguístico', 'profundo', 'Auxílio', 'à', 'leitura', 'de', 'línguas', 'estrangeiras', 'Auxílio', 'à', 'escrita', 'em', 'língua', 'estrangeira', 'Tecnologia', 'da', 'linguagem', 'A', 'alocação', 'de', 'Dirichlet', 'Latente', '(', 'LDA', ')', 'Indexação', 'semântica', 'latente', 'Lista', 'de', 'ferramentas', 'de', 'processamento', 'de', 'língua', 'natural', 'Mapa', 'de', 'LRE', 'Programação', 'em', 'língua', 'natural', 'Reificação', '(', 'linguística', ')', 'Dobradura', 'semântica', 'Sistema', 'de', 'diálogo', 'falado', 'Vetor', 'do', 'Pensamento', 'Pesquisa', 'Transderivacional', 'Word2vec', '=', '=', 'Referências', '=', '=', '=', '=', 'Leitura', 'adicional', '=', '=', 'Steven', 'Bird', ',', 'Ewan', 'Klein', ',', 'and', 'Edward', 'Loper', '(', '2009', ')', '.', 'Natural', 'Language', 'Processing', 'with', 'Python', '.', \"O'Reilly\", 'Media', '.', 'ISBN', '978', '-', '0', '-', '596', '-', '51649', '-', '9', '.', 'Daniel', 'Jurafsky', 'and', 'James', 'H', '.', 'Martin', '(', '2008', ')', '.', 'Speech', 'and', 'Language', 'Processing', ',', '2nd', 'edition', '.', 'Pearson', 'Prentice', 'Hall', '.', 'ISBN', '978', '-', '0', '-', '13', '-', '187321', '-', '6', '.', 'Christopher', 'D', '.', 'Manning', ',', 'Prabhakar', 'Raghavan', ',', 'and', 'Hinrich', 'Schütze', '(', '2008', ')', '.', 'Introduction', 'to', 'Information', 'Retrieval', '.', 'Cambridge', 'University', 'Press', '.', 'ISBN', '978', '-', '0', '-', '521', '-', '86571', '-', '5', '.', 'Official', 'html', 'and', 'pdf', 'versions', 'available', 'without', 'charge', '.', 'Christopher', 'D', '.', 'Manning', 'and', 'Hinrich', 'Schütze', '(', '1999', ')', '.', 'Foundations', 'of', 'Statistical', 'Natural', 'Language', 'Processing', '.', 'The', 'MIT', 'Press', '.', 'ISBN', '978', '-', '0', '-', '262', '-', '13360', '-', '9', '.', 'David', 'M', '.', 'W', '.', 'Powers', 'and', 'Christopher', 'C', '.', 'R', '.', 'Turk', '(', '1989', ')', '.', 'Machine', 'Learning', 'of', 'Natural', 'Language', '.', 'Springer', '-', 'Verlag', '.', 'ISBN', '978', '-', '0', '-', '387', '-', '19557', '-', '5', '.']\n"
          ]
        }
      ]
    },
    {
      "cell_type": "markdown",
      "metadata": {
        "id": "GWrk8Rm0U2eS"
      },
      "source": [
        "### NLTK\n",
        "\n",
        "3. Faça utilizando o método abaixo.\n",
        "<b> Não esqueça de armazenar o resultado na variável abaixo. </b>\n",
        "\n",
        "```python\n",
        "nltk.word_tokenize(corpus, language='portuguese')\n",
        "```"
      ]
    },
    {
      "cell_type": "code",
      "metadata": {
        "id": "zHqORP70U2eT",
        "outputId": "b60eecf1-8b18-4e77-b432-e3e5208f62f7",
        "colab": {
          "base_uri": "https://localhost:8080/"
        }
      },
      "source": [
        "import nltk\n",
        "tokens_nltk = nltk.word_tokenize(corpus)\n",
        "print(tokens_nltk)"
      ],
      "execution_count": 113,
      "outputs": [
        {
          "output_type": "stream",
          "name": "stdout",
          "text": [
            "['Processamento', 'de', 'língua', 'natural', '(', 'PLN', ')', 'é', 'uma', 'subárea', 'da', 'ciência', 'da', 'computação', ',', 'inteligência', 'artificial', 'e', 'da', 'linguística', 'que', 'estuda', 'os', 'problemas', 'da', 'geração', 'e', 'compreensão', 'automática', 'de', 'línguas', 'humanas', 'naturais', '.', 'Sistemas', 'de', 'geração', 'de', 'língua', 'natural', 'convertem', 'informação', 'de', 'bancos', 'de', 'dados', 'de', 'computadores', 'em', 'linguagem', 'compreensível', 'ao', 'ser', 'humano', 'e', 'sistemas', 'de', 'compreensão', 'de', 'língua', 'natural', 'convertem', 'ocorrências', 'de', 'linguagem', 'humana', 'em', 'representações', 'mais', 'formais', ',', 'mais', 'facilmente', 'manipuláveis', 'por', 'programas', 'de', 'computador', '.', 'Alguns', 'desafios', 'do', 'PLN', 'são', 'compreensão', 'de', 'língua', 'natural', ',', 'fazer', 'com', 'que', 'computadores', 'extraiam', 'sentido', 'de', 'linguagem', 'humana', 'ou', 'natural', 'e', 'geração', 'de', 'língua', 'natural', '.', '==', 'História', '==', 'A', 'história', 'do', 'PLN', 'começou', 'na', 'década', 'de', '1950', ',', 'quando', 'Alan', 'Turing', 'publicou', 'o', 'artigo', '``', 'Computing', 'Machinery', 'and', 'Intelligence', \"''\", ',', 'que', 'propunha', 'o', 'que', 'agora', 'é', 'chamado', 'de', 'teste', 'de', 'Turing', 'como', 'critério', 'de', 'inteligência', '.', 'Em', '1954', ',', 'a', 'experiência', 'de', 'Georgetown', 'envolveu', 'a', 'tradução', 'automática', 'de', 'mais', 'de', 'sessenta', 'frases', 'russas', 'para', 'o', 'inglês', '.', 'Os', 'autores', 'afirmaram', 'que', 'dentro', 'de', 'três', 'ou', 'cinco', 'anos', 'a', 'tradução', 'automática', 'seria', 'um', 'problema', 'resolvido', '.', 'No', 'entanto', ',', 'os', 'avanços', 'reais', 'foram', 'muito', 'mais', 'lentos', 'do', 'que', 'o', 'previsto', 'e', ',', 'após', 'o', 'relatório', 'ALPAC', 'em', '1966', ',', 'que', 'constatou', 'que', 'a', 'pesquisa', 'de', 'dez', 'anos', 'não', 'conseguiu', 'satisfazer', 'as', 'expectativas', ',', 'o', 'financiamento', 'para', 'este', 'estudo', 'em', 'tradução', 'automática', 'foi', 'reduzido', 'drasticamente', '.', 'Poucas', 'pesquisas', 'em', 'tradução', 'automática', 'foram', 'conduzidas', 'até', 'o', 'final', 'dos', 'anos', '80', ',', 'quando', 'os', 'primeiros', 'sistemas', 'estatísticos', 'de', 'tradução', 'foram', 'desenvolvidos', '.', 'Alguns', 'sistemas', 'de', 'PLN', 'bem', 'sucedidos', 'desenvolvidos', 'nos', 'anos', '60', 'foram', 'SHRDLU', ',', 'um', 'sistema', 'de', 'língua', 'natural', 'que', 'trabalhava', 'em', '``', 'blocks', 'worlds', \"''\", 'com', 'vocabulário', 'restrito', 'e', 'ELIZA', ',', 'uma', 'simulação', 'de', 'um', 'psicoterapeuta', 'escrita', 'por', 'Joseph', 'Weizenbaum', 'entre', '1964', 'e', '1966', '.', 'Usando', 'pouca', 'informação', 'sobre', 'o', 'pensamento', 'ou', 'a', 'emoção', 'humana', ',', 'ELIZA', 'criava', ',', 'em', 'alguns', 'casos', ',', 'interações', 'surpreendentemente', 'humanas', '.', 'Quando', 'o', '``', 'paciente', \"''\", 'excedia', 'a', 'base', 'de', 'conhecimento', 'do', 'programa', ',', 'ELIZA', 'fornecia', 'uma', 'resposta', 'genérica', ',', 'por', 'exemplo', ',', 'respondendo', 'a', '``', 'Minha', 'cabeça', 'dói', \"''\", 'com', '``', 'Por', 'que', 'você', 'diz', 'que', 'sua', 'cabeça', 'dói', '?', \"''\", '.', 'Durante', 'a', 'década', 'de', '1970', ',', 'muitos', 'programadores', 'começaram', 'a', 'escrever', '``', 'ontologias', 'conceituais', \"''\", ',', 'que', 'estruturaram', 'a', 'informação', 'do', 'mundo', 'real', 'em', 'dados', 'compreensíveis', 'por', 'computadores', '.', 'Exemplos', 'são', 'MARGIE', '(', 'SCHANK', ',', '1975', ')', ',', 'SAM', '(', 'CULLINGFORD', ',', '1978', ')', ',', 'PAM', '(', 'WILENSKY', ',', '1978', ')', ',', 'TaleSpin', '(', 'MEEHAN', ',', '1976', ')', ',', 'QUALM', '(', 'LEHNERT', ',', '1977', ')', ',', 'Politics', '(', 'CARBONELL', ',', '1979', ')', 'e', 'Plot', 'Units', '(', 'LEHNERT', ',', '1981', ')', '.', 'Neste', 'período', ',', 'muitos', 'chatterbots', 'foram', 'escritos', ',', 'como', 'PARRY', ',', 'Racter', 'e', 'Jabberwacky', '.', 'Até', 'a', 'década', 'de', '1980', ',', 'a', 'maioria', 'dos', 'sistemas', 'de', 'PLN', 'se', 'baseava', 'em', 'conjuntos', 'complexos', 'de', 'regras', 'manuscritas', '.', 'A', 'partir', 'do', 'final', 'dos', 'anos', '1980', ',', 'no', 'entanto', ',', 'houve', 'uma', 'revolução', 'no', 'PLN', 'com', 'a', 'introdução', 'de', 'algoritmos', 'de', 'aprendizagem', 'automática', '(', 'aprendizado', 'de', 'máquina', ')', 'para', 'o', 'processamento', 'de', 'linguagem', '.', 'Isto', 'foi', 'devido', 'tanto', 'ao', 'aumento', 'constante', 'do', 'poder', 'computacional', '(', 'ver', 'Lei', 'de', 'Moore', ')', 'quanto', 'à', 'diminuição', 'gradual', 'da', 'dominância', 'das', 'teorias', 'da', 'linguística', 'chomskyanas', '(', 'como', 'a', 'gramática', 'gerativa', ')', ',', 'cujos', 'fundamentos', 'teóricos', 'desestimularam', 'o', 'tipo', 'de', 'corpus', 'linguístico', 'que', 'está', 'subjacente', 'à', 'abordagem', 'da', 'aprendizagem', 'automática', 'ao', 'processamento', 'da', 'linguagem', '.', 'Alguns', 'dos', 'algoritmos', 'de', 'aprendizado', 'de', 'máquinas', 'mais', 'antigos', ',', 'como', 'as', 'árvores', 'de', 'decisão', ',', 'produziam', 'sistemas', 'de', 'regras', 'rígidas', 'então', 'semelhantes', 'às', 'regras', 'existentes', 'na', 'escritas', 'à', 'mão', '.', 'No', 'entanto', ',', 'a', 'marcação', 'de', 'partes', 'da', 'fala', '(', 'part-of-speech', 'tagging', ')', 'introduziu', 'o', 'uso', 'de', 'modelos', 'ocultos', 'de', 'Markov', 'para', 'o', 'PLN', 'e', ',', 'cada', 'vez', 'mais', ',', 'a', 'pesquisa', 'se', 'concentrava', 'em', 'modelos', 'estatísticos', ',', 'que', 'tomam', 'decisões', 'suaves', 'e', 'probabilísticas', 'baseadas', 'na', 'atribuição', 'de', 'pesos', 'reais', 'aos', 'recursos', 'que', 'compõem', 'dados', 'de', 'entrada', '.', 'Os', 'modelos', 'de', 'linguagem', 'de', 'cache', ',', 'sobre', 'os', 'quais', 'muitos', 'sistemas', 'de', 'reconhecimento', 'de', 'fala', 'agora', 'dependem', ',', 'são', 'exemplos', 'de', 'tais', 'modelos', 'estatísticos', '.', 'Esses', 'modelos', 'são', 'geralmente', 'mais', 'robustos', 'quando', 'dados', 'informações', 'desconhecidas', ',', 'especialmente', 'entrada', 'que', 'contém', 'erros', '(', 'como', 'é', 'muito', 'comum', 'para', 'dados', 'do', 'mundo', 'real', ')', 'e', 'produzem', 'resultados', 'mais', 'confiáveis', 'quando', 'integrados', 'em', 'sistemas', 'maiores', 'que', 'compreendem', 'múltiplas', 'tarefas', '.', 'Muitos', 'dos', 'sucessos', 'iniciais', 'notáveis', 'ocorreram', 'no', 'campo', 'da', 'tradução', 'automática', ',', 'devido', 'especialmente', 'ao', 'trabalho', 'de', 'pesquisa', 'da', 'IBM', ',', 'que', 'desenvolveu', 'modelos', 'estatísticos', 'mais', 'elaborados', '.', 'Estes', 'sistemas', 'foram', 'capazes', 'de', 'tirar', 'proveito', 'de', 'corpora', 'textuais', 'multilíngues', 'existentes', 'produzidos', 'pelo', 'Parlamento', 'do', 'Canadá', 'e', 'a', 'União', 'Europeia', 'como', 'resultado', 'de', 'leis', 'que', 'exigem', 'a', 'tradução', 'de', 'todos', 'os', 'processos', 'governamentais', 'em', 'todas', 'as', 'línguas', 'oficiais', 'dos', 'países', '.', 'No', 'entanto', ',', 'a', 'maioria', 'dos', 'sistemas', 'dependia', 'de', 'corpora', 'desenvolvido', 'especificamente', 'para', 'tarefas', 'implementadas', 'por', 'esses', 'sistemas', ',', 'o', 'que', 'era', '(', 'e', 'muitas', 'vezes', 'continua', 'sendo', ')', 'uma', 'grande', 'limitação', 'no', 'sucesso', 'dos', 'mesmo', '.', 'Como', 'resultado', ',', 'uma', 'grande', 'quantidade', 'de', 'pesquisa', 'passou', 'de', 'quantidades', 'de', 'dados', 'limitadas', 'a', 'métodos', 'de', 'aprendizagem', 'mais', 'eficazes', '.', 'Pesquisas', 'recentes', 'têm', 'se', 'concentrado', 'cada', 'vez', 'mais', 'em', 'algoritmos', 'de', 'aprendizagem', 'semi-supervisionados', 'e', 'sem', 'supervisão', '.', 'Esses', 'algoritmos', 'são', 'capazes', 'de', 'aprender', 'com', 'dados', 'que', 'não', 'foram', 'anotados', 'manualmente', 'com', 'as', 'respostas', 'desejadas', 'ou', 'usando', 'uma', 'combinação', 'de', 'dados', 'anotados', 'e', 'não', 'anotados', '.', 'Geralmente', ',', 'esta', 'tarefa', 'é', 'muito', 'mais', 'trabalhosa', 'do', 'que', 'a', 'aprendizagem', 'supervisionada', 'e', 'normalmente', 'produz', 'resultados', 'menos', 'precisos', 'para', 'uma', 'quantidade', 'específica', 'de', 'dados', 'de', 'entrada', '.', 'No', 'entanto', ',', 'há', 'uma', 'enorme', 'quantidade', 'de', 'dados', 'não', 'anotados', 'disponíveis', '(', 'incluindo', ',', 'entre', 'outras', 'coisas', ',', 'todo', 'o', 'conteúdo', 'da', 'World', 'Wide', 'Web', ')', ',', 'que', 'muitas', 'vezes', 'pode', 'compensar', 'os', 'resultados', 'inferiores', '.', '==', 'Usando', 'a', 'aprendizagem', 'automática', '(', 'aprendizado', 'de', 'máquina', ')', '==', 'Os', 'algoritmos', 'modernos', 'de', 'PLN', 'baseiam-se', 'na', 'aprendizagem', 'mecânica', ',', 'especialmente', 'na', 'aprendizagem', 'de', 'máquinas', 'estatísticas', '.', 'O', 'paradigma', 'da', 'aprendizagem', 'mecânica', 'é', 'diferente', 'do', 'da', 'maioria', 'das', 'tentativas', 'anteriores', 'de', 'processamento', 'da', 'linguagem', '.', 'Anteriormente', ',', 'implementações', 'de', 'tarefas', 'de', 'processamento', 'de', 'linguagem', 'envolviam', 'a', 'codificação', 'direta', 'de', 'grandes', 'conjuntos', 'de', 'regras', '.', 'O', 'paradigma', 'da', 'aprendizagem', 'automática', '(', 'ou', 'aprendizagem', 'automática', ')', 'induz', 'a', 'aprendizagem', 'automática', 'de', 'regras', 'através', 'de', 'análises', 'de', 'corpora', 'de', 'exemplos', 'típicos', 'do', 'mundo', 'real', 'ao', 'invés', 'de', 'usar', 'algoritmos', 'gerais', 'de', 'aprendizagem', '(', 'muitas', 'vezes', ',', 'embora', 'nem', 'sempre', ',', 'baseados', 'em', 'inferência', 'estatística', ')', '.', 'Um', 'corpus', '(', 'plural', '``', 'corpora', \"''\", ')', 'é', 'um', 'conjunto', 'de', 'documentos', '(', 'ou', 'frases', 'individuais', ')', 'que', 'foram', 'anotados', 'à', 'mão', 'com', 'os', 'valores', 'corretos', 'a', 'serem', 'aprendidos', '.', 'Muitas', 'classes', 'diferentes', 'de', 'algoritmos', 'de', 'aprendizado', 'de', 'máquina', 'foram', 'aplicadas', 'a', 'tarefas', 'de', 'PLN', '.', 'Esses', 'algoritmos', 'tomam', 'como', 'entrada', 'um', 'grande', 'conjunto', 'de', '``', 'recursos', \"''\", 'que', 'são', 'gerados', 'a', 'partir', 'de', 'dados', 'de', 'entrada', '.', 'Alguns', 'dos', 'algoritmos', 'mais', 'usados', ',', 'como', 'árvores', 'de', 'decisão', ',', 'produziam', 'sistemas', 'de', 'regras', 'rígidas', 'semelhantes', 'aos', 'sistemas', 'de', 'regras', 'manuscritas', 'mais', 'comuns', '.', 'No', 'entanto', ',', 'cada', 'vez', 'mais', ',', 'a', 'pesquisa', 'tem', 'se', 'concentrado', 'em', 'modelos', 'estatísticos', ',', 'que', 'tomam', 'decisões', 'flexíveis', 'e', 'probabilísticas', 'baseadas', 'em', 'agregar', 'pesos', 'reais', 'a', 'cada', 'característica', 'de', 'entrada', '.', 'Tais', 'modelos', 'têm', 'a', 'vantagem', 'de', 'poder', 'expressar', 'a', 'certeza', 'relativa', 'de', 'muitas', 'respostas', 'possíveis', 'diferentes', 'em', 'vez', 'de', 'apenas', 'uma', ',', 'produzindo', 'resultados', 'mais', 'confiáveis', 'quando', 'esse', 'modelo', 'é', 'incluído', 'como', 'um', 'componente', 'de', 'um', 'sistema', 'maior', '.', 'Os', 'sistemas', 'baseados', 'em', 'algoritmos', 'de', 'aprendizagem', 'mecânica', 'têm', 'muitas', 'vantagens', 'em', 'relação', 'às', 'regras', 'produzidas', 'manualmente', ':', 'Os', 'procedimentos', 'de', 'aprendizagem', 'usados', 'durante', 'a', 'aprendizagem', 'da', 'máquina', 'focam-se', 'automaticamente', 'nos', 'casos', 'mais', 'comuns', ',', 'ao', 'passo', 'que', 'quando', 'se', 'escrevem', 'regras', 'à', 'mão', ',', 'não', 'é', 'óbvio', 'em', 'que', 'sentido', 'o', 'esforço', 'deve', 'ser', 'dirigido', '.', 'Os', 'procedimentos', 'de', 'aprendizagem', 'automática', 'podem', 'fazer', 'uso', 'de', 'algoritmos', 'de', 'inferência', 'estatística', 'para', 'produzir', 'modelos', 'que', 'são', 'robustos', 'a', 'entradas', 'não', 'familiares', '(', 'por', 'exemplo', ',', 'contendo', 'palavras', 'ou', 'estruturas', 'que', 'não', 'foram', 'vistas', 'antes', ')', 'e', 'a', 'entradas', 'errôneas', '(', 'por', 'exemplo', ',', 'com', 'palavras', 'ou', 'palavras', 'incorretamente', 'omitidas', ')', '.', 'Geralmente', ',', 'lidar', 'com', 'essas', 'entradas', 'de', 'forma', 'com', 'regras', 'manuscritas', 'ou', 'sistemas', 'de', 'regras', 'manuscritas', 'que', 'tomam', 'decisões', 'suaves', 'é', 'extremamente', 'trabalhoso', ',', 'propenso', 'a', 'erros', 'e', 'demorado', '.', 'Sistemas', 'baseados', 'em', 'aprender', 'automaticamente', 'as', 'regras', 'podem', 'ser', 'mais', 'precisos', 'simplesmente', 'fornecendo', 'mais', 'dados', 'de', 'entrada', '.', 'No', 'entanto', ',', 'os', 'sistemas', 'baseados', 'em', 'regras', 'escritas', 'à', 'mão', 'só', 'podem', 'ser', 'tornados', 'mais', 'precisos', 'aumentando', 'a', 'complexidade', 'das', 'regras', ',', 'o', 'que', 'é', 'uma', 'tarefa', 'muito', 'mais', 'difícil', '.', 'Em', 'particular', ',', 'há', 'um', 'limite', 'para', 'a', 'complexidade', 'de', 'sistemas', 'baseados', 'em', 'regras', 'artesanais', ',', 'para', 'além', 'dos', 'quais', 'os', 'sistemas', 'se', 'tornam', 'cada', 'vez', 'mais', 'incontroláveis', '.', 'No', 'entanto', ',', 'a', 'criação', 'de', 'mais', 'dados', 'para', 'entrada', 'em', 'sistemas', 'de', 'aprendizado', 'de', 'máquina', 'requer', 'simplesmente', 'um', 'aumento', 'correspondente', 'no', 'número', 'de', 'horas', 'trabalhadas', 'por', 'humanos', ',', 'geralmente', 'sem', 'aumentos', 'significativos', 'na', 'complexidade', 'do', 'processo', 'de', 'anotação.O', 'subcampo', 'de', 'PLN', 'dedicado', 'a', 'abordagens', 'de', 'aprendizagem', 'é', 'conhecido', 'como', 'aprendizagem', 'de', 'língua', 'natural', '(', 'NLL', ')', 'e', 'sua', 'conferência', ',', 'a', 'CoNLL', ',', 'e', 'orgão', 'central', ',', 'o', 'SIGNLL', ',', 'são', 'patrocinados', 'pela', 'ACL', ',', 'reconhecendo', 'também', 'as', 'suas', 'ligações', 'com', 'linguística', 'computacional', 'e', 'aquisição', 'de', 'linguagem', '.', 'Quando', 'o', 'objetivo', 'da', 'pesquisa', 'de', 'aprendizagem', 'de', 'linguagem', 'computacional', 'é', 'entender', 'mais', 'sobre', 'aquisição', 'de', 'linguagem', 'humana', ',', 'ou', 'psicolinguística', ',', 'a', 'NLL', 'sobrepõe-se', 'no', 'campo', 'relacionado', 'de', 'psicolinguística', 'computacional', '.', '==', 'Aplicações', 'principais', '==', 'A', 'listagem', 'a', 'seguir', 'traz', 'alguns', 'dos', 'trabalhos', 'mais', 'pesquisadas', 'em', 'PLN', '.', 'Note', 'que', 'alguns', 'deles', 'têm', 'aplicações', 'no', 'mundo', 'real', ',', 'enquanto', 'outras', 'servem', 'mais', 'frequentemente', 'como', 'tarefas', 'secundárias', 'que', 'são', 'usadas', 'para', 'auxiliar', 'na', 'resolução', 'de', 'tarefas', 'maiores', '.', 'O', 'que', 'distingue', 'essas', 'tarefas', 'de', 'outras', 'tarefas', 'potenciais', 'e', 'reais', 'de', 'PLN', 'não', 'é', 'apenas', 'o', 'volume', 'de', 'pesquisa', 'dedicado', 'a', 'elas', ',', 'mas', 'o', 'fato', 'de', 'que', 'para', 'cada', 'uma', 'há', 'tipicamente', 'uma', 'definição', 'de', 'problema', 'bem', 'especificada', ',', 'uma', 'métrica', 'padrão', 'para', 'avaliar', 'a', 'tarefa', ',', 'corpora', 'padrão', 'em', 'que', 'a', 'tarefa', 'pode', 'ser', 'avaliada', 'e', 'as', 'competições', 'dedicadas', 'à', 'tarefa', 'específica', '.', 'Sumarização', 'automática', 'Produz', 'um', 'resumo', 'legível', 'de', 'uma', 'parte', 'do', 'texto', '.', 'Muitas', 'vezes', 'usado', 'para', 'fornecer', 'resumos', 'de', 'texto', 'de', 'um', 'tipo', 'conhecido', ',', 'como', 'artigos', 'na', 'seção', 'financeira', 'de', 'um', 'jornal.Resolução', 'de', 'correferência', 'Dada', 'uma', 'frase', 'ou', 'um', 'pedaço', 'maior', 'de', 'texto', ',', 'determina', 'quais', 'palavras', '(', '``', 'menções', \"''\", ')', 'se', 'referem', 'aos', 'mesmos', 'objetos', '(', '``', 'entidades', \"''\", ')', '.', 'A', 'resolução', 'da', 'anáfora', 'é', 'um', 'exemplo', 'específico', 'dessa', 'tarefa', 'e', 'está', 'especificamente', 'preocupada', 'em', 'combinar', 'os', 'pronomes', 'com', 'os', 'substantivos', 'ou', 'nomes', 'aos', 'quais', 'eles', 'se', 'referem', '.', 'A', 'tarefa', 'mais', 'geral', 'da', 'resolução', 'de', 'correferência', 'também', 'inclui', 'a', 'identificação', 'dos', 'chamados', '``', 'relacionamentos', 'de', 'ponte', \"''\", 'envolvendo', 'expressões', 'de', 'referência', '.', 'Por', 'exemplo', ',', 'numa', 'frase', 'como', '``', 'Ele', 'entrou', 'na', 'casa', 'de', 'João', 'pela', 'porta', 'da', 'frente', \"''\", ',', '``', 'a', 'porta', 'da', 'frente', \"''\", 'é', 'uma', 'expressão', 'de', 'referência', 'e', 'a', 'relação', 'da', 'ponte', 'a', 'ser', 'identificada', 'é', 'o', 'fato', 'de', 'que', 'a', 'porta', 'a', 'ser', 'referida', 'é', 'a', 'porta', 'da', 'frente', 'de', 'John', \"'s\", '(', 'ao', 'invés', 'de', 'alguma', 'outra', 'estrutura', 'que', 'também', 'pode', 'ser', 'referida', ')', '.Análise', 'do', 'Discurso', 'Esta', 'rubrica', 'inclui', 'uma', 'série', 'de', 'tarefas', 'relacionadas', '.', 'Uma', 'tarefa', 'é', 'identificar', 'a', 'estrutura', 'discursiva', 'do', 'texto', 'conectado', ',', 'isto', 'é', ',', 'a', 'natureza', 'das', 'relações', 'discursivas', 'entre', 'sentenças', '(', 'por', 'exemplo', ',', 'elaboração', ',', 'explicação', ',', 'contraste', ')', '.', 'Outra', 'possível', 'tarefa', 'é', 'reconhecer', 'e', 'classificar', 'os', 'atos', 'de', 'fala', 'em', 'um', 'pedaço', 'de', 'texto', '(', 'por', 'exemplo', ',', 'pergunta', 'sim-não', ',', 'pergunta', 'de', 'conteúdo', ',', 'frase', ',', 'afirmação', ',', 'etc', ')', '.Maquina', 'de', 'tradução', 'Traduzir', 'automaticamente', 'texto', 'de', 'uma', 'linguagem', 'humana', 'para', 'outra', '.', 'Este', 'é', 'uma', 'das', 'tarefas', 'mais', 'difíceis', 'e', 'faz', 'parte', 'de', 'um', 'tipo', 'de', 'problemas', 'conhecidos', 'como', '``', 'AI-complete', \"''\", ',', 'ou', 'seja', ',', 'exigindo', 'todos', 'os', 'diferentes', 'tipos', 'de', 'conhecimento', 'que', 'os', 'humanos', 'possuem', '(', 'gramática', ',', 'semântica', ',', 'fatos', 'sobre', 'o', 'mundo', 'real', ',', 'etc', ')', 'para', 'resolvê-lo', 'adequadamente.Segmentação', 'morfológica', 'Separa', 'palavras', 'em', 'morfemas', 'individuais', 'e', 'identifica', 'classes', 'de', 'morfemas', '.', 'A', 'dificuldade', 'desta', 'tarefa', 'depende', 'muito', 'da', 'complexidade', 'da', 'morfologia', '(', 'isto', 'é', ',', 'da', 'estrutura', 'das', 'palavras', ')', 'da', 'linguagem', 'que', 'está', 'sendo', 'considerada', '.', 'O', 'inglês', 'possui', 'uma', 'morfologia', 'bastante', 'simples', ',', 'especialmente', 'a', 'morfologia', 'flexional', ',', 'e', 'portanto', 'é', 'possível', 'ignorar', 'esta', 'tarefa', 'inteiramente', 'e', 'simplesmente', 'modelar', 'todas', 'as', 'formas', 'possíveis', 'de', 'uma', 'palavra', '(', 'por', 'exemplo', ',', '``', 'open', ',', 'opens', ',', 'opened', ',', 'opening', \"''\", ')', 'como', 'palavras', 'separadas', '.', 'Em', 'línguas', 'como', 'o', 'turco', 'ou', 'o', 'Meitei', ',', 'uma', 'língua', 'indiana', 'fortemente', 'aglutinada', ',', 'no', 'entanto', ',', 'tal', 'abordagem', 'não', 'é', 'possível', ',', 'uma', 'vez', 'que', 'cada', 'entrada', 'do', 'dicionário', 'tem', 'milhares', 'de', 'formas', 'de', 'palavras', 'possíveis.Reconhecimento', 'de', 'entidade', 'nomeada', '(', 'NER', ')', 'Dado', 'um', 'fluxo', 'de', 'texto', ',', 'determina', 'quais', 'são', 'itens', 'no', 'mapa', 'de', 'texto', 'para', 'nomes', 'próprios', ',', 'como', 'pessoas', 'ou', 'locais', 'e', 'qual', 'é', 'o', 'tipo', 'de', 'cada', 'nome', '(', 'por', 'exemplo', ',', 'pessoa', ',', 'local', ',', 'organização', ')', '.', 'Embora', 'a', 'capitalização', 'possa', 'ajudar', 'a', 'reconhecer', 'entidades', 'nomeadas', 'em', 'idiomas', 'como', 'o', 'inglês', ',', 'essas', 'informações', 'podem', 'não', 'ajudar', 'a', 'determinar', 'o', 'tipo', 'de', 'entidade', 'nomeada', 'e', ',', 'em', 'alguns', 'casos', ',', 'sãos', 'imprecisas', 'ou', 'insuficientes', '.', 'Por', 'exemplo', ',', 'a', 'primeira', 'palavra', 'de', 'uma', 'frase', 'também', 'é', 'capitalizada', 'e', 'as', 'entidades', 'nomeadas', 'muitas', 'vezes', 'abrangem', 'várias', 'palavras', ',', 'com', 'apenas', 'algumas', 'delas', 'são', 'capitalizadas', '.', 'Além', 'disso', ',', 'muitas', 'outras', 'linguagens', 'em', 'scripts', 'não-ocidentais', '(', 'por', 'exemplo', ',', 'chinês', 'ou', 'árabe', ')', 'não', 'têm', 'nenhuma', 'capitalização', 'e', 'mesmo', 'as', 'línguas', 'com', 'maiúsculas', 'podem', 'não', 'distinguir', 'nomes', '.', 'Por', 'exemplo', ',', 'o', 'alemão', 'capitaliza', 'todos', 'os', 'substantivos', ',', 'independentemente', 'de', 'se', 'referirem', 'a', 'nomes', ',', 'e', 'o', 'francês', 'e', 'o', 'espanhol', 'não', 'capitalizam', 'nomes', 'que', 'servem', 'como', 'adjetivos.Geração', 'de', 'língua', 'natural', 'Converte', 'informações', 'de', 'bancos', 'de', 'dados', 'de', 'computador', 'ou', 'intenções', 'semânticas', 'em', 'linguagem', 'humana', 'legível.Compreensão', 'da', 'língua', 'natural', 'Converte', 'pedaços', 'de', 'texto', 'em', 'representações', 'mais', 'formais', ',', 'como', 'estruturas', 'de', 'lógica', 'de', 'primeira', 'ordem', ',', 'que', 'são', 'mais', 'fáceis', 'de', 'manipular', 'pelos', 'programas', 'de', 'computador', '.', 'A', 'compreensão', 'da', 'língua', 'natural', 'envolve', 'a', 'identificação', 'da', 'semântica', 'pretendida', 'a', 'partir', 'da', 'múltipla', 'semântica', 'possível', 'que', 'pode', 'ser', 'derivada', 'de', 'uma', 'expressão', 'de', 'língua', 'natural', 'que', 'geralmente', 'toma', 'a', 'forma', 'de', 'notação', 'organizada', 'de', 'conceitos', 'de', 'linguagens', 'naturais', '.', 'Entretanto', ',', 'introdução', 'e', 'criação', 'de', 'linguagem', 'metamodelo', 'e', 'ontologia', 'são', 'eficientes', 'soluções', 'empíricas', '.', 'Uma', 'formalização', 'explícita', 'da', 'semântica', 'de', 'línguas', 'naturais', 'sem', 'confusões', 'com', 'suposições', 'implícitas', 'como', 'closed-world', 'assumption', '(', 'CWA', ')', 'versus', 'open-world', 'assumption', 'ou', 'subjetiva', 'Sim', '/', 'Não', 'versus', 'objetivo', 'Verdadeiro', '/', 'Falso', 'é', 'esperada', 'para', 'a', 'construção', 'de', 'uma', 'base', 'de', 'formalização', 'semântica.Reconhecimento', 'óptico', 'de', 'caracteres', '(', 'OCR', ')', 'Dada', 'uma', 'imagem', 'que', 'representa', 'o', 'texto', 'impresso', ',', 'determina', 'o', 'texto', 'correspondente.Marcação', 'de', 'classe', 'gramatical', 'Dada', 'uma', 'sentença', ',', 'determina', 'a', 'classe', 'gramatical', 'de', 'cada', 'palavra', '.', 'Muitas', 'palavras', ',', 'especialmente', 'as', 'comuns', ',', 'podem', 'servir', 'como', 'múltiplas', 'partes', 'do', 'discurso', '.', 'Em', 'inglês', ',', 'por', 'exemplo', ',', '``', 'book', \"''\", 'pode', 'ser', 'um', 'substantivo', '(', '``', 'the', 'book', 'on', 'the', 'table', \"''\", ')', 'ou', 'verbo', '(', '``', 'book', 'a', 'flight', \"''\", ')', ';', '``', 'Set', \"''\", 'pode', 'ser', 'um', 'substantivo', ',', 'verbo', 'ou', 'adjetivo', ';', 'E', '``', 'out', \"''\", 'pode', 'ser', 'qualquer', 'um', 'de', 'pelo', 'menos', 'cinco', 'diferentes', 'partes', 'da', 'fala', '.', 'Algumas', 'línguas', 'têm', 'mais', 'ambiguidade', 'do', 'que', 'outras', '.', 'As', 'línguas', 'com', 'pouca', 'morfologia', 'flexional', ',', 'como', 'o', 'inglês', ',', 'são', 'particularmente', 'propensas', 'a', 'tal', 'ambiguidade', '.', 'O', 'chinês', 'é', 'propenso', 'a', 'tal', 'ambiguidade', 'porque', 'é', 'uma', 'língua', 'tonal', 'durante', 'a', 'verbalização', '.', 'Tal', 'inflexão', 'não', 'é', 'facilmente', 'transmitida', 'através', 'das', 'entidades', 'empregadas', 'dentro', 'da', 'ortografia', 'para', 'transmitir', 'o', 'significado', 'pretendido.Análise', 'sintática', '(', 'Parsing', ')', 'Determina', 'a', 'árvore', 'de', 'análise', '(', 'análise', 'gramatical', ')', 'de', 'uma', 'frase', '.', 'A', 'gramática', 'para', 'as', 'linguagens', 'naturais', 'é', 'ambígua', 'e', 'frases', 'típicas', 'têm', 'múltiplas', 'análises', 'possíveis', '.', 'Na', 'verdade', ',', 'surpreendentemente', ',', 'para', 'uma', 'frase', 'típica', 'pode', 'haver', 'milhares', 'de', 'análises', 'em', 'potencial', '(', 'a', 'maioria', 'dos', 'quais', 'parecerá', 'completamente', 'absurda', 'para', 'um', 'ser', 'humano', ')', '.Respostas', 'a', 'perguntas', 'Dada', 'uma', 'questão', 'de', 'linguagem', 'humana', ',', 'determina', 'sua', 'resposta', '.', 'As', 'perguntas', 'típicas', 'têm', 'uma', 'resposta', 'correta', 'específica', '(', 'como', '``', 'Qual', 'é', 'o', 'capital', 'do', 'Canadá', '?', '``', ')', ',', 'mas', 'às', 'vezes', 'perguntas', 'abertas', 'também', 'são', 'consideradas', '(', 'como', '``', 'Qual', 'é', 'o', 'significado', 'da', 'vida', '?', \"''\", ')', '.', 'Trabalhos', 'recentes', 'têm', 'analisado', 'questões', 'ainda', 'mais', 'complexas.Extração', 'de', 'relacionamento', 'Identifica', 'as', 'relações', 'entre', 'entidades', 'nomeadas', '(', 'por', 'exemplo', ',', 'quem', 'é', 'casado', 'com', 'quem', ')', 'com', 'base', 'em', 'textos.Quebra', 'de', 'frases', '(', 'sentence', 'boundary', 'disambiguation', ')', 'Encontra', 'os', 'limites', 'da', 'frase', 'em', 'um', 'pedaço', 'de', 'texto', '.', 'Os', 'limites', 'de', 'frases', 'são', 'normalmente', 'marcadas', 'por', 'pontos', 'ou', 'outros', 'sinais', 'de', 'pontuação', ',', 'mas', 'esses', 'mesmos', 'caracteres', 'podem', 'servir', 'outros', 'propósitos.Análise', 'de', 'subjetividade', '(', 'sentiment', 'analysis', 'ou', 'opinion', 'mining', ')', 'Extrai', 'informações', 'subjetivas', 'geralmente', 'de', 'um', 'conjunto', 'de', 'documentos', ',', 'muitas', 'vezes', 'usando', 'revisões', 'online', 'para', 'determinar', 'a', '``', 'polaridade', \"''\", 'sobre', 'objetos', 'específicos', '.', 'É', 'especialmente', 'útil', 'para', 'identificar', 'tendências', 'da', 'opinião', 'pública', 'nas', 'mídias', 'sociais', ',', 'para', 'fins', 'de', 'marketing.Reconhecimento', 'de', 'fala', 'Dado', 'um', 'clipe', 'de', 'som', 'de', 'uma', 'pessoa', 'ou', 'pessoas', 'falando', ',', 'determina', 'a', 'representação', 'textual', 'do', 'discurso', '.', 'É', 'o', 'oposto', 'da', 'síntese', 'de', 'fala', 'e', 'é', 'uma', 'das', 'áreas', 'mais', 'difíceis', ',', 'conhecida', 'como', '``', 'AI-complete', \"''\", '.', 'Na', 'fala', 'natural', 'quase', 'não', 'há', 'pausas', 'entre', 'palavras', 'sucessivas', ',', 'por', 'isso', 'a', 'segmentação', 'de', 'fala', 'é', 'uma', 'subtarefa', 'necessária', 'de', 'reconhecimento', 'de', 'fala', '.', 'Nota-se', 'também', 'que', ',', 'na', 'maioria', 'das', 'linguagens', 'faladas', ',', 'os', 'sons', 'que', 'representam', 'letras', 'sucessivas', 'se', 'misturam', 'entre', 'si', 'em', 'um', 'processo', 'denominado', 'coarticulação', ',', 'de', 'modo', 'que', 'a', 'conversão', 'do', 'sinal', 'analógico', 'em', 'caracteres', 'discretos', 'pode', 'ser', 'um', 'processo', 'muito', 'difícil', 'de', 'ser', 'realizado.Segmentação', 'de', 'fala', 'Dado', 'um', 'clipe', 'de', 'som', 'de', 'uma', 'pessoa', 'ou', 'pessoas', 'falando', ',', 'separa-o', 'em', 'palavras', '.', 'Uma', 'subaplicação', 'de', 'reconhecimento', 'de', 'fala', 'e', 'normalmente', 'agrupada', 'com', 'ele.Análise', 'morfológica', 'e', 'reconhecimento', 'de', 'tópicos', 'Dado', 'um', 'pedaço', 'de', 'texto', ',', 'separa-o', 'em', 'segmentos', 'cada', 'um', 'dos', 'quais', 'é', 'dedicado', 'a', 'um', 'tópico', 'e', 'identifica', 'o', 'tópico', 'do', 'segmento.Análise', 'morfológica', 'e', 'segmentação', 'de', 'palavras', 'Separa', 'um', 'pedaço', 'de', 'texto', 'contínuo', 'em', 'palavras', 'separadas', '.', 'Para', 'uma', 'língua', 'como', 'o', 'inglês', ',', 'isso', 'é', 'bastante', 'trivial', ',', 'uma', 'vez', 'que', 'as', 'palavras', 'são', 'normalmente', 'separadas', 'por', 'espaços', '.', 'No', 'entanto', ',', 'algumas', 'línguas', 'escritas', 'como', 'chinês', ',', 'japonês', 'e', 'tailandês', 'não', 'marcam', 'limites', 'de', 'palavras', 'de', 'tal', 'forma', ',', 'e', 'nessas', 'línguas', 'segmentação', 'de', 'texto', 'é', 'uma', 'tarefa', 'significativa', 'que', 'requer', 'conhecimento', 'do', 'vocabulário', 'e', 'morfologia', 'das', 'palavras', 'na', 'língua.Desambiguação', 'Muitas', 'palavras', 'têm', 'mais', 'de', 'um', 'significado', ',', 'assim', 'temos', 'que', 'selecionar', 'o', 'significado', 'que', 'faz', 'mais', 'sentido', 'no', 'contexto', '.', 'Para', 'este', 'problema', ',', 'em', 'geral', 'é', 'dada', 'uma', 'lista', 'de', 'palavras', 'e', 'sentidos', 'de', 'palavras', 'associadas', 'de', 'um', 'dicionário', 'ou', 'recurso', 'online', ',', 'como', 'o', 'WordNet', '.', 'Em', 'alguns', 'casos', ',', 'conjuntos', 'de', 'tarefas', 'relacionadas', 'são', 'agrupados', 'em', 'subcampos', 'de', 'PLN', 'que', 'são', 'frequentemente', 'considerados', 'separadamente', 'da', 'PLN', 'como', 'um', 'todo', ',', 'como', 'os', 'exemplos', 'à', 'seguir', ':', 'Recuperação', 'de', 'informação', '(', 'IR', ')', 'Trata-se', 'de', 'armazenar', ',', 'pesquisar', 'e', 'recuperar', 'informações', '.', 'É', 'um', 'campo', 'separado', 'dentro', 'da', 'ciência', 'da', 'computação', '(', 'mais', 'perto', 'de', 'bancos', 'de', 'dados', ')', ',', 'mas', 'a', 'IR', 'se', 'baseia', 'em', 'alguns', 'métodos', 'PLN', '(', 'por', 'exemplo', ',', 'stemming', ')', '.', 'Algumas', 'pesquisas', 'e', 'aplicações', 'atuais', 'procuram', 'preencher', 'a', 'lacuna', 'entre', 'IR', 'e', 'PLN.Extração', 'de', 'informação', '(', 'IE', ')', 'Trata-se', ',', 'em', 'geral', ',', 'da', 'extração', 'de', 'informação', 'semântica', 'a', 'partir', 'do', 'texto', '.', 'Abrange', 'tarefas', 'como', 'reconhecimento', 'de', 'entidade', 'mencionada', ',', 'resolução', 'de', 'correferência', 'e', 'de', 'relacionamento', 'de', 'extração', ',', 'etc', '.', 'Processamento', 'de', 'voz', 'Abrange', 'reconhecimento', 'de', 'fala', ',', 'síntese', 'de', 'fala', 'e', 'tarefas', 'relacionadas', '.', 'Outras', 'tarefas', 'incluem', ':', 'Identificação', 'na', 'língua', 'materna', 'Stemização', 'Simplificação', 'do', 'texto', 'Síntese', 'de', 'fala', 'Revisão', 'de', 'texto', 'Pesquisa', 'em', 'língua', 'natural', 'Expansão', 'da', 'consulta', 'Pontuação', 'de', 'ensaio', 'automatizado', 'Truecasing', '==', 'Estatística', '==', 'Artigo', 'principal', ':', 'Gramática', 'estocástica', 'O', 'processamento', 'estatístico', 'em', 'língua', 'natural', 'utiliza', 'métodos', 'estocásticos', ',', 'probabilísticos', 'e', 'estatísticos', 'para', 'resolver', 'algumas', 'das', 'dificuldades', 'discutidas', 'acima', ',', 'especialmente', 'aquelas', 'que', 'surgem', 'porque', 'frases', 'mais', 'longas', 'são', 'muito', 'ambíguas', 'quando', 'processadas', 'com', 'gramáticas', 'realistas', ',', 'produzindo', 'milhares', 'ou', 'milhões', 'de', 'análises', 'possíveis', '.', 'Métodos', 'de', 'desambiguação', 'envolvem', 'muitas', 'vezes', 'o', 'uso', 'de', 'corpora', 'e', 'modelos', 'de', 'Markov', '.', 'O', 'projeto', 'ESPRIT', 'P26', '(', '1984-1988', ')', ',', 'liderado', 'pelo', 'CSELT', ',', 'explorou', 'o', 'problema', 'do', 'reconhecimento', 'de', 'fala', 'comparando', 'abordagem', 'baseada', 'em', 'conhecimento', 'e', 'estatística', ':', 'o', 'resultado', 'escolhido', 'foi', 'um', 'modelo', 'completamente', 'estatístico', '.', 'Um', 'dos', 'primeiros', 'modelos', 'de', 'compreensão', 'estatística', 'da', 'língua', 'natural', 'foi', 'introduzido', 'em', '1991', 'por', 'Roberto', 'Pieraccini', ',', 'Esther', 'Levin', 'e', 'Chin-Hui', 'Lee', ',', 'da', 'Bell', 'Laboratories', ']', '.', 'O', 'PLN', 'compreende', 'todas', 'as', 'abordagens', 'quantitativas', 'para', 'processamento', 'automatizado', 'de', 'linguagem', ',', 'incluindo', 'modelagem', 'probabilística', ',', 'teoria', 'da', 'informação', 'e', 'álgebra', 'linear', '.', 'A', 'tecnologia', 'para', 'o', 'PLN', 'estatístico', 'vem', 'principalmente', 'da', 'aprendizagem', 'automática', 'e', 'da', 'mineração', 'de', 'dados', ',', 'que', 'são', 'campos', 'de', 'inteligência', 'artificial', 'que', 'envolvem', 'o', 'aprendizado', 'a', 'partir', 'de', 'dados', '.', '==', 'Avaliação', '==', 'O', 'objetivo', 'da', 'avaliação', 'do', 'PLN', 'é', 'uma', 'medida', 'de', 'uma', 'ou', 'mais', 'qualidades', 'de', 'um', 'algoritmo', 'ou', 'de', 'um', 'sistema', 'a', 'fim', 'de', 'determinar', 'se', 'o', 'algoritmo', 'atende', 'às', 'metas', 'dos', 'projetistas', 'ou', 'o', 'sistema', 'de', 'atendimento', 'às', 'necessidades', 'de', 'seus', 'usuários', '.', 'Investigação', 'na', 'avaliação', 'PLN', 'tem', 'ganhado', 'atenção', ',', 'porque', 'a', 'definição', 'de', 'critérios', 'de', 'avaliação', 'é', 'uma', 'forma', 'de', 'especificar', 'precisamente', 'problemas', 'do', 'PLN', '.', 'Uma', 'métrica', 'de', 'avaliação', 'de', 'PLN', 'em', 'um', 'sistema', 'algorítmico', 'permite', 'a', 'integração', 'da', 'compreensão', 'de', 'linguagem', 'e', 'geração', 'de', 'linguagem', '.', 'Um', 'conjunto', 'preciso', 'de', 'critérios', 'de', 'avaliação', ',', 'que', 'pode', 'ser', 'aplicado', 'principalmente', 'a', 'avaliações', 'métricas', ',', 'podendo', 'permitir', 'que', 'várias', 'equipes', 'comparem', 'suas', 'soluções', 'para', 'um', 'determinado', 'problema', 'do', 'PLN', '.', '==', 'Cronologia', 'da', 'avaliação', '==', 'Em', '1983', ',', 'iniciou-se', 'o', 'Projecto', 'Esprit', 'P26', ',', 'que', 'avaliou', 'as', 'Tecnologias', 'da', 'Fala', '(', 'incluindo', 'tópicos', 'gerais', 'como', 'Sintaxe', 'e', 'Semântica', ')', 'comparando', 'as', 'abordagens', 'baseadas', 'em', 'regras', 'com', 'as', 'estatísticas', '.', 'Em', '1987', ',', 'a', 'primeira', 'campanha', 'de', 'avaliação', 'de', 'textos', 'escritos', 'parece', 'ser', 'uma', 'campanha', 'dedicada', 'à', 'compreensão', 'da', 'mensagem', '(', 'Pallet', ',', '1998', ')', '.', 'O', 'projeto', 'Parseval', '/', 'GEIG', 'comparou', 'gramáticas', 'de', 'frase-estrutura', '(', 'Black', '1991', ')', '.', 'Houve', 'uma', 'série', 'de', 'campanhas', 'no', 'projeto', 'Tipster', 'sobre', 'tarefas', 'como', 'resumo', ',', 'tradução', 'e', 'pesquisa', '(', 'Hirschman', '1998', ')', '.', 'Em', '1994', ',', 'na', 'Alemanha', ',', 'o', 'Morpholympics', 'comparou', 'marcadores', 'morfológicos', 'alemães', '.', 'As', 'campanhas', 'de', 'Senseval', '&', 'Romanseval', 'foram', 'realizadas', 'com', 'os', 'objetivos', 'de', 'desambiguação', 'semântica', '.', 'Em', '1996', ',', 'a', 'campanha', 'Sparkle', 'comparou', 'os', 'analisadores', 'sintáticos', 'em', 'quatro', 'idiomas', 'diferentes', '(', 'inglês', ',', 'francês', ',', 'alemão', 'e', 'italiano', ')', '.', 'Na', 'França', ',', 'o', 'projeto', 'Grace', 'comparou', 'um', 'conjunto', 'de', '21', 'marcadores', 'para', 'o', 'francês', 'em', '1997', '(', 'Adda', '1999', ')', '.', 'Em', '2004', ',', 'durante', 'o', 'projeto', 'Technolangue', '/', 'Easy', ',', 'foram', 'comparados', '13', 'analisadores', 'para', 'o', 'francês', '.', 'A', 'avaliação', 'em', 'larga', 'escala', 'dos', 'analisadores', 'de', 'dependência', 'foi', 'realizada', 'no', 'contexto', 'das', 'tarefas', 'compartilhadas', 'do', 'CoNLL', 'em', '2006', 'e', '2007', '.', 'Na', 'França', ',', 'no', 'âmbito', 'do', 'projecto', 'ANR-Passage', '(', 'final', 'de', '2007', ')', ',', 'foram', 'comparados', '10', 'analisadores', 'para', 'o', 'francês', '.', 'Em', 'Itália', ',', 'a', 'campanha', 'EVALITA', 'foi', 'realizada', 'em', '2007', ',', '2009', ',', '2011', 'e', '2014', 'para', 'comparar', 'várias', 'ferramentas', 'de', 'PLN', 'e', 'de', 'voz', 'para', 'o', 'site', 'italiano', '-', 'EVALITA', '.', '==', 'Diferentes', 'tipos', 'de', 'avaliação', '==', 'Avaliação', 'intrínseca', 'vs.', 'extrínseca', 'A', 'avaliação', 'intrínseca', 'considera', 'um', 'sistema', 'PNL', 'isolado', 'e', 'caracteriza', 'seu', 'desempenho', 'em', 'relação', 'a', 'um', 'resultado', 'padrão-excelência', ',', 'conforme', 'definido', 'pelos', 'avaliadores', '.', 'A', 'avaliação', 'extrínseca', ',', 'também', 'chamada', 'de', 'avaliação', 'em', 'uso', ',', 'considera', 'o', 'sistema', 'PLN', 'em', 'um', 'cenário', 'mais', 'complexo', 'como', 'um', 'sistema', 'embutido', 'ou', 'uma', 'função', 'precisa', 'para', 'um', 'usuário', 'humano', '.', 'O', 'desempenho', 'extrínseco', 'do', 'sistema', 'é', 'então', 'caracterizado', 'em', 'termos', 'de', 'utilidade', 'em', 'relação', 'à', 'tarefa', 'global', 'do', 'sistema', 'estranho', 'ou', 'do', 'utilizador', 'humano', '.', 'Por', 'exemplo', ',', 'considere', 'um', 'analisador', 'sintático', 'que', 'é', 'baseado', 'na', 'saída', 'de', 'alguma', 'parte', 'do', 'tagger', 'de', 'fala', '(', 'POS', ')', '.', 'Uma', 'avaliação', 'intrínseca', 'executaria', 'o', 'marcador', 'POS', 'em', 'dados', 'estruturados', 'e', 'compararia', 'a', 'saída', 'do', 'sistema', 'do', 'marcador', 'POS', 'com', 'a', 'saída', 'padrão', 'ouro', '.', 'Uma', 'avaliação', 'extrínseca', 'executaria', 'o', 'analisador', 'com', 'algum', 'outro', 'marcador', 'POS', 'e', ',', 'em', 'seguida', ',', 'com', 'o', 'marcador', 'POS', 'novo', 'e', 'compara', 'a', 'precisão', 'de', 'análise', '.', 'Caixa', 'preta', 'vs.', 'Avaliação', 'da', 'caixa', 'de', 'vidro', 'A', 'avaliação', 'em', 'caixa', 'preta', 'requer', 'que', 'alguém', 'execute', 'um', 'sistema', 'PLN', 'em', 'um', 'conjunto', 'de', 'dados', 'de', 'amostra', 'e', 'para', 'medir', 'uma', 'série', 'de', 'parâmetros', 'relacionados', 'com', 'a', 'qualidade', 'do', 'processo', ',', 'como', 'velocidade', ',', 'confiabilidade', ',', 'consumo', 'de', 'recursos', 'e', ',', 'principalmente', ',', 'a', 'qualidade', 'do', 'resultado', ',', 'como', 'a', 'precisão', 'da', 'anotação', 'de', 'dados', 'ou', 'a', 'fidelidade', 'de', 'uma', 'tradução', '.', 'A', 'avaliação', 'da', 'caixa', 'de', 'vidro', 'examina', 'a', 'concepção', 'do', 'sistema', ';', 'Os', 'algoritmos', 'que', 'são', 'implementados', ',', 'os', 'recursos', 'linguísticos', 'que', 'utiliza', ',', 'como', 'o', 'tamanho', 'do', 'vocabulário', 'ou', 'a', 'expressão', 'definida', 'de', 'cardinalidade', '.', 'Dada', 'a', 'complexidade', 'dos', 'problemas', 'da', 'PLN', ',', 'muitas', 'vezes', 'é', 'difícil', 'prever', 'o', 'desempenho', 'apenas', 'com', 'base', 'na', 'avaliação', 'da', 'caixa', 'de', 'vidro', ';', 'Mas', 'este', 'tipo', 'de', 'avaliação', 'é', 'mais', 'informativo', 'no', 'que', 'diz', 'respeito', 'à', 'análise', 'de', 'erros', 'ou', 'desenvolvimentos', 'futuros', 'de', 'um', 'sistema', '.', 'Automática', 'vs.', 'avaliação', 'manual', 'Em', 'muitos', 'casos', ',', 'procedimentos', 'automáticos', 'podem', 'ser', 'definidos', 'para', 'avaliar', 'um', 'sistema', 'de', 'PLN', ',', 'comparando', 'sua', 'saída', 'com', 'o', 'padrão', 'de', 'excelência', '.', 'Embora', 'o', 'custo', 'de', 'reproduzir', 'o', 'padrão', 'de', 'excelência', 'possa', 'ser', 'bastante', 'elevado', ',', 'avaliação', 'automática', 'de', 'bootstrapping', 'sobre', 'os', 'mesmos', 'dados', 'de', 'entrada', 'pode', 'ser', 'repetida', 'quantas', 'vezes', 'for', 'necessário', 'sem', 'custos', 'adicionais', 'desordenados', '.', 'No', 'entanto', ',', 'para', 'muitos', 'problemas', 'de', 'PLN', 'a', 'definição', 'precisa', 'de', 'um', 'padrão', 'de', 'excelência', 'é', 'uma', 'tarefa', 'complexa', 'e', 'pode', 'se', 'revelar', 'impossível', 'quando', 'o', 'acordo', 'inter-anotador', 'é', 'insuficiente', '.', 'A', 'avaliação', 'manual', 'é', 'melhor', 'realizada', 'por', 'juízes', 'humanos', 'instruídos', 'para', 'estimar', 'a', 'qualidade', 'de', 'um', 'sistema', ',', 'ou', 'mais', 'frequentemente', 'de', 'uma', 'amostra', 'de', 'sua', 'produção', ',', 'com', 'base', 'em', 'uma', 'série', 'de', 'critérios', '.', 'Embora', ',', 'graças', 'à', 'sua', 'competência', 'linguística', ',', 'os', 'juízes', 'humanos', 'possam', 'ser', 'considerados', 'como', 'a', 'referência', 'para', 'uma', 'série', 'de', 'tarefas', 'de', 'processamento', 'de', 'linguagem', ',', 'há', 'também', 'uma', 'variação', 'considerável', 'em', 'suas', 'classificações', '.', 'É', 'por', 'isso', 'que', 'a', 'avaliação', 'automática', 'é', ',', 'por', 'vezes', ',', 'referida', 'como', 'avaliação', 'objetiva', 'enquanto', 'a', 'avaliação', 'humana', 'é', 'perspectiva', '.', '==', 'Padronização', '==', 'Um', 'subcomitê', 'ISO', 'está', 'trabalhando', 'para', 'facilitar', 'a', 'interoperabilidade', 'entre', 'recursos', 'lexicais', 'e', 'programas', 'PLN', '.', 'O', 'subcomitê', 'faz', 'parte', 'do', 'ISO', '/', 'TC37', 'e', 'é', 'chamado', 'ISO', '/', 'TC37', '/', 'SC4', '.', 'Alguns', 'padrões', 'ISO', 'já', 'estão', 'publicados', ',', 'mas', 'a', 'maioria', 'deles', 'está', 'em', 'construção', ',', 'principalmente', 'na', 'representação', 'de', 'léxico', '(', 'ver', 'LMF', ')', ',', 'anotação', 'e', 'registro', 'de', 'categoria', 'de', 'dados', '.', '==', 'Ferramentas', '==', 'Expert', 'System', 'S.p.A.', 'General', 'Architecture', 'for', 'Text', 'Engineering', 'Modular', 'Audio', 'Recognition', 'Framework', 'Natural', 'Language', 'Toolkit', '(', 'NLTK', ')', ':', 'uma', 'biblioteca', 'em', 'Python', 'OpenNLP', '==', 'Veja', 'também', '==', 'Mineração', 'de', 'texto', 'biomédica', 'Processo', 'de', 'processamento', 'composto', 'Revisão', 'assistida', 'por', 'computador', 'Linguagem', 'natural', 'controlada', 'Processamento', 'linguístico', 'profundo', 'Auxílio', 'à', 'leitura', 'de', 'línguas', 'estrangeiras', 'Auxílio', 'à', 'escrita', 'em', 'língua', 'estrangeira', 'Tecnologia', 'da', 'linguagem', 'A', 'alocação', 'de', 'Dirichlet', 'Latente', '(', 'LDA', ')', 'Indexação', 'semântica', 'latente', 'Lista', 'de', 'ferramentas', 'de', 'processamento', 'de', 'língua', 'natural', 'Mapa', 'de', 'LRE', 'Programação', 'em', 'língua', 'natural', 'Reificação', '(', 'linguística', ')', 'Dobradura', 'semântica', 'Sistema', 'de', 'diálogo', 'falado', 'Vetor', 'do', 'Pensamento', 'Pesquisa', 'Transderivacional', 'Word2vec', '==', 'Referências', '==', '==', 'Leitura', 'adicional', '==', 'Steven', 'Bird', ',', 'Ewan', 'Klein', ',', 'and', 'Edward', 'Loper', '(', '2009', ')', '.', 'Natural', 'Language', 'Processing', 'with', 'Python', '.', \"O'Reilly\", 'Media', '.', 'ISBN', '978-0-596-51649-9', '.', 'Daniel', 'Jurafsky', 'and', 'James', 'H.', 'Martin', '(', '2008', ')', '.', 'Speech', 'and', 'Language', 'Processing', ',', '2nd', 'edition', '.', 'Pearson', 'Prentice', 'Hall', '.', 'ISBN', '978-0-13-187321-6', '.', 'Christopher', 'D.', 'Manning', ',', 'Prabhakar', 'Raghavan', ',', 'and', 'Hinrich', 'Schütze', '(', '2008', ')', '.', 'Introduction', 'to', 'Information', 'Retrieval', '.', 'Cambridge', 'University', 'Press', '.', 'ISBN', '978-0-521-86571-5', '.', 'Official', 'html', 'and', 'pdf', 'versions', 'available', 'without', 'charge', '.', 'Christopher', 'D.', 'Manning', 'and', 'Hinrich', 'Schütze', '(', '1999', ')', '.', 'Foundations', 'of', 'Statistical', 'Natural', 'Language', 'Processing', '.', 'The', 'MIT', 'Press', '.', 'ISBN', '978-0-262-13360-9', '.', 'David', 'M.', 'W.', 'Powers', 'and', 'Christopher', 'C.', 'R.', 'Turk', '(', '1989', ')', '.', 'Machine', 'Learning', 'of', 'Natural', 'Language', '.', 'Springer-Verlag', '.', 'ISBN', '978-0-387-19557-5', '.']\n"
          ]
        }
      ]
    },
    {
      "cell_type": "code",
      "source": [
        "def plot_frequencia_tokens(tokens):\n",
        "    fd_words = FreqDist(tokens)\n",
        "    fd_words.plot(20)"
      ],
      "metadata": {
        "id": "prWXC_xfUh7E"
      },
      "execution_count": 110,
      "outputs": []
    },
    {
      "cell_type": "markdown",
      "metadata": {
        "id": "fXdTpsjVU2eZ"
      },
      "source": [
        "### Plot das tokenizações\n",
        "\n",
        "4. Plote o resultado de cada uma das tokenizações. \n",
        "Utilize o método <b> plot_frequencia_tokens() </b> para plotar o gráfico.\n",
        "Também imprima o tamanho de cada tokenização"
      ]
    },
    {
      "cell_type": "code",
      "source": [
        "print(\"Tokens Split\")\n",
        "plot_frequencia_tokens(tokens_split)"
      ],
      "metadata": {
        "colab": {
          "base_uri": "https://localhost:8080/",
          "height": 334
        },
        "id": "XQVVNwqoUd7H",
        "outputId": "4c0f16a4-24a8-4944-d5a0-8f461ced79b3"
      },
      "execution_count": 114,
      "outputs": [
        {
          "output_type": "stream",
          "name": "stdout",
          "text": [
            "Tokens Split\n"
          ]
        },
        {
          "output_type": "display_data",
          "data": {
            "image/png": "[encoded data removed]",
            "text/plain": [
              "<Figure size 432x288 with 1 Axes>"
            ]
          },
          "metadata": {
            "needs_background": "light"
          }
        }
      ]
    },
    {
      "cell_type": "code",
      "source": [
        "print(\"Tokens Regex\")\n",
        "plot_frequencia_tokens(tokens_regex)"
      ],
      "metadata": {
        "colab": {
          "base_uri": "https://localhost:8080/",
          "height": 310
        },
        "id": "IprWStirWCNT",
        "outputId": "ed831ee6-6374-42b4-d3b5-932cd4dc5f3d"
      },
      "execution_count": 115,
      "outputs": [
        {
          "output_type": "stream",
          "name": "stdout",
          "text": [
            "Tokens Regex\n"
          ]
        },
        {
          "output_type": "display_data",
          "data": {
            "image/png": "[encoded data removed]",
            "text/plain": [
              "<Figure size 432x288 with 1 Axes>"
            ]
          },
          "metadata": {
            "needs_background": "light"
          }
        }
      ]
    },
    {
      "cell_type": "code",
      "source": [
        "print(\"Tokens NLTK\")\n",
        "plot_frequencia_tokens(tokens_nltk)"
      ],
      "metadata": {
        "colab": {
          "base_uri": "https://localhost:8080/",
          "height": 313
        },
        "id": "ksrCrMBPWCcd",
        "outputId": "6008b708-8b10-4efc-9fa8-1c3ad511e1cf"
      },
      "execution_count": 116,
      "outputs": [
        {
          "output_type": "stream",
          "name": "stdout",
          "text": [
            "Tokens NLTK\n"
          ]
        },
        {
          "output_type": "display_data",
          "data": {
            "image/png": "[encoded data removed]",
            "text/plain": [
              "<Figure size 432x288 with 1 Axes>"
            ]
          },
          "metadata": {
            "needs_background": "light"
          }
        }
      ]
    },
    {
      "cell_type": "markdown",
      "metadata": {
        "id": "GXN6naHeU2ek"
      },
      "source": [
        "## Capitalização\n",
        "\n",
        "5. Traforme todos os tokens para minúsculo utilizando a função abaixo:\n",
        "\n",
        "```python\n",
        "str.lower()\n",
        "```"
      ]
    },
    {
      "cell_type": "code",
      "metadata": {
        "id": "KgAOuq1sU2el",
        "outputId": "55dadd16-95fd-4636-fd2f-922abb38c182",
        "colab": {
          "base_uri": "https://localhost:8080/",
          "height": 122
        }
      },
      "source": [
        "tokens = str.lower(corpus)\n",
        "tokens"
      ],
      "execution_count": 118,
      "outputs": [
        {
          "output_type": "execute_result",
          "data": {
            "application/vnd.google.colaboratory.intrinsic+json": {
              "type": "string"
            },
            "text/plain": [
              "'processamento de língua natural (pln) é uma subárea da ciência da computação, inteligência artificial e da linguística que estuda os problemas da geração e compreensão automática de línguas humanas naturais. sistemas de geração de língua natural convertem informação de bancos de dados de computadores em linguagem compreensível ao ser humano e sistemas de compreensão de língua natural convertem ocorrências de linguagem humana em representações mais formais, mais facilmente manipuláveis por programas de computador. alguns desafios do pln são compreensão de língua natural, fazer com que computadores extraiam sentido de linguagem humana ou natural e geração de língua natural.\\n\\n\\n== história ==\\na história do pln começou na década de 1950, quando alan turing publicou o artigo \"computing machinery and intelligence\", que propunha o que agora é chamado de teste de turing como critério de inteligência.\\nem 1954, a experiência de georgetown envolveu a tradução automática de mais de sessenta frases russas para o inglês. os autores afirmaram que dentro de três ou cinco anos a tradução automática seria um problema resolvido. no entanto, os avanços reais foram muito mais lentos do que o previsto e, após o relatório alpac em 1966, que constatou que a pesquisa de dez anos não conseguiu satisfazer as expectativas, o financiamento para este estudo em tradução automática foi reduzido drasticamente. poucas pesquisas em tradução automática foram conduzidas até o final dos anos 80, quando os primeiros sistemas estatísticos de tradução foram desenvolvidos.\\nalguns sistemas de pln bem sucedidos desenvolvidos nos anos 60 foram shrdlu, um sistema de língua natural que trabalhava em \"blocks worlds\" com vocabulário restrito e eliza, uma simulação de um psicoterapeuta escrita por joseph weizenbaum entre 1964 e 1966. usando pouca informação sobre o pensamento ou a emoção humana, eliza criava, em alguns casos, interações surpreendentemente humanas. quando o \"paciente\" excedia a base de conhecimento do programa, eliza fornecia uma resposta genérica, por exemplo, respondendo a \"minha cabeça dói\" com \"por que você diz que sua cabeça dói?\".\\ndurante a década de 1970, muitos programadores começaram a escrever \"ontologias conceituais\", que estruturaram a informação do mundo real em dados compreensíveis por computadores. exemplos são margie (schank, 1975), sam (cullingford, 1978), pam (wilensky, 1978), talespin (meehan, 1976), qualm (lehnert, 1977), politics (carbonell, 1979) e plot units (lehnert, 1981 ). neste período, muitos chatterbots foram escritos, como parry, racter e jabberwacky.\\naté a década de 1980, a maioria dos sistemas de pln se baseava em conjuntos complexos de regras manuscritas. a partir do final dos anos 1980, no entanto, houve uma revolução no pln com a introdução de algoritmos de aprendizagem automática (aprendizado de máquina) para o processamento de linguagem. isto foi devido tanto ao aumento constante do poder computacional (ver lei de moore) quanto à diminuição gradual da dominância das teorias da linguística chomskyanas (como a gramática gerativa), cujos fundamentos teóricos desestimularam o tipo de corpus linguístico que está subjacente à abordagem da aprendizagem automática ao processamento da linguagem.\\nalguns dos algoritmos de aprendizado de máquinas mais antigos, como as árvores de decisão, produziam sistemas de regras rígidas então semelhantes às regras existentes na escritas à mão. no entanto, a marcação de partes da fala (part-of-speech tagging) introduziu o uso de modelos ocultos de markov para o pln e, cada vez mais, a pesquisa se concentrava em modelos estatísticos, que tomam decisões suaves e probabilísticas baseadas na atribuição de pesos reais aos recursos que compõem dados de entrada. os modelos de linguagem de cache, sobre os quais muitos sistemas de reconhecimento de fala agora dependem, são exemplos de tais modelos estatísticos. esses modelos são geralmente mais robustos quando dados informações desconhecidas, especialmente entrada que contém erros (como é muito comum para dados do mundo real) e produzem resultados mais confiáveis quando integrados em sistemas maiores que compreendem múltiplas tarefas.\\nmuitos dos sucessos iniciais notáveis ocorreram no campo da tradução automática, devido especialmente ao trabalho de pesquisa da ibm, que desenvolveu modelos estatísticos mais elaborados. estes sistemas foram capazes de tirar proveito de corpora textuais multilíngues existentes  produzidos pelo parlamento do canadá e a união europeia como resultado de leis que exigem a tradução de todos os processos governamentais em todas as línguas oficiais dos países. no entanto, a maioria dos sistemas dependia de corpora desenvolvido especificamente para tarefas implementadas por esses sistemas, o que era (e muitas vezes continua sendo) uma grande limitação no sucesso dos mesmo. como resultado, uma grande quantidade de pesquisa passou de quantidades de dados limitadas a métodos de aprendizagem mais eficazes.\\npesquisas recentes têm se concentrado cada vez mais em algoritmos de aprendizagem semi-supervisionados e sem supervisão. esses algoritmos são capazes de aprender com dados que não foram anotados manualmente com as respostas desejadas ou usando uma combinação de dados anotados e não anotados. geralmente, esta tarefa é muito mais trabalhosa do que a aprendizagem supervisionada e normalmente produz resultados menos precisos para uma quantidade específica de dados de entrada. no entanto, há uma enorme quantidade de dados não anotados disponíveis (incluindo, entre outras coisas, todo o conteúdo da world wide web), que muitas vezes pode compensar os resultados inferiores.\\n\\n\\n== usando a aprendizagem automática (aprendizado de máquina) ==\\nos algoritmos modernos de pln baseiam-se na aprendizagem mecânica, especialmente na aprendizagem de máquinas estatísticas. o paradigma da aprendizagem mecânica é diferente do da maioria das tentativas anteriores de processamento da linguagem. anteriormente, implementações de tarefas de processamento de linguagem envolviam a codificação direta de grandes conjuntos de regras. o paradigma da aprendizagem automática (ou aprendizagem automática) induz a aprendizagem automática de regras através de análises de corpora de exemplos típicos do mundo real ao invés de usar algoritmos gerais de aprendizagem (muitas vezes, embora nem sempre, baseados em inferência estatística). um corpus (plural \"corpora\") é um conjunto de documentos (ou frases individuais) que foram anotados à mão com os valores corretos a serem aprendidos.\\nmuitas classes diferentes de algoritmos de aprendizado de máquina foram aplicadas a tarefas de pln. esses algoritmos tomam como entrada um grande conjunto de \"recursos\" que são gerados a partir de dados de entrada.\\nalguns dos algoritmos mais usados, como árvores de decisão, produziam sistemas de regras rígidas semelhantes aos sistemas de regras manuscritas mais comuns. no entanto, cada vez mais, a pesquisa tem se concentrado em modelos estatísticos, que tomam decisões flexíveis e probabilísticas baseadas em agregar pesos reais a cada característica de entrada. tais modelos têm a vantagem de poder expressar a certeza relativa de muitas respostas possíveis diferentes em vez de apenas uma, produzindo resultados mais confiáveis quando esse modelo é incluído como um componente de um sistema maior.\\nos sistemas baseados em algoritmos de aprendizagem mecânica têm muitas vantagens em relação às regras produzidas manualmente:\\n\\nos procedimentos de aprendizagem usados durante a aprendizagem da máquina focam-se automaticamente nos casos mais comuns, ao passo que quando se escrevem regras à mão, não é óbvio em que sentido o esforço deve ser dirigido.\\nos procedimentos de aprendizagem automática podem fazer uso de algoritmos de inferência estatística para produzir modelos que são robustos a entradas não familiares (por exemplo, contendo palavras ou estruturas que não foram vistas antes) e a entradas errôneas (por exemplo, com palavras ou palavras incorretamente omitidas). geralmente, lidar com essas entradas de forma com regras manuscritas ou sistemas de regras manuscritas que tomam decisões suaves é extremamente trabalhoso, propenso a erros e demorado.\\nsistemas baseados em aprender automaticamente as regras podem ser mais precisos simplesmente fornecendo mais dados de entrada. no entanto, os sistemas baseados em regras escritas à mão só podem ser tornados mais precisos aumentando a complexidade das regras, o que é uma tarefa muito mais difícil. em particular, há um limite para a complexidade de sistemas baseados em regras artesanais, para além dos quais os sistemas se tornam cada vez mais incontroláveis. no entanto, a criação de mais dados para entrada em sistemas de aprendizado de máquina requer simplesmente um aumento correspondente no número de horas trabalhadas por humanos, geralmente sem aumentos significativos na complexidade do processo de anotação.o subcampo de pln dedicado a abordagens de aprendizagem é conhecido como aprendizagem de língua natural (nll) e sua conferência, a conll, e orgão central, o signll, são patrocinados pela acl, reconhecendo também as suas ligações com linguística computacional e aquisição de linguagem. quando o objetivo da pesquisa de aprendizagem de linguagem computacional é entender mais sobre aquisição de linguagem humana, ou psicolinguística, a nll sobrepõe-se no campo relacionado de psicolinguística computacional.\\n\\n\\n== aplicações principais ==\\na listagem a seguir traz alguns dos trabalhos mais pesquisadas em pln. note que alguns deles têm aplicações no mundo real, enquanto outras servem mais frequentemente como tarefas secundárias que são usadas para auxiliar na resolução de tarefas maiores. o que distingue essas tarefas de outras tarefas potenciais e reais de pln não é apenas o volume de pesquisa dedicado a elas, mas o fato de que para cada uma há tipicamente uma definição de problema bem especificada, uma métrica padrão para avaliar a tarefa, corpora padrão em que a tarefa pode ser avaliada e as competições dedicadas à tarefa específica.\\nsumarização automática\\n\\nproduz um resumo legível de uma parte do texto. muitas vezes usado para fornecer resumos de texto de um tipo conhecido, como artigos na seção financeira de um jornal.resolução de correferência\\n\\ndada uma frase ou um pedaço maior de texto, determina quais palavras (\"menções\") se referem aos mesmos objetos (\"entidades\"). a resolução da anáfora é um exemplo específico dessa tarefa e está especificamente preocupada em combinar os pronomes com os substantivos ou nomes aos quais eles se referem. a tarefa mais geral da resolução de correferência também inclui a identificação dos chamados \"relacionamentos de ponte\" envolvendo expressões de referência. por exemplo, numa frase como \"ele entrou na casa de joão pela porta da frente\", \"a porta da frente\" é uma expressão de referência e a relação da ponte a ser identificada é o fato de que a porta a ser referida é a porta da frente de john\\'s (ao invés de alguma outra estrutura que também pode ser referida).análise do discurso\\n\\nesta rubrica inclui uma série de tarefas relacionadas. uma tarefa é identificar a estrutura discursiva do texto conectado, isto é, a natureza das relações discursivas entre sentenças (por exemplo, elaboração, explicação, contraste). outra possível tarefa é reconhecer e classificar os atos de fala em um pedaço de texto (por exemplo, pergunta sim-não, pergunta de conteúdo, frase, afirmação, etc).maquina de tradução\\n\\ntraduzir automaticamente texto de uma linguagem humana para outra. este é uma das tarefas mais difíceis e faz parte de um tipo de problemas conhecidos como \"ai-complete\", ou seja, exigindo todos os diferentes tipos de conhecimento que os humanos possuem (gramática, semântica, fatos sobre o mundo real, etc) para resolvê-lo adequadamente.segmentação morfológica\\n\\nsepara palavras em morfemas individuais e identifica classes de morfemas. a dificuldade desta tarefa depende muito da complexidade da morfologia (isto é, da estrutura das palavras) da linguagem que está sendo considerada. o inglês possui uma morfologia bastante simples, especialmente a morfologia flexional, e portanto é possível ignorar esta tarefa inteiramente e simplesmente modelar todas as formas possíveis de uma palavra (por exemplo, \"open, opens, opened, opening\") como palavras separadas. em línguas como o turco ou o meitei, uma língua indiana fortemente aglutinada, no entanto, tal abordagem não é possível, uma vez que cada entrada do dicionário tem milhares de formas de palavras possíveis.reconhecimento de entidade nomeada (ner)\\n\\ndado um fluxo de texto, determina quais são itens no mapa de texto para nomes próprios, como pessoas ou locais e qual é o tipo de cada nome (por exemplo, pessoa, local, organização). embora a capitalização possa ajudar a reconhecer entidades nomeadas em idiomas como o inglês, essas informações podem não ajudar a determinar o tipo de entidade nomeada e, em alguns casos, sãos imprecisas ou insuficientes. por exemplo, a primeira palavra de uma frase também é capitalizada e as entidades nomeadas muitas vezes abrangem várias palavras, com apenas algumas delas são capitalizadas. além disso, muitas outras linguagens em scripts não-ocidentais (por exemplo, chinês ou árabe) não têm nenhuma capitalização e mesmo as línguas com maiúsculas podem não distinguir nomes. por exemplo, o alemão capitaliza todos os substantivos, independentemente de se referirem a nomes, e o francês e o espanhol não capitalizam nomes que servem como adjetivos.geração de língua natural\\n\\nconverte informações de bancos de dados de computador ou intenções semânticas em linguagem humana legível.compreensão da língua natural\\n\\nconverte pedaços de texto em representações mais formais, como estruturas de lógica de primeira ordem, que são mais fáceis de manipular pelos programas de computador. a compreensão da língua natural envolve a identificação da semântica pretendida a partir da múltipla semântica possível que pode ser derivada de uma expressão de língua natural que geralmente toma a forma de notação organizada de conceitos de linguagens naturais. entretanto, introdução e criação de linguagem metamodelo e ontologia são eficientes soluções empíricas. uma formalização explícita da semântica de línguas naturais sem confusões com suposições implícitas como closed-world assumption (cwa) versus open-world assumption ou subjetiva sim / não versus objetivo verdadeiro / falso é esperada para a construção de uma base de formalização semântica.reconhecimento óptico de caracteres (ocr)\\n\\ndada uma imagem que representa o texto impresso, determina o texto correspondente.marcação de classe gramatical\\n\\ndada uma sentença, determina a classe gramatical de cada palavra. muitas palavras, especialmente as comuns, podem servir como múltiplas partes do discurso. em inglês, por exemplo, \"book\" pode ser um substantivo (\"the book on the table\") ou verbo (\"book a flight\"); \"set\" pode ser um substantivo, verbo ou adjetivo; e \"out\" pode ser qualquer um de pelo menos cinco diferentes partes da fala. algumas línguas têm mais ambiguidade do que outras. as línguas com pouca morfologia flexional, como o inglês, são particularmente propensas a tal ambiguidade. o chinês é propenso a tal ambiguidade porque é uma língua tonal durante a verbalização. tal inflexão não é facilmente transmitida através das entidades empregadas dentro da ortografia para transmitir o significado pretendido.análise sintática (parsing)\\n\\ndetermina a árvore de análise (análise gramatical) de uma frase. a gramática para as linguagens naturais é ambígua e frases típicas têm múltiplas análises possíveis. na verdade, surpreendentemente, para uma frase típica pode haver milhares de análises em potencial (a maioria dos quais parecerá completamente absurda para um ser humano).respostas a perguntas\\n\\ndada uma questão de linguagem humana, determina sua resposta. as perguntas típicas têm uma resposta correta específica (como \"qual é o capital do canadá?\"), mas às vezes perguntas abertas também são consideradas (como \"qual é o significado da vida?\"). trabalhos recentes têm analisado questões ainda mais complexas.extração de relacionamento\\n\\nidentifica as relações entre entidades nomeadas (por exemplo, quem é casado com quem) com base em textos.quebra de frases (sentence boundary disambiguation)\\n\\nencontra os limites da frase em um pedaço de texto. os limites de frases são normalmente marcadas por pontos ou outros sinais de pontuação, mas esses mesmos caracteres podem servir outros propósitos.análise de subjetividade (sentiment analysis ou opinion mining)\\n\\nextrai informações subjetivas geralmente de um conjunto de documentos, muitas vezes usando revisões online para determinar a \"polaridade\" sobre objetos específicos. é especialmente útil para identificar tendências da opinião pública nas mídias sociais, para fins de marketing.reconhecimento de fala\\n\\ndado um clipe de som de uma pessoa ou pessoas falando, determina a representação textual do discurso. é o oposto da síntese de fala e é uma das áreas mais difíceis, conhecida como \"ai-complete\". na fala natural quase não há pausas entre palavras sucessivas, por isso a segmentação de fala é uma subtarefa necessária de reconhecimento de fala. nota-se também que, na maioria das linguagens faladas, os sons que representam letras sucessivas se misturam entre si em um processo denominado coarticulação, de modo que a conversão do sinal analógico em caracteres discretos pode ser um processo muito difícil de ser realizado.segmentação de fala\\n\\ndado um clipe de som de uma pessoa ou pessoas falando, separa-o em palavras. uma subaplicação de reconhecimento de fala e normalmente agrupada com ele.análise morfológica e reconhecimento de tópicos\\n\\ndado um pedaço de texto, separa-o em segmentos cada um dos quais é dedicado a um tópico e identifica o tópico do segmento.análise morfológica e segmentação de palavras\\n\\nsepara um pedaço de texto contínuo em palavras separadas. para uma língua como o inglês, isso é bastante trivial, uma vez que as palavras são normalmente separadas por espaços. no entanto, algumas línguas escritas como chinês, japonês e tailandês não marcam limites de palavras de tal forma, e nessas línguas segmentação de texto é uma tarefa significativa que requer conhecimento do vocabulário e morfologia das palavras na língua.desambiguação\\n\\nmuitas palavras têm mais de um significado, assim temos que selecionar o significado que faz mais sentido no contexto. para este problema, em geral é dada uma lista de palavras e sentidos de palavras associadas de um dicionário ou recurso online, como o wordnet.\\nem alguns casos, conjuntos de tarefas relacionadas são agrupados em subcampos de pln que são frequentemente considerados separadamente da pln como um todo, como os exemplos à seguir:recuperação de informação (ir)\\n\\ntrata-se de armazenar, pesquisar e recuperar informações. é um campo separado dentro da ciência da computação (mais perto de bancos de dados), mas a ir se baseia em alguns métodos pln (por exemplo, stemming). algumas pesquisas e aplicações atuais procuram preencher a lacuna entre ir e pln.extração de informação (ie)\\n\\ntrata-se, em geral, da extração de informação semântica a partir do texto. abrange tarefas como reconhecimento de entidade mencionada, resolução de correferência e de relacionamento de extração, etc.\\nprocessamento de voz  abrange reconhecimento de fala, síntese de fala e tarefas relacionadas.\\noutras tarefas incluem:\\nidentificação na língua materna\\nstemização\\nsimplificação do texto\\nsíntese de fala\\nrevisão de texto\\npesquisa em língua natural\\nexpansão da consulta\\npontuação de ensaio automatizado\\ntruecasing\\n\\n\\n== estatística ==\\nartigo principal: gramática estocástica\\no processamento estatístico em língua natural utiliza métodos estocásticos, probabilísticos e estatísticos para resolver algumas das dificuldades discutidas acima, especialmente aquelas que surgem porque frases mais longas são muito ambíguas quando processadas com gramáticas realistas, produzindo milhares ou milhões de análises possíveis. métodos de desambiguação envolvem muitas vezes o uso de corpora e modelos de markov. o projeto esprit p26 (1984-1988), liderado pelo cselt, explorou o problema do reconhecimento de fala comparando abordagem baseada em conhecimento e estatística: o resultado escolhido foi um modelo completamente estatístico. um dos primeiros modelos de compreensão estatística da língua natural foi introduzido em 1991 por roberto pieraccini, esther levin e chin-hui lee, da bell laboratories]. o pln compreende todas as abordagens quantitativas para processamento automatizado de linguagem, incluindo modelagem probabilística, teoria da informação e álgebra linear. a tecnologia para o pln estatístico vem principalmente da aprendizagem automática e da mineração de dados, que são campos de inteligência artificial que envolvem o aprendizado a partir de dados.\\n\\n\\n== avaliação ==\\no objetivo da avaliação do pln é uma medida de uma ou mais qualidades de um algoritmo ou de um sistema a fim de determinar se o algoritmo atende às metas dos projetistas ou o sistema de atendimento às necessidades de seus usuários. investigação na avaliação pln  tem ganhado atenção, porque a definição de critérios de avaliação é uma forma de especificar precisamente problemas do pln. uma métrica de avaliação de pln em um sistema algorítmico permite a integração da compreensão de linguagem e geração de linguagem. um conjunto preciso de critérios de avaliação, que pode ser aplicado principalmente a avaliações métricas, podendo permitir que várias equipes comparem suas soluções para um determinado problema do pln.\\n\\n\\n== cronologia da avaliação ==\\nem 1983, iniciou-se o projecto esprit p26, que avaliou as tecnologias da fala (incluindo tópicos gerais como sintaxe e semântica) comparando as abordagens baseadas em regras com as estatísticas.\\nem 1987, a primeira campanha de avaliação de textos escritos parece ser uma campanha dedicada à compreensão da mensagem (pallet, 1998).\\no projeto parseval / geig comparou gramáticas de frase-estrutura (black 1991).\\nhouve uma série de campanhas no projeto tipster sobre tarefas como resumo, tradução e pesquisa (hirschman 1998).\\nem 1994, na alemanha, o morpholympics comparou marcadores morfológicos alemães.\\nas campanhas de senseval & romanseval foram realizadas com os objetivos de desambiguação semântica.\\nem 1996, a campanha sparkle comparou os analisadores sintáticos em quatro idiomas diferentes (inglês, francês, alemão e italiano).\\nna frança, o projeto grace comparou um conjunto de 21 marcadores para o francês em 1997 (adda 1999).\\nem 2004, durante o projeto technolangue / easy, foram comparados 13 analisadores para o francês.\\na avaliação em larga escala dos analisadores de dependência foi realizada no contexto das tarefas compartilhadas do conll em 2006 e 2007.\\nna frança, no âmbito do projecto anr-passage (final de 2007), foram comparados 10 analisadores para o francês.\\nem itália, a campanha evalita foi realizada em 2007, 2009, 2011 e 2014 para comparar várias ferramentas de pln e de voz para o site italiano - evalita.\\n\\n\\n== diferentes tipos de avaliação ==\\navaliação intrínseca vs. extrínseca\\na avaliação intrínseca considera um sistema pnl isolado e caracteriza seu desempenho em relação a um resultado padrão-excelência, conforme definido pelos avaliadores. a avaliação extrínseca, também chamada de avaliação em uso, considera o sistema pln em um cenário mais complexo como um sistema embutido ou uma função precisa para um usuário humano. o desempenho extrínseco do sistema é então caracterizado em termos de utilidade em relação à tarefa global do sistema estranho ou do utilizador humano. por exemplo, considere um analisador sintático que é baseado na saída de alguma parte do tagger de fala (pos). uma avaliação intrínseca executaria o marcador pos em dados estruturados e compararia a saída do sistema do marcador pos com a saída padrão ouro. uma avaliação extrínseca executaria o analisador com algum outro marcador pos e, em seguida, com o marcador pos novo e compara a precisão de análise.\\ncaixa preta vs. avaliação da caixa de vidro\\na avaliação em caixa preta requer que alguém execute um sistema pln em um conjunto de dados de amostra e para medir uma série de parâmetros relacionados com a qualidade do processo, como velocidade, confiabilidade, consumo de recursos e, principalmente, a qualidade do resultado, como a precisão da anotação de dados ou a fidelidade de uma tradução. a avaliação da caixa de vidro examina a concepção do sistema; os algoritmos que são implementados, os recursos linguísticos que utiliza, como o tamanho do vocabulário ou a expressão definida de cardinalidade. dada a complexidade dos problemas da pln, muitas vezes é difícil prever o desempenho apenas com base na avaliação da caixa de vidro; mas este tipo de avaliação é mais informativo no que diz respeito à análise de erros ou desenvolvimentos futuros de um sistema.\\nautomática vs. avaliação manual\\nem muitos casos, procedimentos automáticos podem ser definidos para avaliar um sistema de pln, comparando sua saída com o padrão de excelência. embora o custo de reproduzir o padrão de excelência possa ser bastante elevado, avaliação automática de bootstrapping sobre os mesmos dados de entrada pode ser repetida quantas vezes for necessário sem custos adicionais desordenados. no entanto, para muitos problemas de pln a definição precisa de um padrão de excelência é uma tarefa complexa e pode se revelar impossível quando o acordo inter-anotador é insuficiente. a avaliação manual é melhor realizada por juízes humanos instruídos para estimar a qualidade de um sistema, ou mais frequentemente de uma amostra de sua produção, com base em uma série de critérios. embora, graças à sua competência linguística, os juízes humanos possam ser considerados como a referência para uma série de tarefas de processamento de linguagem, há também uma variação considerável em suas classificações. é por isso que a avaliação automática é, por vezes, referida como avaliação objetiva enquanto a avaliação humana é perspectiva.\\n\\n\\n== padronização ==\\num subcomitê iso está trabalhando para facilitar a interoperabilidade entre recursos lexicais e programas pln. o subcomitê faz parte do iso / tc37 e é chamado iso / tc37 / sc4. alguns padrões iso já estão publicados, mas a maioria deles está em construção, principalmente na representação de léxico (ver lmf), anotação e registro de categoria de dados.\\n\\n\\n== ferramentas ==\\nexpert system s.p.a.\\ngeneral architecture for text engineering\\nmodular audio recognition framework\\nnatural language toolkit (nltk): uma biblioteca em python\\nopennlp\\n\\n\\n== veja também ==\\nmineração de texto biomédica\\nprocesso de processamento composto\\nrevisão assistida por computador\\nlinguagem natural controlada\\nprocessamento linguístico profundo\\nauxílio à leitura de línguas estrangeiras\\nauxílio à escrita em língua estrangeira\\ntecnologia da linguagem\\na alocação de dirichlet latente (lda)\\nindexação semântica latente\\nlista de ferramentas de processamento de língua natural\\nmapa de lre\\nprogramação em língua natural\\nreificação (linguística)\\ndobradura semântica\\nsistema de diálogo falado\\nvetor do pensamento\\npesquisa transderivacional\\nword2vec\\n\\n\\n== referências ==\\n\\n\\n== leitura adicional ==\\nsteven bird, ewan klein, and edward loper (2009). natural language processing with python. o\\'reilly media. isbn 978-0-596-51649-9.\\ndaniel jurafsky and james h. martin (2008). speech and language processing, 2nd edition. pearson prentice hall. isbn 978-0-13-187321-6.\\nchristopher d. manning, prabhakar raghavan, and hinrich schütze (2008). introduction to information retrieval. cambridge university press. isbn 978-0-521-86571-5. official html and pdf versions available without charge.\\nchristopher d. manning and hinrich schütze (1999). foundations of statistical natural language processing. the mit press. isbn 978-0-262-13360-9.\\ndavid m. w. powers and christopher c. r. turk (1989). machine learning of natural language. springer-verlag. isbn 978-0-387-19557-5.'"
            ]
          },
          "metadata": {},
          "execution_count": 118
        }
      ]
    },
    {
      "cell_type": "markdown",
      "metadata": {
        "id": "GT44nJ72U2en"
      },
      "source": [
        " <b> <span style=\"color:red\"> Lembre de utilizar a VARIÁVEL que contém o resultado da transformação anterior </span> </b>"
      ]
    },
    {
      "cell_type": "markdown",
      "metadata": {
        "id": "NNBDXkVGU2en"
      },
      "source": [
        "## Remoção Stopwords\n",
        "\n",
        "6. remova todas as stopwords retornadas pelo pacote NLTK da lista de tokens.\n",
        "\n",
        "```python\n",
        "portugues_stops = stopwords.words('portuguese')\n",
        "```\n",
        "\n",
        "Note que a variável \"portugues_stops\" é uma lista de palavras."
      ]
    },
    {
      "cell_type": "code",
      "metadata": {
        "id": "-vkUCUv2U2en",
        "outputId": "e07471c7-8213-4a25-b37c-47ca9021e6c0",
        "colab": {
          "base_uri": "https://localhost:8080/"
        }
      },
      "source": [
        "from nltk.corpus import stopwords\n",
        "nltk.download('stopwords')"
      ],
      "execution_count": 119,
      "outputs": [
        {
          "output_type": "stream",
          "name": "stdout",
          "text": [
            "[nltk_data] Downloading package stopwords to /root/nltk_data...\n",
            "[nltk_data]   Package stopwords is already up-to-date!\n"
          ]
        },
        {
          "output_type": "execute_result",
          "data": {
            "text/plain": [
              "True"
            ]
          },
          "metadata": {},
          "execution_count": 119
        }
      ]
    },
    {
      "cell_type": "code",
      "metadata": {
        "id": "Uakn0ba1zaWQ"
      },
      "source": [
        "portugues_stops = stopwords.words('portuguese')"
      ],
      "execution_count": 69,
      "outputs": []
    },
    {
      "cell_type": "code",
      "metadata": {
        "id": "7vG30zABU2ew",
        "outputId": "d18c3ec9-79fd-45cb-9073-9be21ffa4832",
        "colab": {
          "base_uri": "https://localhost:8080/"
        }
      },
      "source": [
        "tokens_sem_stop = portugues_stops\n",
        "print(tokens_sem_stop)"
      ],
      "execution_count": 121,
      "outputs": [
        {
          "output_type": "stream",
          "name": "stdout",
          "text": [
            "['de', 'a', 'o', 'que', 'e', 'é', 'do', 'da', 'em', 'um', 'para', 'com', 'não', 'uma', 'os', 'no', 'se', 'na', 'por', 'mais', 'as', 'dos', 'como', 'mas', 'ao', 'ele', 'das', 'à', 'seu', 'sua', 'ou', 'quando', 'muito', 'nos', 'já', 'eu', 'também', 'só', 'pelo', 'pela', 'até', 'isso', 'ela', 'entre', 'depois', 'sem', 'mesmo', 'aos', 'seus', 'quem', 'nas', 'me', 'esse', 'eles', 'você', 'essa', 'num', 'nem', 'suas', 'meu', 'às', 'minha', 'numa', 'pelos', 'elas', 'qual', 'nós', 'lhe', 'deles', 'essas', 'esses', 'pelas', 'este', 'dele', 'tu', 'te', 'vocês', 'vos', 'lhes', 'meus', 'minhas', 'teu', 'tua', 'teus', 'tuas', 'nosso', 'nossa', 'nossos', 'nossas', 'dela', 'delas', 'esta', 'estes', 'estas', 'aquele', 'aquela', 'aqueles', 'aquelas', 'isto', 'aquilo', 'estou', 'está', 'estamos', 'estão', 'estive', 'esteve', 'estivemos', 'estiveram', 'estava', 'estávamos', 'estavam', 'estivera', 'estivéramos', 'esteja', 'estejamos', 'estejam', 'estivesse', 'estivéssemos', 'estivessem', 'estiver', 'estivermos', 'estiverem', 'hei', 'há', 'havemos', 'hão', 'houve', 'houvemos', 'houveram', 'houvera', 'houvéramos', 'haja', 'hajamos', 'hajam', 'houvesse', 'houvéssemos', 'houvessem', 'houver', 'houvermos', 'houverem', 'houverei', 'houverá', 'houveremos', 'houverão', 'houveria', 'houveríamos', 'houveriam', 'sou', 'somos', 'são', 'era', 'éramos', 'eram', 'fui', 'foi', 'fomos', 'foram', 'fora', 'fôramos', 'seja', 'sejamos', 'sejam', 'fosse', 'fôssemos', 'fossem', 'for', 'formos', 'forem', 'serei', 'será', 'seremos', 'serão', 'seria', 'seríamos', 'seriam', 'tenho', 'tem', 'temos', 'tém', 'tinha', 'tínhamos', 'tinham', 'tive', 'teve', 'tivemos', 'tiveram', 'tivera', 'tivéramos', 'tenha', 'tenhamos', 'tenham', 'tivesse', 'tivéssemos', 'tivessem', 'tiver', 'tivermos', 'tiverem', 'terei', 'terá', 'teremos', 'terão', 'teria', 'teríamos', 'teriam']\n"
          ]
        }
      ]
    },
    {
      "cell_type": "markdown",
      "metadata": {
        "id": "PpsE73A3U2ey"
      },
      "source": [
        "## Remoção Números\n",
        "\n",
        "7. remova todos os números, utilizando uma regex\n",
        "\n",
        "```python\n",
        "re.sub(__,__,__)\n",
        "```"
      ]
    },
    {
      "cell_type": "code",
      "metadata": {
        "id": "93QZ-mbOU2ez",
        "outputId": "f0fcb37f-4470-4854-8d6e-1730c30bcfb5",
        "colab": {
          "base_uri": "https://localhost:8080/",
          "height": 122
        }
      },
      "source": [
        "tokens_sem_numbers = re.sub(' \\d+','', corpus)\n",
        "tokens_sem_numbers"
      ],
      "execution_count": 122,
      "outputs": [
        {
          "output_type": "execute_result",
          "data": {
            "application/vnd.google.colaboratory.intrinsic+json": {
              "type": "string"
            },
            "text/plain": [
              "'Processamento de língua natural (PLN) é uma subárea da ciência da computação, inteligência artificial e da linguística que estuda os problemas da geração e compreensão automática de línguas humanas naturais. Sistemas de geração de língua natural convertem informação de bancos de dados de computadores em linguagem compreensível ao ser humano e sistemas de compreensão de língua natural convertem ocorrências de linguagem humana em representações mais formais, mais facilmente manipuláveis por programas de computador. Alguns desafios do PLN são compreensão de língua natural, fazer com que computadores extraiam sentido de linguagem humana ou natural e geração de língua natural.\\n\\n\\n== História ==\\nA história do PLN começou na década de, quando Alan Turing publicou o artigo \"Computing Machinery and Intelligence\", que propunha o que agora é chamado de teste de Turing como critério de inteligência.\\nEm, a experiência de Georgetown envolveu a tradução automática de mais de sessenta frases russas para o inglês. Os autores afirmaram que dentro de três ou cinco anos a tradução automática seria um problema resolvido. No entanto, os avanços reais foram muito mais lentos do que o previsto e, após o relatório ALPAC em, que constatou que a pesquisa de dez anos não conseguiu satisfazer as expectativas, o financiamento para este estudo em tradução automática foi reduzido drasticamente. Poucas pesquisas em tradução automática foram conduzidas até o final dos anos, quando os primeiros sistemas estatísticos de tradução foram desenvolvidos.\\nAlguns sistemas de PLN bem sucedidos desenvolvidos nos anos foram SHRDLU, um sistema de língua natural que trabalhava em \"blocks worlds\" com vocabulário restrito e ELIZA, uma simulação de um psicoterapeuta escrita por Joseph Weizenbaum entre e. Usando pouca informação sobre o pensamento ou a emoção humana, ELIZA criava, em alguns casos, interações surpreendentemente humanas. Quando o \"paciente\" excedia a base de conhecimento do programa, ELIZA fornecia uma resposta genérica, por exemplo, respondendo a \"Minha cabeça dói\" com \"Por que você diz que sua cabeça dói?\".\\nDurante a década de, muitos programadores começaram a escrever \"ontologias conceituais\", que estruturaram a informação do mundo real em dados compreensíveis por computadores. Exemplos são MARGIE (SCHANK,), SAM (CULLINGFORD,), PAM (WILENSKY,), TaleSpin (MEEHAN,), QUALM (LEHNERT,), Politics (CARBONELL,) e Plot Units (LEHNERT, ). Neste período, muitos chatterbots foram escritos, como PARRY, Racter e Jabberwacky.\\nAté a década de, a maioria dos sistemas de PLN se baseava em conjuntos complexos de regras manuscritas. A partir do final dos anos, no entanto, houve uma revolução no PLN com a introdução de algoritmos de aprendizagem automática (aprendizado de máquina) para o processamento de linguagem. Isto foi devido tanto ao aumento constante do poder computacional (ver Lei de Moore) quanto à diminuição gradual da dominância das teorias da linguística chomskyanas (como a gramática gerativa), cujos fundamentos teóricos desestimularam o tipo de corpus linguístico que está subjacente à abordagem da aprendizagem automática ao processamento da linguagem.\\nAlguns dos algoritmos de aprendizado de máquinas mais antigos, como as árvores de decisão, produziam sistemas de regras rígidas então semelhantes às regras existentes na escritas à mão. No entanto, a marcação de partes da fala (part-of-speech tagging) introduziu o uso de modelos ocultos de Markov para o PLN e, cada vez mais, a pesquisa se concentrava em modelos estatísticos, que tomam decisões suaves e probabilísticas baseadas na atribuição de pesos reais aos recursos que compõem dados de entrada. Os modelos de linguagem de cache, sobre os quais muitos sistemas de reconhecimento de fala agora dependem, são exemplos de tais modelos estatísticos. Esses modelos são geralmente mais robustos quando dados informações desconhecidas, especialmente entrada que contém erros (como é muito comum para dados do mundo real) e produzem resultados mais confiáveis quando integrados em sistemas maiores que compreendem múltiplas tarefas.\\nMuitos dos sucessos iniciais notáveis ocorreram no campo da tradução automática, devido especialmente ao trabalho de pesquisa da IBM, que desenvolveu modelos estatísticos mais elaborados. Estes sistemas foram capazes de tirar proveito de corpora textuais multilíngues existentes  produzidos pelo Parlamento do Canadá e a União Europeia como resultado de leis que exigem a tradução de todos os processos governamentais em todas as línguas oficiais dos países. No entanto, a maioria dos sistemas dependia de corpora desenvolvido especificamente para tarefas implementadas por esses sistemas, o que era (e muitas vezes continua sendo) uma grande limitação no sucesso dos mesmo. Como resultado, uma grande quantidade de pesquisa passou de quantidades de dados limitadas a métodos de aprendizagem mais eficazes.\\nPesquisas recentes têm se concentrado cada vez mais em algoritmos de aprendizagem semi-supervisionados e sem supervisão. Esses algoritmos são capazes de aprender com dados que não foram anotados manualmente com as respostas desejadas ou usando uma combinação de dados anotados e não anotados. Geralmente, esta tarefa é muito mais trabalhosa do que a aprendizagem supervisionada e normalmente produz resultados menos precisos para uma quantidade específica de dados de entrada. No entanto, há uma enorme quantidade de dados não anotados disponíveis (incluindo, entre outras coisas, todo o conteúdo da World Wide Web), que muitas vezes pode compensar os resultados inferiores.\\n\\n\\n== Usando a aprendizagem automática (aprendizado de máquina) ==\\nOs algoritmos modernos de PLN baseiam-se na aprendizagem mecânica, especialmente na aprendizagem de máquinas estatísticas. O paradigma da aprendizagem mecânica é diferente do da maioria das tentativas anteriores de processamento da linguagem. Anteriormente, implementações de tarefas de processamento de linguagem envolviam a codificação direta de grandes conjuntos de regras. O paradigma da aprendizagem automática (ou aprendizagem automática) induz a aprendizagem automática de regras através de análises de corpora de exemplos típicos do mundo real ao invés de usar algoritmos gerais de aprendizagem (muitas vezes, embora nem sempre, baseados em inferência estatística). Um corpus (plural \"corpora\") é um conjunto de documentos (ou frases individuais) que foram anotados à mão com os valores corretos a serem aprendidos.\\nMuitas classes diferentes de algoritmos de aprendizado de máquina foram aplicadas a tarefas de PLN. Esses algoritmos tomam como entrada um grande conjunto de \"recursos\" que são gerados a partir de dados de entrada.\\nAlguns dos algoritmos mais usados, como árvores de decisão, produziam sistemas de regras rígidas semelhantes aos sistemas de regras manuscritas mais comuns. No entanto, cada vez mais, a pesquisa tem se concentrado em modelos estatísticos, que tomam decisões flexíveis e probabilísticas baseadas em agregar pesos reais a cada característica de entrada. Tais modelos têm a vantagem de poder expressar a certeza relativa de muitas respostas possíveis diferentes em vez de apenas uma, produzindo resultados mais confiáveis quando esse modelo é incluído como um componente de um sistema maior.\\nOs sistemas baseados em algoritmos de aprendizagem mecânica têm muitas vantagens em relação às regras produzidas manualmente:\\n\\nOs procedimentos de aprendizagem usados durante a aprendizagem da máquina focam-se automaticamente nos casos mais comuns, ao passo que quando se escrevem regras à mão, não é óbvio em que sentido o esforço deve ser dirigido.\\nOs procedimentos de aprendizagem automática podem fazer uso de algoritmos de inferência estatística para produzir modelos que são robustos a entradas não familiares (por exemplo, contendo palavras ou estruturas que não foram vistas antes) e a entradas errôneas (por exemplo, com palavras ou palavras incorretamente omitidas). Geralmente, lidar com essas entradas de forma com regras manuscritas ou sistemas de regras manuscritas que tomam decisões suaves é extremamente trabalhoso, propenso a erros e demorado.\\nSistemas baseados em aprender automaticamente as regras podem ser mais precisos simplesmente fornecendo mais dados de entrada. No entanto, os sistemas baseados em regras escritas à mão só podem ser tornados mais precisos aumentando a complexidade das regras, o que é uma tarefa muito mais difícil. Em particular, há um limite para a complexidade de sistemas baseados em regras artesanais, para além dos quais os sistemas se tornam cada vez mais incontroláveis. No entanto, a criação de mais dados para entrada em sistemas de aprendizado de máquina requer simplesmente um aumento correspondente no número de horas trabalhadas por humanos, geralmente sem aumentos significativos na complexidade do processo de anotação.O subcampo de PLN dedicado a abordagens de aprendizagem é conhecido como aprendizagem de língua natural (NLL) e sua conferência, a CoNLL, e orgão central, o SIGNLL, são patrocinados pela ACL, reconhecendo também as suas ligações com linguística computacional e aquisição de linguagem. Quando o objetivo da pesquisa de aprendizagem de linguagem computacional é entender mais sobre aquisição de linguagem humana, ou psicolinguística, a NLL sobrepõe-se no campo relacionado de psicolinguística computacional.\\n\\n\\n== Aplicações principais ==\\nA listagem a seguir traz alguns dos trabalhos mais pesquisadas em PLN. Note que alguns deles têm aplicações no mundo real, enquanto outras servem mais frequentemente como tarefas secundárias que são usadas para auxiliar na resolução de tarefas maiores. O que distingue essas tarefas de outras tarefas potenciais e reais de PLN não é apenas o volume de pesquisa dedicado a elas, mas o fato de que para cada uma há tipicamente uma definição de problema bem especificada, uma métrica padrão para avaliar a tarefa, corpora padrão em que a tarefa pode ser avaliada e as competições dedicadas à tarefa específica.\\nSumarização automática\\n\\nProduz um resumo legível de uma parte do texto. Muitas vezes usado para fornecer resumos de texto de um tipo conhecido, como artigos na seção financeira de um jornal.Resolução de correferência\\n\\nDada uma frase ou um pedaço maior de texto, determina quais palavras (\"menções\") se referem aos mesmos objetos (\"entidades\"). A resolução da anáfora é um exemplo específico dessa tarefa e está especificamente preocupada em combinar os pronomes com os substantivos ou nomes aos quais eles se referem. A tarefa mais geral da resolução de correferência também inclui a identificação dos chamados \"relacionamentos de ponte\" envolvendo expressões de referência. Por exemplo, numa frase como \"Ele entrou na casa de João pela porta da frente\", \"a porta da frente\" é uma expressão de referência e a relação da ponte a ser identificada é o fato de que a porta a ser referida é a porta da frente de John\\'s (ao invés de alguma outra estrutura que também pode ser referida).Análise do Discurso\\n\\nEsta rubrica inclui uma série de tarefas relacionadas. Uma tarefa é identificar a estrutura discursiva do texto conectado, isto é, a natureza das relações discursivas entre sentenças (por exemplo, elaboração, explicação, contraste). Outra possível tarefa é reconhecer e classificar os atos de fala em um pedaço de texto (por exemplo, pergunta sim-não, pergunta de conteúdo, frase, afirmação, etc).Maquina de tradução\\n\\nTraduzir automaticamente texto de uma linguagem humana para outra. Este é uma das tarefas mais difíceis e faz parte de um tipo de problemas conhecidos como \"AI-complete\", ou seja, exigindo todos os diferentes tipos de conhecimento que os humanos possuem (gramática, semântica, fatos sobre o mundo real, etc) para resolvê-lo adequadamente.Segmentação morfológica\\n\\nSepara palavras em morfemas individuais e identifica classes de morfemas. A dificuldade desta tarefa depende muito da complexidade da morfologia (isto é, da estrutura das palavras) da linguagem que está sendo considerada. O inglês possui uma morfologia bastante simples, especialmente a morfologia flexional, e portanto é possível ignorar esta tarefa inteiramente e simplesmente modelar todas as formas possíveis de uma palavra (por exemplo, \"open, opens, opened, opening\") como palavras separadas. Em línguas como o turco ou o Meitei, uma língua indiana fortemente aglutinada, no entanto, tal abordagem não é possível, uma vez que cada entrada do dicionário tem milhares de formas de palavras possíveis.Reconhecimento de entidade nomeada (NER)\\n\\nDado um fluxo de texto, determina quais são itens no mapa de texto para nomes próprios, como pessoas ou locais e qual é o tipo de cada nome (por exemplo, pessoa, local, organização). Embora a capitalização possa ajudar a reconhecer entidades nomeadas em idiomas como o inglês, essas informações podem não ajudar a determinar o tipo de entidade nomeada e, em alguns casos, sãos imprecisas ou insuficientes. Por exemplo, a primeira palavra de uma frase também é capitalizada e as entidades nomeadas muitas vezes abrangem várias palavras, com apenas algumas delas são capitalizadas. Além disso, muitas outras linguagens em scripts não-ocidentais (por exemplo, chinês ou árabe) não têm nenhuma capitalização e mesmo as línguas com maiúsculas podem não distinguir nomes. Por exemplo, o alemão capitaliza todos os substantivos, independentemente de se referirem a nomes, e o francês e o espanhol não capitalizam nomes que servem como adjetivos.Geração de língua natural\\n\\nConverte informações de bancos de dados de computador ou intenções semânticas em linguagem humana legível.Compreensão da língua natural\\n\\nConverte pedaços de texto em representações mais formais, como estruturas de lógica de primeira ordem, que são mais fáceis de manipular pelos programas de computador. A compreensão da língua natural envolve a identificação da semântica pretendida a partir da múltipla semântica possível que pode ser derivada de uma expressão de língua natural que geralmente toma a forma de notação organizada de conceitos de linguagens naturais. Entretanto, introdução e criação de linguagem metamodelo e ontologia são eficientes soluções empíricas. Uma formalização explícita da semântica de línguas naturais sem confusões com suposições implícitas como closed-world assumption (CWA) versus open-world assumption ou subjetiva Sim / Não versus objetivo Verdadeiro / Falso é esperada para a construção de uma base de formalização semântica.Reconhecimento óptico de caracteres (OCR)\\n\\nDada uma imagem que representa o texto impresso, determina o texto correspondente.Marcação de classe gramatical\\n\\nDada uma sentença, determina a classe gramatical de cada palavra. Muitas palavras, especialmente as comuns, podem servir como múltiplas partes do discurso. Em inglês, por exemplo, \"book\" pode ser um substantivo (\"the book on the table\") ou verbo (\"book a flight\"); \"Set\" pode ser um substantivo, verbo ou adjetivo; E \"out\" pode ser qualquer um de pelo menos cinco diferentes partes da fala. Algumas línguas têm mais ambiguidade do que outras. As línguas com pouca morfologia flexional, como o inglês, são particularmente propensas a tal ambiguidade. O chinês é propenso a tal ambiguidade porque é uma língua tonal durante a verbalização. Tal inflexão não é facilmente transmitida através das entidades empregadas dentro da ortografia para transmitir o significado pretendido.Análise sintática (Parsing)\\n\\nDetermina a árvore de análise (análise gramatical) de uma frase. A gramática para as linguagens naturais é ambígua e frases típicas têm múltiplas análises possíveis. Na verdade, surpreendentemente, para uma frase típica pode haver milhares de análises em potencial (a maioria dos quais parecerá completamente absurda para um ser humano).Respostas a perguntas\\n\\nDada uma questão de linguagem humana, determina sua resposta. As perguntas típicas têm uma resposta correta específica (como \"Qual é o capital do Canadá?\"), mas às vezes perguntas abertas também são consideradas (como \"Qual é o significado da vida?\"). Trabalhos recentes têm analisado questões ainda mais complexas.Extração de relacionamento\\n\\nIdentifica as relações entre entidades nomeadas (por exemplo, quem é casado com quem) com base em textos.Quebra de frases (sentence boundary disambiguation)\\n\\nEncontra os limites da frase em um pedaço de texto. Os limites de frases são normalmente marcadas por pontos ou outros sinais de pontuação, mas esses mesmos caracteres podem servir outros propósitos.Análise de subjetividade (sentiment analysis ou opinion mining)\\n\\nExtrai informações subjetivas geralmente de um conjunto de documentos, muitas vezes usando revisões online para determinar a \"polaridade\" sobre objetos específicos. É especialmente útil para identificar tendências da opinião pública nas mídias sociais, para fins de marketing.Reconhecimento de fala\\n\\nDado um clipe de som de uma pessoa ou pessoas falando, determina a representação textual do discurso. É o oposto da síntese de fala e é uma das áreas mais difíceis, conhecida como \"AI-complete\". Na fala natural quase não há pausas entre palavras sucessivas, por isso a segmentação de fala é uma subtarefa necessária de reconhecimento de fala. Nota-se também que, na maioria das linguagens faladas, os sons que representam letras sucessivas se misturam entre si em um processo denominado coarticulação, de modo que a conversão do sinal analógico em caracteres discretos pode ser um processo muito difícil de ser realizado.Segmentação de fala\\n\\nDado um clipe de som de uma pessoa ou pessoas falando, separa-o em palavras. Uma subaplicação de reconhecimento de fala e normalmente agrupada com ele.Análise morfológica e reconhecimento de tópicos\\n\\nDado um pedaço de texto, separa-o em segmentos cada um dos quais é dedicado a um tópico e identifica o tópico do segmento.Análise morfológica e segmentação de palavras\\n\\nSepara um pedaço de texto contínuo em palavras separadas. Para uma língua como o inglês, isso é bastante trivial, uma vez que as palavras são normalmente separadas por espaços. No entanto, algumas línguas escritas como chinês, japonês e tailandês não marcam limites de palavras de tal forma, e nessas línguas segmentação de texto é uma tarefa significativa que requer conhecimento do vocabulário e morfologia das palavras na língua.Desambiguação\\n\\nMuitas palavras têm mais de um significado, assim temos que selecionar o significado que faz mais sentido no contexto. Para este problema, em geral é dada uma lista de palavras e sentidos de palavras associadas de um dicionário ou recurso online, como o WordNet.\\nEm alguns casos, conjuntos de tarefas relacionadas são agrupados em subcampos de PLN que são frequentemente considerados separadamente da PLN como um todo, como os exemplos à seguir:Recuperação de informação (IR)\\n\\nTrata-se de armazenar, pesquisar e recuperar informações. É um campo separado dentro da ciência da computação (mais perto de bancos de dados), mas a IR se baseia em alguns métodos PLN (por exemplo, stemming). Algumas pesquisas e aplicações atuais procuram preencher a lacuna entre IR e PLN.Extração de informação (IE)\\n\\nTrata-se, em geral, da extração de informação semântica a partir do texto. Abrange tarefas como reconhecimento de entidade mencionada, resolução de correferência e de relacionamento de extração, etc.\\nProcessamento de voz  Abrange reconhecimento de fala, síntese de fala e tarefas relacionadas.\\nOutras tarefas incluem:\\nIdentificação na língua materna\\nStemização\\nSimplificação do texto\\nSíntese de fala\\nRevisão de texto\\nPesquisa em língua natural\\nExpansão da consulta\\nPontuação de ensaio automatizado\\nTruecasing\\n\\n\\n== Estatística ==\\nArtigo principal: Gramática estocástica\\nO processamento estatístico em língua natural utiliza métodos estocásticos, probabilísticos e estatísticos para resolver algumas das dificuldades discutidas acima, especialmente aquelas que surgem porque frases mais longas são muito ambíguas quando processadas com gramáticas realistas, produzindo milhares ou milhões de análises possíveis. Métodos de desambiguação envolvem muitas vezes o uso de corpora e modelos de Markov. O projeto ESPRIT P26 (1984-1988), liderado pelo CSELT, explorou o problema do reconhecimento de fala comparando abordagem baseada em conhecimento e estatística: o resultado escolhido foi um modelo completamente estatístico. Um dos primeiros modelos de compreensão estatística da língua natural foi introduzido em por Roberto Pieraccini, Esther Levin e Chin-Hui Lee, da Bell Laboratories]. O PLN compreende todas as abordagens quantitativas para processamento automatizado de linguagem, incluindo modelagem probabilística, teoria da informação e álgebra linear. A tecnologia para o PLN estatístico vem principalmente da aprendizagem automática e da mineração de dados, que são campos de inteligência artificial que envolvem o aprendizado a partir de dados.\\n\\n\\n== Avaliação ==\\nO objetivo da avaliação do PLN é uma medida de uma ou mais qualidades de um algoritmo ou de um sistema a fim de determinar se o algoritmo atende às metas dos projetistas ou o sistema de atendimento às necessidades de seus usuários. Investigação na avaliação PLN  tem ganhado atenção, porque a definição de critérios de avaliação é uma forma de especificar precisamente problemas do PLN. Uma métrica de avaliação de PLN em um sistema algorítmico permite a integração da compreensão de linguagem e geração de linguagem. Um conjunto preciso de critérios de avaliação, que pode ser aplicado principalmente a avaliações métricas, podendo permitir que várias equipes comparem suas soluções para um determinado problema do PLN.\\n\\n\\n== Cronologia da avaliação ==\\nEm, iniciou-se o Projecto Esprit P26, que avaliou as Tecnologias da Fala (incluindo tópicos gerais como Sintaxe e Semântica) comparando as abordagens baseadas em regras com as estatísticas.\\nEm, a primeira campanha de avaliação de textos escritos parece ser uma campanha dedicada à compreensão da mensagem (Pallet,).\\nO projeto Parseval / GEIG comparou gramáticas de frase-estrutura (Black).\\nHouve uma série de campanhas no projeto Tipster sobre tarefas como resumo, tradução e pesquisa (Hirschman).\\nEm, na Alemanha, o Morpholympics comparou marcadores morfológicos alemães.\\nAs campanhas de Senseval & Romanseval foram realizadas com os objetivos de desambiguação semântica.\\nEm, a campanha Sparkle comparou os analisadores sintáticos em quatro idiomas diferentes (inglês, francês, alemão e italiano).\\nNa França, o projeto Grace comparou um conjunto de marcadores para o francês em (Adda).\\nEm, durante o projeto Technolangue / Easy, foram comparados analisadores para o francês.\\nA avaliação em larga escala dos analisadores de dependência foi realizada no contexto das tarefas compartilhadas do CoNLL em e.\\nNa França, no âmbito do projecto ANR-Passage (final de), foram comparados analisadores para o francês.\\nEm Itália, a campanha EVALITA foi realizada em,, e para comparar várias ferramentas de PLN e de voz para o site italiano - EVALITA.\\n\\n\\n== Diferentes tipos de avaliação ==\\nAvaliação intrínseca vs. extrínseca\\nA avaliação intrínseca considera um sistema PNL isolado e caracteriza seu desempenho em relação a um resultado padrão-excelência, conforme definido pelos avaliadores. A avaliação extrínseca, também chamada de avaliação em uso, considera o sistema PLN em um cenário mais complexo como um sistema embutido ou uma função precisa para um usuário humano. O desempenho extrínseco do sistema é então caracterizado em termos de utilidade em relação à tarefa global do sistema estranho ou do utilizador humano. Por exemplo, considere um analisador sintático que é baseado na saída de alguma parte do tagger de fala (POS). Uma avaliação intrínseca executaria o marcador POS em dados estruturados e compararia a saída do sistema do marcador POS com a saída padrão ouro. Uma avaliação extrínseca executaria o analisador com algum outro marcador POS e, em seguida, com o marcador POS novo e compara a precisão de análise.\\nCaixa preta vs. Avaliação da caixa de vidro\\nA avaliação em caixa preta requer que alguém execute um sistema PLN em um conjunto de dados de amostra e para medir uma série de parâmetros relacionados com a qualidade do processo, como velocidade, confiabilidade, consumo de recursos e, principalmente, a qualidade do resultado, como a precisão da anotação de dados ou a fidelidade de uma tradução. A avaliação da caixa de vidro examina a concepção do sistema; Os algoritmos que são implementados, os recursos linguísticos que utiliza, como o tamanho do vocabulário ou a expressão definida de cardinalidade. Dada a complexidade dos problemas da PLN, muitas vezes é difícil prever o desempenho apenas com base na avaliação da caixa de vidro; Mas este tipo de avaliação é mais informativo no que diz respeito à análise de erros ou desenvolvimentos futuros de um sistema.\\nAutomática vs. avaliação manual\\nEm muitos casos, procedimentos automáticos podem ser definidos para avaliar um sistema de PLN, comparando sua saída com o padrão de excelência. Embora o custo de reproduzir o padrão de excelência possa ser bastante elevado, avaliação automática de bootstrapping sobre os mesmos dados de entrada pode ser repetida quantas vezes for necessário sem custos adicionais desordenados. No entanto, para muitos problemas de PLN a definição precisa de um padrão de excelência é uma tarefa complexa e pode se revelar impossível quando o acordo inter-anotador é insuficiente. A avaliação manual é melhor realizada por juízes humanos instruídos para estimar a qualidade de um sistema, ou mais frequentemente de uma amostra de sua produção, com base em uma série de critérios. Embora, graças à sua competência linguística, os juízes humanos possam ser considerados como a referência para uma série de tarefas de processamento de linguagem, há também uma variação considerável em suas classificações. É por isso que a avaliação automática é, por vezes, referida como avaliação objetiva enquanto a avaliação humana é perspectiva.\\n\\n\\n== Padronização ==\\nUm subcomitê ISO está trabalhando para facilitar a interoperabilidade entre recursos lexicais e programas PLN. O subcomitê faz parte do ISO / TC37 e é chamado ISO / TC37 / SC4. Alguns padrões ISO já estão publicados, mas a maioria deles está em construção, principalmente na representação de léxico (ver LMF), anotação e registro de categoria de dados.\\n\\n\\n== Ferramentas ==\\nExpert System S.p.A.\\nGeneral Architecture for Text Engineering\\nModular Audio Recognition Framework\\nNatural Language Toolkit (NLTK): uma biblioteca em Python\\nOpenNLP\\n\\n\\n== Veja também ==\\nMineração de texto biomédica\\nProcesso de processamento composto\\nRevisão assistida por computador\\nLinguagem natural controlada\\nProcessamento linguístico profundo\\nAuxílio à leitura de línguas estrangeiras\\nAuxílio à escrita em língua estrangeira\\nTecnologia da linguagem\\nA alocação de Dirichlet Latente (LDA)\\nIndexação semântica latente\\nLista de ferramentas de processamento de língua natural\\nMapa de LRE\\nProgramação em língua natural\\nReificação (linguística)\\nDobradura semântica\\nSistema de diálogo falado\\nVetor do Pensamento\\nPesquisa Transderivacional\\nWord2vec\\n\\n\\n== Referências ==\\n\\n\\n== Leitura adicional ==\\nSteven Bird, Ewan Klein, and Edward Loper (2009). Natural Language Processing with Python. O\\'Reilly Media. ISBN-0-596-51649-9.\\nDaniel Jurafsky and James H. Martin (2008). Speech and Language Processing,nd edition. Pearson Prentice Hall. ISBN-0-13-187321-6.\\nChristopher D. Manning, Prabhakar Raghavan, and Hinrich Schütze (2008). Introduction to Information Retrieval. Cambridge University Press. ISBN-0-521-86571-5. Official html and pdf versions available without charge.\\nChristopher D. Manning and Hinrich Schütze (1999). Foundations of Statistical Natural Language Processing. The MIT Press. ISBN-0-262-13360-9.\\nDavid M. W. Powers and Christopher C. R. Turk (1989). Machine Learning of Natural Language. Springer-Verlag. ISBN-0-387-19557-5.'"
            ]
          },
          "metadata": {},
          "execution_count": 122
        }
      ]
    },
    {
      "cell_type": "markdown",
      "metadata": {
        "id": "ZAziUGgxU2e0"
      },
      "source": [
        "## Remoção Pontuação\n",
        "\n",
        "8. remova todas as pontruações retornadas pelo pacote string da lista de tokens.\n",
        "\n",
        "```python\n",
        "string.punctuation\n",
        "```"
      ]
    },
    {
      "cell_type": "code",
      "metadata": {
        "id": "-JPCj-lXU2e6",
        "outputId": "3fff7b8a-d025-40fc-8624-ccefcee572cf",
        "colab": {
          "base_uri": "https://localhost:8080/",
          "height": 122
        }
      },
      "source": [
        "tokens_sem_punction = re.sub(r'[^\\w\\s]','',corpus)\n",
        "tokens_sem_punction"
      ],
      "execution_count": 76,
      "outputs": [
        {
          "output_type": "execute_result",
          "data": {
            "application/vnd.google.colaboratory.intrinsic+json": {
              "type": "string"
            },
            "text/plain": [
              "'Processamento de língua natural PLN é uma subárea da ciência da computação inteligência artificial e da linguística que estuda os problemas da geração e compreensão automática de línguas humanas naturais Sistemas de geração de língua natural convertem informação de bancos de dados de computadores em linguagem compreensível ao ser humano e sistemas de compreensão de língua natural convertem ocorrências de linguagem humana em representações mais formais mais facilmente manipuláveis por programas de computador Alguns desafios do PLN são compreensão de língua natural fazer com que computadores extraiam sentido de linguagem humana ou natural e geração de língua natural\\n\\n\\n História \\nA história do PLN começou na década de 1950 quando Alan Turing publicou o artigo Computing Machinery and Intelligence que propunha o que agora é chamado de teste de Turing como critério de inteligência\\nEm 1954 a experiência de Georgetown envolveu a tradução automática de mais de sessenta frases russas para o inglês Os autores afirmaram que dentro de três ou cinco anos a tradução automática seria um problema resolvido No entanto os avanços reais foram muito mais lentos do que o previsto e após o relatório ALPAC em 1966 que constatou que a pesquisa de dez anos não conseguiu satisfazer as expectativas o financiamento para este estudo em tradução automática foi reduzido drasticamente Poucas pesquisas em tradução automática foram conduzidas até o final dos anos 80 quando os primeiros sistemas estatísticos de tradução foram desenvolvidos\\nAlguns sistemas de PLN bem sucedidos desenvolvidos nos anos 60 foram SHRDLU um sistema de língua natural que trabalhava em blocks worlds com vocabulário restrito e ELIZA uma simulação de um psicoterapeuta escrita por Joseph Weizenbaum entre 1964 e 1966 Usando pouca informação sobre o pensamento ou a emoção humana ELIZA criava em alguns casos interações surpreendentemente humanas Quando o paciente excedia a base de conhecimento do programa ELIZA fornecia uma resposta genérica por exemplo respondendo a Minha cabeça dói com Por que você diz que sua cabeça dói\\nDurante a década de 1970 muitos programadores começaram a escrever ontologias conceituais que estruturaram a informação do mundo real em dados compreensíveis por computadores Exemplos são MARGIE SCHANK 1975 SAM CULLINGFORD 1978 PAM WILENSKY 1978 TaleSpin MEEHAN 1976 QUALM LEHNERT 1977 Politics CARBONELL 1979 e Plot Units LEHNERT 1981  Neste período muitos chatterbots foram escritos como PARRY Racter e Jabberwacky\\nAté a década de 1980 a maioria dos sistemas de PLN se baseava em conjuntos complexos de regras manuscritas A partir do final dos anos 1980 no entanto houve uma revolução no PLN com a introdução de algoritmos de aprendizagem automática aprendizado de máquina para o processamento de linguagem Isto foi devido tanto ao aumento constante do poder computacional ver Lei de Moore quanto à diminuição gradual da dominância das teorias da linguística chomskyanas como a gramática gerativa cujos fundamentos teóricos desestimularam o tipo de corpus linguístico que está subjacente à abordagem da aprendizagem automática ao processamento da linguagem\\nAlguns dos algoritmos de aprendizado de máquinas mais antigos como as árvores de decisão produziam sistemas de regras rígidas então semelhantes às regras existentes na escritas à mão No entanto a marcação de partes da fala partofspeech tagging introduziu o uso de modelos ocultos de Markov para o PLN e cada vez mais a pesquisa se concentrava em modelos estatísticos que tomam decisões suaves e probabilísticas baseadas na atribuição de pesos reais aos recursos que compõem dados de entrada Os modelos de linguagem de cache sobre os quais muitos sistemas de reconhecimento de fala agora dependem são exemplos de tais modelos estatísticos Esses modelos são geralmente mais robustos quando dados informações desconhecidas especialmente entrada que contém erros como é muito comum para dados do mundo real e produzem resultados mais confiáveis quando integrados em sistemas maiores que compreendem múltiplas tarefas\\nMuitos dos sucessos iniciais notáveis ocorreram no campo da tradução automática devido especialmente ao trabalho de pesquisa da IBM que desenvolveu modelos estatísticos mais elaborados Estes sistemas foram capazes de tirar proveito de corpora textuais multilíngues existentes  produzidos pelo Parlamento do Canadá e a União Europeia como resultado de leis que exigem a tradução de todos os processos governamentais em todas as línguas oficiais dos países No entanto a maioria dos sistemas dependia de corpora desenvolvido especificamente para tarefas implementadas por esses sistemas o que era e muitas vezes continua sendo uma grande limitação no sucesso dos mesmo Como resultado uma grande quantidade de pesquisa passou de quantidades de dados limitadas a métodos de aprendizagem mais eficazes\\nPesquisas recentes têm se concentrado cada vez mais em algoritmos de aprendizagem semisupervisionados e sem supervisão Esses algoritmos são capazes de aprender com dados que não foram anotados manualmente com as respostas desejadas ou usando uma combinação de dados anotados e não anotados Geralmente esta tarefa é muito mais trabalhosa do que a aprendizagem supervisionada e normalmente produz resultados menos precisos para uma quantidade específica de dados de entrada No entanto há uma enorme quantidade de dados não anotados disponíveis incluindo entre outras coisas todo o conteúdo da World Wide Web que muitas vezes pode compensar os resultados inferiores\\n\\n\\n Usando a aprendizagem automática aprendizado de máquina \\nOs algoritmos modernos de PLN baseiamse na aprendizagem mecânica especialmente na aprendizagem de máquinas estatísticas O paradigma da aprendizagem mecânica é diferente do da maioria das tentativas anteriores de processamento da linguagem Anteriormente implementações de tarefas de processamento de linguagem envolviam a codificação direta de grandes conjuntos de regras O paradigma da aprendizagem automática ou aprendizagem automática induz a aprendizagem automática de regras através de análises de corpora de exemplos típicos do mundo real ao invés de usar algoritmos gerais de aprendizagem muitas vezes embora nem sempre baseados em inferência estatística Um corpus plural corpora é um conjunto de documentos ou frases individuais que foram anotados à mão com os valores corretos a serem aprendidos\\nMuitas classes diferentes de algoritmos de aprendizado de máquina foram aplicadas a tarefas de PLN Esses algoritmos tomam como entrada um grande conjunto de recursos que são gerados a partir de dados de entrada\\nAlguns dos algoritmos mais usados como árvores de decisão produziam sistemas de regras rígidas semelhantes aos sistemas de regras manuscritas mais comuns No entanto cada vez mais a pesquisa tem se concentrado em modelos estatísticos que tomam decisões flexíveis e probabilísticas baseadas em agregar pesos reais a cada característica de entrada Tais modelos têm a vantagem de poder expressar a certeza relativa de muitas respostas possíveis diferentes em vez de apenas uma produzindo resultados mais confiáveis quando esse modelo é incluído como um componente de um sistema maior\\nOs sistemas baseados em algoritmos de aprendizagem mecânica têm muitas vantagens em relação às regras produzidas manualmente\\n\\nOs procedimentos de aprendizagem usados durante a aprendizagem da máquina focamse automaticamente nos casos mais comuns ao passo que quando se escrevem regras à mão não é óbvio em que sentido o esforço deve ser dirigido\\nOs procedimentos de aprendizagem automática podem fazer uso de algoritmos de inferência estatística para produzir modelos que são robustos a entradas não familiares por exemplo contendo palavras ou estruturas que não foram vistas antes e a entradas errôneas por exemplo com palavras ou palavras incorretamente omitidas Geralmente lidar com essas entradas de forma com regras manuscritas ou sistemas de regras manuscritas que tomam decisões suaves é extremamente trabalhoso propenso a erros e demorado\\nSistemas baseados em aprender automaticamente as regras podem ser mais precisos simplesmente fornecendo mais dados de entrada No entanto os sistemas baseados em regras escritas à mão só podem ser tornados mais precisos aumentando a complexidade das regras o que é uma tarefa muito mais difícil Em particular há um limite para a complexidade de sistemas baseados em regras artesanais para além dos quais os sistemas se tornam cada vez mais incontroláveis No entanto a criação de mais dados para entrada em sistemas de aprendizado de máquina requer simplesmente um aumento correspondente no número de horas trabalhadas por humanos geralmente sem aumentos significativos na complexidade do processo de anotaçãoO subcampo de PLN dedicado a abordagens de aprendizagem é conhecido como aprendizagem de língua natural NLL e sua conferência a CoNLL e orgão central o SIGNLL são patrocinados pela ACL reconhecendo também as suas ligações com linguística computacional e aquisição de linguagem Quando o objetivo da pesquisa de aprendizagem de linguagem computacional é entender mais sobre aquisição de linguagem humana ou psicolinguística a NLL sobrepõese no campo relacionado de psicolinguística computacional\\n\\n\\n Aplicações principais \\nA listagem a seguir traz alguns dos trabalhos mais pesquisadas em PLN Note que alguns deles têm aplicações no mundo real enquanto outras servem mais frequentemente como tarefas secundárias que são usadas para auxiliar na resolução de tarefas maiores O que distingue essas tarefas de outras tarefas potenciais e reais de PLN não é apenas o volume de pesquisa dedicado a elas mas o fato de que para cada uma há tipicamente uma definição de problema bem especificada uma métrica padrão para avaliar a tarefa corpora padrão em que a tarefa pode ser avaliada e as competições dedicadas à tarefa específica\\nSumarização automática\\n\\nProduz um resumo legível de uma parte do texto Muitas vezes usado para fornecer resumos de texto de um tipo conhecido como artigos na seção financeira de um jornalResolução de correferência\\n\\nDada uma frase ou um pedaço maior de texto determina quais palavras menções se referem aos mesmos objetos entidades A resolução da anáfora é um exemplo específico dessa tarefa e está especificamente preocupada em combinar os pronomes com os substantivos ou nomes aos quais eles se referem A tarefa mais geral da resolução de correferência também inclui a identificação dos chamados relacionamentos de ponte envolvendo expressões de referência Por exemplo numa frase como Ele entrou na casa de João pela porta da frente a porta da frente é uma expressão de referência e a relação da ponte a ser identificada é o fato de que a porta a ser referida é a porta da frente de Johns ao invés de alguma outra estrutura que também pode ser referidaAnálise do Discurso\\n\\nEsta rubrica inclui uma série de tarefas relacionadas Uma tarefa é identificar a estrutura discursiva do texto conectado isto é a natureza das relações discursivas entre sentenças por exemplo elaboração explicação contraste Outra possível tarefa é reconhecer e classificar os atos de fala em um pedaço de texto por exemplo pergunta simnão pergunta de conteúdo frase afirmação etcMaquina de tradução\\n\\nTraduzir automaticamente texto de uma linguagem humana para outra Este é uma das tarefas mais difíceis e faz parte de um tipo de problemas conhecidos como AIcomplete ou seja exigindo todos os diferentes tipos de conhecimento que os humanos possuem gramática semântica fatos sobre o mundo real etc para resolvêlo adequadamenteSegmentação morfológica\\n\\nSepara palavras em morfemas individuais e identifica classes de morfemas A dificuldade desta tarefa depende muito da complexidade da morfologia isto é da estrutura das palavras da linguagem que está sendo considerada O inglês possui uma morfologia bastante simples especialmente a morfologia flexional e portanto é possível ignorar esta tarefa inteiramente e simplesmente modelar todas as formas possíveis de uma palavra por exemplo open opens opened opening como palavras separadas Em línguas como o turco ou o Meitei uma língua indiana fortemente aglutinada no entanto tal abordagem não é possível uma vez que cada entrada do dicionário tem milhares de formas de palavras possíveisReconhecimento de entidade nomeada NER\\n\\nDado um fluxo de texto determina quais são itens no mapa de texto para nomes próprios como pessoas ou locais e qual é o tipo de cada nome por exemplo pessoa local organização Embora a capitalização possa ajudar a reconhecer entidades nomeadas em idiomas como o inglês essas informações podem não ajudar a determinar o tipo de entidade nomeada e em alguns casos sãos imprecisas ou insuficientes Por exemplo a primeira palavra de uma frase também é capitalizada e as entidades nomeadas muitas vezes abrangem várias palavras com apenas algumas delas são capitalizadas Além disso muitas outras linguagens em scripts nãoocidentais por exemplo chinês ou árabe não têm nenhuma capitalização e mesmo as línguas com maiúsculas podem não distinguir nomes Por exemplo o alemão capitaliza todos os substantivos independentemente de se referirem a nomes e o francês e o espanhol não capitalizam nomes que servem como adjetivosGeração de língua natural\\n\\nConverte informações de bancos de dados de computador ou intenções semânticas em linguagem humana legívelCompreensão da língua natural\\n\\nConverte pedaços de texto em representações mais formais como estruturas de lógica de primeira ordem que são mais fáceis de manipular pelos programas de computador A compreensão da língua natural envolve a identificação da semântica pretendida a partir da múltipla semântica possível que pode ser derivada de uma expressão de língua natural que geralmente toma a forma de notação organizada de conceitos de linguagens naturais Entretanto introdução e criação de linguagem metamodelo e ontologia são eficientes soluções empíricas Uma formalização explícita da semântica de línguas naturais sem confusões com suposições implícitas como closedworld assumption CWA versus openworld assumption ou subjetiva Sim  Não versus objetivo Verdadeiro  Falso é esperada para a construção de uma base de formalização semânticaReconhecimento óptico de caracteres OCR\\n\\nDada uma imagem que representa o texto impresso determina o texto correspondenteMarcação de classe gramatical\\n\\nDada uma sentença determina a classe gramatical de cada palavra Muitas palavras especialmente as comuns podem servir como múltiplas partes do discurso Em inglês por exemplo book pode ser um substantivo the book on the table ou verbo book a flight Set pode ser um substantivo verbo ou adjetivo E out pode ser qualquer um de pelo menos cinco diferentes partes da fala Algumas línguas têm mais ambiguidade do que outras As línguas com pouca morfologia flexional como o inglês são particularmente propensas a tal ambiguidade O chinês é propenso a tal ambiguidade porque é uma língua tonal durante a verbalização Tal inflexão não é facilmente transmitida através das entidades empregadas dentro da ortografia para transmitir o significado pretendidoAnálise sintática Parsing\\n\\nDetermina a árvore de análise análise gramatical de uma frase A gramática para as linguagens naturais é ambígua e frases típicas têm múltiplas análises possíveis Na verdade surpreendentemente para uma frase típica pode haver milhares de análises em potencial a maioria dos quais parecerá completamente absurda para um ser humanoRespostas a perguntas\\n\\nDada uma questão de linguagem humana determina sua resposta As perguntas típicas têm uma resposta correta específica como Qual é o capital do Canadá mas às vezes perguntas abertas também são consideradas como Qual é o significado da vida Trabalhos recentes têm analisado questões ainda mais complexasExtração de relacionamento\\n\\nIdentifica as relações entre entidades nomeadas por exemplo quem é casado com quem com base em textosQuebra de frases sentence boundary disambiguation\\n\\nEncontra os limites da frase em um pedaço de texto Os limites de frases são normalmente marcadas por pontos ou outros sinais de pontuação mas esses mesmos caracteres podem servir outros propósitosAnálise de subjetividade sentiment analysis ou opinion mining\\n\\nExtrai informações subjetivas geralmente de um conjunto de documentos muitas vezes usando revisões online para determinar a polaridade sobre objetos específicos É especialmente útil para identificar tendências da opinião pública nas mídias sociais para fins de marketingReconhecimento de fala\\n\\nDado um clipe de som de uma pessoa ou pessoas falando determina a representação textual do discurso É o oposto da síntese de fala e é uma das áreas mais difíceis conhecida como AIcomplete Na fala natural quase não há pausas entre palavras sucessivas por isso a segmentação de fala é uma subtarefa necessária de reconhecimento de fala Notase também que na maioria das linguagens faladas os sons que representam letras sucessivas se misturam entre si em um processo denominado coarticulação de modo que a conversão do sinal analógico em caracteres discretos pode ser um processo muito difícil de ser realizadoSegmentação de fala\\n\\nDado um clipe de som de uma pessoa ou pessoas falando separao em palavras Uma subaplicação de reconhecimento de fala e normalmente agrupada com eleAnálise morfológica e reconhecimento de tópicos\\n\\nDado um pedaço de texto separao em segmentos cada um dos quais é dedicado a um tópico e identifica o tópico do segmentoAnálise morfológica e segmentação de palavras\\n\\nSepara um pedaço de texto contínuo em palavras separadas Para uma língua como o inglês isso é bastante trivial uma vez que as palavras são normalmente separadas por espaços No entanto algumas línguas escritas como chinês japonês e tailandês não marcam limites de palavras de tal forma e nessas línguas segmentação de texto é uma tarefa significativa que requer conhecimento do vocabulário e morfologia das palavras na línguaDesambiguação\\n\\nMuitas palavras têm mais de um significado assim temos que selecionar o significado que faz mais sentido no contexto Para este problema em geral é dada uma lista de palavras e sentidos de palavras associadas de um dicionário ou recurso online como o WordNet\\nEm alguns casos conjuntos de tarefas relacionadas são agrupados em subcampos de PLN que são frequentemente considerados separadamente da PLN como um todo como os exemplos à seguirRecuperação de informação IR\\n\\nTratase de armazenar pesquisar e recuperar informações É um campo separado dentro da ciência da computação mais perto de bancos de dados mas a IR se baseia em alguns métodos PLN por exemplo stemming Algumas pesquisas e aplicações atuais procuram preencher a lacuna entre IR e PLNExtração de informação IE\\n\\nTratase em geral da extração de informação semântica a partir do texto Abrange tarefas como reconhecimento de entidade mencionada resolução de correferência e de relacionamento de extração etc\\nProcessamento de voz  Abrange reconhecimento de fala síntese de fala e tarefas relacionadas\\nOutras tarefas incluem\\nIdentificação na língua materna\\nStemização\\nSimplificação do texto\\nSíntese de fala\\nRevisão de texto\\nPesquisa em língua natural\\nExpansão da consulta\\nPontuação de ensaio automatizado\\nTruecasing\\n\\n\\n Estatística \\nArtigo principal Gramática estocástica\\nO processamento estatístico em língua natural utiliza métodos estocásticos probabilísticos e estatísticos para resolver algumas das dificuldades discutidas acima especialmente aquelas que surgem porque frases mais longas são muito ambíguas quando processadas com gramáticas realistas produzindo milhares ou milhões de análises possíveis Métodos de desambiguação envolvem muitas vezes o uso de corpora e modelos de Markov O projeto ESPRIT P26 19841988 liderado pelo CSELT explorou o problema do reconhecimento de fala comparando abordagem baseada em conhecimento e estatística o resultado escolhido foi um modelo completamente estatístico Um dos primeiros modelos de compreensão estatística da língua natural foi introduzido em 1991 por Roberto Pieraccini Esther Levin e ChinHui Lee da Bell Laboratories O PLN compreende todas as abordagens quantitativas para processamento automatizado de linguagem incluindo modelagem probabilística teoria da informação e álgebra linear A tecnologia para o PLN estatístico vem principalmente da aprendizagem automática e da mineração de dados que são campos de inteligência artificial que envolvem o aprendizado a partir de dados\\n\\n\\n Avaliação \\nO objetivo da avaliação do PLN é uma medida de uma ou mais qualidades de um algoritmo ou de um sistema a fim de determinar se o algoritmo atende às metas dos projetistas ou o sistema de atendimento às necessidades de seus usuários Investigação na avaliação PLN  tem ganhado atenção porque a definição de critérios de avaliação é uma forma de especificar precisamente problemas do PLN Uma métrica de avaliação de PLN em um sistema algorítmico permite a integração da compreensão de linguagem e geração de linguagem Um conjunto preciso de critérios de avaliação que pode ser aplicado principalmente a avaliações métricas podendo permitir que várias equipes comparem suas soluções para um determinado problema do PLN\\n\\n\\n Cronologia da avaliação \\nEm 1983 iniciouse o Projecto Esprit P26 que avaliou as Tecnologias da Fala incluindo tópicos gerais como Sintaxe e Semântica comparando as abordagens baseadas em regras com as estatísticas\\nEm 1987 a primeira campanha de avaliação de textos escritos parece ser uma campanha dedicada à compreensão da mensagem Pallet 1998\\nO projeto Parseval  GEIG comparou gramáticas de fraseestrutura Black 1991\\nHouve uma série de campanhas no projeto Tipster sobre tarefas como resumo tradução e pesquisa Hirschman 1998\\nEm 1994 na Alemanha o Morpholympics comparou marcadores morfológicos alemães\\nAs campanhas de Senseval  Romanseval foram realizadas com os objetivos de desambiguação semântica\\nEm 1996 a campanha Sparkle comparou os analisadores sintáticos em quatro idiomas diferentes inglês francês alemão e italiano\\nNa França o projeto Grace comparou um conjunto de 21 marcadores para o francês em 1997 Adda 1999\\nEm 2004 durante o projeto Technolangue  Easy foram comparados 13 analisadores para o francês\\nA avaliação em larga escala dos analisadores de dependência foi realizada no contexto das tarefas compartilhadas do CoNLL em 2006 e 2007\\nNa França no âmbito do projecto ANRPassage final de 2007 foram comparados 10 analisadores para o francês\\nEm Itália a campanha EVALITA foi realizada em 2007 2009 2011 e 2014 para comparar várias ferramentas de PLN e de voz para o site italiano  EVALITA\\n\\n\\n Diferentes tipos de avaliação \\nAvaliação intrínseca vs extrínseca\\nA avaliação intrínseca considera um sistema PNL isolado e caracteriza seu desempenho em relação a um resultado padrãoexcelência conforme definido pelos avaliadores A avaliação extrínseca também chamada de avaliação em uso considera o sistema PLN em um cenário mais complexo como um sistema embutido ou uma função precisa para um usuário humano O desempenho extrínseco do sistema é então caracterizado em termos de utilidade em relação à tarefa global do sistema estranho ou do utilizador humano Por exemplo considere um analisador sintático que é baseado na saída de alguma parte do tagger de fala POS Uma avaliação intrínseca executaria o marcador POS em dados estruturados e compararia a saída do sistema do marcador POS com a saída padrão ouro Uma avaliação extrínseca executaria o analisador com algum outro marcador POS e em seguida com o marcador POS novo e compara a precisão de análise\\nCaixa preta vs Avaliação da caixa de vidro\\nA avaliação em caixa preta requer que alguém execute um sistema PLN em um conjunto de dados de amostra e para medir uma série de parâmetros relacionados com a qualidade do processo como velocidade confiabilidade consumo de recursos e principalmente a qualidade do resultado como a precisão da anotação de dados ou a fidelidade de uma tradução A avaliação da caixa de vidro examina a concepção do sistema Os algoritmos que são implementados os recursos linguísticos que utiliza como o tamanho do vocabulário ou a expressão definida de cardinalidade Dada a complexidade dos problemas da PLN muitas vezes é difícil prever o desempenho apenas com base na avaliação da caixa de vidro Mas este tipo de avaliação é mais informativo no que diz respeito à análise de erros ou desenvolvimentos futuros de um sistema\\nAutomática vs avaliação manual\\nEm muitos casos procedimentos automáticos podem ser definidos para avaliar um sistema de PLN comparando sua saída com o padrão de excelência Embora o custo de reproduzir o padrão de excelência possa ser bastante elevado avaliação automática de bootstrapping sobre os mesmos dados de entrada pode ser repetida quantas vezes for necessário sem custos adicionais desordenados No entanto para muitos problemas de PLN a definição precisa de um padrão de excelência é uma tarefa complexa e pode se revelar impossível quando o acordo interanotador é insuficiente A avaliação manual é melhor realizada por juízes humanos instruídos para estimar a qualidade de um sistema ou mais frequentemente de uma amostra de sua produção com base em uma série de critérios Embora graças à sua competência linguística os juízes humanos possam ser considerados como a referência para uma série de tarefas de processamento de linguagem há também uma variação considerável em suas classificações É por isso que a avaliação automática é por vezes referida como avaliação objetiva enquanto a avaliação humana é perspectiva\\n\\n\\n Padronização \\nUm subcomitê ISO está trabalhando para facilitar a interoperabilidade entre recursos lexicais e programas PLN O subcomitê faz parte do ISO  TC37 e é chamado ISO  TC37  SC4 Alguns padrões ISO já estão publicados mas a maioria deles está em construção principalmente na representação de léxico ver LMF anotação e registro de categoria de dados\\n\\n\\n Ferramentas \\nExpert System SpA\\nGeneral Architecture for Text Engineering\\nModular Audio Recognition Framework\\nNatural Language Toolkit NLTK uma biblioteca em Python\\nOpenNLP\\n\\n\\n Veja também \\nMineração de texto biomédica\\nProcesso de processamento composto\\nRevisão assistida por computador\\nLinguagem natural controlada\\nProcessamento linguístico profundo\\nAuxílio à leitura de línguas estrangeiras\\nAuxílio à escrita em língua estrangeira\\nTecnologia da linguagem\\nA alocação de Dirichlet Latente LDA\\nIndexação semântica latente\\nLista de ferramentas de processamento de língua natural\\nMapa de LRE\\nProgramação em língua natural\\nReificação linguística\\nDobradura semântica\\nSistema de diálogo falado\\nVetor do Pensamento\\nPesquisa Transderivacional\\nWord2vec\\n\\n\\n Referências \\n\\n\\n Leitura adicional \\nSteven Bird Ewan Klein and Edward Loper 2009 Natural Language Processing with Python OReilly Media ISBN 9780596516499\\nDaniel Jurafsky and James H Martin 2008 Speech and Language Processing 2nd edition Pearson Prentice Hall ISBN 9780131873216\\nChristopher D Manning Prabhakar Raghavan and Hinrich Schütze 2008 Introduction to Information Retrieval Cambridge University Press ISBN 9780521865715 Official html and pdf versions available without charge\\nChristopher D Manning and Hinrich Schütze 1999 Foundations of Statistical Natural Language Processing The MIT Press ISBN 9780262133609\\nDavid M W Powers and Christopher C R Turk 1989 Machine Learning of Natural Language SpringerVerlag ISBN 9780387195575'"
            ]
          },
          "metadata": {},
          "execution_count": 76
        }
      ]
    },
    {
      "cell_type": "markdown",
      "metadata": {
        "id": "SM-c--fZU2fB"
      },
      "source": [
        "## Remoção Acentos\n",
        "\n",
        "9. remova todos os acentos utilizando a função abaixo:\n",
        "\n",
        "```python\n",
        "unidecode(str)\n",
        "```"
      ]
    },
    {
      "cell_type": "code",
      "metadata": {
        "id": "-m2wSusXU2fB"
      },
      "source": [
        "from unidecode import unidecode"
      ],
      "execution_count": 77,
      "outputs": []
    },
    {
      "cell_type": "code",
      "metadata": {
        "id": "H1q1I-UhU2fD",
        "colab": {
          "base_uri": "https://localhost:8080/",
          "height": 122
        },
        "outputId": "065d9316-2352-488f-e693-2838647ae8d8"
      },
      "source": [
        "tokens_sem_acentos = unidecode(corpus)\n",
        "tokens_sem_acentos"
      ],
      "execution_count": 81,
      "outputs": [
        {
          "output_type": "execute_result",
          "data": {
            "application/vnd.google.colaboratory.intrinsic+json": {
              "type": "string"
            },
            "text/plain": [
              "'Processamento de lingua natural (PLN) e uma subarea da ciencia da computacao, inteligencia artificial e da linguistica que estuda os problemas da geracao e compreensao automatica de linguas humanas naturais. Sistemas de geracao de lingua natural convertem informacao de bancos de dados de computadores em linguagem compreensivel ao ser humano e sistemas de compreensao de lingua natural convertem ocorrencias de linguagem humana em representacoes mais formais, mais facilmente manipulaveis por programas de computador. Alguns desafios do PLN sao compreensao de lingua natural, fazer com que computadores extraiam sentido de linguagem humana ou natural e geracao de lingua natural.\\n\\n\\n== Historia ==\\nA historia do PLN comecou na decada de 1950, quando Alan Turing publicou o artigo \"Computing Machinery and Intelligence\", que propunha o que agora e chamado de teste de Turing como criterio de inteligencia.\\nEm 1954, a experiencia de Georgetown envolveu a traducao automatica de mais de sessenta frases russas para o ingles. Os autores afirmaram que dentro de tres ou cinco anos a traducao automatica seria um problema resolvido. No entanto, os avancos reais foram muito mais lentos do que o previsto e, apos o relatorio ALPAC em 1966, que constatou que a pesquisa de dez anos nao conseguiu satisfazer as expectativas, o financiamento para este estudo em traducao automatica foi reduzido drasticamente. Poucas pesquisas em traducao automatica foram conduzidas ate o final dos anos 80, quando os primeiros sistemas estatisticos de traducao foram desenvolvidos.\\nAlguns sistemas de PLN bem sucedidos desenvolvidos nos anos 60 foram SHRDLU, um sistema de lingua natural que trabalhava em \"blocks worlds\" com vocabulario restrito e ELIZA, uma simulacao de um psicoterapeuta escrita por Joseph Weizenbaum entre 1964 e 1966. Usando pouca informacao sobre o pensamento ou a emocao humana, ELIZA criava, em alguns casos, interacoes surpreendentemente humanas. Quando o \"paciente\" excedia a base de conhecimento do programa, ELIZA fornecia uma resposta generica, por exemplo, respondendo a \"Minha cabeca doi\" com \"Por que voce diz que sua cabeca doi?\".\\nDurante a decada de 1970, muitos programadores comecaram a escrever \"ontologias conceituais\", que estruturaram a informacao do mundo real em dados compreensiveis por computadores. Exemplos sao MARGIE (SCHANK, 1975), SAM (CULLINGFORD, 1978), PAM (WILENSKY, 1978), TaleSpin (MEEHAN, 1976), QUALM (LEHNERT, 1977), Politics (CARBONELL, 1979) e Plot Units (LEHNERT, 1981 ). Neste periodo, muitos chatterbots foram escritos, como PARRY, Racter e Jabberwacky.\\nAte a decada de 1980, a maioria dos sistemas de PLN se baseava em conjuntos complexos de regras manuscritas. A partir do final dos anos 1980, no entanto, houve uma revolucao no PLN com a introducao de algoritmos de aprendizagem automatica (aprendizado de maquina) para o processamento de linguagem. Isto foi devido tanto ao aumento constante do poder computacional (ver Lei de Moore) quanto a diminuicao gradual da dominancia das teorias da linguistica chomskyanas (como a gramatica gerativa), cujos fundamentos teoricos desestimularam o tipo de corpus linguistico que esta subjacente a abordagem da aprendizagem automatica ao processamento da linguagem.\\nAlguns dos algoritmos de aprendizado de maquinas mais antigos, como as arvores de decisao, produziam sistemas de regras rigidas entao semelhantes as regras existentes na escritas a mao. No entanto, a marcacao de partes da fala (part-of-speech tagging) introduziu o uso de modelos ocultos de Markov para o PLN e, cada vez mais, a pesquisa se concentrava em modelos estatisticos, que tomam decisoes suaves e probabilisticas baseadas na atribuicao de pesos reais aos recursos que compoem dados de entrada. Os modelos de linguagem de cache, sobre os quais muitos sistemas de reconhecimento de fala agora dependem, sao exemplos de tais modelos estatisticos. Esses modelos sao geralmente mais robustos quando dados informacoes desconhecidas, especialmente entrada que contem erros (como e muito comum para dados do mundo real) e produzem resultados mais confiaveis quando integrados em sistemas maiores que compreendem multiplas tarefas.\\nMuitos dos sucessos iniciais notaveis ocorreram no campo da traducao automatica, devido especialmente ao trabalho de pesquisa da IBM, que desenvolveu modelos estatisticos mais elaborados. Estes sistemas foram capazes de tirar proveito de corpora textuais multilingues existentes  produzidos pelo Parlamento do Canada e a Uniao Europeia como resultado de leis que exigem a traducao de todos os processos governamentais em todas as linguas oficiais dos paises. No entanto, a maioria dos sistemas dependia de corpora desenvolvido especificamente para tarefas implementadas por esses sistemas, o que era (e muitas vezes continua sendo) uma grande limitacao no sucesso dos mesmo. Como resultado, uma grande quantidade de pesquisa passou de quantidades de dados limitadas a metodos de aprendizagem mais eficazes.\\nPesquisas recentes tem se concentrado cada vez mais em algoritmos de aprendizagem semi-supervisionados e sem supervisao. Esses algoritmos sao capazes de aprender com dados que nao foram anotados manualmente com as respostas desejadas ou usando uma combinacao de dados anotados e nao anotados. Geralmente, esta tarefa e muito mais trabalhosa do que a aprendizagem supervisionada e normalmente produz resultados menos precisos para uma quantidade especifica de dados de entrada. No entanto, ha uma enorme quantidade de dados nao anotados disponiveis (incluindo, entre outras coisas, todo o conteudo da World Wide Web), que muitas vezes pode compensar os resultados inferiores.\\n\\n\\n== Usando a aprendizagem automatica (aprendizado de maquina) ==\\nOs algoritmos modernos de PLN baseiam-se na aprendizagem mecanica, especialmente na aprendizagem de maquinas estatisticas. O paradigma da aprendizagem mecanica e diferente do da maioria das tentativas anteriores de processamento da linguagem. Anteriormente, implementacoes de tarefas de processamento de linguagem envolviam a codificacao direta de grandes conjuntos de regras. O paradigma da aprendizagem automatica (ou aprendizagem automatica) induz a aprendizagem automatica de regras atraves de analises de corpora de exemplos tipicos do mundo real ao inves de usar algoritmos gerais de aprendizagem (muitas vezes, embora nem sempre, baseados em inferencia estatistica). Um corpus (plural \"corpora\") e um conjunto de documentos (ou frases individuais) que foram anotados a mao com os valores corretos a serem aprendidos.\\nMuitas classes diferentes de algoritmos de aprendizado de maquina foram aplicadas a tarefas de PLN. Esses algoritmos tomam como entrada um grande conjunto de \"recursos\" que sao gerados a partir de dados de entrada.\\nAlguns dos algoritmos mais usados, como arvores de decisao, produziam sistemas de regras rigidas semelhantes aos sistemas de regras manuscritas mais comuns. No entanto, cada vez mais, a pesquisa tem se concentrado em modelos estatisticos, que tomam decisoes flexiveis e probabilisticas baseadas em agregar pesos reais a cada caracteristica de entrada. Tais modelos tem a vantagem de poder expressar a certeza relativa de muitas respostas possiveis diferentes em vez de apenas uma, produzindo resultados mais confiaveis quando esse modelo e incluido como um componente de um sistema maior.\\nOs sistemas baseados em algoritmos de aprendizagem mecanica tem muitas vantagens em relacao as regras produzidas manualmente:\\n\\nOs procedimentos de aprendizagem usados durante a aprendizagem da maquina focam-se automaticamente nos casos mais comuns, ao passo que quando se escrevem regras a mao, nao e obvio em que sentido o esforco deve ser dirigido.\\nOs procedimentos de aprendizagem automatica podem fazer uso de algoritmos de inferencia estatistica para produzir modelos que sao robustos a entradas nao familiares (por exemplo, contendo palavras ou estruturas que nao foram vistas antes) e a entradas erroneas (por exemplo, com palavras ou palavras incorretamente omitidas). Geralmente, lidar com essas entradas de forma com regras manuscritas ou sistemas de regras manuscritas que tomam decisoes suaves e extremamente trabalhoso, propenso a erros e demorado.\\nSistemas baseados em aprender automaticamente as regras podem ser mais precisos simplesmente fornecendo mais dados de entrada. No entanto, os sistemas baseados em regras escritas a mao so podem ser tornados mais precisos aumentando a complexidade das regras, o que e uma tarefa muito mais dificil. Em particular, ha um limite para a complexidade de sistemas baseados em regras artesanais, para alem dos quais os sistemas se tornam cada vez mais incontrolaveis. No entanto, a criacao de mais dados para entrada em sistemas de aprendizado de maquina requer simplesmente um aumento correspondente no numero de horas trabalhadas por humanos, geralmente sem aumentos significativos na complexidade do processo de anotacao.O subcampo de PLN dedicado a abordagens de aprendizagem e conhecido como aprendizagem de lingua natural (NLL) e sua conferencia, a CoNLL, e orgao central, o SIGNLL, sao patrocinados pela ACL, reconhecendo tambem as suas ligacoes com linguistica computacional e aquisicao de linguagem. Quando o objetivo da pesquisa de aprendizagem de linguagem computacional e entender mais sobre aquisicao de linguagem humana, ou psicolinguistica, a NLL sobrepoe-se no campo relacionado de psicolinguistica computacional.\\n\\n\\n== Aplicacoes principais ==\\nA listagem a seguir traz alguns dos trabalhos mais pesquisadas em PLN. Note que alguns deles tem aplicacoes no mundo real, enquanto outras servem mais frequentemente como tarefas secundarias que sao usadas para auxiliar na resolucao de tarefas maiores. O que distingue essas tarefas de outras tarefas potenciais e reais de PLN nao e apenas o volume de pesquisa dedicado a elas, mas o fato de que para cada uma ha tipicamente uma definicao de problema bem especificada, uma metrica padrao para avaliar a tarefa, corpora padrao em que a tarefa pode ser avaliada e as competicoes dedicadas a tarefa especifica.\\nSumarizacao automatica\\n\\nProduz um resumo legivel de uma parte do texto. Muitas vezes usado para fornecer resumos de texto de um tipo conhecido, como artigos na secao financeira de um jornal.Resolucao de correferencia\\n\\nDada uma frase ou um pedaco maior de texto, determina quais palavras (\"mencoes\") se referem aos mesmos objetos (\"entidades\"). A resolucao da anafora e um exemplo especifico dessa tarefa e esta especificamente preocupada em combinar os pronomes com os substantivos ou nomes aos quais eles se referem. A tarefa mais geral da resolucao de correferencia tambem inclui a identificacao dos chamados \"relacionamentos de ponte\" envolvendo expressoes de referencia. Por exemplo, numa frase como \"Ele entrou na casa de Joao pela porta da frente\", \"a porta da frente\" e uma expressao de referencia e a relacao da ponte a ser identificada e o fato de que a porta a ser referida e a porta da frente de John\\'s (ao inves de alguma outra estrutura que tambem pode ser referida).Analise do Discurso\\n\\nEsta rubrica inclui uma serie de tarefas relacionadas. Uma tarefa e identificar a estrutura discursiva do texto conectado, isto e, a natureza das relacoes discursivas entre sentencas (por exemplo, elaboracao, explicacao, contraste). Outra possivel tarefa e reconhecer e classificar os atos de fala em um pedaco de texto (por exemplo, pergunta sim-nao, pergunta de conteudo, frase, afirmacao, etc).Maquina de traducao\\n\\nTraduzir automaticamente texto de uma linguagem humana para outra. Este e uma das tarefas mais dificeis e faz parte de um tipo de problemas conhecidos como \"AI-complete\", ou seja, exigindo todos os diferentes tipos de conhecimento que os humanos possuem (gramatica, semantica, fatos sobre o mundo real, etc) para resolve-lo adequadamente.Segmentacao morfologica\\n\\nSepara palavras em morfemas individuais e identifica classes de morfemas. A dificuldade desta tarefa depende muito da complexidade da morfologia (isto e, da estrutura das palavras) da linguagem que esta sendo considerada. O ingles possui uma morfologia bastante simples, especialmente a morfologia flexional, e portanto e possivel ignorar esta tarefa inteiramente e simplesmente modelar todas as formas possiveis de uma palavra (por exemplo, \"open, opens, opened, opening\") como palavras separadas. Em linguas como o turco ou o Meitei, uma lingua indiana fortemente aglutinada, no entanto, tal abordagem nao e possivel, uma vez que cada entrada do dicionario tem milhares de formas de palavras possiveis.Reconhecimento de entidade nomeada (NER)\\n\\nDado um fluxo de texto, determina quais sao itens no mapa de texto para nomes proprios, como pessoas ou locais e qual e o tipo de cada nome (por exemplo, pessoa, local, organizacao). Embora a capitalizacao possa ajudar a reconhecer entidades nomeadas em idiomas como o ingles, essas informacoes podem nao ajudar a determinar o tipo de entidade nomeada e, em alguns casos, saos imprecisas ou insuficientes. Por exemplo, a primeira palavra de uma frase tambem e capitalizada e as entidades nomeadas muitas vezes abrangem varias palavras, com apenas algumas delas sao capitalizadas. Alem disso, muitas outras linguagens em scripts nao-ocidentais (por exemplo, chines ou arabe) nao tem nenhuma capitalizacao e mesmo as linguas com maiusculas podem nao distinguir nomes. Por exemplo, o alemao capitaliza todos os substantivos, independentemente de se referirem a nomes, e o frances e o espanhol nao capitalizam nomes que servem como adjetivos.Geracao de lingua natural\\n\\nConverte informacoes de bancos de dados de computador ou intencoes semanticas em linguagem humana legivel.Compreensao da lingua natural\\n\\nConverte pedacos de texto em representacoes mais formais, como estruturas de logica de primeira ordem, que sao mais faceis de manipular pelos programas de computador. A compreensao da lingua natural envolve a identificacao da semantica pretendida a partir da multipla semantica possivel que pode ser derivada de uma expressao de lingua natural que geralmente toma a forma de notacao organizada de conceitos de linguagens naturais. Entretanto, introducao e criacao de linguagem metamodelo e ontologia sao eficientes solucoes empiricas. Uma formalizacao explicita da semantica de linguas naturais sem confusoes com suposicoes implicitas como closed-world assumption (CWA) versus open-world assumption ou subjetiva Sim / Nao versus objetivo Verdadeiro / Falso e esperada para a construcao de uma base de formalizacao semantica.Reconhecimento optico de caracteres (OCR)\\n\\nDada uma imagem que representa o texto impresso, determina o texto correspondente.Marcacao de classe gramatical\\n\\nDada uma sentenca, determina a classe gramatical de cada palavra. Muitas palavras, especialmente as comuns, podem servir como multiplas partes do discurso. Em ingles, por exemplo, \"book\" pode ser um substantivo (\"the book on the table\") ou verbo (\"book a flight\"); \"Set\" pode ser um substantivo, verbo ou adjetivo; E \"out\" pode ser qualquer um de pelo menos cinco diferentes partes da fala. Algumas linguas tem mais ambiguidade do que outras. As linguas com pouca morfologia flexional, como o ingles, sao particularmente propensas a tal ambiguidade. O chines e propenso a tal ambiguidade porque e uma lingua tonal durante a verbalizacao. Tal inflexao nao e facilmente transmitida atraves das entidades empregadas dentro da ortografia para transmitir o significado pretendido.Analise sintatica (Parsing)\\n\\nDetermina a arvore de analise (analise gramatical) de uma frase. A gramatica para as linguagens naturais e ambigua e frases tipicas tem multiplas analises possiveis. Na verdade, surpreendentemente, para uma frase tipica pode haver milhares de analises em potencial (a maioria dos quais parecera completamente absurda para um ser humano).Respostas a perguntas\\n\\nDada uma questao de linguagem humana, determina sua resposta. As perguntas tipicas tem uma resposta correta especifica (como \"Qual e o capital do Canada?\"), mas as vezes perguntas abertas tambem sao consideradas (como \"Qual e o significado da vida?\"). Trabalhos recentes tem analisado questoes ainda mais complexas.Extracao de relacionamento\\n\\nIdentifica as relacoes entre entidades nomeadas (por exemplo, quem e casado com quem) com base em textos.Quebra de frases (sentence boundary disambiguation)\\n\\nEncontra os limites da frase em um pedaco de texto. Os limites de frases sao normalmente marcadas por pontos ou outros sinais de pontuacao, mas esses mesmos caracteres podem servir outros propositos.Analise de subjetividade (sentiment analysis ou opinion mining)\\n\\nExtrai informacoes subjetivas geralmente de um conjunto de documentos, muitas vezes usando revisoes online para determinar a \"polaridade\" sobre objetos especificos. E especialmente util para identificar tendencias da opiniao publica nas midias sociais, para fins de marketing.Reconhecimento de fala\\n\\nDado um clipe de som de uma pessoa ou pessoas falando, determina a representacao textual do discurso. E o oposto da sintese de fala e e uma das areas mais dificeis, conhecida como \"AI-complete\". Na fala natural quase nao ha pausas entre palavras sucessivas, por isso a segmentacao de fala e uma subtarefa necessaria de reconhecimento de fala. Nota-se tambem que, na maioria das linguagens faladas, os sons que representam letras sucessivas se misturam entre si em um processo denominado coarticulacao, de modo que a conversao do sinal analogico em caracteres discretos pode ser um processo muito dificil de ser realizado.Segmentacao de fala\\n\\nDado um clipe de som de uma pessoa ou pessoas falando, separa-o em palavras. Uma subaplicacao de reconhecimento de fala e normalmente agrupada com ele.Analise morfologica e reconhecimento de topicos\\n\\nDado um pedaco de texto, separa-o em segmentos cada um dos quais e dedicado a um topico e identifica o topico do segmento.Analise morfologica e segmentacao de palavras\\n\\nSepara um pedaco de texto continuo em palavras separadas. Para uma lingua como o ingles, isso e bastante trivial, uma vez que as palavras sao normalmente separadas por espacos. No entanto, algumas linguas escritas como chines, japones e tailandes nao marcam limites de palavras de tal forma, e nessas linguas segmentacao de texto e uma tarefa significativa que requer conhecimento do vocabulario e morfologia das palavras na lingua.Desambiguacao\\n\\nMuitas palavras tem mais de um significado, assim temos que selecionar o significado que faz mais sentido no contexto. Para este problema, em geral e dada uma lista de palavras e sentidos de palavras associadas de um dicionario ou recurso online, como o WordNet.\\nEm alguns casos, conjuntos de tarefas relacionadas sao agrupados em subcampos de PLN que sao frequentemente considerados separadamente da PLN como um todo, como os exemplos a seguir:Recuperacao de informacao (IR)\\n\\nTrata-se de armazenar, pesquisar e recuperar informacoes. E um campo separado dentro da ciencia da computacao (mais perto de bancos de dados), mas a IR se baseia em alguns metodos PLN (por exemplo, stemming). Algumas pesquisas e aplicacoes atuais procuram preencher a lacuna entre IR e PLN.Extracao de informacao (IE)\\n\\nTrata-se, em geral, da extracao de informacao semantica a partir do texto. Abrange tarefas como reconhecimento de entidade mencionada, resolucao de correferencia e de relacionamento de extracao, etc.\\nProcessamento de voz  Abrange reconhecimento de fala, sintese de fala e tarefas relacionadas.\\nOutras tarefas incluem:\\nIdentificacao na lingua materna\\nStemizacao\\nSimplificacao do texto\\nSintese de fala\\nRevisao de texto\\nPesquisa em lingua natural\\nExpansao da consulta\\nPontuacao de ensaio automatizado\\nTruecasing\\n\\n\\n== Estatistica ==\\nArtigo principal: Gramatica estocastica\\nO processamento estatistico em lingua natural utiliza metodos estocasticos, probabilisticos e estatisticos para resolver algumas das dificuldades discutidas acima, especialmente aquelas que surgem porque frases mais longas sao muito ambiguas quando processadas com gramaticas realistas, produzindo milhares ou milhoes de analises possiveis. Metodos de desambiguacao envolvem muitas vezes o uso de corpora e modelos de Markov. O projeto ESPRIT P26 (1984-1988), liderado pelo CSELT, explorou o problema do reconhecimento de fala comparando abordagem baseada em conhecimento e estatistica: o resultado escolhido foi um modelo completamente estatistico. Um dos primeiros modelos de compreensao estatistica da lingua natural foi introduzido em 1991 por Roberto Pieraccini, Esther Levin e Chin-Hui Lee, da Bell Laboratories]. O PLN compreende todas as abordagens quantitativas para processamento automatizado de linguagem, incluindo modelagem probabilistica, teoria da informacao e algebra linear. A tecnologia para o PLN estatistico vem principalmente da aprendizagem automatica e da mineracao de dados, que sao campos de inteligencia artificial que envolvem o aprendizado a partir de dados.\\n\\n\\n== Avaliacao ==\\nO objetivo da avaliacao do PLN e uma medida de uma ou mais qualidades de um algoritmo ou de um sistema a fim de determinar se o algoritmo atende as metas dos projetistas ou o sistema de atendimento as necessidades de seus usuarios. Investigacao na avaliacao PLN  tem ganhado atencao, porque a definicao de criterios de avaliacao e uma forma de especificar precisamente problemas do PLN. Uma metrica de avaliacao de PLN em um sistema algoritmico permite a integracao da compreensao de linguagem e geracao de linguagem. Um conjunto preciso de criterios de avaliacao, que pode ser aplicado principalmente a avaliacoes metricas, podendo permitir que varias equipes comparem suas solucoes para um determinado problema do PLN.\\n\\n\\n== Cronologia da avaliacao ==\\nEm 1983, iniciou-se o Projecto Esprit P26, que avaliou as Tecnologias da Fala (incluindo topicos gerais como Sintaxe e Semantica) comparando as abordagens baseadas em regras com as estatisticas.\\nEm 1987, a primeira campanha de avaliacao de textos escritos parece ser uma campanha dedicada a compreensao da mensagem (Pallet, 1998).\\nO projeto Parseval / GEIG comparou gramaticas de frase-estrutura (Black 1991).\\nHouve uma serie de campanhas no projeto Tipster sobre tarefas como resumo, traducao e pesquisa (Hirschman 1998).\\nEm 1994, na Alemanha, o Morpholympics comparou marcadores morfologicos alemaes.\\nAs campanhas de Senseval & Romanseval foram realizadas com os objetivos de desambiguacao semantica.\\nEm 1996, a campanha Sparkle comparou os analisadores sintaticos em quatro idiomas diferentes (ingles, frances, alemao e italiano).\\nNa Franca, o projeto Grace comparou um conjunto de 21 marcadores para o frances em 1997 (Adda 1999).\\nEm 2004, durante o projeto Technolangue / Easy, foram comparados 13 analisadores para o frances.\\nA avaliacao em larga escala dos analisadores de dependencia foi realizada no contexto das tarefas compartilhadas do CoNLL em 2006 e 2007.\\nNa Franca, no ambito do projecto ANR-Passage (final de 2007), foram comparados 10 analisadores para o frances.\\nEm Italia, a campanha EVALITA foi realizada em 2007, 2009, 2011 e 2014 para comparar varias ferramentas de PLN e de voz para o site italiano - EVALITA.\\n\\n\\n== Diferentes tipos de avaliacao ==\\nAvaliacao intrinseca vs. extrinseca\\nA avaliacao intrinseca considera um sistema PNL isolado e caracteriza seu desempenho em relacao a um resultado padrao-excelencia, conforme definido pelos avaliadores. A avaliacao extrinseca, tambem chamada de avaliacao em uso, considera o sistema PLN em um cenario mais complexo como um sistema embutido ou uma funcao precisa para um usuario humano. O desempenho extrinseco do sistema e entao caracterizado em termos de utilidade em relacao a tarefa global do sistema estranho ou do utilizador humano. Por exemplo, considere um analisador sintatico que e baseado na saida de alguma parte do tagger de fala (POS). Uma avaliacao intrinseca executaria o marcador POS em dados estruturados e compararia a saida do sistema do marcador POS com a saida padrao ouro. Uma avaliacao extrinseca executaria o analisador com algum outro marcador POS e, em seguida, com o marcador POS novo e compara a precisao de analise.\\nCaixa preta vs. Avaliacao da caixa de vidro\\nA avaliacao em caixa preta requer que alguem execute um sistema PLN em um conjunto de dados de amostra e para medir uma serie de parametros relacionados com a qualidade do processo, como velocidade, confiabilidade, consumo de recursos e, principalmente, a qualidade do resultado, como a precisao da anotacao de dados ou a fidelidade de uma traducao. A avaliacao da caixa de vidro examina a concepcao do sistema; Os algoritmos que sao implementados, os recursos linguisticos que utiliza, como o tamanho do vocabulario ou a expressao definida de cardinalidade. Dada a complexidade dos problemas da PLN, muitas vezes e dificil prever o desempenho apenas com base na avaliacao da caixa de vidro; Mas este tipo de avaliacao e mais informativo no que diz respeito a analise de erros ou desenvolvimentos futuros de um sistema.\\nAutomatica vs. avaliacao manual\\nEm muitos casos, procedimentos automaticos podem ser definidos para avaliar um sistema de PLN, comparando sua saida com o padrao de excelencia. Embora o custo de reproduzir o padrao de excelencia possa ser bastante elevado, avaliacao automatica de bootstrapping sobre os mesmos dados de entrada pode ser repetida quantas vezes for necessario sem custos adicionais desordenados. No entanto, para muitos problemas de PLN a definicao precisa de um padrao de excelencia e uma tarefa complexa e pode se revelar impossivel quando o acordo inter-anotador e insuficiente. A avaliacao manual e melhor realizada por juizes humanos instruidos para estimar a qualidade de um sistema, ou mais frequentemente de uma amostra de sua producao, com base em uma serie de criterios. Embora, gracas a sua competencia linguistica, os juizes humanos possam ser considerados como a referencia para uma serie de tarefas de processamento de linguagem, ha tambem uma variacao consideravel em suas classificacoes. E por isso que a avaliacao automatica e, por vezes, referida como avaliacao objetiva enquanto a avaliacao humana e perspectiva.\\n\\n\\n== Padronizacao ==\\nUm subcomite ISO esta trabalhando para facilitar a interoperabilidade entre recursos lexicais e programas PLN. O subcomite faz parte do ISO / TC37 e e chamado ISO / TC37 / SC4. Alguns padroes ISO ja estao publicados, mas a maioria deles esta em construcao, principalmente na representacao de lexico (ver LMF), anotacao e registro de categoria de dados.\\n\\n\\n== Ferramentas ==\\nExpert System S.p.A.\\nGeneral Architecture for Text Engineering\\nModular Audio Recognition Framework\\nNatural Language Toolkit (NLTK): uma biblioteca em Python\\nOpenNLP\\n\\n\\n== Veja tambem ==\\nMineracao de texto biomedica\\nProcesso de processamento composto\\nRevisao assistida por computador\\nLinguagem natural controlada\\nProcessamento linguistico profundo\\nAuxilio a leitura de linguas estrangeiras\\nAuxilio a escrita em lingua estrangeira\\nTecnologia da linguagem\\nA alocacao de Dirichlet Latente (LDA)\\nIndexacao semantica latente\\nLista de ferramentas de processamento de lingua natural\\nMapa de LRE\\nProgramacao em lingua natural\\nReificacao (linguistica)\\nDobradura semantica\\nSistema de dialogo falado\\nVetor do Pensamento\\nPesquisa Transderivacional\\nWord2vec\\n\\n\\n== Referencias ==\\n\\n\\n== Leitura adicional ==\\nSteven Bird, Ewan Klein, and Edward Loper (2009). Natural Language Processing with Python. O\\'Reilly Media. ISBN 978-0-596-51649-9.\\nDaniel Jurafsky and James H. Martin (2008). Speech and Language Processing, 2nd edition. Pearson Prentice Hall. ISBN 978-0-13-187321-6.\\nChristopher D. Manning, Prabhakar Raghavan, and Hinrich Schutze (2008). Introduction to Information Retrieval. Cambridge University Press. ISBN 978-0-521-86571-5. Official html and pdf versions available without charge.\\nChristopher D. Manning and Hinrich Schutze (1999). Foundations of Statistical Natural Language Processing. The MIT Press. ISBN 978-0-262-13360-9.\\nDavid M. W. Powers and Christopher C. R. Turk (1989). Machine Learning of Natural Language. Springer-Verlag. ISBN 978-0-387-19557-5.'"
            ]
          },
          "metadata": {},
          "execution_count": 81
        }
      ]
    },
    {
      "cell_type": "markdown",
      "metadata": {
        "id": "YdD-DyW-U2fF"
      },
      "source": [
        "10. Plote a frequência dos tokens sem acentos. Utilize o método plot_frequencia_tokens() para plotar o gráfico. Também imprima o tamanho desta lista. "
      ]
    },
    {
      "cell_type": "code",
      "metadata": {
        "id": "NkQFX2o1zhRa"
      },
      "source": [
        "def plot_frequencia_tokens(tokens):\n",
        "    fd_words = FreqDist(tokens)\n",
        "    fd_words.plot(20)"
      ],
      "execution_count": 84,
      "outputs": []
    },
    {
      "cell_type": "code",
      "source": [
        "print(\"Tokens Split\")\n",
        "plot_frequencia_tokens(tokens_sem_acentos)"
      ],
      "metadata": {
        "colab": {
          "base_uri": "https://localhost:8080/",
          "height": 296
        },
        "id": "2R5qrMy3SIP6",
        "outputId": "2f0fd0c6-64cc-429f-a44b-897ebb6e37cd"
      },
      "execution_count": 86,
      "outputs": [
        {
          "output_type": "stream",
          "name": "stdout",
          "text": [
            "Tokens Split\n"
          ]
        },
        {
          "output_type": "display_data",
          "data": {
            "image/png": "[encoded data removed]",
            "text/plain": [
              "<Figure size 432x288 with 1 Axes>"
            ]
          },
          "metadata": {
            "needs_background": "light"
          }
        }
      ]
    },
    {
      "cell_type": "markdown",
      "metadata": {
        "id": "N0B2VMc2U2fM"
      },
      "source": [
        "## Stemming\n",
        "\n",
        "Iremos utilizar o stemming da biblioteca NLTK. O algoritmo disponível para este procedimento em portugês é o RSLPStemmer.\n",
        "\n",
        "```python\n",
        "stemmer = nltk.stem.RSLPStemmer()\n",
        "```\n",
        "\n",
        "11. Aplique o stemmer em cada elemento da lista de tokens.\n"
      ]
    },
    {
      "cell_type": "code",
      "metadata": {
        "id": "HgOlhUGfzjLd",
        "colab": {
          "base_uri": "https://localhost:8080/",
          "height": 122
        },
        "outputId": "c86b564f-3365-4b55-8682-d0a5b8d0eff0"
      },
      "source": [
        "stemmer = nltk.stem.RSLPStemmer()\n",
        "tokens_stemmer = stemmer.stem(tokens_sem_acentos)\n",
        "tokens_stemmer"
      ],
      "execution_count": 89,
      "outputs": [
        {
          "output_type": "execute_result",
          "data": {
            "application/vnd.google.colaboratory.intrinsic+json": {
              "type": "string"
            },
            "text/plain": [
              "'processamento de lingua natural (pln) e uma subarea da ciencia da computacao, inteligencia artificial e da linguistica que estuda os problemas da geracao e compreensao automatica de linguas humanas naturais. sistemas de geracao de lingua natural convertem informacao de bancos de dados de computadores em linguagem compreensivel ao ser humano e sistemas de compreensao de lingua natural convertem ocorrencias de linguagem humana em representacoes mais formais, mais facilmente manipulaveis por programas de computador. alguns desafios do pln sao compreensao de lingua natural, fazer com que computadores extraiam sentido de linguagem humana ou natural e geracao de lingua natural.\\n\\n\\n== historia ==\\na historia do pln comecou na decada de 1950, quando alan turing publicou o artigo \"computing machinery and intelligence\", que propunha o que agora e chamado de teste de turing como criterio de inteligencia.\\nem 1954, a experiencia de georgetown envolveu a traducao automatica de mais de sessenta frases russas para o ingles. os autores afirmaram que dentro de tres ou cinco anos a traducao automatica seria um problema resolvido. no entanto, os avancos reais foram muito mais lentos do que o previsto e, apos o relatorio alpac em 1966, que constatou que a pesquisa de dez anos nao conseguiu satisfazer as expectativas, o financiamento para este estudo em traducao automatica foi reduzido drasticamente. poucas pesquisas em traducao automatica foram conduzidas ate o final dos anos 80, quando os primeiros sistemas estatisticos de traducao foram desenvolvidos.\\nalguns sistemas de pln bem sucedidos desenvolvidos nos anos 60 foram shrdlu, um sistema de lingua natural que trabalhava em \"blocks worlds\" com vocabulario restrito e eliza, uma simulacao de um psicoterapeuta escrita por joseph weizenbaum entre 1964 e 1966. usando pouca informacao sobre o pensamento ou a emocao humana, eliza criava, em alguns casos, interacoes surpreendentemente humanas. quando o \"paciente\" excedia a base de conhecimento do programa, eliza fornecia uma resposta generica, por exemplo, respondendo a \"minha cabeca doi\" com \"por que voce diz que sua cabeca doi?\".\\ndurante a decada de 1970, muitos programadores comecaram a escrever \"ontologias conceituais\", que estruturaram a informacao do mundo real em dados compreensiveis por computadores. exemplos sao margie (schank, 1975), sam (cullingford, 1978), pam (wilensky, 1978), talespin (meehan, 1976), qualm (lehnert, 1977), politics (carbonell, 1979) e plot units (lehnert, 1981 ). neste periodo, muitos chatterbots foram escritos, como parry, racter e jabberwacky.\\nate a decada de 1980, a maioria dos sistemas de pln se baseava em conjuntos complexos de regras manuscritas. a partir do final dos anos 1980, no entanto, houve uma revolucao no pln com a introducao de algoritmos de aprendizagem automatica (aprendizado de maquina) para o processamento de linguagem. isto foi devido tanto ao aumento constante do poder computacional (ver lei de moore) quanto a diminuicao gradual da dominancia das teorias da linguistica chomskyanas (como a gramatica gerativa), cujos fundamentos teoricos desestimularam o tipo de corpus linguistico que esta subjacente a abordagem da aprendizagem automatica ao processamento da linguagem.\\nalguns dos algoritmos de aprendizado de maquinas mais antigos, como as arvores de decisao, produziam sistemas de regras rigidas entao semelhantes as regras existentes na escritas a mao. no entanto, a marcacao de partes da fala (part-of-speech tagging) introduziu o uso de modelos ocultos de markov para o pln e, cada vez mais, a pesquisa se concentrava em modelos estatisticos, que tomam decisoes suaves e probabilisticas baseadas na atribuicao de pesos reais aos recursos que compoem dados de entrada. os modelos de linguagem de cache, sobre os quais muitos sistemas de reconhecimento de fala agora dependem, sao exemplos de tais modelos estatisticos. esses modelos sao geralmente mais robustos quando dados informacoes desconhecidas, especialmente entrada que contem erros (como e muito comum para dados do mundo real) e produzem resultados mais confiaveis quando integrados em sistemas maiores que compreendem multiplas tarefas.\\nmuitos dos sucessos iniciais notaveis ocorreram no campo da traducao automatica, devido especialmente ao trabalho de pesquisa da ibm, que desenvolveu modelos estatisticos mais elaborados. estes sistemas foram capazes de tirar proveito de corpora textuais multilingues existentes  produzidos pelo parlamento do canada e a uniao europeia como resultado de leis que exigem a traducao de todos os processos governamentais em todas as linguas oficiais dos paises. no entanto, a maioria dos sistemas dependia de corpora desenvolvido especificamente para tarefas implementadas por esses sistemas, o que era (e muitas vezes continua sendo) uma grande limitacao no sucesso dos mesmo. como resultado, uma grande quantidade de pesquisa passou de quantidades de dados limitadas a metodos de aprendizagem mais eficazes.\\npesquisas recentes tem se concentrado cada vez mais em algoritmos de aprendizagem semi-supervisionados e sem supervisao. esses algoritmos sao capazes de aprender com dados que nao foram anotados manualmente com as respostas desejadas ou usando uma combinacao de dados anotados e nao anotados. geralmente, esta tarefa e muito mais trabalhosa do que a aprendizagem supervisionada e normalmente produz resultados menos precisos para uma quantidade especifica de dados de entrada. no entanto, ha uma enorme quantidade de dados nao anotados disponiveis (incluindo, entre outras coisas, todo o conteudo da world wide web), que muitas vezes pode compensar os resultados inferiores.\\n\\n\\n== usando a aprendizagem automatica (aprendizado de maquina) ==\\nos algoritmos modernos de pln baseiam-se na aprendizagem mecanica, especialmente na aprendizagem de maquinas estatisticas. o paradigma da aprendizagem mecanica e diferente do da maioria das tentativas anteriores de processamento da linguagem. anteriormente, implementacoes de tarefas de processamento de linguagem envolviam a codificacao direta de grandes conjuntos de regras. o paradigma da aprendizagem automatica (ou aprendizagem automatica) induz a aprendizagem automatica de regras atraves de analises de corpora de exemplos tipicos do mundo real ao inves de usar algoritmos gerais de aprendizagem (muitas vezes, embora nem sempre, baseados em inferencia estatistica). um corpus (plural \"corpora\") e um conjunto de documentos (ou frases individuais) que foram anotados a mao com os valores corretos a serem aprendidos.\\nmuitas classes diferentes de algoritmos de aprendizado de maquina foram aplicadas a tarefas de pln. esses algoritmos tomam como entrada um grande conjunto de \"recursos\" que sao gerados a partir de dados de entrada.\\nalguns dos algoritmos mais usados, como arvores de decisao, produziam sistemas de regras rigidas semelhantes aos sistemas de regras manuscritas mais comuns. no entanto, cada vez mais, a pesquisa tem se concentrado em modelos estatisticos, que tomam decisoes flexiveis e probabilisticas baseadas em agregar pesos reais a cada caracteristica de entrada. tais modelos tem a vantagem de poder expressar a certeza relativa de muitas respostas possiveis diferentes em vez de apenas uma, produzindo resultados mais confiaveis quando esse modelo e incluido como um componente de um sistema maior.\\nos sistemas baseados em algoritmos de aprendizagem mecanica tem muitas vantagens em relacao as regras produzidas manualmente:\\n\\nos procedimentos de aprendizagem usados durante a aprendizagem da maquina focam-se automaticamente nos casos mais comuns, ao passo que quando se escrevem regras a mao, nao e obvio em que sentido o esforco deve ser dirigido.\\nos procedimentos de aprendizagem automatica podem fazer uso de algoritmos de inferencia estatistica para produzir modelos que sao robustos a entradas nao familiares (por exemplo, contendo palavras ou estruturas que nao foram vistas antes) e a entradas erroneas (por exemplo, com palavras ou palavras incorretamente omitidas). geralmente, lidar com essas entradas de forma com regras manuscritas ou sistemas de regras manuscritas que tomam decisoes suaves e extremamente trabalhoso, propenso a erros e demorado.\\nsistemas baseados em aprender automaticamente as regras podem ser mais precisos simplesmente fornecendo mais dados de entrada. no entanto, os sistemas baseados em regras escritas a mao so podem ser tornados mais precisos aumentando a complexidade das regras, o que e uma tarefa muito mais dificil. em particular, ha um limite para a complexidade de sistemas baseados em regras artesanais, para alem dos quais os sistemas se tornam cada vez mais incontrolaveis. no entanto, a criacao de mais dados para entrada em sistemas de aprendizado de maquina requer simplesmente um aumento correspondente no numero de horas trabalhadas por humanos, geralmente sem aumentos significativos na complexidade do processo de anotacao.o subcampo de pln dedicado a abordagens de aprendizagem e conhecido como aprendizagem de lingua natural (nll) e sua conferencia, a conll, e orgao central, o signll, sao patrocinados pela acl, reconhecendo tambem as suas ligacoes com linguistica computacional e aquisicao de linguagem. quando o objetivo da pesquisa de aprendizagem de linguagem computacional e entender mais sobre aquisicao de linguagem humana, ou psicolinguistica, a nll sobrepoe-se no campo relacionado de psicolinguistica computacional.\\n\\n\\n== aplicacoes principais ==\\na listagem a seguir traz alguns dos trabalhos mais pesquisadas em pln. note que alguns deles tem aplicacoes no mundo real, enquanto outras servem mais frequentemente como tarefas secundarias que sao usadas para auxiliar na resolucao de tarefas maiores. o que distingue essas tarefas de outras tarefas potenciais e reais de pln nao e apenas o volume de pesquisa dedicado a elas, mas o fato de que para cada uma ha tipicamente uma definicao de problema bem especificada, uma metrica padrao para avaliar a tarefa, corpora padrao em que a tarefa pode ser avaliada e as competicoes dedicadas a tarefa especifica.\\nsumarizacao automatica\\n\\nproduz um resumo legivel de uma parte do texto. muitas vezes usado para fornecer resumos de texto de um tipo conhecido, como artigos na secao financeira de um jornal.resolucao de correferencia\\n\\ndada uma frase ou um pedaco maior de texto, determina quais palavras (\"mencoes\") se referem aos mesmos objetos (\"entidades\"). a resolucao da anafora e um exemplo especifico dessa tarefa e esta especificamente preocupada em combinar os pronomes com os substantivos ou nomes aos quais eles se referem. a tarefa mais geral da resolucao de correferencia tambem inclui a identificacao dos chamados \"relacionamentos de ponte\" envolvendo expressoes de referencia. por exemplo, numa frase como \"ele entrou na casa de joao pela porta da frente\", \"a porta da frente\" e uma expressao de referencia e a relacao da ponte a ser identificada e o fato de que a porta a ser referida e a porta da frente de john\\'s (ao inves de alguma outra estrutura que tambem pode ser referida).analise do discurso\\n\\nesta rubrica inclui uma serie de tarefas relacionadas. uma tarefa e identificar a estrutura discursiva do texto conectado, isto e, a natureza das relacoes discursivas entre sentencas (por exemplo, elaboracao, explicacao, contraste). outra possivel tarefa e reconhecer e classificar os atos de fala em um pedaco de texto (por exemplo, pergunta sim-nao, pergunta de conteudo, frase, afirmacao, etc).maquina de traducao\\n\\ntraduzir automaticamente texto de uma linguagem humana para outra. este e uma das tarefas mais dificeis e faz parte de um tipo de problemas conhecidos como \"ai-complete\", ou seja, exigindo todos os diferentes tipos de conhecimento que os humanos possuem (gramatica, semantica, fatos sobre o mundo real, etc) para resolve-lo adequadamente.segmentacao morfologica\\n\\nsepara palavras em morfemas individuais e identifica classes de morfemas. a dificuldade desta tarefa depende muito da complexidade da morfologia (isto e, da estrutura das palavras) da linguagem que esta sendo considerada. o ingles possui uma morfologia bastante simples, especialmente a morfologia flexional, e portanto e possivel ignorar esta tarefa inteiramente e simplesmente modelar todas as formas possiveis de uma palavra (por exemplo, \"open, opens, opened, opening\") como palavras separadas. em linguas como o turco ou o meitei, uma lingua indiana fortemente aglutinada, no entanto, tal abordagem nao e possivel, uma vez que cada entrada do dicionario tem milhares de formas de palavras possiveis.reconhecimento de entidade nomeada (ner)\\n\\ndado um fluxo de texto, determina quais sao itens no mapa de texto para nomes proprios, como pessoas ou locais e qual e o tipo de cada nome (por exemplo, pessoa, local, organizacao). embora a capitalizacao possa ajudar a reconhecer entidades nomeadas em idiomas como o ingles, essas informacoes podem nao ajudar a determinar o tipo de entidade nomeada e, em alguns casos, saos imprecisas ou insuficientes. por exemplo, a primeira palavra de uma frase tambem e capitalizada e as entidades nomeadas muitas vezes abrangem varias palavras, com apenas algumas delas sao capitalizadas. alem disso, muitas outras linguagens em scripts nao-ocidentais (por exemplo, chines ou arabe) nao tem nenhuma capitalizacao e mesmo as linguas com maiusculas podem nao distinguir nomes. por exemplo, o alemao capitaliza todos os substantivos, independentemente de se referirem a nomes, e o frances e o espanhol nao capitalizam nomes que servem como adjetivos.geracao de lingua natural\\n\\nconverte informacoes de bancos de dados de computador ou intencoes semanticas em linguagem humana legivel.compreensao da lingua natural\\n\\nconverte pedacos de texto em representacoes mais formais, como estruturas de logica de primeira ordem, que sao mais faceis de manipular pelos programas de computador. a compreensao da lingua natural envolve a identificacao da semantica pretendida a partir da multipla semantica possivel que pode ser derivada de uma expressao de lingua natural que geralmente toma a forma de notacao organizada de conceitos de linguagens naturais. entretanto, introducao e criacao de linguagem metamodelo e ontologia sao eficientes solucoes empiricas. uma formalizacao explicita da semantica de linguas naturais sem confusoes com suposicoes implicitas como closed-world assumption (cwa) versus open-world assumption ou subjetiva sim / nao versus objetivo verdadeiro / falso e esperada para a construcao de uma base de formalizacao semantica.reconhecimento optico de caracteres (ocr)\\n\\ndada uma imagem que representa o texto impresso, determina o texto correspondente.marcacao de classe gramatical\\n\\ndada uma sentenca, determina a classe gramatical de cada palavra. muitas palavras, especialmente as comuns, podem servir como multiplas partes do discurso. em ingles, por exemplo, \"book\" pode ser um substantivo (\"the book on the table\") ou verbo (\"book a flight\"); \"set\" pode ser um substantivo, verbo ou adjetivo; e \"out\" pode ser qualquer um de pelo menos cinco diferentes partes da fala. algumas linguas tem mais ambiguidade do que outras. as linguas com pouca morfologia flexional, como o ingles, sao particularmente propensas a tal ambiguidade. o chines e propenso a tal ambiguidade porque e uma lingua tonal durante a verbalizacao. tal inflexao nao e facilmente transmitida atraves das entidades empregadas dentro da ortografia para transmitir o significado pretendido.analise sintatica (parsing)\\n\\ndetermina a arvore de analise (analise gramatical) de uma frase. a gramatica para as linguagens naturais e ambigua e frases tipicas tem multiplas analises possiveis. na verdade, surpreendentemente, para uma frase tipica pode haver milhares de analises em potencial (a maioria dos quais parecera completamente absurda para um ser humano).respostas a perguntas\\n\\ndada uma questao de linguagem humana, determina sua resposta. as perguntas tipicas tem uma resposta correta especifica (como \"qual e o capital do canada?\"), mas as vezes perguntas abertas tambem sao consideradas (como \"qual e o significado da vida?\"). trabalhos recentes tem analisado questoes ainda mais complexas.extracao de relacionamento\\n\\nidentifica as relacoes entre entidades nomeadas (por exemplo, quem e casado com quem) com base em textos.quebra de frases (sentence boundary disambiguation)\\n\\nencontra os limites da frase em um pedaco de texto. os limites de frases sao normalmente marcadas por pontos ou outros sinais de pontuacao, mas esses mesmos caracteres podem servir outros propositos.analise de subjetividade (sentiment analysis ou opinion mining)\\n\\nextrai informacoes subjetivas geralmente de um conjunto de documentos, muitas vezes usando revisoes online para determinar a \"polaridade\" sobre objetos especificos. e especialmente util para identificar tendencias da opiniao publica nas midias sociais, para fins de marketing.reconhecimento de fala\\n\\ndado um clipe de som de uma pessoa ou pessoas falando, determina a representacao textual do discurso. e o oposto da sintese de fala e e uma das areas mais dificeis, conhecida como \"ai-complete\". na fala natural quase nao ha pausas entre palavras sucessivas, por isso a segmentacao de fala e uma subtarefa necessaria de reconhecimento de fala. nota-se tambem que, na maioria das linguagens faladas, os sons que representam letras sucessivas se misturam entre si em um processo denominado coarticulacao, de modo que a conversao do sinal analogico em caracteres discretos pode ser um processo muito dificil de ser realizado.segmentacao de fala\\n\\ndado um clipe de som de uma pessoa ou pessoas falando, separa-o em palavras. uma subaplicacao de reconhecimento de fala e normalmente agrupada com ele.analise morfologica e reconhecimento de topicos\\n\\ndado um pedaco de texto, separa-o em segmentos cada um dos quais e dedicado a um topico e identifica o topico do segmento.analise morfologica e segmentacao de palavras\\n\\nsepara um pedaco de texto continuo em palavras separadas. para uma lingua como o ingles, isso e bastante trivial, uma vez que as palavras sao normalmente separadas por espacos. no entanto, algumas linguas escritas como chines, japones e tailandes nao marcam limites de palavras de tal forma, e nessas linguas segmentacao de texto e uma tarefa significativa que requer conhecimento do vocabulario e morfologia das palavras na lingua.desambiguacao\\n\\nmuitas palavras tem mais de um significado, assim temos que selecionar o significado que faz mais sentido no contexto. para este problema, em geral e dada uma lista de palavras e sentidos de palavras associadas de um dicionario ou recurso online, como o wordnet.\\nem alguns casos, conjuntos de tarefas relacionadas sao agrupados em subcampos de pln que sao frequentemente considerados separadamente da pln como um todo, como os exemplos a seguir:recuperacao de informacao (ir)\\n\\ntrata-se de armazenar, pesquisar e recuperar informacoes. e um campo separado dentro da ciencia da computacao (mais perto de bancos de dados), mas a ir se baseia em alguns metodos pln (por exemplo, stemming). algumas pesquisas e aplicacoes atuais procuram preencher a lacuna entre ir e pln.extracao de informacao (ie)\\n\\ntrata-se, em geral, da extracao de informacao semantica a partir do texto. abrange tarefas como reconhecimento de entidade mencionada, resolucao de correferencia e de relacionamento de extracao, etc.\\nprocessamento de voz  abrange reconhecimento de fala, sintese de fala e tarefas relacionadas.\\noutras tarefas incluem:\\nidentificacao na lingua materna\\nstemizacao\\nsimplificacao do texto\\nsintese de fala\\nrevisao de texto\\npesquisa em lingua natural\\nexpansao da consulta\\npontuacao de ensaio automatizado\\ntruecasing\\n\\n\\n== estatistica ==\\nartigo principal: gramatica estocastica\\no processamento estatistico em lingua natural utiliza metodos estocasticos, probabilisticos e estatisticos para resolver algumas das dificuldades discutidas acima, especialmente aquelas que surgem porque frases mais longas sao muito ambiguas quando processadas com gramaticas realistas, produzindo milhares ou milhoes de analises possiveis. metodos de desambiguacao envolvem muitas vezes o uso de corpora e modelos de markov. o projeto esprit p26 (1984-1988), liderado pelo cselt, explorou o problema do reconhecimento de fala comparando abordagem baseada em conhecimento e estatistica: o resultado escolhido foi um modelo completamente estatistico. um dos primeiros modelos de compreensao estatistica da lingua natural foi introduzido em 1991 por roberto pieraccini, esther levin e chin-hui lee, da bell laboratories]. o pln compreende todas as abordagens quantitativas para processamento automatizado de linguagem, incluindo modelagem probabilistica, teoria da informacao e algebra linear. a tecnologia para o pln estatistico vem principalmente da aprendizagem automatica e da mineracao de dados, que sao campos de inteligencia artificial que envolvem o aprendizado a partir de dados.\\n\\n\\n== avaliacao ==\\no objetivo da avaliacao do pln e uma medida de uma ou mais qualidades de um algoritmo ou de um sistema a fim de determinar se o algoritmo atende as metas dos projetistas ou o sistema de atendimento as necessidades de seus usuarios. investigacao na avaliacao pln  tem ganhado atencao, porque a definicao de criterios de avaliacao e uma forma de especificar precisamente problemas do pln. uma metrica de avaliacao de pln em um sistema algoritmico permite a integracao da compreensao de linguagem e geracao de linguagem. um conjunto preciso de criterios de avaliacao, que pode ser aplicado principalmente a avaliacoes metricas, podendo permitir que varias equipes comparem suas solucoes para um determinado problema do pln.\\n\\n\\n== cronologia da avaliacao ==\\nem 1983, iniciou-se o projecto esprit p26, que avaliou as tecnologias da fala (incluindo topicos gerais como sintaxe e semantica) comparando as abordagens baseadas em regras com as estatisticas.\\nem 1987, a primeira campanha de avaliacao de textos escritos parece ser uma campanha dedicada a compreensao da mensagem (pallet, 1998).\\no projeto parseval / geig comparou gramaticas de frase-estrutura (black 1991).\\nhouve uma serie de campanhas no projeto tipster sobre tarefas como resumo, traducao e pesquisa (hirschman 1998).\\nem 1994, na alemanha, o morpholympics comparou marcadores morfologicos alemaes.\\nas campanhas de senseval & romanseval foram realizadas com os objetivos de desambiguacao semantica.\\nem 1996, a campanha sparkle comparou os analisadores sintaticos em quatro idiomas diferentes (ingles, frances, alemao e italiano).\\nna franca, o projeto grace comparou um conjunto de 21 marcadores para o frances em 1997 (adda 1999).\\nem 2004, durante o projeto technolangue / easy, foram comparados 13 analisadores para o frances.\\na avaliacao em larga escala dos analisadores de dependencia foi realizada no contexto das tarefas compartilhadas do conll em 2006 e 2007.\\nna franca, no ambito do projecto anr-passage (final de 2007), foram comparados 10 analisadores para o frances.\\nem italia, a campanha evalita foi realizada em 2007, 2009, 2011 e 2014 para comparar varias ferramentas de pln e de voz para o site italiano - evalita.\\n\\n\\n== diferentes tipos de avaliacao ==\\navaliacao intrinseca vs. extrinseca\\na avaliacao intrinseca considera um sistema pnl isolado e caracteriza seu desempenho em relacao a um resultado padrao-excelencia, conforme definido pelos avaliadores. a avaliacao extrinseca, tambem chamada de avaliacao em uso, considera o sistema pln em um cenario mais complexo como um sistema embutido ou uma funcao precisa para um usuario humano. o desempenho extrinseco do sistema e entao caracterizado em termos de utilidade em relacao a tarefa global do sistema estranho ou do utilizador humano. por exemplo, considere um analisador sintatico que e baseado na saida de alguma parte do tagger de fala (pos). uma avaliacao intrinseca executaria o marcador pos em dados estruturados e compararia a saida do sistema do marcador pos com a saida padrao ouro. uma avaliacao extrinseca executaria o analisador com algum outro marcador pos e, em seguida, com o marcador pos novo e compara a precisao de analise.\\ncaixa preta vs. avaliacao da caixa de vidro\\na avaliacao em caixa preta requer que alguem execute um sistema pln em um conjunto de dados de amostra e para medir uma serie de parametros relacionados com a qualidade do processo, como velocidade, confiabilidade, consumo de recursos e, principalmente, a qualidade do resultado, como a precisao da anotacao de dados ou a fidelidade de uma traducao. a avaliacao da caixa de vidro examina a concepcao do sistema; os algoritmos que sao implementados, os recursos linguisticos que utiliza, como o tamanho do vocabulario ou a expressao definida de cardinalidade. dada a complexidade dos problemas da pln, muitas vezes e dificil prever o desempenho apenas com base na avaliacao da caixa de vidro; mas este tipo de avaliacao e mais informativo no que diz respeito a analise de erros ou desenvolvimentos futuros de um sistema.\\nautomatica vs. avaliacao manual\\nem muitos casos, procedimentos automaticos podem ser definidos para avaliar um sistema de pln, comparando sua saida com o padrao de excelencia. embora o custo de reproduzir o padrao de excelencia possa ser bastante elevado, avaliacao automatica de bootstrapping sobre os mesmos dados de entrada pode ser repetida quantas vezes for necessario sem custos adicionais desordenados. no entanto, para muitos problemas de pln a definicao precisa de um padrao de excelencia e uma tarefa complexa e pode se revelar impossivel quando o acordo inter-anotador e insuficiente. a avaliacao manual e melhor realizada por juizes humanos instruidos para estimar a qualidade de um sistema, ou mais frequentemente de uma amostra de sua producao, com base em uma serie de criterios. embora, gracas a sua competencia linguistica, os juizes humanos possam ser considerados como a referencia para uma serie de tarefas de processamento de linguagem, ha tambem uma variacao consideravel em suas classificacoes. e por isso que a avaliacao automatica e, por vezes, referida como avaliacao objetiva enquanto a avaliacao humana e perspectiva.\\n\\n\\n== padronizacao ==\\num subcomite iso esta trabalhando para facilitar a interoperabilidade entre recursos lexicais e programas pln. o subcomite faz parte do iso / tc37 e e chamado iso / tc37 / sc4. alguns padroes iso ja estao publicados, mas a maioria deles esta em construcao, principalmente na representacao de lexico (ver lmf), anotacao e registro de categoria de dados.\\n\\n\\n== ferramentas ==\\nexpert system s.p.a.\\ngeneral architecture for text engineering\\nmodular audio recognition framework\\nnatural language toolkit (nltk): uma biblioteca em python\\nopennlp\\n\\n\\n== veja tambem ==\\nmineracao de texto biomedica\\nprocesso de processamento composto\\nrevisao assistida por computador\\nlinguagem natural controlada\\nprocessamento linguistico profundo\\nauxilio a leitura de linguas estrangeiras\\nauxilio a escrita em lingua estrangeira\\ntecnologia da linguagem\\na alocacao de dirichlet latente (lda)\\nindexacao semantica latente\\nlista de ferramentas de processamento de lingua natural\\nmapa de lre\\nprogramacao em lingua natural\\nreificacao (linguistica)\\ndobradura semantica\\nsistema de dialogo falado\\nvetor do pensamento\\npesquisa transderivacional\\nword2vec\\n\\n\\n== referencias ==\\n\\n\\n== leitura adicional ==\\nsteven bird, ewan klein, and edward loper (2009). natural language processing with python. o\\'reilly media. isbn 978-0-596-51649-9.\\ndaniel jurafsky and james h. martin (2008). speech and language processing, 2nd edition. pearson prentice hall. isbn 978-0-13-187321-6.\\nchristopher d. manning, prabhakar raghavan, and hinrich schutze (2008). introduction to information retrieval. cambridge university press. isbn 978-0-521-86571-5. official html and pdf versions available without charge.\\nchristopher d. manning and hinrich schutze (1999). foundations of statistical natural language processing. the mit press. isbn 978-0-262-13360-9.\\ndavid m. w. powers and christopher c. r. turk (1989). machine learning of natural language. springer-verlag. isbn 978-0-387-19557-5.'"
            ]
          },
          "metadata": {},
          "execution_count": 89
        }
      ]
    },
    {
      "cell_type": "markdown",
      "metadata": {
        "id": "PE9SWw5BU2fS"
      },
      "source": [
        "12.  Plote a frequência dos tokens após o processo de stemming. Utilize o método plot_frequencia_tokens() para plotar o gráfico. Também imprima o tamanho desta lista. "
      ]
    },
    {
      "cell_type": "code",
      "metadata": {
        "id": "YrYyawTqzmeN",
        "colab": {
          "base_uri": "https://localhost:8080/",
          "height": 296
        },
        "outputId": "5bc44893-1ea1-4d9b-c498-b7073f8c78da"
      },
      "source": [
        "print(\"Tokens Stemmer\")\n",
        "plot_frequencia_tokens(tokens_stemmer)"
      ],
      "execution_count": 90,
      "outputs": [
        {
          "output_type": "stream",
          "name": "stdout",
          "text": [
            "Tokens Stemmer\n"
          ]
        },
        {
          "output_type": "display_data",
          "data": {
            "image/png": "[encoded data removed]",
            "text/plain": [
              "<Figure size 432x288 with 1 Axes>"
            ]
          },
          "metadata": {
            "needs_background": "light"
          }
        }
      ]
    },
    {
      "cell_type": "markdown",
      "metadata": {
        "id": "vRj0sT4oU2fV"
      },
      "source": [
        "## Lemmatization\n",
        "13. Aplique a lematização\n",
        "a biblitoteca NLTK não possui lematização para português.\n",
        "Mas a scpaCy possui."
      ]
    },
    {
      "cell_type": "code",
      "metadata": {
        "id": "x-oXoWovWrbt"
      },
      "source": [
        "import pt_core_news_sm\n"
      ],
      "execution_count": 91,
      "outputs": []
    },
    {
      "cell_type": "code",
      "metadata": {
        "id": "QFpQrNXQU2fV"
      },
      "source": [
        "#carrega o modelo para português\n",
        "nlp = pt_core_news_sm.load()"
      ],
      "execution_count": 92,
      "outputs": []
    },
    {
      "cell_type": "markdown",
      "metadata": {
        "id": "hBslXKwlU2fY"
      },
      "source": [
        "A primeira etapa para executar a lematização é transformar a lista de tokens para uma string. \n",
        "Utilize a variável de tokens: <b> tokens_sem_punction </b>.\n",
        "Você pode executar a <b> lematização </b> com acentos ou sem acentos. Funciona da mesma forma.\n",
        "\n",
        "Dica: utilize o método join para isto:\n",
        "\n",
        "```python\n",
        "str.join(list)\n",
        "\n",
        "```"
      ]
    },
    {
      "cell_type": "code",
      "metadata": {
        "id": "DAo25jkFU2fY"
      },
      "source": [
        "str_tokens = ' '.join(tokens_sem_acentos)"
      ],
      "execution_count": 93,
      "outputs": []
    },
    {
      "cell_type": "markdown",
      "metadata": {
        "id": "aNTknXsLU2fb"
      },
      "source": [
        "Depois carregue a string de tokens (<b>str_tokens</b>) no modelo <b> nlp </b>, carregado em um dos passos anteriores.\n",
        "\n",
        "```python\n",
        "doc = nlp(str_tokens)\n",
        "```"
      ]
    },
    {
      "cell_type": "code",
      "metadata": {
        "id": "BchCPaZTU2fb"
      },
      "source": [
        "doc = nlp(str_tokens)"
      ],
      "execution_count": 94,
      "outputs": []
    },
    {
      "cell_type": "markdown",
      "metadata": {
        "id": "9uXzFRLWU2fd"
      },
      "source": [
        "Verifique o tipo da variável <b> doc </b>.\n",
        "Observe que é do tipo spacy.tokens.doc.Doc"
      ]
    },
    {
      "cell_type": "code",
      "metadata": {
        "id": "cnxBJgCiU2fd",
        "colab": {
          "base_uri": "https://localhost:8080/"
        },
        "outputId": "79b09724-3a63-4524-a3e7-ef1619ce171c"
      },
      "source": [
        "type(doc)"
      ],
      "execution_count": 95,
      "outputs": [
        {
          "output_type": "execute_result",
          "data": {
            "text/plain": [
              "spacy.tokens.doc.Doc"
            ]
          },
          "metadata": {},
          "execution_count": 95
        }
      ]
    },
    {
      "cell_type": "markdown",
      "metadata": {
        "id": "MU495FKpU2ff"
      },
      "source": [
        "Como tipo da variável doc é do tipo spacy.tokens.doc.Doc.\n",
        "Apenas é preciso iterar em cada token e retornar o atributo <b> lemma_</b>"
      ]
    },
    {
      "cell_type": "code",
      "metadata": {
        "id": "0jOWhl2WU2fg"
      },
      "source": [
        "token_lemm = [token.lemma_ for token in doc]"
      ],
      "execution_count": 96,
      "outputs": []
    },
    {
      "cell_type": "code",
      "metadata": {
        "id": "lAcNhp-OU2fh",
        "colab": {
          "base_uri": "https://localhost:8080/"
        },
        "outputId": "7b0bde19-ded6-4a03-96b0-1ff3bb6604a6"
      },
      "source": [
        "len(token_lemm)"
      ],
      "execution_count": 97,
      "outputs": [
        {
          "output_type": "execute_result",
          "data": {
            "text/plain": [
              "28023"
            ]
          },
          "metadata": {},
          "execution_count": 97
        }
      ]
    },
    {
      "cell_type": "markdown",
      "metadata": {
        "id": "EOUMZMmuU2fm"
      },
      "source": [
        "14.  Plote a frequência dos tokens após o processo de lematização. Utilize o método plot_frequencia_tokens() para plotar o gráfico. Também imprima o tamanho desta lista. "
      ]
    },
    {
      "cell_type": "code",
      "metadata": {
        "id": "i_bQAPvqzp-k",
        "colab": {
          "base_uri": "https://localhost:8080/",
          "height": 296
        },
        "outputId": "744c7d15-d5ac-460f-facc-c8cfdfdc94d9"
      },
      "source": [
        "print(\"Tokens LEMM\")\n",
        "plot_frequencia_tokens(token_lemm)"
      ],
      "execution_count": 98,
      "outputs": [
        {
          "output_type": "stream",
          "name": "stdout",
          "text": [
            "Tokens LEMM\n"
          ]
        },
        {
          "output_type": "display_data",
          "data": {
            "image/png": "[encoded data removed]",
            "text/plain": [
              "<Figure size 432x288 with 1 Axes>"
            ]
          },
          "metadata": {
            "needs_background": "light"
          }
        }
      ]
    },
    {
      "cell_type": "markdown",
      "metadata": {
        "id": "-XLXgdESYG-J"
      },
      "source": [
        "# Extra: Outras bibliotecas para pré-processamento"
      ]
    },
    {
      "cell_type": "markdown",
      "metadata": {
        "id": "wFER3k8KYe-F"
      },
      "source": [
        "## Texhero\n",
        "\n",
        "https://texthero.org/"
      ]
    },
    {
      "cell_type": "code",
      "metadata": {
        "id": "rcyWSM2vYLW3"
      },
      "source": [
        "!pip install texthero==1.0.9"
      ],
      "execution_count": null,
      "outputs": []
    },
    {
      "cell_type": "code",
      "metadata": {
        "id": "1PUyIqqga_e4"
      },
      "source": [
        "import texthero as hero\n",
        "import pandas as pd"
      ],
      "execution_count": null,
      "outputs": []
    },
    {
      "cell_type": "code",
      "metadata": {
        "id": "gQJUm1hNYn9w"
      },
      "source": [
        "texto = \\\n",
        "\"\"\"A história      do PLN (Processamento de linguagem Natural) começou na década de 1950, quando Alan Turing publicou o artigo Computing Machinery and Intelligence. \n",
        "Fonte: https://pt.wikipedia.org/wiki/Processamento_de_linguagem_natural \"\"\""
      ],
      "execution_count": null,
      "outputs": []
    },
    {
      "cell_type": "code",
      "metadata": {
        "colab": {
          "base_uri": "https://localhost:8080/",
          "height": 52
        },
        "id": "c0AY96x7ZO9G",
        "outputId": "054844af-c03e-4071-bd19-737cb8a6112c"
      },
      "source": [
        "texto"
      ],
      "execution_count": null,
      "outputs": [
        {
          "output_type": "execute_result",
          "data": {
            "application/vnd.google.colaboratory.intrinsic+json": {
              "type": "string"
            },
            "text/plain": [
              "'A história      do PLN (Processamento de linguagem Natural) começou na década de 1950, quando Alan Turing publicou o artigo Computing Machinery and Intelligence. \\nFonte: https://pt.wikipedia.org/wiki/Processamento_de_linguagem_natural '"
            ]
          },
          "metadata": {
            "tags": []
          },
          "execution_count": 44
        }
      ]
    },
    {
      "cell_type": "code",
      "metadata": {
        "id": "uM3NUA3UbFqR"
      },
      "source": [
        "texto = pd.Series(texto)"
      ],
      "execution_count": null,
      "outputs": []
    },
    {
      "cell_type": "code",
      "metadata": {
        "colab": {
          "base_uri": "https://localhost:8080/"
        },
        "id": "AHHOhON2dMbm",
        "outputId": "112a731e-4a72-48a7-f891-844009869275"
      },
      "source": [
        "#Aplica tokenização\n",
        "hero.tokenize(texto).values[0]"
      ],
      "execution_count": null,
      "outputs": [
        {
          "output_type": "execute_result",
          "data": {
            "text/plain": [
              "['A',\n",
              " 'história',\n",
              " 'do',\n",
              " 'PLN',\n",
              " '(',\n",
              " 'Processamento',\n",
              " 'de',\n",
              " 'linguagem',\n",
              " 'Natural',\n",
              " ')',\n",
              " 'começou',\n",
              " 'na',\n",
              " 'década',\n",
              " 'de',\n",
              " '1950',\n",
              " ',',\n",
              " 'quando',\n",
              " 'Alan',\n",
              " 'Turing',\n",
              " 'publicou',\n",
              " 'o',\n",
              " 'artigo',\n",
              " 'Computing',\n",
              " 'Machinery',\n",
              " 'and',\n",
              " 'Intelligence',\n",
              " '.',\n",
              " 'Fonte',\n",
              " ':',\n",
              " 'https',\n",
              " ':',\n",
              " '/',\n",
              " '/',\n",
              " 'pt.wikipedia.org/wiki/Processamento',\n",
              " '_',\n",
              " 'de',\n",
              " '_',\n",
              " 'linguagem',\n",
              " '_',\n",
              " 'natural']"
            ]
          },
          "metadata": {
            "tags": []
          },
          "execution_count": 46
        }
      ]
    },
    {
      "cell_type": "code",
      "metadata": {
        "colab": {
          "base_uri": "https://localhost:8080/",
          "height": 52
        },
        "id": "woEW8go1awYr",
        "outputId": "1052553b-6cf5-4c3e-cab4-245f55a12fd6"
      },
      "source": [
        "#Remove numeros\n",
        "hero.remove_digits(texto).values[0]"
      ],
      "execution_count": null,
      "outputs": [
        {
          "output_type": "execute_result",
          "data": {
            "application/vnd.google.colaboratory.intrinsic+json": {
              "type": "string"
            },
            "text/plain": [
              "'A história      do PLN (Processamento de linguagem Natural) começou na década de  , quando Alan Turing publicou o artigo Computing Machinery and Intelligence. \\nFonte: https://pt.wikipedia.org/wiki/Processamento_de_linguagem_natural '"
            ]
          },
          "metadata": {
            "tags": []
          },
          "execution_count": 47
        }
      ]
    },
    {
      "cell_type": "code",
      "metadata": {
        "colab": {
          "base_uri": "https://localhost:8080/",
          "height": 52
        },
        "id": "Y4Snd94tbAKg",
        "outputId": "c2324f88-5930-4687-e7d5-200e69dd2256"
      },
      "source": [
        "#Remove pontuação\n",
        "hero.remove_punctuation(texto).values[0]"
      ],
      "execution_count": null,
      "outputs": [
        {
          "output_type": "execute_result",
          "data": {
            "application/vnd.google.colaboratory.intrinsic+json": {
              "type": "string"
            },
            "text/plain": [
              "'A história      do PLN  Processamento de linguagem Natural  começou na década de 1950  quando Alan Turing publicou o artigo Computing Machinery and Intelligence  \\nFonte  https pt wikipedia org wiki Processamento de linguagem natural '"
            ]
          },
          "metadata": {
            "tags": []
          },
          "execution_count": 48
        }
      ]
    },
    {
      "cell_type": "code",
      "metadata": {
        "colab": {
          "base_uri": "https://localhost:8080/",
          "height": 52
        },
        "id": "N_LnU83Nbqvi",
        "outputId": "19d3ca35-200e-4cb0-ef5e-bcbe7b0b5eb8"
      },
      "source": [
        "#Remove parênteses\n",
        "hero.remove_brackets(texto).values[0]"
      ],
      "execution_count": null,
      "outputs": [
        {
          "output_type": "execute_result",
          "data": {
            "application/vnd.google.colaboratory.intrinsic+json": {
              "type": "string"
            },
            "text/plain": [
              "'A história      do PLN  começou na década de 1950, quando Alan Turing publicou o artigo Computing Machinery and Intelligence. \\nFonte: https://pt.wikipedia.org/wiki/Processamento_de_linguagem_natural '"
            ]
          },
          "metadata": {
            "tags": []
          },
          "execution_count": 49
        }
      ]
    },
    {
      "cell_type": "code",
      "metadata": {
        "colab": {
          "base_uri": "https://localhost:8080/",
          "height": 52
        },
        "id": "v4neqZ-_b2z4",
        "outputId": "a3816f70-82b9-4e6f-fad7-fcc5c9464d2e"
      },
      "source": [
        "#Remove espaços em brancos\n",
        "hero.remove_whitespace(texto).values[0]"
      ],
      "execution_count": null,
      "outputs": [
        {
          "output_type": "execute_result",
          "data": {
            "application/vnd.google.colaboratory.intrinsic+json": {
              "type": "string"
            },
            "text/plain": [
              "'A história do PLN (Processamento de linguagem Natural) começou na década de 1950, quando Alan Turing publicou o artigo Computing Machinery and Intelligence. Fonte: https://pt.wikipedia.org/wiki/Processamento_de_linguagem_natural'"
            ]
          },
          "metadata": {
            "tags": []
          },
          "execution_count": 50
        }
      ]
    },
    {
      "cell_type": "code",
      "metadata": {
        "colab": {
          "base_uri": "https://localhost:8080/",
          "height": 52
        },
        "id": "JnhY3alVbzV-",
        "outputId": "50128fae-8978-48a1-fa55-778effbcc8d2"
      },
      "source": [
        "#Remove stopwords\n",
        "portugues_stops = stopwords.words('portuguese')\n",
        "hero.remove_stopwords(texto, portugues_stops).values[0]"
      ],
      "execution_count": null,
      "outputs": [
        {
          "output_type": "execute_result",
          "data": {
            "application/vnd.google.colaboratory.intrinsic+json": {
              "type": "string"
            },
            "text/plain": [
              "'A história       PLN (Processamento  linguagem Natural) começou  década  1950,  Alan Turing publicou  artigo Computing Machinery and Intelligence. \\nFonte: https://pt.wikipedia.org/wiki/Processamento_de_linguagem_natural '"
            ]
          },
          "metadata": {
            "tags": []
          },
          "execution_count": 51
        }
      ]
    },
    {
      "cell_type": "code",
      "metadata": {
        "colab": {
          "base_uri": "https://localhost:8080/",
          "height": 35
        },
        "id": "3y0S3_GkcHoc",
        "outputId": "f00d172c-012d-49f8-b9af-8b3d6bd63c6e"
      },
      "source": [
        "#Remove URL\n",
        "hero.remove_urls(texto).values[0]"
      ],
      "execution_count": null,
      "outputs": [
        {
          "output_type": "execute_result",
          "data": {
            "application/vnd.google.colaboratory.intrinsic+json": {
              "type": "string"
            },
            "text/plain": [
              "'A história      do PLN (Processamento de linguagem Natural) começou na década de 1950, quando Alan Turing publicou o artigo Computing Machinery and Intelligence. \\nFonte:   '"
            ]
          },
          "metadata": {
            "tags": []
          },
          "execution_count": 52
        }
      ]
    },
    {
      "cell_type": "markdown",
      "metadata": {
        "id": "kWT1Es2jfrtz"
      },
      "source": [
        "## Clean-Text\n",
        "\n",
        "https://github.com/jfilter/clean-text"
      ]
    },
    {
      "cell_type": "code",
      "metadata": {
        "colab": {
          "base_uri": "https://localhost:8080/"
        },
        "id": "SjstQC5Ef75_",
        "outputId": "a0651158-bb8c-44c5-a8bc-aaae0f398b95"
      },
      "source": [
        "!pip install clean-text==0.4.0"
      ],
      "execution_count": null,
      "outputs": [
        {
          "output_type": "stream",
          "text": [
            "Collecting clean-text==0.4.0\n",
            "  Downloading https://files.pythonhosted.org/packages/b7/f5/f0db7d0185e26f9a85d425fd19d9bd891ff733f2ec0d1ee06791fd7f13b6/clean_text-0.4.0-py3-none-any.whl\n",
            "Collecting emoji\n",
            "\u001b[?25l  Downloading https://files.pythonhosted.org/packages/08/8f/c6cad83e6261114a612870a21832e4700f05fcacff8bd7e362a0af3c5acf/emoji-1.4.0.tar.gz (185kB)\n",
            "\u001b[K     |████████████████████████████████| 194kB 30.0MB/s \n",
            "\u001b[?25hCollecting ftfy<7.0,>=6.0\n",
            "\u001b[?25l  Downloading https://files.pythonhosted.org/packages/af/da/d215a091986e5f01b80f5145cff6f22e2dc57c6b048aab2e882a07018473/ftfy-6.0.3.tar.gz (64kB)\n",
            "\u001b[K     |████████████████████████████████| 71kB 10.3MB/s \n",
            "\u001b[?25hRequirement already satisfied: wcwidth in /usr/local/lib/python3.7/dist-packages (from ftfy<7.0,>=6.0->clean-text==0.4.0) (0.2.5)\n",
            "Building wheels for collected packages: emoji, ftfy\n",
            "  Building wheel for emoji (setup.py) ... \u001b[?25l\u001b[?25hdone\n",
            "  Created wheel for emoji: filename=emoji-1.4.0-cp37-none-any.whl size=186501 sha256=33c8809838b4cb1dfd7b06631f5057512e5f1b26662cf15e602fa21c5b339d78\n",
            "  Stored in directory: /root/.cache/pip/wheels/31/c2/7e/a1649e4a71d6967ba58a76db3d3f23b6e94c82391ffa1f531c\n",
            "  Building wheel for ftfy (setup.py) ... \u001b[?25l\u001b[?25hdone\n",
            "  Created wheel for ftfy: filename=ftfy-6.0.3-cp37-none-any.whl size=41935 sha256=e2acb2c7c91fdd07336bf919995a12235fac9710e3c0878d48b901a30dd2cae5\n",
            "  Stored in directory: /root/.cache/pip/wheels/99/2c/e6/109c8a28fef7a443f67ba58df21fe1d0067ac3322e75e6b0b7\n",
            "Successfully built emoji ftfy\n",
            "Installing collected packages: emoji, ftfy, clean-text\n",
            "Successfully installed clean-text-0.4.0 emoji-1.4.0 ftfy-6.0.3\n"
          ],
          "name": "stdout"
        }
      ]
    },
    {
      "cell_type": "code",
      "metadata": {
        "id": "8DHK-hLigByp"
      },
      "source": [
        "from cleantext import clean"
      ],
      "execution_count": null,
      "outputs": []
    },
    {
      "cell_type": "code",
      "metadata": {
        "id": "Zf042_kqgFBW"
      },
      "source": [
        "texto = \\\n",
        "\"\"\"A história      do PLN (Processamento de linguagem Natural) começou na década de 1950, quando Alan Turing publicou o artigo Computing Machinery and Intelligence. \n",
        "Fonte: https://pt.wikipedia.org/wiki/Processamento_de_linguagem_natural \"\"\""
      ],
      "execution_count": null,
      "outputs": []
    },
    {
      "cell_type": "code",
      "metadata": {
        "colab": {
          "base_uri": "https://localhost:8080/",
          "height": 35
        },
        "id": "9LJ_H-Xtftge",
        "outputId": "48cc7e6a-20fb-4615-dbbe-f9592bc07f17"
      },
      "source": [
        "clean(texto,\n",
        "    fix_unicode=True,              \n",
        "    to_ascii=True,                 \n",
        "    lower=True,                    \n",
        "    no_line_breaks=False,\n",
        "    no_urls=True,\n",
        "    no_emails=False,     \n",
        "    no_phone_numbers=False,\n",
        "    no_numbers=True,      \n",
        "    no_digits=True,       \n",
        "    no_currency_symbols=False, \n",
        "    no_punct=True,          \n",
        "    replace_with_punct=\"\",\n",
        "    replace_with_url=\"<URL>\",\n",
        "    replace_with_email=\"<EMAIL>\",\n",
        "    replace_with_phone_number=\"<PHONE>\",\n",
        "    replace_with_number=\"<NUMBER>\",\n",
        "    replace_with_digit=\"0\",\n",
        "    replace_with_currency_symbol=\"<CUR>\",\n",
        "    lang=\"pt\"\n",
        ")"
      ],
      "execution_count": null,
      "outputs": [
        {
          "output_type": "execute_result",
          "data": {
            "application/vnd.google.colaboratory.intrinsic+json": {
              "type": "string"
            },
            "text/plain": [
              "'a historia do pln processamento de linguagem natural comecou na decada de <number> quando alan turing publicou o artigo computing machinery and intelligence\\nfonte <url>'"
            ]
          },
          "metadata": {
            "tags": []
          },
          "execution_count": 56
        }
      ]
    },
    {
      "cell_type": "code",
      "metadata": {
        "id": "fyB4E4U0F8Nf"
      },
      "source": [
        ""
      ],
      "execution_count": null,
      "outputs": []
    }
  ]
}