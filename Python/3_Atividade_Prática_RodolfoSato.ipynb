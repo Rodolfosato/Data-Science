{
  "nbformat": 4,
  "nbformat_minor": 0,
  "metadata": {
    "kernelspec": {
      "display_name": "Python 3",
      "language": "python",
      "name": "python3"
    },
    "language_info": {
      "codemirror_mode": {
        "name": "ipython",
        "version": 3
      },
      "file_extension": ".py",
      "mimetype": "text/x-python",
      "name": "python",
      "nbconvert_exporter": "python",
      "pygments_lexer": "ipython3",
      "version": "3.7.3"
    },
    "colab": {
      "name": "Cópia_de_Aula_3_Atividade_Prática__Akilles_Yuri_.ipynb",
      "provenance": [],
      "collapsed_sections": []
    }
  },
  "cells": [
    {
      "cell_type": "markdown",
      "metadata": {
        "id": "9cKOL6tBFd_R"
      },
      "source": [
        "# Terceira Aula - Atividade Prática\n",
        "\n",
        "#### Valor: 10 pontos"
      ]
    },
    {
      "cell_type": "markdown",
      "metadata": {
        "id": "hX2F78TbFd_T"
      },
      "source": [
        "1) Em uma competição de salto em distância cada atleta tem direito a cinco saltos. O resultado do atleta será determinado pela média dos cinco valores restantes. Você deve fazer um programa que receba o nome e as cinco distâncias alcançadas pelo atleta em seus saltos e depois informe o nome, os saltos e a média dos saltos. O programa deve ser encerrado quando não for informado o nome do atleta. A saída do programa deve ser conforme o exemplo abaixo:\n",
        "\n",
        "Atleta: Rodrigo\n",
        " \n",
        "Primeiro Salto: 6.5 m\n",
        "\n",
        "Segundo Salto: 6.1 m\n",
        "\n",
        "Terceiro Salto: 6.2 m\n",
        "\n",
        "Quarto Salto: 5.4 m\n",
        "\n",
        "Quinto Salto: 5.3 m\n",
        "\n",
        "Resultado final:\n",
        "\n",
        "Atleta: Rodrigo\n",
        "\n",
        "Saltos: 6.5 - 6.1 - 6.2 - 5.4 - 5.3\n",
        "\n",
        "Média dos saltos: 5.9 m\n"
      ]
    },
    {
      "cell_type": "code",
      "metadata": {
        "id": "ycZLZvev1Vz3"
      },
      "source": [
        "i = 1\n",
        "v = []\n",
        "alt = input(\"Nome do atleta:\")\n",
        "while (i < 6):\n",
        "  if(alt == \"\"):\n",
        "    break\n",
        "  v.append(float(input('Salto {0}:'.format(i))))\n",
        "  i = i + 1\n",
        "else:\n",
        "  r = sum(v) / 5\n",
        "  print(\"\\nAtleta: {0}\".format(alt))\n",
        "  print(\"Primeiro Salto: {0}m\".format(v[0]))\n",
        "  print(\"Segundo Salto: {0}m\".format(v[1]))\n",
        "  print(\"Terceiro Salto: {0}m\".format(v[2]))\n",
        "  print(\"Quarto Salto: {0}m\".format(v[3]))\n",
        "  print(\"Quinto Salto: {0}m\".format(v[4]))\n",
        "  print(\"Media dos saltos: {0}m\".format(r))"
      ],
      "execution_count": null,
      "outputs": []
    },
    {
      "cell_type": "markdown",
      "metadata": {
        "id": "8PRj7bRfcaXu"
      },
      "source": [
        "2) Qual é a diferença entre o **while** e **for**?"
      ]
    },
    {
      "cell_type": "markdown",
      "metadata": {
        "id": "hJr6RsJ0ItTj"
      },
      "source": [
        "Resposta: O FOR e utilizado principalmente quando o programador sabe a quantidade de vezes o laço de repetição ira ocorrer diferente do do WHILE onde ele fará a repetição ate o a determinado condição estiver concluída"
      ]
    },
    {
      "cell_type": "markdown",
      "metadata": {
        "id": "VEqNDxEIca9N"
      },
      "source": [
        "3) Faça um Programa que peça a idade e a altura de 5 pessoas, armazene cada informação no seu respectivo vetor. Imprima a idade e a altura na ordem inversa a ordem lida."
      ]
    },
    {
      "cell_type": "code",
      "metadata": {
        "id": "u8d1uuMncbK6"
      },
      "source": [
        "i = 1\n",
        "v = []\n",
        "while (i < 6):\n",
        " v.append(float(input(\"\\nSua idade:\")))\n",
        " v.append(float(input(\"Sua altura:\")))\n",
        " i = i + 1\n",
        "else:\n",
        " i = 9\n",
        " while (i > 0):\n",
        "   print(\"\\naltura {0}m\".format(v[i]))\n",
        "   i = i - 1\n",
        "   print(\"idade {0} anos\".format(v[i]))\n",
        "   i = i - 1"
      ],
      "execution_count": null,
      "outputs": []
    },
    {
      "cell_type": "markdown",
      "metadata": {
        "id": "KeAs6hMwcb8c"
      },
      "source": [
        "4) Faça um Programa que leia dois vetores com 10 elementos cada. Gere um terceiro vetor de 20 elementos, cujos valores deverão ser compostos pelos elementos intercalados dos dois outros vetores."
      ]
    },
    {
      "cell_type": "code",
      "metadata": {
        "id": "f9N5acg8ccIE"
      },
      "source": [
        "i = 0\n",
        "nu = []\n",
        "no = []\n",
        "tu = []\n",
        "while (i < 10):\n",
        "  nu.append(float(input('Digite um numero: ')))\n",
        "  i = i + 1\n",
        "i=0\n",
        "while (i < 10):\n",
        "  no.append(input('Digite um nome: '))\n",
        "  i = i + 1\n",
        "else:\n",
        "  i = 0\n",
        "  while (i < 9):\n",
        "   tu.append(nu[i])\n",
        "   tu.append(no[i])\n",
        "   i = i + 1\n",
        "print(tu)"
      ],
      "execution_count": null,
      "outputs": []
    },
    {
      "cell_type": "markdown",
      "metadata": {
        "id": "rWQdxezccmNm"
      },
      "source": [
        "5) Faça um programa que receba a temperatura média de cada mês do ano e armazene-as em uma lista. Após isto, calcule a média anual das temperaturas e mostre todas as temperaturas acima da média anual, e em que mês elas ocorreram (mostrar o mês por extenso: 1 – Janeiro, 2 – Fevereiro,...)."
      ]
    },
    {
      "cell_type": "code",
      "metadata": {
        "id": "sXV8TGpRcmWA"
      },
      "source": [
        "i = 0\n",
        "m = ['Janeiro','Fevereiro','Março','Abril','Maio','Junho','Julho','Agosto','Setembro','Outubro','Novembro','Dezembro']\n",
        "v = []\n",
        "while (i < 12):\n",
        "  v.append(float(input('Temperatura media do mês de {0}: '.format(m[i]))))\n",
        "  i = i + 1\n",
        "else:\n",
        "  r = sum(v) / 12\n",
        "  i = 0\n",
        "  while (i < 12):\n",
        "   if (r < v[i]):\n",
        "     print(\"\\nTemperatura acima da média anual {0}°C no mês de {1}\".format(v[i],m[i]))\n",
        "   i=i+1"
      ],
      "execution_count": null,
      "outputs": []
    }
  ]
}