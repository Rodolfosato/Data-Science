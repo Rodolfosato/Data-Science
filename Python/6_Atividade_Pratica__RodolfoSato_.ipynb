{
  "nbformat": 4,
  "nbformat_minor": 0,
  "metadata": {
    "kernelspec": {
      "display_name": "Python 3",
      "language": "python",
      "name": "python3"
    },
    "language_info": {
      "codemirror_mode": {
        "name": "ipython",
        "version": 3
      },
      "file_extension": ".py",
      "mimetype": "text/x-python",
      "name": "python",
      "nbconvert_exporter": "python",
      "pygments_lexer": "ipython3",
      "version": "3.7.3"
    },
    "colab": {
      "name": "Copia_de_Aula_6_Atividade_Pratica__Seu_Nome_.ipynb",
      "provenance": [],
      "collapsed_sections": []
    }
  },
  "cells": [
    {
      "cell_type": "code",
      "metadata": {
        "id": "3bRutqpJaLy6"
      },
      "source": [
        "!pip install googletrans\n",
        "!pip install googletrans==3.1.0a0\n",
        "!pip install deep-translator"
      ],
      "execution_count": null,
      "outputs": []
    },
    {
      "cell_type": "markdown",
      "metadata": {
        "id": "uCoSzbmYxGhM"
      },
      "source": [
        "# Quinta Aula - Atividade Prática\n",
        "\n",
        "#### Valor: 10 pontos"
      ]
    },
    {
      "cell_type": "markdown",
      "metadata": {
        "id": "iJibo9TAxGhV"
      },
      "source": [
        "1) Solicite ao usuário que informe a quantidade de linhas (n) e colunas (m) e crie um ndarray nxm com valores aleatórios."
      ]
    },
    {
      "cell_type": "code",
      "metadata": {
        "id": "YeJ2fjQ3vF2-",
        "colab": {
          "base_uri": "https://localhost:8080/"
        },
        "outputId": "8f9b250b-619b-4098-c7f9-c15e7a4f2732"
      },
      "source": [
        "import numpy as np\n",
        "                                               \n",
        "N = int(input('Quantidade de linhas: '))                                                                 \n",
        "                                                                                                                                                             \n",
        "M = int(input('Quantidade de colunas: '))                                                             \n",
        "                                                                                                                                                     \n",
        "matrixA = [[int(input(\"valor: \")) for column in range(M)] for row in range(N)]\n",
        "\n",
        "matrix = np.array(matrixA)\n",
        "\n",
        "np.random.shuffle(matrix)\n",
        "\n",
        "matrix"
      ],
      "execution_count": null,
      "outputs": [
        {
          "output_type": "stream",
          "text": [
            "Quantidade de linhas: 3\n",
            "Quantidade de colunas: 3\n",
            "valor: 2\n",
            "valor: 1\n",
            "valor: 3\n",
            "valor: 5\n",
            "valor: 4\n",
            "valor: 6\n",
            "valor: 8\n",
            "valor: 7\n",
            "valor: 9\n"
          ],
          "name": "stdout"
        },
        {
          "output_type": "execute_result",
          "data": {
            "text/plain": [
              "array([[5, 4, 6],\n",
              "       [8, 7, 9],\n",
              "       [2, 1, 3]])"
            ]
          },
          "metadata": {
            "tags": []
          },
          "execution_count": 63
        }
      ]
    },
    {
      "cell_type": "markdown",
      "metadata": {
        "id": "quZxP8XAxGhX"
      },
      "source": [
        "2) Retorne a média dos valores de cada uma das n linhas"
      ]
    },
    {
      "cell_type": "code",
      "metadata": {
        "id": "EwAeRvFScap6",
        "colab": {
          "base_uri": "https://localhost:8080/"
        },
        "outputId": "470c49bc-06b1-4107-e700-e75e3d660f94"
      },
      "source": [
        "i = 0\n",
        "total_sum = 0\n",
        "soma_linha = 0\n",
        "i = len(matrix)\n",
        "j = 0\n",
        "while j < i:\n",
        "  for N in range(len(matrix)):\n",
        "    soma_linha += matrix[j][N]\n",
        "    print(matrix[j][N])\n",
        "  total_sum += soma_linha\n",
        "  soma_geral = total_sum / len(matrix[N])\n",
        "  print('Soma: {} Média: {}'.format(total_sum, soma_geral))\n",
        "  j+=1\n",
        "  total_sum = 0\n",
        "  soma_linha = 0"
      ],
      "execution_count": null,
      "outputs": [
        {
          "output_type": "stream",
          "text": [
            "4\n",
            "6\n",
            "8\n",
            "Soma: 18 Média: 6.0\n",
            "3\n",
            "1\n",
            "2\n",
            "Soma: 6 Média: 2.0\n",
            "9\n",
            "7\n",
            "5\n",
            "Soma: 21 Média: 7.0\n"
          ],
          "name": "stdout"
        }
      ]
    },
    {
      "cell_type": "markdown",
      "metadata": {
        "id": "ezR03tcNxGhY"
      },
      "source": [
        "3) Retorne a mediana dos valores das m colunas"
      ]
    },
    {
      "cell_type": "code",
      "metadata": {
        "id": "u8d1uuMncbK6",
        "colab": {
          "base_uri": "https://localhost:8080/"
        },
        "outputId": "4281ca5b-8454-45db-a7ed-6a59be864f9c"
      },
      "source": [
        "import statistics\n",
        "j = 0\n",
        "n = []\n",
        "while j < i:\n",
        "  for N in range(len(matrix)):\n",
        "    n.append(matrix[j][N])\n",
        "  y = statistics.median(n)\n",
        "  print(y)\n",
        "  j+=1\n",
        "  n=[]"
      ],
      "execution_count": null,
      "outputs": [
        {
          "output_type": "stream",
          "text": [
            "5\n",
            "8\n",
            "2\n"
          ],
          "name": "stdout"
        }
      ]
    },
    {
      "cell_type": "markdown",
      "metadata": {
        "id": "RwWx6XM2xGhZ"
      },
      "source": [
        "4)  Dados os seguintes arrays x e y, calcula a correlação entre eles."
      ]
    },
    {
      "cell_type": "code",
      "metadata": {
        "id": "Xh9ATAtu8r4e"
      },
      "source": [
        "import numpy as np\n",
        "x = np.array([0, 1, 3, 8, -3])\n",
        "y = np.array([5, 4, 2, 1, 7])\n",
        "z = np.array([-5, -41, -97])"
      ],
      "execution_count": null,
      "outputs": []
    },
    {
      "cell_type": "code",
      "metadata": {
        "id": "f9N5acg8ccIE",
        "colab": {
          "base_uri": "https://localhost:8080/"
        },
        "outputId": "918ebf98-4390-43d2-c081-7c8ce9878d0e"
      },
      "source": [
        "dados = np.matrix([[0, 1, 3, 8, -3],\n",
        "[5, 4, 2, 1, 7]])\n",
        "\n",
        "print(np.corrcoef(dados))\n"
      ],
      "execution_count": null,
      "outputs": [
        {
          "output_type": "stream",
          "text": [
            "[[ 1.         -0.95320714]\n",
            " [-0.95320714  1.        ]]\n"
          ],
          "name": "stdout"
        }
      ]
    },
    {
      "cell_type": "markdown",
      "metadata": {
        "id": "StvT63UcxGha"
      },
      "source": [
        "5) Faça uma função que receba um ndarray de valores inteiros e retorne um ndarray de mesma dimensão, onde os valores negativos serão substituídos por True e os valores positivos por False."
      ]
    },
    {
      "cell_type": "code",
      "metadata": {
        "id": "9KrAxH2yAlx4"
      },
      "source": [
        "def torf(ndarray):\n",
        "  x = ndarray\n",
        "  y = 0 >= x\n",
        "  return y"
      ],
      "execution_count": null,
      "outputs": []
    },
    {
      "cell_type": "code",
      "metadata": {
        "id": "Y2DozZmSheJr",
        "colab": {
          "base_uri": "https://localhost:8080/"
        },
        "outputId": "fc3c6e3a-e0e4-4edd-be6e-ab7d756be3f0"
      },
      "source": [
        "ndarray = []\n",
        "lista = list()\n",
        "\n",
        "for i in range(1,6):\n",
        "  n = int(input(\"Escolha o {}º número: \".format(int(i))))\n",
        "  lista.append(n)\n",
        "ndarray = numpy.array([lista])\n",
        "torf(ndarray)"
      ],
      "execution_count": null,
      "outputs": [
        {
          "output_type": "stream",
          "text": [
            "Escolha o 1º número: -1\n",
            "Escolha o 2º número: 2\n",
            "Escolha o 3º número: -2\n",
            "Escolha o 4º número: 3\n",
            "Escolha o 5º número: 5\n"
          ],
          "name": "stdout"
        },
        {
          "output_type": "execute_result",
          "data": {
            "text/plain": [
              "array([[ True, False,  True, False, False]])"
            ]
          },
          "metadata": {
            "tags": []
          },
          "execution_count": 267
        }
      ]
    },
    {
      "cell_type": "markdown",
      "metadata": {
        "id": "9cKOL6tBFd_R"
      },
      "source": [
        "# Sexta Aula - Atividade Prática\n",
        "\n",
        "#### Valor: 10 pontos"
      ]
    },
    {
      "cell_type": "markdown",
      "metadata": {
        "id": "hX2F78TbFd_T"
      },
      "source": [
        "1) Importe a base de dados sobre carros no link: https://raw.githubusercontent.com/selva86/datasets/master/Cars93_miss.csv"
      ]
    },
    {
      "cell_type": "code",
      "metadata": {
        "id": "3vEmTl3DFyXI"
      },
      "source": [
        "import pandas as pd"
      ],
      "execution_count": 164,
      "outputs": []
    },
    {
      "cell_type": "code",
      "metadata": {
        "id": "zXw467RKixJV"
      },
      "source": [
        "dfcarros = pd.read_csv(\"https://raw.githubusercontent.com/selva86/datasets/master/Cars93_miss.csv\" , sep=\",\", comment=\"#\")\n",
        "dfcarros"
      ],
      "execution_count": null,
      "outputs": []
    },
    {
      "cell_type": "markdown",
      "metadata": {
        "id": "8PRj7bRfcaXu"
      },
      "source": [
        "2) Renomeie os nomes das colunas do DataFrame para português"
      ]
    },
    {
      "cell_type": "code",
      "metadata": {
        "id": "OjMkXMTpGEwR"
      },
      "source": [
        "from googletrans import Translator\n",
        "translator = Translator()\n",
        "\n",
        "def tradd(texttra):\n",
        "  trad = translator.translate(texttra, src='auto', dest='pt')\n",
        "  return trad.text\n",
        "trans={}\n",
        "for coluna in dfcarros.columns:\n",
        "  trans[coluna] = tradd(coluna)\n",
        "dfcarros.rename(columns=trans,inplace=True)\n",
        "dfcarros"
      ],
      "execution_count": null,
      "outputs": []
    },
    {
      "cell_type": "markdown",
      "metadata": {
        "id": "VEqNDxEIca9N"
      },
      "source": [
        "3) Substitua os valores faltantes (missings) das colunas Min. Price e Max. Price, com suas respectivas médias."
      ]
    },
    {
      "cell_type": "code",
      "metadata": {
        "id": "H1tjAGZlKV1A"
      },
      "source": [
        "dfcarros.fillna(dfcarros[:3].mean(), inplace=True)\n",
        "dfcarros.fillna(dfcarros[:4].mean(), inplace=True)"
      ],
      "execution_count": 189,
      "outputs": []
    },
    {
      "cell_type": "code",
      "metadata": {
        "id": "GKESRQ6QLHag",
        "colab": {
          "base_uri": "https://localhost:8080/"
        },
        "outputId": "5175213b-e6e3-4915-c266-dd44a0e4e41e"
      },
      "source": [
        "dfcarros[\"Min.Price\"].isnull().sum()\n",
        "dfcarros[\"Max.Price\"].isnull().sum()"
      ],
      "execution_count": 190,
      "outputs": [
        {
          "output_type": "execute_result",
          "data": {
            "text/plain": [
              "0"
            ]
          },
          "metadata": {
            "tags": []
          },
          "execution_count": 190
        }
      ]
    },
    {
      "cell_type": "code",
      "metadata": {
        "id": "VEqNgxD8LZdJ"
      },
      "source": [
        "pd.options.display.max_columns = None\n",
        "pd.options.display.max_rows = None\n",
        "dfcarros"
      ],
      "execution_count": null,
      "outputs": []
    },
    {
      "cell_type": "markdown",
      "metadata": {
        "id": "KeAs6hMwcb8c"
      },
      "source": [
        "4) Recupere a coluna Montadora (Manufacturer) como DataFrame, não como Series"
      ]
    },
    {
      "cell_type": "code",
      "metadata": {
        "id": "X8_M3JiVYeBC"
      },
      "source": [
        "dfmontadora = dfcarros.loc[:, [\"Manufacturer\"]]\n",
        "dfmontadora"
      ],
      "execution_count": null,
      "outputs": []
    },
    {
      "cell_type": "markdown",
      "metadata": {
        "id": "rWQdxezccmNm"
      },
      "source": [
        "5) Faça uma análise descritiva da base de dados"
      ]
    },
    {
      "cell_type": "code",
      "metadata": {
        "id": "sXV8TGpRcmWA"
      },
      "source": [
        "dfcarros.describe()"
      ],
      "execution_count": null,
      "outputs": []
    },
    {
      "cell_type": "markdown",
      "metadata": {
        "id": "QklFS3bSatSW"
      },
      "source": [
        "6) Salve uma amostra da base com apenas 100 registros"
      ]
    },
    {
      "cell_type": "code",
      "metadata": {
        "id": "N9m1SGXjw2Zd"
      },
      "source": [
        "dfamostra = dfcarros.head(10)\n",
        "dfamostra.to_csv(\"amostra.csv\")"
      ],
      "execution_count": 195,
      "outputs": []
    },
    {
      "cell_type": "code",
      "metadata": {
        "id": "AYTtVgF5aqDF",
        "colab": {
          "base_uri": "https://localhost:8080/",
          "height": 566
        },
        "outputId": "27004cac-c110-47f1-8f30-42b8d5a4a7b7"
      },
      "source": [
        "pd.read_csv(\"amostra.csv\")"
      ],
      "execution_count": 196,
      "outputs": [
        {
          "output_type": "execute_result",
          "data": {
            "text/html": [
              "<div>\n",
              "<style scoped>\n",
              "    .dataframe tbody tr th:only-of-type {\n",
              "        vertical-align: middle;\n",
              "    }\n",
              "\n",
              "    .dataframe tbody tr th {\n",
              "        vertical-align: top;\n",
              "    }\n",
              "\n",
              "    .dataframe thead th {\n",
              "        text-align: right;\n",
              "    }\n",
              "</style>\n",
              "<table border=\"1\" class=\"dataframe\">\n",
              "  <thead>\n",
              "    <tr style=\"text-align: right;\">\n",
              "      <th></th>\n",
              "      <th>Unnamed: 0</th>\n",
              "      <th>Manufacturer</th>\n",
              "      <th>Model</th>\n",
              "      <th>Type</th>\n",
              "      <th>Min.Price</th>\n",
              "      <th>Price</th>\n",
              "      <th>Max.Price</th>\n",
              "      <th>MPG.city</th>\n",
              "      <th>MPG.highway</th>\n",
              "      <th>AirBags</th>\n",
              "      <th>DriveTrain</th>\n",
              "      <th>Cylinders</th>\n",
              "      <th>EngineSize</th>\n",
              "      <th>Horsepower</th>\n",
              "      <th>RPM</th>\n",
              "      <th>Rev.per.mile</th>\n",
              "      <th>Man.trans.avail</th>\n",
              "      <th>Fuel.tank.capacity</th>\n",
              "      <th>Passengers</th>\n",
              "      <th>Length</th>\n",
              "      <th>Wheelbase</th>\n",
              "      <th>Width</th>\n",
              "      <th>Turn.circle</th>\n",
              "      <th>Rear.seat.room</th>\n",
              "      <th>Luggage.room</th>\n",
              "      <th>Weight</th>\n",
              "      <th>Origin</th>\n",
              "      <th>Make</th>\n",
              "    </tr>\n",
              "  </thead>\n",
              "  <tbody>\n",
              "    <tr>\n",
              "      <th>0</th>\n",
              "      <td>0</td>\n",
              "      <td>Acura</td>\n",
              "      <td>Integra</td>\n",
              "      <td>Small</td>\n",
              "      <td>12.900000</td>\n",
              "      <td>15.9</td>\n",
              "      <td>18.800000</td>\n",
              "      <td>25.0</td>\n",
              "      <td>31.0</td>\n",
              "      <td>None</td>\n",
              "      <td>Front</td>\n",
              "      <td>4</td>\n",
              "      <td>1.8</td>\n",
              "      <td>140.0</td>\n",
              "      <td>6300.0</td>\n",
              "      <td>2890.000000</td>\n",
              "      <td>Yes</td>\n",
              "      <td>13.200000</td>\n",
              "      <td>5.0</td>\n",
              "      <td>177.0</td>\n",
              "      <td>102.0</td>\n",
              "      <td>68.000000</td>\n",
              "      <td>37.0</td>\n",
              "      <td>26.5</td>\n",
              "      <td>14.5</td>\n",
              "      <td>2705.000000</td>\n",
              "      <td>non-USA</td>\n",
              "      <td>Acura Integra</td>\n",
              "    </tr>\n",
              "    <tr>\n",
              "      <th>1</th>\n",
              "      <td>1</td>\n",
              "      <td>NaN</td>\n",
              "      <td>Legend</td>\n",
              "      <td>Midsize</td>\n",
              "      <td>29.200000</td>\n",
              "      <td>33.9</td>\n",
              "      <td>38.700000</td>\n",
              "      <td>18.0</td>\n",
              "      <td>25.0</td>\n",
              "      <td>Driver &amp; Passenger</td>\n",
              "      <td>Front</td>\n",
              "      <td>6</td>\n",
              "      <td>3.2</td>\n",
              "      <td>200.0</td>\n",
              "      <td>5500.0</td>\n",
              "      <td>2335.000000</td>\n",
              "      <td>Yes</td>\n",
              "      <td>18.000000</td>\n",
              "      <td>5.0</td>\n",
              "      <td>195.0</td>\n",
              "      <td>115.0</td>\n",
              "      <td>71.000000</td>\n",
              "      <td>38.0</td>\n",
              "      <td>30.0</td>\n",
              "      <td>15.0</td>\n",
              "      <td>3560.000000</td>\n",
              "      <td>non-USA</td>\n",
              "      <td>Acura Legend</td>\n",
              "    </tr>\n",
              "    <tr>\n",
              "      <th>2</th>\n",
              "      <td>2</td>\n",
              "      <td>Audi</td>\n",
              "      <td>90</td>\n",
              "      <td>Compact</td>\n",
              "      <td>25.900000</td>\n",
              "      <td>29.1</td>\n",
              "      <td>32.300000</td>\n",
              "      <td>20.0</td>\n",
              "      <td>26.0</td>\n",
              "      <td>Driver only</td>\n",
              "      <td>Front</td>\n",
              "      <td>6</td>\n",
              "      <td>2.8</td>\n",
              "      <td>172.0</td>\n",
              "      <td>5500.0</td>\n",
              "      <td>2280.000000</td>\n",
              "      <td>Yes</td>\n",
              "      <td>16.900000</td>\n",
              "      <td>5.0</td>\n",
              "      <td>180.0</td>\n",
              "      <td>102.0</td>\n",
              "      <td>67.000000</td>\n",
              "      <td>37.0</td>\n",
              "      <td>28.0</td>\n",
              "      <td>14.0</td>\n",
              "      <td>3375.000000</td>\n",
              "      <td>non-USA</td>\n",
              "      <td>Audi 90</td>\n",
              "    </tr>\n",
              "    <tr>\n",
              "      <th>3</th>\n",
              "      <td>3</td>\n",
              "      <td>Audi</td>\n",
              "      <td>100</td>\n",
              "      <td>Midsize</td>\n",
              "      <td>22.666667</td>\n",
              "      <td>37.7</td>\n",
              "      <td>44.600000</td>\n",
              "      <td>19.0</td>\n",
              "      <td>26.0</td>\n",
              "      <td>Driver &amp; Passenger</td>\n",
              "      <td>NaN</td>\n",
              "      <td>6</td>\n",
              "      <td>2.6</td>\n",
              "      <td>172.0</td>\n",
              "      <td>5500.0</td>\n",
              "      <td>2535.000000</td>\n",
              "      <td>NaN</td>\n",
              "      <td>21.100000</td>\n",
              "      <td>6.0</td>\n",
              "      <td>193.0</td>\n",
              "      <td>106.0</td>\n",
              "      <td>68.666667</td>\n",
              "      <td>37.0</td>\n",
              "      <td>31.0</td>\n",
              "      <td>17.0</td>\n",
              "      <td>3405.000000</td>\n",
              "      <td>non-USA</td>\n",
              "      <td>Audi 100</td>\n",
              "    </tr>\n",
              "    <tr>\n",
              "      <th>4</th>\n",
              "      <td>4</td>\n",
              "      <td>BMW</td>\n",
              "      <td>535i</td>\n",
              "      <td>Midsize</td>\n",
              "      <td>22.666667</td>\n",
              "      <td>30.0</td>\n",
              "      <td>29.933333</td>\n",
              "      <td>22.0</td>\n",
              "      <td>30.0</td>\n",
              "      <td>NaN</td>\n",
              "      <td>Rear</td>\n",
              "      <td>4</td>\n",
              "      <td>3.5</td>\n",
              "      <td>208.0</td>\n",
              "      <td>5700.0</td>\n",
              "      <td>2545.000000</td>\n",
              "      <td>Yes</td>\n",
              "      <td>21.100000</td>\n",
              "      <td>4.0</td>\n",
              "      <td>186.0</td>\n",
              "      <td>109.0</td>\n",
              "      <td>69.000000</td>\n",
              "      <td>39.0</td>\n",
              "      <td>27.0</td>\n",
              "      <td>13.0</td>\n",
              "      <td>3640.000000</td>\n",
              "      <td>non-USA</td>\n",
              "      <td>BMW 535i</td>\n",
              "    </tr>\n",
              "    <tr>\n",
              "      <th>5</th>\n",
              "      <td>5</td>\n",
              "      <td>Buick</td>\n",
              "      <td>Century</td>\n",
              "      <td>Midsize</td>\n",
              "      <td>14.200000</td>\n",
              "      <td>15.7</td>\n",
              "      <td>17.300000</td>\n",
              "      <td>22.0</td>\n",
              "      <td>31.0</td>\n",
              "      <td>Driver only</td>\n",
              "      <td>NaN</td>\n",
              "      <td>4</td>\n",
              "      <td>2.2</td>\n",
              "      <td>110.0</td>\n",
              "      <td>5200.0</td>\n",
              "      <td>2565.000000</td>\n",
              "      <td>No</td>\n",
              "      <td>16.400000</td>\n",
              "      <td>6.0</td>\n",
              "      <td>189.0</td>\n",
              "      <td>105.0</td>\n",
              "      <td>69.000000</td>\n",
              "      <td>41.0</td>\n",
              "      <td>28.0</td>\n",
              "      <td>16.0</td>\n",
              "      <td>3213.333333</td>\n",
              "      <td>USA</td>\n",
              "      <td>Buick Century</td>\n",
              "    </tr>\n",
              "    <tr>\n",
              "      <th>6</th>\n",
              "      <td>6</td>\n",
              "      <td>Buick</td>\n",
              "      <td>LeSabre</td>\n",
              "      <td>Large</td>\n",
              "      <td>19.900000</td>\n",
              "      <td>20.8</td>\n",
              "      <td>29.933333</td>\n",
              "      <td>19.0</td>\n",
              "      <td>28.0</td>\n",
              "      <td>Driver only</td>\n",
              "      <td>Front</td>\n",
              "      <td>6</td>\n",
              "      <td>3.8</td>\n",
              "      <td>170.0</td>\n",
              "      <td>4800.0</td>\n",
              "      <td>2501.666667</td>\n",
              "      <td>No</td>\n",
              "      <td>16.033333</td>\n",
              "      <td>6.0</td>\n",
              "      <td>200.0</td>\n",
              "      <td>111.0</td>\n",
              "      <td>74.000000</td>\n",
              "      <td>42.0</td>\n",
              "      <td>30.5</td>\n",
              "      <td>17.0</td>\n",
              "      <td>3470.000000</td>\n",
              "      <td>USA</td>\n",
              "      <td>Buick LeSabre</td>\n",
              "    </tr>\n",
              "    <tr>\n",
              "      <th>7</th>\n",
              "      <td>7</td>\n",
              "      <td>Buick</td>\n",
              "      <td>Roadmaster</td>\n",
              "      <td>Large</td>\n",
              "      <td>22.600000</td>\n",
              "      <td>23.7</td>\n",
              "      <td>24.900000</td>\n",
              "      <td>16.0</td>\n",
              "      <td>25.0</td>\n",
              "      <td>Driver only</td>\n",
              "      <td>Rear</td>\n",
              "      <td>6</td>\n",
              "      <td>5.7</td>\n",
              "      <td>180.0</td>\n",
              "      <td>4000.0</td>\n",
              "      <td>1320.000000</td>\n",
              "      <td>No</td>\n",
              "      <td>23.000000</td>\n",
              "      <td>6.0</td>\n",
              "      <td>216.0</td>\n",
              "      <td>116.0</td>\n",
              "      <td>78.000000</td>\n",
              "      <td>45.0</td>\n",
              "      <td>30.5</td>\n",
              "      <td>21.0</td>\n",
              "      <td>4105.000000</td>\n",
              "      <td>USA</td>\n",
              "      <td>Buick Roadmaster</td>\n",
              "    </tr>\n",
              "    <tr>\n",
              "      <th>8</th>\n",
              "      <td>8</td>\n",
              "      <td>Buick</td>\n",
              "      <td>Riviera</td>\n",
              "      <td>Midsize</td>\n",
              "      <td>26.300000</td>\n",
              "      <td>26.3</td>\n",
              "      <td>26.300000</td>\n",
              "      <td>19.0</td>\n",
              "      <td>27.0</td>\n",
              "      <td>Driver only</td>\n",
              "      <td>Front</td>\n",
              "      <td>6</td>\n",
              "      <td>3.8</td>\n",
              "      <td>170.0</td>\n",
              "      <td>4800.0</td>\n",
              "      <td>1690.000000</td>\n",
              "      <td>No</td>\n",
              "      <td>18.800000</td>\n",
              "      <td>5.0</td>\n",
              "      <td>198.0</td>\n",
              "      <td>108.0</td>\n",
              "      <td>68.666667</td>\n",
              "      <td>41.0</td>\n",
              "      <td>26.5</td>\n",
              "      <td>14.0</td>\n",
              "      <td>3495.000000</td>\n",
              "      <td>USA</td>\n",
              "      <td>Buick Riviera</td>\n",
              "    </tr>\n",
              "    <tr>\n",
              "      <th>9</th>\n",
              "      <td>9</td>\n",
              "      <td>Cadillac</td>\n",
              "      <td>DeVille</td>\n",
              "      <td>Large</td>\n",
              "      <td>33.000000</td>\n",
              "      <td>34.7</td>\n",
              "      <td>36.300000</td>\n",
              "      <td>16.0</td>\n",
              "      <td>25.0</td>\n",
              "      <td>Driver only</td>\n",
              "      <td>Front</td>\n",
              "      <td>8</td>\n",
              "      <td>4.9</td>\n",
              "      <td>200.0</td>\n",
              "      <td>4100.0</td>\n",
              "      <td>2501.666667</td>\n",
              "      <td>No</td>\n",
              "      <td>18.000000</td>\n",
              "      <td>6.0</td>\n",
              "      <td>206.0</td>\n",
              "      <td>114.0</td>\n",
              "      <td>73.000000</td>\n",
              "      <td>43.0</td>\n",
              "      <td>35.0</td>\n",
              "      <td>18.0</td>\n",
              "      <td>3620.000000</td>\n",
              "      <td>USA</td>\n",
              "      <td>Cadillac DeVille</td>\n",
              "    </tr>\n",
              "  </tbody>\n",
              "</table>\n",
              "</div>"
            ],
            "text/plain": [
              "   Unnamed: 0 Manufacturer       Model     Type  Min.Price  Price  Max.Price  \\\n",
              "0           0        Acura     Integra    Small  12.900000   15.9  18.800000   \n",
              "1           1          NaN      Legend  Midsize  29.200000   33.9  38.700000   \n",
              "2           2         Audi          90  Compact  25.900000   29.1  32.300000   \n",
              "3           3         Audi         100  Midsize  22.666667   37.7  44.600000   \n",
              "4           4          BMW        535i  Midsize  22.666667   30.0  29.933333   \n",
              "5           5        Buick     Century  Midsize  14.200000   15.7  17.300000   \n",
              "6           6        Buick     LeSabre    Large  19.900000   20.8  29.933333   \n",
              "7           7        Buick  Roadmaster    Large  22.600000   23.7  24.900000   \n",
              "8           8        Buick     Riviera  Midsize  26.300000   26.3  26.300000   \n",
              "9           9     Cadillac     DeVille    Large  33.000000   34.7  36.300000   \n",
              "\n",
              "   MPG.city  MPG.highway             AirBags DriveTrain  Cylinders  \\\n",
              "0      25.0         31.0                None      Front          4   \n",
              "1      18.0         25.0  Driver & Passenger      Front          6   \n",
              "2      20.0         26.0         Driver only      Front          6   \n",
              "3      19.0         26.0  Driver & Passenger        NaN          6   \n",
              "4      22.0         30.0                 NaN       Rear          4   \n",
              "5      22.0         31.0         Driver only        NaN          4   \n",
              "6      19.0         28.0         Driver only      Front          6   \n",
              "7      16.0         25.0         Driver only       Rear          6   \n",
              "8      19.0         27.0         Driver only      Front          6   \n",
              "9      16.0         25.0         Driver only      Front          8   \n",
              "\n",
              "   EngineSize  Horsepower     RPM  Rev.per.mile Man.trans.avail  \\\n",
              "0         1.8       140.0  6300.0   2890.000000             Yes   \n",
              "1         3.2       200.0  5500.0   2335.000000             Yes   \n",
              "2         2.8       172.0  5500.0   2280.000000             Yes   \n",
              "3         2.6       172.0  5500.0   2535.000000             NaN   \n",
              "4         3.5       208.0  5700.0   2545.000000             Yes   \n",
              "5         2.2       110.0  5200.0   2565.000000              No   \n",
              "6         3.8       170.0  4800.0   2501.666667              No   \n",
              "7         5.7       180.0  4000.0   1320.000000              No   \n",
              "8         3.8       170.0  4800.0   1690.000000              No   \n",
              "9         4.9       200.0  4100.0   2501.666667              No   \n",
              "\n",
              "   Fuel.tank.capacity  Passengers  Length  Wheelbase      Width  Turn.circle  \\\n",
              "0           13.200000         5.0   177.0      102.0  68.000000         37.0   \n",
              "1           18.000000         5.0   195.0      115.0  71.000000         38.0   \n",
              "2           16.900000         5.0   180.0      102.0  67.000000         37.0   \n",
              "3           21.100000         6.0   193.0      106.0  68.666667         37.0   \n",
              "4           21.100000         4.0   186.0      109.0  69.000000         39.0   \n",
              "5           16.400000         6.0   189.0      105.0  69.000000         41.0   \n",
              "6           16.033333         6.0   200.0      111.0  74.000000         42.0   \n",
              "7           23.000000         6.0   216.0      116.0  78.000000         45.0   \n",
              "8           18.800000         5.0   198.0      108.0  68.666667         41.0   \n",
              "9           18.000000         6.0   206.0      114.0  73.000000         43.0   \n",
              "\n",
              "   Rear.seat.room  Luggage.room       Weight   Origin              Make  \n",
              "0            26.5          14.5  2705.000000  non-USA     Acura Integra  \n",
              "1            30.0          15.0  3560.000000  non-USA      Acura Legend  \n",
              "2            28.0          14.0  3375.000000  non-USA           Audi 90  \n",
              "3            31.0          17.0  3405.000000  non-USA          Audi 100  \n",
              "4            27.0          13.0  3640.000000  non-USA          BMW 535i  \n",
              "5            28.0          16.0  3213.333333      USA     Buick Century  \n",
              "6            30.5          17.0  3470.000000      USA     Buick LeSabre  \n",
              "7            30.5          21.0  4105.000000      USA  Buick Roadmaster  \n",
              "8            26.5          14.0  3495.000000      USA     Buick Riviera  \n",
              "9            35.0          18.0  3620.000000      USA  Cadillac DeVille  "
            ]
          },
          "metadata": {
            "tags": []
          },
          "execution_count": 196
        }
      ]
    }
  ]
}