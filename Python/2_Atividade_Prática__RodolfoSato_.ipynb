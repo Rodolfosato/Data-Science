{
  "nbformat": 4,
  "nbformat_minor": 0,
  "metadata": {
    "kernelspec": {
      "display_name": "Python 3",
      "language": "python",
      "name": "python3"
    },
    "language_info": {
      "codemirror_mode": {
        "name": "ipython",
        "version": 3
      },
      "file_extension": ".py",
      "mimetype": "text/x-python",
      "name": "python",
      "nbconvert_exporter": "python",
      "pygments_lexer": "ipython3",
      "version": "3.7.3"
    },
    "colab": {
      "name": "Cópia de Aula 2 - Atividade Prática - <Seu Nome>.ipynb",
      "provenance": [],
      "collapsed_sections": []
    }
  },
  "cells": [
    {
      "cell_type": "markdown",
      "metadata": {
        "id": "9cKOL6tBFd_R"
      },
      "source": [
        "# Segunda Aula - Atividade Prática\n",
        "\n",
        "#### Valor: 10 pontos"
      ]
    },
    {
      "cell_type": "markdown",
      "metadata": {
        "id": "hX2F78TbFd_T"
      },
      "source": [
        "1) Construa dicionários para armazenar as notas de 5 alunos"
      ]
    },
    {
      "cell_type": "code",
      "metadata": {
        "id": "98EdgG_xkrHl"
      },
      "source": [
        "alunos = {\n",
        "    \"Aluno1\": {10, 9},\n",
        "    \"Aluno2\": {3, 4},\n",
        "    \"Aluno3\": {5, 6},\n",
        "    \"Aluno4\": {7, 3}, \n",
        "    \"Aluno5\": {3, 8},\n",
        "    }"
      ],
      "execution_count": null,
      "outputs": []
    },
    {
      "cell_type": "markdown",
      "metadata": {
        "id": "8PRj7bRfcaXu"
      },
      "source": [
        "2) Usando o dicionário criado no exercício 1, imprima o valor da maior nota"
      ]
    },
    {
      "cell_type": "code",
      "metadata": {
        "id": "EwAeRvFScap6"
      },
      "source": [
        "print(\"Aluno1\", \"\\nMaior Nota: \", max(alunos[\"Aluno1\"]))\n",
        "print(\"\\nAluno2\", \"\\nMaior Nota: \", max(alunos[\"Aluno2\"]))\n",
        "print(\"\\nAluno3\", \"\\nMaior Nota: \", max(alunos[\"Aluno3\"]))\n",
        "print(\"\\nAluno4\", \"\\nMaior Nota: \", max(alunos[\"Aluno4\"]))\n",
        "print(\"\\nAluno5\", \"\\nMaior Nota: \", max(alunos[\"Aluno5\"]))"
      ],
      "execution_count": null,
      "outputs": []
    },
    {
      "cell_type": "markdown",
      "metadata": {
        "id": "VEqNDxEIca9N"
      },
      "source": [
        "3) Sabendo que A = {0, 1, 2, 3, 4, 5, 6}, B = {6, 7, 8, 9} e C = {2, 4, 6, 8, 10}, quais são os elementos do conjunto (A∩B)UC?"
      ]
    },
    {
      "cell_type": "code",
      "metadata": {
        "id": "u8d1uuMncbK6",
        "colab": {
          "base_uri": "https://localhost:8080/"
        },
        "outputId": "58ac3b2a-0ec7-4dd7-f855-6b92eba1e50d"
      },
      "source": [
        "A = {0, 1, 2, 3, 4, 5, 6}\n",
        "B = {6, 7, 8, 9}\n",
        "C = {2, 4, 6, 8, 10}\n",
        "\n",
        "A.intersection_update(B)\n",
        "C.union(A)\n",
        "C"
      ],
      "execution_count": null,
      "outputs": [
        {
          "output_type": "execute_result",
          "data": {
            "text/plain": [
              "{2, 4, 6, 8, 10}"
            ]
          },
          "metadata": {
            "tags": []
          },
          "execution_count": 87
        }
      ]
    },
    {
      "cell_type": "markdown",
      "metadata": {
        "id": "KeAs6hMwcb8c"
      },
      "source": [
        "4) Apresente 3 exemplos de aplicações de conjuntos"
      ]
    },
    {
      "cell_type": "code",
      "metadata": {
        "id": "f9N5acg8ccIE",
        "colab": {
          "base_uri": "https://localhost:8080/"
        },
        "outputId": "2c508023-eafe-4dd2-8fab-34b1ee46a747"
      },
      "source": [
        "lista_de_compras = {\"Detergente\", \"Sabão\", \"Carne\", \"Agua\", \"Cebola\"} #criar um conjunto\n",
        "lista_de_compras.add(\"Pimenta\") #adiciona um item no conjunto\n",
        "lista_de_compras.remove(\"Carne\") #remove um item do conjunto"
      ],
      "execution_count": null,
      "outputs": [
        {
          "output_type": "stream",
          "text": [
            "{'Agua', 'Cebola', 'Sabão', 'Pimenta', 'Detergente'}\n"
          ],
          "name": "stdout"
        }
      ]
    },
    {
      "cell_type": "markdown",
      "metadata": {
        "id": "NREeKOocbilC"
      },
      "source": [
        "5) Apresente 3 exemplos de aplicações de dicionários"
      ]
    },
    {
      "cell_type": "code",
      "metadata": {
        "id": "wi4Wmhn1kwaV",
        "colab": {
          "base_uri": "https://localhost:8080/"
        },
        "outputId": "8e2a8df7-56b3-471b-dd61-d5acc6a1ee65"
      },
      "source": [
        "estoque = {\n",
        "    \"Agua 200ml\": {6},\n",
        "    \"Cebola\": {1},\n",
        "    \"Pimentão\": {6},\n",
        "    \"Alface\": {7}, \n",
        "    \"Queijo\": {1},\n",
        "    } #cria um dicionario\n",
        "del estoque['Agua 200ml'] #delete um item do dicionario\n",
        "estoque['Agua 600ml'] = {6} #adiciona um item no dicionario com valor correspodente a 6"
      ],
      "execution_count": null,
      "outputs": [
        {
          "output_type": "stream",
          "text": [
            "{'Cebola': {1}, 'Pimentão': {6}, 'Alface': {7}, 'Queijo': {1}, 'Agua 600ml': {6}}\n"
          ],
          "name": "stdout"
        }
      ]
    },
    {
      "cell_type": "markdown",
      "metadata": {
        "id": "rWQdxezccmNm"
      },
      "source": [
        "6) Solicite que o usuário informe 4 valores inteiros e adicione-os em um conjunto. Depois imprima o valor do somatório dos elementos do conjunto."
      ]
    },
    {
      "cell_type": "code",
      "metadata": {
        "id": "-ZErDKK2SIEe"
      },
      "source": [
        "n1 = input('Insira o primeiro número: ')\n",
        "n2 = input('Insira o segundo número: ')\n",
        "n3 = input('Insira o terceiro número: ')\n",
        "n4 = input('Insira o quarto número: ')\n",
        "\n",
        "conjunto = {int(n1), int(n2), int(n3), int(n4)}\n",
        "\n",
        "soma = int(sum(conjunto))\n",
        "\n",
        "print(soma)"
      ],
      "execution_count": null,
      "outputs": []
    }
  ]
}