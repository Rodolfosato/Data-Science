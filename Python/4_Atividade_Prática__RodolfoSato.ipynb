{
  "nbformat": 4,
  "nbformat_minor": 0,
  "metadata": {
    "kernelspec": {
      "display_name": "Python 3",
      "language": "python",
      "name": "python3"
    },
    "language_info": {
      "codemirror_mode": {
        "name": "ipython",
        "version": 3
      },
      "file_extension": ".py",
      "mimetype": "text/x-python",
      "name": "python",
      "nbconvert_exporter": "python",
      "pygments_lexer": "ipython3",
      "version": "3.7.3"
    },
    "colab": {
      "name": "Cópia de Aula 4 - Atividade Prática - <Seu Nome>.ipynb",
      "provenance": [],
      "collapsed_sections": []
    },
    "accelerator": "GPU"
  },
  "cells": [
    {
      "cell_type": "markdown",
      "metadata": {
        "id": "9cKOL6tBFd_R"
      },
      "source": [
        "# Quarta Aula - Atividade Prática\n",
        "\n",
        "#### Valor: 10 pontos"
      ]
    },
    {
      "cell_type": "markdown",
      "metadata": {
        "id": "4hxJCn2npn_9"
      },
      "source": [
        "1) Faça uma função que recebe um valor n e que imprima:\n",
        "  \n",
        "    1\n",
        "  \n",
        "    2   2\n",
        "  \n",
        "    3   3   3\n",
        "  \n",
        "    .....\n",
        "  \n",
        "    n   n   n   n   n   n  ... n"
      ]
    },
    {
      "cell_type": "code",
      "metadata": {
        "id": "DEK1omE8649i"
      },
      "source": [
        "def numero(n):\n",
        "  for i in range(1,n+1):\n",
        "      for j in range(1, i+1):\n",
        "          result = print(i, end=\" \")\n",
        "      print()\n",
        "  return result"
      ],
      "execution_count": null,
      "outputs": []
    },
    {
      "cell_type": "code",
      "metadata": {
        "id": "ndcfdWkDTF2J"
      },
      "source": [
        "n = int(input(\"Escolha o limite de numeros: \"))\n",
        "numero(n)"
      ],
      "execution_count": null,
      "outputs": []
    },
    {
      "cell_type": "markdown",
      "metadata": {
        "id": "DO9yCJVWp5g8"
      },
      "source": [
        "2) Faça uma função que recebe um valor n e que imprima:\n",
        "  \n",
        "  1\n",
        "  \n",
        "  1   2\n",
        "  \n",
        "  1   2   3\n",
        "  \n",
        "  .....\n",
        "  \n",
        "  1   2   3   ...  n"
      ]
    },
    {
      "cell_type": "code",
      "metadata": {
        "id": "J8YIClBaBfQo"
      },
      "source": [
        "def numeros(n):\n",
        "  for i in range(1,n+1):\n",
        "      for j in range(1, i+1):\n",
        "          result = print(j, end=\" \")\n",
        "      print()\n",
        "  return result"
      ],
      "execution_count": null,
      "outputs": []
    },
    {
      "cell_type": "code",
      "metadata": {
        "id": "LXc4ZIBj62o1"
      },
      "source": [
        "n = int(input(\"Escolha o limite de numeros: \"))\n",
        "numeros(n)"
      ],
      "execution_count": null,
      "outputs": []
    },
    {
      "cell_type": "markdown",
      "metadata": {
        "id": "hmc5JPO1qYUx"
      },
      "source": [
        "3) Faça uma função que retorne o reverso de um número inteiro passado por parâmetro. Por exemplo: 127 -> 721."
      ]
    },
    {
      "cell_type": "code",
      "metadata": {
        "id": "_YdaBvUXFjye",
        "colab": {
          "base_uri": "https://localhost:8080/"
        },
        "outputId": "790453c4-7f82-478e-dc98-00ac2165cb9a"
      },
      "source": [
        "\n",
        "def reverso(n):\n",
        "  reverse = 0 \n",
        "  while(n > 0): \n",
        "    reminder = n %10    \n",
        "    reverse = (reverse *10) + reminder \n",
        "    n = n //10 \n",
        "  return reverse"
      ],
      "execution_count": 21,
      "outputs": [
        {
          "output_type": "stream",
          "text": [
            "Escolha o limite de numeros: 543\n"
          ],
          "name": "stdout"
        },
        {
          "output_type": "execute_result",
          "data": {
            "text/plain": [
              "345"
            ]
          },
          "metadata": {
            "tags": []
          },
          "execution_count": 21
        }
      ]
    },
    {
      "cell_type": "code",
      "metadata": {
        "id": "oSZ-PXetXKIO",
        "colab": {
          "base_uri": "https://localhost:8080/"
        },
        "outputId": "4558abf7-7478-4868-d22d-92b74a2205f7"
      },
      "source": [
        "n = int(input(\"Escolha o numero para ser revertido: \"))\n",
        "reverso(n)"
      ],
      "execution_count": 23,
      "outputs": [
        {
          "output_type": "stream",
          "text": [
            "Escolha o numero para ser revertido: 543\n"
          ],
          "name": "stdout"
        },
        {
          "output_type": "execute_result",
          "data": {
            "text/plain": [
              "345"
            ]
          },
          "metadata": {
            "tags": []
          },
          "execution_count": 23
        }
      ]
    },
    {
      "cell_type": "markdown",
      "metadata": {
        "id": "hX2F78TbFd_T"
      },
      "source": [
        "4) Faça uma função que receba dois vetores com 10 elementos cada. Sua função deverá retornar um terceiro vetor de 20 elementos, cujos valores deverão ser compostos pelos elementos intercalados dos dois outros vetores."
      ]
    },
    {
      "cell_type": "code",
      "metadata": {
        "id": "XTOKozUZTOK_"
      },
      "source": [
        "def listas():\n",
        "  i = 0\n",
        "  nu = []\n",
        "  no = []\n",
        "  tu = []\n",
        "  while (i < 10):\n",
        "    nu.append(float(input('Digite um numero: ')))\n",
        "    i = i + 1\n",
        "  i=0\n",
        "  while (i < 10):\n",
        "    no.append(input('Digite um nome: '))\n",
        "    i = i + 1\n",
        "  else:\n",
        "    i = 0\n",
        "  while (i < 9):\n",
        "    tu.append(nu[i])\n",
        "    tu.append(no[i])\n",
        "    i = i + 1\n",
        "  return tu"
      ],
      "execution_count": 75,
      "outputs": []
    },
    {
      "cell_type": "code",
      "metadata": {
        "id": "3vEmTl3DFyXI"
      },
      "source": [
        "listas()"
      ],
      "execution_count": null,
      "outputs": []
    },
    {
      "cell_type": "markdown",
      "metadata": {
        "id": "8PRj7bRfcaXu"
      },
      "source": [
        "5) Faça uma função que receba uma string e retorne a quantidade de consoantes que existem nela."
      ]
    },
    {
      "cell_type": "code",
      "metadata": {
        "id": "dqAMIyhMRa8h"
      },
      "source": [
        "def nome(n):\n",
        "  co = 0\n",
        "  let = []\n",
        "  c =  \"BCDFGHJKLMNPQRSTVWXYZ\"\n",
        "  for letra in n:\n",
        "    if letra in c:\n",
        "      co += 1\n",
        "      let.append(letra)\n",
        "  resultado = print(\"A palavra '{}' tem {} consoantes {}\".format(n, co, let))\n",
        "  return resultado"
      ],
      "execution_count": 64,
      "outputs": []
    },
    {
      "cell_type": "code",
      "metadata": {
        "id": "EwAeRvFScap6"
      },
      "source": [
        "n = input(\"Escolha uma palavra: \")\n",
        "n = n.upper()\n",
        "nome(n)"
      ],
      "execution_count": null,
      "outputs": []
    },
    {
      "cell_type": "markdown",
      "metadata": {
        "id": "VEqNDxEIca9N"
      },
      "source": [
        "6) Altere o exercício 5 para que o retorno seja um dicionário, onde a chaves são as consoantes e os valores a quantidade de vezes que a consoante aparece na string"
      ]
    },
    {
      "cell_type": "code",
      "metadata": {
        "id": "dNMXBv4LVRoN"
      },
      "source": [
        "“Ele está nocauteado, tudo oque o mantém de pé é o poder de sua vontade”\n",
        "\n",
        "“Nem está consciente e continua empenhado em mostrar ao mundo oque pode fazer ”\n",
        "\n",
        "“Lee, você já provou... Você é um grande Ninja...”"
      ],
      "execution_count": null,
      "outputs": []
    }
  ]
}