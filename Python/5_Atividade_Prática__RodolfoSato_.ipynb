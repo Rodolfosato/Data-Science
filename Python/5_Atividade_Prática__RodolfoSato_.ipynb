{
  "nbformat": 4,
  "nbformat_minor": 0,
  "metadata": {
    "kernelspec": {
      "display_name": "Python 3",
      "language": "python",
      "name": "python3"
    },
    "language_info": {
      "codemirror_mode": {
        "name": "ipython",
        "version": 3
      },
      "file_extension": ".py",
      "mimetype": "text/x-python",
      "name": "python",
      "nbconvert_exporter": "python",
      "pygments_lexer": "ipython3",
      "version": "3.7.3"
    },
    "colab": {
      "name": "Cópia de Aula 5 - Atividade Prática - <Seu Nome>.ipynb",
      "provenance": [],
      "collapsed_sections": []
    }
  },
  "cells": [
    {
      "cell_type": "markdown",
      "metadata": {
        "id": "9cKOL6tBFd_R"
      },
      "source": [
        "# Quinta Aula - Atividade Prática\n",
        "\n",
        "#### Valor: 10 pontos"
      ]
    },
    {
      "cell_type": "markdown",
      "metadata": {
        "id": "hX2F78TbFd_T"
      },
      "source": [
        "1) Solicite ao usuário que informe a quantidade de linhas (n) e colunas (m) e crie um ndarray nxm com valores aleatórios."
      ]
    },
    {
      "cell_type": "code",
      "metadata": {
        "id": "YeJ2fjQ3vF2-",
        "colab": {
          "base_uri": "https://localhost:8080/"
        },
        "outputId": "8f9b250b-619b-4098-c7f9-c15e7a4f2732"
      },
      "source": [
        "import numpy as np\n",
        "                                               \n",
        "N = int(input('Quantidade de linhas: '))                                                                 \n",
        "                                                                                                                                                             \n",
        "M = int(input('Quantidade de colunas: '))                                                             \n",
        "                                                                                                                                                     \n",
        "matrixA = [[int(input(\"valor: \")) for column in range(M)] for row in range(N)]\n",
        "\n",
        "matrix = np.array(matrixA)\n",
        "\n",
        "np.random.shuffle(matrix)\n",
        "\n",
        "matrix"
      ],
      "execution_count": 63,
      "outputs": [
        {
          "output_type": "stream",
          "text": [
            "Quantidade de linhas: 3\n",
            "Quantidade de colunas: 3\n",
            "valor: 2\n",
            "valor: 1\n",
            "valor: 3\n",
            "valor: 5\n",
            "valor: 4\n",
            "valor: 6\n",
            "valor: 8\n",
            "valor: 7\n",
            "valor: 9\n"
          ],
          "name": "stdout"
        },
        {
          "output_type": "execute_result",
          "data": {
            "text/plain": [
              "array([[5, 4, 6],\n",
              "       [8, 7, 9],\n",
              "       [2, 1, 3]])"
            ]
          },
          "metadata": {
            "tags": []
          },
          "execution_count": 63
        }
      ]
    },
    {
      "cell_type": "markdown",
      "metadata": {
        "id": "8PRj7bRfcaXu"
      },
      "source": [
        "2) Retorne a média dos valores de cada uma das n linhas"
      ]
    },
    {
      "cell_type": "code",
      "metadata": {
        "id": "EwAeRvFScap6",
        "colab": {
          "base_uri": "https://localhost:8080/"
        },
        "outputId": "470c49bc-06b1-4107-e700-e75e3d660f94"
      },
      "source": [
        "i = 0\n",
        "total_sum = 0\n",
        "soma_linha = 0\n",
        "i = len(matrix)\n",
        "j = 0\n",
        "while j < i:\n",
        "  for N in range(len(matrix)):\n",
        "    soma_linha += matrix[j][N]\n",
        "    print(matrix[j][N])\n",
        "  total_sum += soma_linha\n",
        "  soma_geral = total_sum / len(matrix[N])\n",
        "  print('Soma: {} Média: {}'.format(total_sum, soma_geral))\n",
        "  j+=1\n",
        "  total_sum = 0\n",
        "  soma_linha = 0"
      ],
      "execution_count": 61,
      "outputs": [
        {
          "output_type": "stream",
          "text": [
            "4\n",
            "6\n",
            "8\n",
            "Soma: 18 Média: 6.0\n",
            "3\n",
            "1\n",
            "2\n",
            "Soma: 6 Média: 2.0\n",
            "9\n",
            "7\n",
            "5\n",
            "Soma: 21 Média: 7.0\n"
          ],
          "name": "stdout"
        }
      ]
    },
    {
      "cell_type": "markdown",
      "metadata": {
        "id": "VEqNDxEIca9N"
      },
      "source": [
        "3) Retorne a mediana dos valores das m colunas"
      ]
    },
    {
      "cell_type": "code",
      "metadata": {
        "id": "u8d1uuMncbK6",
        "colab": {
          "base_uri": "https://localhost:8080/"
        },
        "outputId": "4281ca5b-8454-45db-a7ed-6a59be864f9c"
      },
      "source": [
        "import statistics\n",
        "j = 0\n",
        "n = []\n",
        "while j < i:\n",
        "  for N in range(len(matrix)):\n",
        "    n.append(matrix[j][N])\n",
        "  y = statistics.median(n)\n",
        "  print(y)\n",
        "  j+=1\n",
        "  n=[]"
      ],
      "execution_count": 87,
      "outputs": [
        {
          "output_type": "stream",
          "text": [
            "5\n",
            "8\n",
            "2\n"
          ],
          "name": "stdout"
        }
      ]
    },
    {
      "cell_type": "markdown",
      "metadata": {
        "id": "KeAs6hMwcb8c"
      },
      "source": [
        "4)  Dados os seguintes arrays x e y, calcula a correlação entre eles."
      ]
    },
    {
      "cell_type": "code",
      "metadata": {
        "id": "Xh9ATAtu8r4e"
      },
      "source": [
        "import numpy as np\n",
        "x = np.array([0, 1, 3, 8, -3])\n",
        "y = np.array([5, 4, 2, 1, 7])\n",
        "z = np.array([-5, -41, -97])"
      ],
      "execution_count": null,
      "outputs": []
    },
    {
      "cell_type": "code",
      "metadata": {
        "id": "f9N5acg8ccIE",
        "colab": {
          "base_uri": "https://localhost:8080/"
        },
        "outputId": "918ebf98-4390-43d2-c081-7c8ce9878d0e"
      },
      "source": [
        "dados = np.matrix([[0, 1, 3, 8, -3],\n",
        "[5, 4, 2, 1, 7]])\n",
        "\n",
        "print(np.corrcoef(dados))\n"
      ],
      "execution_count": null,
      "outputs": [
        {
          "output_type": "stream",
          "text": [
            "[[ 1.         -0.95320714]\n",
            " [-0.95320714  1.        ]]\n"
          ],
          "name": "stdout"
        }
      ]
    },
    {
      "cell_type": "markdown",
      "metadata": {
        "id": "rWQdxezccmNm"
      },
      "source": [
        "5) Faça uma função que receba um ndarray de valores inteiros e retorne um ndarray de mesma dimensão, onde os valores negativos serão substituídos por True e os valores positivos por False."
      ]
    },
    {
      "cell_type": "code",
      "metadata": {
        "id": "9KrAxH2yAlx4"
      },
      "source": [
        "def torf(ndarray):\n",
        "  x = ndarray\n",
        "  y = 0 >= x\n",
        "  return y"
      ],
      "execution_count": null,
      "outputs": []
    },
    {
      "cell_type": "code",
      "metadata": {
        "id": "Y2DozZmSheJr",
        "colab": {
          "base_uri": "https://localhost:8080/"
        },
        "outputId": "fc3c6e3a-e0e4-4edd-be6e-ab7d756be3f0"
      },
      "source": [
        "ndarray = []\n",
        "lista = list()\n",
        "\n",
        "for i in range(1,6):\n",
        "  n = int(input(\"Escolha o {}º número: \".format(int(i))))\n",
        "  lista.append(n)\n",
        "ndarray = numpy.array([lista])\n",
        "torf(ndarray)"
      ],
      "execution_count": null,
      "outputs": [
        {
          "output_type": "stream",
          "text": [
            "Escolha o 1º número: -1\n",
            "Escolha o 2º número: 2\n",
            "Escolha o 3º número: -2\n",
            "Escolha o 4º número: 3\n",
            "Escolha o 5º número: 5\n"
          ],
          "name": "stdout"
        },
        {
          "output_type": "execute_result",
          "data": {
            "text/plain": [
              "array([[ True, False,  True, False, False]])"
            ]
          },
          "metadata": {
            "tags": []
          },
          "execution_count": 267
        }
      ]
    }
  ]
}