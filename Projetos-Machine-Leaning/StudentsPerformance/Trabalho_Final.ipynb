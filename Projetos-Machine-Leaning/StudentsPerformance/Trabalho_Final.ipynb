{
  "nbformat": 4,
  "nbformat_minor": 0,
  "metadata": {
    "colab": {
      "name": "Trabalho Final.ipynb",
      "provenance": [],
      "collapsed_sections": []
    },
    "kernelspec": {
      "name": "python3",
      "display_name": "Python 3"
    }
  },
  "cells": [
    {
      "cell_type": "markdown",
      "metadata": {
        "id": "4bt7KQcVN9M4"
      },
      "source": [
        "### Base de dados: StudentsPerformance\n",
        "\n",
        "1000 instâncias\n",
        "\n",
        "5 atributos\n",
        "\n",
        "2 classes (none, completed)\n"
      ]
    },
    {
      "cell_type": "code",
      "metadata": {
        "id": "-k9moDguNWFd"
      },
      "source": [
        "import pandas as pd\n",
        "import numpy as np\n",
        "from sklearn.model_selection import train_test_split\n",
        "from sklearn.metrics import confusion_matrix, classification_report, accuracy_score\n",
        "from sklearn.feature_extraction import DictVectorizer\n",
        "from sklearn import tree\n",
        "from sklearn.tree import DecisionTreeClassifier\n",
        "from sklearn.ensemble import RandomForestClassifier\n",
        "from sklearn.preprocessing import LabelEncoder\n",
        "from sklearn.model_selection import GridSearchCV\n",
        "from sklearn.model_selection import RandomizedSearchCV"
      ],
      "execution_count": null,
      "outputs": []
    },
    {
      "cell_type": "code",
      "source": [
        "from google.colab import drive\n",
        "drive.mount('/content/drive')"
      ],
      "metadata": {
        "colab": {
          "base_uri": "https://localhost:8080/"
        },
        "id": "iH_STWMC6Oy5",
        "outputId": "0e92466e-6b4c-402f-eaa6-192f33b042fb"
      },
      "execution_count": null,
      "outputs": [
        {
          "output_type": "stream",
          "name": "stdout",
          "text": [
            "Mounted at /content/drive\n"
          ]
        }
      ]
    },
    {
      "cell_type": "code",
      "metadata": {
        "id": "B0XAnHOWOROP",
        "colab": {
          "base_uri": "https://localhost:8080/",
          "height": 206
        },
        "outputId": "28c10b6d-3caf-46c9-b882-217f75905963"
      },
      "source": [
        "base = pd.read_csv(\"/content/drive/MyDrive/Colab Notebooks/Bases/StudentsPerformance.csv\", sep=\";\")\n",
        "del base[\"parental level of education\"]\n",
        "base.head()"
      ],
      "execution_count": null,
      "outputs": [
        {
          "output_type": "execute_result",
          "data": {
            "text/html": [
              "\n",
              "  <div id=\"df-91b92c44-8200-47d6-b646-4fd86d170a44\">\n",
              "    <div class=\"colab-df-container\">\n",
              "      <div>\n",
              "<style scoped>\n",
              "    .dataframe tbody tr th:only-of-type {\n",
              "        vertical-align: middle;\n",
              "    }\n",
              "\n",
              "    .dataframe tbody tr th {\n",
              "        vertical-align: top;\n",
              "    }\n",
              "\n",
              "    .dataframe thead th {\n",
              "        text-align: right;\n",
              "    }\n",
              "</style>\n",
              "<table border=\"1\" class=\"dataframe\">\n",
              "  <thead>\n",
              "    <tr style=\"text-align: right;\">\n",
              "      <th></th>\n",
              "      <th>gender</th>\n",
              "      <th>race</th>\n",
              "      <th>test preparation course</th>\n",
              "      <th>math score</th>\n",
              "      <th>reading score</th>\n",
              "      <th>writing score</th>\n",
              "    </tr>\n",
              "  </thead>\n",
              "  <tbody>\n",
              "    <tr>\n",
              "      <th>0</th>\n",
              "      <td>female</td>\n",
              "      <td>group B</td>\n",
              "      <td>none</td>\n",
              "      <td>72</td>\n",
              "      <td>72</td>\n",
              "      <td>74</td>\n",
              "    </tr>\n",
              "    <tr>\n",
              "      <th>1</th>\n",
              "      <td>female</td>\n",
              "      <td>group C</td>\n",
              "      <td>completed</td>\n",
              "      <td>69</td>\n",
              "      <td>90</td>\n",
              "      <td>88</td>\n",
              "    </tr>\n",
              "    <tr>\n",
              "      <th>2</th>\n",
              "      <td>female</td>\n",
              "      <td>group B</td>\n",
              "      <td>none</td>\n",
              "      <td>90</td>\n",
              "      <td>95</td>\n",
              "      <td>93</td>\n",
              "    </tr>\n",
              "    <tr>\n",
              "      <th>3</th>\n",
              "      <td>male</td>\n",
              "      <td>group A</td>\n",
              "      <td>none</td>\n",
              "      <td>47</td>\n",
              "      <td>57</td>\n",
              "      <td>44</td>\n",
              "    </tr>\n",
              "    <tr>\n",
              "      <th>4</th>\n",
              "      <td>male</td>\n",
              "      <td>group C</td>\n",
              "      <td>none</td>\n",
              "      <td>76</td>\n",
              "      <td>78</td>\n",
              "      <td>75</td>\n",
              "    </tr>\n",
              "  </tbody>\n",
              "</table>\n",
              "</div>\n",
              "      <button class=\"colab-df-convert\" onclick=\"convertToInteractive('df-91b92c44-8200-47d6-b646-4fd86d170a44')\"\n",
              "              title=\"Convert this dataframe to an interactive table.\"\n",
              "              style=\"display:none;\">\n",
              "        \n",
              "  <svg xmlns=\"http://www.w3.org/2000/svg\" height=\"24px\"viewBox=\"0 0 24 24\"\n",
              "       width=\"24px\">\n",
              "    <path d=\"M0 0h24v24H0V0z\" fill=\"none\"/>\n",
              "    <path d=\"M18.56 5.44l.94 2.06.94-2.06 2.06-.94-2.06-.94-.94-2.06-.94 2.06-2.06.94zm-11 1L8.5 8.5l.94-2.06 2.06-.94-2.06-.94L8.5 2.5l-.94 2.06-2.06.94zm10 10l.94 2.06.94-2.06 2.06-.94-2.06-.94-.94-2.06-.94 2.06-2.06.94z\"/><path d=\"M17.41 7.96l-1.37-1.37c-.4-.4-.92-.59-1.43-.59-.52 0-1.04.2-1.43.59L10.3 9.45l-7.72 7.72c-.78.78-.78 2.05 0 2.83L4 21.41c.39.39.9.59 1.41.59.51 0 1.02-.2 1.41-.59l7.78-7.78 2.81-2.81c.8-.78.8-2.07 0-2.86zM5.41 20L4 18.59l7.72-7.72 1.47 1.35L5.41 20z\"/>\n",
              "  </svg>\n",
              "      </button>\n",
              "      \n",
              "  <style>\n",
              "    .colab-df-container {\n",
              "      display:flex;\n",
              "      flex-wrap:wrap;\n",
              "      gap: 12px;\n",
              "    }\n",
              "\n",
              "    .colab-df-convert {\n",
              "      background-color: #E8F0FE;\n",
              "      border: none;\n",
              "      border-radius: 50%;\n",
              "      cursor: pointer;\n",
              "      display: none;\n",
              "      fill: #1967D2;\n",
              "      height: 32px;\n",
              "      padding: 0 0 0 0;\n",
              "      width: 32px;\n",
              "    }\n",
              "\n",
              "    .colab-df-convert:hover {\n",
              "      background-color: #E2EBFA;\n",
              "      box-shadow: 0px 1px 2px rgba(60, 64, 67, 0.3), 0px 1px 3px 1px rgba(60, 64, 67, 0.15);\n",
              "      fill: #174EA6;\n",
              "    }\n",
              "\n",
              "    [theme=dark] .colab-df-convert {\n",
              "      background-color: #3B4455;\n",
              "      fill: #D2E3FC;\n",
              "    }\n",
              "\n",
              "    [theme=dark] .colab-df-convert:hover {\n",
              "      background-color: #434B5C;\n",
              "      box-shadow: 0px 1px 3px 1px rgba(0, 0, 0, 0.15);\n",
              "      filter: drop-shadow(0px 1px 2px rgba(0, 0, 0, 0.3));\n",
              "      fill: #FFFFFF;\n",
              "    }\n",
              "  </style>\n",
              "\n",
              "      <script>\n",
              "        const buttonEl =\n",
              "          document.querySelector('#df-91b92c44-8200-47d6-b646-4fd86d170a44 button.colab-df-convert');\n",
              "        buttonEl.style.display =\n",
              "          google.colab.kernel.accessAllowed ? 'block' : 'none';\n",
              "\n",
              "        async function convertToInteractive(key) {\n",
              "          const element = document.querySelector('#df-91b92c44-8200-47d6-b646-4fd86d170a44');\n",
              "          const dataTable =\n",
              "            await google.colab.kernel.invokeFunction('convertToInteractive',\n",
              "                                                     [key], {});\n",
              "          if (!dataTable) return;\n",
              "\n",
              "          const docLinkHtml = 'Like what you see? Visit the ' +\n",
              "            '<a target=\"_blank\" href=https://colab.research.google.com/notebooks/data_table.ipynb>data table notebook</a>'\n",
              "            + ' to learn more about interactive tables.';\n",
              "          element.innerHTML = '';\n",
              "          dataTable['output_type'] = 'display_data';\n",
              "          await google.colab.output.renderOutput(dataTable, element);\n",
              "          const docLink = document.createElement('div');\n",
              "          docLink.innerHTML = docLinkHtml;\n",
              "          element.appendChild(docLink);\n",
              "        }\n",
              "      </script>\n",
              "    </div>\n",
              "  </div>\n",
              "  "
            ],
            "text/plain": [
              "   gender     race  ... reading score  writing score\n",
              "0  female  group B  ...            72             74\n",
              "1  female  group C  ...            90             88\n",
              "2  female  group B  ...            95             93\n",
              "3    male  group A  ...            57             44\n",
              "4    male  group C  ...            78             75\n",
              "\n",
              "[5 rows x 6 columns]"
            ]
          },
          "metadata": {},
          "execution_count": 6
        }
      ]
    },
    {
      "cell_type": "code",
      "source": [
        "base.info()"
      ],
      "metadata": {
        "colab": {
          "base_uri": "https://localhost:8080/"
        },
        "id": "ruv90p0p-RtQ",
        "outputId": "9367319a-224c-431e-a293-eed956162385"
      },
      "execution_count": null,
      "outputs": [
        {
          "output_type": "stream",
          "name": "stdout",
          "text": [
            "<class 'pandas.core.frame.DataFrame'>\n",
            "RangeIndex: 1000 entries, 0 to 999\n",
            "Data columns (total 6 columns):\n",
            " #   Column                   Non-Null Count  Dtype \n",
            "---  ------                   --------------  ----- \n",
            " 0   gender                   1000 non-null   object\n",
            " 1   race                     1000 non-null   object\n",
            " 2   test preparation course  1000 non-null   object\n",
            " 3   math score               1000 non-null   int64 \n",
            " 4   reading score            1000 non-null   int64 \n",
            " 5   writing score            1000 non-null   int64 \n",
            "dtypes: int64(3), object(3)\n",
            "memory usage: 47.0+ KB\n"
          ]
        }
      ]
    },
    {
      "cell_type": "code",
      "source": [
        "base.select_dtypes(include='int').describe()"
      ],
      "metadata": {
        "colab": {
          "base_uri": "https://localhost:8080/",
          "height": 300
        },
        "id": "l6PNjgtR_X_2",
        "outputId": "05e16d85-48fd-47a2-c8b6-ec77cfa8acd4"
      },
      "execution_count": null,
      "outputs": [
        {
          "output_type": "execute_result",
          "data": {
            "text/html": [
              "\n",
              "  <div id=\"df-878035bb-5640-46a6-bc41-b3d150765350\">\n",
              "    <div class=\"colab-df-container\">\n",
              "      <div>\n",
              "<style scoped>\n",
              "    .dataframe tbody tr th:only-of-type {\n",
              "        vertical-align: middle;\n",
              "    }\n",
              "\n",
              "    .dataframe tbody tr th {\n",
              "        vertical-align: top;\n",
              "    }\n",
              "\n",
              "    .dataframe thead th {\n",
              "        text-align: right;\n",
              "    }\n",
              "</style>\n",
              "<table border=\"1\" class=\"dataframe\">\n",
              "  <thead>\n",
              "    <tr style=\"text-align: right;\">\n",
              "      <th></th>\n",
              "      <th>math score</th>\n",
              "      <th>reading score</th>\n",
              "      <th>writing score</th>\n",
              "    </tr>\n",
              "  </thead>\n",
              "  <tbody>\n",
              "    <tr>\n",
              "      <th>count</th>\n",
              "      <td>1000.00000</td>\n",
              "      <td>1000.000000</td>\n",
              "      <td>1000.000000</td>\n",
              "    </tr>\n",
              "    <tr>\n",
              "      <th>mean</th>\n",
              "      <td>66.08900</td>\n",
              "      <td>69.169000</td>\n",
              "      <td>68.054000</td>\n",
              "    </tr>\n",
              "    <tr>\n",
              "      <th>std</th>\n",
              "      <td>15.16308</td>\n",
              "      <td>14.600192</td>\n",
              "      <td>15.195657</td>\n",
              "    </tr>\n",
              "    <tr>\n",
              "      <th>min</th>\n",
              "      <td>0.00000</td>\n",
              "      <td>17.000000</td>\n",
              "      <td>10.000000</td>\n",
              "    </tr>\n",
              "    <tr>\n",
              "      <th>25%</th>\n",
              "      <td>57.00000</td>\n",
              "      <td>59.000000</td>\n",
              "      <td>57.750000</td>\n",
              "    </tr>\n",
              "    <tr>\n",
              "      <th>50%</th>\n",
              "      <td>66.00000</td>\n",
              "      <td>70.000000</td>\n",
              "      <td>69.000000</td>\n",
              "    </tr>\n",
              "    <tr>\n",
              "      <th>75%</th>\n",
              "      <td>77.00000</td>\n",
              "      <td>79.000000</td>\n",
              "      <td>79.000000</td>\n",
              "    </tr>\n",
              "    <tr>\n",
              "      <th>max</th>\n",
              "      <td>100.00000</td>\n",
              "      <td>100.000000</td>\n",
              "      <td>100.000000</td>\n",
              "    </tr>\n",
              "  </tbody>\n",
              "</table>\n",
              "</div>\n",
              "      <button class=\"colab-df-convert\" onclick=\"convertToInteractive('df-878035bb-5640-46a6-bc41-b3d150765350')\"\n",
              "              title=\"Convert this dataframe to an interactive table.\"\n",
              "              style=\"display:none;\">\n",
              "        \n",
              "  <svg xmlns=\"http://www.w3.org/2000/svg\" height=\"24px\"viewBox=\"0 0 24 24\"\n",
              "       width=\"24px\">\n",
              "    <path d=\"M0 0h24v24H0V0z\" fill=\"none\"/>\n",
              "    <path d=\"M18.56 5.44l.94 2.06.94-2.06 2.06-.94-2.06-.94-.94-2.06-.94 2.06-2.06.94zm-11 1L8.5 8.5l.94-2.06 2.06-.94-2.06-.94L8.5 2.5l-.94 2.06-2.06.94zm10 10l.94 2.06.94-2.06 2.06-.94-2.06-.94-.94-2.06-.94 2.06-2.06.94z\"/><path d=\"M17.41 7.96l-1.37-1.37c-.4-.4-.92-.59-1.43-.59-.52 0-1.04.2-1.43.59L10.3 9.45l-7.72 7.72c-.78.78-.78 2.05 0 2.83L4 21.41c.39.39.9.59 1.41.59.51 0 1.02-.2 1.41-.59l7.78-7.78 2.81-2.81c.8-.78.8-2.07 0-2.86zM5.41 20L4 18.59l7.72-7.72 1.47 1.35L5.41 20z\"/>\n",
              "  </svg>\n",
              "      </button>\n",
              "      \n",
              "  <style>\n",
              "    .colab-df-container {\n",
              "      display:flex;\n",
              "      flex-wrap:wrap;\n",
              "      gap: 12px;\n",
              "    }\n",
              "\n",
              "    .colab-df-convert {\n",
              "      background-color: #E8F0FE;\n",
              "      border: none;\n",
              "      border-radius: 50%;\n",
              "      cursor: pointer;\n",
              "      display: none;\n",
              "      fill: #1967D2;\n",
              "      height: 32px;\n",
              "      padding: 0 0 0 0;\n",
              "      width: 32px;\n",
              "    }\n",
              "\n",
              "    .colab-df-convert:hover {\n",
              "      background-color: #E2EBFA;\n",
              "      box-shadow: 0px 1px 2px rgba(60, 64, 67, 0.3), 0px 1px 3px 1px rgba(60, 64, 67, 0.15);\n",
              "      fill: #174EA6;\n",
              "    }\n",
              "\n",
              "    [theme=dark] .colab-df-convert {\n",
              "      background-color: #3B4455;\n",
              "      fill: #D2E3FC;\n",
              "    }\n",
              "\n",
              "    [theme=dark] .colab-df-convert:hover {\n",
              "      background-color: #434B5C;\n",
              "      box-shadow: 0px 1px 3px 1px rgba(0, 0, 0, 0.15);\n",
              "      filter: drop-shadow(0px 1px 2px rgba(0, 0, 0, 0.3));\n",
              "      fill: #FFFFFF;\n",
              "    }\n",
              "  </style>\n",
              "\n",
              "      <script>\n",
              "        const buttonEl =\n",
              "          document.querySelector('#df-878035bb-5640-46a6-bc41-b3d150765350 button.colab-df-convert');\n",
              "        buttonEl.style.display =\n",
              "          google.colab.kernel.accessAllowed ? 'block' : 'none';\n",
              "\n",
              "        async function convertToInteractive(key) {\n",
              "          const element = document.querySelector('#df-878035bb-5640-46a6-bc41-b3d150765350');\n",
              "          const dataTable =\n",
              "            await google.colab.kernel.invokeFunction('convertToInteractive',\n",
              "                                                     [key], {});\n",
              "          if (!dataTable) return;\n",
              "\n",
              "          const docLinkHtml = 'Like what you see? Visit the ' +\n",
              "            '<a target=\"_blank\" href=https://colab.research.google.com/notebooks/data_table.ipynb>data table notebook</a>'\n",
              "            + ' to learn more about interactive tables.';\n",
              "          element.innerHTML = '';\n",
              "          dataTable['output_type'] = 'display_data';\n",
              "          await google.colab.output.renderOutput(dataTable, element);\n",
              "          const docLink = document.createElement('div');\n",
              "          docLink.innerHTML = docLinkHtml;\n",
              "          element.appendChild(docLink);\n",
              "        }\n",
              "      </script>\n",
              "    </div>\n",
              "  </div>\n",
              "  "
            ],
            "text/plain": [
              "       math score  reading score  writing score\n",
              "count  1000.00000    1000.000000    1000.000000\n",
              "mean     66.08900      69.169000      68.054000\n",
              "std      15.16308      14.600192      15.195657\n",
              "min       0.00000      17.000000      10.000000\n",
              "25%      57.00000      59.000000      57.750000\n",
              "50%      66.00000      70.000000      69.000000\n",
              "75%      77.00000      79.000000      79.000000\n",
              "max     100.00000     100.000000     100.000000"
            ]
          },
          "metadata": {},
          "execution_count": 76
        }
      ]
    },
    {
      "cell_type": "code",
      "source": [
        "base.select_dtypes(include='object').describe()"
      ],
      "metadata": {
        "colab": {
          "base_uri": "https://localhost:8080/",
          "height": 174
        },
        "id": "eABS7-2DAojO",
        "outputId": "f5fd4557-7b0d-48ad-8b9a-dca0d6ec6b8c"
      },
      "execution_count": null,
      "outputs": [
        {
          "output_type": "execute_result",
          "data": {
            "text/html": [
              "\n",
              "  <div id=\"df-a0c9e986-6f95-4d12-adf7-77d9db67eac1\">\n",
              "    <div class=\"colab-df-container\">\n",
              "      <div>\n",
              "<style scoped>\n",
              "    .dataframe tbody tr th:only-of-type {\n",
              "        vertical-align: middle;\n",
              "    }\n",
              "\n",
              "    .dataframe tbody tr th {\n",
              "        vertical-align: top;\n",
              "    }\n",
              "\n",
              "    .dataframe thead th {\n",
              "        text-align: right;\n",
              "    }\n",
              "</style>\n",
              "<table border=\"1\" class=\"dataframe\">\n",
              "  <thead>\n",
              "    <tr style=\"text-align: right;\">\n",
              "      <th></th>\n",
              "      <th>gender</th>\n",
              "      <th>race</th>\n",
              "      <th>test preparation course</th>\n",
              "    </tr>\n",
              "  </thead>\n",
              "  <tbody>\n",
              "    <tr>\n",
              "      <th>count</th>\n",
              "      <td>1000</td>\n",
              "      <td>1000</td>\n",
              "      <td>1000</td>\n",
              "    </tr>\n",
              "    <tr>\n",
              "      <th>unique</th>\n",
              "      <td>2</td>\n",
              "      <td>5</td>\n",
              "      <td>2</td>\n",
              "    </tr>\n",
              "    <tr>\n",
              "      <th>top</th>\n",
              "      <td>female</td>\n",
              "      <td>group C</td>\n",
              "      <td>none</td>\n",
              "    </tr>\n",
              "    <tr>\n",
              "      <th>freq</th>\n",
              "      <td>518</td>\n",
              "      <td>319</td>\n",
              "      <td>642</td>\n",
              "    </tr>\n",
              "  </tbody>\n",
              "</table>\n",
              "</div>\n",
              "      <button class=\"colab-df-convert\" onclick=\"convertToInteractive('df-a0c9e986-6f95-4d12-adf7-77d9db67eac1')\"\n",
              "              title=\"Convert this dataframe to an interactive table.\"\n",
              "              style=\"display:none;\">\n",
              "        \n",
              "  <svg xmlns=\"http://www.w3.org/2000/svg\" height=\"24px\"viewBox=\"0 0 24 24\"\n",
              "       width=\"24px\">\n",
              "    <path d=\"M0 0h24v24H0V0z\" fill=\"none\"/>\n",
              "    <path d=\"M18.56 5.44l.94 2.06.94-2.06 2.06-.94-2.06-.94-.94-2.06-.94 2.06-2.06.94zm-11 1L8.5 8.5l.94-2.06 2.06-.94-2.06-.94L8.5 2.5l-.94 2.06-2.06.94zm10 10l.94 2.06.94-2.06 2.06-.94-2.06-.94-.94-2.06-.94 2.06-2.06.94z\"/><path d=\"M17.41 7.96l-1.37-1.37c-.4-.4-.92-.59-1.43-.59-.52 0-1.04.2-1.43.59L10.3 9.45l-7.72 7.72c-.78.78-.78 2.05 0 2.83L4 21.41c.39.39.9.59 1.41.59.51 0 1.02-.2 1.41-.59l7.78-7.78 2.81-2.81c.8-.78.8-2.07 0-2.86zM5.41 20L4 18.59l7.72-7.72 1.47 1.35L5.41 20z\"/>\n",
              "  </svg>\n",
              "      </button>\n",
              "      \n",
              "  <style>\n",
              "    .colab-df-container {\n",
              "      display:flex;\n",
              "      flex-wrap:wrap;\n",
              "      gap: 12px;\n",
              "    }\n",
              "\n",
              "    .colab-df-convert {\n",
              "      background-color: #E8F0FE;\n",
              "      border: none;\n",
              "      border-radius: 50%;\n",
              "      cursor: pointer;\n",
              "      display: none;\n",
              "      fill: #1967D2;\n",
              "      height: 32px;\n",
              "      padding: 0 0 0 0;\n",
              "      width: 32px;\n",
              "    }\n",
              "\n",
              "    .colab-df-convert:hover {\n",
              "      background-color: #E2EBFA;\n",
              "      box-shadow: 0px 1px 2px rgba(60, 64, 67, 0.3), 0px 1px 3px 1px rgba(60, 64, 67, 0.15);\n",
              "      fill: #174EA6;\n",
              "    }\n",
              "\n",
              "    [theme=dark] .colab-df-convert {\n",
              "      background-color: #3B4455;\n",
              "      fill: #D2E3FC;\n",
              "    }\n",
              "\n",
              "    [theme=dark] .colab-df-convert:hover {\n",
              "      background-color: #434B5C;\n",
              "      box-shadow: 0px 1px 3px 1px rgba(0, 0, 0, 0.15);\n",
              "      filter: drop-shadow(0px 1px 2px rgba(0, 0, 0, 0.3));\n",
              "      fill: #FFFFFF;\n",
              "    }\n",
              "  </style>\n",
              "\n",
              "      <script>\n",
              "        const buttonEl =\n",
              "          document.querySelector('#df-a0c9e986-6f95-4d12-adf7-77d9db67eac1 button.colab-df-convert');\n",
              "        buttonEl.style.display =\n",
              "          google.colab.kernel.accessAllowed ? 'block' : 'none';\n",
              "\n",
              "        async function convertToInteractive(key) {\n",
              "          const element = document.querySelector('#df-a0c9e986-6f95-4d12-adf7-77d9db67eac1');\n",
              "          const dataTable =\n",
              "            await google.colab.kernel.invokeFunction('convertToInteractive',\n",
              "                                                     [key], {});\n",
              "          if (!dataTable) return;\n",
              "\n",
              "          const docLinkHtml = 'Like what you see? Visit the ' +\n",
              "            '<a target=\"_blank\" href=https://colab.research.google.com/notebooks/data_table.ipynb>data table notebook</a>'\n",
              "            + ' to learn more about interactive tables.';\n",
              "          element.innerHTML = '';\n",
              "          dataTable['output_type'] = 'display_data';\n",
              "          await google.colab.output.renderOutput(dataTable, element);\n",
              "          const docLink = document.createElement('div');\n",
              "          docLink.innerHTML = docLinkHtml;\n",
              "          element.appendChild(docLink);\n",
              "        }\n",
              "      </script>\n",
              "    </div>\n",
              "  </div>\n",
              "  "
            ],
            "text/plain": [
              "        gender     race test preparation course\n",
              "count     1000     1000                    1000\n",
              "unique       2        5                       2\n",
              "top     female  group C                    none\n",
              "freq       518      319                     642"
            ]
          },
          "metadata": {},
          "execution_count": 78
        }
      ]
    },
    {
      "cell_type": "code",
      "source": [
        "X_dict = base.iloc[:,base.columns != 'test preparation course'].T.to_dict().values()\n",
        "X_dict"
      ],
      "metadata": {
        "colab": {
          "base_uri": "https://localhost:8080/"
        },
        "id": "v0nzWCs1_-KZ",
        "outputId": "c0f1e5ec-09fe-42c0-c2df-9f91771a5f26"
      },
      "execution_count": null,
      "outputs": [
        {
          "output_type": "execute_result",
          "data": {
            "text/plain": [
              "dict_values([{'gender': 'female', 'race': 'group B', 'math score': 72, 'reading score': 72, 'writing score': 74}, {'gender': 'female', 'race': 'group C', 'math score': 69, 'reading score': 90, 'writing score': 88}, {'gender': 'female', 'race': 'group B', 'math score': 90, 'reading score': 95, 'writing score': 93}, {'gender': 'male', 'race': 'group A', 'math score': 47, 'reading score': 57, 'writing score': 44}, {'gender': 'male', 'race': 'group C', 'math score': 76, 'reading score': 78, 'writing score': 75}, {'gender': 'female', 'race': 'group B', 'math score': 71, 'reading score': 83, 'writing score': 78}, {'gender': 'female', 'race': 'group B', 'math score': 88, 'reading score': 95, 'writing score': 92}, {'gender': 'male', 'race': 'group B', 'math score': 40, 'reading score': 43, 'writing score': 39}, {'gender': 'male', 'race': 'group D', 'math score': 64, 'reading score': 64, 'writing score': 67}, {'gender': 'female', 'race': 'group B', 'math score': 38, 'reading score': 60, 'writing score': 50}, {'gender': 'male', 'race': 'group C', 'math score': 58, 'reading score': 54, 'writing score': 52}, {'gender': 'male', 'race': 'group D', 'math score': 40, 'reading score': 52, 'writing score': 43}, {'gender': 'female', 'race': 'group B', 'math score': 65, 'reading score': 81, 'writing score': 73}, {'gender': 'male', 'race': 'group A', 'math score': 78, 'reading score': 72, 'writing score': 70}, {'gender': 'female', 'race': 'group A', 'math score': 50, 'reading score': 53, 'writing score': 58}, {'gender': 'female', 'race': 'group C', 'math score': 69, 'reading score': 75, 'writing score': 78}, {'gender': 'male', 'race': 'group C', 'math score': 88, 'reading score': 89, 'writing score': 86}, {'gender': 'female', 'race': 'group B', 'math score': 18, 'reading score': 32, 'writing score': 28}, {'gender': 'male', 'race': 'group C', 'math score': 46, 'reading score': 42, 'writing score': 46}, {'gender': 'female', 'race': 'group C', 'math score': 54, 'reading score': 58, 'writing score': 61}, {'gender': 'male', 'race': 'group D', 'math score': 66, 'reading score': 69, 'writing score': 63}, {'gender': 'female', 'race': 'group B', 'math score': 65, 'reading score': 75, 'writing score': 70}, {'gender': 'male', 'race': 'group D', 'math score': 44, 'reading score': 54, 'writing score': 53}, {'gender': 'female', 'race': 'group C', 'math score': 69, 'reading score': 73, 'writing score': 73}, {'gender': 'male', 'race': 'group D', 'math score': 74, 'reading score': 71, 'writing score': 80}, {'gender': 'male', 'race': 'group A', 'math score': 73, 'reading score': 74, 'writing score': 72}, {'gender': 'male', 'race': 'group B', 'math score': 69, 'reading score': 54, 'writing score': 55}, {'gender': 'female', 'race': 'group C', 'math score': 67, 'reading score': 69, 'writing score': 75}, {'gender': 'male', 'race': 'group C', 'math score': 70, 'reading score': 70, 'writing score': 65}, {'gender': 'female', 'race': 'group D', 'math score': 62, 'reading score': 70, 'writing score': 75}, {'gender': 'female', 'race': 'group D', 'math score': 69, 'reading score': 74, 'writing score': 74}, {'gender': 'female', 'race': 'group B', 'math score': 63, 'reading score': 65, 'writing score': 61}, {'gender': 'female', 'race': 'group E', 'math score': 56, 'reading score': 72, 'writing score': 65}, {'gender': 'male', 'race': 'group D', 'math score': 40, 'reading score': 42, 'writing score': 38}, {'gender': 'male', 'race': 'group E', 'math score': 97, 'reading score': 87, 'writing score': 82}, {'gender': 'male', 'race': 'group E', 'math score': 81, 'reading score': 81, 'writing score': 79}, {'gender': 'female', 'race': 'group D', 'math score': 74, 'reading score': 81, 'writing score': 83}, {'gender': 'female', 'race': 'group D', 'math score': 50, 'reading score': 64, 'writing score': 59}, {'gender': 'female', 'race': 'group D', 'math score': 75, 'reading score': 90, 'writing score': 88}, {'gender': 'male', 'race': 'group B', 'math score': 57, 'reading score': 56, 'writing score': 57}, {'gender': 'male', 'race': 'group C', 'math score': 55, 'reading score': 61, 'writing score': 54}, {'gender': 'female', 'race': 'group C', 'math score': 58, 'reading score': 73, 'writing score': 68}, {'gender': 'female', 'race': 'group B', 'math score': 53, 'reading score': 58, 'writing score': 65}, {'gender': 'male', 'race': 'group B', 'math score': 59, 'reading score': 65, 'writing score': 66}, {'gender': 'female', 'race': 'group E', 'math score': 50, 'reading score': 56, 'writing score': 54}, {'gender': 'male', 'race': 'group B', 'math score': 65, 'reading score': 54, 'writing score': 57}, {'gender': 'female', 'race': 'group A', 'math score': 55, 'reading score': 65, 'writing score': 62}, {'gender': 'female', 'race': 'group C', 'math score': 66, 'reading score': 71, 'writing score': 76}, {'gender': 'female', 'race': 'group D', 'math score': 57, 'reading score': 74, 'writing score': 76}, {'gender': 'male', 'race': 'group C', 'math score': 82, 'reading score': 84, 'writing score': 82}, {'gender': 'male', 'race': 'group E', 'math score': 53, 'reading score': 55, 'writing score': 48}, {'gender': 'male', 'race': 'group E', 'math score': 77, 'reading score': 69, 'writing score': 68}, {'gender': 'male', 'race': 'group C', 'math score': 53, 'reading score': 44, 'writing score': 42}, {'gender': 'male', 'race': 'group D', 'math score': 88, 'reading score': 78, 'writing score': 75}, {'gender': 'female', 'race': 'group C', 'math score': 71, 'reading score': 84, 'writing score': 87}, {'gender': 'female', 'race': 'group C', 'math score': 33, 'reading score': 41, 'writing score': 43}, {'gender': 'female', 'race': 'group E', 'math score': 82, 'reading score': 85, 'writing score': 86}, {'gender': 'male', 'race': 'group D', 'math score': 52, 'reading score': 55, 'writing score': 49}, {'gender': 'male', 'race': 'group D', 'math score': 58, 'reading score': 59, 'writing score': 58}, {'gender': 'female', 'race': 'group C', 'math score': 0, 'reading score': 17, 'writing score': 10}, {'gender': 'male', 'race': 'group E', 'math score': 79, 'reading score': 74, 'writing score': 72}, {'gender': 'male', 'race': 'group A', 'math score': 39, 'reading score': 39, 'writing score': 34}, {'gender': 'male', 'race': 'group A', 'math score': 62, 'reading score': 61, 'writing score': 55}, {'gender': 'female', 'race': 'group C', 'math score': 69, 'reading score': 80, 'writing score': 71}, {'gender': 'female', 'race': 'group D', 'math score': 59, 'reading score': 58, 'writing score': 59}, {'gender': 'male', 'race': 'group B', 'math score': 67, 'reading score': 64, 'writing score': 61}, {'gender': 'male', 'race': 'group D', 'math score': 45, 'reading score': 37, 'writing score': 37}, {'gender': 'female', 'race': 'group C', 'math score': 60, 'reading score': 72, 'writing score': 74}, {'gender': 'male', 'race': 'group B', 'math score': 61, 'reading score': 58, 'writing score': 56}, {'gender': 'female', 'race': 'group C', 'math score': 39, 'reading score': 64, 'writing score': 57}, {'gender': 'female', 'race': 'group D', 'math score': 58, 'reading score': 63, 'writing score': 73}, {'gender': 'male', 'race': 'group D', 'math score': 63, 'reading score': 55, 'writing score': 63}, {'gender': 'female', 'race': 'group A', 'math score': 41, 'reading score': 51, 'writing score': 48}, {'gender': 'male', 'race': 'group C', 'math score': 61, 'reading score': 57, 'writing score': 56}, {'gender': 'male', 'race': 'group C', 'math score': 49, 'reading score': 49, 'writing score': 41}, {'gender': 'male', 'race': 'group B', 'math score': 44, 'reading score': 41, 'writing score': 38}, {'gender': 'male', 'race': 'group E', 'math score': 30, 'reading score': 26, 'writing score': 22}, {'gender': 'male', 'race': 'group A', 'math score': 80, 'reading score': 78, 'writing score': 81}, {'gender': 'female', 'race': 'group D', 'math score': 61, 'reading score': 74, 'writing score': 72}, {'gender': 'female', 'race': 'group E', 'math score': 62, 'reading score': 68, 'writing score': 68}, {'gender': 'female', 'race': 'group B', 'math score': 47, 'reading score': 49, 'writing score': 50}, {'gender': 'male', 'race': 'group B', 'math score': 49, 'reading score': 45, 'writing score': 45}, {'gender': 'male', 'race': 'group A', 'math score': 50, 'reading score': 47, 'writing score': 54}, {'gender': 'male', 'race': 'group E', 'math score': 72, 'reading score': 64, 'writing score': 63}, {'gender': 'male', 'race': 'group D', 'math score': 42, 'reading score': 39, 'writing score': 34}, {'gender': 'female', 'race': 'group C', 'math score': 73, 'reading score': 80, 'writing score': 82}, {'gender': 'female', 'race': 'group C', 'math score': 76, 'reading score': 83, 'writing score': 88}, {'gender': 'female', 'race': 'group D', 'math score': 71, 'reading score': 71, 'writing score': 74}, {'gender': 'female', 'race': 'group A', 'math score': 58, 'reading score': 70, 'writing score': 67}, {'gender': 'female', 'race': 'group D', 'math score': 73, 'reading score': 86, 'writing score': 82}, {'gender': 'female', 'race': 'group C', 'math score': 65, 'reading score': 72, 'writing score': 74}, {'gender': 'male', 'race': 'group C', 'math score': 27, 'reading score': 34, 'writing score': 36}, {'gender': 'male', 'race': 'group C', 'math score': 71, 'reading score': 79, 'writing score': 71}, {'gender': 'male', 'race': 'group C', 'math score': 43, 'reading score': 45, 'writing score': 50}, {'gender': 'female', 'race': 'group B', 'math score': 79, 'reading score': 86, 'writing score': 92}, {'gender': 'male', 'race': 'group C', 'math score': 78, 'reading score': 81, 'writing score': 82}, {'gender': 'male', 'race': 'group B', 'math score': 65, 'reading score': 66, 'writing score': 62}, {'gender': 'female', 'race': 'group E', 'math score': 63, 'reading score': 72, 'writing score': 70}, {'gender': 'female', 'race': 'group D', 'math score': 58, 'reading score': 67, 'writing score': 62}, {'gender': 'female', 'race': 'group D', 'math score': 65, 'reading score': 67, 'writing score': 62}, {'gender': 'male', 'race': 'group B', 'math score': 79, 'reading score': 67, 'writing score': 67}, {'gender': 'male', 'race': 'group D', 'math score': 68, 'reading score': 74, 'writing score': 74}, {'gender': 'female', 'race': 'group D', 'math score': 85, 'reading score': 91, 'writing score': 89}, {'gender': 'male', 'race': 'group B', 'math score': 60, 'reading score': 44, 'writing score': 47}, {'gender': 'male', 'race': 'group C', 'math score': 98, 'reading score': 86, 'writing score': 90}, {'gender': 'female', 'race': 'group C', 'math score': 58, 'reading score': 67, 'writing score': 72}, {'gender': 'female', 'race': 'group D', 'math score': 87, 'reading score': 100, 'writing score': 100}, {'gender': 'male', 'race': 'group E', 'math score': 66, 'reading score': 63, 'writing score': 64}, {'gender': 'female', 'race': 'group B', 'math score': 52, 'reading score': 76, 'writing score': 70}, {'gender': 'female', 'race': 'group B', 'math score': 70, 'reading score': 64, 'writing score': 72}, {'gender': 'female', 'race': 'group D', 'math score': 77, 'reading score': 89, 'writing score': 98}, {'gender': 'male', 'race': 'group C', 'math score': 62, 'reading score': 55, 'writing score': 49}, {'gender': 'male', 'race': 'group A', 'math score': 54, 'reading score': 53, 'writing score': 47}, {'gender': 'female', 'race': 'group D', 'math score': 51, 'reading score': 58, 'writing score': 54}, {'gender': 'female', 'race': 'group E', 'math score': 99, 'reading score': 100, 'writing score': 100}, {'gender': 'male', 'race': 'group C', 'math score': 84, 'reading score': 77, 'writing score': 74}, {'gender': 'female', 'race': 'group B', 'math score': 75, 'reading score': 85, 'writing score': 82}, {'gender': 'female', 'race': 'group D', 'math score': 78, 'reading score': 82, 'writing score': 79}, {'gender': 'female', 'race': 'group D', 'math score': 51, 'reading score': 63, 'writing score': 61}, {'gender': 'female', 'race': 'group C', 'math score': 55, 'reading score': 69, 'writing score': 65}, {'gender': 'female', 'race': 'group C', 'math score': 79, 'reading score': 92, 'writing score': 89}, {'gender': 'male', 'race': 'group B', 'math score': 91, 'reading score': 89, 'writing score': 92}, {'gender': 'female', 'race': 'group C', 'math score': 88, 'reading score': 93, 'writing score': 93}, {'gender': 'male', 'race': 'group D', 'math score': 63, 'reading score': 57, 'writing score': 56}, {'gender': 'male', 'race': 'group E', 'math score': 83, 'reading score': 80, 'writing score': 73}, {'gender': 'female', 'race': 'group B', 'math score': 87, 'reading score': 95, 'writing score': 86}, {'gender': 'male', 'race': 'group B', 'math score': 72, 'reading score': 68, 'writing score': 67}, {'gender': 'male', 'race': 'group D', 'math score': 65, 'reading score': 77, 'writing score': 74}, {'gender': 'male', 'race': 'group D', 'math score': 82, 'reading score': 82, 'writing score': 74}, {'gender': 'female', 'race': 'group A', 'math score': 51, 'reading score': 49, 'writing score': 51}, {'gender': 'male', 'race': 'group D', 'math score': 89, 'reading score': 84, 'writing score': 82}, {'gender': 'male', 'race': 'group C', 'math score': 53, 'reading score': 37, 'writing score': 40}, {'gender': 'male', 'race': 'group E', 'math score': 87, 'reading score': 74, 'writing score': 70}, {'gender': 'female', 'race': 'group C', 'math score': 75, 'reading score': 81, 'writing score': 84}, {'gender': 'male', 'race': 'group D', 'math score': 74, 'reading score': 79, 'writing score': 75}, {'gender': 'male', 'race': 'group C', 'math score': 58, 'reading score': 55, 'writing score': 48}, {'gender': 'male', 'race': 'group B', 'math score': 51, 'reading score': 54, 'writing score': 41}, {'gender': 'male', 'race': 'group E', 'math score': 70, 'reading score': 55, 'writing score': 56}, {'gender': 'female', 'race': 'group C', 'math score': 59, 'reading score': 66, 'writing score': 67}, {'gender': 'male', 'race': 'group D', 'math score': 71, 'reading score': 61, 'writing score': 69}, {'gender': 'female', 'race': 'group D', 'math score': 76, 'reading score': 72, 'writing score': 71}, {'gender': 'female', 'race': 'group C', 'math score': 59, 'reading score': 62, 'writing score': 64}, {'gender': 'female', 'race': 'group E', 'math score': 42, 'reading score': 55, 'writing score': 54}, {'gender': 'male', 'race': 'group A', 'math score': 57, 'reading score': 43, 'writing score': 47}, {'gender': 'male', 'race': 'group D', 'math score': 88, 'reading score': 73, 'writing score': 78}, {'gender': 'female', 'race': 'group C', 'math score': 22, 'reading score': 39, 'writing score': 33}, {'gender': 'male', 'race': 'group B', 'math score': 88, 'reading score': 84, 'writing score': 75}, {'gender': 'male', 'race': 'group C', 'math score': 73, 'reading score': 68, 'writing score': 66}, {'gender': 'female', 'race': 'group D', 'math score': 68, 'reading score': 75, 'writing score': 81}, {'gender': 'male', 'race': 'group E', 'math score': 100, 'reading score': 100, 'writing score': 93}, {'gender': 'male', 'race': 'group A', 'math score': 62, 'reading score': 67, 'writing score': 69}, {'gender': 'male', 'race': 'group A', 'math score': 77, 'reading score': 67, 'writing score': 68}, {'gender': 'female', 'race': 'group B', 'math score': 59, 'reading score': 70, 'writing score': 66}, {'gender': 'male', 'race': 'group D', 'math score': 54, 'reading score': 49, 'writing score': 47}, {'gender': 'male', 'race': 'group D', 'math score': 62, 'reading score': 67, 'writing score': 61}, {'gender': 'female', 'race': 'group C', 'math score': 70, 'reading score': 89, 'writing score': 88}, {'gender': 'female', 'race': 'group E', 'math score': 66, 'reading score': 74, 'writing score': 78}, {'gender': 'male', 'race': 'group B', 'math score': 60, 'reading score': 60, 'writing score': 60}, {'gender': 'female', 'race': 'group B', 'math score': 61, 'reading score': 86, 'writing score': 87}, {'gender': 'male', 'race': 'group D', 'math score': 66, 'reading score': 62, 'writing score': 64}, {'gender': 'male', 'race': 'group B', 'math score': 82, 'reading score': 78, 'writing score': 74}, {'gender': 'female', 'race': 'group E', 'math score': 75, 'reading score': 88, 'writing score': 85}, {'gender': 'male', 'race': 'group B', 'math score': 49, 'reading score': 53, 'writing score': 52}, {'gender': 'male', 'race': 'group C', 'math score': 52, 'reading score': 53, 'writing score': 49}, {'gender': 'female', 'race': 'group E', 'math score': 81, 'reading score': 92, 'writing score': 91}, {'gender': 'female', 'race': 'group C', 'math score': 96, 'reading score': 100, 'writing score': 100}, {'gender': 'male', 'race': 'group C', 'math score': 53, 'reading score': 51, 'writing score': 51}, {'gender': 'female', 'race': 'group B', 'math score': 58, 'reading score': 76, 'writing score': 78}, {'gender': 'female', 'race': 'group B', 'math score': 68, 'reading score': 83, 'writing score': 78}, {'gender': 'female', 'race': 'group C', 'math score': 67, 'reading score': 75, 'writing score': 70}, {'gender': 'male', 'race': 'group A', 'math score': 72, 'reading score': 73, 'writing score': 74}, {'gender': 'male', 'race': 'group E', 'math score': 94, 'reading score': 88, 'writing score': 78}, {'gender': 'female', 'race': 'group D', 'math score': 79, 'reading score': 86, 'writing score': 81}, {'gender': 'female', 'race': 'group C', 'math score': 63, 'reading score': 67, 'writing score': 70}, {'gender': 'female', 'race': 'group C', 'math score': 43, 'reading score': 51, 'writing score': 54}, {'gender': 'female', 'race': 'group C', 'math score': 81, 'reading score': 91, 'writing score': 87}, {'gender': 'female', 'race': 'group B', 'math score': 46, 'reading score': 54, 'writing score': 58}, {'gender': 'female', 'race': 'group C', 'math score': 71, 'reading score': 77, 'writing score': 77}, {'gender': 'female', 'race': 'group B', 'math score': 52, 'reading score': 70, 'writing score': 62}, {'gender': 'female', 'race': 'group D', 'math score': 97, 'reading score': 100, 'writing score': 100}, {'gender': 'male', 'race': 'group C', 'math score': 62, 'reading score': 68, 'writing score': 75}, {'gender': 'female', 'race': 'group C', 'math score': 46, 'reading score': 64, 'writing score': 66}, {'gender': 'female', 'race': 'group E', 'math score': 50, 'reading score': 50, 'writing score': 47}, {'gender': 'female', 'race': 'group D', 'math score': 65, 'reading score': 69, 'writing score': 70}, {'gender': 'male', 'race': 'group C', 'math score': 45, 'reading score': 52, 'writing score': 49}, {'gender': 'male', 'race': 'group C', 'math score': 65, 'reading score': 67, 'writing score': 65}, {'gender': 'male', 'race': 'group E', 'math score': 80, 'reading score': 76, 'writing score': 65}, {'gender': 'male', 'race': 'group D', 'math score': 62, 'reading score': 66, 'writing score': 68}, {'gender': 'male', 'race': 'group B', 'math score': 48, 'reading score': 52, 'writing score': 45}, {'gender': 'female', 'race': 'group C', 'math score': 77, 'reading score': 88, 'writing score': 87}, {'gender': 'female', 'race': 'group E', 'math score': 66, 'reading score': 65, 'writing score': 69}, {'gender': 'male', 'race': 'group D', 'math score': 76, 'reading score': 83, 'writing score': 79}, {'gender': 'female', 'race': 'group B', 'math score': 62, 'reading score': 64, 'writing score': 66}, {'gender': 'male', 'race': 'group D', 'math score': 77, 'reading score': 62, 'writing score': 62}, {'gender': 'female', 'race': 'group C', 'math score': 69, 'reading score': 84, 'writing score': 85}, {'gender': 'male', 'race': 'group D', 'math score': 61, 'reading score': 55, 'writing score': 52}, {'gender': 'male', 'race': 'group C', 'math score': 59, 'reading score': 69, 'writing score': 65}, {'gender': 'male', 'race': 'group E', 'math score': 55, 'reading score': 56, 'writing score': 51}, {'gender': 'female', 'race': 'group B', 'math score': 45, 'reading score': 53, 'writing score': 55}, {'gender': 'female', 'race': 'group B', 'math score': 78, 'reading score': 79, 'writing score': 76}, {'gender': 'female', 'race': 'group C', 'math score': 67, 'reading score': 84, 'writing score': 86}, {'gender': 'female', 'race': 'group D', 'math score': 65, 'reading score': 81, 'writing score': 77}, {'gender': 'male', 'race': 'group C', 'math score': 69, 'reading score': 77, 'writing score': 69}, {'gender': 'female', 'race': 'group B', 'math score': 57, 'reading score': 69, 'writing score': 68}, {'gender': 'male', 'race': 'group C', 'math score': 59, 'reading score': 41, 'writing score': 42}, {'gender': 'male', 'race': 'group D', 'math score': 74, 'reading score': 71, 'writing score': 78}, {'gender': 'male', 'race': 'group E', 'math score': 82, 'reading score': 62, 'writing score': 62}, {'gender': 'male', 'race': 'group E', 'math score': 81, 'reading score': 80, 'writing score': 76}, {'gender': 'female', 'race': 'group B', 'math score': 74, 'reading score': 81, 'writing score': 76}, {'gender': 'female', 'race': 'group B', 'math score': 58, 'reading score': 61, 'writing score': 66}, {'gender': 'male', 'race': 'group D', 'math score': 80, 'reading score': 79, 'writing score': 79}, {'gender': 'male', 'race': 'group C', 'math score': 35, 'reading score': 28, 'writing score': 27}, {'gender': 'female', 'race': 'group C', 'math score': 42, 'reading score': 62, 'writing score': 60}, {'gender': 'male', 'race': 'group C', 'math score': 60, 'reading score': 51, 'writing score': 56}, {'gender': 'male', 'race': 'group E', 'math score': 87, 'reading score': 91, 'writing score': 81}, {'gender': 'male', 'race': 'group B', 'math score': 84, 'reading score': 83, 'writing score': 75}, {'gender': 'female', 'race': 'group E', 'math score': 83, 'reading score': 86, 'writing score': 88}, {'gender': 'female', 'race': 'group C', 'math score': 34, 'reading score': 42, 'writing score': 39}, {'gender': 'male', 'race': 'group B', 'math score': 66, 'reading score': 77, 'writing score': 70}, {'gender': 'male', 'race': 'group B', 'math score': 61, 'reading score': 56, 'writing score': 56}, {'gender': 'female', 'race': 'group D', 'math score': 56, 'reading score': 68, 'writing score': 74}, {'gender': 'male', 'race': 'group B', 'math score': 87, 'reading score': 85, 'writing score': 73}, {'gender': 'female', 'race': 'group C', 'math score': 55, 'reading score': 65, 'writing score': 62}, {'gender': 'male', 'race': 'group D', 'math score': 86, 'reading score': 80, 'writing score': 75}, {'gender': 'female', 'race': 'group B', 'math score': 52, 'reading score': 66, 'writing score': 73}, {'gender': 'female', 'race': 'group E', 'math score': 45, 'reading score': 56, 'writing score': 54}, {'gender': 'female', 'race': 'group C', 'math score': 72, 'reading score': 72, 'writing score': 71}, {'gender': 'male', 'race': 'group D', 'math score': 57, 'reading score': 50, 'writing score': 54}, {'gender': 'male', 'race': 'group A', 'math score': 68, 'reading score': 72, 'writing score': 64}, {'gender': 'female', 'race': 'group C', 'math score': 88, 'reading score': 95, 'writing score': 94}, {'gender': 'male', 'race': 'group D', 'math score': 76, 'reading score': 64, 'writing score': 66}, {'gender': 'male', 'race': 'group C', 'math score': 46, 'reading score': 43, 'writing score': 42}, {'gender': 'female', 'race': 'group B', 'math score': 67, 'reading score': 86, 'writing score': 83}, {'gender': 'male', 'race': 'group E', 'math score': 92, 'reading score': 87, 'writing score': 78}, {'gender': 'male', 'race': 'group C', 'math score': 83, 'reading score': 82, 'writing score': 84}, {'gender': 'male', 'race': 'group D', 'math score': 80, 'reading score': 75, 'writing score': 77}, {'gender': 'male', 'race': 'group D', 'math score': 63, 'reading score': 66, 'writing score': 67}, {'gender': 'female', 'race': 'group D', 'math score': 64, 'reading score': 60, 'writing score': 74}, {'gender': 'male', 'race': 'group B', 'math score': 54, 'reading score': 52, 'writing score': 51}, {'gender': 'male', 'race': 'group C', 'math score': 84, 'reading score': 80, 'writing score': 80}, {'gender': 'male', 'race': 'group D', 'math score': 73, 'reading score': 68, 'writing score': 66}, {'gender': 'female', 'race': 'group E', 'math score': 80, 'reading score': 83, 'writing score': 83}, {'gender': 'female', 'race': 'group D', 'math score': 56, 'reading score': 52, 'writing score': 55}, {'gender': 'male', 'race': 'group E', 'math score': 59, 'reading score': 51, 'writing score': 43}, {'gender': 'male', 'race': 'group D', 'math score': 75, 'reading score': 74, 'writing score': 69}, {'gender': 'male', 'race': 'group C', 'math score': 85, 'reading score': 76, 'writing score': 71}, {'gender': 'male', 'race': 'group E', 'math score': 89, 'reading score': 76, 'writing score': 74}, {'gender': 'female', 'race': 'group B', 'math score': 58, 'reading score': 70, 'writing score': 68}, {'gender': 'female', 'race': 'group B', 'math score': 65, 'reading score': 64, 'writing score': 62}, {'gender': 'male', 'race': 'group C', 'math score': 68, 'reading score': 60, 'writing score': 53}, {'gender': 'male', 'race': 'group A', 'math score': 47, 'reading score': 49, 'writing score': 49}, {'gender': 'female', 'race': 'group D', 'math score': 71, 'reading score': 83, 'writing score': 83}, {'gender': 'female', 'race': 'group B', 'math score': 60, 'reading score': 70, 'writing score': 70}, {'gender': 'male', 'race': 'group D', 'math score': 80, 'reading score': 80, 'writing score': 72}, {'gender': 'male', 'race': 'group D', 'math score': 54, 'reading score': 52, 'writing score': 52}, {'gender': 'female', 'race': 'group E', 'math score': 62, 'reading score': 73, 'writing score': 70}, {'gender': 'female', 'race': 'group C', 'math score': 64, 'reading score': 73, 'writing score': 68}, {'gender': 'male', 'race': 'group C', 'math score': 78, 'reading score': 77, 'writing score': 77}, {'gender': 'female', 'race': 'group B', 'math score': 70, 'reading score': 75, 'writing score': 78}, {'gender': 'female', 'race': 'group C', 'math score': 65, 'reading score': 81, 'writing score': 81}, {'gender': 'female', 'race': 'group C', 'math score': 64, 'reading score': 79, 'writing score': 77}, {'gender': 'male', 'race': 'group C', 'math score': 79, 'reading score': 79, 'writing score': 78}, {'gender': 'female', 'race': 'group C', 'math score': 44, 'reading score': 50, 'writing score': 51}, {'gender': 'female', 'race': 'group E', 'math score': 99, 'reading score': 93, 'writing score': 90}, {'gender': 'male', 'race': 'group D', 'math score': 76, 'reading score': 73, 'writing score': 68}, {'gender': 'male', 'race': 'group D', 'math score': 59, 'reading score': 42, 'writing score': 41}, {'gender': 'female', 'race': 'group C', 'math score': 63, 'reading score': 75, 'writing score': 81}, {'gender': 'female', 'race': 'group D', 'math score': 69, 'reading score': 72, 'writing score': 77}, {'gender': 'female', 'race': 'group D', 'math score': 88, 'reading score': 92, 'writing score': 95}, {'gender': 'female', 'race': 'group E', 'math score': 71, 'reading score': 76, 'writing score': 70}, {'gender': 'male', 'race': 'group C', 'math score': 69, 'reading score': 63, 'writing score': 61}, {'gender': 'male', 'race': 'group C', 'math score': 58, 'reading score': 49, 'writing score': 42}, {'gender': 'female', 'race': 'group D', 'math score': 47, 'reading score': 53, 'writing score': 58}, {'gender': 'female', 'race': 'group D', 'math score': 65, 'reading score': 70, 'writing score': 71}, {'gender': 'male', 'race': 'group B', 'math score': 88, 'reading score': 85, 'writing score': 76}, {'gender': 'male', 'race': 'group C', 'math score': 83, 'reading score': 78, 'writing score': 73}, {'gender': 'female', 'race': 'group C', 'math score': 85, 'reading score': 92, 'writing score': 93}, {'gender': 'female', 'race': 'group E', 'math score': 59, 'reading score': 63, 'writing score': 75}, {'gender': 'female', 'race': 'group C', 'math score': 65, 'reading score': 86, 'writing score': 80}, {'gender': 'male', 'race': 'group B', 'math score': 73, 'reading score': 56, 'writing score': 57}, {'gender': 'male', 'race': 'group D', 'math score': 53, 'reading score': 52, 'writing score': 42}, {'gender': 'male', 'race': 'group D', 'math score': 45, 'reading score': 48, 'writing score': 46}, {'gender': 'female', 'race': 'group D', 'math score': 73, 'reading score': 79, 'writing score': 84}, {'gender': 'female', 'race': 'group D', 'math score': 70, 'reading score': 78, 'writing score': 78}, {'gender': 'female', 'race': 'group B', 'math score': 37, 'reading score': 46, 'writing score': 46}, {'gender': 'male', 'race': 'group B', 'math score': 81, 'reading score': 82, 'writing score': 82}, {'gender': 'male', 'race': 'group E', 'math score': 97, 'reading score': 82, 'writing score': 88}, {'gender': 'female', 'race': 'group B', 'math score': 67, 'reading score': 89, 'writing score': 82}, {'gender': 'male', 'race': 'group B', 'math score': 88, 'reading score': 75, 'writing score': 76}, {'gender': 'male', 'race': 'group E', 'math score': 77, 'reading score': 76, 'writing score': 77}, {'gender': 'male', 'race': 'group C', 'math score': 76, 'reading score': 70, 'writing score': 68}, {'gender': 'male', 'race': 'group D', 'math score': 86, 'reading score': 73, 'writing score': 70}, {'gender': 'male', 'race': 'group C', 'math score': 63, 'reading score': 60, 'writing score': 57}, {'gender': 'female', 'race': 'group E', 'math score': 65, 'reading score': 73, 'writing score': 75}, {'gender': 'male', 'race': 'group D', 'math score': 78, 'reading score': 77, 'writing score': 80}, {'gender': 'male', 'race': 'group B', 'math score': 67, 'reading score': 62, 'writing score': 60}, {'gender': 'male', 'race': 'group A', 'math score': 46, 'reading score': 41, 'writing score': 43}, {'gender': 'male', 'race': 'group E', 'math score': 71, 'reading score': 74, 'writing score': 68}, {'gender': 'male', 'race': 'group C', 'math score': 40, 'reading score': 46, 'writing score': 50}, {'gender': 'male', 'race': 'group D', 'math score': 90, 'reading score': 87, 'writing score': 75}, {'gender': 'male', 'race': 'group A', 'math score': 81, 'reading score': 78, 'writing score': 81}, {'gender': 'male', 'race': 'group D', 'math score': 56, 'reading score': 54, 'writing score': 52}, {'gender': 'female', 'race': 'group C', 'math score': 67, 'reading score': 84, 'writing score': 81}, {'gender': 'male', 'race': 'group B', 'math score': 80, 'reading score': 76, 'writing score': 64}, {'gender': 'female', 'race': 'group C', 'math score': 74, 'reading score': 75, 'writing score': 83}, {'gender': 'male', 'race': 'group A', 'math score': 69, 'reading score': 67, 'writing score': 69}, {'gender': 'male', 'race': 'group E', 'math score': 99, 'reading score': 87, 'writing score': 81}, {'gender': 'male', 'race': 'group C', 'math score': 51, 'reading score': 52, 'writing score': 44}, {'gender': 'female', 'race': 'group B', 'math score': 53, 'reading score': 71, 'writing score': 67}, {'gender': 'female', 'race': 'group D', 'math score': 49, 'reading score': 57, 'writing score': 52}, {'gender': 'female', 'race': 'group B', 'math score': 73, 'reading score': 76, 'writing score': 80}, {'gender': 'male', 'race': 'group B', 'math score': 66, 'reading score': 60, 'writing score': 57}, {'gender': 'male', 'race': 'group D', 'math score': 67, 'reading score': 61, 'writing score': 68}, {'gender': 'female', 'race': 'group C', 'math score': 68, 'reading score': 67, 'writing score': 69}, {'gender': 'female', 'race': 'group C', 'math score': 59, 'reading score': 64, 'writing score': 75}, {'gender': 'male', 'race': 'group C', 'math score': 71, 'reading score': 66, 'writing score': 65}, {'gender': 'female', 'race': 'group D', 'math score': 77, 'reading score': 82, 'writing score': 91}, {'gender': 'male', 'race': 'group C', 'math score': 83, 'reading score': 72, 'writing score': 78}, {'gender': 'male', 'race': 'group B', 'math score': 63, 'reading score': 71, 'writing score': 69}, {'gender': 'female', 'race': 'group D', 'math score': 56, 'reading score': 65, 'writing score': 63}, {'gender': 'female', 'race': 'group C', 'math score': 67, 'reading score': 79, 'writing score': 84}, {'gender': 'female', 'race': 'group E', 'math score': 75, 'reading score': 86, 'writing score': 79}, {'gender': 'female', 'race': 'group C', 'math score': 71, 'reading score': 81, 'writing score': 80}, {'gender': 'female', 'race': 'group C', 'math score': 43, 'reading score': 53, 'writing score': 53}, {'gender': 'female', 'race': 'group C', 'math score': 41, 'reading score': 46, 'writing score': 43}, {'gender': 'female', 'race': 'group C', 'math score': 82, 'reading score': 90, 'writing score': 94}, {'gender': 'male', 'race': 'group C', 'math score': 61, 'reading score': 61, 'writing score': 62}, {'gender': 'male', 'race': 'group A', 'math score': 28, 'reading score': 23, 'writing score': 19}, {'gender': 'male', 'race': 'group C', 'math score': 82, 'reading score': 75, 'writing score': 77}, {'gender': 'female', 'race': 'group B', 'math score': 41, 'reading score': 55, 'writing score': 51}, {'gender': 'male', 'race': 'group C', 'math score': 71, 'reading score': 60, 'writing score': 61}, {'gender': 'male', 'race': 'group C', 'math score': 47, 'reading score': 37, 'writing score': 35}, {'gender': 'male', 'race': 'group E', 'math score': 62, 'reading score': 56, 'writing score': 53}, {'gender': 'male', 'race': 'group B', 'math score': 90, 'reading score': 78, 'writing score': 81}, {'gender': 'female', 'race': 'group C', 'math score': 83, 'reading score': 93, 'writing score': 95}, {'gender': 'female', 'race': 'group B', 'math score': 61, 'reading score': 68, 'writing score': 66}, {'gender': 'male', 'race': 'group D', 'math score': 76, 'reading score': 70, 'writing score': 69}, {'gender': 'male', 'race': 'group C', 'math score': 49, 'reading score': 51, 'writing score': 43}, {'gender': 'female', 'race': 'group B', 'math score': 24, 'reading score': 38, 'writing score': 27}, {'gender': 'female', 'race': 'group D', 'math score': 35, 'reading score': 55, 'writing score': 60}, {'gender': 'male', 'race': 'group C', 'math score': 58, 'reading score': 61, 'writing score': 52}, {'gender': 'female', 'race': 'group C', 'math score': 61, 'reading score': 73, 'writing score': 63}, {'gender': 'female', 'race': 'group B', 'math score': 69, 'reading score': 76, 'writing score': 74}, {'gender': 'male', 'race': 'group D', 'math score': 67, 'reading score': 72, 'writing score': 67}, {'gender': 'male', 'race': 'group D', 'math score': 79, 'reading score': 73, 'writing score': 67}, {'gender': 'female', 'race': 'group C', 'math score': 72, 'reading score': 80, 'writing score': 75}, {'gender': 'male', 'race': 'group B', 'math score': 62, 'reading score': 61, 'writing score': 57}, {'gender': 'female', 'race': 'group C', 'math score': 77, 'reading score': 94, 'writing score': 95}, {'gender': 'male', 'race': 'group D', 'math score': 75, 'reading score': 74, 'writing score': 66}, {'gender': 'male', 'race': 'group E', 'math score': 87, 'reading score': 74, 'writing score': 76}, {'gender': 'female', 'race': 'group B', 'math score': 52, 'reading score': 65, 'writing score': 69}, {'gender': 'male', 'race': 'group E', 'math score': 66, 'reading score': 57, 'writing score': 52}, {'gender': 'female', 'race': 'group C', 'math score': 63, 'reading score': 78, 'writing score': 80}, {'gender': 'female', 'race': 'group C', 'math score': 46, 'reading score': 58, 'writing score': 57}, {'gender': 'female', 'race': 'group C', 'math score': 59, 'reading score': 71, 'writing score': 70}, {'gender': 'female', 'race': 'group B', 'math score': 61, 'reading score': 72, 'writing score': 70}, {'gender': 'male', 'race': 'group A', 'math score': 63, 'reading score': 61, 'writing score': 61}, {'gender': 'female', 'race': 'group C', 'math score': 42, 'reading score': 66, 'writing score': 69}, {'gender': 'male', 'race': 'group D', 'math score': 59, 'reading score': 62, 'writing score': 61}, {'gender': 'female', 'race': 'group D', 'math score': 80, 'reading score': 90, 'writing score': 89}, {'gender': 'female', 'race': 'group B', 'math score': 58, 'reading score': 62, 'writing score': 59}, {'gender': 'male', 'race': 'group B', 'math score': 85, 'reading score': 84, 'writing score': 78}, {'gender': 'female', 'race': 'group C', 'math score': 52, 'reading score': 58, 'writing score': 58}, {'gender': 'female', 'race': 'group D', 'math score': 27, 'reading score': 34, 'writing score': 32}, {'gender': 'male', 'race': 'group C', 'math score': 59, 'reading score': 60, 'writing score': 58}, {'gender': 'male', 'race': 'group A', 'math score': 49, 'reading score': 58, 'writing score': 60}, {'gender': 'male', 'race': 'group C', 'math score': 69, 'reading score': 58, 'writing score': 53}, {'gender': 'male', 'race': 'group C', 'math score': 61, 'reading score': 66, 'writing score': 61}, {'gender': 'female', 'race': 'group A', 'math score': 44, 'reading score': 64, 'writing score': 58}, {'gender': 'female', 'race': 'group D', 'math score': 73, 'reading score': 84, 'writing score': 85}, {'gender': 'male', 'race': 'group E', 'math score': 84, 'reading score': 77, 'writing score': 71}, {'gender': 'female', 'race': 'group C', 'math score': 45, 'reading score': 73, 'writing score': 70}, {'gender': 'male', 'race': 'group D', 'math score': 74, 'reading score': 74, 'writing score': 72}, {'gender': 'female', 'race': 'group D', 'math score': 82, 'reading score': 97, 'writing score': 96}, {'gender': 'female', 'race': 'group D', 'math score': 59, 'reading score': 70, 'writing score': 73}, {'gender': 'male', 'race': 'group E', 'math score': 46, 'reading score': 43, 'writing score': 41}, {'gender': 'female', 'race': 'group D', 'math score': 80, 'reading score': 90, 'writing score': 82}, {'gender': 'female', 'race': 'group D', 'math score': 85, 'reading score': 95, 'writing score': 100}, {'gender': 'female', 'race': 'group A', 'math score': 71, 'reading score': 83, 'writing score': 77}, {'gender': 'male', 'race': 'group A', 'math score': 66, 'reading score': 64, 'writing score': 62}, {'gender': 'female', 'race': 'group B', 'math score': 80, 'reading score': 86, 'writing score': 83}, {'gender': 'male', 'race': 'group C', 'math score': 87, 'reading score': 100, 'writing score': 95}, {'gender': 'male', 'race': 'group C', 'math score': 79, 'reading score': 81, 'writing score': 71}, {'gender': 'female', 'race': 'group E', 'math score': 38, 'reading score': 49, 'writing score': 45}, {'gender': 'female', 'race': 'group A', 'math score': 38, 'reading score': 43, 'writing score': 43}, {'gender': 'female', 'race': 'group E', 'math score': 67, 'reading score': 76, 'writing score': 75}, {'gender': 'female', 'race': 'group E', 'math score': 64, 'reading score': 73, 'writing score': 70}, {'gender': 'female', 'race': 'group C', 'math score': 57, 'reading score': 78, 'writing score': 67}, {'gender': 'female', 'race': 'group D', 'math score': 62, 'reading score': 64, 'writing score': 64}, {'gender': 'male', 'race': 'group D', 'math score': 73, 'reading score': 70, 'writing score': 75}, {'gender': 'male', 'race': 'group E', 'math score': 73, 'reading score': 67, 'writing score': 59}, {'gender': 'female', 'race': 'group D', 'math score': 77, 'reading score': 68, 'writing score': 77}, {'gender': 'male', 'race': 'group E', 'math score': 76, 'reading score': 67, 'writing score': 67}, {'gender': 'male', 'race': 'group C', 'math score': 57, 'reading score': 54, 'writing score': 56}, {'gender': 'female', 'race': 'group C', 'math score': 65, 'reading score': 74, 'writing score': 77}, {'gender': 'male', 'race': 'group A', 'math score': 48, 'reading score': 45, 'writing score': 41}, {'gender': 'female', 'race': 'group B', 'math score': 50, 'reading score': 67, 'writing score': 63}, {'gender': 'female', 'race': 'group C', 'math score': 85, 'reading score': 89, 'writing score': 95}, {'gender': 'male', 'race': 'group B', 'math score': 74, 'reading score': 63, 'writing score': 57}, {'gender': 'male', 'race': 'group D', 'math score': 60, 'reading score': 59, 'writing score': 54}, {'gender': 'female', 'race': 'group C', 'math score': 59, 'reading score': 54, 'writing score': 67}, {'gender': 'male', 'race': 'group A', 'math score': 53, 'reading score': 43, 'writing score': 43}, {'gender': 'female', 'race': 'group A', 'math score': 49, 'reading score': 65, 'writing score': 55}, {'gender': 'female', 'race': 'group D', 'math score': 88, 'reading score': 99, 'writing score': 100}, {'gender': 'female', 'race': 'group C', 'math score': 54, 'reading score': 59, 'writing score': 62}, {'gender': 'female', 'race': 'group C', 'math score': 63, 'reading score': 73, 'writing score': 68}, {'gender': 'male', 'race': 'group B', 'math score': 65, 'reading score': 65, 'writing score': 63}, {'gender': 'female', 'race': 'group B', 'math score': 82, 'reading score': 80, 'writing score': 77}, {'gender': 'female', 'race': 'group D', 'math score': 52, 'reading score': 57, 'writing score': 56}, {'gender': 'male', 'race': 'group D', 'math score': 87, 'reading score': 84, 'writing score': 85}, {'gender': 'female', 'race': 'group D', 'math score': 70, 'reading score': 71, 'writing score': 74}, {'gender': 'male', 'race': 'group E', 'math score': 84, 'reading score': 83, 'writing score': 78}, {'gender': 'male', 'race': 'group D', 'math score': 71, 'reading score': 66, 'writing score': 60}, {'gender': 'male', 'race': 'group B', 'math score': 63, 'reading score': 67, 'writing score': 67}, {'gender': 'female', 'race': 'group C', 'math score': 51, 'reading score': 72, 'writing score': 79}, {'gender': 'male', 'race': 'group E', 'math score': 84, 'reading score': 73, 'writing score': 69}, {'gender': 'male', 'race': 'group C', 'math score': 71, 'reading score': 74, 'writing score': 68}, {'gender': 'male', 'race': 'group C', 'math score': 74, 'reading score': 73, 'writing score': 67}, {'gender': 'male', 'race': 'group D', 'math score': 68, 'reading score': 59, 'writing score': 62}, {'gender': 'male', 'race': 'group E', 'math score': 57, 'reading score': 56, 'writing score': 54}, {'gender': 'female', 'race': 'group C', 'math score': 82, 'reading score': 93, 'writing score': 93}, {'gender': 'female', 'race': 'group D', 'math score': 57, 'reading score': 58, 'writing score': 64}, {'gender': 'female', 'race': 'group D', 'math score': 47, 'reading score': 58, 'writing score': 67}, {'gender': 'female', 'race': 'group A', 'math score': 59, 'reading score': 85, 'writing score': 80}, {'gender': 'male', 'race': 'group B', 'math score': 41, 'reading score': 39, 'writing score': 34}, {'gender': 'female', 'race': 'group C', 'math score': 62, 'reading score': 67, 'writing score': 62}, {'gender': 'male', 'race': 'group C', 'math score': 86, 'reading score': 83, 'writing score': 86}, {'gender': 'male', 'race': 'group C', 'math score': 69, 'reading score': 71, 'writing score': 65}, {'gender': 'male', 'race': 'group A', 'math score': 65, 'reading score': 59, 'writing score': 53}, {'gender': 'male', 'race': 'group C', 'math score': 68, 'reading score': 63, 'writing score': 54}, {'gender': 'male', 'race': 'group C', 'math score': 64, 'reading score': 66, 'writing score': 59}, {'gender': 'female', 'race': 'group C', 'math score': 61, 'reading score': 72, 'writing score': 70}, {'gender': 'male', 'race': 'group C', 'math score': 61, 'reading score': 56, 'writing score': 55}, {'gender': 'female', 'race': 'group A', 'math score': 47, 'reading score': 59, 'writing score': 50}, {'gender': 'male', 'race': 'group C', 'math score': 73, 'reading score': 66, 'writing score': 66}, {'gender': 'male', 'race': 'group C', 'math score': 50, 'reading score': 48, 'writing score': 53}, {'gender': 'male', 'race': 'group D', 'math score': 75, 'reading score': 68, 'writing score': 64}, {'gender': 'male', 'race': 'group D', 'math score': 75, 'reading score': 66, 'writing score': 73}, {'gender': 'male', 'race': 'group C', 'math score': 70, 'reading score': 56, 'writing score': 51}, {'gender': 'male', 'race': 'group D', 'math score': 89, 'reading score': 88, 'writing score': 82}, {'gender': 'female', 'race': 'group C', 'math score': 67, 'reading score': 81, 'writing score': 79}, {'gender': 'female', 'race': 'group D', 'math score': 78, 'reading score': 81, 'writing score': 80}, {'gender': 'female', 'race': 'group A', 'math score': 59, 'reading score': 73, 'writing score': 69}, {'gender': 'female', 'race': 'group B', 'math score': 73, 'reading score': 83, 'writing score': 76}, {'gender': 'male', 'race': 'group A', 'math score': 79, 'reading score': 82, 'writing score': 73}, {'gender': 'female', 'race': 'group C', 'math score': 67, 'reading score': 74, 'writing score': 77}, {'gender': 'male', 'race': 'group D', 'math score': 69, 'reading score': 66, 'writing score': 60}, {'gender': 'male', 'race': 'group C', 'math score': 86, 'reading score': 81, 'writing score': 80}, {'gender': 'male', 'race': 'group B', 'math score': 47, 'reading score': 46, 'writing score': 42}, {'gender': 'male', 'race': 'group B', 'math score': 81, 'reading score': 73, 'writing score': 72}, {'gender': 'female', 'race': 'group C', 'math score': 64, 'reading score': 85, 'writing score': 85}, {'gender': 'female', 'race': 'group E', 'math score': 100, 'reading score': 92, 'writing score': 97}, {'gender': 'female', 'race': 'group C', 'math score': 65, 'reading score': 77, 'writing score': 74}, {'gender': 'male', 'race': 'group C', 'math score': 65, 'reading score': 58, 'writing score': 49}, {'gender': 'female', 'race': 'group C', 'math score': 53, 'reading score': 61, 'writing score': 62}, {'gender': 'male', 'race': 'group C', 'math score': 37, 'reading score': 56, 'writing score': 47}, {'gender': 'female', 'race': 'group D', 'math score': 79, 'reading score': 89, 'writing score': 89}, {'gender': 'male', 'race': 'group D', 'math score': 53, 'reading score': 54, 'writing score': 48}, {'gender': 'female', 'race': 'group E', 'math score': 100, 'reading score': 100, 'writing score': 100}, {'gender': 'male', 'race': 'group B', 'math score': 72, 'reading score': 65, 'writing score': 68}, {'gender': 'male', 'race': 'group C', 'math score': 53, 'reading score': 58, 'writing score': 55}, {'gender': 'male', 'race': 'group B', 'math score': 54, 'reading score': 54, 'writing score': 45}, {'gender': 'female', 'race': 'group E', 'math score': 71, 'reading score': 70, 'writing score': 76}, {'gender': 'female', 'race': 'group C', 'math score': 77, 'reading score': 90, 'writing score': 91}, {'gender': 'male', 'race': 'group A', 'math score': 75, 'reading score': 58, 'writing score': 62}, {'gender': 'female', 'race': 'group C', 'math score': 84, 'reading score': 87, 'writing score': 91}, {'gender': 'female', 'race': 'group D', 'math score': 26, 'reading score': 31, 'writing score': 38}, {'gender': 'male', 'race': 'group A', 'math score': 72, 'reading score': 67, 'writing score': 65}, {'gender': 'female', 'race': 'group A', 'math score': 77, 'reading score': 88, 'writing score': 85}, {'gender': 'male', 'race': 'group C', 'math score': 91, 'reading score': 74, 'writing score': 76}, {'gender': 'female', 'race': 'group C', 'math score': 83, 'reading score': 85, 'writing score': 90}, {'gender': 'female', 'race': 'group C', 'math score': 63, 'reading score': 69, 'writing score': 74}, {'gender': 'female', 'race': 'group C', 'math score': 68, 'reading score': 86, 'writing score': 84}, {'gender': 'female', 'race': 'group D', 'math score': 59, 'reading score': 67, 'writing score': 61}, {'gender': 'female', 'race': 'group B', 'math score': 90, 'reading score': 90, 'writing score': 91}, {'gender': 'female', 'race': 'group D', 'math score': 71, 'reading score': 76, 'writing score': 83}, {'gender': 'male', 'race': 'group E', 'math score': 76, 'reading score': 62, 'writing score': 66}, {'gender': 'male', 'race': 'group D', 'math score': 80, 'reading score': 68, 'writing score': 72}, {'gender': 'female', 'race': 'group D', 'math score': 55, 'reading score': 64, 'writing score': 70}, {'gender': 'male', 'race': 'group E', 'math score': 76, 'reading score': 71, 'writing score': 67}, {'gender': 'male', 'race': 'group B', 'math score': 73, 'reading score': 71, 'writing score': 68}, {'gender': 'female', 'race': 'group D', 'math score': 52, 'reading score': 59, 'writing score': 56}, {'gender': 'male', 'race': 'group C', 'math score': 68, 'reading score': 68, 'writing score': 61}, {'gender': 'male', 'race': 'group A', 'math score': 59, 'reading score': 52, 'writing score': 46}, {'gender': 'female', 'race': 'group B', 'math score': 49, 'reading score': 52, 'writing score': 54}, {'gender': 'male', 'race': 'group C', 'math score': 70, 'reading score': 74, 'writing score': 71}, {'gender': 'male', 'race': 'group D', 'math score': 61, 'reading score': 47, 'writing score': 56}, {'gender': 'female', 'race': 'group C', 'math score': 60, 'reading score': 75, 'writing score': 74}, {'gender': 'male', 'race': 'group B', 'math score': 64, 'reading score': 53, 'writing score': 57}, {'gender': 'male', 'race': 'group A', 'math score': 79, 'reading score': 82, 'writing score': 82}, {'gender': 'female', 'race': 'group A', 'math score': 65, 'reading score': 85, 'writing score': 76}, {'gender': 'female', 'race': 'group C', 'math score': 64, 'reading score': 64, 'writing score': 70}, {'gender': 'female', 'race': 'group C', 'math score': 83, 'reading score': 83, 'writing score': 90}, {'gender': 'female', 'race': 'group C', 'math score': 81, 'reading score': 88, 'writing score': 90}, {'gender': 'female', 'race': 'group B', 'math score': 54, 'reading score': 64, 'writing score': 68}, {'gender': 'male', 'race': 'group D', 'math score': 68, 'reading score': 64, 'writing score': 66}, {'gender': 'female', 'race': 'group C', 'math score': 54, 'reading score': 48, 'writing score': 52}, {'gender': 'female', 'race': 'group D', 'math score': 59, 'reading score': 78, 'writing score': 76}, {'gender': 'female', 'race': 'group B', 'math score': 66, 'reading score': 69, 'writing score': 68}, {'gender': 'male', 'race': 'group E', 'math score': 76, 'reading score': 71, 'writing score': 72}, {'gender': 'female', 'race': 'group D', 'math score': 74, 'reading score': 79, 'writing score': 82}, {'gender': 'female', 'race': 'group B', 'math score': 94, 'reading score': 87, 'writing score': 92}, {'gender': 'male', 'race': 'group C', 'math score': 63, 'reading score': 61, 'writing score': 54}, {'gender': 'female', 'race': 'group E', 'math score': 95, 'reading score': 89, 'writing score': 92}, {'gender': 'female', 'race': 'group D', 'math score': 40, 'reading score': 59, 'writing score': 54}, {'gender': 'female', 'race': 'group B', 'math score': 82, 'reading score': 82, 'writing score': 80}, {'gender': 'male', 'race': 'group A', 'math score': 68, 'reading score': 70, 'writing score': 66}, {'gender': 'male', 'race': 'group B', 'math score': 55, 'reading score': 59, 'writing score': 54}, {'gender': 'male', 'race': 'group C', 'math score': 79, 'reading score': 78, 'writing score': 77}, {'gender': 'female', 'race': 'group C', 'math score': 86, 'reading score': 92, 'writing score': 87}, {'gender': 'male', 'race': 'group D', 'math score': 76, 'reading score': 71, 'writing score': 73}, {'gender': 'male', 'race': 'group A', 'math score': 64, 'reading score': 50, 'writing score': 43}, {'gender': 'male', 'race': 'group D', 'math score': 62, 'reading score': 49, 'writing score': 52}, {'gender': 'female', 'race': 'group B', 'math score': 54, 'reading score': 61, 'writing score': 62}, {'gender': 'female', 'race': 'group B', 'math score': 77, 'reading score': 97, 'writing score': 94}, {'gender': 'female', 'race': 'group C', 'math score': 76, 'reading score': 87, 'writing score': 85}, {'gender': 'female', 'race': 'group D', 'math score': 74, 'reading score': 89, 'writing score': 84}, {'gender': 'female', 'race': 'group E', 'math score': 66, 'reading score': 74, 'writing score': 73}, {'gender': 'female', 'race': 'group D', 'math score': 66, 'reading score': 78, 'writing score': 78}, {'gender': 'female', 'race': 'group B', 'math score': 67, 'reading score': 78, 'writing score': 79}, {'gender': 'male', 'race': 'group D', 'math score': 71, 'reading score': 49, 'writing score': 52}, {'gender': 'female', 'race': 'group C', 'math score': 91, 'reading score': 86, 'writing score': 84}, {'gender': 'male', 'race': 'group D', 'math score': 69, 'reading score': 58, 'writing score': 57}, {'gender': 'male', 'race': 'group C', 'math score': 54, 'reading score': 59, 'writing score': 50}, {'gender': 'male', 'race': 'group C', 'math score': 53, 'reading score': 52, 'writing score': 49}, {'gender': 'male', 'race': 'group E', 'math score': 68, 'reading score': 60, 'writing score': 59}, {'gender': 'male', 'race': 'group C', 'math score': 56, 'reading score': 61, 'writing score': 60}, {'gender': 'female', 'race': 'group C', 'math score': 36, 'reading score': 53, 'writing score': 43}, {'gender': 'female', 'race': 'group D', 'math score': 29, 'reading score': 41, 'writing score': 47}, {'gender': 'female', 'race': 'group C', 'math score': 62, 'reading score': 74, 'writing score': 70}, {'gender': 'female', 'race': 'group C', 'math score': 68, 'reading score': 67, 'writing score': 73}, {'gender': 'female', 'race': 'group C', 'math score': 47, 'reading score': 54, 'writing score': 53}, {'gender': 'male', 'race': 'group E', 'math score': 62, 'reading score': 61, 'writing score': 58}, {'gender': 'female', 'race': 'group E', 'math score': 79, 'reading score': 88, 'writing score': 94}, {'gender': 'male', 'race': 'group B', 'math score': 73, 'reading score': 69, 'writing score': 68}, {'gender': 'female', 'race': 'group C', 'math score': 66, 'reading score': 83, 'writing score': 83}, {'gender': 'male', 'race': 'group C', 'math score': 51, 'reading score': 60, 'writing score': 58}, {'gender': 'female', 'race': 'group D', 'math score': 51, 'reading score': 66, 'writing score': 62}, {'gender': 'male', 'race': 'group E', 'math score': 85, 'reading score': 66, 'writing score': 71}, {'gender': 'male', 'race': 'group A', 'math score': 97, 'reading score': 92, 'writing score': 86}, {'gender': 'male', 'race': 'group C', 'math score': 75, 'reading score': 69, 'writing score': 68}, {'gender': 'male', 'race': 'group D', 'math score': 79, 'reading score': 82, 'writing score': 80}, {'gender': 'female', 'race': 'group C', 'math score': 81, 'reading score': 77, 'writing score': 79}, {'gender': 'female', 'race': 'group D', 'math score': 82, 'reading score': 95, 'writing score': 89}, {'gender': 'female', 'race': 'group D', 'math score': 64, 'reading score': 63, 'writing score': 66}, {'gender': 'male', 'race': 'group E', 'math score': 78, 'reading score': 83, 'writing score': 80}, {'gender': 'female', 'race': 'group A', 'math score': 92, 'reading score': 100, 'writing score': 97}, {'gender': 'male', 'race': 'group C', 'math score': 72, 'reading score': 67, 'writing score': 64}, {'gender': 'female', 'race': 'group C', 'math score': 62, 'reading score': 67, 'writing score': 64}, {'gender': 'male', 'race': 'group C', 'math score': 79, 'reading score': 72, 'writing score': 69}, {'gender': 'male', 'race': 'group C', 'math score': 79, 'reading score': 76, 'writing score': 65}, {'gender': 'male', 'race': 'group B', 'math score': 87, 'reading score': 90, 'writing score': 88}, {'gender': 'female', 'race': 'group B', 'math score': 40, 'reading score': 48, 'writing score': 50}, {'gender': 'male', 'race': 'group D', 'math score': 77, 'reading score': 62, 'writing score': 64}, {'gender': 'male', 'race': 'group E', 'math score': 53, 'reading score': 45, 'writing score': 40}, {'gender': 'female', 'race': 'group C', 'math score': 32, 'reading score': 39, 'writing score': 33}, {'gender': 'female', 'race': 'group C', 'math score': 55, 'reading score': 72, 'writing score': 79}, {'gender': 'male', 'race': 'group C', 'math score': 61, 'reading score': 67, 'writing score': 66}, {'gender': 'female', 'race': 'group B', 'math score': 53, 'reading score': 70, 'writing score': 70}, {'gender': 'male', 'race': 'group D', 'math score': 73, 'reading score': 66, 'writing score': 62}, {'gender': 'female', 'race': 'group D', 'math score': 74, 'reading score': 75, 'writing score': 79}, {'gender': 'female', 'race': 'group C', 'math score': 63, 'reading score': 74, 'writing score': 74}, {'gender': 'male', 'race': 'group C', 'math score': 96, 'reading score': 90, 'writing score': 92}, {'gender': 'female', 'race': 'group D', 'math score': 63, 'reading score': 80, 'writing score': 80}, {'gender': 'male', 'race': 'group B', 'math score': 48, 'reading score': 51, 'writing score': 46}, {'gender': 'male', 'race': 'group B', 'math score': 48, 'reading score': 43, 'writing score': 45}, {'gender': 'female', 'race': 'group E', 'math score': 92, 'reading score': 100, 'writing score': 100}, {'gender': 'female', 'race': 'group D', 'math score': 61, 'reading score': 71, 'writing score': 78}, {'gender': 'male', 'race': 'group B', 'math score': 63, 'reading score': 48, 'writing score': 47}, {'gender': 'male', 'race': 'group D', 'math score': 68, 'reading score': 68, 'writing score': 67}, {'gender': 'male', 'race': 'group B', 'math score': 71, 'reading score': 75, 'writing score': 70}, {'gender': 'male', 'race': 'group A', 'math score': 91, 'reading score': 96, 'writing score': 92}, {'gender': 'female', 'race': 'group C', 'math score': 53, 'reading score': 62, 'writing score': 56}, {'gender': 'female', 'race': 'group C', 'math score': 50, 'reading score': 66, 'writing score': 64}, {'gender': 'female', 'race': 'group E', 'math score': 74, 'reading score': 81, 'writing score': 71}, {'gender': 'male', 'race': 'group A', 'math score': 40, 'reading score': 55, 'writing score': 53}, {'gender': 'male', 'race': 'group A', 'math score': 61, 'reading score': 51, 'writing score': 52}, {'gender': 'female', 'race': 'group B', 'math score': 81, 'reading score': 91, 'writing score': 89}, {'gender': 'female', 'race': 'group B', 'math score': 48, 'reading score': 56, 'writing score': 58}, {'gender': 'female', 'race': 'group D', 'math score': 53, 'reading score': 61, 'writing score': 68}, {'gender': 'female', 'race': 'group D', 'math score': 81, 'reading score': 97, 'writing score': 96}, {'gender': 'female', 'race': 'group E', 'math score': 77, 'reading score': 79, 'writing score': 80}, {'gender': 'female', 'race': 'group D', 'math score': 63, 'reading score': 73, 'writing score': 78}, {'gender': 'female', 'race': 'group D', 'math score': 73, 'reading score': 75, 'writing score': 80}, {'gender': 'female', 'race': 'group D', 'math score': 69, 'reading score': 77, 'writing score': 77}, {'gender': 'female', 'race': 'group C', 'math score': 65, 'reading score': 76, 'writing score': 76}, {'gender': 'female', 'race': 'group A', 'math score': 55, 'reading score': 73, 'writing score': 73}, {'gender': 'female', 'race': 'group C', 'math score': 44, 'reading score': 63, 'writing score': 62}, {'gender': 'female', 'race': 'group C', 'math score': 54, 'reading score': 64, 'writing score': 65}, {'gender': 'female', 'race': 'group A', 'math score': 48, 'reading score': 66, 'writing score': 65}, {'gender': 'male', 'race': 'group C', 'math score': 58, 'reading score': 57, 'writing score': 54}, {'gender': 'male', 'race': 'group A', 'math score': 71, 'reading score': 62, 'writing score': 50}, {'gender': 'male', 'race': 'group E', 'math score': 68, 'reading score': 68, 'writing score': 64}, {'gender': 'female', 'race': 'group E', 'math score': 74, 'reading score': 76, 'writing score': 73}, {'gender': 'female', 'race': 'group C', 'math score': 92, 'reading score': 100, 'writing score': 99}, {'gender': 'female', 'race': 'group C', 'math score': 56, 'reading score': 79, 'writing score': 72}, {'gender': 'male', 'race': 'group B', 'math score': 30, 'reading score': 24, 'writing score': 15}, {'gender': 'male', 'race': 'group A', 'math score': 53, 'reading score': 54, 'writing score': 48}, {'gender': 'female', 'race': 'group D', 'math score': 69, 'reading score': 77, 'writing score': 73}, {'gender': 'female', 'race': 'group D', 'math score': 65, 'reading score': 82, 'writing score': 81}, {'gender': 'female', 'race': 'group D', 'math score': 54, 'reading score': 60, 'writing score': 63}, {'gender': 'female', 'race': 'group C', 'math score': 29, 'reading score': 29, 'writing score': 30}, {'gender': 'female', 'race': 'group E', 'math score': 76, 'reading score': 78, 'writing score': 80}, {'gender': 'male', 'race': 'group D', 'math score': 60, 'reading score': 57, 'writing score': 51}, {'gender': 'male', 'race': 'group D', 'math score': 84, 'reading score': 89, 'writing score': 90}, {'gender': 'male', 'race': 'group C', 'math score': 75, 'reading score': 72, 'writing score': 62}, {'gender': 'female', 'race': 'group C', 'math score': 85, 'reading score': 84, 'writing score': 82}, {'gender': 'female', 'race': 'group C', 'math score': 40, 'reading score': 58, 'writing score': 54}, {'gender': 'female', 'race': 'group E', 'math score': 61, 'reading score': 64, 'writing score': 62}, {'gender': 'female', 'race': 'group B', 'math score': 58, 'reading score': 63, 'writing score': 65}, {'gender': 'male', 'race': 'group D', 'math score': 69, 'reading score': 60, 'writing score': 63}, {'gender': 'female', 'race': 'group C', 'math score': 58, 'reading score': 59, 'writing score': 66}, {'gender': 'male', 'race': 'group C', 'math score': 94, 'reading score': 90, 'writing score': 91}, {'gender': 'female', 'race': 'group C', 'math score': 65, 'reading score': 77, 'writing score': 74}, {'gender': 'female', 'race': 'group A', 'math score': 82, 'reading score': 93, 'writing score': 93}, {'gender': 'female', 'race': 'group C', 'math score': 60, 'reading score': 68, 'writing score': 72}, {'gender': 'female', 'race': 'group E', 'math score': 37, 'reading score': 45, 'writing score': 38}, {'gender': 'male', 'race': 'group D', 'math score': 88, 'reading score': 78, 'writing score': 83}, {'gender': 'male', 'race': 'group D', 'math score': 95, 'reading score': 81, 'writing score': 84}, {'gender': 'male', 'race': 'group C', 'math score': 65, 'reading score': 73, 'writing score': 68}, {'gender': 'female', 'race': 'group C', 'math score': 35, 'reading score': 61, 'writing score': 54}, {'gender': 'male', 'race': 'group B', 'math score': 62, 'reading score': 63, 'writing score': 56}, {'gender': 'male', 'race': 'group C', 'math score': 58, 'reading score': 51, 'writing score': 52}, {'gender': 'male', 'race': 'group A', 'math score': 100, 'reading score': 96, 'writing score': 86}, {'gender': 'female', 'race': 'group E', 'math score': 61, 'reading score': 58, 'writing score': 62}, {'gender': 'male', 'race': 'group D', 'math score': 100, 'reading score': 97, 'writing score': 99}, {'gender': 'male', 'race': 'group B', 'math score': 69, 'reading score': 70, 'writing score': 63}, {'gender': 'male', 'race': 'group D', 'math score': 61, 'reading score': 48, 'writing score': 46}, {'gender': 'male', 'race': 'group D', 'math score': 49, 'reading score': 57, 'writing score': 46}, {'gender': 'female', 'race': 'group C', 'math score': 44, 'reading score': 51, 'writing score': 55}, {'gender': 'male', 'race': 'group D', 'math score': 67, 'reading score': 64, 'writing score': 70}, {'gender': 'male', 'race': 'group B', 'math score': 79, 'reading score': 60, 'writing score': 65}, {'gender': 'female', 'race': 'group B', 'math score': 66, 'reading score': 74, 'writing score': 81}, {'gender': 'female', 'race': 'group C', 'math score': 75, 'reading score': 88, 'writing score': 85}, {'gender': 'male', 'race': 'group D', 'math score': 84, 'reading score': 84, 'writing score': 80}, {'gender': 'male', 'race': 'group A', 'math score': 71, 'reading score': 74, 'writing score': 64}, {'gender': 'female', 'race': 'group B', 'math score': 67, 'reading score': 80, 'writing score': 81}, {'gender': 'female', 'race': 'group D', 'math score': 80, 'reading score': 92, 'writing score': 88}, {'gender': 'male', 'race': 'group E', 'math score': 86, 'reading score': 76, 'writing score': 74}, {'gender': 'female', 'race': 'group D', 'math score': 76, 'reading score': 74, 'writing score': 73}, {'gender': 'male', 'race': 'group D', 'math score': 41, 'reading score': 52, 'writing score': 51}, {'gender': 'female', 'race': 'group D', 'math score': 74, 'reading score': 88, 'writing score': 90}, {'gender': 'female', 'race': 'group B', 'math score': 72, 'reading score': 81, 'writing score': 79}, {'gender': 'female', 'race': 'group E', 'math score': 74, 'reading score': 79, 'writing score': 80}, {'gender': 'male', 'race': 'group B', 'math score': 70, 'reading score': 65, 'writing score': 60}, {'gender': 'female', 'race': 'group B', 'math score': 65, 'reading score': 81, 'writing score': 81}, {'gender': 'female', 'race': 'group D', 'math score': 59, 'reading score': 70, 'writing score': 65}, {'gender': 'female', 'race': 'group E', 'math score': 64, 'reading score': 62, 'writing score': 68}, {'gender': 'female', 'race': 'group B', 'math score': 50, 'reading score': 53, 'writing score': 55}, {'gender': 'female', 'race': 'group D', 'math score': 69, 'reading score': 79, 'writing score': 81}, {'gender': 'male', 'race': 'group C', 'math score': 51, 'reading score': 56, 'writing score': 53}, {'gender': 'female', 'race': 'group A', 'math score': 68, 'reading score': 80, 'writing score': 76}, {'gender': 'female', 'race': 'group D', 'math score': 85, 'reading score': 86, 'writing score': 98}, {'gender': 'female', 'race': 'group A', 'math score': 65, 'reading score': 70, 'writing score': 74}, {'gender': 'female', 'race': 'group B', 'math score': 73, 'reading score': 79, 'writing score': 79}, {'gender': 'female', 'race': 'group B', 'math score': 62, 'reading score': 67, 'writing score': 67}, {'gender': 'male', 'race': 'group C', 'math score': 77, 'reading score': 67, 'writing score': 64}, {'gender': 'male', 'race': 'group D', 'math score': 69, 'reading score': 66, 'writing score': 61}, {'gender': 'female', 'race': 'group D', 'math score': 43, 'reading score': 60, 'writing score': 58}, {'gender': 'male', 'race': 'group D', 'math score': 90, 'reading score': 87, 'writing score': 85}, {'gender': 'male', 'race': 'group C', 'math score': 74, 'reading score': 77, 'writing score': 73}, {'gender': 'male', 'race': 'group C', 'math score': 73, 'reading score': 66, 'writing score': 63}, {'gender': 'female', 'race': 'group D', 'math score': 55, 'reading score': 71, 'writing score': 69}, {'gender': 'female', 'race': 'group C', 'math score': 65, 'reading score': 69, 'writing score': 67}, {'gender': 'male', 'race': 'group D', 'math score': 80, 'reading score': 63, 'writing score': 63}, {'gender': 'female', 'race': 'group C', 'math score': 50, 'reading score': 60, 'writing score': 60}, {'gender': 'female', 'race': 'group C', 'math score': 63, 'reading score': 73, 'writing score': 71}, {'gender': 'female', 'race': 'group B', 'math score': 77, 'reading score': 85, 'writing score': 87}, {'gender': 'male', 'race': 'group C', 'math score': 73, 'reading score': 74, 'writing score': 61}, {'gender': 'male', 'race': 'group D', 'math score': 81, 'reading score': 72, 'writing score': 77}, {'gender': 'female', 'race': 'group C', 'math score': 66, 'reading score': 76, 'writing score': 68}, {'gender': 'male', 'race': 'group D', 'math score': 52, 'reading score': 57, 'writing score': 50}, {'gender': 'female', 'race': 'group C', 'math score': 69, 'reading score': 78, 'writing score': 76}, {'gender': 'female', 'race': 'group C', 'math score': 65, 'reading score': 84, 'writing score': 84}, {'gender': 'female', 'race': 'group D', 'math score': 69, 'reading score': 77, 'writing score': 78}, {'gender': 'female', 'race': 'group B', 'math score': 50, 'reading score': 64, 'writing score': 66}, {'gender': 'female', 'race': 'group E', 'math score': 73, 'reading score': 78, 'writing score': 76}, {'gender': 'female', 'race': 'group C', 'math score': 70, 'reading score': 82, 'writing score': 76}, {'gender': 'male', 'race': 'group D', 'math score': 81, 'reading score': 75, 'writing score': 78}, {'gender': 'male', 'race': 'group D', 'math score': 63, 'reading score': 61, 'writing score': 60}, {'gender': 'female', 'race': 'group D', 'math score': 67, 'reading score': 72, 'writing score': 74}, {'gender': 'male', 'race': 'group B', 'math score': 60, 'reading score': 68, 'writing score': 60}, {'gender': 'male', 'race': 'group B', 'math score': 62, 'reading score': 55, 'writing score': 54}, {'gender': 'female', 'race': 'group C', 'math score': 29, 'reading score': 40, 'writing score': 44}, {'gender': 'male', 'race': 'group B', 'math score': 62, 'reading score': 66, 'writing score': 68}, {'gender': 'female', 'race': 'group E', 'math score': 94, 'reading score': 99, 'writing score': 100}, {'gender': 'male', 'race': 'group E', 'math score': 85, 'reading score': 75, 'writing score': 68}, {'gender': 'male', 'race': 'group D', 'math score': 77, 'reading score': 78, 'writing score': 73}, {'gender': 'male', 'race': 'group A', 'math score': 53, 'reading score': 58, 'writing score': 44}, {'gender': 'male', 'race': 'group E', 'math score': 93, 'reading score': 90, 'writing score': 83}, {'gender': 'female', 'race': 'group C', 'math score': 49, 'reading score': 53, 'writing score': 53}, {'gender': 'female', 'race': 'group E', 'math score': 73, 'reading score': 76, 'writing score': 78}, {'gender': 'female', 'race': 'group C', 'math score': 66, 'reading score': 74, 'writing score': 81}, {'gender': 'female', 'race': 'group D', 'math score': 77, 'reading score': 77, 'writing score': 73}, {'gender': 'female', 'race': 'group C', 'math score': 49, 'reading score': 63, 'writing score': 56}, {'gender': 'female', 'race': 'group D', 'math score': 79, 'reading score': 89, 'writing score': 86}, {'gender': 'female', 'race': 'group C', 'math score': 75, 'reading score': 82, 'writing score': 90}, {'gender': 'female', 'race': 'group A', 'math score': 59, 'reading score': 72, 'writing score': 70}, {'gender': 'female', 'race': 'group D', 'math score': 57, 'reading score': 78, 'writing score': 79}, {'gender': 'male', 'race': 'group C', 'math score': 66, 'reading score': 66, 'writing score': 59}, {'gender': 'female', 'race': 'group E', 'math score': 79, 'reading score': 81, 'writing score': 82}, {'gender': 'female', 'race': 'group B', 'math score': 57, 'reading score': 67, 'writing score': 72}, {'gender': 'male', 'race': 'group A', 'math score': 87, 'reading score': 84, 'writing score': 87}, {'gender': 'female', 'race': 'group D', 'math score': 63, 'reading score': 64, 'writing score': 67}, {'gender': 'female', 'race': 'group B', 'math score': 59, 'reading score': 63, 'writing score': 64}, {'gender': 'male', 'race': 'group A', 'math score': 62, 'reading score': 72, 'writing score': 65}, {'gender': 'male', 'race': 'group D', 'math score': 46, 'reading score': 34, 'writing score': 36}, {'gender': 'male', 'race': 'group C', 'math score': 66, 'reading score': 59, 'writing score': 52}, {'gender': 'male', 'race': 'group D', 'math score': 89, 'reading score': 87, 'writing score': 79}, {'gender': 'female', 'race': 'group D', 'math score': 42, 'reading score': 61, 'writing score': 58}, {'gender': 'male', 'race': 'group C', 'math score': 93, 'reading score': 84, 'writing score': 90}, {'gender': 'female', 'race': 'group E', 'math score': 80, 'reading score': 85, 'writing score': 85}, {'gender': 'female', 'race': 'group D', 'math score': 98, 'reading score': 100, 'writing score': 99}, {'gender': 'male', 'race': 'group D', 'math score': 81, 'reading score': 81, 'writing score': 84}, {'gender': 'female', 'race': 'group B', 'math score': 60, 'reading score': 70, 'writing score': 74}, {'gender': 'female', 'race': 'group B', 'math score': 76, 'reading score': 94, 'writing score': 87}, {'gender': 'male', 'race': 'group C', 'math score': 73, 'reading score': 78, 'writing score': 72}, {'gender': 'female', 'race': 'group C', 'math score': 96, 'reading score': 96, 'writing score': 99}, {'gender': 'female', 'race': 'group C', 'math score': 76, 'reading score': 76, 'writing score': 74}, {'gender': 'male', 'race': 'group E', 'math score': 91, 'reading score': 73, 'writing score': 80}, {'gender': 'female', 'race': 'group C', 'math score': 62, 'reading score': 72, 'writing score': 70}, {'gender': 'male', 'race': 'group D', 'math score': 55, 'reading score': 59, 'writing score': 59}, {'gender': 'female', 'race': 'group B', 'math score': 74, 'reading score': 90, 'writing score': 88}, {'gender': 'male', 'race': 'group C', 'math score': 50, 'reading score': 48, 'writing score': 42}, {'gender': 'male', 'race': 'group B', 'math score': 47, 'reading score': 43, 'writing score': 41}, {'gender': 'male', 'race': 'group E', 'math score': 81, 'reading score': 74, 'writing score': 71}, {'gender': 'female', 'race': 'group E', 'math score': 65, 'reading score': 75, 'writing score': 77}, {'gender': 'male', 'race': 'group E', 'math score': 68, 'reading score': 51, 'writing score': 57}, {'gender': 'female', 'race': 'group D', 'math score': 73, 'reading score': 92, 'writing score': 84}, {'gender': 'male', 'race': 'group C', 'math score': 53, 'reading score': 39, 'writing score': 37}, {'gender': 'female', 'race': 'group B', 'math score': 68, 'reading score': 77, 'writing score': 80}, {'gender': 'male', 'race': 'group A', 'math score': 55, 'reading score': 46, 'writing score': 43}, {'gender': 'female', 'race': 'group C', 'math score': 87, 'reading score': 89, 'writing score': 94}, {'gender': 'male', 'race': 'group D', 'math score': 55, 'reading score': 47, 'writing score': 44}, {'gender': 'female', 'race': 'group E', 'math score': 53, 'reading score': 58, 'writing score': 57}, {'gender': 'male', 'race': 'group C', 'math score': 67, 'reading score': 57, 'writing score': 59}, {'gender': 'male', 'race': 'group C', 'math score': 92, 'reading score': 79, 'writing score': 84}, {'gender': 'female', 'race': 'group B', 'math score': 53, 'reading score': 66, 'writing score': 73}, {'gender': 'male', 'race': 'group D', 'math score': 81, 'reading score': 71, 'writing score': 73}, {'gender': 'male', 'race': 'group C', 'math score': 61, 'reading score': 60, 'writing score': 55}, {'gender': 'male', 'race': 'group D', 'math score': 80, 'reading score': 73, 'writing score': 72}, {'gender': 'female', 'race': 'group A', 'math score': 37, 'reading score': 57, 'writing score': 56}, {'gender': 'female', 'race': 'group C', 'math score': 81, 'reading score': 84, 'writing score': 82}, {'gender': 'female', 'race': 'group C', 'math score': 59, 'reading score': 73, 'writing score': 72}, {'gender': 'male', 'race': 'group B', 'math score': 55, 'reading score': 55, 'writing score': 47}, {'gender': 'male', 'race': 'group D', 'math score': 72, 'reading score': 79, 'writing score': 74}, {'gender': 'male', 'race': 'group D', 'math score': 69, 'reading score': 75, 'writing score': 71}, {'gender': 'male', 'race': 'group C', 'math score': 69, 'reading score': 64, 'writing score': 68}, {'gender': 'female', 'race': 'group C', 'math score': 50, 'reading score': 60, 'writing score': 59}, {'gender': 'male', 'race': 'group B', 'math score': 87, 'reading score': 84, 'writing score': 86}, {'gender': 'male', 'race': 'group D', 'math score': 71, 'reading score': 69, 'writing score': 68}, {'gender': 'male', 'race': 'group E', 'math score': 68, 'reading score': 72, 'writing score': 65}, {'gender': 'male', 'race': 'group C', 'math score': 79, 'reading score': 77, 'writing score': 75}, {'gender': 'female', 'race': 'group C', 'math score': 77, 'reading score': 90, 'writing score': 85}, {'gender': 'male', 'race': 'group C', 'math score': 58, 'reading score': 55, 'writing score': 53}, {'gender': 'female', 'race': 'group E', 'math score': 84, 'reading score': 95, 'writing score': 92}, {'gender': 'male', 'race': 'group D', 'math score': 55, 'reading score': 58, 'writing score': 52}, {'gender': 'male', 'race': 'group E', 'math score': 70, 'reading score': 68, 'writing score': 72}, {'gender': 'female', 'race': 'group D', 'math score': 52, 'reading score': 59, 'writing score': 65}, {'gender': 'male', 'race': 'group B', 'math score': 69, 'reading score': 77, 'writing score': 77}, {'gender': 'female', 'race': 'group C', 'math score': 53, 'reading score': 72, 'writing score': 64}, {'gender': 'female', 'race': 'group D', 'math score': 48, 'reading score': 58, 'writing score': 54}, {'gender': 'male', 'race': 'group D', 'math score': 78, 'reading score': 81, 'writing score': 86}, {'gender': 'female', 'race': 'group B', 'math score': 62, 'reading score': 62, 'writing score': 63}, {'gender': 'male', 'race': 'group D', 'math score': 60, 'reading score': 63, 'writing score': 59}, {'gender': 'female', 'race': 'group B', 'math score': 74, 'reading score': 72, 'writing score': 72}, {'gender': 'female', 'race': 'group C', 'math score': 58, 'reading score': 75, 'writing score': 77}, {'gender': 'male', 'race': 'group B', 'math score': 76, 'reading score': 62, 'writing score': 60}, {'gender': 'female', 'race': 'group D', 'math score': 68, 'reading score': 71, 'writing score': 75}, {'gender': 'male', 'race': 'group A', 'math score': 58, 'reading score': 60, 'writing score': 57}, {'gender': 'male', 'race': 'group B', 'math score': 52, 'reading score': 48, 'writing score': 49}, {'gender': 'male', 'race': 'group D', 'math score': 75, 'reading score': 73, 'writing score': 74}, {'gender': 'female', 'race': 'group B', 'math score': 52, 'reading score': 67, 'writing score': 72}, {'gender': 'female', 'race': 'group C', 'math score': 62, 'reading score': 78, 'writing score': 79}, {'gender': 'male', 'race': 'group B', 'math score': 66, 'reading score': 65, 'writing score': 60}, {'gender': 'female', 'race': 'group B', 'math score': 49, 'reading score': 58, 'writing score': 55}, {'gender': 'female', 'race': 'group B', 'math score': 66, 'reading score': 72, 'writing score': 70}, {'gender': 'female', 'race': 'group C', 'math score': 35, 'reading score': 44, 'writing score': 43}, {'gender': 'female', 'race': 'group A', 'math score': 72, 'reading score': 79, 'writing score': 82}, {'gender': 'male', 'race': 'group E', 'math score': 94, 'reading score': 85, 'writing score': 82}, {'gender': 'female', 'race': 'group D', 'math score': 46, 'reading score': 56, 'writing score': 57}, {'gender': 'female', 'race': 'group B', 'math score': 77, 'reading score': 90, 'writing score': 84}, {'gender': 'female', 'race': 'group B', 'math score': 76, 'reading score': 85, 'writing score': 82}, {'gender': 'female', 'race': 'group C', 'math score': 52, 'reading score': 59, 'writing score': 62}, {'gender': 'male', 'race': 'group C', 'math score': 91, 'reading score': 81, 'writing score': 79}, {'gender': 'female', 'race': 'group B', 'math score': 32, 'reading score': 51, 'writing score': 44}, {'gender': 'female', 'race': 'group E', 'math score': 72, 'reading score': 79, 'writing score': 77}, {'gender': 'female', 'race': 'group B', 'math score': 19, 'reading score': 38, 'writing score': 32}, {'gender': 'male', 'race': 'group C', 'math score': 68, 'reading score': 65, 'writing score': 61}, {'gender': 'female', 'race': 'group C', 'math score': 52, 'reading score': 65, 'writing score': 61}, {'gender': 'female', 'race': 'group B', 'math score': 48, 'reading score': 62, 'writing score': 60}, {'gender': 'female', 'race': 'group D', 'math score': 60, 'reading score': 66, 'writing score': 70}, {'gender': 'male', 'race': 'group D', 'math score': 66, 'reading score': 74, 'writing score': 69}, {'gender': 'male', 'race': 'group E', 'math score': 89, 'reading score': 84, 'writing score': 77}, {'gender': 'female', 'race': 'group B', 'math score': 42, 'reading score': 52, 'writing score': 51}, {'gender': 'female', 'race': 'group E', 'math score': 57, 'reading score': 68, 'writing score': 73}, {'gender': 'male', 'race': 'group D', 'math score': 70, 'reading score': 70, 'writing score': 70}, {'gender': 'female', 'race': 'group E', 'math score': 70, 'reading score': 84, 'writing score': 81}, {'gender': 'male', 'race': 'group E', 'math score': 69, 'reading score': 60, 'writing score': 54}, {'gender': 'female', 'race': 'group C', 'math score': 52, 'reading score': 55, 'writing score': 57}, {'gender': 'male', 'race': 'group C', 'math score': 67, 'reading score': 73, 'writing score': 68}, {'gender': 'male', 'race': 'group C', 'math score': 76, 'reading score': 80, 'writing score': 73}, {'gender': 'female', 'race': 'group E', 'math score': 87, 'reading score': 94, 'writing score': 95}, {'gender': 'female', 'race': 'group B', 'math score': 82, 'reading score': 85, 'writing score': 87}, {'gender': 'female', 'race': 'group C', 'math score': 73, 'reading score': 76, 'writing score': 78}, {'gender': 'male', 'race': 'group A', 'math score': 75, 'reading score': 81, 'writing score': 74}, {'gender': 'female', 'race': 'group D', 'math score': 64, 'reading score': 74, 'writing score': 75}, {'gender': 'female', 'race': 'group E', 'math score': 41, 'reading score': 45, 'writing score': 40}, {'gender': 'male', 'race': 'group C', 'math score': 90, 'reading score': 75, 'writing score': 69}, {'gender': 'male', 'race': 'group B', 'math score': 59, 'reading score': 54, 'writing score': 51}, {'gender': 'male', 'race': 'group A', 'math score': 51, 'reading score': 31, 'writing score': 36}, {'gender': 'male', 'race': 'group A', 'math score': 45, 'reading score': 47, 'writing score': 49}, {'gender': 'female', 'race': 'group C', 'math score': 54, 'reading score': 64, 'writing score': 67}, {'gender': 'male', 'race': 'group E', 'math score': 87, 'reading score': 84, 'writing score': 76}, {'gender': 'female', 'race': 'group C', 'math score': 72, 'reading score': 80, 'writing score': 83}, {'gender': 'male', 'race': 'group B', 'math score': 94, 'reading score': 86, 'writing score': 87}, {'gender': 'female', 'race': 'group A', 'math score': 45, 'reading score': 59, 'writing score': 64}, {'gender': 'male', 'race': 'group D', 'math score': 61, 'reading score': 70, 'writing score': 76}, {'gender': 'female', 'race': 'group B', 'math score': 60, 'reading score': 72, 'writing score': 68}, {'gender': 'female', 'race': 'group C', 'math score': 77, 'reading score': 91, 'writing score': 88}, {'gender': 'female', 'race': 'group A', 'math score': 85, 'reading score': 90, 'writing score': 92}, {'gender': 'female', 'race': 'group D', 'math score': 78, 'reading score': 90, 'writing score': 93}, {'gender': 'male', 'race': 'group E', 'math score': 49, 'reading score': 52, 'writing score': 51}, {'gender': 'female', 'race': 'group B', 'math score': 71, 'reading score': 87, 'writing score': 82}, {'gender': 'female', 'race': 'group C', 'math score': 48, 'reading score': 58, 'writing score': 52}, {'gender': 'male', 'race': 'group C', 'math score': 62, 'reading score': 67, 'writing score': 58}, {'gender': 'female', 'race': 'group C', 'math score': 56, 'reading score': 68, 'writing score': 70}, {'gender': 'female', 'race': 'group C', 'math score': 65, 'reading score': 69, 'writing score': 76}, {'gender': 'female', 'race': 'group D', 'math score': 69, 'reading score': 86, 'writing score': 81}, {'gender': 'male', 'race': 'group B', 'math score': 68, 'reading score': 54, 'writing score': 53}, {'gender': 'female', 'race': 'group A', 'math score': 61, 'reading score': 60, 'writing score': 57}, {'gender': 'female', 'race': 'group C', 'math score': 74, 'reading score': 86, 'writing score': 89}, {'gender': 'male', 'race': 'group A', 'math score': 64, 'reading score': 60, 'writing score': 58}, {'gender': 'female', 'race': 'group B', 'math score': 77, 'reading score': 82, 'writing score': 89}, {'gender': 'male', 'race': 'group B', 'math score': 58, 'reading score': 50, 'writing score': 45}, {'gender': 'female', 'race': 'group C', 'math score': 60, 'reading score': 64, 'writing score': 74}, {'gender': 'male', 'race': 'group E', 'math score': 73, 'reading score': 64, 'writing score': 57}, {'gender': 'female', 'race': 'group A', 'math score': 75, 'reading score': 82, 'writing score': 79}, {'gender': 'male', 'race': 'group B', 'math score': 58, 'reading score': 57, 'writing score': 53}, {'gender': 'female', 'race': 'group C', 'math score': 66, 'reading score': 77, 'writing score': 73}, {'gender': 'female', 'race': 'group D', 'math score': 39, 'reading score': 52, 'writing score': 46}, {'gender': 'male', 'race': 'group C', 'math score': 64, 'reading score': 58, 'writing score': 51}, {'gender': 'female', 'race': 'group B', 'math score': 23, 'reading score': 44, 'writing score': 36}, {'gender': 'male', 'race': 'group B', 'math score': 74, 'reading score': 77, 'writing score': 76}, {'gender': 'female', 'race': 'group D', 'math score': 40, 'reading score': 65, 'writing score': 64}, {'gender': 'male', 'race': 'group E', 'math score': 90, 'reading score': 85, 'writing score': 84}, {'gender': 'male', 'race': 'group C', 'math score': 91, 'reading score': 85, 'writing score': 85}, {'gender': 'male', 'race': 'group D', 'math score': 64, 'reading score': 54, 'writing score': 50}, {'gender': 'female', 'race': 'group C', 'math score': 59, 'reading score': 72, 'writing score': 68}, {'gender': 'male', 'race': 'group D', 'math score': 80, 'reading score': 75, 'writing score': 69}, {'gender': 'male', 'race': 'group C', 'math score': 71, 'reading score': 67, 'writing score': 67}, {'gender': 'female', 'race': 'group A', 'math score': 61, 'reading score': 68, 'writing score': 63}, {'gender': 'female', 'race': 'group E', 'math score': 87, 'reading score': 85, 'writing score': 93}, {'gender': 'male', 'race': 'group E', 'math score': 82, 'reading score': 67, 'writing score': 61}, {'gender': 'male', 'race': 'group C', 'math score': 62, 'reading score': 64, 'writing score': 55}, {'gender': 'female', 'race': 'group B', 'math score': 97, 'reading score': 97, 'writing score': 96}, {'gender': 'male', 'race': 'group B', 'math score': 75, 'reading score': 68, 'writing score': 65}, {'gender': 'female', 'race': 'group C', 'math score': 65, 'reading score': 79, 'writing score': 81}, {'gender': 'male', 'race': 'group B', 'math score': 52, 'reading score': 49, 'writing score': 46}, {'gender': 'male', 'race': 'group C', 'math score': 87, 'reading score': 73, 'writing score': 72}, {'gender': 'female', 'race': 'group C', 'math score': 53, 'reading score': 62, 'writing score': 53}, {'gender': 'female', 'race': 'group E', 'math score': 81, 'reading score': 86, 'writing score': 87}, {'gender': 'male', 'race': 'group D', 'math score': 39, 'reading score': 42, 'writing score': 38}, {'gender': 'female', 'race': 'group C', 'math score': 71, 'reading score': 71, 'writing score': 80}, {'gender': 'male', 'race': 'group C', 'math score': 97, 'reading score': 93, 'writing score': 91}, {'gender': 'male', 'race': 'group D', 'math score': 82, 'reading score': 82, 'writing score': 88}, {'gender': 'male', 'race': 'group C', 'math score': 59, 'reading score': 53, 'writing score': 52}, {'gender': 'male', 'race': 'group B', 'math score': 61, 'reading score': 42, 'writing score': 41}, {'gender': 'male', 'race': 'group E', 'math score': 78, 'reading score': 74, 'writing score': 72}, {'gender': 'male', 'race': 'group C', 'math score': 49, 'reading score': 51, 'writing score': 51}, {'gender': 'male', 'race': 'group B', 'math score': 59, 'reading score': 58, 'writing score': 47}, {'gender': 'female', 'race': 'group C', 'math score': 70, 'reading score': 72, 'writing score': 76}, {'gender': 'male', 'race': 'group B', 'math score': 82, 'reading score': 84, 'writing score': 78}, {'gender': 'male', 'race': 'group E', 'math score': 90, 'reading score': 90, 'writing score': 82}, {'gender': 'female', 'race': 'group C', 'math score': 43, 'reading score': 62, 'writing score': 61}, {'gender': 'male', 'race': 'group C', 'math score': 80, 'reading score': 64, 'writing score': 66}, {'gender': 'male', 'race': 'group D', 'math score': 81, 'reading score': 82, 'writing score': 84}, {'gender': 'male', 'race': 'group C', 'math score': 57, 'reading score': 61, 'writing score': 54}, {'gender': 'female', 'race': 'group D', 'math score': 59, 'reading score': 72, 'writing score': 80}, {'gender': 'female', 'race': 'group D', 'math score': 64, 'reading score': 76, 'writing score': 74}, {'gender': 'male', 'race': 'group C', 'math score': 63, 'reading score': 64, 'writing score': 66}, {'gender': 'female', 'race': 'group E', 'math score': 71, 'reading score': 70, 'writing score': 70}, {'gender': 'female', 'race': 'group B', 'math score': 64, 'reading score': 73, 'writing score': 71}, {'gender': 'male', 'race': 'group D', 'math score': 55, 'reading score': 46, 'writing score': 44}, {'gender': 'female', 'race': 'group E', 'math score': 51, 'reading score': 51, 'writing score': 54}, {'gender': 'female', 'race': 'group C', 'math score': 62, 'reading score': 76, 'writing score': 80}, {'gender': 'female', 'race': 'group E', 'math score': 93, 'reading score': 100, 'writing score': 95}, {'gender': 'male', 'race': 'group C', 'math score': 54, 'reading score': 72, 'writing score': 59}, {'gender': 'female', 'race': 'group D', 'math score': 69, 'reading score': 65, 'writing score': 74}, {'gender': 'male', 'race': 'group D', 'math score': 44, 'reading score': 51, 'writing score': 48}, {'gender': 'female', 'race': 'group E', 'math score': 86, 'reading score': 85, 'writing score': 91}, {'gender': 'female', 'race': 'group E', 'math score': 85, 'reading score': 92, 'writing score': 85}, {'gender': 'female', 'race': 'group A', 'math score': 50, 'reading score': 67, 'writing score': 73}, {'gender': 'male', 'race': 'group D', 'math score': 88, 'reading score': 74, 'writing score': 75}, {'gender': 'female', 'race': 'group E', 'math score': 59, 'reading score': 62, 'writing score': 69}, {'gender': 'female', 'race': 'group E', 'math score': 32, 'reading score': 34, 'writing score': 38}, {'gender': 'male', 'race': 'group B', 'math score': 36, 'reading score': 29, 'writing score': 27}, {'gender': 'female', 'race': 'group B', 'math score': 63, 'reading score': 78, 'writing score': 79}, {'gender': 'male', 'race': 'group D', 'math score': 67, 'reading score': 54, 'writing score': 63}, {'gender': 'female', 'race': 'group D', 'math score': 65, 'reading score': 78, 'writing score': 82}, {'gender': 'male', 'race': 'group D', 'math score': 85, 'reading score': 84, 'writing score': 89}, {'gender': 'female', 'race': 'group C', 'math score': 73, 'reading score': 78, 'writing score': 74}, {'gender': 'female', 'race': 'group A', 'math score': 34, 'reading score': 48, 'writing score': 41}, {'gender': 'female', 'race': 'group D', 'math score': 93, 'reading score': 100, 'writing score': 100}, {'gender': 'female', 'race': 'group D', 'math score': 67, 'reading score': 84, 'writing score': 84}, {'gender': 'male', 'race': 'group D', 'math score': 88, 'reading score': 77, 'writing score': 77}, {'gender': 'male', 'race': 'group B', 'math score': 57, 'reading score': 48, 'writing score': 51}, {'gender': 'female', 'race': 'group D', 'math score': 79, 'reading score': 84, 'writing score': 91}, {'gender': 'female', 'race': 'group C', 'math score': 67, 'reading score': 75, 'writing score': 72}, {'gender': 'male', 'race': 'group E', 'math score': 70, 'reading score': 64, 'writing score': 70}, {'gender': 'male', 'race': 'group D', 'math score': 50, 'reading score': 42, 'writing score': 48}, {'gender': 'female', 'race': 'group A', 'math score': 69, 'reading score': 84, 'writing score': 82}, {'gender': 'female', 'race': 'group C', 'math score': 52, 'reading score': 61, 'writing score': 66}, {'gender': 'female', 'race': 'group C', 'math score': 47, 'reading score': 62, 'writing score': 66}, {'gender': 'female', 'race': 'group B', 'math score': 46, 'reading score': 61, 'writing score': 55}, {'gender': 'female', 'race': 'group E', 'math score': 68, 'reading score': 70, 'writing score': 66}, {'gender': 'male', 'race': 'group E', 'math score': 100, 'reading score': 100, 'writing score': 100}, {'gender': 'female', 'race': 'group C', 'math score': 44, 'reading score': 61, 'writing score': 52}, {'gender': 'female', 'race': 'group C', 'math score': 57, 'reading score': 77, 'writing score': 80}, {'gender': 'male', 'race': 'group B', 'math score': 91, 'reading score': 96, 'writing score': 91}, {'gender': 'male', 'race': 'group D', 'math score': 69, 'reading score': 70, 'writing score': 67}, {'gender': 'female', 'race': 'group C', 'math score': 35, 'reading score': 53, 'writing score': 46}, {'gender': 'male', 'race': 'group D', 'math score': 72, 'reading score': 66, 'writing score': 66}, {'gender': 'female', 'race': 'group B', 'math score': 54, 'reading score': 65, 'writing score': 65}, {'gender': 'male', 'race': 'group D', 'math score': 74, 'reading score': 70, 'writing score': 69}, {'gender': 'male', 'race': 'group E', 'math score': 74, 'reading score': 64, 'writing score': 60}, {'gender': 'male', 'race': 'group E', 'math score': 64, 'reading score': 56, 'writing score': 52}, {'gender': 'female', 'race': 'group D', 'math score': 65, 'reading score': 61, 'writing score': 71}, {'gender': 'male', 'race': 'group E', 'math score': 46, 'reading score': 43, 'writing score': 44}, {'gender': 'female', 'race': 'group C', 'math score': 48, 'reading score': 56, 'writing score': 51}, {'gender': 'male', 'race': 'group C', 'math score': 67, 'reading score': 74, 'writing score': 70}, {'gender': 'male', 'race': 'group D', 'math score': 62, 'reading score': 57, 'writing score': 62}, {'gender': 'male', 'race': 'group D', 'math score': 61, 'reading score': 71, 'writing score': 73}, {'gender': 'male', 'race': 'group C', 'math score': 70, 'reading score': 75, 'writing score': 74}, {'gender': 'male', 'race': 'group C', 'math score': 98, 'reading score': 87, 'writing score': 90}, {'gender': 'male', 'race': 'group D', 'math score': 70, 'reading score': 63, 'writing score': 58}, {'gender': 'male', 'race': 'group A', 'math score': 67, 'reading score': 57, 'writing score': 53}, {'gender': 'female', 'race': 'group E', 'math score': 57, 'reading score': 58, 'writing score': 57}, {'gender': 'male', 'race': 'group D', 'math score': 85, 'reading score': 81, 'writing score': 85}, {'gender': 'male', 'race': 'group D', 'math score': 77, 'reading score': 68, 'writing score': 69}, {'gender': 'male', 'race': 'group C', 'math score': 72, 'reading score': 66, 'writing score': 72}, {'gender': 'female', 'race': 'group D', 'math score': 78, 'reading score': 91, 'writing score': 96}, {'gender': 'male', 'race': 'group C', 'math score': 81, 'reading score': 66, 'writing score': 64}, {'gender': 'male', 'race': 'group A', 'math score': 61, 'reading score': 62, 'writing score': 61}, {'gender': 'female', 'race': 'group B', 'math score': 58, 'reading score': 68, 'writing score': 61}, {'gender': 'female', 'race': 'group C', 'math score': 54, 'reading score': 61, 'writing score': 58}, {'gender': 'male', 'race': 'group B', 'math score': 82, 'reading score': 82, 'writing score': 80}, {'gender': 'female', 'race': 'group D', 'math score': 49, 'reading score': 58, 'writing score': 60}, {'gender': 'male', 'race': 'group B', 'math score': 49, 'reading score': 50, 'writing score': 52}, {'gender': 'female', 'race': 'group E', 'math score': 57, 'reading score': 75, 'writing score': 73}, {'gender': 'male', 'race': 'group E', 'math score': 94, 'reading score': 73, 'writing score': 71}, {'gender': 'female', 'race': 'group D', 'math score': 75, 'reading score': 77, 'writing score': 83}, {'gender': 'female', 'race': 'group E', 'math score': 74, 'reading score': 74, 'writing score': 72}, {'gender': 'male', 'race': 'group C', 'math score': 58, 'reading score': 52, 'writing score': 54}, {'gender': 'female', 'race': 'group C', 'math score': 62, 'reading score': 69, 'writing score': 69}, {'gender': 'male', 'race': 'group E', 'math score': 72, 'reading score': 57, 'writing score': 62}, {'gender': 'male', 'race': 'group C', 'math score': 84, 'reading score': 87, 'writing score': 81}, {'gender': 'female', 'race': 'group D', 'math score': 92, 'reading score': 100, 'writing score': 100}, {'gender': 'female', 'race': 'group D', 'math score': 45, 'reading score': 63, 'writing score': 59}, {'gender': 'male', 'race': 'group C', 'math score': 75, 'reading score': 81, 'writing score': 71}, {'gender': 'female', 'race': 'group A', 'math score': 56, 'reading score': 58, 'writing score': 64}, {'gender': 'female', 'race': 'group D', 'math score': 48, 'reading score': 54, 'writing score': 53}, {'gender': 'female', 'race': 'group E', 'math score': 100, 'reading score': 100, 'writing score': 100}, {'gender': 'female', 'race': 'group C', 'math score': 65, 'reading score': 76, 'writing score': 75}, {'gender': 'male', 'race': 'group D', 'math score': 72, 'reading score': 57, 'writing score': 58}, {'gender': 'female', 'race': 'group D', 'math score': 62, 'reading score': 70, 'writing score': 72}, {'gender': 'male', 'race': 'group A', 'math score': 66, 'reading score': 68, 'writing score': 64}, {'gender': 'male', 'race': 'group C', 'math score': 63, 'reading score': 63, 'writing score': 60}, {'gender': 'female', 'race': 'group E', 'math score': 68, 'reading score': 76, 'writing score': 67}, {'gender': 'female', 'race': 'group B', 'math score': 75, 'reading score': 84, 'writing score': 80}, {'gender': 'female', 'race': 'group D', 'math score': 89, 'reading score': 100, 'writing score': 100}, {'gender': 'male', 'race': 'group C', 'math score': 78, 'reading score': 72, 'writing score': 69}, {'gender': 'female', 'race': 'group A', 'math score': 53, 'reading score': 50, 'writing score': 60}, {'gender': 'female', 'race': 'group D', 'math score': 49, 'reading score': 65, 'writing score': 61}, {'gender': 'female', 'race': 'group A', 'math score': 54, 'reading score': 63, 'writing score': 67}, {'gender': 'female', 'race': 'group C', 'math score': 64, 'reading score': 82, 'writing score': 77}, {'gender': 'male', 'race': 'group B', 'math score': 60, 'reading score': 62, 'writing score': 60}, {'gender': 'male', 'race': 'group C', 'math score': 62, 'reading score': 65, 'writing score': 58}, {'gender': 'male', 'race': 'group D', 'math score': 55, 'reading score': 41, 'writing score': 48}, {'gender': 'female', 'race': 'group C', 'math score': 91, 'reading score': 95, 'writing score': 94}, {'gender': 'female', 'race': 'group B', 'math score': 8, 'reading score': 24, 'writing score': 23}, {'gender': 'male', 'race': 'group D', 'math score': 81, 'reading score': 78, 'writing score': 78}, {'gender': 'male', 'race': 'group B', 'math score': 79, 'reading score': 85, 'writing score': 86}, {'gender': 'female', 'race': 'group A', 'math score': 78, 'reading score': 87, 'writing score': 91}, {'gender': 'female', 'race': 'group C', 'math score': 74, 'reading score': 75, 'writing score': 82}, {'gender': 'male', 'race': 'group A', 'math score': 57, 'reading score': 51, 'writing score': 54}, {'gender': 'female', 'race': 'group C', 'math score': 40, 'reading score': 59, 'writing score': 51}, {'gender': 'male', 'race': 'group E', 'math score': 81, 'reading score': 75, 'writing score': 76}, {'gender': 'female', 'race': 'group A', 'math score': 44, 'reading score': 45, 'writing score': 45}, {'gender': 'female', 'race': 'group D', 'math score': 67, 'reading score': 86, 'writing score': 83}, {'gender': 'male', 'race': 'group E', 'math score': 86, 'reading score': 81, 'writing score': 75}, {'gender': 'female', 'race': 'group B', 'math score': 65, 'reading score': 82, 'writing score': 78}, {'gender': 'female', 'race': 'group D', 'math score': 55, 'reading score': 76, 'writing score': 76}, {'gender': 'female', 'race': 'group D', 'math score': 62, 'reading score': 72, 'writing score': 74}, {'gender': 'male', 'race': 'group A', 'math score': 63, 'reading score': 63, 'writing score': 62}, {'gender': 'female', 'race': 'group E', 'math score': 88, 'reading score': 99, 'writing score': 95}, {'gender': 'male', 'race': 'group C', 'math score': 62, 'reading score': 55, 'writing score': 55}, {'gender': 'female', 'race': 'group C', 'math score': 59, 'reading score': 71, 'writing score': 65}, {'gender': 'female', 'race': 'group D', 'math score': 68, 'reading score': 78, 'writing score': 77}, {'gender': 'female', 'race': 'group D', 'math score': 77, 'reading score': 86, 'writing score': 86}])"
            ]
          },
          "metadata": {},
          "execution_count": 7
        }
      ]
    },
    {
      "cell_type": "code",
      "source": [
        "vect = DictVectorizer(sparse=False)\n",
        "x = vect.fit_transform(X_dict)\n",
        "x"
      ],
      "metadata": {
        "colab": {
          "base_uri": "https://localhost:8080/"
        },
        "id": "gFGzawNNAV_L",
        "outputId": "a52ff573-97ad-43a2-8649-474fab13b015"
      },
      "execution_count": null,
      "outputs": [
        {
          "output_type": "execute_result",
          "data": {
            "text/plain": [
              "array([[ 1.,  0., 72., ...,  0., 72., 74.],\n",
              "       [ 1.,  0., 69., ...,  0., 90., 88.],\n",
              "       [ 1.,  0., 90., ...,  0., 95., 93.],\n",
              "       ...,\n",
              "       [ 1.,  0., 59., ...,  0., 71., 65.],\n",
              "       [ 1.,  0., 68., ...,  0., 78., 77.],\n",
              "       [ 1.,  0., 77., ...,  0., 86., 86.]])"
            ]
          },
          "metadata": {},
          "execution_count": 8
        }
      ]
    },
    {
      "cell_type": "markdown",
      "metadata": {
        "id": "QYuarmiP78jh"
      },
      "source": [
        "Carga de dados\n",
        "\n",
        "90% da base para treinamento (900 registros)\n",
        "\n",
        "10% da base para teste (100 regisros)"
      ]
    },
    {
      "cell_type": "code",
      "metadata": {
        "id": "p7bWIAlmOi8R"
      },
      "source": [
        "le = LabelEncoder()\n",
        "y = le.fit_transform(base[\"test preparation course\"])\n",
        "\n",
        "class_names = le.classes_\n",
        "x_train, x_test, y_train, y_test = train_test_split(x, y, random_state=42, test_size=0.1)"
      ],
      "execution_count": null,
      "outputs": []
    },
    {
      "cell_type": "markdown",
      "metadata": {
        "id": "lMgaGnqk8gPi"
      },
      "source": [
        "### Árvore de decisão\n",
        "\n"
      ]
    },
    {
      "cell_type": "code",
      "source": [
        "arvore = DecisionTreeClassifier(random_state=0)\n",
        "arvore = arvore.fit(x_train, y_train)\n",
        "y_pred = arvore.predict(x_test)"
      ],
      "metadata": {
        "id": "Pgkpp5ql5ueJ"
      },
      "execution_count": null,
      "outputs": []
    },
    {
      "cell_type": "code",
      "metadata": {
        "id": "m863jQm8On2F",
        "colab": {
          "base_uri": "https://localhost:8080/"
        },
        "outputId": "d739ffe0-7953-4838-ff70-58e5205c6496"
      },
      "source": [
        "print(\"Classificador Árvore de Decisão:\\n\")\n",
        "print(\"--------------------------------------\")\n",
        "print(\"Acurácia da base de treinamento: {:.2f}\".format(arvore.score(x_train, y_train)))\n",
        "print(\"--------------------------------------\")\n",
        "\n",
        "print(\"--------------------------------------\")\n",
        "print(\"Acurácia da base de teste: {:.4f}\".format(arvore.score(x_test, y_test)))\n",
        "print(\"--------------------------------------\")\n",
        "\n",
        "print(classification_report(y_test, y_pred, target_names=class_names))\n",
        "\n",
        "arvore_matrix = confusion_matrix(y_test, y_pred)\n",
        "arvore_table = pd.DataFrame(data=arvore_matrix, index=class_names, columns=[x + \"(prev)\" for x in class_names])\n",
        "print(arvore_table)\n"
      ],
      "execution_count": null,
      "outputs": [
        {
          "output_type": "stream",
          "name": "stdout",
          "text": [
            "Classificador Árvore de Decisão:\n",
            "\n",
            "--------------------------------------\n",
            "Acurácia da base de treinamento: 1.00\n",
            "--------------------------------------\n",
            "--------------------------------------\n",
            "Acurácia da base de teste: 0.6200\n",
            "--------------------------------------\n",
            "              precision    recall  f1-score   support\n",
            "\n",
            "   completed       0.48      0.41      0.44        37\n",
            "        none       0.68      0.75      0.71        63\n",
            "\n",
            "    accuracy                           0.62       100\n",
            "   macro avg       0.58      0.58      0.58       100\n",
            "weighted avg       0.61      0.62      0.61       100\n",
            "\n",
            "           completed(prev)  none(prev)\n",
            "completed               15          22\n",
            "none                    16          47\n"
          ]
        }
      ]
    },
    {
      "cell_type": "code",
      "source": [
        "tree_params = {\"max_depth\": np.arange(1, 20),\n",
        "               \"criterion\": [\"gini\", \"entropy\"],\n",
        "               \"min_samples_split\": np.arange(1, 20),\n",
        "               \"min_samples_leaf\": np.arange(1, 20),\n",
        "               }"
      ],
      "metadata": {
        "id": "c2tJoLDM-lO8"
      },
      "execution_count": null,
      "outputs": []
    },
    {
      "cell_type": "code",
      "source": [
        "arvore2 = random_search = RandomizedSearchCV(arvore,\n",
        "                                   param_distributions=tree_params,\n",
        "                                   n_iter=10,\n",
        "                                   cv=5,\n",
        "                                   random_state=0)"
      ],
      "metadata": {
        "id": "tzxrIb1MPqG6"
      },
      "execution_count": null,
      "outputs": []
    },
    {
      "cell_type": "code",
      "source": [
        "arvore2.fit(x_train, y_train)"
      ],
      "metadata": {
        "colab": {
          "base_uri": "https://localhost:8080/"
        },
        "id": "lj1qJV8dRb-8",
        "outputId": "eafccb8e-4979-4a20-a6eb-3f96342d1624"
      },
      "execution_count": null,
      "outputs": [
        {
          "output_type": "execute_result",
          "data": {
            "text/plain": [
              "RandomizedSearchCV(cv=5, estimator=DecisionTreeClassifier(random_state=0),\n",
              "                   param_distributions={'criterion': ['gini', 'entropy'],\n",
              "                                        'max_depth': array([ 1,  2,  3,  4,  5,  6,  7,  8,  9, 10, 11, 12, 13, 14, 15, 16, 17,\n",
              "       18, 19]),\n",
              "                                        'min_samples_leaf': array([ 1,  2,  3,  4,  5,  6,  7,  8,  9, 10, 11, 12, 13, 14, 15, 16, 17,\n",
              "       18, 19]),\n",
              "                                        'min_samples_split': array([ 1,  2,  3,  4,  5,  6,  7,  8,  9, 10, 11, 12, 13, 14, 15, 16, 17,\n",
              "       18, 19])},\n",
              "                   random_state=0)"
            ]
          },
          "metadata": {},
          "execution_count": 60
        }
      ]
    },
    {
      "cell_type": "code",
      "source": [
        "arvore2.best_estimator_"
      ],
      "metadata": {
        "colab": {
          "base_uri": "https://localhost:8080/"
        },
        "id": "NpHamTQtQ3kk",
        "outputId": "dcc82ac8-189a-4568-bbf0-5f3b7db6d8ca"
      },
      "execution_count": null,
      "outputs": [
        {
          "output_type": "execute_result",
          "data": {
            "text/plain": [
              "DecisionTreeClassifier(criterion='entropy', max_depth=7, min_samples_leaf=11,\n",
              "                       min_samples_split=11, random_state=0)"
            ]
          },
          "metadata": {},
          "execution_count": 64
        }
      ]
    },
    {
      "cell_type": "code",
      "source": [
        "print(\"Classificador Árvore de Decisão:\\n\")\n",
        "print(\"--------------------------------------\")\n",
        "print(\"Acurácia de treinamento:\", arvore2.best_estimator_.score(x_train, y_train))\n",
        "print(\"--------------------------------------\")\n",
        "\n",
        "print(\"--------------------------------------\")\n",
        "y_pred = arvore2.best_estimator_.predict(x_test)\n",
        "print(\"Acurácia de previsão:\", accuracy_score(y_test, y_pred))\n",
        "print(\"--------------------------------------\")\n",
        "\n",
        "print(classification_report(y_test, y_pred, target_names=class_names))\n",
        "\n",
        "arvore_matrix = confusion_matrix(y_test, y_pred)\n",
        "arvore_table = pd.DataFrame(data=arvore_matrix, index=class_names, columns=[x + \"(prev)\" for x in class_names])\n",
        "print(arvore_table)"
      ],
      "metadata": {
        "colab": {
          "base_uri": "https://localhost:8080/"
        },
        "id": "y40SgNLZQ5tJ",
        "outputId": "5dc517f4-c46d-400b-81a3-7dc35ea887f3"
      },
      "execution_count": 87,
      "outputs": [
        {
          "output_type": "stream",
          "name": "stdout",
          "text": [
            "Classificador Árvore de Decisão:\n",
            "\n",
            "--------------------------------------\n",
            "Acurácia de treinamento: 0.7677777777777778\n",
            "--------------------------------------\n",
            "--------------------------------------\n",
            "Acurácia de previsão: 0.7\n",
            "--------------------------------------\n",
            "              precision    recall  f1-score   support\n",
            "\n",
            "   completed       0.61      0.54      0.57        37\n",
            "        none       0.75      0.79      0.77        63\n",
            "\n",
            "    accuracy                           0.70       100\n",
            "   macro avg       0.68      0.67      0.67       100\n",
            "weighted avg       0.69      0.70      0.70       100\n",
            "\n",
            "           completed(prev)  none(prev)\n",
            "completed               20          17\n",
            "none                    13          50\n"
          ]
        }
      ]
    },
    {
      "cell_type": "markdown",
      "metadata": {
        "id": "5XLmDRs88ksC"
      },
      "source": [
        "### Random Forest"
      ]
    },
    {
      "cell_type": "code",
      "source": [
        "floresta = RandomForestClassifier(random_state=0)\n",
        "floresta = floresta.fit(x_train, y_train)\n",
        "y_pred = floresta.predict(x_test)"
      ],
      "metadata": {
        "id": "x2HYbospvJyF"
      },
      "execution_count": null,
      "outputs": []
    },
    {
      "cell_type": "code",
      "metadata": {
        "id": "IX3ZhuD_RQ2z",
        "colab": {
          "base_uri": "https://localhost:8080/"
        },
        "outputId": "47aa9856-d8a1-4e0b-a598-ff500abfc936"
      },
      "source": [
        "print(\"Classificador Random Forest:\\n\")\n",
        "print(\"--------------------------------------\")\n",
        "print(\"Acurácia da base de treinamento: {:.2f}\".format(floresta.score(x_train, y_train)))\n",
        "print(\"--------------------------------------\")\n",
        "\n",
        "print(\"--------------------------------------\")\n",
        "print(\"Acurácia da base de teste: {:.4f}\".format(floresta.score(x_test, y_test)))\n",
        "print(\"--------------------------------------\")\n",
        "\n",
        "print(classification_report(y_test, y_pred, target_names=class_names))\n",
        "\n",
        "floresta_matrix = confusion_matrix(y_test, y_pred)\n",
        "floresta_table = pd.DataFrame(data=floresta_matrix, index=class_names, columns=[x + \"(prev)\" for x in class_names])\n",
        "print(floresta_table)\n"
      ],
      "execution_count": null,
      "outputs": [
        {
          "output_type": "stream",
          "name": "stdout",
          "text": [
            "Classificador Random Forest:\n",
            "\n",
            "--------------------------------------\n",
            "Acurácia da base de treinamento: 1.00\n",
            "--------------------------------------\n",
            "--------------------------------------\n",
            "Acurácia da base de teste: 0.6500\n",
            "--------------------------------------\n",
            "              precision    recall  f1-score   support\n",
            "\n",
            "   completed       0.71      0.32      0.44        37\n",
            "        none       0.70      0.92      0.79        63\n",
            "\n",
            "    accuracy                           0.70       100\n",
            "   macro avg       0.70      0.62      0.62       100\n",
            "weighted avg       0.70      0.70      0.66       100\n",
            "\n",
            "           completed(prev)  none(prev)\n",
            "completed               12          25\n",
            "none                     5          58\n"
          ]
        }
      ]
    },
    {
      "cell_type": "code",
      "source": [
        "forest_params = {\"max_depth\": np.arange(1, 20),\n",
        "               \"criterion\": [\"gini\", \"entropy\"],\n",
        "               \"min_samples_split\": np.arange(1, 20),\n",
        "               \"min_samples_leaf\": np.arange(1, 20),\n",
        "               }"
      ],
      "metadata": {
        "id": "vm4e4zELvSMx"
      },
      "execution_count": null,
      "outputs": []
    },
    {
      "cell_type": "code",
      "source": [
        "floresta2 = random_search = RandomizedSearchCV(floresta,\n",
        "                                   param_distributions=forest_params,\n",
        "                                   n_iter=10,\n",
        "                                   cv=5,\n",
        "                                   random_state=0)"
      ],
      "metadata": {
        "id": "YWWttqYkw5Xk"
      },
      "execution_count": null,
      "outputs": []
    },
    {
      "cell_type": "code",
      "source": [
        "floresta2.fit(x_train, y_train)"
      ],
      "metadata": {
        "colab": {
          "base_uri": "https://localhost:8080/"
        },
        "id": "J_TvEBUGw1-a",
        "outputId": "b8d92add-0fb9-4420-9ab0-3adc3870903e"
      },
      "execution_count": null,
      "outputs": [
        {
          "output_type": "execute_result",
          "data": {
            "text/plain": [
              "RandomizedSearchCV(cv=5, estimator=RandomForestClassifier(random_state=0),\n",
              "                   param_distributions={'criterion': ['gini', 'entropy'],\n",
              "                                        'max_depth': array([ 1,  2,  3,  4,  5,  6,  7,  8,  9, 10, 11, 12, 13, 14, 15, 16, 17,\n",
              "       18, 19]),\n",
              "                                        'min_samples_leaf': array([ 1,  2,  3,  4,  5,  6,  7,  8,  9, 10, 11, 12, 13, 14, 15, 16, 17,\n",
              "       18, 19]),\n",
              "                                        'min_samples_split': array([ 1,  2,  3,  4,  5,  6,  7,  8,  9, 10, 11, 12, 13, 14, 15, 16, 17,\n",
              "       18, 19])},\n",
              "                   random_state=0)"
            ]
          },
          "metadata": {},
          "execution_count": 68
        }
      ]
    },
    {
      "cell_type": "code",
      "source": [
        "floresta2.best_estimator_"
      ],
      "metadata": {
        "colab": {
          "base_uri": "https://localhost:8080/"
        },
        "id": "8-oTLKy8xGSF",
        "outputId": "999e1a9c-b287-43b4-e8f2-9551c5c4c714"
      },
      "execution_count": null,
      "outputs": [
        {
          "output_type": "execute_result",
          "data": {
            "text/plain": [
              "RandomForestClassifier(criterion='entropy', max_depth=9, min_samples_leaf=6,\n",
              "                       min_samples_split=4, random_state=0)"
            ]
          },
          "metadata": {},
          "execution_count": 69
        }
      ]
    },
    {
      "cell_type": "code",
      "source": [
        "print(\"Classificador Random Forest:\\n\")\n",
        "print(\"--------------------------------------\")\n",
        "print(\"Acurácia de treinamento:\", floresta2.best_estimator_.score(x_train, y_train))\n",
        "print(\"--------------------------------------\")\n",
        "\n",
        "print(\"--------------------------------------\")\n",
        "y_pred = floresta2.best_estimator_.predict(x_test)\n",
        "print(\"Acurácia de previsão:\", accuracy_score(y_test, y_pred))\n",
        "print(\"--------------------------------------\")\n",
        "\n",
        "print(classification_report(y_test, y_pred, target_names=class_names))\n",
        "\n",
        "floresta_matrix = confusion_matrix(y_test, y_pred)\n",
        "floresta_table = pd.DataFrame(data=floresta_matrix, index=class_names, columns=[x + \"(prev)\" for x in class_names])\n",
        "print(floresta_table)"
      ],
      "metadata": {
        "colab": {
          "base_uri": "https://localhost:8080/"
        },
        "id": "uOZYu3jIxIZq",
        "outputId": "8eafef47-e6f6-4d96-f311-3f2f04457c87"
      },
      "execution_count": 85,
      "outputs": [
        {
          "output_type": "stream",
          "name": "stdout",
          "text": [
            "Classificador Random Forest:\n",
            "\n",
            "--------------------------------------\n",
            "Acurácia de treinamento: 0.7988888888888889\n",
            "--------------------------------------\n",
            "--------------------------------------\n",
            "Acurácia de previsão: 0.7\n",
            "--------------------------------------\n",
            "              precision    recall  f1-score   support\n",
            "\n",
            "   completed       0.71      0.32      0.44        37\n",
            "        none       0.70      0.92      0.79        63\n",
            "\n",
            "    accuracy                           0.70       100\n",
            "   macro avg       0.70      0.62      0.62       100\n",
            "weighted avg       0.70      0.70      0.66       100\n",
            "\n",
            "           completed(prev)  none(prev)\n",
            "completed               12          25\n",
            "none                     5          58\n"
          ]
        }
      ]
    }
  ]
}