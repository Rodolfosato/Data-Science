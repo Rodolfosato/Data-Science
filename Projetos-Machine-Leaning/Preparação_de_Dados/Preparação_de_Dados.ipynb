{
  "nbformat": 4,
  "nbformat_minor": 0,
  "metadata": {
    "colab": {
      "name": "Preparação de Dados.ipynb",
      "provenance": [],
      "collapsed_sections": []
    },
    "kernelspec": {
      "name": "python3",
      "display_name": "Python 3"
    }
  },
  "cells": [
    {
      "cell_type": "markdown",
      "source": [
        "Trabalho Rodolfo Sato Junior e Akilles Yuri Nakabori\n"
      ],
      "metadata": {
        "id": "egwQd0eh2qdi"
      }
    },
    {
      "cell_type": "code",
      "metadata": {
        "id": "NyeTED-9zxTC"
      },
      "source": [
        "import numpy as np\n",
        "import pandas as pd\n",
        "import matplotlib.pyplot as plt"
      ],
      "execution_count": 160,
      "outputs": []
    },
    {
      "cell_type": "markdown",
      "metadata": {
        "id": "Qbw3Lal73we2"
      },
      "source": [
        "# Base de dados de Automoveis\n",
        "\n",
        "\n",
        "### DESCRIÇÃO DOS ATRIBUTOS:\n",
        "\n",
        "\n",
        "*   ```Fabricante``` --  Fabricante (str)\n",
        "*   ```Combustível``` --  Combustível (gas; diesel)\n",
        "*   ```Portas``` --  Quantidade de portas no veiculo\n",
        "*   ```Estilo Chassis``` --  Estilo do Chassi (conversível; hatch; suv; sedan)\n",
        "*   ```Tração``` --  Tração dos pneus (traseira; dianteira; 4x4)\n",
        "*   ```Comprimento``` --  Comprimento do veiculo\n",
        "*   ```Largura``` --  Largura do veiculo\n",
        "*   ```Altura``` --  Altura do veiculo\n",
        "*   ```Tipo de motor``` --  Tipo do motor (dohc; ohcv; ohc; ohcf; dohcv; rotor; l)\n",
        "*   ```Número de cilindros``` --  Número de cilindros do veiculo\n",
        "*   ```Tamanho do motor``` --  Tamanho do motor\n",
        "*   ```Tipo de injeção``` --  Tipo de injeção (1bbl; 2bbl; 4bbl; idi; mfi; mpfi; spdi; spfi)\n",
        "*   ```Potência (HP)``` --  Potencia do motor\n",
        "*   ```Pico RPMs``` --  Picos de RPMs\n",
        "*   ```Preço``` --  Preço do veiculo\n",
        "\n"
      ]
    },
    {
      "cell_type": "code",
      "source": [
        "from google.colab import drive\n",
        "drive.mount('/content/drive')"
      ],
      "metadata": {
        "colab": {
          "base_uri": "https://localhost:8080/"
        },
        "id": "snlhNnujX2sn",
        "outputId": "f71f85cb-66cd-44b6-ae0f-3c7ce761d679"
      },
      "execution_count": 114,
      "outputs": [
        {
          "output_type": "stream",
          "name": "stdout",
          "text": [
            "Drive already mounted at /content/drive; to attempt to forcibly remount, call drive.mount(\"/content/drive\", force_remount=True).\n"
          ]
        }
      ]
    },
    {
      "cell_type": "code",
      "source": [
        "automoveis = pd.read_excel(\"/content/drive/MyDrive/Colab Notebooks/Bases/automoveis.xlsx\")\n",
        "automoveis"
      ],
      "metadata": {
        "colab": {
          "base_uri": "https://localhost:8080/",
          "height": 458
        },
        "id": "GP_0F5AwcMLQ",
        "outputId": "647012fc-adcd-4e91-f8e2-6715c91f4f5a"
      },
      "execution_count": 161,
      "outputs": [
        {
          "output_type": "execute_result",
          "data": {
            "text/html": [
              "<div>\n",
              "<style scoped>\n",
              "    .dataframe tbody tr th:only-of-type {\n",
              "        vertical-align: middle;\n",
              "    }\n",
              "\n",
              "    .dataframe tbody tr th {\n",
              "        vertical-align: top;\n",
              "    }\n",
              "\n",
              "    .dataframe thead th {\n",
              "        text-align: right;\n",
              "    }\n",
              "</style>\n",
              "<table border=\"1\" class=\"dataframe\">\n",
              "  <thead>\n",
              "    <tr style=\"text-align: right;\">\n",
              "      <th></th>\n",
              "      <th>Fabricante</th>\n",
              "      <th>Combustível</th>\n",
              "      <th>Portas</th>\n",
              "      <th>Estilo Chassis</th>\n",
              "      <th>Tração</th>\n",
              "      <th>Comprimento</th>\n",
              "      <th>Largura</th>\n",
              "      <th>Altura</th>\n",
              "      <th>Tipo de motor</th>\n",
              "      <th>Número de cilindros</th>\n",
              "      <th>Tamanho do motor</th>\n",
              "      <th>Tipo de injeção</th>\n",
              "      <th>Potência (HP)</th>\n",
              "      <th>Pico RPM</th>\n",
              "      <th>Preço</th>\n",
              "    </tr>\n",
              "  </thead>\n",
              "  <tbody>\n",
              "    <tr>\n",
              "      <th>0</th>\n",
              "      <td>alfa-romeo</td>\n",
              "      <td>gas</td>\n",
              "      <td>2.0</td>\n",
              "      <td>conversível</td>\n",
              "      <td>traseira</td>\n",
              "      <td>168,80</td>\n",
              "      <td>64,10</td>\n",
              "      <td>48,80</td>\n",
              "      <td>dohc</td>\n",
              "      <td>4</td>\n",
              "      <td>130,00</td>\n",
              "      <td>mpfi</td>\n",
              "      <td>111,00</td>\n",
              "      <td>5000,00</td>\n",
              "      <td>13495,00</td>\n",
              "    </tr>\n",
              "    <tr>\n",
              "      <th>1</th>\n",
              "      <td>alfa-romeo</td>\n",
              "      <td>gas</td>\n",
              "      <td>2.0</td>\n",
              "      <td>conversível</td>\n",
              "      <td>traseira</td>\n",
              "      <td>168,80</td>\n",
              "      <td>64,10</td>\n",
              "      <td>48,80</td>\n",
              "      <td>dohc</td>\n",
              "      <td>4</td>\n",
              "      <td>130,00</td>\n",
              "      <td>mpfi</td>\n",
              "      <td>111,00</td>\n",
              "      <td>5000,00</td>\n",
              "      <td>16500,00</td>\n",
              "    </tr>\n",
              "    <tr>\n",
              "      <th>2</th>\n",
              "      <td>alfa-romeo</td>\n",
              "      <td>gas</td>\n",
              "      <td>2.0</td>\n",
              "      <td>hatch</td>\n",
              "      <td>traseira</td>\n",
              "      <td>171,20</td>\n",
              "      <td>65,50</td>\n",
              "      <td>52,40</td>\n",
              "      <td>ohcv</td>\n",
              "      <td>6</td>\n",
              "      <td>152,00</td>\n",
              "      <td>mpfi</td>\n",
              "      <td>154,00</td>\n",
              "      <td>5000,00</td>\n",
              "      <td>16500,00</td>\n",
              "    </tr>\n",
              "    <tr>\n",
              "      <th>3</th>\n",
              "      <td>audi</td>\n",
              "      <td>gas</td>\n",
              "      <td>4.0</td>\n",
              "      <td>sedan</td>\n",
              "      <td>dianteira</td>\n",
              "      <td>176,60</td>\n",
              "      <td>66,20</td>\n",
              "      <td>54,30</td>\n",
              "      <td>ohc</td>\n",
              "      <td>4</td>\n",
              "      <td>109,00</td>\n",
              "      <td>mpfi</td>\n",
              "      <td>102,00</td>\n",
              "      <td>5500,00</td>\n",
              "      <td>13950,00</td>\n",
              "    </tr>\n",
              "    <tr>\n",
              "      <th>4</th>\n",
              "      <td>audi</td>\n",
              "      <td>gas</td>\n",
              "      <td>4.0</td>\n",
              "      <td>sedan</td>\n",
              "      <td>4x4</td>\n",
              "      <td>176,60</td>\n",
              "      <td>66,40</td>\n",
              "      <td>54,30</td>\n",
              "      <td>ohc</td>\n",
              "      <td>5</td>\n",
              "      <td>136,00</td>\n",
              "      <td>mpfi</td>\n",
              "      <td>115,00</td>\n",
              "      <td>5500,00</td>\n",
              "      <td>17450,00</td>\n",
              "    </tr>\n",
              "    <tr>\n",
              "      <th>...</th>\n",
              "      <td>...</td>\n",
              "      <td>...</td>\n",
              "      <td>...</td>\n",
              "      <td>...</td>\n",
              "      <td>...</td>\n",
              "      <td>...</td>\n",
              "      <td>...</td>\n",
              "      <td>...</td>\n",
              "      <td>...</td>\n",
              "      <td>...</td>\n",
              "      <td>...</td>\n",
              "      <td>...</td>\n",
              "      <td>...</td>\n",
              "      <td>...</td>\n",
              "      <td>...</td>\n",
              "    </tr>\n",
              "    <tr>\n",
              "      <th>200</th>\n",
              "      <td>volvo</td>\n",
              "      <td>gas</td>\n",
              "      <td>4.0</td>\n",
              "      <td>sedan</td>\n",
              "      <td>traseira</td>\n",
              "      <td>188,80</td>\n",
              "      <td>68,90</td>\n",
              "      <td>55,50</td>\n",
              "      <td>ohcv</td>\n",
              "      <td>6</td>\n",
              "      <td>173,00</td>\n",
              "      <td>mpfi</td>\n",
              "      <td>134,00</td>\n",
              "      <td>5500,00</td>\n",
              "      <td>21485,00</td>\n",
              "    </tr>\n",
              "    <tr>\n",
              "      <th>201</th>\n",
              "      <td>volvo</td>\n",
              "      <td>diesel</td>\n",
              "      <td>4.0</td>\n",
              "      <td>sedan</td>\n",
              "      <td>traseira</td>\n",
              "      <td>188,80</td>\n",
              "      <td>68,90</td>\n",
              "      <td>55,50</td>\n",
              "      <td>ohc</td>\n",
              "      <td>6</td>\n",
              "      <td>145,00</td>\n",
              "      <td>idi</td>\n",
              "      <td>106,00</td>\n",
              "      <td>4800,00</td>\n",
              "      <td>22470,00</td>\n",
              "    </tr>\n",
              "    <tr>\n",
              "      <th>202</th>\n",
              "      <td>volvo</td>\n",
              "      <td>gas</td>\n",
              "      <td>4.0</td>\n",
              "      <td>sedan</td>\n",
              "      <td>traseira</td>\n",
              "      <td>188,80</td>\n",
              "      <td>68,90</td>\n",
              "      <td>55,50</td>\n",
              "      <td>ohc</td>\n",
              "      <td>4</td>\n",
              "      <td>141,00</td>\n",
              "      <td>mpfi</td>\n",
              "      <td>114,00</td>\n",
              "      <td>5400,00</td>\n",
              "      <td>22625,00</td>\n",
              "    </tr>\n",
              "    <tr>\n",
              "      <th>203</th>\n",
              "      <td>NaN</td>\n",
              "      <td>gas</td>\n",
              "      <td>4.0</td>\n",
              "      <td>sedan</td>\n",
              "      <td>traseira</td>\n",
              "      <td>176,80</td>\n",
              "      <td>64,80</td>\n",
              "      <td>54,30</td>\n",
              "      <td>ohc</td>\n",
              "      <td>6</td>\n",
              "      <td>164,00</td>\n",
              "      <td>mpfi</td>\n",
              "      <td>121,00</td>\n",
              "      <td>4250,00</td>\n",
              "      <td>21105,00</td>\n",
              "    </tr>\n",
              "    <tr>\n",
              "      <th>204</th>\n",
              "      <td>NaN</td>\n",
              "      <td>gas</td>\n",
              "      <td>2.0</td>\n",
              "      <td>hatch</td>\n",
              "      <td>traseira</td>\n",
              "      <td>169,00</td>\n",
              "      <td>65,70</td>\n",
              "      <td>49,60</td>\n",
              "      <td>rotor</td>\n",
              "      <td>2</td>\n",
              "      <td>70,00</td>\n",
              "      <td>4bbl</td>\n",
              "      <td>101,00</td>\n",
              "      <td>6000,00</td>\n",
              "      <td>10945,00</td>\n",
              "    </tr>\n",
              "  </tbody>\n",
              "</table>\n",
              "<p>205 rows × 15 columns</p>\n",
              "</div>"
            ],
            "text/plain": [
              "     Fabricante Combustível  Portas  ... Potência (HP) Pico RPM     Preço\n",
              "0    alfa-romeo         gas     2.0  ...        111,00  5000,00  13495,00\n",
              "1    alfa-romeo         gas     2.0  ...        111,00  5000,00  16500,00\n",
              "2    alfa-romeo         gas     2.0  ...        154,00  5000,00  16500,00\n",
              "3          audi         gas     4.0  ...        102,00  5500,00  13950,00\n",
              "4          audi         gas     4.0  ...        115,00  5500,00  17450,00\n",
              "..          ...         ...     ...  ...           ...      ...       ...\n",
              "200       volvo         gas     4.0  ...        134,00  5500,00  21485,00\n",
              "201       volvo      diesel     4.0  ...        106,00  4800,00  22470,00\n",
              "202       volvo         gas     4.0  ...        114,00  5400,00  22625,00\n",
              "203         NaN         gas     4.0  ...        121,00  4250,00  21105,00\n",
              "204         NaN         gas     2.0  ...        101,00  6000,00  10945,00\n",
              "\n",
              "[205 rows x 15 columns]"
            ]
          },
          "metadata": {},
          "execution_count": 161
        }
      ]
    },
    {
      "cell_type": "code",
      "metadata": {
        "id": "oy1UjWsm5udo",
        "colab": {
          "base_uri": "https://localhost:8080/"
        },
        "outputId": "0826edfb-9e52-451b-de3b-eb19e58a3148"
      },
      "source": [
        "automoveis.info()"
      ],
      "execution_count": 162,
      "outputs": [
        {
          "output_type": "stream",
          "name": "stdout",
          "text": [
            "<class 'pandas.core.frame.DataFrame'>\n",
            "RangeIndex: 205 entries, 0 to 204\n",
            "Data columns (total 15 columns):\n",
            " #   Column               Non-Null Count  Dtype  \n",
            "---  ------               --------------  -----  \n",
            " 0   Fabricante           203 non-null    object \n",
            " 1   Combustível          200 non-null    object \n",
            " 2   Portas               203 non-null    float64\n",
            " 3   Estilo Chassis       205 non-null    object \n",
            " 4   Tração               205 non-null    object \n",
            " 5   Comprimento          205 non-null    object \n",
            " 6   Largura              205 non-null    object \n",
            " 7   Altura               205 non-null    object \n",
            " 8   Tipo de motor        205 non-null    object \n",
            " 9   Número de cilindros  205 non-null    object \n",
            " 10  Tamanho do motor     205 non-null    object \n",
            " 11  Tipo de injeção      205 non-null    object \n",
            " 12  Potência (HP)        205 non-null    object \n",
            " 13  Pico RPM             205 non-null    object \n",
            " 14  Preço                205 non-null    object \n",
            "dtypes: float64(1), object(14)\n",
            "memory usage: 24.1+ KB\n"
          ]
        }
      ]
    },
    {
      "cell_type": "code",
      "metadata": {
        "id": "z5nfLhxcm8wD",
        "colab": {
          "base_uri": "https://localhost:8080/"
        },
        "outputId": "3fc6ee6b-dc1d-41b0-ede9-4c70f5af2fa1"
      },
      "source": [
        "automoveis.shape # linhas, colunas"
      ],
      "execution_count": 163,
      "outputs": [
        {
          "output_type": "execute_result",
          "data": {
            "text/plain": [
              "(205, 15)"
            ]
          },
          "metadata": {},
          "execution_count": 163
        }
      ]
    },
    {
      "cell_type": "code",
      "metadata": {
        "id": "gNiqMG8nkBR5",
        "colab": {
          "base_uri": "https://localhost:8080/"
        },
        "outputId": "069c45f8-2d2e-438f-8c86-a079258324e1"
      },
      "source": [
        "automoveis.columns"
      ],
      "execution_count": 164,
      "outputs": [
        {
          "output_type": "execute_result",
          "data": {
            "text/plain": [
              "Index(['Fabricante', 'Combustível', 'Portas', 'Estilo Chassis', 'Tração',\n",
              "       'Comprimento', 'Largura', 'Altura', 'Tipo de motor',\n",
              "       'Número de cilindros', 'Tamanho do motor', 'Tipo de injeção',\n",
              "       'Potência (HP)', 'Pico RPM', 'Preço'],\n",
              "      dtype='object')"
            ]
          },
          "metadata": {},
          "execution_count": 164
        }
      ]
    },
    {
      "cell_type": "markdown",
      "metadata": {
        "id": "_zBeELpx0c4O"
      },
      "source": [
        "Variáveis categóricas ou strings são lidas como `object`"
      ]
    },
    {
      "cell_type": "markdown",
      "metadata": {
        "id": "5-VxLKNs8-lP"
      },
      "source": [
        "### ESTATÍSTICA DESCRITIVA DOS DADOS\n",
        "\n",
        "O comando describe exibe prioritariamente os campos numéricos. Deve-se isolar os campos categóricos para serem exibidos posteriormente."
      ]
    },
    {
      "cell_type": "code",
      "metadata": {
        "id": "sYzMMksi1O4N",
        "colab": {
          "base_uri": "https://localhost:8080/",
          "height": 300
        },
        "outputId": "6244bb8e-8520-422a-bcbd-4aac2f76374c"
      },
      "source": [
        "# Exibe apenas os campos numméricos:\n",
        "\n",
        "automoveis.describe()"
      ],
      "execution_count": 165,
      "outputs": [
        {
          "output_type": "execute_result",
          "data": {
            "text/html": [
              "<div>\n",
              "<style scoped>\n",
              "    .dataframe tbody tr th:only-of-type {\n",
              "        vertical-align: middle;\n",
              "    }\n",
              "\n",
              "    .dataframe tbody tr th {\n",
              "        vertical-align: top;\n",
              "    }\n",
              "\n",
              "    .dataframe thead th {\n",
              "        text-align: right;\n",
              "    }\n",
              "</style>\n",
              "<table border=\"1\" class=\"dataframe\">\n",
              "  <thead>\n",
              "    <tr style=\"text-align: right;\">\n",
              "      <th></th>\n",
              "      <th>Portas</th>\n",
              "    </tr>\n",
              "  </thead>\n",
              "  <tbody>\n",
              "    <tr>\n",
              "      <th>count</th>\n",
              "      <td>203.000000</td>\n",
              "    </tr>\n",
              "    <tr>\n",
              "      <th>mean</th>\n",
              "      <td>3.123153</td>\n",
              "    </tr>\n",
              "    <tr>\n",
              "      <th>std</th>\n",
              "      <td>0.994841</td>\n",
              "    </tr>\n",
              "    <tr>\n",
              "      <th>min</th>\n",
              "      <td>2.000000</td>\n",
              "    </tr>\n",
              "    <tr>\n",
              "      <th>25%</th>\n",
              "      <td>2.000000</td>\n",
              "    </tr>\n",
              "    <tr>\n",
              "      <th>50%</th>\n",
              "      <td>4.000000</td>\n",
              "    </tr>\n",
              "    <tr>\n",
              "      <th>75%</th>\n",
              "      <td>4.000000</td>\n",
              "    </tr>\n",
              "    <tr>\n",
              "      <th>max</th>\n",
              "      <td>4.000000</td>\n",
              "    </tr>\n",
              "  </tbody>\n",
              "</table>\n",
              "</div>"
            ],
            "text/plain": [
              "           Portas\n",
              "count  203.000000\n",
              "mean     3.123153\n",
              "std      0.994841\n",
              "min      2.000000\n",
              "25%      2.000000\n",
              "50%      4.000000\n",
              "75%      4.000000\n",
              "max      4.000000"
            ]
          },
          "metadata": {},
          "execution_count": 165
        }
      ]
    },
    {
      "cell_type": "code",
      "metadata": {
        "id": "4aCdL67o8-G_",
        "colab": {
          "base_uri": "https://localhost:8080/",
          "height": 192
        },
        "outputId": "d49f6368-7440-4f01-89c4-714ba567f8a4"
      },
      "source": [
        "# Para se ter uma visão dos atributos categóricos, os atributos não numéricos \n",
        "# são descartados. \n",
        "\n",
        "automoveis.select_dtypes(include='object').describe()"
      ],
      "execution_count": 166,
      "outputs": [
        {
          "output_type": "execute_result",
          "data": {
            "text/html": [
              "<div>\n",
              "<style scoped>\n",
              "    .dataframe tbody tr th:only-of-type {\n",
              "        vertical-align: middle;\n",
              "    }\n",
              "\n",
              "    .dataframe tbody tr th {\n",
              "        vertical-align: top;\n",
              "    }\n",
              "\n",
              "    .dataframe thead th {\n",
              "        text-align: right;\n",
              "    }\n",
              "</style>\n",
              "<table border=\"1\" class=\"dataframe\">\n",
              "  <thead>\n",
              "    <tr style=\"text-align: right;\">\n",
              "      <th></th>\n",
              "      <th>Fabricante</th>\n",
              "      <th>Combustível</th>\n",
              "      <th>Estilo Chassis</th>\n",
              "      <th>Tração</th>\n",
              "      <th>Comprimento</th>\n",
              "      <th>Largura</th>\n",
              "      <th>Altura</th>\n",
              "      <th>Tipo de motor</th>\n",
              "      <th>Número de cilindros</th>\n",
              "      <th>Tamanho do motor</th>\n",
              "      <th>Tipo de injeção</th>\n",
              "      <th>Potência (HP)</th>\n",
              "      <th>Pico RPM</th>\n",
              "      <th>Preço</th>\n",
              "    </tr>\n",
              "  </thead>\n",
              "  <tbody>\n",
              "    <tr>\n",
              "      <th>count</th>\n",
              "      <td>203</td>\n",
              "      <td>200</td>\n",
              "      <td>205</td>\n",
              "      <td>205</td>\n",
              "      <td>205</td>\n",
              "      <td>205</td>\n",
              "      <td>205</td>\n",
              "      <td>205</td>\n",
              "      <td>205</td>\n",
              "      <td>205</td>\n",
              "      <td>205</td>\n",
              "      <td>205</td>\n",
              "      <td>205</td>\n",
              "      <td>205</td>\n",
              "    </tr>\n",
              "    <tr>\n",
              "      <th>unique</th>\n",
              "      <td>22</td>\n",
              "      <td>2</td>\n",
              "      <td>5</td>\n",
              "      <td>3</td>\n",
              "      <td>75</td>\n",
              "      <td>44</td>\n",
              "      <td>49</td>\n",
              "      <td>7</td>\n",
              "      <td>7</td>\n",
              "      <td>44</td>\n",
              "      <td>8</td>\n",
              "      <td>60</td>\n",
              "      <td>25</td>\n",
              "      <td>187</td>\n",
              "    </tr>\n",
              "    <tr>\n",
              "      <th>top</th>\n",
              "      <td>toyota</td>\n",
              "      <td>gas</td>\n",
              "      <td>sedan</td>\n",
              "      <td>dianteira</td>\n",
              "      <td>157,30</td>\n",
              "      <td>63,80</td>\n",
              "      <td>50,80</td>\n",
              "      <td>ohc</td>\n",
              "      <td>4</td>\n",
              "      <td>122,00</td>\n",
              "      <td>mpfi</td>\n",
              "      <td>68,00</td>\n",
              "      <td>5500,00</td>\n",
              "      <td>13207,13</td>\n",
              "    </tr>\n",
              "    <tr>\n",
              "      <th>freq</th>\n",
              "      <td>32</td>\n",
              "      <td>180</td>\n",
              "      <td>96</td>\n",
              "      <td>120</td>\n",
              "      <td>15</td>\n",
              "      <td>24</td>\n",
              "      <td>14</td>\n",
              "      <td>148</td>\n",
              "      <td>159</td>\n",
              "      <td>15</td>\n",
              "      <td>94</td>\n",
              "      <td>19</td>\n",
              "      <td>37</td>\n",
              "      <td>4</td>\n",
              "    </tr>\n",
              "  </tbody>\n",
              "</table>\n",
              "</div>"
            ],
            "text/plain": [
              "       Fabricante Combustível Estilo Chassis  ... Potência (HP) Pico RPM     Preço\n",
              "count         203         200            205  ...           205      205       205\n",
              "unique         22           2              5  ...            60       25       187\n",
              "top        toyota         gas          sedan  ...         68,00  5500,00  13207,13\n",
              "freq           32         180             96  ...            19       37         4\n",
              "\n",
              "[4 rows x 14 columns]"
            ]
          },
          "metadata": {},
          "execution_count": 166
        }
      ]
    },
    {
      "cell_type": "markdown",
      "metadata": {
        "id": "1G0l6X1s970Q"
      },
      "source": [
        "### REMOÇÃO DE ATRIBUTOS IRRELEVANTES\n",
        "\n",
        "* ```Tamanho do motor``` é um dado irrelevante pelo fato de que poucas pessoas pesquisam o tamanho de um motor de um carro.\n",
        "\n",
        "* ```Tipo de injeção``` é um dado irrelevante pelo fato de que poucas pessoas pesquisam a tipo de injeção um carro.\n",
        "\n",
        "* ```Pico RPM``` é um dado irrelevante pelo fato de que poucas pessoas conhecem o pico de rpm de um carro."
      ]
    },
    {
      "cell_type": "code",
      "metadata": {
        "id": "0KheF1X787au",
        "colab": {
          "base_uri": "https://localhost:8080/"
        },
        "outputId": "37dfe4b5-5855-486d-be3f-c338688f002c"
      },
      "source": [
        "del automoveis['Tamanho do motor']\n",
        "del automoveis['Tipo de injeção']\n",
        "del automoveis['Pico RPM']\n",
        "\n",
        "# Verifique que o número de atributos (colunas) reduziu para 12.\n",
        "\n",
        "automoveis.shape"
      ],
      "execution_count": 167,
      "outputs": [
        {
          "output_type": "execute_result",
          "data": {
            "text/plain": [
              "(205, 12)"
            ]
          },
          "metadata": {},
          "execution_count": 167
        }
      ]
    },
    {
      "cell_type": "markdown",
      "metadata": {
        "id": "7npsJkQoDpZp"
      },
      "source": [
        "### VALORES OMISSOS OU INCONSISTENTES\n",
        "\n",
        "Em atributos numéricos , as possibilidades são:\n",
        "\n",
        "1. substituir por zeros;\n",
        "2. substituir por um valor médio ou mediano;\n",
        "3. estimar valores usando modelos estatísticos ou preditivos;\n",
        "4. particionar a base em registros completos e registros incompletos.\n",
        "\n",
        "Vamos analisar o atributo `Portas` e `Número de cilindros` para tratarmos os valores omissos."
      ]
    },
    {
      "cell_type": "code",
      "source": [
        "automoveis['Portas'] = automoveis['Portas'].map({2:2,\n",
        "                             4:4,\n",
        "                             \"\":0,\n",
        "                             })"
      ],
      "metadata": {
        "id": "sIk5yu7Rmi0r"
      },
      "execution_count": 168,
      "outputs": []
    },
    {
      "cell_type": "code",
      "metadata": {
        "id": "1pvbAVQYEXPX",
        "colab": {
          "base_uri": "https://localhost:8080/",
          "height": 390
        },
        "outputId": "c97d2efb-5850-49e7-e04d-41b899d83e8e"
      },
      "source": [
        "automoveis.hist(column='Portas',    # Coluna a ser plotada\n",
        "                   figsize=(9,6),   # Tamanho do gráfico\n",
        "                   bins=20);        # Numero de colunas/bins do histograma"
      ],
      "execution_count": 169,
      "outputs": [
        {
          "output_type": "display_data",
          "data": {
            "image/png": "[encoded data removed]",
            "text/plain": [
              "<Figure size 648x432 with 1 Axes>"
            ]
          },
          "metadata": {
            "needs_background": "light"
          }
        }
      ]
    },
    {
      "cell_type": "code",
      "source": [
        "automoveis['Número de cilindros'] = automoveis['Número de cilindros'].map({'doze': 12,\n",
        "                             'oito':8,\n",
        "                             2:2,\n",
        "                             3:3,\n",
        "                             4:4,\n",
        "                             5:5,\n",
        "                             6:6})"
      ],
      "metadata": {
        "id": "yb3-8zI5isQX"
      },
      "execution_count": 170,
      "outputs": []
    },
    {
      "cell_type": "code",
      "metadata": {
        "colab": {
          "base_uri": "https://localhost:8080/",
          "height": 390
        },
        "id": "IBl4oW4SKf3R",
        "outputId": "77f7ef95-16c2-4004-8d6c-6e20b2e50d56"
      },
      "source": [
        "automoveis.hist(column='Número de cilindros',    # Coluna a ser plotada\n",
        "                   figsize=(9,6),   # Tamanho do gráfico\n",
        "                   bins=20);        # Numero de colunas/bins do histograma"
      ],
      "execution_count": 171,
      "outputs": [
        {
          "output_type": "display_data",
          "data": {
            "image/png": "[encoded data removed]",
            "text/plain": [
              "<Figure size 648x432 with 1 Axes>"
            ]
          },
          "metadata": {
            "needs_background": "light"
          }
        }
      ]
    },
    {
      "cell_type": "markdown",
      "metadata": {
        "id": "LDZV3WXrFBNM"
      },
      "source": [
        "### DETECTANDO OUTLIERS\n",
        "\n",
        "Outliers são valores extremos. A estatística descritiva, em geral, provê um bom indicativo da presença de outliers, com valores máximos e mínimo muito distantes; o valor da média muito próximo de um máximo ou mínimo, mostrando problema de distribuição dos dados."
      ]
    },
    {
      "cell_type": "code",
      "source": [
        "display(automoveis.dtypes)"
      ],
      "metadata": {
        "colab": {
          "base_uri": "https://localhost:8080/",
          "height": 243
        },
        "id": "T6v7qcNOo3mn",
        "outputId": "4585d688-8927-4650-832f-f49ce5c4c3c7"
      },
      "execution_count": 172,
      "outputs": [
        {
          "output_type": "display_data",
          "data": {
            "text/plain": [
              "Fabricante              object\n",
              "Combustível             object\n",
              "Portas                 float64\n",
              "Estilo Chassis          object\n",
              "Tração                  object\n",
              "Comprimento             object\n",
              "Largura                 object\n",
              "Altura                  object\n",
              "Tipo de motor           object\n",
              "Número de cilindros      int64\n",
              "Potência (HP)           object\n",
              "Preço                   object\n",
              "dtype: object"
            ]
          },
          "metadata": {}
        }
      ]
    },
    {
      "cell_type": "code",
      "source": [
        "automoveis[\"Preço\"] = automoveis[\"Preço\"].str.replace(',','.').astype(np.float64)"
      ],
      "metadata": {
        "id": "66B1wrcZnUMb"
      },
      "execution_count": 173,
      "outputs": []
    },
    {
      "cell_type": "code",
      "metadata": {
        "id": "YV71iH7jFKVu",
        "colab": {
          "base_uri": "https://localhost:8080/",
          "height": 537
        },
        "outputId": "05b9dc9a-774a-480c-a731-8e6becd0a880"
      },
      "source": [
        "automoveis2[\"Preço\"].plot(kind=\"box\", figsize=(9,9));"
      ],
      "execution_count": 175,
      "outputs": [
        {
          "output_type": "display_data",
          "data": {
            "image/png": "[encoded data removed]",
            "text/plain": [
              "<Figure size 648x648 with 1 Axes>"
            ]
          },
          "metadata": {
            "needs_background": "light"
          }
        }
      ]
    },
    {
      "cell_type": "code",
      "metadata": {
        "id": "CW2z3tpH0frD"
      },
      "source": [
        "# tukey test"
      ],
      "execution_count": null,
      "outputs": []
    },
    {
      "cell_type": "code",
      "metadata": {
        "id": "q5T02wNvzTiS",
        "colab": {
          "base_uri": "https://localhost:8080/",
          "height": 98
        },
        "outputId": "413ff19f-6f05-4631-f85e-0247b7326860"
      },
      "source": [
        "print(\"Registros com maior valor:\")\n",
        "automoveis[automoveis[\"Preço\"] == max(automoveis[\"Preço\"])]"
      ],
      "execution_count": 180,
      "outputs": [
        {
          "output_type": "stream",
          "name": "stdout",
          "text": [
            "Registros com maior valor:\n"
          ]
        },
        {
          "output_type": "execute_result",
          "data": {
            "text/html": [
              "<div>\n",
              "<style scoped>\n",
              "    .dataframe tbody tr th:only-of-type {\n",
              "        vertical-align: middle;\n",
              "    }\n",
              "\n",
              "    .dataframe tbody tr th {\n",
              "        vertical-align: top;\n",
              "    }\n",
              "\n",
              "    .dataframe thead th {\n",
              "        text-align: right;\n",
              "    }\n",
              "</style>\n",
              "<table border=\"1\" class=\"dataframe\">\n",
              "  <thead>\n",
              "    <tr style=\"text-align: right;\">\n",
              "      <th></th>\n",
              "      <th>Fabricante</th>\n",
              "      <th>Combustível</th>\n",
              "      <th>Portas</th>\n",
              "      <th>Estilo Chassis</th>\n",
              "      <th>Tração</th>\n",
              "      <th>Comprimento</th>\n",
              "      <th>Largura</th>\n",
              "      <th>Altura</th>\n",
              "      <th>Tipo de motor</th>\n",
              "      <th>Número de cilindros</th>\n",
              "      <th>Potência (HP)</th>\n",
              "      <th>Preço</th>\n",
              "    </tr>\n",
              "  </thead>\n",
              "  <tbody>\n",
              "    <tr>\n",
              "      <th>72</th>\n",
              "      <td>mercedes-benz</td>\n",
              "      <td>gas</td>\n",
              "      <td>2.0</td>\n",
              "      <td>hardtop</td>\n",
              "      <td>traseira</td>\n",
              "      <td>199,20</td>\n",
              "      <td>72,00</td>\n",
              "      <td>55,40</td>\n",
              "      <td>ohcv</td>\n",
              "      <td>8</td>\n",
              "      <td>184,00</td>\n",
              "      <td>45400.0</td>\n",
              "    </tr>\n",
              "  </tbody>\n",
              "</table>\n",
              "</div>"
            ],
            "text/plain": [
              "       Fabricante Combustível  ...  Potência (HP)    Preço\n",
              "72  mercedes-benz         gas  ...         184,00  45400.0\n",
              "\n",
              "[1 rows x 12 columns]"
            ]
          },
          "metadata": {},
          "execution_count": 180
        }
      ]
    },
    {
      "cell_type": "code",
      "metadata": {
        "id": "KphTI9G6-48Z",
        "colab": {
          "base_uri": "https://localhost:8080/",
          "height": 98
        },
        "outputId": "2c1672bd-2e33-46b4-a029-98e76b4b14ec"
      },
      "source": [
        "print(\"Registros com menor valor:\")\n",
        "automoveis[automoveis[\"Preço\"] == min(automoveis[\"Preço\"])]"
      ],
      "execution_count": 181,
      "outputs": [
        {
          "output_type": "stream",
          "name": "stdout",
          "text": [
            "Registros com menor valor:\n"
          ]
        },
        {
          "output_type": "execute_result",
          "data": {
            "text/html": [
              "<div>\n",
              "<style scoped>\n",
              "    .dataframe tbody tr th:only-of-type {\n",
              "        vertical-align: middle;\n",
              "    }\n",
              "\n",
              "    .dataframe tbody tr th {\n",
              "        vertical-align: top;\n",
              "    }\n",
              "\n",
              "    .dataframe thead th {\n",
              "        text-align: right;\n",
              "    }\n",
              "</style>\n",
              "<table border=\"1\" class=\"dataframe\">\n",
              "  <thead>\n",
              "    <tr style=\"text-align: right;\">\n",
              "      <th></th>\n",
              "      <th>Fabricante</th>\n",
              "      <th>Combustível</th>\n",
              "      <th>Portas</th>\n",
              "      <th>Estilo Chassis</th>\n",
              "      <th>Tração</th>\n",
              "      <th>Comprimento</th>\n",
              "      <th>Largura</th>\n",
              "      <th>Altura</th>\n",
              "      <th>Tipo de motor</th>\n",
              "      <th>Número de cilindros</th>\n",
              "      <th>Potência (HP)</th>\n",
              "      <th>Preço</th>\n",
              "    </tr>\n",
              "  </thead>\n",
              "  <tbody>\n",
              "    <tr>\n",
              "      <th>136</th>\n",
              "      <td>subaru</td>\n",
              "      <td>gas</td>\n",
              "      <td>2.0</td>\n",
              "      <td>hatch</td>\n",
              "      <td>dianteira</td>\n",
              "      <td>156,90</td>\n",
              "      <td>63,40</td>\n",
              "      <td>53,70</td>\n",
              "      <td>ohcf</td>\n",
              "      <td>4</td>\n",
              "      <td>69,00</td>\n",
              "      <td>5118.0</td>\n",
              "    </tr>\n",
              "  </tbody>\n",
              "</table>\n",
              "</div>"
            ],
            "text/plain": [
              "    Fabricante Combustível  Portas  ... Número de cilindros Potência (HP)   Preço\n",
              "136     subaru         gas     2.0  ...                   4         69,00  5118.0\n",
              "\n",
              "[1 rows x 12 columns]"
            ]
          },
          "metadata": {},
          "execution_count": 181
        }
      ]
    }
  ]
}