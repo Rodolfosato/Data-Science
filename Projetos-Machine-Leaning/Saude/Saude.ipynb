{
  "nbformat": 4,
  "nbformat_minor": 0,
  "metadata": {
    "colab": {
      "name": "Atividade4.ipynb",
      "provenance": [],
      "collapsed_sections": []
    },
    "kernelspec": {
      "name": "python3",
      "display_name": "Python 3"
    }
  },
  "cells": [
    {
      "cell_type": "markdown",
      "metadata": {
        "id": "KVvLawJScG23"
      },
      "source": [
        "Trabalho Rodolfo Sato Junior e Akilles Yuri Nakabori\n"
      ]
    },
    {
      "cell_type": "code",
      "source": [
        "from google.colab import drive\n",
        "drive.mount('/content/drive')"
      ],
      "metadata": {
        "colab": {
          "base_uri": "https://localhost:8080/"
        },
        "id": "2ls77RgsN5fV",
        "outputId": "ad16d7bf-b6ce-423b-f513-6641e8a70a85"
      },
      "execution_count": 1,
      "outputs": [
        {
          "output_type": "stream",
          "name": "stdout",
          "text": [
            "Mounted at /content/drive\n"
          ]
        }
      ]
    },
    {
      "cell_type": "code",
      "source": [
        "import pandas as pd\n",
        "import numpy as np\n",
        "import matplotlib.pyplot as plt\n",
        "\n",
        "from sklearn.cluster import KMeans\n",
        "from sklearn.datasets import make_blobs\n",
        "\n",
        "base = pd.read_excel(\"/content/drive/MyDrive/Colab Notebooks/Bases/Atividade 6 - Saude.xlsx\")\n",
        "base"
      ],
      "metadata": {
        "colab": {
          "base_uri": "https://localhost:8080/",
          "height": 424
        },
        "id": "hy2Tv41kOGUh",
        "outputId": "b7c795d1-25b8-4d20-d0f4-5802c3b917d9"
      },
      "execution_count": 16,
      "outputs": [
        {
          "output_type": "execute_result",
          "data": {
            "text/html": [
              "<div>\n",
              "<style scoped>\n",
              "    .dataframe tbody tr th:only-of-type {\n",
              "        vertical-align: middle;\n",
              "    }\n",
              "\n",
              "    .dataframe tbody tr th {\n",
              "        vertical-align: top;\n",
              "    }\n",
              "\n",
              "    .dataframe thead th {\n",
              "        text-align: right;\n",
              "    }\n",
              "</style>\n",
              "<table border=\"1\" class=\"dataframe\">\n",
              "  <thead>\n",
              "    <tr style=\"text-align: right;\">\n",
              "      <th></th>\n",
              "      <th>Peso</th>\n",
              "      <th>Colesterol</th>\n",
              "      <th>Genero</th>\n",
              "    </tr>\n",
              "  </thead>\n",
              "  <tbody>\n",
              "    <tr>\n",
              "      <th>0</th>\n",
              "      <td>102</td>\n",
              "      <td>111</td>\n",
              "      <td>1</td>\n",
              "    </tr>\n",
              "    <tr>\n",
              "      <th>1</th>\n",
              "      <td>115</td>\n",
              "      <td>135</td>\n",
              "      <td>1</td>\n",
              "    </tr>\n",
              "    <tr>\n",
              "      <th>2</th>\n",
              "      <td>115</td>\n",
              "      <td>136</td>\n",
              "      <td>1</td>\n",
              "    </tr>\n",
              "    <tr>\n",
              "      <th>3</th>\n",
              "      <td>140</td>\n",
              "      <td>167</td>\n",
              "      <td>0</td>\n",
              "    </tr>\n",
              "    <tr>\n",
              "      <th>4</th>\n",
              "      <td>130</td>\n",
              "      <td>158</td>\n",
              "      <td>1</td>\n",
              "    </tr>\n",
              "    <tr>\n",
              "      <th>...</th>\n",
              "      <td>...</td>\n",
              "      <td>...</td>\n",
              "      <td>...</td>\n",
              "    </tr>\n",
              "    <tr>\n",
              "      <th>542</th>\n",
              "      <td>172</td>\n",
              "      <td>207</td>\n",
              "      <td>1</td>\n",
              "    </tr>\n",
              "    <tr>\n",
              "      <th>543</th>\n",
              "      <td>129</td>\n",
              "      <td>157</td>\n",
              "      <td>1</td>\n",
              "    </tr>\n",
              "    <tr>\n",
              "      <th>544</th>\n",
              "      <td>107</td>\n",
              "      <td>115</td>\n",
              "      <td>1</td>\n",
              "    </tr>\n",
              "    <tr>\n",
              "      <th>545</th>\n",
              "      <td>117</td>\n",
              "      <td>147</td>\n",
              "      <td>1</td>\n",
              "    </tr>\n",
              "    <tr>\n",
              "      <th>546</th>\n",
              "      <td>148</td>\n",
              "      <td>176</td>\n",
              "      <td>1</td>\n",
              "    </tr>\n",
              "  </tbody>\n",
              "</table>\n",
              "<p>547 rows × 3 columns</p>\n",
              "</div>"
            ],
            "text/plain": [
              "     Peso  Colesterol  Genero\n",
              "0     102         111       1\n",
              "1     115         135       1\n",
              "2     115         136       1\n",
              "3     140         167       0\n",
              "4     130         158       1\n",
              "..    ...         ...     ...\n",
              "542   172         207       1\n",
              "543   129         157       1\n",
              "544   107         115       1\n",
              "545   117         147       1\n",
              "546   148         176       1\n",
              "\n",
              "[547 rows x 3 columns]"
            ]
          },
          "metadata": {},
          "execution_count": 16
        }
      ]
    },
    {
      "cell_type": "code",
      "source": [
        "base.describe()"
      ],
      "metadata": {
        "colab": {
          "base_uri": "https://localhost:8080/",
          "height": 300
        },
        "id": "naYPrBa4QZPc",
        "outputId": "f01dd710-3e69-4b95-8432-774ed710499f"
      },
      "execution_count": 15,
      "outputs": [
        {
          "output_type": "execute_result",
          "data": {
            "text/html": [
              "<div>\n",
              "<style scoped>\n",
              "    .dataframe tbody tr th:only-of-type {\n",
              "        vertical-align: middle;\n",
              "    }\n",
              "\n",
              "    .dataframe tbody tr th {\n",
              "        vertical-align: top;\n",
              "    }\n",
              "\n",
              "    .dataframe thead th {\n",
              "        text-align: right;\n",
              "    }\n",
              "</style>\n",
              "<table border=\"1\" class=\"dataframe\">\n",
              "  <thead>\n",
              "    <tr style=\"text-align: right;\">\n",
              "      <th></th>\n",
              "      <th>Peso</th>\n",
              "      <th>Colesterol</th>\n",
              "      <th>Genero</th>\n",
              "    </tr>\n",
              "  </thead>\n",
              "  <tbody>\n",
              "    <tr>\n",
              "      <th>count</th>\n",
              "      <td>547.000000</td>\n",
              "      <td>547.000000</td>\n",
              "      <td>547.000000</td>\n",
              "    </tr>\n",
              "    <tr>\n",
              "      <th>mean</th>\n",
              "      <td>143.572212</td>\n",
              "      <td>170.433272</td>\n",
              "      <td>0.513711</td>\n",
              "    </tr>\n",
              "    <tr>\n",
              "      <th>std</th>\n",
              "      <td>30.837275</td>\n",
              "      <td>39.147189</td>\n",
              "      <td>0.500269</td>\n",
              "    </tr>\n",
              "    <tr>\n",
              "      <th>min</th>\n",
              "      <td>95.000000</td>\n",
              "      <td>102.000000</td>\n",
              "      <td>0.000000</td>\n",
              "    </tr>\n",
              "    <tr>\n",
              "      <th>25%</th>\n",
              "      <td>116.000000</td>\n",
              "      <td>136.000000</td>\n",
              "      <td>0.000000</td>\n",
              "    </tr>\n",
              "    <tr>\n",
              "      <th>50%</th>\n",
              "      <td>140.000000</td>\n",
              "      <td>169.000000</td>\n",
              "      <td>1.000000</td>\n",
              "    </tr>\n",
              "    <tr>\n",
              "      <th>75%</th>\n",
              "      <td>171.000000</td>\n",
              "      <td>208.000000</td>\n",
              "      <td>1.000000</td>\n",
              "    </tr>\n",
              "    <tr>\n",
              "      <th>max</th>\n",
              "      <td>203.000000</td>\n",
              "      <td>235.000000</td>\n",
              "      <td>1.000000</td>\n",
              "    </tr>\n",
              "  </tbody>\n",
              "</table>\n",
              "</div>"
            ],
            "text/plain": [
              "             Peso  Colesterol      Genero\n",
              "count  547.000000  547.000000  547.000000\n",
              "mean   143.572212  170.433272    0.513711\n",
              "std     30.837275   39.147189    0.500269\n",
              "min     95.000000  102.000000    0.000000\n",
              "25%    116.000000  136.000000    0.000000\n",
              "50%    140.000000  169.000000    1.000000\n",
              "75%    171.000000  208.000000    1.000000\n",
              "max    203.000000  235.000000    1.000000"
            ]
          },
          "metadata": {},
          "execution_count": 15
        }
      ]
    },
    {
      "cell_type": "code",
      "metadata": {
        "colab": {
          "base_uri": "https://localhost:8080/"
        },
        "id": "wdMt_56NTYDA",
        "outputId": "972f2e12-0227-4aa3-ed64-74bbf6494811"
      },
      "source": [
        "# k=2\n",
        "y_pred1 = KMeans(n_clusters=2, random_state=170).fit_predict(base)\n",
        "y_pred1"
      ],
      "execution_count": 30,
      "outputs": [
        {
          "output_type": "execute_result",
          "data": {
            "text/plain": [
              "array([1, 1, 1, 1, 1, 0, 1, 0, 0, 0, 1, 0, 1, 0, 1, 0, 1, 0, 0, 1, 0, 1,\n",
              "       0, 1, 1, 0, 1, 0, 0, 0, 0, 1, 0, 1, 0, 1, 0, 1, 1, 0, 0, 0, 1, 0,\n",
              "       0, 1, 0, 1, 1, 1, 1, 0, 0, 0, 1, 0, 0, 0, 1, 0, 1, 0, 1, 0, 1, 0,\n",
              "       1, 0, 0, 1, 1, 1, 1, 0, 0, 1, 1, 0, 1, 1, 1, 1, 0, 1, 1, 1, 1, 1,\n",
              "       1, 1, 0, 0, 1, 1, 1, 1, 1, 0, 1, 1, 0, 0, 1, 1, 0, 0, 1, 1, 1, 0,\n",
              "       1, 0, 1, 1, 0, 1, 1, 1, 1, 1, 0, 1, 0, 0, 0, 1, 0, 1, 0, 1, 0, 1,\n",
              "       0, 0, 1, 0, 1, 0, 1, 1, 0, 1, 0, 0, 0, 0, 1, 0, 1, 0, 1, 0, 1, 1,\n",
              "       0, 0, 0, 1, 0, 0, 1, 0, 1, 1, 1, 1, 0, 0, 0, 1, 0, 0, 0, 1, 0, 1,\n",
              "       0, 1, 0, 1, 0, 1, 0, 0, 1, 1, 1, 1, 0, 0, 1, 1, 0, 1, 1, 1, 1, 0,\n",
              "       1, 1, 1, 0, 1, 1, 1, 0, 0, 1, 1, 1, 1, 1, 0, 1, 1, 0, 0, 1, 1, 0,\n",
              "       0, 1, 1, 1, 0, 1, 0, 1, 1, 0, 1, 1, 1, 1, 1, 0, 1, 0, 0, 0, 1, 0,\n",
              "       1, 0, 1, 0, 1, 0, 0, 1, 0, 1, 0, 1, 1, 0, 1, 0, 0, 0, 0, 1, 0, 1,\n",
              "       0, 1, 0, 1, 1, 0, 0, 0, 1, 0, 0, 1, 0, 1, 1, 1, 1, 0, 0, 0, 1, 0,\n",
              "       0, 0, 1, 0, 1, 0, 1, 0, 1, 0, 1, 0, 0, 1, 1, 1, 1, 0, 0, 1, 1, 0,\n",
              "       1, 1, 1, 1, 0, 1, 1, 1, 1, 1, 1, 1, 0, 0, 1, 1, 1, 1, 1, 0, 1, 1,\n",
              "       0, 0, 1, 1, 0, 0, 1, 1, 1, 0, 1, 0, 1, 1, 0, 1, 1, 1, 1, 1, 0, 1,\n",
              "       0, 0, 0, 1, 0, 1, 0, 1, 0, 1, 0, 0, 1, 0, 1, 0, 1, 1, 0, 1, 0, 0,\n",
              "       0, 0, 1, 0, 1, 0, 1, 0, 1, 1, 0, 0, 0, 1, 0, 0, 1, 0, 1, 1, 1, 1,\n",
              "       0, 0, 0, 1, 0, 0, 0, 1, 0, 1, 0, 1, 0, 1, 0, 1, 0, 0, 1, 1, 1, 1,\n",
              "       0, 0, 1, 1, 0, 1, 1, 1, 1, 0, 1, 1, 1, 0, 1, 1, 1, 0, 0, 1, 1, 1,\n",
              "       1, 1, 0, 1, 1, 0, 0, 1, 1, 0, 0, 1, 0, 1, 0, 1, 0, 1, 1, 0, 1, 1,\n",
              "       1, 1, 1, 0, 1, 0, 0, 0, 1, 0, 1, 0, 1, 0, 1, 0, 0, 1, 0, 1, 0, 1,\n",
              "       1, 0, 1, 0, 0, 0, 0, 1, 0, 1, 0, 1, 0, 1, 1, 0, 0, 0, 1, 0, 0, 1,\n",
              "       0, 1, 1, 1, 1, 0, 0, 0, 1, 0, 0, 0, 1, 0, 1, 0, 1, 0, 1, 0, 1, 0,\n",
              "       0, 1, 1, 1, 1, 0, 0, 1, 1, 0, 1, 1, 1, 1, 0, 1, 1, 1, 0],\n",
              "      dtype=int32)"
            ]
          },
          "metadata": {},
          "execution_count": 30
        }
      ]
    },
    {
      "cell_type": "markdown",
      "source": [
        "Podemos ver que o grupo `roxo` é o grupo de risco e o ``amarelo`` é o grupo saudável."
      ],
      "metadata": {
        "id": "FdR96CrBbGpo"
      }
    },
    {
      "cell_type": "code",
      "metadata": {
        "id": "7rTCrfY9Hk2F",
        "colab": {
          "base_uri": "https://localhost:8080/",
          "height": 407
        },
        "outputId": "f4f6b66a-462a-47b7-c146-8191fd59eb60"
      },
      "source": [
        "plt.figure(figsize=(6, 6))\n",
        "plt.scatter(base[\"Peso\"], base[\"Colesterol\"], c=y_pred1)\n",
        "plt.title(\"k=2\")"
      ],
      "execution_count": 37,
      "outputs": [
        {
          "output_type": "execute_result",
          "data": {
            "text/plain": [
              "Text(0.5, 1.0, 'k=2')"
            ]
          },
          "metadata": {},
          "execution_count": 37
        },
        {
          "output_type": "display_data",
          "data": {
            "image/png": "[encoded data removed]",
            "text/plain": [
              "<Figure size 432x432 with 1 Axes>"
            ]
          },
          "metadata": {
            "needs_background": "light"
          }
        }
      ]
    },
    {
      "cell_type": "code",
      "source": [
        "# k=4\n",
        "y_pred2 = KMeans(n_clusters=4, random_state=170).fit_predict(base)\n",
        "y_pred2"
      ],
      "metadata": {
        "colab": {
          "base_uri": "https://localhost:8080/"
        },
        "id": "-qnWDnbYVCjh",
        "outputId": "27519fc8-5133-4b7e-fe0b-f1e4d6b855c2"
      },
      "execution_count": 32,
      "outputs": [
        {
          "output_type": "execute_result",
          "data": {
            "text/plain": [
              "array([3, 3, 3, 1, 1, 0, 3, 2, 0, 0, 3, 0, 3, 2, 1, 0, 3, 0, 2, 1, 2, 3,\n",
              "       0, 1, 3, 0, 3, 0, 0, 2, 0, 1, 2, 3, 0, 3, 0, 3, 1, 2, 0, 2, 1, 0,\n",
              "       0, 1, 0, 1, 1, 3, 1, 2, 0, 2, 3, 2, 2, 0, 1, 2, 3, 2, 3, 0, 1, 2,\n",
              "       3, 2, 0, 1, 1, 1, 1, 2, 0, 3, 1, 0, 3, 1, 1, 3, 0, 1, 3, 1, 2, 1,\n",
              "       1, 3, 2, 0, 3, 3, 3, 1, 1, 2, 3, 3, 2, 0, 3, 1, 0, 0, 3, 2, 3, 0,\n",
              "       1, 0, 1, 3, 0, 3, 1, 1, 2, 1, 0, 3, 2, 0, 0, 3, 0, 3, 2, 1, 0, 3,\n",
              "       0, 2, 1, 2, 3, 0, 2, 3, 0, 3, 0, 0, 2, 0, 2, 2, 3, 0, 3, 0, 3, 1,\n",
              "       0, 0, 2, 1, 0, 0, 1, 0, 1, 1, 3, 1, 2, 0, 2, 3, 0, 2, 0, 1, 2, 3,\n",
              "       2, 3, 0, 2, 2, 3, 2, 0, 1, 1, 1, 1, 2, 0, 3, 1, 0, 3, 1, 1, 3, 0,\n",
              "       1, 3, 1, 2, 2, 1, 3, 2, 0, 3, 3, 3, 1, 1, 2, 3, 3, 2, 0, 3, 1, 0,\n",
              "       0, 1, 2, 3, 0, 1, 0, 1, 3, 0, 3, 1, 1, 2, 1, 0, 3, 2, 0, 0, 3, 0,\n",
              "       3, 2, 1, 0, 3, 0, 2, 1, 2, 3, 0, 2, 3, 0, 3, 0, 0, 2, 0, 2, 2, 3,\n",
              "       0, 3, 0, 3, 1, 0, 0, 2, 1, 0, 0, 1, 0, 1, 1, 3, 1, 0, 0, 2, 3, 2,\n",
              "       2, 0, 1, 2, 3, 2, 3, 0, 2, 2, 3, 2, 0, 1, 1, 1, 1, 2, 0, 3, 1, 0,\n",
              "       3, 1, 1, 3, 0, 1, 3, 1, 2, 2, 1, 3, 2, 0, 3, 3, 3, 1, 1, 2, 3, 3,\n",
              "       2, 0, 3, 1, 0, 0, 3, 2, 3, 0, 1, 0, 1, 3, 0, 3, 1, 1, 2, 1, 0, 3,\n",
              "       2, 0, 0, 3, 0, 3, 2, 1, 0, 3, 0, 2, 1, 2, 3, 0, 2, 3, 0, 3, 0, 0,\n",
              "       2, 0, 1, 2, 3, 0, 3, 0, 3, 1, 0, 0, 2, 1, 0, 0, 1, 0, 1, 1, 3, 1,\n",
              "       2, 0, 2, 3, 2, 2, 0, 1, 2, 3, 2, 3, 0, 2, 2, 3, 2, 0, 1, 1, 1, 1,\n",
              "       2, 0, 3, 1, 0, 3, 1, 1, 3, 0, 1, 3, 1, 2, 1, 1, 3, 2, 0, 3, 3, 3,\n",
              "       1, 1, 2, 3, 3, 2, 0, 3, 1, 0, 0, 1, 2, 3, 0, 1, 0, 1, 3, 0, 3, 1,\n",
              "       1, 2, 1, 0, 1, 2, 0, 0, 3, 0, 3, 2, 1, 0, 3, 0, 2, 1, 2, 3, 0, 2,\n",
              "       3, 0, 3, 0, 0, 2, 0, 2, 2, 3, 0, 3, 0, 3, 1, 0, 0, 2, 1, 0, 0, 1,\n",
              "       0, 1, 1, 3, 1, 2, 0, 2, 3, 2, 2, 0, 1, 2, 3, 2, 3, 0, 2, 2, 3, 2,\n",
              "       0, 2, 1, 1, 1, 2, 0, 3, 1, 0, 3, 1, 1, 3, 0, 1, 3, 1, 2],\n",
              "      dtype=int32)"
            ]
          },
          "metadata": {},
          "execution_count": 32
        }
      ]
    },
    {
      "cell_type": "markdown",
      "source": [
        "Podemos ver que o grupo `roxo` é o grupo de alto risco, o `verde` é o grupo de risco moderadamente alto, `azul` é o grupo de risco moderadamente baixo e o grupo `amarelo` é o grupo de baixo risco."
      ],
      "metadata": {
        "id": "wy3cK8IQb6yi"
      }
    },
    {
      "cell_type": "code",
      "source": [
        "plt.figure(figsize=(6, 6))\n",
        "plt.scatter(base[\"Peso\"], base[\"Colesterol\"], c=y_pred2)\n",
        "plt.title(\"k=4\")"
      ],
      "metadata": {
        "colab": {
          "base_uri": "https://localhost:8080/",
          "height": 407
        },
        "id": "MXqIntXQVHHS",
        "outputId": "79d0d72f-bde0-485c-a9bc-6a2d8d0377a3"
      },
      "execution_count": 33,
      "outputs": [
        {
          "output_type": "execute_result",
          "data": {
            "text/plain": [
              "Text(0.5, 1.0, 'k=4')"
            ]
          },
          "metadata": {},
          "execution_count": 33
        },
        {
          "output_type": "display_data",
          "data": {
            "image/png": "[encoded data removed]",
            "text/plain": [
              "<Figure size 432x432 with 1 Axes>"
            ]
          },
          "metadata": {
            "needs_background": "light"
          }
        }
      ]
    }
  ]
}